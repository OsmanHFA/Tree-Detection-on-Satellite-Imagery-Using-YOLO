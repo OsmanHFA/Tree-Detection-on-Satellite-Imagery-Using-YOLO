{
 "cells": [
  {
   "cell_type": "markdown",
   "metadata": {
    "id": "VQmdArW-p4jg"
   },
   "source": [
    "# YOLOv8 Installation"
   ]
  },
  {
   "cell_type": "code",
   "execution_count": 1,
   "metadata": {
    "tags": []
   },
   "outputs": [],
   "source": [
    "import os \n",
    "os.chdir('/home/jupyter/ee_tree_counting/Models/YOLOv8 Architecture/YOLOv8l')\n",
    "import matplotlib.pyplot as plt\n",
    "from ultralytics import YOLO\n",
    "from IPython.display import display, Image\n",
    "from PIL import Image\n",
    "import pandas as pd\n",
    "import numpy as np"
   ]
  },
  {
   "cell_type": "code",
   "execution_count": 4,
   "metadata": {
    "tags": []
   },
   "outputs": [
    {
     "name": "stdout",
     "output_type": "stream",
     "text": [
      "Ultralytics YOLOv8.2.48 🚀 Python-3.10.14 torch-1.13.1+cu117 CUDA:0 (Tesla T4, 14918MiB)\n",
      "Setup complete ✅ (4 CPUs, 14.6 GB RAM, 46.6/98.2 GB disk)\n"
     ]
    }
   ],
   "source": [
    "# Install YOLOv8\n",
    "%pip install ultralytics\n",
    "\n",
    "import ultralytics\n",
    "ultralytics.checks()"
   ]
  },
  {
   "cell_type": "markdown",
   "metadata": {
    "id": "CyZYHyZZqIlY"
   },
   "source": [
    "# YOLOv8 Architecture"
   ]
  },
  {
   "cell_type": "code",
   "execution_count": 32,
   "metadata": {
    "colab": {
     "base_uri": "https://localhost:8080/"
    },
    "id": "d3AuK-mnsJhP",
    "outputId": "48f7dae0-8456-469f-bb8d-0d9f4df42142",
    "tags": []
   },
   "outputs": [
    {
     "name": "stdout",
     "output_type": "stream",
     "text": [
      "--2024-07-25 12:25:50--  https://raw.githubusercontent.com/ultralytics/ultralytics/main/ultralytics/cfg/models/v8/yolov8.yaml\n",
      "Resolving raw.githubusercontent.com (raw.githubusercontent.com)... 185.199.109.133, 185.199.108.133, 185.199.111.133, ...\n",
      "Connecting to raw.githubusercontent.com (raw.githubusercontent.com)|185.199.109.133|:443... connected.\n",
      "HTTP request sent, awaiting response... 200 OK\n",
      "Length: 1889 (1.8K) [text/plain]\n",
      "Saving to: ‘yolov8.yaml.1’\n",
      "\n",
      "yolov8.yaml.1       100%[===================>]   1.84K  --.-KB/s    in 0s      \n",
      "\n",
      "2024-07-25 12:25:50 (109 MB/s) - ‘yolov8.yaml.1’ saved [1889/1889]\n",
      "\n"
     ]
    }
   ],
   "source": [
    "# Download the YOLOv8 Architecture File\n",
    "!wget https://raw.githubusercontent.com/ultralytics/ultralytics/main/ultralytics/cfg/models/v8/yolov8.yaml"
   ]
  },
  {
   "cell_type": "markdown",
   "metadata": {
    "id": "LutYYwPWgXjc"
   },
   "source": [
    "<div>\n",
    "  <img src=\"https://www.stunningvisionai.com/course/yolov8-architecture.png\" height=\"750\"/>\n",
    "</div>"
   ]
  },
  {
   "cell_type": "code",
   "execution_count": 7,
   "metadata": {
    "id": "ZlblfRfkD6kP",
    "tags": []
   },
   "outputs": [],
   "source": [
    "# Create YOLOv8l Architecture\n",
    "!cp yolov8.yaml yolov8l.yaml"
   ]
  },
  {
   "cell_type": "markdown",
   "metadata": {
    "id": "NfIJMopstsYw"
   },
   "source": [
    "## Modified YOLOv8 Architecture for Small Objects"
   ]
  },
  {
   "cell_type": "code",
   "execution_count": 8,
   "metadata": {
    "id": "DYt_pPSGscWq",
    "tags": []
   },
   "outputs": [],
   "source": [
    "# Copy YOLOv8l Small Architecture\n",
    "!cp yolov8.yaml yolov8l-small.yaml"
   ]
  },
  {
   "cell_type": "markdown",
   "metadata": {
    "id": "7V0toB1Nvo7a"
   },
   "source": [
    "<div>\n",
    "  <img src=\"https://www.stunningvisionai.com/course/yolov8-architecture-modification-for-small-object.png\" height=\"685\"/>\n",
    "</div>"
   ]
  },
  {
   "cell_type": "markdown",
   "metadata": {
    "id": "8VwkaWFwvvw4"
   },
   "source": [
    "<div>\n",
    "  <img src=\"https://www.stunningvisionai.com/course/yolov8-architecture-for-small-object.png\" height=\"692\"/>\n",
    "</div>"
   ]
  },
  {
   "cell_type": "markdown",
   "metadata": {
    "id": "DBs5U1oywEZ9"
   },
   "source": [
    "### Training"
   ]
  },
  {
   "cell_type": "code",
   "execution_count": 30,
   "metadata": {
    "colab": {
     "base_uri": "https://localhost:8080/"
    },
    "id": "_8vOzla1wHXb",
    "outputId": "76706f65-9080-4c34-ad49-87fdbcc2087f",
    "tags": []
   },
   "outputs": [
    {
     "name": "stdout",
     "output_type": "stream",
     "text": [
      "New https://pypi.org/project/ultralytics/8.2.64 available 😃 Update with 'pip install -U ultralytics'\n",
      "Ultralytics YOLOv8.2.48 🚀 Python-3.10.14 torch-1.13.1+cu117 CUDA:0 (Tesla T4, 14918MiB)\n",
      "WARNING ⚠️ Upgrade to torch>=2.0.0 for deterministic training.\n",
      "\u001b[34m\u001b[1mengine/trainer: \u001b[0mtask=detect, mode=train, model=yolov8l.yaml, data=/home/jupyter/ee_tree_counting/Data/Combined Dataset YOLO No Aug/data.yaml, epochs=100, time=None, patience=50, batch=12, imgsz=640, save=True, save_period=-1, cache=False, device=0, workers=2, project=None, name=yolov8l_normal11, exist_ok=False, pretrained=True, optimizer=auto, verbose=True, seed=0, deterministic=True, single_cls=False, rect=False, cos_lr=False, close_mosaic=10, resume=False, amp=True, fraction=1.0, profile=False, freeze=None, multi_scale=False, overlap_mask=True, mask_ratio=4, dropout=0.0, val=True, split=val, save_json=False, save_hybrid=False, conf=None, iou=0.7, max_det=300, half=False, dnn=False, plots=True, source=None, vid_stride=1, stream_buffer=False, visualize=False, augment=False, agnostic_nms=False, classes=None, retina_masks=False, embed=None, show=False, save_frames=False, save_txt=False, save_conf=False, save_crop=False, show_labels=True, show_conf=True, show_boxes=True, line_width=None, format=torchscript, keras=False, optimize=False, int8=False, dynamic=False, simplify=False, opset=None, workspace=4, nms=False, lr0=0.01, lrf=0.01, momentum=0.937, weight_decay=0.0005, warmup_epochs=3.0, warmup_momentum=0.8, warmup_bias_lr=0.1, box=7.5, cls=0.5, dfl=1.5, pose=12.0, kobj=1.0, label_smoothing=0.0, nbs=64, hsv_h=0.015, hsv_s=0.7, hsv_v=0.4, degrees=0.0, translate=0.1, scale=0.5, shear=0.0, perspective=0.0, flipud=0.0, fliplr=0.5, bgr=0.0, mosaic=1.0, mixup=0.0, copy_paste=0.0, auto_augment=randaugment, erasing=0.4, crop_fraction=1.0, cfg=None, tracker=botsort.yaml, save_dir=runs/detect/yolov8l_normal11\n",
      "Overriding model.yaml nc=80 with nc=1\n",
      "\n",
      "                   from  n    params  module                                       arguments                     \n",
      "  0                  -1  1      1856  ultralytics.nn.modules.conv.Conv             [3, 64, 3, 2]                 \n",
      "  1                  -1  1     73984  ultralytics.nn.modules.conv.Conv             [64, 128, 3, 2]               \n",
      "  2                  -1  3    279808  ultralytics.nn.modules.block.C2f             [128, 128, 3, True]           \n",
      "  3                  -1  1    295424  ultralytics.nn.modules.conv.Conv             [128, 256, 3, 2]              \n",
      "  4                  -1  6   2101248  ultralytics.nn.modules.block.C2f             [256, 256, 6, True]           \n",
      "  5                  -1  1   1180672  ultralytics.nn.modules.conv.Conv             [256, 512, 3, 2]              \n",
      "  6                  -1  6   8396800  ultralytics.nn.modules.block.C2f             [512, 512, 6, True]           \n",
      "  7                  -1  1   2360320  ultralytics.nn.modules.conv.Conv             [512, 512, 3, 2]              \n",
      "  8                  -1  3   4461568  ultralytics.nn.modules.block.C2f             [512, 512, 3, True]           \n",
      "  9                  -1  1    656896  ultralytics.nn.modules.block.SPPF            [512, 512, 5]                 \n",
      " 10                  -1  1         0  torch.nn.modules.upsampling.Upsample         [None, 2, 'nearest']          \n",
      " 11             [-1, 6]  1         0  ultralytics.nn.modules.conv.Concat           [1]                           \n",
      " 12                  -1  3   4723712  ultralytics.nn.modules.block.C2f             [1024, 512, 3]                \n",
      " 13                  -1  1         0  torch.nn.modules.upsampling.Upsample         [None, 2, 'nearest']          \n",
      " 14             [-1, 4]  1         0  ultralytics.nn.modules.conv.Concat           [1]                           \n",
      " 15                  -1  3   1247744  ultralytics.nn.modules.block.C2f             [768, 256, 3]                 \n",
      " 16                  -1  1    590336  ultralytics.nn.modules.conv.Conv             [256, 256, 3, 2]              \n",
      " 17            [-1, 12]  1         0  ultralytics.nn.modules.conv.Concat           [1]                           \n",
      " 18                  -1  3   4592640  ultralytics.nn.modules.block.C2f             [768, 512, 3]                 \n",
      " 19                  -1  1   2360320  ultralytics.nn.modules.conv.Conv             [512, 512, 3, 2]              \n",
      " 20             [-1, 9]  1         0  ultralytics.nn.modules.conv.Concat           [1]                           \n",
      " 21                  -1  3   4723712  ultralytics.nn.modules.block.C2f             [1024, 512, 3]                \n",
      " 22        [15, 18, 21]  1   5583571  ultralytics.nn.modules.head.Detect           [1, [256, 512, 512]]          \n",
      "YOLOv8l summary: 365 layers, 43630611 parameters, 43630595 gradients, 165.4 GFLOPs\n",
      "\n",
      "Freezing layer 'model.22.dfl.conv.weight'\n",
      "\u001b[34m\u001b[1mAMP: \u001b[0mrunning Automatic Mixed Precision (AMP) checks with YOLOv8n...\n",
      "Downloading https://github.com/ultralytics/assets/releases/download/v8.2.0/yolov8n.pt to 'yolov8n.pt'...\n",
      "100%|██████████████████████████████████████| 6.25M/6.25M [00:00<00:00, 31.7MB/s]\n",
      "\u001b[34m\u001b[1mAMP: \u001b[0mchecks passed ✅\n",
      "\u001b[34m\u001b[1mtrain: \u001b[0mScanning /home/jupyter/ee_tree_counting/Data/Combined Dataset YOLO No Aug\u001b[0m\n",
      "WARNING ⚠️ Box and segment counts should be equal, but got len(segments) = 123, len(boxes) = 31838. To resolve this only boxes will be used and all segments will be removed. To avoid this please supply either a detect or segment dataset, not a detect-segment mixed dataset.\n",
      "\u001b[34m\u001b[1malbumentations: \u001b[0mBlur(p=0.01, blur_limit=(3, 7)), MedianBlur(p=0.01, blur_limit=(3, 7)), ToGray(p=0.01), CLAHE(p=0.01, clip_limit=(1, 4.0), tile_grid_size=(8, 8))\n",
      "\u001b[34m\u001b[1mval: \u001b[0mScanning /home/jupyter/ee_tree_counting/Data/Combined Dataset YOLO No Aug/v\u001b[0m\n",
      "Plotting labels to runs/detect/yolov8l_normal11/labels.jpg... \n",
      "\u001b[34m\u001b[1moptimizer:\u001b[0m 'optimizer=auto' found, ignoring 'lr0=0.01' and 'momentum=0.937' and determining best 'optimizer', 'lr0' and 'momentum' automatically... \n",
      "\u001b[34m\u001b[1moptimizer:\u001b[0m AdamW(lr=0.002, momentum=0.9) with parameter groups 97 weight(decay=0.0), 104 weight(decay=0.00046875), 103 bias(decay=0.0)\n",
      "Image sizes 640 train, 640 val\n",
      "Using 2 dataloader workers\n",
      "Logging results to \u001b[1mruns/detect/yolov8l_normal11\u001b[0m\n",
      "Starting training for 100 epochs...\n",
      "\n",
      "      Epoch    GPU_mem   box_loss   cls_loss   dfl_loss  Instances       Size\n",
      "      1/100      9.03G      5.458      3.019      3.915        827        640: 1\n",
      "                 Class     Images  Instances      Box(P          R      mAP50  m\n",
      "                   all         59       4347    0.00441     0.0179    0.00233   0.000653\n",
      "\n",
      "      Epoch    GPU_mem   box_loss   cls_loss   dfl_loss  Instances       Size\n",
      "      2/100      9.87G      4.026      1.992      3.289        480        640: 1\n",
      "                 Class     Images  Instances      Box(P          R      mAP50  m\n",
      "                   all         59       4347    0.00514     0.0209    0.00263   0.000567\n",
      "\n",
      "      Epoch    GPU_mem   box_loss   cls_loss   dfl_loss  Instances       Size\n",
      "      3/100      9.68G      3.078      1.557      2.643        946        640: 1\n",
      "                 Class     Images  Instances      Box(P          R      mAP50  m\n",
      "                   all         59       4347      0.353      0.379      0.203     0.0652\n",
      "\n",
      "      Epoch    GPU_mem   box_loss   cls_loss   dfl_loss  Instances       Size\n",
      "      4/100        10G      2.806      1.455      2.412        830        640: 1\n",
      "                 Class     Images  Instances      Box(P          R      mAP50  m\n",
      "                   all         59       4347      0.379      0.413       0.33      0.109\n",
      "\n",
      "      Epoch    GPU_mem   box_loss   cls_loss   dfl_loss  Instances       Size\n",
      "      5/100      10.8G      2.598      1.334      2.217        733        640: 1\n",
      "                 Class     Images  Instances      Box(P          R      mAP50  m\n",
      "                   all         59       4347      0.389      0.343      0.239     0.0719\n",
      "\n",
      "      Epoch    GPU_mem   box_loss   cls_loss   dfl_loss  Instances       Size\n",
      "      6/100      9.09G      2.515      1.232      2.069        670        640: 1\n",
      "                 Class     Images  Instances      Box(P          R      mAP50  m\n",
      "                   all         59       4347      0.668      0.657      0.611       0.22\n",
      "\n",
      "      Epoch    GPU_mem   box_loss   cls_loss   dfl_loss  Instances       Size\n",
      "      7/100      10.8G      2.479      1.245      2.012        944        640: 1\n",
      "                 Class     Images  Instances      Box(P          R      mAP50  m\n",
      "                   all         59       4347       0.65      0.654      0.565      0.197\n",
      "\n",
      "      Epoch    GPU_mem   box_loss   cls_loss   dfl_loss  Instances       Size\n",
      "      8/100      10.1G      2.412      1.183      1.903        522        640: 1\n",
      "                 Class     Images  Instances      Box(P          R      mAP50  m\n",
      "                   all         59       4347      0.671       0.71      0.645      0.247\n",
      "\n",
      "      Epoch    GPU_mem   box_loss   cls_loss   dfl_loss  Instances       Size\n",
      "      9/100      9.98G      2.364      1.183      1.893        805        640: 1\n",
      "                 Class     Images  Instances      Box(P          R      mAP50  m\n",
      "                   all         59       4347      0.681      0.673      0.642      0.243\n",
      "\n",
      "      Epoch    GPU_mem   box_loss   cls_loss   dfl_loss  Instances       Size\n",
      "     10/100      10.2G      2.375      1.206      1.846        556        640: 1\n",
      "                 Class     Images  Instances      Box(P          R      mAP50  m\n",
      "                   all         59       4347      0.739      0.732       0.73      0.278\n",
      "\n",
      "      Epoch    GPU_mem   box_loss   cls_loss   dfl_loss  Instances       Size\n",
      "     11/100      9.93G      2.364      1.212      1.834        636        640: 1\n",
      "                 Class     Images  Instances      Box(P          R      mAP50  m\n",
      "                   all         59       4347      0.704      0.713      0.696      0.275\n",
      "\n",
      "      Epoch    GPU_mem   box_loss   cls_loss   dfl_loss  Instances       Size\n",
      "     12/100      10.7G      2.281      1.131      1.781        897        640: 1\n",
      "                 Class     Images  Instances      Box(P          R      mAP50  m\n",
      "                   all         59       4347      0.774      0.744       0.74      0.288\n",
      "\n",
      "      Epoch    GPU_mem   box_loss   cls_loss   dfl_loss  Instances       Size\n",
      "     13/100      9.96G      2.294      1.118      1.748        790        640: 1\n",
      "                 Class     Images  Instances      Box(P          R      mAP50  m\n",
      "                   all         59       4347      0.775      0.701      0.705      0.288\n",
      "\n",
      "      Epoch    GPU_mem   box_loss   cls_loss   dfl_loss  Instances       Size\n",
      "     14/100      9.59G      2.257      1.137      1.739        675        640: 1\n",
      "                 Class     Images  Instances      Box(P          R      mAP50  m\n",
      "                   all         59       4347      0.733      0.678      0.686      0.276\n",
      "\n",
      "      Epoch    GPU_mem   box_loss   cls_loss   dfl_loss  Instances       Size\n",
      "     15/100      10.6G      2.226      1.142      1.736        711        640: 1\n",
      "                 Class     Images  Instances      Box(P          R      mAP50  m\n",
      "                   all         59       4347      0.789      0.728      0.748       0.31\n",
      "\n",
      "      Epoch    GPU_mem   box_loss   cls_loss   dfl_loss  Instances       Size\n",
      "     16/100      10.5G      2.213      1.081      1.683        861        640: 1\n",
      "                 Class     Images  Instances      Box(P          R      mAP50  m\n",
      "                   all         59       4347      0.786       0.73      0.781      0.319\n",
      "\n",
      "      Epoch    GPU_mem   box_loss   cls_loss   dfl_loss  Instances       Size\n",
      "     17/100      10.5G      2.186      1.112      1.694        857        640: 1\n",
      "                 Class     Images  Instances      Box(P          R      mAP50  m\n",
      "                   all         59       4347      0.807      0.746      0.771       0.33\n",
      "\n",
      "      Epoch    GPU_mem   box_loss   cls_loss   dfl_loss  Instances       Size\n",
      "     18/100      10.7G      2.183      1.094      1.666        799        640: 1\n",
      "                 Class     Images  Instances      Box(P          R      mAP50  m\n",
      "                   all         59       4347      0.822      0.755      0.795      0.335\n",
      "\n",
      "      Epoch    GPU_mem   box_loss   cls_loss   dfl_loss  Instances       Size\n",
      "     19/100      10.1G      2.146      1.085      1.654        875        640: 1\n",
      "                 Class     Images  Instances      Box(P          R      mAP50  m\n",
      "                   all         59       4347      0.842      0.753        0.8      0.341\n",
      "\n",
      "      Epoch    GPU_mem   box_loss   cls_loss   dfl_loss  Instances       Size\n",
      "     20/100      10.1G      2.147      1.064      1.628       1197        640: 1\n",
      "                 Class     Images  Instances      Box(P          R      mAP50  m\n",
      "                   all         59       4347      0.832      0.764       0.79      0.335\n",
      "\n",
      "      Epoch    GPU_mem   box_loss   cls_loss   dfl_loss  Instances       Size\n",
      "     21/100      9.77G      2.075      1.042      1.616        917        640: 1\n",
      "                 Class     Images  Instances      Box(P          R      mAP50  m\n",
      "                   all         59       4347      0.856      0.773      0.831       0.35\n",
      "\n",
      "      Epoch    GPU_mem   box_loss   cls_loss   dfl_loss  Instances       Size\n",
      "     22/100      11.2G      2.083      1.046      1.587        634        640: 1\n",
      "                 Class     Images  Instances      Box(P          R      mAP50  m\n",
      "                   all         59       4347      0.846      0.754      0.791      0.354\n",
      "\n",
      "      Epoch    GPU_mem   box_loss   cls_loss   dfl_loss  Instances       Size\n",
      "     23/100      9.48G      2.058      1.051      1.581        897        640: 1\n",
      "                 Class     Images  Instances      Box(P          R      mAP50  m\n",
      "                   all         59       4347      0.831      0.755        0.8      0.353\n",
      "\n",
      "      Epoch    GPU_mem   box_loss   cls_loss   dfl_loss  Instances       Size\n",
      "     24/100      10.2G      2.052      1.001      1.553        672        640: 1\n",
      "                 Class     Images  Instances      Box(P          R      mAP50  m\n",
      "                   all         59       4347      0.851      0.759      0.816      0.358\n",
      "\n",
      "      Epoch    GPU_mem   box_loss   cls_loss   dfl_loss  Instances       Size\n",
      "     25/100       9.5G      2.045      1.057      1.567        353        640: 1\n",
      "                 Class     Images  Instances      Box(P          R      mAP50  m\n",
      "                   all         59       4347      0.832      0.773      0.802       0.36\n",
      "\n",
      "      Epoch    GPU_mem   box_loss   cls_loss   dfl_loss  Instances       Size\n",
      "     26/100      10.7G       2.03      1.015      1.539        822        640: 1\n",
      "                 Class     Images  Instances      Box(P          R      mAP50  m\n",
      "                   all         59       4347      0.874      0.792      0.847      0.376\n",
      "\n",
      "      Epoch    GPU_mem   box_loss   cls_loss   dfl_loss  Instances       Size\n",
      "     27/100      10.8G       2.05      1.031      1.543       1257        640: 1\n",
      "                 Class     Images  Instances      Box(P          R      mAP50  m\n",
      "                   all         59       4347      0.892        0.8      0.853      0.384\n",
      "\n",
      "      Epoch    GPU_mem   box_loss   cls_loss   dfl_loss  Instances       Size\n",
      "     28/100      9.84G      1.973      1.017      1.535        753        640: 1\n",
      "                 Class     Images  Instances      Box(P          R      mAP50  m\n",
      "                   all         59       4347      0.844      0.771      0.841      0.387\n",
      "\n",
      "      Epoch    GPU_mem   box_loss   cls_loss   dfl_loss  Instances       Size\n",
      "     29/100      11.4G      1.972      1.005      1.519        981        640: 1\n",
      "                 Class     Images  Instances      Box(P          R      mAP50  m\n",
      "                   all         59       4347       0.88      0.791      0.845       0.39\n",
      "\n",
      "      Epoch    GPU_mem   box_loss   cls_loss   dfl_loss  Instances       Size\n",
      "     30/100      9.98G      1.948     0.9765      1.518        691        640: 1\n",
      "                 Class     Images  Instances      Box(P          R      mAP50  m\n",
      "                   all         59       4347       0.89       0.82      0.858      0.378\n",
      "\n",
      "      Epoch    GPU_mem   box_loss   cls_loss   dfl_loss  Instances       Size\n",
      "     31/100      10.8G      1.963      1.015      1.517        829        640: 1\n",
      "                 Class     Images  Instances      Box(P          R      mAP50  m\n",
      "                   all         59       4347      0.858      0.786      0.847      0.394\n",
      "\n",
      "      Epoch    GPU_mem   box_loss   cls_loss   dfl_loss  Instances       Size\n",
      "     32/100      9.98G      1.962      1.035      1.508        270        640: 1\n",
      "                 Class     Images  Instances      Box(P          R      mAP50  m\n",
      "                   all         59       4347       0.83      0.772      0.819      0.377\n",
      "\n",
      "      Epoch    GPU_mem   box_loss   cls_loss   dfl_loss  Instances       Size\n",
      "     33/100      9.81G      1.934      0.969      1.486       1045        640: 1\n",
      "                 Class     Images  Instances      Box(P          R      mAP50  m\n",
      "                   all         59       4347       0.86      0.785      0.824      0.376\n",
      "\n",
      "      Epoch    GPU_mem   box_loss   cls_loss   dfl_loss  Instances       Size\n",
      "     34/100       9.3G      1.947     0.9879      1.485        819        640: 1\n",
      "                 Class     Images  Instances      Box(P          R      mAP50  m\n",
      "                   all         59       4347      0.866      0.806      0.862      0.403\n",
      "\n",
      "      Epoch    GPU_mem   box_loss   cls_loss   dfl_loss  Instances       Size\n",
      "     35/100      9.11G      1.914     0.9783      1.477       1108        640: 1\n",
      "                 Class     Images  Instances      Box(P          R      mAP50  m\n",
      "                   all         59       4347      0.867      0.811      0.845      0.385\n",
      "\n",
      "      Epoch    GPU_mem   box_loss   cls_loss   dfl_loss  Instances       Size\n",
      "     36/100      10.4G      1.886     0.9663      1.465        706        640: 1\n",
      "                 Class     Images  Instances      Box(P          R      mAP50  m\n",
      "                   all         59       4347      0.881      0.809      0.876      0.392\n",
      "\n",
      "      Epoch    GPU_mem   box_loss   cls_loss   dfl_loss  Instances       Size\n",
      "     37/100      9.18G      1.895     0.9601      1.469        627        640: 1\n",
      "                 Class     Images  Instances      Box(P          R      mAP50  m\n",
      "                   all         59       4347      0.889      0.803      0.865      0.394\n",
      "\n",
      "      Epoch    GPU_mem   box_loss   cls_loss   dfl_loss  Instances       Size\n",
      "     38/100      10.3G      1.875     0.9448      1.467        857        640: 1\n",
      "                 Class     Images  Instances      Box(P          R      mAP50  m\n",
      "                   all         59       4347      0.883      0.811      0.869      0.409\n",
      "\n",
      "      Epoch    GPU_mem   box_loss   cls_loss   dfl_loss  Instances       Size\n",
      "     39/100      9.68G      1.879      0.947      1.464        752        640: 1\n",
      "                 Class     Images  Instances      Box(P          R      mAP50  m\n",
      "                   all         59       4347      0.887      0.813      0.873      0.415\n",
      "\n",
      "      Epoch    GPU_mem   box_loss   cls_loss   dfl_loss  Instances       Size\n",
      "     40/100      9.73G      1.883     0.9582       1.49        624        640: 1\n",
      "                 Class     Images  Instances      Box(P          R      mAP50  m\n",
      "                   all         59       4347      0.859      0.812      0.865      0.401\n",
      "\n",
      "      Epoch    GPU_mem   box_loss   cls_loss   dfl_loss  Instances       Size\n",
      "     41/100      10.8G      1.865     0.9403      1.451        747        640: 1\n",
      "                 Class     Images  Instances      Box(P          R      mAP50  m\n",
      "                   all         59       4347      0.873       0.79      0.836      0.388\n",
      "\n",
      "      Epoch    GPU_mem   box_loss   cls_loss   dfl_loss  Instances       Size\n",
      "     42/100      10.3G      1.861     0.9254      1.465        791        640: 1\n",
      "                 Class     Images  Instances      Box(P          R      mAP50  m\n",
      "                   all         59       4347      0.881      0.833       0.88      0.417\n",
      "\n",
      "      Epoch    GPU_mem   box_loss   cls_loss   dfl_loss  Instances       Size\n",
      "     43/100      10.2G      1.823     0.9294       1.42        745        640: 1\n",
      "                 Class     Images  Instances      Box(P          R      mAP50  m\n",
      "                   all         59       4347       0.89      0.798      0.847      0.391\n",
      "\n",
      "      Epoch    GPU_mem   box_loss   cls_loss   dfl_loss  Instances       Size\n",
      "     44/100      10.5G      1.862     0.9215      1.453        944        640: 1\n",
      "                 Class     Images  Instances      Box(P          R      mAP50  m\n",
      "                   all         59       4347      0.802      0.781      0.803      0.373\n",
      "\n",
      "      Epoch    GPU_mem   box_loss   cls_loss   dfl_loss  Instances       Size\n",
      "     45/100      9.24G      1.818     0.9272      1.428        583        640: 1\n",
      "                 Class     Images  Instances      Box(P          R      mAP50  m\n",
      "                   all         59       4347      0.876      0.838      0.885      0.408\n",
      "\n",
      "      Epoch    GPU_mem   box_loss   cls_loss   dfl_loss  Instances       Size\n",
      "     46/100      9.97G      1.829     0.9113      1.432        638        640: 1\n",
      "                 Class     Images  Instances      Box(P          R      mAP50  m\n",
      "                   all         59       4347       0.89      0.809       0.87      0.397\n",
      "\n",
      "      Epoch    GPU_mem   box_loss   cls_loss   dfl_loss  Instances       Size\n",
      "     47/100      10.2G      1.823     0.9087       1.41        625        640: 1\n",
      "                 Class     Images  Instances      Box(P          R      mAP50  m\n",
      "                   all         59       4347        0.9      0.829      0.882      0.419\n",
      "\n",
      "      Epoch    GPU_mem   box_loss   cls_loss   dfl_loss  Instances       Size\n",
      "     48/100      9.65G      1.781     0.8822      1.413       1038        640: 1\n",
      "                 Class     Images  Instances      Box(P          R      mAP50  m\n",
      "                   all         59       4347      0.901      0.832      0.881      0.422\n",
      "\n",
      "      Epoch    GPU_mem   box_loss   cls_loss   dfl_loss  Instances       Size\n",
      "     49/100      10.2G      1.795     0.8828       1.41        608        640: 1\n",
      "                 Class     Images  Instances      Box(P          R      mAP50  m\n",
      "                   all         59       4347      0.879      0.834      0.886      0.437\n",
      "\n",
      "      Epoch    GPU_mem   box_loss   cls_loss   dfl_loss  Instances       Size\n",
      "     50/100      10.2G      1.774     0.8783      1.408        742        640: 1\n",
      "                 Class     Images  Instances      Box(P          R      mAP50  m\n",
      "                   all         59       4347      0.893      0.819      0.887      0.402\n",
      "\n",
      "      Epoch    GPU_mem   box_loss   cls_loss   dfl_loss  Instances       Size\n",
      "     51/100      10.6G      1.773     0.8628      1.395       1176        640: 1\n",
      "                 Class     Images  Instances      Box(P          R      mAP50  m\n",
      "                   all         59       4347      0.887      0.822      0.874      0.419\n",
      "\n",
      "      Epoch    GPU_mem   box_loss   cls_loss   dfl_loss  Instances       Size\n",
      "     52/100      9.44G      1.753      0.863      1.396        772        640: 1\n",
      "                 Class     Images  Instances      Box(P          R      mAP50  m\n",
      "                   all         59       4347      0.896      0.815      0.864       0.42\n",
      "\n",
      "      Epoch    GPU_mem   box_loss   cls_loss   dfl_loss  Instances       Size\n",
      "     53/100      10.2G      1.825     0.8634      1.405        842        640: 1\n",
      "                 Class     Images  Instances      Box(P          R      mAP50  m\n",
      "                   all         59       4347      0.817      0.783      0.807      0.361\n",
      "\n",
      "      Epoch    GPU_mem   box_loss   cls_loss   dfl_loss  Instances       Size\n",
      "     54/100      9.47G      1.767     0.8812      1.403        890        640: 1\n",
      "                 Class     Images  Instances      Box(P          R      mAP50  m\n",
      "                   all         59       4347      0.877      0.823      0.856      0.413\n",
      "\n",
      "      Epoch    GPU_mem   box_loss   cls_loss   dfl_loss  Instances       Size\n",
      "     55/100      9.79G      1.771     0.8501      1.367        784        640: 1\n",
      "                 Class     Images  Instances      Box(P          R      mAP50  m\n",
      "                   all         59       4347      0.875      0.791      0.821       0.38\n",
      "\n",
      "      Epoch    GPU_mem   box_loss   cls_loss   dfl_loss  Instances       Size\n",
      "     56/100      10.5G      1.732     0.8426      1.387        927        640: 1\n",
      "                 Class     Images  Instances      Box(P          R      mAP50  m\n",
      "                   all         59       4347      0.864      0.828       0.88      0.418\n",
      "\n",
      "      Epoch    GPU_mem   box_loss   cls_loss   dfl_loss  Instances       Size\n",
      "     57/100      10.8G      1.736     0.8402      1.382       1139        640: 1\n",
      "                 Class     Images  Instances      Box(P          R      mAP50  m\n",
      "                   all         59       4347      0.899      0.844      0.895      0.438\n",
      "\n",
      "      Epoch    GPU_mem   box_loss   cls_loss   dfl_loss  Instances       Size\n",
      "     58/100      9.24G      1.748     0.8405       1.38        787        640: 1\n",
      "                 Class     Images  Instances      Box(P          R      mAP50  m\n",
      "                   all         59       4347      0.883      0.825      0.854      0.413\n",
      "\n",
      "      Epoch    GPU_mem   box_loss   cls_loss   dfl_loss  Instances       Size\n",
      "     59/100      10.1G      1.723     0.8208      1.371        791        640: 1\n",
      "                 Class     Images  Instances      Box(P          R      mAP50  m\n",
      "                   all         59       4347      0.903      0.852      0.901      0.439\n",
      "\n",
      "      Epoch    GPU_mem   box_loss   cls_loss   dfl_loss  Instances       Size\n",
      "     60/100      10.9G      1.693      0.804      1.352        736        640: 1\n",
      "                 Class     Images  Instances      Box(P          R      mAP50  m\n",
      "                   all         59       4347      0.896      0.844      0.899      0.444\n",
      "\n",
      "      Epoch    GPU_mem   box_loss   cls_loss   dfl_loss  Instances       Size\n",
      "     61/100      9.74G       1.67     0.7978      1.359        627        640: 1\n",
      "                 Class     Images  Instances      Box(P          R      mAP50  m\n",
      "                   all         59       4347      0.899      0.853      0.906      0.452\n",
      "\n",
      "      Epoch    GPU_mem   box_loss   cls_loss   dfl_loss  Instances       Size\n",
      "     62/100      9.12G      1.713     0.7902       1.34        988        640: 1\n",
      "                 Class     Images  Instances      Box(P          R      mAP50  m\n",
      "                   all         59       4347      0.912      0.861       0.91      0.453\n",
      "\n",
      "      Epoch    GPU_mem   box_loss   cls_loss   dfl_loss  Instances       Size\n",
      "     63/100      10.2G      1.667     0.7804      1.327        941        640: 1\n",
      "                 Class     Images  Instances      Box(P          R      mAP50  m\n",
      "                   all         59       4347      0.917      0.863      0.902      0.456\n",
      "\n",
      "      Epoch    GPU_mem   box_loss   cls_loss   dfl_loss  Instances       Size\n",
      "     64/100      11.3G      1.662     0.7757      1.334        467        640: 1\n",
      "                 Class     Images  Instances      Box(P          R      mAP50  m\n",
      "                   all         59       4347      0.901      0.852      0.905      0.436\n",
      "\n",
      "      Epoch    GPU_mem   box_loss   cls_loss   dfl_loss  Instances       Size\n",
      "     65/100        10G      1.655     0.7679      1.334        805        640: 1\n",
      "                 Class     Images  Instances      Box(P          R      mAP50  m\n",
      "                   all         59       4347      0.924      0.868      0.917      0.464\n",
      "\n",
      "      Epoch    GPU_mem   box_loss   cls_loss   dfl_loss  Instances       Size\n",
      "     66/100        10G       1.64     0.7724      1.326       1143        640: 1\n",
      "                 Class     Images  Instances      Box(P          R      mAP50  m\n",
      "                   all         59       4347      0.926      0.853      0.907      0.466\n",
      "\n",
      "      Epoch    GPU_mem   box_loss   cls_loss   dfl_loss  Instances       Size\n",
      "     67/100      11.1G      1.626     0.7627      1.324        724        640: 1\n",
      "                 Class     Images  Instances      Box(P          R      mAP50  m\n",
      "                   all         59       4347       0.91      0.855       0.88      0.435\n",
      "\n",
      "      Epoch    GPU_mem   box_loss   cls_loss   dfl_loss  Instances       Size\n",
      "     68/100      11.6G      1.622     0.7415      1.301        829        640: 1\n",
      "                 Class     Images  Instances      Box(P          R      mAP50  m\n",
      "                   all         59       4347      0.915      0.874      0.915      0.463\n",
      "\n",
      "      Epoch    GPU_mem   box_loss   cls_loss   dfl_loss  Instances       Size\n",
      "     69/100      10.2G      1.568     0.7291      1.298        864        640: 1\n",
      "                 Class     Images  Instances      Box(P          R      mAP50  m\n",
      "                   all         59       4347       0.93       0.87      0.922      0.458\n",
      "\n",
      "      Epoch    GPU_mem   box_loss   cls_loss   dfl_loss  Instances       Size\n",
      "     70/100      10.4G      1.595     0.7325      1.296        982        640: 1\n",
      "                 Class     Images  Instances      Box(P          R      mAP50  m\n",
      "                   all         59       4347      0.923       0.87      0.918      0.461\n",
      "\n",
      "      Epoch    GPU_mem   box_loss   cls_loss   dfl_loss  Instances       Size\n",
      "     71/100      10.2G      1.606     0.7398      1.323        486        640: 1\n",
      "                 Class     Images  Instances      Box(P          R      mAP50  m\n",
      "                   all         59       4347      0.932       0.86      0.911      0.475\n",
      "\n",
      "      Epoch    GPU_mem   box_loss   cls_loss   dfl_loss  Instances       Size\n",
      "     72/100      9.04G      1.573     0.7257      1.287        597        640: 1\n",
      "                 Class     Images  Instances      Box(P          R      mAP50  m\n",
      "                   all         59       4347      0.912      0.846       0.91      0.441\n",
      "\n",
      "      Epoch    GPU_mem   box_loss   cls_loss   dfl_loss  Instances       Size\n",
      "     73/100      10.8G      1.558     0.7152      1.289        624        640: 1\n",
      "                 Class     Images  Instances      Box(P          R      mAP50  m\n",
      "                   all         59       4347      0.925      0.891      0.929       0.48\n",
      "\n",
      "      Epoch    GPU_mem   box_loss   cls_loss   dfl_loss  Instances       Size\n",
      "     74/100      11.7G      1.559     0.7094      1.296        949        640: 1\n",
      "                 Class     Images  Instances      Box(P          R      mAP50  m\n",
      "                   all         59       4347      0.929      0.879      0.924      0.468\n",
      "\n",
      "      Epoch    GPU_mem   box_loss   cls_loss   dfl_loss  Instances       Size\n",
      "     75/100      9.44G      1.562     0.7049      1.283        888        640: 1\n",
      "                 Class     Images  Instances      Box(P          R      mAP50  m\n",
      "                   all         59       4347      0.906      0.856       0.91      0.448\n",
      "\n",
      "      Epoch    GPU_mem   box_loss   cls_loss   dfl_loss  Instances       Size\n",
      "     76/100      10.2G      1.592     0.7193      1.296        650        640: 1\n",
      "                 Class     Images  Instances      Box(P          R      mAP50  m\n",
      "                   all         59       4347      0.895      0.849      0.899      0.405\n",
      "\n",
      "      Epoch    GPU_mem   box_loss   cls_loss   dfl_loss  Instances       Size\n",
      "     77/100      10.8G      1.539     0.7034      1.283        704        640: 1\n",
      "                 Class     Images  Instances      Box(P          R      mAP50  m\n",
      "                   all         59       4347      0.917      0.866       0.92      0.463\n",
      "\n",
      "      Epoch    GPU_mem   box_loss   cls_loss   dfl_loss  Instances       Size\n",
      "     78/100      9.05G      1.502     0.6896      1.264        863        640: 1\n",
      "                 Class     Images  Instances      Box(P          R      mAP50  m\n",
      "                   all         59       4347      0.921      0.879      0.919      0.489\n",
      "\n",
      "      Epoch    GPU_mem   box_loss   cls_loss   dfl_loss  Instances       Size\n",
      "     79/100       9.8G      1.504     0.6875       1.27       1163        640: 1\n",
      "                 Class     Images  Instances      Box(P          R      mAP50  m\n",
      "                   all         59       4347      0.926      0.882      0.926      0.492\n",
      "\n",
      "      Epoch    GPU_mem   box_loss   cls_loss   dfl_loss  Instances       Size\n",
      "     80/100      9.83G      1.491     0.6827      1.252        831        640: 1\n",
      "                 Class     Images  Instances      Box(P          R      mAP50  m\n",
      "                   all         59       4347       0.93      0.887      0.924      0.502\n",
      "\n",
      "      Epoch    GPU_mem   box_loss   cls_loss   dfl_loss  Instances       Size\n",
      "     81/100      10.9G       1.46     0.6642      1.256        909        640: 1\n",
      "                 Class     Images  Instances      Box(P          R      mAP50  m\n",
      "                   all         59       4347      0.929      0.886      0.926      0.511\n",
      "\n",
      "      Epoch    GPU_mem   box_loss   cls_loss   dfl_loss  Instances       Size\n",
      "     82/100        11G       1.47     0.6729      1.249        620        640: 1\n",
      "                 Class     Images  Instances      Box(P          R      mAP50  m\n",
      "                   all         59       4347      0.937      0.878      0.926      0.508\n",
      "\n",
      "      Epoch    GPU_mem   box_loss   cls_loss   dfl_loss  Instances       Size\n",
      "     83/100      11.2G      1.454     0.6677       1.23        469        640: 1\n",
      "                 Class     Images  Instances      Box(P          R      mAP50  m\n",
      "                   all         59       4347      0.936      0.895      0.934      0.518\n",
      "\n",
      "      Epoch    GPU_mem   box_loss   cls_loss   dfl_loss  Instances       Size\n",
      "     84/100      11.5G      1.438     0.6585      1.233        546        640: 1\n",
      "                 Class     Images  Instances      Box(P          R      mAP50  m\n",
      "                   all         59       4347      0.917      0.879      0.912      0.504\n",
      "\n",
      "      Epoch    GPU_mem   box_loss   cls_loss   dfl_loss  Instances       Size\n",
      "     85/100      9.86G      1.435      0.661      1.243        932        640: 1\n",
      "                 Class     Images  Instances      Box(P          R      mAP50  m\n",
      "                   all         59       4347       0.94      0.877      0.926      0.509\n",
      "\n",
      "      Epoch    GPU_mem   box_loss   cls_loss   dfl_loss  Instances       Size\n",
      "     86/100      10.2G      1.426     0.6442      1.228        931        640: 1\n",
      "                 Class     Images  Instances      Box(P          R      mAP50  m\n",
      "                   all         59       4347      0.928      0.897      0.934      0.516\n",
      "\n",
      "      Epoch    GPU_mem   box_loss   cls_loss   dfl_loss  Instances       Size\n",
      "     87/100      9.83G      1.391     0.6379      1.201        921        640: 1\n",
      "                 Class     Images  Instances      Box(P          R      mAP50  m\n",
      "                   all         59       4347      0.932      0.898      0.935      0.512\n",
      "\n",
      "      Epoch    GPU_mem   box_loss   cls_loss   dfl_loss  Instances       Size\n",
      "     88/100      10.5G        1.4     0.6407      1.199        896        640: 1\n",
      "                 Class     Images  Instances      Box(P          R      mAP50  m\n",
      "                   all         59       4347      0.933      0.904      0.937      0.523\n",
      "\n",
      "      Epoch    GPU_mem   box_loss   cls_loss   dfl_loss  Instances       Size\n",
      "     89/100      10.4G      1.365     0.6239      1.211        763        640: 1\n",
      "                 Class     Images  Instances      Box(P          R      mAP50  m\n",
      "                   all         59       4347      0.934      0.899       0.94      0.529\n",
      "\n",
      "      Epoch    GPU_mem   box_loss   cls_loss   dfl_loss  Instances       Size\n",
      "     90/100      10.8G      1.366     0.6286      1.202        774        640: 1\n",
      "                 Class     Images  Instances      Box(P          R      mAP50  m\n",
      "                   all         59       4347      0.945      0.899      0.945      0.532\n",
      "Closing dataloader mosaic\n",
      "\u001b[34m\u001b[1malbumentations: \u001b[0mBlur(p=0.01, blur_limit=(3, 7)), MedianBlur(p=0.01, blur_limit=(3, 7)), ToGray(p=0.01), CLAHE(p=0.01, clip_limit=(1, 4.0), tile_grid_size=(8, 8))\n",
      "\n",
      "      Epoch    GPU_mem   box_loss   cls_loss   dfl_loss  Instances       Size\n",
      "     91/100      9.26G      1.398     0.6495      1.249        796        640: 1\n",
      "                 Class     Images  Instances      Box(P          R      mAP50  m\n",
      "                   all         59       4347      0.946      0.894      0.938      0.528\n",
      "\n",
      "      Epoch    GPU_mem   box_loss   cls_loss   dfl_loss  Instances       Size\n",
      "     92/100      10.2G      1.322     0.6214       1.21        490        640: 1\n",
      "                 Class     Images  Instances      Box(P          R      mAP50  m\n",
      "                   all         59       4347      0.944      0.893      0.935      0.528\n",
      "\n",
      "      Epoch    GPU_mem   box_loss   cls_loss   dfl_loss  Instances       Size\n",
      "     93/100      8.41G      1.325     0.6185      1.221        534        640: 1\n",
      "                 Class     Images  Instances      Box(P          R      mAP50  m\n",
      "                   all         59       4347      0.936      0.905      0.941      0.522\n",
      "\n",
      "      Epoch    GPU_mem   box_loss   cls_loss   dfl_loss  Instances       Size\n",
      "     94/100      8.43G      1.314     0.6128      1.194        604        640: 1\n",
      "                 Class     Images  Instances      Box(P          R      mAP50  m\n",
      "                   all         59       4347      0.947        0.9      0.938      0.533\n",
      "\n",
      "      Epoch    GPU_mem   box_loss   cls_loss   dfl_loss  Instances       Size\n",
      "     95/100      9.25G      1.294     0.6022      1.184        611        640: 1\n",
      "                 Class     Images  Instances      Box(P          R      mAP50  m\n",
      "                   all         59       4347      0.935      0.897      0.935      0.534\n",
      "\n",
      "      Epoch    GPU_mem   box_loss   cls_loss   dfl_loss  Instances       Size\n",
      "     96/100       8.4G      1.302     0.6049        1.2        493        640: 1\n",
      "                 Class     Images  Instances      Box(P          R      mAP50  m\n",
      "                   all         59       4347      0.933      0.904      0.934      0.539\n",
      "\n",
      "      Epoch    GPU_mem   box_loss   cls_loss   dfl_loss  Instances       Size\n",
      "     97/100      9.09G      1.253     0.5915      1.186        600        640: 1\n",
      "                 Class     Images  Instances      Box(P          R      mAP50  m\n",
      "                   all         59       4347      0.937      0.908      0.939      0.544\n",
      "\n",
      "      Epoch    GPU_mem   box_loss   cls_loss   dfl_loss  Instances       Size\n",
      "     98/100       8.4G       1.24     0.5853       1.17        714        640: 1\n",
      "                 Class     Images  Instances      Box(P          R      mAP50  m\n",
      "                   all         59       4347      0.937      0.907      0.941      0.537\n",
      "\n",
      "      Epoch    GPU_mem   box_loss   cls_loss   dfl_loss  Instances       Size\n",
      "     99/100      8.59G       1.24     0.5838      1.174        498        640: 1\n",
      "                 Class     Images  Instances      Box(P          R      mAP50  m\n",
      "                   all         59       4347      0.939       0.91      0.942      0.547\n",
      "\n",
      "      Epoch    GPU_mem   box_loss   cls_loss   dfl_loss  Instances       Size\n",
      "    100/100      8.64G      1.242     0.5826      1.169        581        640: 1\n",
      "                 Class     Images  Instances      Box(P          R      mAP50  m\n",
      "                   all         59       4347      0.929      0.916      0.941      0.541\n",
      "\n",
      "100 epochs completed in 0.668 hours.\n",
      "Optimizer stripped from runs/detect/yolov8l_normal11/weights/last.pt, 87.6MB\n",
      "Optimizer stripped from runs/detect/yolov8l_normal11/weights/best.pt, 87.6MB\n",
      "\n",
      "Validating runs/detect/yolov8l_normal11/weights/best.pt...\n",
      "Ultralytics YOLOv8.2.48 🚀 Python-3.10.14 torch-1.13.1+cu117 CUDA:0 (Tesla T4, 14918MiB)\n",
      "YOLOv8l summary (fused): 268 layers, 43607379 parameters, 0 gradients, 164.8 GFLOPs\n",
      "                 Class     Images  Instances      Box(P          R      mAP50  m\n",
      "                   all         59       4347      0.939       0.91      0.942      0.547\n",
      "Speed: 2.5ms preprocess, 16.8ms inference, 0.0ms loss, 1.3ms postprocess per image\n",
      "Results saved to \u001b[1mruns/detect/yolov8l_normal11\u001b[0m\n",
      "💡 Learn more at https://docs.ultralytics.com/modes/train\n"
     ]
    }
   ],
   "source": [
    "# Training Original Model\n",
    "!yolo detect train model=yolov8l.yaml data=\"/home/jupyter/ee_tree_counting/Data/Combined Dataset YOLO No Aug/data.yaml\" workers=2 batch=12 device=0 epochs=100 patience=50 name=yolov8l_normal"
   ]
  },
  {
   "cell_type": "markdown",
   "metadata": {},
   "source": [
    "# Inference on Test Set"
   ]
  },
  {
   "cell_type": "code",
   "execution_count": null,
   "metadata": {
    "tags": []
   },
   "outputs": [],
   "source": [
    "model = YOLO(\"/home/jupyter/ee_tree_counting/Models/YOLOv8 Architecture/YOLOv8l/runs/detect/yolov8l_normal11/weights/best.pt\")  \n",
    "\n",
    "# Creating directory to store results\n",
    "test_images_dir = '/home/jupyter/ee_tree_counting/Data/Combined Dataset YOLO No Aug/test/images'\n",
    "output_dir = '/home/jupyter/ee_tree_counting/Data/Combined Dataset YOLO No Aug/test/YOLOv8l_normal No Aug Inference'\n",
    "os.makedirs(output_dir, exist_ok=True)\n",
    "\n",
    "# List of all test images\n",
    "test_images = [os.path.join(test_images_dir, img) for img in os.listdir(test_images_dir) if img.endswith('.jpg')]\n",
    "test_images.sort()\n",
    "\n",
    "# Run inference on all test images\n",
    "results = model(test_images)  \n",
    "\n",
    "# Visualize and save the results\n",
    "for i, r in enumerate(results):\n",
    "    # Plot results image\n",
    "    im_bgr = r.plot()  # BGR-order numpy array\n",
    "    im_rgb = Image.fromarray(im_bgr[..., ::-1])  # RGB-order PIL image\n",
    "\n",
    "    # Save results to disk\n",
    "    im_rgb.save(os.path.join(output_dir, f\"results_{i}.jpg\"))"
   ]
  },
  {
   "cell_type": "markdown",
   "metadata": {},
   "source": [
    "# Ground Truth and MAE"
   ]
  },
  {
   "cell_type": "code",
   "execution_count": null,
   "metadata": {
    "tags": []
   },
   "outputs": [],
   "source": [
    "label_dir = '/home/jupyter/ee_tree_counting/Data/Combined Dataset YOLO No Aug/test/labels'\n",
    "\n",
    "# List of labels\n",
    "labels = [os.path.join(label_dir, img) for img in os.listdir(label_dir) if img.endswith('.txt')]\n",
    "labels.sort()\n",
    "\n",
    "for idx, label in enumerate(labels):\n",
    "    file = pd.read_csv(label, delimiter=' ', header=None)\n",
    "    print(f'Ground Truth {idx}: {len(file)} trees')"
   ]
  },
  {
   "cell_type": "code",
   "execution_count": 4,
   "metadata": {
    "tags": []
   },
   "outputs": [
    {
     "name": "stdout",
     "output_type": "stream",
     "text": [
      "       Image  Prediction  Ground Truth\n",
      "0    Image 0          89            86\n",
      "1    Image 1           9             7\n",
      "2    Image 2          50            48\n",
      "3    Image 3          47            48\n",
      "4    Image 4          47            48\n",
      "5    Image 5          47            48\n",
      "6    Image 6          65            64\n",
      "7    Image 7          72            69\n",
      "8    Image 8          72            69\n",
      "9    Image 9          72            69\n",
      "10  Image 10          73            69\n",
      "11  Image 11         107           105\n",
      "12  Image 12         103           114\n",
      "13  Image 13         103           114\n",
      "14  Image 14         103           114\n",
      "15  Image 15         102           114\n",
      "16  Image 16          96           109\n",
      "17  Image 17         118            97\n",
      "18  Image 18         164           175\n",
      "19  Image 19          19            20\n",
      "20  Image 20          71            72\n",
      "21  Image 21          71            72\n",
      "22  Image 22          72            72\n",
      "23  Image 23          71            72\n",
      "24  Image 24          88            89\n",
      "25  Image 25          88            89\n",
      "26  Image 26          87            89\n",
      "27  Image 27          87            89\n",
      "28  Image 28          87            89\n",
      "29  Image 29          80            77\n",
      "30  Image 30          80            77\n",
      "31  Image 31          80            77\n",
      "32  Image 32          79            77\n",
      "33  Image 33         131           148\n",
      "34  Image 34         120           112\n",
      "35  Image 35         120           112\n",
      "36  Image 36         120           112\n",
      "37  Image 37         120           112\n",
      "38  Image 38          73            72\n",
      "39  Image 39          73            72\n",
      "40  Image 40          73            72\n",
      "41  Image 41          73            72\n",
      "42  Image 42          76            74\n",
      "43  Image 43          51            50\n",
      "44  Image 44         123           130\n",
      "45  Image 45         123           130\n",
      "46  Image 46         123           130\n",
      "47  Image 47         123           130\n",
      "48  Image 48         123           130\n",
      "49  Image 49          91            89\n",
      "Mean Absolute Error (MAE): 4.64\n"
     ]
    }
   ],
   "source": [
    "# Predictions from YOLO model\n",
    "predictions = [\n",
    "    89, 9, 50, 47, 47, 47, 65, 72, 72, 72, 73, 107, 103, 103, 103, 102, 96, 118, 164, 19,\n",
    "    71, 71, 72, 71, 88, 88, 87, 87, 87, 80, 80, 80, 79, 131, 120, 120, 120, 120, 73, 73,\n",
    "    73, 73, 76, 51, 123, 123, 123, 123, 123, 91\n",
    "]\n",
    "\n",
    "# Ground truth from labels\n",
    "ground_truth = [\n",
    "    86, 7, 48, 48, 48, 48, 64, 69, 69, 69,\n",
    "    69, 105, 114, 114, 114, 114, 109, 97, 175, 20,\n",
    "    72, 72, 72, 72, 89, 89, 89, 89, 89, 77,\n",
    "    77, 77, 77, 148, 112, 112, 112, 112, 72, 72,\n",
    "    72, 72, 74, 50, 130, 130, 130, 130, 130, 89\n",
    "]\n",
    "\n",
    "# Create a DataFrame to store the results\n",
    "results_df = pd.DataFrame({\n",
    "    'Image': [f'Image {i}' for i in range(len(predictions))],\n",
    "    'Prediction': predictions,\n",
    "    'Ground Truth': ground_truth\n",
    "})\n",
    "\n",
    "# Display the dataframe\n",
    "print(results_df)\n",
    "\n",
    "# Calculate Mean Absolute Error (MAE)\n",
    "mae = (results_df['Prediction'] - results_df['Ground Truth']).abs().mean()\n",
    "\n",
    "print(f\"Mean Absolute Error (MAE): {mae:.2f}\")\n",
    "\n"
   ]
  },
  {
   "cell_type": "markdown",
   "metadata": {},
   "source": [
    "# Inference on Satellite Imagery"
   ]
  },
  {
   "cell_type": "code",
   "execution_count": 5,
   "metadata": {
    "tags": []
   },
   "outputs": [
    {
     "name": "stdout",
     "output_type": "stream",
     "text": [
      "\n",
      "0: 640x640 82 trees, 51.9ms\n",
      "1: 640x640 11 trees, 51.9ms\n",
      "2: 640x640 12 trees, 51.9ms\n",
      "Speed: 17.6ms preprocess, 51.9ms inference, 0.9ms postprocess per image at shape (1, 3, 640, 640)\n"
     ]
    }
   ],
   "source": [
    "# Load our trained YOLO model\n",
    "model = YOLO(\"/home/jupyter/ee_tree_counting/Models/YOLOv8 Architecture/runs/detect/yolov8l_normal11/weights/best.pt\")  \n",
    "\n",
    "# Creating directory to store results\n",
    "sat_images_dir = '/home/jupyter/ee_tree_counting/Sample Images'\n",
    "\n",
    "save_dir = '/home/jupyter/ee_tree_counting/Sample Images/YOLOv8l_normal Predictions'\n",
    "\n",
    "# List of all test images\n",
    "sat_imgs = [os.path.join(sat_images_dir, img) for img in os.listdir(sat_images_dir) if img.endswith('.png') or img.endswith('.jpg') or img.endswith('.tif')]\n",
    "sat_imgs.sort()\n",
    "\n",
    "# Run inference on all test images\n",
    "results = model(sat_imgs)\n",
    "\n",
    "# Visualize and save the results\n",
    "for i, r in enumerate(results):\n",
    "    # Plot results image\n",
    "    im_bgr = r.plot()  # BGR-order numpy array\n",
    "    im_rgb = Image.fromarray(im_bgr[..., ::-1])  # RGB-order PIL image\n",
    "\n",
    "    # Save results to disk\n",
    "    im_rgb.save(os.path.join(save_dir, f\"results_{i}.jpg\"))"
   ]
  },
  {
   "cell_type": "code",
   "execution_count": null,
   "metadata": {},
   "outputs": [],
   "source": []
  },
  {
   "cell_type": "code",
   "execution_count": null,
   "metadata": {},
   "outputs": [],
   "source": []
  },
  {
   "cell_type": "code",
   "execution_count": null,
   "metadata": {},
   "outputs": [],
   "source": []
  },
  {
   "cell_type": "markdown",
   "metadata": {
    "id": "U5Br0L9QwM_O"
   },
   "source": [
    "### Training a Modified Model (Small Objects)"
   ]
  },
  {
   "cell_type": "code",
   "execution_count": 2,
   "metadata": {
    "colab": {
     "base_uri": "https://localhost:8080/"
    },
    "id": "hAddduSiwOo4",
    "outputId": "ec4226cf-f6a9-45e6-fb48-54ef5c3793ad",
    "tags": []
   },
   "outputs": [
    {
     "name": "stdout",
     "output_type": "stream",
     "text": [
      "New https://pypi.org/project/ultralytics/8.2.65 available 😃 Update with 'pip install -U ultralytics'\n",
      "Ultralytics YOLOv8.2.48 🚀 Python-3.10.14 torch-1.13.1+cu117 CUDA:0 (Tesla T4, 14918MiB)\n",
      "WARNING ⚠️ Upgrade to torch>=2.0.0 for deterministic training.\n",
      "\u001b[34m\u001b[1mengine/trainer: \u001b[0mtask=detect, mode=train, model=yolov8l-small.yaml, data=/home/jupyter/ee_tree_counting/Data/Combined Dataset YOLO No Aug/data.yaml, epochs=100, time=None, patience=50, batch=12, imgsz=640, save=True, save_period=-1, cache=False, device=0, workers=2, project=None, name=yolov8l_small2, exist_ok=False, pretrained=True, optimizer=auto, verbose=True, seed=0, deterministic=True, single_cls=False, rect=False, cos_lr=False, close_mosaic=10, resume=False, amp=True, fraction=1.0, profile=False, freeze=None, multi_scale=False, overlap_mask=True, mask_ratio=4, dropout=0.0, val=True, split=val, save_json=False, save_hybrid=False, conf=None, iou=0.7, max_det=300, half=False, dnn=False, plots=True, source=None, vid_stride=1, stream_buffer=False, visualize=False, augment=False, agnostic_nms=False, classes=None, retina_masks=False, embed=None, show=False, save_frames=False, save_txt=False, save_conf=False, save_crop=False, show_labels=True, show_conf=True, show_boxes=True, line_width=None, format=torchscript, keras=False, optimize=False, int8=False, dynamic=False, simplify=False, opset=None, workspace=4, nms=False, lr0=0.01, lrf=0.01, momentum=0.937, weight_decay=0.0005, warmup_epochs=3.0, warmup_momentum=0.8, warmup_bias_lr=0.1, box=7.5, cls=0.5, dfl=1.5, pose=12.0, kobj=1.0, label_smoothing=0.0, nbs=64, hsv_h=0.015, hsv_s=0.7, hsv_v=0.4, degrees=0.0, translate=0.1, scale=0.5, shear=0.0, perspective=0.0, flipud=0.0, fliplr=0.5, bgr=0.0, mosaic=1.0, mixup=0.0, copy_paste=0.0, auto_augment=randaugment, erasing=0.4, crop_fraction=1.0, cfg=None, tracker=botsort.yaml, save_dir=runs/detect/yolov8l_small2\n",
      "Overriding model.yaml nc=80 with nc=1\n",
      "\n",
      "                   from  n    params  module                                       arguments                     \n",
      "  0                  -1  1      1856  ultralytics.nn.modules.conv.Conv             [3, 64, 3, 2]                 \n",
      "  1                  -1  1     73984  ultralytics.nn.modules.conv.Conv             [64, 128, 3, 2]               \n",
      "  2                  -1  3    279808  ultralytics.nn.modules.block.C2f             [128, 128, 3, True]           \n",
      "  3                  -1  1    295424  ultralytics.nn.modules.conv.Conv             [128, 256, 3, 2]              \n",
      "  4                  -1  6   2101248  ultralytics.nn.modules.block.C2f             [256, 256, 6, True]           \n",
      "  5                  -1  1   1180672  ultralytics.nn.modules.conv.Conv             [256, 512, 3, 2]              \n",
      "  6                  -1  6   8396800  ultralytics.nn.modules.block.C2f             [512, 512, 6, True]           \n",
      "  7                  -1  1   1182208  ultralytics.nn.modules.block.SPPF            [512, 1024, 5]                \n",
      "  8                  -1  1         0  torch.nn.modules.upsampling.Upsample         [None, 2, 'nearest']          \n",
      "  9             [-1, 4]  1         0  ultralytics.nn.modules.conv.Concat           [1]                           \n",
      " 10                  -1  3   1378816  ultralytics.nn.modules.block.C2f             [1280, 256, 3]                \n",
      " 11                [10]  1   1369681  ultralytics.nn.modules.head.Detect           [1, [256]]                    \n",
      "YOLOv8l-small summary: 204 layers, 16260497 parameters, 16260481 gradients, 119.0 GFLOPs\n",
      "\n",
      "Freezing layer 'model.11.dfl.conv.weight'\n",
      "\u001b[34m\u001b[1mAMP: \u001b[0mrunning Automatic Mixed Precision (AMP) checks with YOLOv8n...\n",
      "\u001b[34m\u001b[1mAMP: \u001b[0mchecks passed ✅\n",
      "\u001b[34m\u001b[1mtrain: \u001b[0mScanning /home/jupyter/ee_tree_counting/Data/Combined Dataset YOLO No Aug\u001b[0m\n",
      "WARNING ⚠️ Box and segment counts should be equal, but got len(segments) = 123, len(boxes) = 31838. To resolve this only boxes will be used and all segments will be removed. To avoid this please supply either a detect or segment dataset, not a detect-segment mixed dataset.\n",
      "\u001b[34m\u001b[1malbumentations: \u001b[0mBlur(p=0.01, blur_limit=(3, 7)), MedianBlur(p=0.01, blur_limit=(3, 7)), ToGray(p=0.01), CLAHE(p=0.01, clip_limit=(1, 4.0), tile_grid_size=(8, 8))\n",
      "\u001b[34m\u001b[1mval: \u001b[0mScanning /home/jupyter/ee_tree_counting/Data/Combined Dataset YOLO No Aug/v\u001b[0m\n",
      "Plotting labels to runs/detect/yolov8l_small2/labels.jpg... \n",
      "\u001b[34m\u001b[1moptimizer:\u001b[0m 'optimizer=auto' found, ignoring 'lr0=0.01' and 'momentum=0.937' and determining best 'optimizer', 'lr0' and 'momentum' automatically... \n",
      "\u001b[34m\u001b[1moptimizer:\u001b[0m AdamW(lr=0.002, momentum=0.9) with parameter groups 54 weight(decay=0.0), 57 weight(decay=0.00046875), 56 bias(decay=0.0)\n",
      "Image sizes 640 train, 640 val\n",
      "Using 2 dataloader workers\n",
      "Logging results to \u001b[1mruns/detect/yolov8l_small2\u001b[0m\n",
      "Starting training for 100 epochs...\n",
      "\n",
      "      Epoch    GPU_mem   box_loss   cls_loss   dfl_loss  Instances       Size\n",
      "      1/100      7.45G      5.402      2.802       3.95        827        640: 1\n",
      "                 Class     Images  Instances      Box(P          R      mAP50  m\n",
      "                   all         59       4347    0.00367      0.015    0.00199   0.000491\n",
      "\n",
      "      Epoch    GPU_mem   box_loss   cls_loss   dfl_loss  Instances       Size\n",
      "      2/100      7.65G      4.055      2.023      3.412        480        640: 1\n",
      "                 Class     Images  Instances      Box(P          R      mAP50  m\n",
      "                   all         59       4347     0.0279      0.114     0.0238     0.0063\n",
      "\n",
      "      Epoch    GPU_mem   box_loss   cls_loss   dfl_loss  Instances       Size\n",
      "      3/100      7.71G      3.144      1.682      2.733        946        640: 1\n",
      "                 Class     Images  Instances      Box(P          R      mAP50  m\n",
      "                   all         59       4347      0.145     0.0771     0.0344     0.0101\n",
      "\n",
      "      Epoch    GPU_mem   box_loss   cls_loss   dfl_loss  Instances       Size\n",
      "      4/100         8G      2.781      1.462        2.4        830        640: 1\n",
      "                 Class     Images  Instances      Box(P          R      mAP50  m\n",
      "                   all         59       4347      0.304      0.256      0.129     0.0365\n",
      "\n",
      "      Epoch    GPU_mem   box_loss   cls_loss   dfl_loss  Instances       Size\n",
      "      5/100      8.58G      2.655      1.369      2.197        733        640: 1\n",
      "                 Class     Images  Instances      Box(P          R      mAP50  m\n",
      "                   all         59       4347      0.448      0.542      0.377      0.133\n",
      "\n",
      "      Epoch    GPU_mem   box_loss   cls_loss   dfl_loss  Instances       Size\n",
      "      6/100      7.31G      2.566      1.343      2.069        670        640: 1\n",
      "                 Class     Images  Instances      Box(P          R      mAP50  m\n",
      "                   all         59       4347      0.476      0.533      0.412      0.155\n",
      "\n",
      "      Epoch    GPU_mem   box_loss   cls_loss   dfl_loss  Instances       Size\n",
      "      7/100      8.58G      2.493      1.351      2.003        944        640: 1\n",
      "                 Class     Images  Instances      Box(P          R      mAP50  m\n",
      "                   all         59       4347      0.451      0.416      0.298     0.0966\n",
      "\n",
      "      Epoch    GPU_mem   box_loss   cls_loss   dfl_loss  Instances       Size\n",
      "      8/100      7.89G      2.439      1.277      1.899        522        640: 1\n",
      "                 Class     Images  Instances      Box(P          R      mAP50  m\n",
      "                   all         59       4347      0.449      0.576      0.428      0.149\n",
      "\n",
      "      Epoch    GPU_mem   box_loss   cls_loss   dfl_loss  Instances       Size\n",
      "      9/100      7.94G      2.382      1.273      1.882        805        640: 1\n",
      "                 Class     Images  Instances      Box(P          R      mAP50  m\n",
      "                   all         59       4347      0.355      0.453      0.312      0.104\n",
      "\n",
      "      Epoch    GPU_mem   box_loss   cls_loss   dfl_loss  Instances       Size\n",
      "     10/100      8.07G      2.361      1.248      1.827        556        640: 1\n",
      "                 Class     Images  Instances      Box(P          R      mAP50  m\n",
      "                   all         59       4347      0.477      0.598       0.48      0.172\n",
      "\n",
      "      Epoch    GPU_mem   box_loss   cls_loss   dfl_loss  Instances       Size\n",
      "     11/100      7.91G      2.351      1.252       1.81        636        640: 1\n",
      "                 Class     Images  Instances      Box(P          R      mAP50  m\n",
      "                   all         59       4347      0.646      0.651      0.618      0.241\n",
      "\n",
      "      Epoch    GPU_mem   box_loss   cls_loss   dfl_loss  Instances       Size\n",
      "     12/100      8.52G      2.303       1.18      1.774        897        640: 1\n",
      "                 Class     Images  Instances      Box(P          R      mAP50  m\n",
      "                   all         59       4347      0.728      0.697      0.692      0.256\n",
      "\n",
      "      Epoch    GPU_mem   box_loss   cls_loss   dfl_loss  Instances       Size\n",
      "     13/100      7.66G      2.261       1.16      1.713        790        640: 1\n",
      "                 Class     Images  Instances      Box(P          R      mAP50  m\n",
      "                   all         59       4347      0.753      0.725      0.705      0.288\n",
      "\n",
      "      Epoch    GPU_mem   box_loss   cls_loss   dfl_loss  Instances       Size\n",
      "     14/100      7.64G      2.252      1.163      1.722        675        640: 1\n",
      "                 Class     Images  Instances      Box(P          R      mAP50  m\n",
      "                   all         59       4347      0.763      0.692      0.699      0.288\n",
      "\n",
      "      Epoch    GPU_mem   box_loss   cls_loss   dfl_loss  Instances       Size\n",
      "     15/100      8.43G      2.223       1.17      1.708        711        640: 1\n",
      "                 Class     Images  Instances      Box(P          R      mAP50  m\n",
      "                   all         59       4347      0.793      0.733      0.748      0.302\n",
      "\n",
      "      Epoch    GPU_mem   box_loss   cls_loss   dfl_loss  Instances       Size\n",
      "     16/100      8.43G      2.195       1.12      1.665        861        640: 1\n",
      "                 Class     Images  Instances      Box(P          R      mAP50  m\n",
      "                   all         59       4347      0.778      0.734      0.745      0.296\n",
      "\n",
      "      Epoch    GPU_mem   box_loss   cls_loss   dfl_loss  Instances       Size\n",
      "     17/100      8.37G      2.187      1.138      1.677        857        640: 1\n",
      "                 Class     Images  Instances      Box(P          R      mAP50  m\n",
      "                   all         59       4347      0.751      0.688      0.683      0.284\n",
      "\n",
      "      Epoch    GPU_mem   box_loss   cls_loss   dfl_loss  Instances       Size\n",
      "     18/100       8.5G      2.191      1.131      1.657        799        640: 1\n",
      "                 Class     Images  Instances      Box(P          R      mAP50  m\n",
      "                   all         59       4347      0.738      0.743      0.714      0.269\n",
      "\n",
      "      Epoch    GPU_mem   box_loss   cls_loss   dfl_loss  Instances       Size\n",
      "     19/100      8.06G      2.134      1.125      1.636        875        640: 1\n",
      "                 Class     Images  Instances      Box(P          R      mAP50  m\n",
      "                   all         59       4347       0.83      0.769      0.802      0.324\n",
      "\n",
      "      Epoch    GPU_mem   box_loss   cls_loss   dfl_loss  Instances       Size\n",
      "     20/100      8.05G       2.12      1.104       1.61       1197        640: 1\n",
      "                 Class     Images  Instances      Box(P          R      mAP50  m\n",
      "                   all         59       4347      0.807      0.761      0.792      0.341\n",
      "\n",
      "      Epoch    GPU_mem   box_loss   cls_loss   dfl_loss  Instances       Size\n",
      "     21/100       7.8G      2.067      1.076      1.603        917        640: 1\n",
      "                 Class     Images  Instances      Box(P          R      mAP50  m\n",
      "                   all         59       4347      0.813      0.752      0.796      0.315\n",
      "\n",
      "      Epoch    GPU_mem   box_loss   cls_loss   dfl_loss  Instances       Size\n",
      "     22/100      8.92G      2.094      1.073      1.583        634        640: 1\n",
      "                 Class     Images  Instances      Box(P          R      mAP50  m\n",
      "                   all         59       4347      0.841       0.76      0.789      0.345\n",
      "\n",
      "      Epoch    GPU_mem   box_loss   cls_loss   dfl_loss  Instances       Size\n",
      "     23/100      7.34G      2.075      1.068      1.575        897        640: 1\n",
      "                 Class     Images  Instances      Box(P          R      mAP50  m\n",
      "                   all         59       4347      0.809      0.731      0.778      0.325\n",
      "\n",
      "      Epoch    GPU_mem   box_loss   cls_loss   dfl_loss  Instances       Size\n",
      "     24/100      8.11G      2.069      1.038       1.55        672        640: 1\n",
      "                 Class     Images  Instances      Box(P          R      mAP50  m\n",
      "                   all         59       4347      0.848      0.764       0.82      0.336\n",
      "\n",
      "      Epoch    GPU_mem   box_loss   cls_loss   dfl_loss  Instances       Size\n",
      "     25/100      7.58G      2.018      1.061      1.542        353        640: 1\n",
      "                 Class     Images  Instances      Box(P          R      mAP50  m\n",
      "                   all         59       4347      0.853       0.77      0.816      0.352\n",
      "\n",
      "      Epoch    GPU_mem   box_loss   cls_loss   dfl_loss  Instances       Size\n",
      "     26/100       8.3G      2.036      1.026      1.532        822        640: 1\n",
      "                 Class     Images  Instances      Box(P          R      mAP50  m\n",
      "                   all         59       4347      0.868      0.769      0.824      0.365\n",
      "\n",
      "      Epoch    GPU_mem   box_loss   cls_loss   dfl_loss  Instances       Size\n",
      "     27/100      8.56G      2.036      1.074       1.53       1257        640: 1\n",
      "                 Class     Images  Instances      Box(P          R      mAP50  m\n",
      "                   all         59       4347       0.85      0.782      0.816      0.348\n",
      "\n",
      "      Epoch    GPU_mem   box_loss   cls_loss   dfl_loss  Instances       Size\n",
      "     28/100      7.85G      1.987      1.037      1.532        753        640: 1\n",
      "                 Class     Images  Instances      Box(P          R      mAP50  m\n",
      "                   all         59       4347      0.864      0.773      0.832      0.377\n",
      "\n",
      "      Epoch    GPU_mem   box_loss   cls_loss   dfl_loss  Instances       Size\n",
      "     29/100      9.05G      1.999      1.043      1.525        981        640: 1\n",
      "                 Class     Images  Instances      Box(P          R      mAP50  m\n",
      "                   all         59       4347      0.854      0.767      0.808      0.349\n",
      "\n",
      "      Epoch    GPU_mem   box_loss   cls_loss   dfl_loss  Instances       Size\n",
      "     30/100      7.74G      1.968      1.008      1.516        691        640: 1\n",
      "                 Class     Images  Instances      Box(P          R      mAP50  m\n",
      "                   all         59       4347      0.882      0.792      0.847      0.356\n",
      "\n",
      "      Epoch    GPU_mem   box_loss   cls_loss   dfl_loss  Instances       Size\n",
      "     31/100      8.72G      1.982      1.032      1.521        829        640: 1\n",
      "                 Class     Images  Instances      Box(P          R      mAP50  m\n",
      "                   all         59       4347      0.866       0.76      0.825      0.374\n",
      "\n",
      "      Epoch    GPU_mem   box_loss   cls_loss   dfl_loss  Instances       Size\n",
      "     32/100      7.94G      1.976      1.065      1.508        270        640: 1\n",
      "                 Class     Images  Instances      Box(P          R      mAP50  m\n",
      "                   all         59       4347      0.832      0.757      0.808      0.372\n",
      "\n",
      "      Epoch    GPU_mem   box_loss   cls_loss   dfl_loss  Instances       Size\n",
      "     33/100      7.82G      1.948       1.01      1.487       1045        640: 1\n",
      "                 Class     Images  Instances      Box(P          R      mAP50  m\n",
      "                   all         59       4347      0.853      0.772      0.814      0.377\n",
      "\n",
      "      Epoch    GPU_mem   box_loss   cls_loss   dfl_loss  Instances       Size\n",
      "     34/100      7.44G      1.933      0.993      1.473        819        640: 1\n",
      "                 Class     Images  Instances      Box(P          R      mAP50  m\n",
      "                   all         59       4347      0.873      0.797      0.857      0.391\n",
      "\n",
      "      Epoch    GPU_mem   box_loss   cls_loss   dfl_loss  Instances       Size\n",
      "     35/100      7.25G      1.922     0.9791      1.472       1108        640: 1\n",
      "                 Class     Images  Instances      Box(P          R      mAP50  m\n",
      "                   all         59       4347      0.859      0.792      0.832      0.385\n",
      "\n",
      "      Epoch    GPU_mem   box_loss   cls_loss   dfl_loss  Instances       Size\n",
      "     36/100      8.23G      1.904     0.9856      1.469        706        640: 1\n",
      "                 Class     Images  Instances      Box(P          R      mAP50  m\n",
      "                   all         59       4347        0.9      0.798      0.864       0.38\n",
      "\n",
      "      Epoch    GPU_mem   box_loss   cls_loss   dfl_loss  Instances       Size\n",
      "     37/100      7.34G      1.912     0.9712      1.475        627        640: 1\n",
      "                 Class     Images  Instances      Box(P          R      mAP50  m\n",
      "                   all         59       4347      0.874      0.785      0.852      0.367\n",
      "\n",
      "      Epoch    GPU_mem   box_loss   cls_loss   dfl_loss  Instances       Size\n",
      "     38/100      8.39G      1.894     0.9743       1.47        857        640: 1\n",
      "                 Class     Images  Instances      Box(P          R      mAP50  m\n",
      "                   all         59       4347      0.892      0.807      0.861      0.378\n",
      "\n",
      "      Epoch    GPU_mem   box_loss   cls_loss   dfl_loss  Instances       Size\n",
      "     39/100      7.47G      1.902     0.9722      1.474        752        640: 1\n",
      "                 Class     Images  Instances      Box(P          R      mAP50  m\n",
      "                   all         59       4347      0.873      0.797      0.856      0.385\n",
      "\n",
      "      Epoch    GPU_mem   box_loss   cls_loss   dfl_loss  Instances       Size\n",
      "     40/100      7.75G      1.901     0.9759      1.494        624        640: 1\n",
      "                 Class     Images  Instances      Box(P          R      mAP50  m\n",
      "                   all         59       4347      0.843      0.782      0.811      0.369\n",
      "\n",
      "      Epoch    GPU_mem   box_loss   cls_loss   dfl_loss  Instances       Size\n",
      "     41/100      8.55G      1.898      0.969      1.461        747        640: 1\n",
      "                 Class     Images  Instances      Box(P          R      mAP50  m\n",
      "                   all         59       4347      0.844      0.767      0.813      0.369\n",
      "\n",
      "      Epoch    GPU_mem   box_loss   cls_loss   dfl_loss  Instances       Size\n",
      "     42/100      7.98G      1.884     0.9575      1.473        791        640: 1\n",
      "                 Class     Images  Instances      Box(P          R      mAP50  m\n",
      "                   all         59       4347      0.876       0.81      0.866      0.406\n",
      "\n",
      "      Epoch    GPU_mem   box_loss   cls_loss   dfl_loss  Instances       Size\n",
      "     43/100      8.16G       1.85     0.9579      1.432        745        640: 1\n",
      "                 Class     Images  Instances      Box(P          R      mAP50  m\n",
      "                   all         59       4347      0.829      0.765      0.792      0.352\n",
      "\n",
      "      Epoch    GPU_mem   box_loss   cls_loss   dfl_loss  Instances       Size\n",
      "     44/100      8.41G      1.878     0.9422      1.457        944        640: 1\n",
      "                 Class     Images  Instances      Box(P          R      mAP50  m\n",
      "                   all         59       4347      0.811      0.757      0.802      0.357\n",
      "\n",
      "      Epoch    GPU_mem   box_loss   cls_loss   dfl_loss  Instances       Size\n",
      "     45/100      7.41G      1.837     0.9507      1.433        583        640: 1\n",
      "                 Class     Images  Instances      Box(P          R      mAP50  m\n",
      "                   all         59       4347       0.88      0.823      0.871      0.395\n",
      "\n",
      "      Epoch    GPU_mem   box_loss   cls_loss   dfl_loss  Instances       Size\n",
      "     46/100      7.73G      1.858      0.933      1.442        638        640: 1\n",
      "                 Class     Images  Instances      Box(P          R      mAP50  m\n",
      "                   all         59       4347      0.891      0.797      0.852      0.367\n",
      "\n",
      "      Epoch    GPU_mem   box_loss   cls_loss   dfl_loss  Instances       Size\n",
      "     47/100      8.14G      1.854     0.9369      1.421        625        640: 1\n",
      "                 Class     Images  Instances      Box(P          R      mAP50  m\n",
      "                   all         59       4347      0.906      0.832      0.882      0.418\n",
      "\n",
      "      Epoch    GPU_mem   box_loss   cls_loss   dfl_loss  Instances       Size\n",
      "     48/100      7.71G      1.814     0.8986      1.424       1038        640: 1\n",
      "                 Class     Images  Instances      Box(P          R      mAP50  m\n",
      "                   all         59       4347      0.898      0.827      0.878      0.408\n",
      "\n",
      "      Epoch    GPU_mem   box_loss   cls_loss   dfl_loss  Instances       Size\n",
      "     49/100      8.11G      1.826     0.9031      1.421        608        640: 1\n",
      "                 Class     Images  Instances      Box(P          R      mAP50  m\n",
      "                   all         59       4347      0.897      0.815      0.867      0.417\n",
      "\n",
      "      Epoch    GPU_mem   box_loss   cls_loss   dfl_loss  Instances       Size\n",
      "     50/100      8.12G      1.805        0.9       1.42        742        640: 1\n",
      "                 Class     Images  Instances      Box(P          R      mAP50  m\n",
      "                   all         59       4347      0.887      0.823      0.876      0.399\n",
      "\n",
      "      Epoch    GPU_mem   box_loss   cls_loss   dfl_loss  Instances       Size\n",
      "     51/100      8.47G      1.794      0.881      1.402       1176        640: 1\n",
      "                 Class     Images  Instances      Box(P          R      mAP50  m\n",
      "                   all         59       4347      0.905      0.823      0.868      0.414\n",
      "\n",
      "      Epoch    GPU_mem   box_loss   cls_loss   dfl_loss  Instances       Size\n",
      "     52/100      7.54G      1.779     0.8837      1.406        772        640: 1\n",
      "                 Class     Images  Instances      Box(P          R      mAP50  m\n",
      "                   all         59       4347      0.912      0.812      0.878      0.417\n",
      "\n",
      "      Epoch    GPU_mem   box_loss   cls_loss   dfl_loss  Instances       Size\n",
      "     53/100      7.88G      1.843     0.8941      1.408        842        640: 1\n",
      "                 Class     Images  Instances      Box(P          R      mAP50  m\n",
      "                   all         59       4347      0.855      0.821      0.856      0.399\n",
      "\n",
      "      Epoch    GPU_mem   box_loss   cls_loss   dfl_loss  Instances       Size\n",
      "     54/100      7.55G      1.799     0.8835      1.413        890        640: 1\n",
      "                 Class     Images  Instances      Box(P          R      mAP50  m\n",
      "                   all         59       4347      0.898      0.851      0.892      0.424\n",
      "\n",
      "      Epoch    GPU_mem   box_loss   cls_loss   dfl_loss  Instances       Size\n",
      "     55/100      7.82G      1.803     0.8721      1.378        784        640: 1\n",
      "                 Class     Images  Instances      Box(P          R      mAP50  m\n",
      "                   all         59       4347      0.853      0.806      0.826       0.38\n",
      "\n",
      "      Epoch    GPU_mem   box_loss   cls_loss   dfl_loss  Instances       Size\n",
      "     56/100      8.13G      1.771     0.8609      1.403        927        640: 1\n",
      "                 Class     Images  Instances      Box(P          R      mAP50  m\n",
      "                   all         59       4347       0.88      0.823       0.87      0.406\n",
      "\n",
      "      Epoch    GPU_mem   box_loss   cls_loss   dfl_loss  Instances       Size\n",
      "     57/100      8.52G      1.776     0.8668        1.4       1139        640: 1\n",
      "                 Class     Images  Instances      Box(P          R      mAP50  m\n",
      "                   all         59       4347      0.896      0.839      0.884      0.423\n",
      "\n",
      "      Epoch    GPU_mem   box_loss   cls_loss   dfl_loss  Instances       Size\n",
      "     58/100       7.4G      1.752      0.848      1.381        787        640: 1\n",
      "                 Class     Images  Instances      Box(P          R      mAP50  m\n",
      "                   all         59       4347      0.904      0.842      0.901      0.446\n",
      "\n",
      "      Epoch    GPU_mem   box_loss   cls_loss   dfl_loss  Instances       Size\n",
      "     59/100      7.73G      1.747     0.8435       1.38        791        640: 1\n",
      "                 Class     Images  Instances      Box(P          R      mAP50  m\n",
      "                   all         59       4347      0.908      0.848      0.891      0.445\n",
      "\n",
      "      Epoch    GPU_mem   box_loss   cls_loss   dfl_loss  Instances       Size\n",
      "     60/100      8.69G      1.734     0.8271      1.368        736        640: 1\n",
      "                 Class     Images  Instances      Box(P          R      mAP50  m\n",
      "                   all         59       4347      0.889       0.83      0.887       0.42\n",
      "\n",
      "      Epoch    GPU_mem   box_loss   cls_loss   dfl_loss  Instances       Size\n",
      "     61/100      7.76G      1.712     0.8219      1.377        627        640: 1\n",
      "                 Class     Images  Instances      Box(P          R      mAP50  m\n",
      "                   all         59       4347      0.912      0.845      0.905      0.437\n",
      "\n",
      "      Epoch    GPU_mem   box_loss   cls_loss   dfl_loss  Instances       Size\n",
      "     62/100      7.31G      1.762     0.8331      1.361        988        640: 1\n",
      "                 Class     Images  Instances      Box(P          R      mAP50  m\n",
      "                   all         59       4347      0.909      0.828      0.881      0.435\n",
      "\n",
      "      Epoch    GPU_mem   box_loss   cls_loss   dfl_loss  Instances       Size\n",
      "     63/100      8.14G      1.706     0.8197      1.343        941        640: 1\n",
      "                 Class     Images  Instances      Box(P          R      mAP50  m\n",
      "                   all         59       4347      0.904      0.839      0.882      0.436\n",
      "\n",
      "      Epoch    GPU_mem   box_loss   cls_loss   dfl_loss  Instances       Size\n",
      "     64/100      9.57G      1.721     0.8018       1.36        467        640: 1\n",
      "                 Class     Images  Instances      Box(P          R      mAP50  m\n",
      "                   all         59       4347      0.927      0.848      0.905       0.44\n",
      "\n",
      "      Epoch    GPU_mem   box_loss   cls_loss   dfl_loss  Instances       Size\n",
      "     65/100      7.97G      1.695      0.793      1.351        805        640: 1\n",
      "                 Class     Images  Instances      Box(P          R      mAP50  m\n",
      "                   all         59       4347      0.936      0.851      0.912      0.451\n",
      "\n",
      "      Epoch    GPU_mem   box_loss   cls_loss   dfl_loss  Instances       Size\n",
      "     66/100      8.01G      1.683     0.8038      1.344       1143        640: 1\n",
      "                 Class     Images  Instances      Box(P          R      mAP50  m\n",
      "                   all         59       4347      0.934      0.869      0.921      0.458\n",
      "\n",
      "      Epoch    GPU_mem   box_loss   cls_loss   dfl_loss  Instances       Size\n",
      "     67/100      8.56G      1.703      0.798       1.36        724        640: 1\n",
      "                 Class     Images  Instances      Box(P          R      mAP50  m\n",
      "                   all         59       4347      0.915      0.867      0.907      0.459\n",
      "\n",
      "      Epoch    GPU_mem   box_loss   cls_loss   dfl_loss  Instances       Size\n",
      "     68/100      8.75G      1.694     0.7828      1.334        829        640: 1\n",
      "                 Class     Images  Instances      Box(P          R      mAP50  m\n",
      "                   all         59       4347       0.93      0.858      0.907      0.455\n",
      "\n",
      "      Epoch    GPU_mem   box_loss   cls_loss   dfl_loss  Instances       Size\n",
      "     69/100      8.07G      1.656     0.7743      1.335        864        640: 1\n",
      "                 Class     Images  Instances      Box(P          R      mAP50  m\n",
      "                   all         59       4347      0.933      0.862      0.911      0.442\n",
      "\n",
      "      Epoch    GPU_mem   box_loss   cls_loss   dfl_loss  Instances       Size\n",
      "     70/100      8.28G      1.675     0.7866      1.332        982        640: 1\n",
      "                 Class     Images  Instances      Box(P          R      mAP50  m\n",
      "                   all         59       4347      0.922      0.854      0.913       0.45\n",
      "\n",
      "      Epoch    GPU_mem   box_loss   cls_loss   dfl_loss  Instances       Size\n",
      "     71/100      7.92G      1.695      0.792      1.362        486        640: 1\n",
      "                 Class     Images  Instances      Box(P          R      mAP50  m\n",
      "                   all         59       4347      0.914      0.839      0.887      0.448\n",
      "\n",
      "      Epoch    GPU_mem   box_loss   cls_loss   dfl_loss  Instances       Size\n",
      "     72/100      7.25G      1.634     0.7678      1.314        597        640: 1\n",
      "                 Class     Images  Instances      Box(P          R      mAP50  m\n",
      "                   all         59       4347      0.944       0.87      0.928      0.469\n",
      "\n",
      "      Epoch    GPU_mem   box_loss   cls_loss   dfl_loss  Instances       Size\n",
      "     73/100      8.54G      1.627     0.7614      1.322        624        640: 1\n",
      "                 Class     Images  Instances      Box(P          R      mAP50  m\n",
      "                   all         59       4347      0.919      0.875      0.914      0.456\n",
      "\n",
      "      Epoch    GPU_mem   box_loss   cls_loss   dfl_loss  Instances       Size\n",
      "     74/100      9.28G      1.623     0.7435      1.327        949        640: 1\n",
      "                 Class     Images  Instances      Box(P          R      mAP50  m\n",
      "                   all         59       4347      0.925      0.853      0.915      0.414\n",
      "\n",
      "      Epoch    GPU_mem   box_loss   cls_loss   dfl_loss  Instances       Size\n",
      "     75/100      7.52G      1.637     0.7568      1.316        888        640: 1\n",
      "                 Class     Images  Instances      Box(P          R      mAP50  m\n",
      "                   all         59       4347      0.928      0.876      0.928      0.462\n",
      "\n",
      "      Epoch    GPU_mem   box_loss   cls_loss   dfl_loss  Instances       Size\n",
      "     76/100      8.09G      1.662     0.7524      1.329        650        640: 1\n",
      "                 Class     Images  Instances      Box(P          R      mAP50  m\n",
      "                   all         59       4347      0.889       0.84      0.897      0.419\n",
      "\n",
      "      Epoch    GPU_mem   box_loss   cls_loss   dfl_loss  Instances       Size\n",
      "     77/100      8.56G      1.646     0.7521      1.331        704        640: 1\n",
      "                 Class     Images  Instances      Box(P          R      mAP50  m\n",
      "                   all         59       4347      0.935      0.876      0.926       0.48\n",
      "\n",
      "      Epoch    GPU_mem   box_loss   cls_loss   dfl_loss  Instances       Size\n",
      "     78/100      7.23G      1.618     0.7423      1.312        863        640: 1\n",
      "                 Class     Images  Instances      Box(P          R      mAP50  m\n",
      "                   all         59       4347      0.938      0.885      0.928      0.478\n",
      "\n",
      "      Epoch    GPU_mem   box_loss   cls_loss   dfl_loss  Instances       Size\n",
      "     79/100      7.81G      1.592     0.7341      1.309       1163        640: 1\n",
      "                 Class     Images  Instances      Box(P          R      mAP50  m\n",
      "                   all         59       4347      0.941      0.864      0.923      0.485\n",
      "\n",
      "      Epoch    GPU_mem   box_loss   cls_loss   dfl_loss  Instances       Size\n",
      "     80/100      7.64G      1.573     0.7244       1.29        831        640: 1\n",
      "                 Class     Images  Instances      Box(P          R      mAP50  m\n",
      "                   all         59       4347      0.933      0.881      0.922      0.487\n",
      "\n",
      "      Epoch    GPU_mem   box_loss   cls_loss   dfl_loss  Instances       Size\n",
      "     81/100      8.67G       1.57     0.7105      1.303        909        640: 1\n",
      "                 Class     Images  Instances      Box(P          R      mAP50  m\n",
      "                   all         59       4347      0.938      0.885      0.931      0.482\n",
      "\n",
      "      Epoch    GPU_mem   box_loss   cls_loss   dfl_loss  Instances       Size\n",
      "     82/100      8.74G      1.573     0.7173      1.295        620        640: 1\n",
      "                 Class     Images  Instances      Box(P          R      mAP50  m\n",
      "                   all         59       4347      0.944      0.879       0.93      0.498\n",
      "\n",
      "      Epoch    GPU_mem   box_loss   cls_loss   dfl_loss  Instances       Size\n",
      "     83/100      8.86G      1.569     0.7145      1.281        469        640: 1\n",
      "                 Class     Images  Instances      Box(P          R      mAP50  m\n",
      "                   all         59       4347      0.933      0.878      0.925      0.479\n",
      "\n",
      "      Epoch    GPU_mem   box_loss   cls_loss   dfl_loss  Instances       Size\n",
      "     84/100      8.96G      1.546     0.7028      1.282        546        640: 1\n",
      "                 Class     Images  Instances      Box(P          R      mAP50  m\n",
      "                   all         59       4347      0.933      0.875      0.924      0.495\n",
      "\n",
      "      Epoch    GPU_mem   box_loss   cls_loss   dfl_loss  Instances       Size\n",
      "     85/100      7.87G      1.536     0.7066      1.291        932        640: 1\n",
      "                 Class     Images  Instances      Box(P          R      mAP50  m\n",
      "                   all         59       4347      0.944      0.883      0.932      0.506\n",
      "\n",
      "      Epoch    GPU_mem   box_loss   cls_loss   dfl_loss  Instances       Size\n",
      "     86/100      7.88G      1.542     0.6982      1.279        931        640: 1\n",
      "                 Class     Images  Instances      Box(P          R      mAP50  m\n",
      "                   all         59       4347      0.932      0.882      0.925      0.495\n",
      "\n",
      "      Epoch    GPU_mem   box_loss   cls_loss   dfl_loss  Instances       Size\n",
      "     87/100      7.84G      1.512     0.6859      1.254        921        640: 1\n",
      "                 Class     Images  Instances      Box(P          R      mAP50  m\n",
      "                   all         59       4347      0.927       0.89      0.924      0.498\n",
      "\n",
      "      Epoch    GPU_mem   box_loss   cls_loss   dfl_loss  Instances       Size\n",
      "     88/100      8.33G      1.516     0.6878      1.248        896        640: 1\n",
      "                 Class     Images  Instances      Box(P          R      mAP50  m\n",
      "                   all         59       4347      0.926      0.891      0.929      0.497\n",
      "\n",
      "      Epoch    GPU_mem   box_loss   cls_loss   dfl_loss  Instances       Size\n",
      "     89/100      7.89G      1.482     0.6737      1.265        763        640: 1\n",
      "                 Class     Images  Instances      Box(P          R      mAP50  m\n",
      "                   all         59       4347      0.938      0.895      0.939      0.504\n",
      "\n",
      "      Epoch    GPU_mem   box_loss   cls_loss   dfl_loss  Instances       Size\n",
      "     90/100      8.52G      1.477     0.6736      1.254        774        640: 1\n",
      "                 Class     Images  Instances      Box(P          R      mAP50  m\n",
      "                   all         59       4347       0.94      0.898      0.944      0.517\n",
      "Closing dataloader mosaic\n",
      "\u001b[34m\u001b[1malbumentations: \u001b[0mBlur(p=0.01, blur_limit=(3, 7)), MedianBlur(p=0.01, blur_limit=(3, 7)), ToGray(p=0.01), CLAHE(p=0.01, clip_limit=(1, 4.0), tile_grid_size=(8, 8))\n",
      "\n",
      "      Epoch    GPU_mem   box_loss   cls_loss   dfl_loss  Instances       Size\n",
      "     91/100      7.37G      1.512     0.6933      1.309        796        640: 1\n",
      "                 Class     Images  Instances      Box(P          R      mAP50  m\n",
      "                   all         59       4347      0.943      0.887      0.933      0.508\n",
      "\n",
      "      Epoch    GPU_mem   box_loss   cls_loss   dfl_loss  Instances       Size\n",
      "     92/100      7.69G      1.448     0.6717      1.272        490        640: 1\n",
      "                 Class     Images  Instances      Box(P          R      mAP50  m\n",
      "                   all         59       4347       0.93      0.893      0.932      0.509\n",
      "\n",
      "      Epoch    GPU_mem   box_loss   cls_loss   dfl_loss  Instances       Size\n",
      "     93/100      6.94G      1.462     0.6688      1.292        534        640: 1\n",
      "                 Class     Images  Instances      Box(P          R      mAP50  m\n",
      "                   all         59       4347       0.94      0.883      0.933      0.477\n",
      "\n",
      "      Epoch    GPU_mem   box_loss   cls_loss   dfl_loss  Instances       Size\n",
      "     94/100      6.85G       1.44     0.6658      1.257        604        640: 1\n",
      "                 Class     Images  Instances      Box(P          R      mAP50  m\n",
      "                   all         59       4347      0.936      0.895      0.933      0.519\n",
      "\n",
      "      Epoch    GPU_mem   box_loss   cls_loss   dfl_loss  Instances       Size\n",
      "     95/100      7.14G      1.416     0.6498      1.246        611        640: 1\n",
      "                 Class     Images  Instances      Box(P          R      mAP50  m\n",
      "                   all         59       4347       0.93       0.89      0.932      0.518\n",
      "\n",
      "      Epoch    GPU_mem   box_loss   cls_loss   dfl_loss  Instances       Size\n",
      "     96/100      6.86G      1.429     0.6555      1.264        493        640: 1\n",
      "                 Class     Images  Instances      Box(P          R      mAP50  m\n",
      "                   all         59       4347      0.934      0.891      0.933      0.518\n",
      "\n",
      "      Epoch    GPU_mem   box_loss   cls_loss   dfl_loss  Instances       Size\n",
      "     97/100      7.22G      1.385     0.6395      1.253        600        640: 1\n",
      "                 Class     Images  Instances      Box(P          R      mAP50  m\n",
      "                   all         59       4347      0.936      0.897      0.935      0.522\n",
      "\n",
      "      Epoch    GPU_mem   box_loss   cls_loss   dfl_loss  Instances       Size\n",
      "     98/100       6.8G      1.368     0.6332      1.236        714        640: 1\n",
      "                 Class     Images  Instances      Box(P          R      mAP50  m\n",
      "                   all         59       4347      0.929      0.894      0.932      0.518\n",
      "\n",
      "      Epoch    GPU_mem   box_loss   cls_loss   dfl_loss  Instances       Size\n",
      "     99/100      6.89G      1.375     0.6369       1.24        498        640: 1\n",
      "                 Class     Images  Instances      Box(P          R      mAP50  m\n",
      "                   all         59       4347      0.941      0.902      0.941      0.529\n",
      "\n",
      "      Epoch    GPU_mem   box_loss   cls_loss   dfl_loss  Instances       Size\n",
      "    100/100      6.93G      1.374      0.632      1.235        581        640: 1\n",
      "                 Class     Images  Instances      Box(P          R      mAP50  m\n",
      "                   all         59       4347      0.937      0.902      0.942      0.524\n",
      "\n",
      "100 epochs completed in 0.479 hours.\n",
      "Optimizer stripped from runs/detect/yolov8l_small2/weights/last.pt, 32.7MB\n",
      "Optimizer stripped from runs/detect/yolov8l_small2/weights/best.pt, 32.7MB\n",
      "\n",
      "Validating runs/detect/yolov8l_small2/weights/best.pt...\n",
      "Ultralytics YOLOv8.2.48 🚀 Python-3.10.14 torch-1.13.1+cu117 CUDA:0 (Tesla T4, 14918MiB)\n",
      "YOLOv8l-small summary (fused): 150 layers, 16249553 parameters, 0 gradients, 118.5 GFLOPs\n",
      "                 Class     Images  Instances      Box(P          R      mAP50  m\n",
      "                   all         59       4347      0.941      0.902      0.941      0.529\n",
      "Speed: 1.7ms preprocess, 12.5ms inference, 0.0ms loss, 1.2ms postprocess per image\n",
      "Results saved to \u001b[1mruns/detect/yolov8l_small2\u001b[0m\n",
      "💡 Learn more at https://docs.ultralytics.com/modes/train\n"
     ]
    }
   ],
   "source": [
    "# Training a Modified Model (Small Objects)\n",
    "!yolo detect train model=yolov8l-small.yaml data=\"/home/jupyter/ee_tree_counting/Data/Combined Dataset YOLO No Aug/data.yaml\" workers=2 batch=12 device=0 epochs=100 patience=50 name=yolov8l_small"
   ]
  },
  {
   "cell_type": "markdown",
   "metadata": {},
   "source": [
    "# Inference on Test Set"
   ]
  },
  {
   "cell_type": "code",
   "execution_count": null,
   "metadata": {
    "tags": []
   },
   "outputs": [],
   "source": [
    "model = YOLO(\"/home/jupyter/ee_tree_counting/Models/YOLOv8 Architecture/YOLOv8l/runs/detect/yolov8l_small2/weights/best.pt\")  \n",
    "\n",
    "# Creating directory to store results\n",
    "test_images_dir = '/home/jupyter/ee_tree_counting/Data/Combined Dataset YOLO No Aug/test/images'\n",
    "output_dir = '/home/jupyter/ee_tree_counting/Data/Combined Dataset YOLO No Aug/test/YOLOv8l_small No Aug Inference'\n",
    "os.makedirs(output_dir, exist_ok=True)\n",
    "\n",
    "# List of all test images\n",
    "test_images = [os.path.join(test_images_dir, img) for img in os.listdir(test_images_dir) if img.endswith('.jpg')]\n",
    "test_images.sort()\n",
    "\n",
    "# Run inference on all test images\n",
    "results = model(test_images)  \n",
    "\n",
    "# Visualize and save the results\n",
    "for i, r in enumerate(results):\n",
    "    # Plot results image\n",
    "    im_bgr = r.plot()  # BGR-order numpy array\n",
    "    im_rgb = Image.fromarray(im_bgr[..., ::-1])  # RGB-order PIL image\n",
    "\n",
    "    # Save results to disk\n",
    "    im_rgb.save(os.path.join(output_dir, f\"results_{i}.jpg\"))"
   ]
  },
  {
   "cell_type": "markdown",
   "metadata": {},
   "source": [
    "# Ground Truth"
   ]
  },
  {
   "cell_type": "code",
   "execution_count": null,
   "metadata": {
    "tags": []
   },
   "outputs": [],
   "source": [
    "label_dir = '/home/jupyter/ee_tree_counting/Data/Combined Dataset YOLO No Aug/test/labels'\n",
    "\n",
    "# List of labels\n",
    "labels = [os.path.join(label_dir, img) for img in os.listdir(label_dir) if img.endswith('.txt')]\n",
    "labels.sort()\n",
    "\n",
    "for idx, label in enumerate(labels):\n",
    "    file = pd.read_csv(label, delimiter=' ', header=None)\n",
    "    print(f'Ground Truth {idx}: {len(file)} trees')"
   ]
  },
  {
   "cell_type": "code",
   "execution_count": 6,
   "metadata": {
    "tags": []
   },
   "outputs": [
    {
     "name": "stdout",
     "output_type": "stream",
     "text": [
      "       Image  Prediction  Ground Truth\n",
      "0    Image 0          88            86\n",
      "1    Image 1           5             7\n",
      "2    Image 2          47            48\n",
      "3    Image 3          45            48\n",
      "4    Image 4          45            48\n",
      "5    Image 5          45            48\n",
      "6    Image 6          66            64\n",
      "7    Image 7          69            69\n",
      "8    Image 8          69            69\n",
      "9    Image 9          69            69\n",
      "10  Image 10          69            69\n",
      "11  Image 11         105           105\n",
      "12  Image 12         106           114\n",
      "13  Image 13         106           114\n",
      "14  Image 14         106           114\n",
      "15  Image 15         106           114\n",
      "16  Image 16          90           109\n",
      "17  Image 17         108            97\n",
      "18  Image 18         169           175\n",
      "19  Image 19          25            20\n",
      "20  Image 20          74            72\n",
      "21  Image 21          74            72\n",
      "22  Image 22          74            72\n",
      "23  Image 23          74            72\n",
      "24  Image 24          86            89\n",
      "25  Image 25          86            89\n",
      "26  Image 26          84            89\n",
      "27  Image 27          84            89\n",
      "28  Image 28          84            89\n",
      "29  Image 29          78            77\n",
      "30  Image 30          78            77\n",
      "31  Image 31          78            77\n",
      "32  Image 32          75            77\n",
      "33  Image 33         141           148\n",
      "34  Image 34         123           112\n",
      "35  Image 35         123           112\n",
      "36  Image 36         123           112\n",
      "37  Image 37         123           112\n",
      "38  Image 38          69            72\n",
      "39  Image 39          70            72\n",
      "40  Image 40          69            72\n",
      "41  Image 41          69            72\n",
      "42  Image 42          73            74\n",
      "43  Image 43          50            50\n",
      "44  Image 44         128           130\n",
      "45  Image 45         129           130\n",
      "46  Image 46         129           130\n",
      "47  Image 47         128           130\n",
      "48  Image 48         128           130\n",
      "49  Image 49          95            89\n",
      "Mean Absolute Error (MAE): 4.00\n"
     ]
    }
   ],
   "source": [
    "predictions = [\n",
    "    88, 5, 47, 45, 45, 45, 66, 69, 69, 69,\n",
    "    69, 105, 106, 106, 106, 106, 90, 108, 169, 25,\n",
    "    74, 74, 74, 74, 86, 86, 84, 84, 84, 78,\n",
    "    78, 78, 75, 141, 123, 123, 123, 123, 69, 70,\n",
    "    69, 69, 73, 50, 128, 129, 129, 128, 128, 95\n",
    "]\n",
    "\n",
    "# Ground truth from labels\n",
    "ground_truth = [\n",
    "    86, 7, 48, 48, 48, 48, 64, 69, 69, 69,\n",
    "    69, 105, 114, 114, 114, 114, 109, 97, 175, 20,\n",
    "    72, 72, 72, 72, 89, 89, 89, 89, 89, 77,\n",
    "    77, 77, 77, 148, 112, 112, 112, 112, 72, 72,\n",
    "    72, 72, 74, 50, 130, 130, 130, 130, 130, 89\n",
    "]\n",
    "\n",
    "# Create a DataFrame to store the results\n",
    "results_df = pd.DataFrame({\n",
    "    'Image': [f'Image {i}' for i in range(len(predictions))],\n",
    "    'Prediction': predictions,\n",
    "    'Ground Truth': ground_truth\n",
    "})\n",
    "\n",
    "# Display the dataframe\n",
    "print(results_df)\n",
    "\n",
    "# Calculate Mean Absolute Error (MAE)\n",
    "mae = (results_df['Prediction'] - results_df['Ground Truth']).abs().mean()\n",
    "\n",
    "print(f\"Mean Absolute Error (MAE): {mae:.2f}\")"
   ]
  },
  {
   "cell_type": "markdown",
   "metadata": {
    "id": "dmaGYRr4bve_"
   },
   "source": [
    "### Speed"
   ]
  },
  {
   "cell_type": "markdown",
   "metadata": {
    "id": "Mm71-cVDTlsO"
   },
   "source": [
    "Download the video"
   ]
  },
  {
   "cell_type": "code",
   "execution_count": 7,
   "metadata": {
    "id": "yeRmm4ZYbxgi",
    "tags": []
   },
   "outputs": [],
   "source": [
    "import cv2\n",
    "import random\n",
    "import time\n",
    "import argparse\n",
    "import os\n",
    "from ultralytics import YOLO\n",
    "\n",
    "def get_name(file_path):\n",
    "  name_idx = 0\n",
    "  file_pos = (file_path).rfind('\\\\')\n",
    "\n",
    "  if(file_pos == -1):\n",
    "      file_pos = (file_path).rfind('/')\n",
    "\n",
    "      if(file_pos == -1):\n",
    "          file_pos = 0\n",
    "\n",
    "  name_idx = file_pos + 1\n",
    "\n",
    "  name = file_path[name_idx:]\n",
    "\n",
    "  return name\n",
    "\n",
    "def get_save_path(file_name, folder_name):\n",
    "  path = \"result\"\n",
    "  save_path = os.path.join(path, folder_name)\n",
    "\n",
    "  exists = os.path.exists(save_path)\n",
    "\n",
    "  if(not exists):\n",
    "      os.makedirs(save_path)\n",
    "\n",
    "  save_path = os.path.join(save_path, file_name)\n",
    "\n",
    "  return save_path\n",
    "\n",
    "def draw_box(img, result, class_list, colors, label_size) :\n",
    "  # Get information from result\n",
    "  xyxy = result.boxes.xyxy.numpy()\n",
    "  confidence = result.boxes.conf.numpy()\n",
    "  class_id = result.boxes.cls.numpy().astype(int)\n",
    "  # Pack together for easy use\n",
    "  sum_output = list(zip(class_id, confidence, xyxy))\n",
    "  # Copy image, in case that we need original image for something\n",
    "  out_image = img.copy()\n",
    "\n",
    "  for run_output in sum_output :\n",
    "    # Unpack\n",
    "    label, con, box = run_output\n",
    "    # Choose color\n",
    "    box_color = colors[int(label)]\n",
    "    text_color = (255,255,255)\n",
    "    # Get Class Name\n",
    "    label = class_list[int(label)]\n",
    "    # Draw object box\n",
    "    first_half_box = (int(box[0]),int(box[1]))\n",
    "    second_half_box = (int(box[2]),int(box[3]))\n",
    "    cv2.rectangle(out_image, first_half_box, second_half_box, box_color, 2)\n",
    "    # Create text\n",
    "    text_print = '{label} {con:.2f}'.format(label = label, con = con)\n",
    "    # Locate text position\n",
    "    text_location = (int(box[0]), int(box[1] - 10 ))\n",
    "    # Get size and baseline\n",
    "    labelSize, baseLine = cv2.getTextSize(text_print, cv2.FONT_HERSHEY_SIMPLEX, label_size, 1)\n",
    "\n",
    "    # Draw text's background\n",
    "    cv2.rectangle(out_image\n",
    "                    , (int(box[0]), int(box[1] - labelSize[1] - 10 ))\n",
    "                    , (int(box[0])+labelSize[0], int(box[1] + baseLine-10))\n",
    "                    , box_color , cv2.FILLED)\n",
    "    # Put text\n",
    "    cv2.putText(out_image, text_print ,text_location\n",
    "                , cv2.FONT_HERSHEY_SIMPLEX , label_size\n",
    "                , text_color, 2, cv2.LINE_AA)\n",
    "\n",
    "  return out_image\n",
    "\n",
    "def draw_fps(avg_fps, combined_img):\n",
    "  avg_fps_str = float(\"{:.2f}\".format(avg_fps))\n",
    "\n",
    "  cv2.rectangle(combined_img, (10,2), (280,50), (255,255,255), -1)\n",
    "  cv2.putText(combined_img, \"FPS: \"+str(avg_fps_str), (20, 40), cv2.FONT_HERSHEY_SIMPLEX, 1.5, (0,255,0), thickness=3)\n",
    "\n",
    "  return combined_img"
   ]
  },
  {
   "cell_type": "code",
   "execution_count": 11,
   "metadata": {
    "id": "jiWpJlXbbxrh",
    "tags": []
   },
   "outputs": [],
   "source": [
    "import cv2\n",
    "import random\n",
    "import time\n",
    "import os\n",
    "from ultralytics import YOLO\n",
    "\n",
    "def get_name(file_path):\n",
    "    name_idx = 0\n",
    "    file_pos = file_path.rfind('\\\\')\n",
    "\n",
    "    if file_pos == -1:\n",
    "        file_pos = file_path.rfind('/')\n",
    "\n",
    "        if file_pos == -1:\n",
    "            file_pos = 0\n",
    "\n",
    "    name_idx = file_pos + 1\n",
    "    name = file_path[name_idx:]\n",
    "\n",
    "    return name\n",
    "\n",
    "def get_save_path(file_name, folder_name):\n",
    "    path = \"result\"\n",
    "    save_path = os.path.join(path, folder_name)\n",
    "\n",
    "    exists = os.path.exists(save_path)\n",
    "\n",
    "    if not exists:\n",
    "        os.makedirs(save_path)\n",
    "\n",
    "    save_path = os.path.join(save_path, file_name)\n",
    "\n",
    "    return save_path\n",
    "\n",
    "def draw_box(img, result, class_list, colors, label_size):\n",
    "    xyxy = result.boxes.xyxy.numpy()\n",
    "    confidence = result.boxes.conf.numpy()\n",
    "    class_id = result.boxes.cls.numpy().astype(int)\n",
    "    sum_output = list(zip(class_id, confidence, xyxy))\n",
    "    out_image = img.copy()\n",
    "\n",
    "    for run_output in sum_output:\n",
    "        label, con, box = run_output\n",
    "        box_color = colors[int(label)]\n",
    "        text_color = (255, 255, 255)\n",
    "        label = class_list[int(label)]\n",
    "        first_half_box = (int(box[0]), int(box[1]))\n",
    "        second_half_box = (int(box[2]), int(box[3]))\n",
    "        cv2.rectangle(out_image, first_half_box, second_half_box, box_color, 2)\n",
    "        text_print = f'{label} {con:.2f}'\n",
    "        text_location = (int(box[0]), int(box[1] - 10))\n",
    "        labelSize, baseLine = cv2.getTextSize(text_print, cv2.FONT_HERSHEY_SIMPLEX, label_size, 1)\n",
    "        cv2.rectangle(out_image, (int(box[0]), int(box[1] - labelSize[1] - 10)),\n",
    "                      (int(box[0]) + labelSize[0], int(box[1] + baseLine - 10)), box_color, cv2.FILLED)\n",
    "        cv2.putText(out_image, text_print, text_location, cv2.FONT_HERSHEY_SIMPLEX, label_size, text_color, 2, cv2.LINE_AA)\n",
    "\n",
    "    return out_image\n",
    "\n",
    "def draw_fps(avg_fps, combined_img):\n",
    "    avg_fps_str = float(\"{:.2f}\".format(avg_fps))\n",
    "    cv2.rectangle(combined_img, (10, 2), (280, 50), (255, 255, 255), -1)\n",
    "    cv2.putText(combined_img, \"FPS: \" + str(avg_fps_str), (20, 40), cv2.FONT_HERSHEY_SIMPLEX, 1.5, (0, 255, 0), thickness=3)\n",
    "    return combined_img\n",
    "\n",
    "def detection(source, model, folder_name, img_size, label_size=1):\n",
    "    cap = cv2.VideoCapture(source)\n",
    "    model_path = model\n",
    "    yolov8_detector = YOLO(model_path)\n",
    "\n",
    "    label_map = yolov8_detector.names\n",
    "    COLORS = [[random.randint(0, 255) for _ in range(3)] for _ in label_map]\n",
    "\n",
    "    frame_count = 0\n",
    "    total_fps = 0\n",
    "    avg_fps = 0\n",
    "\n",
    "    total_frames = int(cap.get(cv2.CAP_PROP_FRAME_COUNT))\n",
    "    frame_width = int(cap.get(3))\n",
    "    frame_height = int(cap.get(4))\n",
    "\n",
    "    video_frames = []\n",
    "\n",
    "    while cap.isOpened():\n",
    "        try:\n",
    "            ret, frame = cap.read()\n",
    "            if not ret:\n",
    "                break\n",
    "        except Exception as e:\n",
    "            print(e)\n",
    "            continue\n",
    "\n",
    "        start = time.time()\n",
    "        results = yolov8_detector.predict(frame, imgsz=img_size, verbose=False)\n",
    "        result = results[0].cpu()\n",
    "\n",
    "        combined_img = draw_box(frame, result, label_map, COLORS, label_size)\n",
    "        end = time.time()\n",
    "\n",
    "        frame_count += 1\n",
    "        fps = 1 / (end - start)\n",
    "        total_fps += fps\n",
    "        avg_fps = total_fps / frame_count\n",
    "\n",
    "        combined_img = draw_fps(avg_fps, combined_img)\n",
    "        video_frames.append(combined_img)\n",
    "\n",
    "        print(f\"({frame_count:2d} / {total_frames:2d}) Frames Processed\")\n",
    "\n",
    "    print(\"\\nCreate a Video:\")\n",
    "\n",
    "    file_name = get_name(source)\n",
    "    save_path = get_save_path(file_name, folder_name)\n",
    "    out = cv2.VideoWriter(save_path, cv2.VideoWriter_fourcc(*'XVID'), int(avg_fps), (frame_width, frame_height))\n",
    "\n",
    "    for frame in video_frames:\n",
    "        out.write(frame)\n",
    "\n",
    "    out.release()\n",
    "    cap.release()\n",
    "\n",
    "    print(\"Video is saved in: \" + save_path)\n"
   ]
  },
  {
   "cell_type": "code",
   "execution_count": null,
   "metadata": {
    "colab": {
     "base_uri": "https://localhost:8080/"
    },
    "id": "EjmOaLs8Tu3-",
    "outputId": "1aed0c02-247e-47cd-b641-f4c827d7a841",
    "tags": []
   },
   "outputs": [],
   "source": [
    "detection(\"/home/jupyter/ee_tree_counting/Data/Combined Dataset YOLO No Aug/test/YOLOv8l_small Video Inference/Tree Video.mp4\", \n",
    "          \"/home/jupyter/ee_tree_counting/Models/YOLOv8 Architecture/YOLOv8l/runs/detect/yolov8l_small2/weights/best.pt\", \n",
    "          \"yolov8l-small\", 640)"
   ]
  },
  {
   "cell_type": "markdown",
   "metadata": {
    "id": "PaSx9UV5wtWx"
   },
   "source": [
    "## Modified YOLOv8 Architecture for Medium Objects"
   ]
  },
  {
   "cell_type": "markdown",
   "metadata": {
    "id": "gb8_oRkoz_rN"
   },
   "source": [
    "<div>\n",
    "  <img src=\"https://www.stunningvisionai.com/course/yolov8-architecture-modification-for-medium-object.png\" height=\"685\"/>\n",
    "</div>"
   ]
  },
  {
   "cell_type": "markdown",
   "metadata": {
    "id": "aXpeCgn10Cei"
   },
   "source": [
    "<div>\n",
    "  <img src=\"https://www.stunningvisionai.com/course/yolov8-architecture-for-medium-object.png\" height=\"685\"/>\n",
    "</div>"
   ]
  },
  {
   "cell_type": "markdown",
   "metadata": {
    "id": "7FbhesFs0Yt6"
   },
   "source": [
    "### Training a Modified Model (Medium Objects)"
   ]
  },
  {
   "cell_type": "code",
   "execution_count": null,
   "metadata": {
    "colab": {
     "base_uri": "https://localhost:8080/"
    },
    "id": "Z60okNjAwyHv",
    "outputId": "a2ce42d5-f426-4ed3-ac21-be6b20f57d3a"
   },
   "outputs": [],
   "source": [
    "# Training a Modified Model (Medium Objects)\n",
    "!yolo detect train model=yolov8l-medium.yaml data=\"/home/jupyter/ee_tree_counting/Data/Combined Dataset YOLO No Aug/data.yaml\" workers=2 batch=12 device=0 epochs=100 patience=50 name=yolov8_sperm_medium"
   ]
  },
  {
   "cell_type": "markdown",
   "metadata": {
    "id": "ZzfgRXZNwyS7"
   },
   "source": [
    "## Modified YOLOv8 Architecture for Big Objects"
   ]
  },
  {
   "cell_type": "code",
   "execution_count": null,
   "metadata": {
    "id": "rFnHIJw_HPS3"
   },
   "outputs": [],
   "source": [
    "# Copy YOLOv8l Big Architecture\n",
    "!cp yolov8.yaml yolov8l-big.yaml"
   ]
  },
  {
   "cell_type": "markdown",
   "metadata": {
    "id": "tzEzGrcjHZA1"
   },
   "source": [
    "<div>\n",
    "  <img src=\"https://www.stunningvisionai.com/course/yolov8-architecture-modification-for-big-object.png\" height=\"685\"/>\n",
    "</div>"
   ]
  },
  {
   "cell_type": "markdown",
   "metadata": {
    "id": "QXFYn2DFHZOl"
   },
   "source": [
    "<div>\n",
    "  <img src=\"https://www.stunningvisionai.com/course/yolov8-architecture-for-big-object.png\" height=\"720\"/>\n",
    "</div>"
   ]
  },
  {
   "cell_type": "markdown",
   "metadata": {
    "id": "ofNh1Jpe0q-b"
   },
   "source": [
    "### Download the dataset"
   ]
  },
  {
   "cell_type": "code",
   "execution_count": null,
   "metadata": {
    "colab": {
     "base_uri": "https://localhost:8080/"
    },
    "id": "yBeQjhgTcAie",
    "outputId": "f453182f-c6a0-460d-d56b-47924c910322"
   },
   "outputs": [],
   "source": [
    "# Go to the data folder\n",
    "%cd data"
   ]
  },
  {
   "cell_type": "code",
   "execution_count": null,
   "metadata": {
    "colab": {
     "base_uri": "https://localhost:8080/"
    },
    "id": "bsFyyiQUw0Z9",
    "outputId": "d1efd5df-3bea-4b32-da2d-eb8d27e3eff6"
   },
   "outputs": [],
   "source": [
    "# Download the dataset\n",
    "!gdown https://drive.google.com/uc?id=1FW0QR0jITbhLiHL_B5HqYrowQtoQukFX"
   ]
  },
  {
   "cell_type": "code",
   "execution_count": null,
   "metadata": {
    "colab": {
     "base_uri": "https://localhost:8080/"
    },
    "id": "SykjMcN7b_vc",
    "outputId": "9150ecb0-e0c1-4f08-dd26-d62d49ed94cd"
   },
   "outputs": [],
   "source": [
    "# Unzip Dataset\n",
    "!unzip tomato_leaf_dataset.zip"
   ]
  },
  {
   "cell_type": "markdown",
   "metadata": {
    "id": "rjjkbgjY007T"
   },
   "source": [
    "### Download the data file"
   ]
  },
  {
   "cell_type": "code",
   "execution_count": null,
   "metadata": {
    "colab": {
     "base_uri": "https://localhost:8080/"
    },
    "id": "wvrOkg6Sb_yI",
    "outputId": "7aabd2c4-0668-4bb2-ee5a-f31b7262a3bf"
   },
   "outputs": [],
   "source": [
    "# Download the data file\n",
    "!gdown https://drive.google.com/uc?id=1Q50HdUtbLscs03I2HFm5r4Ah0gWHS5Kd"
   ]
  },
  {
   "cell_type": "code",
   "execution_count": null,
   "metadata": {
    "colab": {
     "base_uri": "https://localhost:8080/"
    },
    "id": "gixdfILIb_1M",
    "outputId": "e155d76f-8973-4ad5-ced8-2e24c81f52e3"
   },
   "outputs": [],
   "source": [
    "# Go to the root folder\n",
    "%cd ../"
   ]
  },
  {
   "cell_type": "markdown",
   "metadata": {
    "id": "SM90OCFz1Gpt"
   },
   "source": [
    "### Training"
   ]
  },
  {
   "cell_type": "code",
   "execution_count": null,
   "metadata": {
    "colab": {
     "base_uri": "https://localhost:8080/"
    },
    "id": "6B7nAnYgb_3Y",
    "outputId": "f76d02df-8fd0-41ab-da5e-7012e8ebd182"
   },
   "outputs": [],
   "source": [
    "# Training Original Model\n",
    "!yolo detect train model=yolov8l.yaml data=data/tomato_leaf.yaml workers=2 batch=12 device=0 epochs=100 patience=50 name=yolov8_tomato_leaf"
   ]
  },
  {
   "cell_type": "markdown",
   "metadata": {
    "id": "ltDXbk311KS9"
   },
   "source": [
    "### Training a Modified Model (Big Objects)"
   ]
  },
  {
   "cell_type": "code",
   "execution_count": null,
   "metadata": {
    "colab": {
     "base_uri": "https://localhost:8080/"
    },
    "id": "WDXwz5zPPfFV",
    "outputId": "8e0dac71-38e8-44d3-dfb6-eef84cf1ca1b"
   },
   "outputs": [],
   "source": [
    "# Training a Modified Model (Big Objects)\n",
    "!yolo detect train model=yolov8l-big.yaml data=data/tomato_leaf.yaml workers=2 batch=12 device=0 epochs=100 patience=50 name=yolov8_tomato_leaf_big"
   ]
  },
  {
   "cell_type": "markdown",
   "metadata": {
    "id": "JXd72g821Qaq"
   },
   "source": [
    "### Speed"
   ]
  },
  {
   "cell_type": "markdown",
   "metadata": {
    "id": "zEZ2OTNNPFFE"
   },
   "source": [
    "Download the image"
   ]
  },
  {
   "cell_type": "code",
   "execution_count": null,
   "metadata": {
    "colab": {
     "base_uri": "https://localhost:8080/"
    },
    "id": "t2cJRxRDO88B",
    "outputId": "5c264d7b-9122-4703-cda2-52e52978b3f0"
   },
   "outputs": [],
   "source": [
    "# Download the image\n",
    "!gdown https://drive.google.com/uc?id=1ivZMXvi3vUFQQXPdZdkAyYH9Q8LYUjdp"
   ]
  },
  {
   "cell_type": "code",
   "execution_count": null,
   "metadata": {
    "id": "tZa-Vq0b73py"
   },
   "outputs": [],
   "source": [
    "# Move the image to inference folder\n",
    "!mv tomato_healthy.JPG inference/"
   ]
  },
  {
   "cell_type": "markdown",
   "metadata": {
    "id": "n45JXXPOPH70"
   },
   "source": [
    "Inference"
   ]
  },
  {
   "cell_type": "code",
   "execution_count": null,
   "metadata": {
    "colab": {
     "base_uri": "https://localhost:8080/"
    },
    "id": "0qgwXL69PfLu",
    "outputId": "27104b84-3fdd-4c4c-bf59-f1afce24fc4e"
   },
   "outputs": [],
   "source": [
    "# Original YOLOv8 model\n",
    "!yolo detect predict model=runs/detect/yolov8_tomato_leaf/weights/best.pt source=inference/tomato_healthy.JPG save=True"
   ]
  },
  {
   "cell_type": "markdown",
   "metadata": {
    "id": "XX-xF5dT_dJT"
   },
   "source": [
    "Show detection result"
   ]
  },
  {
   "cell_type": "code",
   "execution_count": null,
   "metadata": {
    "id": "J4wIH83p_e_d"
   },
   "outputs": [],
   "source": [
    "import matplotlib.pyplot as plt\n",
    "import matplotlib.image as mpimg\n",
    "\n",
    "def show_image(image_path):\n",
    "  img = mpimg.imread(image_path)\n",
    "  plt.imshow(img)\n",
    "  plt.axis('off')\n",
    "  plt.show()"
   ]
  },
  {
   "cell_type": "code",
   "execution_count": null,
   "metadata": {
    "colab": {
     "base_uri": "https://localhost:8080/",
     "height": 406
    },
    "id": "sSSdW3Hj_fgY",
    "outputId": "fcf655ff-1b46-4a29-94f9-07f0fbc167a3"
   },
   "outputs": [],
   "source": [
    "# Original YOLOv8 model\n",
    "show_image(\"runs/detect/predict/tomato_healthy.JPG\")"
   ]
  },
  {
   "cell_type": "code",
   "execution_count": null,
   "metadata": {
    "colab": {
     "base_uri": "https://localhost:8080/",
     "height": 406
    },
    "id": "rjNTjmlg_iHx",
    "outputId": "a6be0e18-f8aa-4f73-c33d-4b2a35796260"
   },
   "outputs": [],
   "source": [
    "# Modified YOLOv8 model\n",
    "show_image(\"runs/detect/predict2/tomato_healthy.JPG\")"
   ]
  },
  {
   "cell_type": "markdown",
   "metadata": {
    "id": "chpSujqjwrDp"
   },
   "source": [
    "# YOLOv8 for big objects with TensorRT"
   ]
  },
  {
   "cell_type": "code",
   "execution_count": null,
   "metadata": {
    "colab": {
     "base_uri": "https://localhost:8080/"
    },
    "id": "2J9d50-zw5OC",
    "outputId": "aadbc847-ce79-44fc-c78c-b980e514a8e4"
   },
   "outputs": [],
   "source": [
    "!pip install tensorrt tensorrt_lean tensorrt_dispatch"
   ]
  },
  {
   "cell_type": "code",
   "execution_count": null,
   "metadata": {
    "colab": {
     "base_uri": "https://localhost:8080/"
    },
    "id": "GVvx7YYSw_rs",
    "outputId": "6215ab71-67b4-4597-fc11-856afb439608"
   },
   "outputs": [],
   "source": [
    "!pip install onnx onnxsim onnxruntime-gpu"
   ]
  },
  {
   "cell_type": "markdown",
   "metadata": {
    "id": "3nDNC2cixE9B"
   },
   "source": [
    "## Convert the Model\n"
   ]
  },
  {
   "cell_type": "code",
   "execution_count": null,
   "metadata": {
    "colab": {
     "base_uri": "https://localhost:8080/"
    },
    "id": "a_xmtWyCxIOh",
    "outputId": "ba4b6bec-18d6-4151-ef27-4d9433037d0a"
   },
   "outputs": [],
   "source": [
    "# Export YOLOv8 Model to Tensorrt\n",
    "!yolo export model=runs/detect/yolov8_tomato_leaf_big/weights/best.pt format=engine half=True device=0"
   ]
  },
  {
   "cell_type": "markdown",
   "metadata": {
    "id": "MTQPmkvKxcWg"
   },
   "source": [
    "## mAP"
   ]
  },
  {
   "cell_type": "code",
   "execution_count": null,
   "metadata": {
    "colab": {
     "base_uri": "https://localhost:8080/"
    },
    "id": "GcERrhQwxfdt",
    "outputId": "4e5a6b9a-67f5-4632-91b4-9bc7c0b7b152"
   },
   "outputs": [],
   "source": [
    "# Original YOLOv8 model\n",
    "!yolo detect val model=runs/detect/yolov8_tomato_leaf/weights/best.pt data=data/tomato_leaf.yaml iou=0.5 name=yolov8_tomato_leaf_val"
   ]
  },
  {
   "cell_type": "code",
   "execution_count": null,
   "metadata": {
    "colab": {
     "base_uri": "https://localhost:8080/"
    },
    "id": "Vo07JMf4x7fw",
    "outputId": "1ce049e6-7883-4902-99c0-97c3bf914ad8"
   },
   "outputs": [],
   "source": [
    "# YOLOv8 for big objects with TensorRT\n",
    "!yolo detect val model=runs/detect/yolov8_tomato_leaf_big/weights/best.engine data=data/tomato_leaf.yaml iou=0.5 name=yolov8_tomato_leaf_big_tensorrt_val"
   ]
  },
  {
   "cell_type": "markdown",
   "metadata": {
    "id": "TrhfdEX2xdqi"
   },
   "source": [
    "## Speed"
   ]
  },
  {
   "cell_type": "code",
   "execution_count": null,
   "metadata": {
    "colab": {
     "base_uri": "https://localhost:8080/"
    },
    "id": "e3ZOiBEeyI_f",
    "outputId": "74462ec8-3a7e-4028-f85a-1dad316ff495"
   },
   "outputs": [],
   "source": [
    "# Original YOLOv8 model\n",
    "!yolo detect predict model=runs/detect/yolov8_tomato_leaf/weights/best.pt source=inference/tomato_healthy.JPG save=True"
   ]
  },
  {
   "cell_type": "code",
   "execution_count": null,
   "metadata": {
    "colab": {
     "base_uri": "https://localhost:8080/"
    },
    "id": "6SH77eUEyJGf",
    "outputId": "210188ec-f5c0-44e6-bf4d-be35f19ad538"
   },
   "outputs": [],
   "source": [
    "# YOLOv8 for big objects with TensorRT\n",
    "!yolo detect predict model=runs/detect/yolov8_tomato_leaf_big/weights/best.engine source=inference/tomato_healthy.JPG save=True"
   ]
  }
 ],
 "metadata": {
  "accelerator": "GPU",
  "colab": {
   "collapsed_sections": [
    "NfIJMopstsYw",
    "dmaGYRr4bve_",
    "PaSx9UV5wtWx"
   ],
   "gpuType": "T4",
   "provenance": []
  },
  "environment": {
   "kernel": "python3",
   "name": "common-cu121.m122",
   "type": "gcloud",
   "uri": "us-docker.pkg.dev/deeplearning-platform-release/gcr.io/base-cu121:m122"
  },
  "kernelspec": {
   "display_name": "Python 3 (Local)",
   "language": "python",
   "name": "python3"
  },
  "language_info": {
   "codemirror_mode": {
    "name": "ipython",
    "version": 3
   },
   "file_extension": ".py",
   "mimetype": "text/x-python",
   "name": "python",
   "nbconvert_exporter": "python",
   "pygments_lexer": "ipython3",
   "version": "3.10.14"
  }
 },
 "nbformat": 4,
 "nbformat_minor": 4
}
