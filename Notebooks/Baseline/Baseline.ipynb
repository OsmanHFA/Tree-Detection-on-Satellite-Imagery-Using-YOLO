{
 "cells": [
  {
   "cell_type": "markdown",
   "id": "4f4edb1a-6eeb-4d7a-b45e-80b1a89d3a71",
   "metadata": {},
   "source": [
    "# Baseline Method"
   ]
  },
  {
   "cell_type": "code",
   "execution_count": 16,
   "id": "5c0b27f4-9b37-4adc-9b4f-f2123d68c419",
   "metadata": {
    "tags": []
   },
   "outputs": [
    {
     "data": {
      "text/html": [
       "\n",
       "            <style>\n",
       "                .geemap-dark {\n",
       "                    --jp-widgets-color: white;\n",
       "                    --jp-widgets-label-color: white;\n",
       "                    --jp-ui-font-color1: white;\n",
       "                    --jp-layout-color2: #454545;\n",
       "                    background-color: #383838;\n",
       "                }\n",
       "\n",
       "                .geemap-dark .jupyter-button {\n",
       "                    --jp-layout-color3: #383838;\n",
       "                }\n",
       "\n",
       "                .geemap-colab {\n",
       "                    background-color: var(--colab-primary-surface-color, white);\n",
       "                }\n",
       "\n",
       "                .geemap-colab .jupyter-button {\n",
       "                    --jp-layout-color3: var(--colab-primary-surface-color, white);\n",
       "                }\n",
       "            </style>\n",
       "            "
      ],
      "text/plain": [
       "<IPython.core.display.HTML object>"
      ]
     },
     "metadata": {},
     "output_type": "display_data"
    }
   ],
   "source": [
    "import ee \n",
    "import geemap"
   ]
  },
  {
   "cell_type": "markdown",
   "id": "8b0a1948-b6f2-42e4-8e3a-325b0cf900d0",
   "metadata": {},
   "source": [
    "## Javascript Code before Python Conversion "
   ]
  },
  {
   "cell_type": "code",
   "execution_count": 15,
   "id": "ac423386-5514-4295-a789-01ec43547141",
   "metadata": {
    "tags": []
   },
   "outputs": [
    {
     "data": {
      "text/html": [
       "\n",
       "            <style>\n",
       "                .geemap-dark {\n",
       "                    --jp-widgets-color: white;\n",
       "                    --jp-widgets-label-color: white;\n",
       "                    --jp-ui-font-color1: white;\n",
       "                    --jp-layout-color2: #454545;\n",
       "                    background-color: #383838;\n",
       "                }\n",
       "\n",
       "                .geemap-dark .jupyter-button {\n",
       "                    --jp-layout-color3: #383838;\n",
       "                }\n",
       "\n",
       "                .geemap-colab {\n",
       "                    background-color: var(--colab-primary-surface-color, white);\n",
       "                }\n",
       "\n",
       "                .geemap-colab .jupyter-button {\n",
       "                    --jp-layout-color3: var(--colab-primary-surface-color, white);\n",
       "                }\n",
       "            </style>\n",
       "            "
      ],
      "text/plain": [
       "<IPython.core.display.HTML object>"
      ]
     },
     "metadata": {},
     "output_type": "display_data"
    }
   ],
   "source": [
    "js_snippet = \"\"\"\n",
    "var GFCC30TC = ee.ImageCollection(\"projects/sat-io/open-datasets/GFCC30TC\"),\n",
    "    countries = ee.FeatureCollection(\"FAO/GAUL/2015/level0\"),\n",
    "    roi = \n",
    "    /* color: #d6d6d6 */\n",
    "    /* displayProperties: [\n",
    "      {\n",
    "        \"type\": \"rectangle\"\n",
    "      }\n",
    "    ] */\n",
    "    ee.Geometry.Polygon(\n",
    "        [[[-93.27492227424355, 37.14563715053642],\n",
    "          [-93.27492227424355, 37.14513365046913],\n",
    "          [-93.27426245082589, 37.14513365046913],\n",
    "          [-93.27426245082589, 37.14563715053642]]], null, false);\n",
    "          \n",
    "print(GFCC30TC)\n",
    "var vis = ['#CCFFCC','#99FF99','#66FF66','#33CC33','#009900','#006600','#003300','#000000'];\n",
    "\n",
    "Map.addLayer(GFCC30TC.filterDate('2000-01-01','2001-12-31').mosaic().clip(countries),{min:0,max:150,palette:vis},'GFCC30TC 2000')\n",
    "Map.addLayer(GFCC30TC.filterDate('2015-01-01','2015-12-31').mosaic().clip(countries),{min:0,max:150,palette:vis},'GFCC30TC 2015')\n",
    "\n",
    "var area_of_roi = roi.area(1).getInfo();  \n",
    "print('Area of ROI (square meters):', area_of_roi);\n",
    "\n",
    "var canopy_cover = GFCC30TC.filterDate('2015-01-01', '2015-12-31').mosaic().clip(roi);\n",
    "print('Canopy Cover Image:', canopy_cover);\n",
    "\n",
    "var canopy_cover_percentage = canopy_cover.reduceRegion({\n",
    "  reducer: ee.Reducer.mean(),\n",
    "  geometry: roi,\n",
    "  scale: 30,\n",
    "  maxPixels: 1e9\n",
    "});\n",
    "\n",
    "canopy_cover_percentage = canopy_cover_percentage.getInfo();\n",
    "print('Canopy Cover Percentage:', canopy_cover_percentage);\n",
    "\n",
    "var canopy_cover_proportion = canopy_cover_percentage['b1'] / 100;\n",
    "print(\"Canopy Cover Proportion:\", canopy_cover_proportion)\n",
    "var average_tree_area = 35;  \n",
    "var estimated_tree_count = (area_of_roi / average_tree_area) * canopy_cover_proportion;\n",
    "print('Estimated Tree Count:', estimated_tree_count);\n",
    "\"\"\""
   ]
  },
  {
   "cell_type": "code",
   "execution_count": 9,
   "id": "b00d0bb1-b08c-46d4-8b7e-da32e81f067e",
   "metadata": {
    "tags": []
   },
   "outputs": [
    {
     "data": {
      "text/html": [
       "\n",
       "            <style>\n",
       "                .geemap-dark {\n",
       "                    --jp-widgets-color: white;\n",
       "                    --jp-widgets-label-color: white;\n",
       "                    --jp-ui-font-color1: white;\n",
       "                    --jp-layout-color2: #454545;\n",
       "                    background-color: #383838;\n",
       "                }\n",
       "\n",
       "                .geemap-dark .jupyter-button {\n",
       "                    --jp-layout-color3: #383838;\n",
       "                }\n",
       "\n",
       "                .geemap-colab {\n",
       "                    background-color: var(--colab-primary-surface-color, white);\n",
       "                }\n",
       "\n",
       "                .geemap-colab .jupyter-button {\n",
       "                    --jp-layout-color3: var(--colab-primary-surface-color, white);\n",
       "                }\n",
       "            </style>\n",
       "            "
      ],
      "text/plain": [
       "<IPython.core.display.HTML object>"
      ]
     },
     "metadata": {},
     "output_type": "display_data"
    }
   ],
   "source": [
    "geemap.js_snippet_to_py(\n",
    "    js_snippet, add_new_cell=True, import_ee=True, import_geemap=True, show_map=True\n",
    ")"
   ]
  },
  {
   "cell_type": "markdown",
   "id": "d175cbca-0b3c-41e3-a5fd-be542c759b1b",
   "metadata": {},
   "source": [
    "# Baseline Method in Python"
   ]
  },
  {
   "cell_type": "code",
   "execution_count": null,
   "id": "63de7e7a-181c-4c42-a6b5-64d7ce7044f7",
   "metadata": {
    "tags": []
   },
   "outputs": [],
   "source": [
    "# Initialize the Earth Engine API.\n",
    "ee.Initialize()\n",
    "\n",
    "# Create the map object\n",
    "m = geemap.Map()\n",
    "\n",
    "# Define the image collection and feature collection\n",
    "GFCC30TC = ee.ImageCollection(\"projects/sat-io/open-datasets/GFCC30TC\")\n",
    "countries = ee.FeatureCollection(\"FAO/GAUL/2015/level0\")\n",
    "\n",
    "# Define the ROI (region of interest) using a Polygon geometry\n",
    "roi = ee.Geometry.Polygon(\n",
    "    [[[-93.27492227424355, 37.14563715053642],\n",
    "      [-93.27492227424355, 37.14513365046913],\n",
    "      [-93.27426245082589, 37.14513365046913],\n",
    "      [-93.27426245082589, 37.14563715053642]]], None, False)\n",
    "\n",
    "# Visualize the GFCC30TC data\n",
    "print(GFCC30TC)\n",
    "\n",
    "# Define visualization parameters for the layers\n",
    "vis = ['#CCFFCC','#99FF99','#66FF66','#33CC33','#009900','#006600','#003300','#000000']\n",
    "\n",
    "# Add the GFCC30TC layer for the year 2000\n",
    "m.addLayer(\n",
    "    GFCC30TC.filterDate('2000-01-01', '2001-12-31').mosaic().clip(countries),\n",
    "    {'min': 0, 'max': 150, 'palette': vis},\n",
    "    'GFCC30TC 2000'\n",
    ")\n",
    "\n",
    "# Add the GFCC30TC layer for the year 2015\n",
    "m.addLayer(\n",
    "    GFCC30TC.filterDate('2015-01-01', '2015-12-31').mosaic().clip(countries),\n",
    "    {'min': 0, 'max': 150, 'palette': vis},\n",
    "    'GFCC30TC 2015'\n",
    ")\n",
    "\n",
    "# Calculate the area of the ROI\n",
    "area_of_roi = roi.area(1).getInfo()\n",
    "print('Area of ROI (square meters):', area_of_roi)\n",
    "\n",
    "# Get the canopy cover image for the year 2015, clipped to the ROI\n",
    "canopy_cover = GFCC30TC.filterDate('2015-01-01', '2015-12-31').mosaic().clip(roi)\n",
    "print('Canopy Cover Image:', canopy_cover)\n",
    "\n",
    "# Calculate the canopy cover percentage\n",
    "canopy_cover_percentage = canopy_cover.reduceRegion(**{\n",
    "    'reducer': ee.Reducer.mean(),\n",
    "    'geometry': roi,\n",
    "    'scale': 30,\n",
    "    'maxPixels': 1e9\n",
    "})\n",
    "\n",
    "# Get the results as a dictionary\n",
    "canopy_cover_percentage = canopy_cover_percentage.getInfo()\n",
    "\n",
    "# Check if the band is named correctly in the canopy cover image\n",
    "print('Canopy Cover Percentage:', canopy_cover_percentage)\n",
    "\n",
    "# If the band name is not 'b1', adjust it based on your dataset\n",
    "canopy_cover_proportion = canopy_cover_percentage['b1'] / 100  # Change 'b1' to the correct band name if necessary\n",
    "print(\"Canopy Cover Proportion:\", canopy_cover_proportion)\n",
    "\n",
    "# Calculate the estimated tree count\n",
    "average_tree_area = 35  # Average tree area in square meters\n",
    "estimated_tree_count = (area_of_roi / average_tree_area) * canopy_cover_proportion\n",
    "print('Estimated Tree Count:', estimated_tree_count)\n",
    "\n",
    "# Display the map\n",
    "m.addLayerControl()  # This adds the layer control to the map.\n",
    "m\n"
   ]
  },
  {
   "cell_type": "code",
   "execution_count": null,
   "id": "ccf76183-43d4-464a-9698-afd3adca1802",
   "metadata": {},
   "outputs": [],
   "source": []
  }
 ],
 "metadata": {
  "environment": {
   "kernel": "python3",
   "name": "common-cu121.m122",
   "type": "gcloud",
   "uri": "us-docker.pkg.dev/deeplearning-platform-release/gcr.io/base-cu121:m122"
  },
  "kernelspec": {
   "display_name": "Python 3 (Local)",
   "language": "python",
   "name": "python3"
  },
  "language_info": {
   "codemirror_mode": {
    "name": "ipython",
    "version": 3
   },
   "file_extension": ".py",
   "mimetype": "text/x-python",
   "name": "python",
   "nbconvert_exporter": "python",
   "pygments_lexer": "ipython3",
   "version": "3.10.14"
  }
 },
 "nbformat": 4,
 "nbformat_minor": 5
}
