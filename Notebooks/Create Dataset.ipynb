{
 "cells": [
  {
   "cell_type": "markdown",
   "id": "b0418f85-338c-4a12-a202-ddf811e1a841",
   "metadata": {},
   "source": [
    "# Combining Roboflow Datasets to Train BigYOLO"
   ]
  },
  {
   "cell_type": "code",
   "execution_count": 4,
   "id": "858fe8b3-cf3f-4115-a2e1-4a5cbb1c7db5",
   "metadata": {
    "tags": []
   },
   "outputs": [],
   "source": [
    "import sys\n",
    "sys.path.append('../src')\n",
    "from data_utils import download_images_and_labels\n",
    "import os\n",
    "import shutil"
   ]
  },
  {
   "cell_type": "markdown",
   "id": "2e9e3d4f-c272-4f1c-880e-619bcd8154df",
   "metadata": {},
   "source": [
    "## Download Images from Bucket"
   ]
  },
  {
   "cell_type": "code",
   "execution_count": null,
   "id": "079f3f3c-a8e8-40af-9492-8f943d0511a0",
   "metadata": {
    "tags": []
   },
   "outputs": [],
   "source": [
    "# Downloading the three additional datasets\n",
    "bucket_name = 'tree-counting-project'\n",
    "\n",
    "prefix_219 = 'Dataset 219-27-27/' \n",
    "local_dir_219 = '../Data/Dataset 219-27-27'\n",
    "\n",
    "prefix_64 = 'Dataset 64-18-9/' \n",
    "local_dir_64 = '../Data/Dataset 64-18-9'\n",
    "\n",
    "prefix_97 = 'Dataset 97-14-14/' \n",
    "local_dir_97 = '../Data/Dataset 97-14-14'\n",
    "\n",
    "# Download images and labels (RUN ONCE)\n",
    "download_images_and_labels(bucket_name, prefix_219, local_dir_219)\n",
    "download_images_and_labels(bucket_name, prefix_64, local_dir_64)\n",
    "download_images_and_labels(bucket_name, prefix_97, local_dir_97)"
   ]
  },
  {
   "cell_type": "markdown",
   "id": "2e7bb649-1435-45a7-bfae-b9f8fba831b4",
   "metadata": {},
   "source": [
    "## Create Directory Structure"
   ]
  },
  {
   "cell_type": "code",
   "execution_count": 9,
   "id": "7132c40b-4ee6-4093-bf45-b44e99c81854",
   "metadata": {
    "tags": []
   },
   "outputs": [],
   "source": [
    "datasets = [\n",
    "    '../Data/Dataset 64-18-9',\n",
    "    '../Data/Dataset 97-14-14',\n",
    "    '../Data/Dataset 219-27-27',\n",
    "    '../Data/Dataset 348-17-15'\n",
    "]\n",
    "\n",
    "# Combined dataset path\n",
    "combined_dataset_path = '../Data/Combined Dataset'"
   ]
  },
  {
   "cell_type": "code",
   "execution_count": 6,
   "id": "ed9e782d-cefe-41d1-992f-4f1a03f67774",
   "metadata": {
    "tags": []
   },
   "outputs": [],
   "source": [
    "os.makedirs(os.path.join(combined_dataset_path, 'train/images'), exist_ok=True)\n",
    "os.makedirs(os.path.join(combined_dataset_path, 'train/labels'), exist_ok=True)\n",
    "os.makedirs(os.path.join(combined_dataset_path, 'valid/images'), exist_ok=True)\n",
    "os.makedirs(os.path.join(combined_dataset_path, 'valid/labels'), exist_ok=True)\n",
    "os.makedirs(os.path.join(combined_dataset_path, 'test/images'), exist_ok=True)\n",
    "os.makedirs(os.path.join(combined_dataset_path, 'test/labels'), exist_ok=True)"
   ]
  },
  {
   "cell_type": "markdown",
   "id": "2821a2f0-bce6-4e33-9d7d-5207a1a6f3a9",
   "metadata": {},
   "source": [
    "# Copying Train, Validation and Test Data"
   ]
  },
  {
   "cell_type": "code",
   "execution_count": 12,
   "id": "d6726952-9ac7-4f13-904a-8419667592e4",
   "metadata": {
    "tags": []
   },
   "outputs": [],
   "source": [
    "def copy_files(src_folder, dst_folder, subfolder):\n",
    "    src_images = os.path.join(src_folder, subfolder, 'images')\n",
    "    src_labels = os.path.join(src_folder, subfolder, 'labels')\n",
    "    dst_images = os.path.join(dst_folder, subfolder, 'images')\n",
    "    dst_labels = os.path.join(dst_folder, subfolder, 'labels')\n",
    "\n",
    "    for file_name in os.listdir(src_images):\n",
    "        src_file = os.path.join(src_images, file_name)\n",
    "        if os.path.isfile(src_file):\n",
    "            shutil.copy(src_file, dst_images)\n",
    "    \n",
    "    for file_name in os.listdir(src_labels):\n",
    "        src_file = os.path.join(src_labels, file_name)\n",
    "        if os.path.isfile(src_file):\n",
    "            shutil.copy(src_file, dst_labels)"
   ]
  },
  {
   "cell_type": "code",
   "execution_count": 13,
   "id": "37cd7eaa-a3d7-4eac-ac71-689db5f505b7",
   "metadata": {
    "tags": []
   },
   "outputs": [],
   "source": [
    "for dataset in datasets:\n",
    "    copy_files(dataset, combined_dataset_path, 'train')\n",
    "    copy_files(dataset, combined_dataset_path, 'valid')\n",
    "    copy_files(dataset, combined_dataset_path, 'test')"
   ]
  },
  {
   "cell_type": "code",
   "execution_count": 19,
   "id": "f0d24315-c648-4265-9b40-7f904b94cae2",
   "metadata": {
    "tags": []
   },
   "outputs": [
    {
     "data": {
      "text/plain": [
       "76"
      ]
     },
     "execution_count": 19,
     "metadata": {},
     "output_type": "execute_result"
    }
   ],
   "source": [
    "expected_test_images = 65\n",
    "actual_test_images = len([f for f in os.listdir(os.path.join(combined_dataset_path, 'valid/images')) if os.path.isfile(os.path.join(combined_dataset_path, 'valid/images', f))])\n",
    "actual_test_images"
   ]
  },
  {
   "cell_type": "code",
   "execution_count": null,
   "id": "6de0fb0e-b915-4907-a300-cdb3ba94880c",
   "metadata": {},
   "outputs": [],
   "source": []
  }
 ],
 "metadata": {
  "environment": {
   "kernel": "python3",
   "name": "common-cu121.m122",
   "type": "gcloud",
   "uri": "us-docker.pkg.dev/deeplearning-platform-release/gcr.io/base-cu121:m122"
  },
  "kernelspec": {
   "display_name": "Python 3 (Local)",
   "language": "python",
   "name": "python3"
  },
  "language_info": {
   "codemirror_mode": {
    "name": "ipython",
    "version": 3
   },
   "file_extension": ".py",
   "mimetype": "text/x-python",
   "name": "python",
   "nbconvert_exporter": "python",
   "pygments_lexer": "ipython3",
   "version": "3.10.14"
  }
 },
 "nbformat": 4,
 "nbformat_minor": 5
}
