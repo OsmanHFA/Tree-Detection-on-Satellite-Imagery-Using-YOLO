{
 "cells": [
  {
   "cell_type": "markdown",
   "id": "b0418f85-338c-4a12-a202-ddf811e1a841",
   "metadata": {},
   "source": [
    "# Combining Roboflow Datasets to Train BigYOLO"
   ]
  },
  {
   "cell_type": "code",
   "execution_count": 1,
   "id": "858fe8b3-cf3f-4115-a2e1-4a5cbb1c7db5",
   "metadata": {
    "tags": []
   },
   "outputs": [],
   "source": [
    "import sys\n",
    "sys.path.append('../src')\n",
    "from data_utils import download_images_and_labels\n",
    "import os\n",
    "import shutil"
   ]
  },
  {
   "cell_type": "markdown",
   "id": "2e9e3d4f-c272-4f1c-880e-619bcd8154df",
   "metadata": {},
   "source": [
    "## Download Images from Bucket"
   ]
  },
  {
   "cell_type": "code",
   "execution_count": null,
   "id": "079f3f3c-a8e8-40af-9492-8f943d0511a0",
   "metadata": {
    "tags": []
   },
   "outputs": [],
   "source": [
    "# Downloading the three additional datasets\n",
    "bucket_name = 'tree-counting-project'\n",
    "\n",
    "prefix_219 = 'Dataset 219-27-27/' \n",
    "local_dir_219 = '../Data/Dataset 219-27-27'\n",
    "\n",
    "prefix_64 = 'Dataset 64-18-9/' \n",
    "local_dir_64 = '../Data/Dataset 64-18-9'\n",
    "\n",
    "prefix_97 = 'Dataset 97-14-14/' \n",
    "local_dir_97 = '../Data/Dataset 97-14-14'\n",
    "\n",
    "# Download images and labels (RUN ONCE)\n",
    "download_images_and_labels(bucket_name, prefix_219, local_dir_219)\n",
    "download_images_and_labels(bucket_name, prefix_64, local_dir_64)\n",
    "download_images_and_labels(bucket_name, prefix_97, local_dir_97)"
   ]
  },
  {
   "cell_type": "markdown",
   "id": "2e7bb649-1435-45a7-bfae-b9f8fba831b4",
   "metadata": {},
   "source": [
    "## Create Directory Structure"
   ]
  },
  {
   "cell_type": "code",
   "execution_count": 9,
   "id": "7132c40b-4ee6-4093-bf45-b44e99c81854",
   "metadata": {
    "tags": []
   },
   "outputs": [],
   "source": [
    "datasets = [\n",
    "    '../Data/Dataset 64-18-9',\n",
    "    '../Data/Dataset 97-14-14',\n",
    "    '../Data/Dataset 219-27-27',\n",
    "    '../Data/Dataset 348-17-15'\n",
    "]\n",
    "\n",
    "# Combined dataset path\n",
    "combined_dataset_path = '../Data/Combined Dataset'"
   ]
  },
  {
   "cell_type": "code",
   "execution_count": 6,
   "id": "ed9e782d-cefe-41d1-992f-4f1a03f67774",
   "metadata": {
    "tags": []
   },
   "outputs": [],
   "source": [
    "os.makedirs(os.path.join(combined_dataset_path, 'train/images'), exist_ok=True)\n",
    "os.makedirs(os.path.join(combined_dataset_path, 'train/labels'), exist_ok=True)\n",
    "os.makedirs(os.path.join(combined_dataset_path, 'valid/images'), exist_ok=True)\n",
    "os.makedirs(os.path.join(combined_dataset_path, 'valid/labels'), exist_ok=True)\n",
    "os.makedirs(os.path.join(combined_dataset_path, 'test/images'), exist_ok=True)\n",
    "os.makedirs(os.path.join(combined_dataset_path, 'test/labels'), exist_ok=True)"
   ]
  },
  {
   "cell_type": "markdown",
   "id": "2821a2f0-bce6-4e33-9d7d-5207a1a6f3a9",
   "metadata": {},
   "source": [
    "# Copying Train, Validation and Test Data"
   ]
  },
  {
   "cell_type": "code",
   "execution_count": 14,
   "id": "d6726952-9ac7-4f13-904a-8419667592e4",
   "metadata": {
    "tags": []
   },
   "outputs": [],
   "source": [
    "def copy_files(src_folder, dst_folder, subfolder):\n",
    "    src_images = os.path.join(src_folder, subfolder, 'images')\n",
    "    src_labels = os.path.join(src_folder, subfolder, 'labels')\n",
    "    dst_images = os.path.join(dst_folder, subfolder, 'images')\n",
    "    dst_labels = os.path.join(dst_folder, subfolder, 'labels')\n",
    "\n",
    "    for file_name in os.listdir(src_images):\n",
    "        src_file = os.path.join(src_images, file_name)\n",
    "        if os.path.isfile(src_file):\n",
    "            shutil.copy(src_file, dst_images)\n",
    "    \n",
    "    for file_name in os.listdir(src_labels):\n",
    "        src_file = os.path.join(src_labels, file_name)\n",
    "        if os.path.isfile(src_file):\n",
    "            shutil.copy(src_file, dst_labels)"
   ]
  },
  {
   "cell_type": "code",
   "execution_count": 13,
   "id": "37cd7eaa-a3d7-4eac-ac71-689db5f505b7",
   "metadata": {
    "tags": []
   },
   "outputs": [],
   "source": [
    "for dataset in datasets:\n",
    "    copy_files(dataset, combined_dataset_path, 'train')\n",
    "    copy_files(dataset, combined_dataset_path, 'valid')\n",
    "    copy_files(dataset, combined_dataset_path, 'test')"
   ]
  },
  {
   "cell_type": "code",
   "execution_count": 19,
   "id": "f0d24315-c648-4265-9b40-7f904b94cae2",
   "metadata": {
    "tags": []
   },
   "outputs": [
    {
     "data": {
      "text/plain": [
       "76"
      ]
     },
     "execution_count": 19,
     "metadata": {},
     "output_type": "execute_result"
    }
   ],
   "source": [
    "expected_test_images = 65\n",
    "actual_test_images = len([f for f in os.listdir(os.path.join(combined_dataset_path, 'valid/images')) if os.path.isfile(os.path.join(combined_dataset_path, 'valid/images', f))])\n",
    "actual_test_images"
   ]
  },
  {
   "cell_type": "markdown",
   "id": "1935d371-bf14-44de-bd77-52c030ac34ff",
   "metadata": {},
   "source": [
    "# Combining Roboflow Datasets to Train RetinaNet"
   ]
  },
  {
   "cell_type": "code",
   "execution_count": 12,
   "id": "fb637cae-762a-496d-8cca-66a39058e35d",
   "metadata": {
    "tags": []
   },
   "outputs": [],
   "source": [
    "xml_datasets = [\n",
    "    '../Data/Datasets XML/Dataset 64-18-9',\n",
    "    '../Data/Datasets XML/Dataset 97-14-14',\n",
    "    '../Data/Datasets XML/Dataset 219-27-27',\n",
    "    '../Data/Datasets XML/Dataset 348-17-15'\n",
    "]\n",
    "\n",
    "# Combined dataset path\n",
    "combined_dataset_path = '../Data/Combined Dataset XML'"
   ]
  },
  {
   "cell_type": "code",
   "execution_count": 8,
   "id": "eb90d7df-f287-4619-9901-690db274347c",
   "metadata": {
    "tags": []
   },
   "outputs": [],
   "source": [
    "def copy_files(src_folder, dest_folder):\n",
    "    for item in os.listdir(src_folder):\n",
    "        src_path = os.path.join(src_folder, item)\n",
    "        dest_path = os.path.join(dest_folder, item)\n",
    "        if os.path.isdir(src_path):\n",
    "            shutil.copytree(src_path, dest_path, dirs_exist_ok=True)\n",
    "        else:\n",
    "            shutil.copy2(src_path, dest_path)\n"
   ]
  },
  {
   "cell_type": "code",
   "execution_count": 16,
   "id": "fe1c52bc-0824-4bc7-a245-d4ff5ca4305b",
   "metadata": {},
   "outputs": [],
   "source": [
    "for dataset in xml_datasets:\n",
    "    copy_files(os.path.join(dataset, 'train'), os.path.join(combined_dataset_path, 'train'))\n",
    "    copy_files(os.path.join(dataset, 'test'), os.path.join(combined_dataset_path, 'test'))\n",
    "    copy_files(os.path.join(dataset, 'valid'), os.path.join(combined_dataset_path, 'valid'))\n",
    "\n"
   ]
  },
  {
   "cell_type": "code",
   "execution_count": 18,
   "id": "a897f845-c972-4d02-badb-7e9277272f36",
   "metadata": {
    "tags": []
   },
   "outputs": [
    {
     "data": {
      "text/plain": [
       "152"
      ]
     },
     "execution_count": 18,
     "metadata": {},
     "output_type": "execute_result"
    }
   ],
   "source": [
    "actual_test_images = len([f for f in os.listdir(os.path.join(combined_dataset_path, 'test')) if os.path.isfile(os.path.join(combined_dataset_path, 'test', f))])\n",
    "actual_test_images"
   ]
  },
  {
   "cell_type": "markdown",
   "id": "a2544cc7-a3e1-4987-862e-72bee805a49b",
   "metadata": {},
   "source": [
    "# RetinaNet and SSD Datasets"
   ]
  },
  {
   "cell_type": "code",
   "execution_count": 2,
   "id": "a6dbf06a-3ce0-4c48-8a10-54ff2949265a",
   "metadata": {},
   "outputs": [],
   "source": [
    "xml_datasets = [\n",
    "    '../Data/Datasets XML/Dataset 64-18-9',\n",
    "    '../Data/Datasets XML/Dataset 97-14-14',\n",
    "    '../Data/Datasets XML/Dataset 219-27-27']\n",
    "\n",
    "# Combined dataset path\n",
    "combined_dataset_path_xml = '../Data/Combined Dataset XML No Aug'"
   ]
  },
  {
   "cell_type": "code",
   "execution_count": 5,
   "id": "8d06d666-7e76-4624-8d93-5617fe73b7a3",
   "metadata": {
    "tags": []
   },
   "outputs": [],
   "source": [
    "for dataset in xml_datasets:\n",
    "    copy_files(os.path.join(dataset, 'train'), os.path.join(combined_dataset_path_xml, 'train'))\n",
    "    copy_files(os.path.join(dataset, 'test'), os.path.join(combined_dataset_path_xml, 'test'))\n",
    "    copy_files(os.path.join(dataset, 'valid'), os.path.join(combined_dataset_path_xml, 'valid'))"
   ]
  },
  {
   "cell_type": "code",
   "execution_count": 6,
   "id": "ce4f616f-30d8-4a48-93b9-219b7c74eba0",
   "metadata": {
    "tags": []
   },
   "outputs": [
    {
     "data": {
      "text/plain": [
       "100"
      ]
     },
     "execution_count": 6,
     "metadata": {},
     "output_type": "execute_result"
    }
   ],
   "source": [
    "actual_test_images = len([f for f in os.listdir(os.path.join(combined_dataset_path_xml, 'test')) if os.path.isfile(os.path.join(combined_dataset_path_xml, 'test', f))])\n",
    "actual_test_images"
   ]
  },
  {
   "cell_type": "markdown",
   "id": "19d456c9-749d-4542-ab97-3e692992ec62",
   "metadata": {},
   "source": [
    "# YOLOv8 Custom Dataset"
   ]
  },
  {
   "cell_type": "code",
   "execution_count": 3,
   "id": "b3816270-da54-46bd-8583-79988bc6c1c0",
   "metadata": {
    "tags": []
   },
   "outputs": [],
   "source": [
    "yolo_datasets = [\n",
    "    '../Data/Datasets YOLOv8/Dataset 64-18-9',\n",
    "    '../Data/Datasets YOLOv8/Dataset 97-14-14',\n",
    "    '../Data/Datasets YOLOv8/Dataset 219-27-27']\n",
    "\n",
    "combined_dataset_path_yolo = '../Data/Combined Dataset YOLO No Aug'"
   ]
  },
  {
   "cell_type": "code",
   "execution_count": 6,
   "id": "509dab41-b7bb-4887-9097-924223df4251",
   "metadata": {
    "tags": []
   },
   "outputs": [],
   "source": [
    "for dataset in yolo_datasets:\n",
    "    copy_files(os.path.join(dataset, 'train'), os.path.join(combined_dataset_path_yolo, 'train'))\n",
    "    copy_files(os.path.join(dataset, 'test'), os.path.join(combined_dataset_path_yolo, 'test'))\n",
    "    copy_files(os.path.join(dataset, 'valid'), os.path.join(combined_dataset_path_yolo, 'valid'))"
   ]
  },
  {
   "cell_type": "code",
   "execution_count": 13,
   "id": "16b96dae-e53e-4da9-bee8-ad7755aab209",
   "metadata": {
    "tags": []
   },
   "outputs": [
    {
     "data": {
      "text/plain": [
       "50"
      ]
     },
     "execution_count": 13,
     "metadata": {},
     "output_type": "execute_result"
    }
   ],
   "source": [
    "actual_test_images = len([f for f in os.listdir(os.path.join(combined_dataset_path_yolo, 'test/images')) if os.path.isfile(os.path.join(combined_dataset_path_yolo, 'test/images', f))])\n",
    "actual_test_images"
   ]
  },
  {
   "cell_type": "markdown",
   "id": "d8aa35b4-a5a8-4fc4-9e1f-f2f4d1028028",
   "metadata": {
    "jp-MarkdownHeadingCollapsed": true,
    "tags": []
   },
   "source": [
    "# Downloading Geospatial Datasets"
   ]
  },
  {
   "cell_type": "markdown",
   "id": "91b805c1-b568-4565-b24a-e42210e2c606",
   "metadata": {},
   "source": [
    "# GEE Dataset in YOLO format"
   ]
  },
  {
   "cell_type": "code",
   "execution_count": null,
   "id": "a501e078-8ed7-460e-8dab-9688b2df607d",
   "metadata": {
    "tags": []
   },
   "outputs": [],
   "source": [
    "bucket_name = 'tree-counting-project'\n",
    "\n",
    "yolo_prefix = 'GEE Dataset/GEE Dataset YOLOv8' \n",
    "yolo_dataset_dir = '../Data/GEE Dataset/Dataset YOLO'\n",
    "\n",
    "download_images_and_labels(bucket_name, yolo_prefix, yolo_dataset_dir)"
   ]
  },
  {
   "cell_type": "markdown",
   "id": "ead35b43-ab51-45df-9b40-b235a9761b32",
   "metadata": {},
   "source": [
    "## GEE Dataset in XML VOC Format"
   ]
  },
  {
   "cell_type": "code",
   "execution_count": null,
   "id": "859437db-3008-4bad-a9c3-39846238d96b",
   "metadata": {
    "tags": []
   },
   "outputs": [],
   "source": [
    "xml_prefix = 'GEE Dataset/GEE Dataset VOC'\n",
    "xml_dataset_dir = '../Data/GEE Dataset/Dataset XML'\n",
    "\n",
    "download_images_and_labels(bucket_name, xml_prefix, xml_dataset_dir)"
   ]
  },
  {
   "cell_type": "markdown",
   "id": "20f1a04b-d598-4cac-973a-742cceac98a9",
   "metadata": {},
   "source": [
    "## How many folders are in a Specific Path"
   ]
  },
  {
   "cell_type": "code",
   "execution_count": 6,
   "id": "978ed7fc-699a-4c8e-84cf-7f53e9e48f71",
   "metadata": {
    "tags": []
   },
   "outputs": [
    {
     "name": "stdout",
     "output_type": "stream",
     "text": [
      "There are 729 items in the folder '/home/jupyter/ee_tree_counting/Data/Combined Dataset/train/images'.\n"
     ]
    }
   ],
   "source": [
    "import os\n",
    "\n",
    "# Specify the folder path\n",
    "folder_path = \"/home/jupyter/ee_tree_counting/Data/Combined Dataset/train/images\"\n",
    "\n",
    "# Count the number of items in the folder\n",
    "items = os.listdir(folder_path)\n",
    "num_items = len(items)\n",
    "\n",
    "print(f\"There are {num_items} items in the folder '{folder_path}'.\")\n"
   ]
  },
  {
   "cell_type": "code",
   "execution_count": null,
   "id": "91fadcb7-2d7f-42e1-a936-7377d5f547a8",
   "metadata": {},
   "outputs": [],
   "source": []
  }
 ],
 "metadata": {
  "environment": {
   "kernel": "python3",
   "name": "common-cu121.m122",
   "type": "gcloud",
   "uri": "us-docker.pkg.dev/deeplearning-platform-release/gcr.io/base-cu121:m122"
  },
  "kernelspec": {
   "display_name": "Python 3 (Local)",
   "language": "python",
   "name": "python3"
  },
  "language_info": {
   "codemirror_mode": {
    "name": "ipython",
    "version": 3
   },
   "file_extension": ".py",
   "mimetype": "text/x-python",
   "name": "python",
   "nbconvert_exporter": "python",
   "pygments_lexer": "ipython3",
   "version": "3.10.14"
  }
 },
 "nbformat": 4,
 "nbformat_minor": 5
}
