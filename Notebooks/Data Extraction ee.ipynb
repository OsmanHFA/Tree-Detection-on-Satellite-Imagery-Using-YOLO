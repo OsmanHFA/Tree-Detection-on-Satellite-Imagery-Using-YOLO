{
 "cells": [
  {
   "cell_type": "markdown",
   "id": "6e19277c-fe4c-4309-8b1a-3ce12d837431",
   "metadata": {},
   "source": [
    "# EE Data Extraction Scripts from Earth Engine Code Editor"
   ]
  },
  {
   "cell_type": "code",
   "execution_count": null,
   "id": "7f0635de-ec46-4ebe-82e9-0979e06898f1",
   "metadata": {},
   "outputs": [],
   "source": []
  }
 ],
 "metadata": {
  "environment": {
   "kernel": "python3",
   "name": "common-cu121.m122",
   "type": "gcloud",
   "uri": "us-docker.pkg.dev/deeplearning-platform-release/gcr.io/base-cu121:m122"
  },
  "kernelspec": {
   "display_name": "Python 3 (Local)",
   "language": "python",
   "name": "python3"
  },
  "language_info": {
   "codemirror_mode": {
    "name": "ipython",
    "version": 3
   },
   "file_extension": ".py",
   "mimetype": "text/x-python",
   "name": "python",
   "nbconvert_exporter": "python",
   "pygments_lexer": "ipython3",
   "version": "3.10.14"
  }
 },
 "nbformat": 4,
 "nbformat_minor": 5
}
