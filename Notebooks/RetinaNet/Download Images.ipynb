{
 "cells": [
  {
   "cell_type": "markdown",
   "id": "38d52ea1-d6a0-4862-af12-99e237258c4c",
   "metadata": {},
   "source": [
    "# Download Images from Bucket"
   ]
  },
  {
   "cell_type": "code",
   "execution_count": null,
   "id": "5199053d-8a54-4fb0-9621-b501fde37641",
   "metadata": {},
   "outputs": [],
   "source": [
    "import os\n",
    "import sys\n",
    "sys.path.append('../ee_tree_counting/src')\n",
    "from data_utils import download_images_and_labels\n",
    "\n",
    "\n",
    "bucket_name = 'tree-counting-project'\n",
    "\n",
    "prefix_219 = 'Roboflow Dataset XML/Dataset 219-27-27/' \n",
    "local_dir_219 = '../Data/Datasets XML/Dataset 219-27-27' \n",
    "\n",
    "prefix_348 = 'Roboflow Dataset XML/Dataset 348-17-15/' \n",
    "local_dir_348 = '../Data/Datasets XML/Dataset 348-17-15'\n",
    "\n",
    "prefix_64 = 'Roboflow Dataset XML/Dataset 64-18-9/' \n",
    "local_dir_64 = '../Data/Datasets XML/Dataset 64-18-9'\n",
    "\n",
    "prefix_97 = 'Roboflow Dataset XML/Dataset 97-14-14/' \n",
    "local_dir_97 = '../Data/Datasets XML/Dataset 97-14-14'\n",
    "\n",
    "# Download images and labels (RUN ONCE)\n",
    "download_images_and_labels(bucket_name, prefix_219, local_dir_219)\n",
    "download_images_and_labels(bucket_name, prefix_64, local_dir_64)\n",
    "download_images_and_labels(bucket_name, prefix_97, local_dir_97)\n",
    "download_images_and_labels(bucket_name, prefix_348, local_dir_348)"
   ]
  }
 ],
 "metadata": {
  "environment": {
   "kernel": "python3",
   "name": "common-cu121.m122",
   "type": "gcloud",
   "uri": "us-docker.pkg.dev/deeplearning-platform-release/gcr.io/base-cu121:m122"
  },
  "kernelspec": {
   "display_name": "Python 3 (Local)",
   "language": "python",
   "name": "python3"
  },
  "language_info": {
   "codemirror_mode": {
    "name": "ipython",
    "version": 3
   },
   "file_extension": ".py",
   "mimetype": "text/x-python",
   "name": "python",
   "nbconvert_exporter": "python",
   "pygments_lexer": "ipython3",
   "version": "3.10.14"
  }
 },
 "nbformat": 4,
 "nbformat_minor": 5
}
