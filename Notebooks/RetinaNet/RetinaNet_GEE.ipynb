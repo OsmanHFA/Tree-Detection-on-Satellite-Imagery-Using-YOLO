{
 "cells": [
  {
   "cell_type": "markdown",
   "id": "df876ca6-c97c-44a7-a54b-c4ce98648112",
   "metadata": {},
   "source": [
    "# Training Pre-trained SSD Model on GEE Dataset"
   ]
  },
  {
   "cell_type": "markdown",
   "id": "d4e3c9a6-62c1-4c6c-a6bc-d1e057870a1b",
   "metadata": {},
   "source": [
    "## Imports"
   ]
  },
  {
   "cell_type": "code",
   "execution_count": 9,
   "id": "59fef4e5-f595-445e-af9b-02a17c151f69",
   "metadata": {
    "tags": []
   },
   "outputs": [],
   "source": [
    "import os\n",
    "os.chdir('/home/jupyter/ee_tree_counting/Models/RetinaNet')"
   ]
  },
  {
   "cell_type": "code",
   "execution_count": 10,
   "id": "c4c31f9f-41a1-44e8-8f28-3fb975908095",
   "metadata": {
    "tags": []
   },
   "outputs": [],
   "source": [
    "from config import (\n",
    "    DEVICE,\n",
    "    NUM_CLASSES,\n",
    "    NUM_EPOCHS,\n",
    "    OUT_DIR,\n",
    "    VISUALIZE_TRANSFORMED_IMAGES,\n",
    "    NUM_WORKERS,\n",
    "    RESIZE_TO,\n",
    "    CLASSES,\n",
    ")\n",
    "from RetinaNet import create_model\n",
    "from custom_utils import (\n",
    "    Averager,\n",
    "    SaveBestModel,\n",
    "    save_model,\n",
    "    save_loss_plot,\n",
    "    save_mAP\n",
    ")\n",
    "from tqdm.auto import tqdm\n",
    "from Datasets import (\n",
    "    CustomDataset,\n",
    "    create_train_dataset,\n",
    "    create_valid_dataset,\n",
    "    create_train_loader,\n",
    "    create_valid_loader\n",
    ")\n",
    "from torchmetrics.detection.mean_ap import MeanAveragePrecision\n",
    "from torch.optim.lr_scheduler import StepLR\n",
    "\n",
    "import torch\n",
    "import matplotlib.pyplot as plt\n",
    "import time\n",
    "import os\n",
    "import csv\n",
    "\n",
    "from torch.cuda.amp import GradScaler, autocast\n",
    "from tqdm.notebook import tqdm\n",
    "\n",
    "plt.style.use('ggplot')\n",
    "\n",
    "seed = 42\n",
    "torch.manual_seed(seed)\n",
    "torch.cuda.manual_seed(seed)\n",
    "torch.cuda.manual_seed_all(seed)"
   ]
  },
  {
   "cell_type": "markdown",
   "id": "15397555-dd7e-4ca6-9d01-9eb9e2a70e3e",
   "metadata": {},
   "source": [
    "## Loading Pre-trained Model"
   ]
  },
  {
   "cell_type": "code",
   "execution_count": 11,
   "id": "b71be0bb-49cd-4fde-abd1-93937687a659",
   "metadata": {
    "tags": []
   },
   "outputs": [],
   "source": [
    "# Update the paths to point to your geospatial dataset\n",
    "TRAIN_DIR = \"/home/jupyter/ee_tree_counting/Data/GEE Dataset/Dataset XML/train\"\n",
    "VALID_DIR = \"/home/jupyter/ee_tree_counting/Data/GEE Dataset/Dataset XML/valid\"\n",
    "\n",
    "# Path to the pre-trained model weights\n",
    "PRETRAINED_WEIGHTS_PATH = \"/home/jupyter/ee_tree_counting/Models/RetinaNet/outputs/RetinaNet pretrained tree model/best_model.pth\"\n",
    "\n",
    "NUM_EPOCH = 100"
   ]
  },
  {
   "cell_type": "markdown",
   "id": "42dc8a01-a306-4e7f-a816-aecbf49427fa",
   "metadata": {},
   "source": [
    "## Model Preview"
   ]
  },
  {
   "cell_type": "code",
   "execution_count": null,
   "id": "11bacf58-ca99-4140-8503-7bb2c25aacd9",
   "metadata": {
    "tags": []
   },
   "outputs": [],
   "source": [
    "model = create_model(num_classes=NUM_CLASSES)\n",
    "checkpoint = torch.load(PRETRAINED_WEIGHTS_PATH, map_location=DEVICE)\n",
    "model.load_state_dict(checkpoint['model_state_dict'])\n",
    "# model.to(DEVICE).eval()\n",
    "model.to(DEVICE).train()"
   ]
  },
  {
   "cell_type": "markdown",
   "id": "76fd5311-d555-4db3-9b22-e141faed0105",
   "metadata": {},
   "source": [
    "## Train and Validate Functions"
   ]
  },
  {
   "cell_type": "code",
   "execution_count": 12,
   "id": "bd7b76b3-bd12-4846-af73-19810cd3e54a",
   "metadata": {
    "tags": []
   },
   "outputs": [],
   "source": [
    "# Function for running training iterations.\n",
    "def train(train_data_loader, model):\n",
    "    print('Training')\n",
    "    model.train()\n",
    "\n",
    "    # initialize tqdm progress bar\n",
    "    prog_bar = tqdm(train_data_loader, total=len(train_data_loader))\n",
    "\n",
    "    for i, data in enumerate(prog_bar):\n",
    "        optimizer.zero_grad()\n",
    "        images, targets = data\n",
    "\n",
    "        images = list(image.to(DEVICE) for image in images)\n",
    "        targets = [{k: v.to(DEVICE) for k, v in t.items()} for t in targets]\n",
    "        loss_dict = model(images, targets)\n",
    "\n",
    "        losses = sum(loss for loss in loss_dict.values())\n",
    "        loss_value = losses.item()\n",
    "\n",
    "        train_loss_hist.send(loss_value)\n",
    "\n",
    "        losses.backward()\n",
    "        optimizer.step()\n",
    "\n",
    "        # update the loss value beside the progress bar for each iteration\n",
    "        prog_bar.set_description(desc=f\"Loss: {loss_value:.4f}\")\n",
    "    return loss_value\n"
   ]
  },
  {
   "cell_type": "code",
   "execution_count": 13,
   "id": "83aed75b-b708-40c8-9a94-53a179a1ba8e",
   "metadata": {
    "tags": []
   },
   "outputs": [],
   "source": [
    "# Function for running validation iterations.\n",
    "def validate(valid_data_loader, model):\n",
    "    print('Validating')\n",
    "    model.eval()\n",
    "    \n",
    "    # Initialize tqdm progress bar.\n",
    "    prog_bar = tqdm(valid_data_loader, total=len(valid_data_loader))\n",
    "    target = []\n",
    "    preds = []\n",
    "    for i, data in enumerate(prog_bar):\n",
    "        images, targets = data\n",
    "        \n",
    "        images = list(image.to(DEVICE) for image in images)\n",
    "        targets = [{k: v.to(DEVICE) for k, v in t.items()} for t in targets]\n",
    "        \n",
    "        with torch.no_grad():\n",
    "            outputs = model(images, targets)\n",
    "\n",
    "        # For mAP calculation using Torchmetrics.\n",
    "        #####################################\n",
    "        for i in range(len(images)):\n",
    "            true_dict = dict()\n",
    "            preds_dict = dict()\n",
    "            true_dict['boxes'] = targets[i]['boxes'].detach().cpu()\n",
    "            true_dict['labels'] = targets[i]['labels'].detach().cpu()\n",
    "            preds_dict['boxes'] = outputs[i]['boxes'].detach().cpu()\n",
    "            preds_dict['scores'] = outputs[i]['scores'].detach().cpu()\n",
    "            preds_dict['labels'] = outputs[i]['labels'].detach().cpu()\n",
    "            preds.append(preds_dict)\n",
    "            target.append(true_dict)\n",
    "        #####################################\n",
    "\n",
    "    metric = MeanAveragePrecision()\n",
    "    metric.update(preds, target)\n",
    "    metric_summary = metric.compute()\n",
    "    return metric_summary\n",
    "\n"
   ]
  },
  {
   "cell_type": "markdown",
   "id": "8e84edc5-98f2-4a46-baed-c5ea1338a716",
   "metadata": {},
   "source": [
    "## Dataloader and Optimiser"
   ]
  },
  {
   "cell_type": "code",
   "execution_count": 13,
   "id": "6528b99b-bb52-4fcf-afca-151b88545c14",
   "metadata": {
    "tags": []
   },
   "outputs": [
    {
     "name": "stdout",
     "output_type": "stream",
     "text": [
      "Number of training samples: 49\n",
      "Number of validation samples: 15\n",
      "\n",
      "36,352,630 total parameters.\n",
      "36,352,630 training parameters.\n",
      "Adjusting learning rate of group 0 to 1.0000e-03.\n"
     ]
    }
   ],
   "source": [
    "train_dataset = create_train_dataset(TRAIN_DIR)\n",
    "valid_dataset = create_valid_dataset(VALID_DIR)\n",
    "train_loader = create_train_loader(train_dataset, NUM_WORKERS)\n",
    "valid_loader = create_valid_loader(valid_dataset, NUM_WORKERS)\n",
    "print(f\"Number of training samples: {len(train_dataset)}\")\n",
    "print(f\"Number of validation samples: {len(valid_dataset)}\\n\")\n",
    "\n",
    "\n",
    "# Total parameters and trainable parameters.\n",
    "total_params = sum(p.numel() for p in model.parameters())\n",
    "print(f\"{total_params:,} total parameters.\")\n",
    "total_trainable_params = sum(\n",
    "    p.numel() for p in model.parameters() if p.requires_grad)\n",
    "print(f\"{total_trainable_params:,} training parameters.\")\n",
    "params = [p for p in model.parameters() if p.requires_grad]\n",
    "optimizer = torch.optim.SGD(params, lr=0.001, momentum=0.9, nesterov=True)\n",
    "scheduler = StepLR(\n",
    "    optimizer=optimizer, step_size=15, gamma=0.1, verbose=True\n",
    ")"
   ]
  },
  {
   "cell_type": "code",
   "execution_count": 14,
   "id": "0d342deb-6e21-42ba-817b-48db374f428d",
   "metadata": {
    "tags": []
   },
   "outputs": [
    {
     "name": "stdout",
     "output_type": "stream",
     "text": [
      "\n",
      "EPOCH 1 of 100\n",
      "Training\n"
     ]
    },
    {
     "data": {
      "application/vnd.jupyter.widget-view+json": {
       "model_id": "9841ff141285431da2549d22033238e2",
       "version_major": 2,
       "version_minor": 0
      },
      "text/plain": [
       "  0%|          | 0/12 [00:00<?, ?it/s]"
      ]
     },
     "metadata": {},
     "output_type": "display_data"
    },
    {
     "name": "stdout",
     "output_type": "stream",
     "text": [
      "Validating\n"
     ]
    },
    {
     "data": {
      "application/vnd.jupyter.widget-view+json": {
       "model_id": "0259cfcb076241e18249021ed3d6b7fc",
       "version_major": 2,
       "version_minor": 0
      },
      "text/plain": [
       "  0%|          | 0/3 [00:00<?, ?it/s]"
      ]
     },
     "metadata": {},
     "output_type": "display_data"
    },
    {
     "name": "stdout",
     "output_type": "stream",
     "text": [
      "Epoch #1 train loss: 1.086\n",
      "Epoch #1 mAP@0.5: 53.93%\n",
      "Epoch #1 mAP@0.5:0.95: 21.46%\n",
      "Took 0.208 minutes for epoch 0\n",
      "\n",
      "BEST VALIDATION mAP: 0.21456171572208405\n",
      "\n",
      "SAVING BEST MODEL FOR EPOCH: 1\n",
      "\n",
      "SAVING PLOTS COMPLETE...\n",
      "Adjusting learning rate of group 0 to 1.0000e-03.\n",
      "\n",
      "EPOCH 2 of 100\n",
      "Training\n"
     ]
    },
    {
     "data": {
      "application/vnd.jupyter.widget-view+json": {
       "model_id": "f9115786cef546829342aa017a9ee5da",
       "version_major": 2,
       "version_minor": 0
      },
      "text/plain": [
       "  0%|          | 0/12 [00:00<?, ?it/s]"
      ]
     },
     "metadata": {},
     "output_type": "display_data"
    },
    {
     "name": "stdout",
     "output_type": "stream",
     "text": [
      "Validating\n"
     ]
    },
    {
     "data": {
      "application/vnd.jupyter.widget-view+json": {
       "model_id": "56cba9c4b8994c0c8274dbfe39b11fb3",
       "version_major": 2,
       "version_minor": 0
      },
      "text/plain": [
       "  0%|          | 0/3 [00:00<?, ?it/s]"
      ]
     },
     "metadata": {},
     "output_type": "display_data"
    },
    {
     "name": "stdout",
     "output_type": "stream",
     "text": [
      "Epoch #2 train loss: 0.614\n",
      "Epoch #2 mAP@0.5: 65.31%\n",
      "Epoch #2 mAP@0.5:0.95: 27.13%\n",
      "Took 0.209 minutes for epoch 1\n",
      "\n",
      "BEST VALIDATION mAP: 0.2712678611278534\n",
      "\n",
      "SAVING BEST MODEL FOR EPOCH: 2\n",
      "\n",
      "SAVING PLOTS COMPLETE...\n",
      "Adjusting learning rate of group 0 to 1.0000e-03.\n",
      "\n",
      "EPOCH 3 of 100\n",
      "Training\n"
     ]
    },
    {
     "data": {
      "application/vnd.jupyter.widget-view+json": {
       "model_id": "290dc1eedfc24260921abe8407d61f56",
       "version_major": 2,
       "version_minor": 0
      },
      "text/plain": [
       "  0%|          | 0/12 [00:00<?, ?it/s]"
      ]
     },
     "metadata": {},
     "output_type": "display_data"
    },
    {
     "name": "stdout",
     "output_type": "stream",
     "text": [
      "Validating\n"
     ]
    },
    {
     "data": {
      "application/vnd.jupyter.widget-view+json": {
       "model_id": "5f291f76b88247b1870c927866369382",
       "version_major": 2,
       "version_minor": 0
      },
      "text/plain": [
       "  0%|          | 0/3 [00:00<?, ?it/s]"
      ]
     },
     "metadata": {},
     "output_type": "display_data"
    },
    {
     "name": "stdout",
     "output_type": "stream",
     "text": [
      "Epoch #3 train loss: 0.544\n",
      "Epoch #3 mAP@0.5: 70.73%\n",
      "Epoch #3 mAP@0.5:0.95: 30.07%\n",
      "Took 0.216 minutes for epoch 2\n",
      "\n",
      "BEST VALIDATION mAP: 0.3007453680038452\n",
      "\n",
      "SAVING BEST MODEL FOR EPOCH: 3\n",
      "\n",
      "SAVING PLOTS COMPLETE...\n",
      "Adjusting learning rate of group 0 to 1.0000e-03.\n",
      "\n",
      "EPOCH 4 of 100\n",
      "Training\n"
     ]
    },
    {
     "data": {
      "application/vnd.jupyter.widget-view+json": {
       "model_id": "59e2f7550dfa4c55994a980f05a9dc24",
       "version_major": 2,
       "version_minor": 0
      },
      "text/plain": [
       "  0%|          | 0/12 [00:00<?, ?it/s]"
      ]
     },
     "metadata": {},
     "output_type": "display_data"
    },
    {
     "name": "stdout",
     "output_type": "stream",
     "text": [
      "Validating\n"
     ]
    },
    {
     "data": {
      "application/vnd.jupyter.widget-view+json": {
       "model_id": "2ff500f4c0f041f490ea7a9f03d6c260",
       "version_major": 2,
       "version_minor": 0
      },
      "text/plain": [
       "  0%|          | 0/3 [00:00<?, ?it/s]"
      ]
     },
     "metadata": {},
     "output_type": "display_data"
    },
    {
     "name": "stdout",
     "output_type": "stream",
     "text": [
      "Epoch #4 train loss: 0.509\n",
      "Epoch #4 mAP@0.5: 75.50%\n",
      "Epoch #4 mAP@0.5:0.95: 32.93%\n",
      "Took 0.213 minutes for epoch 3\n",
      "\n",
      "BEST VALIDATION mAP: 0.3293146789073944\n",
      "\n",
      "SAVING BEST MODEL FOR EPOCH: 4\n",
      "\n",
      "SAVING PLOTS COMPLETE...\n",
      "Adjusting learning rate of group 0 to 1.0000e-03.\n",
      "\n",
      "EPOCH 5 of 100\n",
      "Training\n"
     ]
    },
    {
     "data": {
      "application/vnd.jupyter.widget-view+json": {
       "model_id": "e367936cd7e14090aef82f3f2ee4213d",
       "version_major": 2,
       "version_minor": 0
      },
      "text/plain": [
       "  0%|          | 0/12 [00:00<?, ?it/s]"
      ]
     },
     "metadata": {},
     "output_type": "display_data"
    },
    {
     "name": "stdout",
     "output_type": "stream",
     "text": [
      "Validating\n"
     ]
    },
    {
     "data": {
      "application/vnd.jupyter.widget-view+json": {
       "model_id": "a3ca511527724011ba95939669e0f6bf",
       "version_major": 2,
       "version_minor": 0
      },
      "text/plain": [
       "  0%|          | 0/3 [00:00<?, ?it/s]"
      ]
     },
     "metadata": {},
     "output_type": "display_data"
    },
    {
     "name": "stdout",
     "output_type": "stream",
     "text": [
      "Epoch #5 train loss: 0.463\n",
      "Epoch #5 mAP@0.5: 74.86%\n",
      "Epoch #5 mAP@0.5:0.95: 33.90%\n",
      "Took 0.214 minutes for epoch 4\n",
      "\n",
      "BEST VALIDATION mAP: 0.3389562964439392\n",
      "\n",
      "SAVING BEST MODEL FOR EPOCH: 5\n",
      "\n",
      "SAVING PLOTS COMPLETE...\n",
      "Adjusting learning rate of group 0 to 1.0000e-03.\n",
      "\n",
      "EPOCH 6 of 100\n",
      "Training\n"
     ]
    },
    {
     "data": {
      "application/vnd.jupyter.widget-view+json": {
       "model_id": "5da45c418f6140b98b52e4fc195fea7a",
       "version_major": 2,
       "version_minor": 0
      },
      "text/plain": [
       "  0%|          | 0/12 [00:00<?, ?it/s]"
      ]
     },
     "metadata": {},
     "output_type": "display_data"
    },
    {
     "name": "stdout",
     "output_type": "stream",
     "text": [
      "Validating\n"
     ]
    },
    {
     "data": {
      "application/vnd.jupyter.widget-view+json": {
       "model_id": "07216edc6d944bf39863e7171db787bc",
       "version_major": 2,
       "version_minor": 0
      },
      "text/plain": [
       "  0%|          | 0/3 [00:00<?, ?it/s]"
      ]
     },
     "metadata": {},
     "output_type": "display_data"
    },
    {
     "name": "stdout",
     "output_type": "stream",
     "text": [
      "Epoch #6 train loss: 0.446\n",
      "Epoch #6 mAP@0.5: 77.00%\n",
      "Epoch #6 mAP@0.5:0.95: 36.04%\n",
      "Took 0.211 minutes for epoch 5\n",
      "\n",
      "BEST VALIDATION mAP: 0.3603716790676117\n",
      "\n",
      "SAVING BEST MODEL FOR EPOCH: 6\n",
      "\n",
      "SAVING PLOTS COMPLETE...\n",
      "Adjusting learning rate of group 0 to 1.0000e-03.\n",
      "\n",
      "EPOCH 7 of 100\n",
      "Training\n"
     ]
    },
    {
     "data": {
      "application/vnd.jupyter.widget-view+json": {
       "model_id": "8e2bee4a4ce942f288a01ed96d1e27b7",
       "version_major": 2,
       "version_minor": 0
      },
      "text/plain": [
       "  0%|          | 0/12 [00:00<?, ?it/s]"
      ]
     },
     "metadata": {},
     "output_type": "display_data"
    },
    {
     "name": "stdout",
     "output_type": "stream",
     "text": [
      "Validating\n"
     ]
    },
    {
     "data": {
      "application/vnd.jupyter.widget-view+json": {
       "model_id": "e59877a52bca44b185de11dbb90b196e",
       "version_major": 2,
       "version_minor": 0
      },
      "text/plain": [
       "  0%|          | 0/3 [00:00<?, ?it/s]"
      ]
     },
     "metadata": {},
     "output_type": "display_data"
    },
    {
     "name": "stdout",
     "output_type": "stream",
     "text": [
      "Epoch #7 train loss: 0.424\n",
      "Epoch #7 mAP@0.5: 78.30%\n",
      "Epoch #7 mAP@0.5:0.95: 35.90%\n",
      "Took 0.211 minutes for epoch 6\n",
      "SAVING PLOTS COMPLETE...\n",
      "Adjusting learning rate of group 0 to 1.0000e-03.\n",
      "\n",
      "EPOCH 8 of 100\n",
      "Training\n"
     ]
    },
    {
     "data": {
      "application/vnd.jupyter.widget-view+json": {
       "model_id": "dbc2c5a0d1c84518b0752d17a6d439fb",
       "version_major": 2,
       "version_minor": 0
      },
      "text/plain": [
       "  0%|          | 0/12 [00:00<?, ?it/s]"
      ]
     },
     "metadata": {},
     "output_type": "display_data"
    },
    {
     "name": "stdout",
     "output_type": "stream",
     "text": [
      "Validating\n"
     ]
    },
    {
     "data": {
      "application/vnd.jupyter.widget-view+json": {
       "model_id": "858b87bc51bb408db7527d051ed6eca8",
       "version_major": 2,
       "version_minor": 0
      },
      "text/plain": [
       "  0%|          | 0/3 [00:00<?, ?it/s]"
      ]
     },
     "metadata": {},
     "output_type": "display_data"
    },
    {
     "name": "stdout",
     "output_type": "stream",
     "text": [
      "Epoch #8 train loss: 0.408\n",
      "Epoch #8 mAP@0.5: 82.52%\n",
      "Epoch #8 mAP@0.5:0.95: 38.89%\n",
      "Took 0.214 minutes for epoch 7\n",
      "\n",
      "BEST VALIDATION mAP: 0.3889366090297699\n",
      "\n",
      "SAVING BEST MODEL FOR EPOCH: 8\n",
      "\n",
      "SAVING PLOTS COMPLETE...\n",
      "Adjusting learning rate of group 0 to 1.0000e-03.\n",
      "\n",
      "EPOCH 9 of 100\n",
      "Training\n"
     ]
    },
    {
     "data": {
      "application/vnd.jupyter.widget-view+json": {
       "model_id": "22d4208de3314d709a95f6e0c51051c5",
       "version_major": 2,
       "version_minor": 0
      },
      "text/plain": [
       "  0%|          | 0/12 [00:00<?, ?it/s]"
      ]
     },
     "metadata": {},
     "output_type": "display_data"
    },
    {
     "name": "stdout",
     "output_type": "stream",
     "text": [
      "Validating\n"
     ]
    },
    {
     "data": {
      "application/vnd.jupyter.widget-view+json": {
       "model_id": "a7f9f9270db047709804ac0688d86b40",
       "version_major": 2,
       "version_minor": 0
      },
      "text/plain": [
       "  0%|          | 0/3 [00:00<?, ?it/s]"
      ]
     },
     "metadata": {},
     "output_type": "display_data"
    },
    {
     "name": "stdout",
     "output_type": "stream",
     "text": [
      "Epoch #9 train loss: 0.400\n",
      "Epoch #9 mAP@0.5: 81.10%\n",
      "Epoch #9 mAP@0.5:0.95: 38.90%\n",
      "Took 0.214 minutes for epoch 8\n",
      "\n",
      "BEST VALIDATION mAP: 0.38903120160102844\n",
      "\n",
      "SAVING BEST MODEL FOR EPOCH: 9\n",
      "\n",
      "SAVING PLOTS COMPLETE...\n",
      "Adjusting learning rate of group 0 to 1.0000e-03.\n",
      "\n",
      "EPOCH 10 of 100\n",
      "Training\n"
     ]
    },
    {
     "data": {
      "application/vnd.jupyter.widget-view+json": {
       "model_id": "e40236059381449cbf02e973e235ea15",
       "version_major": 2,
       "version_minor": 0
      },
      "text/plain": [
       "  0%|          | 0/12 [00:00<?, ?it/s]"
      ]
     },
     "metadata": {},
     "output_type": "display_data"
    },
    {
     "name": "stdout",
     "output_type": "stream",
     "text": [
      "Validating\n"
     ]
    },
    {
     "data": {
      "application/vnd.jupyter.widget-view+json": {
       "model_id": "71db460fe1c649c6a6fb7d8c1ca3ce7d",
       "version_major": 2,
       "version_minor": 0
      },
      "text/plain": [
       "  0%|          | 0/3 [00:00<?, ?it/s]"
      ]
     },
     "metadata": {},
     "output_type": "display_data"
    },
    {
     "name": "stdout",
     "output_type": "stream",
     "text": [
      "Epoch #10 train loss: 0.379\n",
      "Epoch #10 mAP@0.5: 81.72%\n",
      "Epoch #10 mAP@0.5:0.95: 38.80%\n",
      "Took 0.212 minutes for epoch 9\n",
      "SAVING PLOTS COMPLETE...\n",
      "Adjusting learning rate of group 0 to 1.0000e-03.\n",
      "\n",
      "EPOCH 11 of 100\n",
      "Training\n"
     ]
    },
    {
     "data": {
      "application/vnd.jupyter.widget-view+json": {
       "model_id": "704dc22b233d4a2d9150f1adc424c234",
       "version_major": 2,
       "version_minor": 0
      },
      "text/plain": [
       "  0%|          | 0/12 [00:00<?, ?it/s]"
      ]
     },
     "metadata": {},
     "output_type": "display_data"
    },
    {
     "name": "stdout",
     "output_type": "stream",
     "text": [
      "Validating\n"
     ]
    },
    {
     "data": {
      "application/vnd.jupyter.widget-view+json": {
       "model_id": "08b4cf1edc6142f6acdd03b1372923bb",
       "version_major": 2,
       "version_minor": 0
      },
      "text/plain": [
       "  0%|          | 0/3 [00:00<?, ?it/s]"
      ]
     },
     "metadata": {},
     "output_type": "display_data"
    },
    {
     "name": "stdout",
     "output_type": "stream",
     "text": [
      "Epoch #11 train loss: 0.366\n",
      "Epoch #11 mAP@0.5: 82.71%\n",
      "Epoch #11 mAP@0.5:0.95: 40.52%\n",
      "Took 0.212 minutes for epoch 10\n",
      "\n",
      "BEST VALIDATION mAP: 0.40517815947532654\n",
      "\n",
      "SAVING BEST MODEL FOR EPOCH: 11\n",
      "\n",
      "SAVING PLOTS COMPLETE...\n",
      "Adjusting learning rate of group 0 to 1.0000e-03.\n",
      "\n",
      "EPOCH 12 of 100\n",
      "Training\n"
     ]
    },
    {
     "data": {
      "application/vnd.jupyter.widget-view+json": {
       "model_id": "1e5295d23b694be5b24c288f45a6f3ee",
       "version_major": 2,
       "version_minor": 0
      },
      "text/plain": [
       "  0%|          | 0/12 [00:00<?, ?it/s]"
      ]
     },
     "metadata": {},
     "output_type": "display_data"
    },
    {
     "name": "stdout",
     "output_type": "stream",
     "text": [
      "Validating\n"
     ]
    },
    {
     "data": {
      "application/vnd.jupyter.widget-view+json": {
       "model_id": "af9d41600e014f8c9a421307df63dadf",
       "version_major": 2,
       "version_minor": 0
      },
      "text/plain": [
       "  0%|          | 0/3 [00:00<?, ?it/s]"
      ]
     },
     "metadata": {},
     "output_type": "display_data"
    },
    {
     "name": "stdout",
     "output_type": "stream",
     "text": [
      "Epoch #12 train loss: 0.358\n",
      "Epoch #12 mAP@0.5: 81.93%\n",
      "Epoch #12 mAP@0.5:0.95: 40.43%\n",
      "Took 0.212 minutes for epoch 11\n",
      "SAVING PLOTS COMPLETE...\n",
      "Adjusting learning rate of group 0 to 1.0000e-03.\n",
      "\n",
      "EPOCH 13 of 100\n",
      "Training\n"
     ]
    },
    {
     "data": {
      "application/vnd.jupyter.widget-view+json": {
       "model_id": "d872a5972129417fa9e155098aa4ca98",
       "version_major": 2,
       "version_minor": 0
      },
      "text/plain": [
       "  0%|          | 0/12 [00:00<?, ?it/s]"
      ]
     },
     "metadata": {},
     "output_type": "display_data"
    },
    {
     "name": "stdout",
     "output_type": "stream",
     "text": [
      "Validating\n"
     ]
    },
    {
     "data": {
      "application/vnd.jupyter.widget-view+json": {
       "model_id": "80844ab0976443c78a2ee5ed9dcd0028",
       "version_major": 2,
       "version_minor": 0
      },
      "text/plain": [
       "  0%|          | 0/3 [00:00<?, ?it/s]"
      ]
     },
     "metadata": {},
     "output_type": "display_data"
    },
    {
     "name": "stdout",
     "output_type": "stream",
     "text": [
      "Epoch #13 train loss: 0.350\n",
      "Epoch #13 mAP@0.5: 83.74%\n",
      "Epoch #13 mAP@0.5:0.95: 41.40%\n",
      "Took 0.213 minutes for epoch 12\n",
      "\n",
      "BEST VALIDATION mAP: 0.4140017330646515\n",
      "\n",
      "SAVING BEST MODEL FOR EPOCH: 13\n",
      "\n",
      "SAVING PLOTS COMPLETE...\n",
      "Adjusting learning rate of group 0 to 1.0000e-03.\n",
      "\n",
      "EPOCH 14 of 100\n",
      "Training\n"
     ]
    },
    {
     "data": {
      "application/vnd.jupyter.widget-view+json": {
       "model_id": "dfd77c413c534c239ff9d991ba23cd30",
       "version_major": 2,
       "version_minor": 0
      },
      "text/plain": [
       "  0%|          | 0/12 [00:00<?, ?it/s]"
      ]
     },
     "metadata": {},
     "output_type": "display_data"
    },
    {
     "name": "stdout",
     "output_type": "stream",
     "text": [
      "Validating\n"
     ]
    },
    {
     "data": {
      "application/vnd.jupyter.widget-view+json": {
       "model_id": "d85a7196f0f048489cb3b41147e87ec9",
       "version_major": 2,
       "version_minor": 0
      },
      "text/plain": [
       "  0%|          | 0/3 [00:00<?, ?it/s]"
      ]
     },
     "metadata": {},
     "output_type": "display_data"
    },
    {
     "name": "stdout",
     "output_type": "stream",
     "text": [
      "Epoch #14 train loss: 0.331\n",
      "Epoch #14 mAP@0.5: 83.45%\n",
      "Epoch #14 mAP@0.5:0.95: 40.73%\n",
      "Took 0.213 minutes for epoch 13\n",
      "SAVING PLOTS COMPLETE...\n",
      "Adjusting learning rate of group 0 to 1.0000e-03.\n",
      "\n",
      "EPOCH 15 of 100\n",
      "Training\n"
     ]
    },
    {
     "data": {
      "application/vnd.jupyter.widget-view+json": {
       "model_id": "d265bc45de354b278173b263cc5f5e87",
       "version_major": 2,
       "version_minor": 0
      },
      "text/plain": [
       "  0%|          | 0/12 [00:00<?, ?it/s]"
      ]
     },
     "metadata": {},
     "output_type": "display_data"
    },
    {
     "name": "stdout",
     "output_type": "stream",
     "text": [
      "Validating\n"
     ]
    },
    {
     "data": {
      "application/vnd.jupyter.widget-view+json": {
       "model_id": "b36de4c1d3924d4dbfff769e9bc827eb",
       "version_major": 2,
       "version_minor": 0
      },
      "text/plain": [
       "  0%|          | 0/3 [00:00<?, ?it/s]"
      ]
     },
     "metadata": {},
     "output_type": "display_data"
    },
    {
     "name": "stdout",
     "output_type": "stream",
     "text": [
      "Epoch #15 train loss: 0.325\n",
      "Epoch #15 mAP@0.5: 85.24%\n",
      "Epoch #15 mAP@0.5:0.95: 42.69%\n",
      "Took 0.213 minutes for epoch 14\n",
      "\n",
      "BEST VALIDATION mAP: 0.4269355535507202\n",
      "\n",
      "SAVING BEST MODEL FOR EPOCH: 15\n",
      "\n",
      "SAVING PLOTS COMPLETE...\n",
      "Adjusting learning rate of group 0 to 1.0000e-04.\n",
      "\n",
      "EPOCH 16 of 100\n",
      "Training\n"
     ]
    },
    {
     "data": {
      "application/vnd.jupyter.widget-view+json": {
       "model_id": "1e3a6dee468749509c4609a8266b4dd9",
       "version_major": 2,
       "version_minor": 0
      },
      "text/plain": [
       "  0%|          | 0/12 [00:00<?, ?it/s]"
      ]
     },
     "metadata": {},
     "output_type": "display_data"
    },
    {
     "name": "stdout",
     "output_type": "stream",
     "text": [
      "Validating\n"
     ]
    },
    {
     "data": {
      "application/vnd.jupyter.widget-view+json": {
       "model_id": "1657617832a044efa4751dc51a9a93ee",
       "version_major": 2,
       "version_minor": 0
      },
      "text/plain": [
       "  0%|          | 0/3 [00:00<?, ?it/s]"
      ]
     },
     "metadata": {},
     "output_type": "display_data"
    },
    {
     "name": "stdout",
     "output_type": "stream",
     "text": [
      "Epoch #16 train loss: 0.315\n",
      "Epoch #16 mAP@0.5: 84.21%\n",
      "Epoch #16 mAP@0.5:0.95: 41.71%\n",
      "Took 0.212 minutes for epoch 15\n",
      "SAVING PLOTS COMPLETE...\n",
      "Adjusting learning rate of group 0 to 1.0000e-04.\n",
      "\n",
      "EPOCH 17 of 100\n",
      "Training\n"
     ]
    },
    {
     "data": {
      "application/vnd.jupyter.widget-view+json": {
       "model_id": "057f47deb20a432a987ff7c749697c55",
       "version_major": 2,
       "version_minor": 0
      },
      "text/plain": [
       "  0%|          | 0/12 [00:00<?, ?it/s]"
      ]
     },
     "metadata": {},
     "output_type": "display_data"
    },
    {
     "name": "stdout",
     "output_type": "stream",
     "text": [
      "Validating\n"
     ]
    },
    {
     "data": {
      "application/vnd.jupyter.widget-view+json": {
       "model_id": "aa7fad58f61345228c8905219a261839",
       "version_major": 2,
       "version_minor": 0
      },
      "text/plain": [
       "  0%|          | 0/3 [00:00<?, ?it/s]"
      ]
     },
     "metadata": {},
     "output_type": "display_data"
    },
    {
     "name": "stdout",
     "output_type": "stream",
     "text": [
      "Epoch #17 train loss: 0.313\n",
      "Epoch #17 mAP@0.5: 83.90%\n",
      "Epoch #17 mAP@0.5:0.95: 41.89%\n",
      "Took 0.212 minutes for epoch 16\n",
      "SAVING PLOTS COMPLETE...\n",
      "Adjusting learning rate of group 0 to 1.0000e-04.\n",
      "\n",
      "EPOCH 18 of 100\n",
      "Training\n"
     ]
    },
    {
     "data": {
      "application/vnd.jupyter.widget-view+json": {
       "model_id": "dfd5c81ed2ee422f8d484434554043f3",
       "version_major": 2,
       "version_minor": 0
      },
      "text/plain": [
       "  0%|          | 0/12 [00:00<?, ?it/s]"
      ]
     },
     "metadata": {},
     "output_type": "display_data"
    },
    {
     "name": "stdout",
     "output_type": "stream",
     "text": [
      "Validating\n"
     ]
    },
    {
     "data": {
      "application/vnd.jupyter.widget-view+json": {
       "model_id": "ba8c99d228c046209cc6ab837b802b58",
       "version_major": 2,
       "version_minor": 0
      },
      "text/plain": [
       "  0%|          | 0/3 [00:00<?, ?it/s]"
      ]
     },
     "metadata": {},
     "output_type": "display_data"
    },
    {
     "name": "stdout",
     "output_type": "stream",
     "text": [
      "Epoch #18 train loss: 0.306\n",
      "Epoch #18 mAP@0.5: 84.36%\n",
      "Epoch #18 mAP@0.5:0.95: 42.78%\n",
      "Took 0.214 minutes for epoch 17\n",
      "\n",
      "BEST VALIDATION mAP: 0.4277579188346863\n",
      "\n",
      "SAVING BEST MODEL FOR EPOCH: 18\n",
      "\n",
      "SAVING PLOTS COMPLETE...\n",
      "Adjusting learning rate of group 0 to 1.0000e-04.\n",
      "\n",
      "EPOCH 19 of 100\n",
      "Training\n"
     ]
    },
    {
     "data": {
      "application/vnd.jupyter.widget-view+json": {
       "model_id": "d024018a5d6f450d81ef216a269caa28",
       "version_major": 2,
       "version_minor": 0
      },
      "text/plain": [
       "  0%|          | 0/12 [00:00<?, ?it/s]"
      ]
     },
     "metadata": {},
     "output_type": "display_data"
    },
    {
     "name": "stdout",
     "output_type": "stream",
     "text": [
      "Validating\n"
     ]
    },
    {
     "data": {
      "application/vnd.jupyter.widget-view+json": {
       "model_id": "fc1a43c240f54a1e915eaa7f7d6c2455",
       "version_major": 2,
       "version_minor": 0
      },
      "text/plain": [
       "  0%|          | 0/3 [00:00<?, ?it/s]"
      ]
     },
     "metadata": {},
     "output_type": "display_data"
    },
    {
     "name": "stdout",
     "output_type": "stream",
     "text": [
      "Epoch #19 train loss: 0.306\n",
      "Epoch #19 mAP@0.5: 84.65%\n",
      "Epoch #19 mAP@0.5:0.95: 42.67%\n",
      "Took 0.212 minutes for epoch 18\n",
      "SAVING PLOTS COMPLETE...\n",
      "Adjusting learning rate of group 0 to 1.0000e-04.\n",
      "\n",
      "EPOCH 20 of 100\n",
      "Training\n"
     ]
    },
    {
     "data": {
      "application/vnd.jupyter.widget-view+json": {
       "model_id": "2945eb09106c4db885788582a11d85fe",
       "version_major": 2,
       "version_minor": 0
      },
      "text/plain": [
       "  0%|          | 0/12 [00:00<?, ?it/s]"
      ]
     },
     "metadata": {},
     "output_type": "display_data"
    },
    {
     "name": "stdout",
     "output_type": "stream",
     "text": [
      "Validating\n"
     ]
    },
    {
     "data": {
      "application/vnd.jupyter.widget-view+json": {
       "model_id": "4968bb12f1ab4ed79ba51919ea9ef86a",
       "version_major": 2,
       "version_minor": 0
      },
      "text/plain": [
       "  0%|          | 0/3 [00:00<?, ?it/s]"
      ]
     },
     "metadata": {},
     "output_type": "display_data"
    },
    {
     "name": "stdout",
     "output_type": "stream",
     "text": [
      "Epoch #20 train loss: 0.309\n",
      "Epoch #20 mAP@0.5: 84.89%\n",
      "Epoch #20 mAP@0.5:0.95: 42.14%\n",
      "Took 0.214 minutes for epoch 19\n",
      "SAVING PLOTS COMPLETE...\n",
      "Adjusting learning rate of group 0 to 1.0000e-04.\n",
      "\n",
      "EPOCH 21 of 100\n",
      "Training\n"
     ]
    },
    {
     "data": {
      "application/vnd.jupyter.widget-view+json": {
       "model_id": "b25fb15bcc074b03938d791b5ea7e421",
       "version_major": 2,
       "version_minor": 0
      },
      "text/plain": [
       "  0%|          | 0/12 [00:00<?, ?it/s]"
      ]
     },
     "metadata": {},
     "output_type": "display_data"
    },
    {
     "name": "stdout",
     "output_type": "stream",
     "text": [
      "Validating\n"
     ]
    },
    {
     "data": {
      "application/vnd.jupyter.widget-view+json": {
       "model_id": "2f043a85d41d45adb407e0547fd2ab2c",
       "version_major": 2,
       "version_minor": 0
      },
      "text/plain": [
       "  0%|          | 0/3 [00:00<?, ?it/s]"
      ]
     },
     "metadata": {},
     "output_type": "display_data"
    },
    {
     "name": "stdout",
     "output_type": "stream",
     "text": [
      "Epoch #21 train loss: 0.301\n",
      "Epoch #21 mAP@0.5: 84.53%\n",
      "Epoch #21 mAP@0.5:0.95: 42.14%\n",
      "Took 0.213 minutes for epoch 20\n",
      "SAVING PLOTS COMPLETE...\n",
      "Adjusting learning rate of group 0 to 1.0000e-04.\n",
      "\n",
      "EPOCH 22 of 100\n",
      "Training\n"
     ]
    },
    {
     "data": {
      "application/vnd.jupyter.widget-view+json": {
       "model_id": "dca09d52c51148cc8e04ae99c69c270c",
       "version_major": 2,
       "version_minor": 0
      },
      "text/plain": [
       "  0%|          | 0/12 [00:00<?, ?it/s]"
      ]
     },
     "metadata": {},
     "output_type": "display_data"
    },
    {
     "name": "stdout",
     "output_type": "stream",
     "text": [
      "Validating\n"
     ]
    },
    {
     "data": {
      "application/vnd.jupyter.widget-view+json": {
       "model_id": "df9fecd1dd72406c8721351440aba7dd",
       "version_major": 2,
       "version_minor": 0
      },
      "text/plain": [
       "  0%|          | 0/3 [00:00<?, ?it/s]"
      ]
     },
     "metadata": {},
     "output_type": "display_data"
    },
    {
     "name": "stdout",
     "output_type": "stream",
     "text": [
      "Epoch #22 train loss: 0.297\n",
      "Epoch #22 mAP@0.5: 84.29%\n",
      "Epoch #22 mAP@0.5:0.95: 42.04%\n",
      "Took 0.212 minutes for epoch 21\n",
      "SAVING PLOTS COMPLETE...\n",
      "Adjusting learning rate of group 0 to 1.0000e-04.\n",
      "\n",
      "EPOCH 23 of 100\n",
      "Training\n"
     ]
    },
    {
     "data": {
      "application/vnd.jupyter.widget-view+json": {
       "model_id": "ec3f513d5a14411ba7555aa9e7655b23",
       "version_major": 2,
       "version_minor": 0
      },
      "text/plain": [
       "  0%|          | 0/12 [00:00<?, ?it/s]"
      ]
     },
     "metadata": {},
     "output_type": "display_data"
    },
    {
     "name": "stdout",
     "output_type": "stream",
     "text": [
      "Validating\n"
     ]
    },
    {
     "data": {
      "application/vnd.jupyter.widget-view+json": {
       "model_id": "65af414839584d419241edb2ed9e8ab2",
       "version_major": 2,
       "version_minor": 0
      },
      "text/plain": [
       "  0%|          | 0/3 [00:00<?, ?it/s]"
      ]
     },
     "metadata": {},
     "output_type": "display_data"
    },
    {
     "name": "stdout",
     "output_type": "stream",
     "text": [
      "Epoch #23 train loss: 0.301\n",
      "Epoch #23 mAP@0.5: 84.43%\n",
      "Epoch #23 mAP@0.5:0.95: 42.21%\n",
      "Took 0.212 minutes for epoch 22\n",
      "SAVING PLOTS COMPLETE...\n",
      "Adjusting learning rate of group 0 to 1.0000e-04.\n",
      "\n",
      "EPOCH 24 of 100\n",
      "Training\n"
     ]
    },
    {
     "data": {
      "application/vnd.jupyter.widget-view+json": {
       "model_id": "8e0a923672824868b7be9c12f26311ba",
       "version_major": 2,
       "version_minor": 0
      },
      "text/plain": [
       "  0%|          | 0/12 [00:00<?, ?it/s]"
      ]
     },
     "metadata": {},
     "output_type": "display_data"
    },
    {
     "name": "stdout",
     "output_type": "stream",
     "text": [
      "Validating\n"
     ]
    },
    {
     "data": {
      "application/vnd.jupyter.widget-view+json": {
       "model_id": "9d8975cd2f524153b58a656146928d90",
       "version_major": 2,
       "version_minor": 0
      },
      "text/plain": [
       "  0%|          | 0/3 [00:00<?, ?it/s]"
      ]
     },
     "metadata": {},
     "output_type": "display_data"
    },
    {
     "name": "stdout",
     "output_type": "stream",
     "text": [
      "Epoch #24 train loss: 0.303\n",
      "Epoch #24 mAP@0.5: 85.13%\n",
      "Epoch #24 mAP@0.5:0.95: 42.82%\n",
      "Took 0.213 minutes for epoch 23\n",
      "\n",
      "BEST VALIDATION mAP: 0.42823484539985657\n",
      "\n",
      "SAVING BEST MODEL FOR EPOCH: 24\n",
      "\n",
      "SAVING PLOTS COMPLETE...\n",
      "Adjusting learning rate of group 0 to 1.0000e-04.\n",
      "\n",
      "EPOCH 25 of 100\n",
      "Training\n"
     ]
    },
    {
     "data": {
      "application/vnd.jupyter.widget-view+json": {
       "model_id": "6d3004dfa00b4f0ba15755df2f885aab",
       "version_major": 2,
       "version_minor": 0
      },
      "text/plain": [
       "  0%|          | 0/12 [00:00<?, ?it/s]"
      ]
     },
     "metadata": {},
     "output_type": "display_data"
    },
    {
     "name": "stdout",
     "output_type": "stream",
     "text": [
      "Validating\n"
     ]
    },
    {
     "data": {
      "application/vnd.jupyter.widget-view+json": {
       "model_id": "905c5749eec2442d9148746125717e83",
       "version_major": 2,
       "version_minor": 0
      },
      "text/plain": [
       "  0%|          | 0/3 [00:00<?, ?it/s]"
      ]
     },
     "metadata": {},
     "output_type": "display_data"
    },
    {
     "name": "stdout",
     "output_type": "stream",
     "text": [
      "Epoch #25 train loss: 0.304\n",
      "Epoch #25 mAP@0.5: 84.54%\n",
      "Epoch #25 mAP@0.5:0.95: 42.50%\n",
      "Took 0.213 minutes for epoch 24\n",
      "SAVING PLOTS COMPLETE...\n",
      "Adjusting learning rate of group 0 to 1.0000e-04.\n",
      "\n",
      "EPOCH 26 of 100\n",
      "Training\n"
     ]
    },
    {
     "data": {
      "application/vnd.jupyter.widget-view+json": {
       "model_id": "7dbb596d54a74da1be1994d900c77468",
       "version_major": 2,
       "version_minor": 0
      },
      "text/plain": [
       "  0%|          | 0/12 [00:00<?, ?it/s]"
      ]
     },
     "metadata": {},
     "output_type": "display_data"
    },
    {
     "name": "stdout",
     "output_type": "stream",
     "text": [
      "Validating\n"
     ]
    },
    {
     "data": {
      "application/vnd.jupyter.widget-view+json": {
       "model_id": "bd787aa6063b428ea138078a351bafc8",
       "version_major": 2,
       "version_minor": 0
      },
      "text/plain": [
       "  0%|          | 0/3 [00:00<?, ?it/s]"
      ]
     },
     "metadata": {},
     "output_type": "display_data"
    },
    {
     "name": "stdout",
     "output_type": "stream",
     "text": [
      "Epoch #26 train loss: 0.307\n",
      "Epoch #26 mAP@0.5: 84.48%\n",
      "Epoch #26 mAP@0.5:0.95: 42.45%\n",
      "Took 0.213 minutes for epoch 25\n",
      "SAVING PLOTS COMPLETE...\n",
      "Adjusting learning rate of group 0 to 1.0000e-04.\n",
      "\n",
      "EPOCH 27 of 100\n",
      "Training\n"
     ]
    },
    {
     "data": {
      "application/vnd.jupyter.widget-view+json": {
       "model_id": "50f2fae53dec4de5944ab23146c89250",
       "version_major": 2,
       "version_minor": 0
      },
      "text/plain": [
       "  0%|          | 0/12 [00:00<?, ?it/s]"
      ]
     },
     "metadata": {},
     "output_type": "display_data"
    },
    {
     "name": "stdout",
     "output_type": "stream",
     "text": [
      "Validating\n"
     ]
    },
    {
     "data": {
      "application/vnd.jupyter.widget-view+json": {
       "model_id": "54b67e26e48642a4b7f80cfd2ac40ca8",
       "version_major": 2,
       "version_minor": 0
      },
      "text/plain": [
       "  0%|          | 0/3 [00:00<?, ?it/s]"
      ]
     },
     "metadata": {},
     "output_type": "display_data"
    },
    {
     "name": "stdout",
     "output_type": "stream",
     "text": [
      "Epoch #27 train loss: 0.305\n",
      "Epoch #27 mAP@0.5: 84.47%\n",
      "Epoch #27 mAP@0.5:0.95: 42.54%\n",
      "Took 0.213 minutes for epoch 26\n",
      "SAVING PLOTS COMPLETE...\n",
      "Adjusting learning rate of group 0 to 1.0000e-04.\n",
      "\n",
      "EPOCH 28 of 100\n",
      "Training\n"
     ]
    },
    {
     "data": {
      "application/vnd.jupyter.widget-view+json": {
       "model_id": "d0c68ac765584d5ea8e3b1576e2fed28",
       "version_major": 2,
       "version_minor": 0
      },
      "text/plain": [
       "  0%|          | 0/12 [00:00<?, ?it/s]"
      ]
     },
     "metadata": {},
     "output_type": "display_data"
    },
    {
     "name": "stdout",
     "output_type": "stream",
     "text": [
      "Validating\n"
     ]
    },
    {
     "data": {
      "application/vnd.jupyter.widget-view+json": {
       "model_id": "65ad624318a746a48e417bb8644750b6",
       "version_major": 2,
       "version_minor": 0
      },
      "text/plain": [
       "  0%|          | 0/3 [00:00<?, ?it/s]"
      ]
     },
     "metadata": {},
     "output_type": "display_data"
    },
    {
     "name": "stdout",
     "output_type": "stream",
     "text": [
      "Epoch #28 train loss: 0.303\n",
      "Epoch #28 mAP@0.5: 84.87%\n",
      "Epoch #28 mAP@0.5:0.95: 41.99%\n",
      "Took 0.213 minutes for epoch 27\n",
      "SAVING PLOTS COMPLETE...\n",
      "Adjusting learning rate of group 0 to 1.0000e-04.\n",
      "\n",
      "EPOCH 29 of 100\n",
      "Training\n"
     ]
    },
    {
     "data": {
      "application/vnd.jupyter.widget-view+json": {
       "model_id": "32ea3ba7bbc54d938a362824bb80515a",
       "version_major": 2,
       "version_minor": 0
      },
      "text/plain": [
       "  0%|          | 0/12 [00:00<?, ?it/s]"
      ]
     },
     "metadata": {},
     "output_type": "display_data"
    },
    {
     "name": "stdout",
     "output_type": "stream",
     "text": [
      "Validating\n"
     ]
    },
    {
     "data": {
      "application/vnd.jupyter.widget-view+json": {
       "model_id": "9a2a97ff649647b692eb9f121c6dc9e8",
       "version_major": 2,
       "version_minor": 0
      },
      "text/plain": [
       "  0%|          | 0/3 [00:00<?, ?it/s]"
      ]
     },
     "metadata": {},
     "output_type": "display_data"
    },
    {
     "name": "stdout",
     "output_type": "stream",
     "text": [
      "Epoch #29 train loss: 0.300\n",
      "Epoch #29 mAP@0.5: 85.62%\n",
      "Epoch #29 mAP@0.5:0.95: 42.02%\n",
      "Took 0.213 minutes for epoch 28\n",
      "SAVING PLOTS COMPLETE...\n",
      "Adjusting learning rate of group 0 to 1.0000e-04.\n",
      "\n",
      "EPOCH 30 of 100\n",
      "Training\n"
     ]
    },
    {
     "data": {
      "application/vnd.jupyter.widget-view+json": {
       "model_id": "1d168573fbd14b18a73209d71b98dc7c",
       "version_major": 2,
       "version_minor": 0
      },
      "text/plain": [
       "  0%|          | 0/12 [00:00<?, ?it/s]"
      ]
     },
     "metadata": {},
     "output_type": "display_data"
    },
    {
     "name": "stdout",
     "output_type": "stream",
     "text": [
      "Validating\n"
     ]
    },
    {
     "data": {
      "application/vnd.jupyter.widget-view+json": {
       "model_id": "bf61dd65e99e45c6ad144e87240026f9",
       "version_major": 2,
       "version_minor": 0
      },
      "text/plain": [
       "  0%|          | 0/3 [00:00<?, ?it/s]"
      ]
     },
     "metadata": {},
     "output_type": "display_data"
    },
    {
     "name": "stdout",
     "output_type": "stream",
     "text": [
      "Epoch #30 train loss: 0.299\n",
      "Epoch #30 mAP@0.5: 85.22%\n",
      "Epoch #30 mAP@0.5:0.95: 42.58%\n",
      "Took 0.214 minutes for epoch 29\n",
      "SAVING PLOTS COMPLETE...\n",
      "Adjusting learning rate of group 0 to 1.0000e-05.\n",
      "\n",
      "EPOCH 31 of 100\n",
      "Training\n"
     ]
    },
    {
     "data": {
      "application/vnd.jupyter.widget-view+json": {
       "model_id": "0e24eb7a62a343bebbf69f1e51529bc7",
       "version_major": 2,
       "version_minor": 0
      },
      "text/plain": [
       "  0%|          | 0/12 [00:00<?, ?it/s]"
      ]
     },
     "metadata": {},
     "output_type": "display_data"
    },
    {
     "name": "stdout",
     "output_type": "stream",
     "text": [
      "Validating\n"
     ]
    },
    {
     "data": {
      "application/vnd.jupyter.widget-view+json": {
       "model_id": "4b8be36c67334c29ab0851e9b54330e5",
       "version_major": 2,
       "version_minor": 0
      },
      "text/plain": [
       "  0%|          | 0/3 [00:00<?, ?it/s]"
      ]
     },
     "metadata": {},
     "output_type": "display_data"
    },
    {
     "name": "stdout",
     "output_type": "stream",
     "text": [
      "Epoch #31 train loss: 0.302\n",
      "Epoch #31 mAP@0.5: 84.85%\n",
      "Epoch #31 mAP@0.5:0.95: 42.31%\n",
      "Took 0.212 minutes for epoch 30\n",
      "SAVING PLOTS COMPLETE...\n",
      "Adjusting learning rate of group 0 to 1.0000e-05.\n",
      "\n",
      "EPOCH 32 of 100\n",
      "Training\n"
     ]
    },
    {
     "data": {
      "application/vnd.jupyter.widget-view+json": {
       "model_id": "496d944228f64e6d835ef804467b2e72",
       "version_major": 2,
       "version_minor": 0
      },
      "text/plain": [
       "  0%|          | 0/12 [00:00<?, ?it/s]"
      ]
     },
     "metadata": {},
     "output_type": "display_data"
    },
    {
     "name": "stdout",
     "output_type": "stream",
     "text": [
      "Validating\n"
     ]
    },
    {
     "data": {
      "application/vnd.jupyter.widget-view+json": {
       "model_id": "a49fadca2fef42e68fe9ee9b5cfe7a09",
       "version_major": 2,
       "version_minor": 0
      },
      "text/plain": [
       "  0%|          | 0/3 [00:00<?, ?it/s]"
      ]
     },
     "metadata": {},
     "output_type": "display_data"
    },
    {
     "name": "stdout",
     "output_type": "stream",
     "text": [
      "Epoch #32 train loss: 0.289\n",
      "Epoch #32 mAP@0.5: 84.73%\n",
      "Epoch #32 mAP@0.5:0.95: 42.21%\n",
      "Took 0.213 minutes for epoch 31\n",
      "SAVING PLOTS COMPLETE...\n",
      "Adjusting learning rate of group 0 to 1.0000e-05.\n",
      "\n",
      "EPOCH 33 of 100\n",
      "Training\n"
     ]
    },
    {
     "data": {
      "application/vnd.jupyter.widget-view+json": {
       "model_id": "fd36d33a1a554e598eb9a438a34a160e",
       "version_major": 2,
       "version_minor": 0
      },
      "text/plain": [
       "  0%|          | 0/12 [00:00<?, ?it/s]"
      ]
     },
     "metadata": {},
     "output_type": "display_data"
    },
    {
     "name": "stdout",
     "output_type": "stream",
     "text": [
      "Validating\n"
     ]
    },
    {
     "data": {
      "application/vnd.jupyter.widget-view+json": {
       "model_id": "98c3ded52f9b42ddae9486488ae840d8",
       "version_major": 2,
       "version_minor": 0
      },
      "text/plain": [
       "  0%|          | 0/3 [00:00<?, ?it/s]"
      ]
     },
     "metadata": {},
     "output_type": "display_data"
    },
    {
     "name": "stdout",
     "output_type": "stream",
     "text": [
      "Epoch #33 train loss: 0.292\n",
      "Epoch #33 mAP@0.5: 84.52%\n",
      "Epoch #33 mAP@0.5:0.95: 42.00%\n",
      "Took 0.213 minutes for epoch 32\n",
      "SAVING PLOTS COMPLETE...\n",
      "Adjusting learning rate of group 0 to 1.0000e-05.\n",
      "\n",
      "EPOCH 34 of 100\n",
      "Training\n"
     ]
    },
    {
     "data": {
      "application/vnd.jupyter.widget-view+json": {
       "model_id": "b81683942ec3422f8cff4a1096a084f2",
       "version_major": 2,
       "version_minor": 0
      },
      "text/plain": [
       "  0%|          | 0/12 [00:00<?, ?it/s]"
      ]
     },
     "metadata": {},
     "output_type": "display_data"
    },
    {
     "name": "stdout",
     "output_type": "stream",
     "text": [
      "Validating\n"
     ]
    },
    {
     "data": {
      "application/vnd.jupyter.widget-view+json": {
       "model_id": "a6f1bbe9bea34ba0818b5204d594ae0d",
       "version_major": 2,
       "version_minor": 0
      },
      "text/plain": [
       "  0%|          | 0/3 [00:00<?, ?it/s]"
      ]
     },
     "metadata": {},
     "output_type": "display_data"
    },
    {
     "name": "stdout",
     "output_type": "stream",
     "text": [
      "Epoch #34 train loss: 0.299\n",
      "Epoch #34 mAP@0.5: 84.49%\n",
      "Epoch #34 mAP@0.5:0.95: 42.20%\n",
      "Took 0.213 minutes for epoch 33\n",
      "SAVING PLOTS COMPLETE...\n",
      "Adjusting learning rate of group 0 to 1.0000e-05.\n",
      "\n",
      "EPOCH 35 of 100\n",
      "Training\n"
     ]
    },
    {
     "data": {
      "application/vnd.jupyter.widget-view+json": {
       "model_id": "b1ffb82c82314d188092deda76a548b3",
       "version_major": 2,
       "version_minor": 0
      },
      "text/plain": [
       "  0%|          | 0/12 [00:00<?, ?it/s]"
      ]
     },
     "metadata": {},
     "output_type": "display_data"
    },
    {
     "name": "stdout",
     "output_type": "stream",
     "text": [
      "Validating\n"
     ]
    },
    {
     "data": {
      "application/vnd.jupyter.widget-view+json": {
       "model_id": "69ab0ed2b7644293942c511d8cead1d5",
       "version_major": 2,
       "version_minor": 0
      },
      "text/plain": [
       "  0%|          | 0/3 [00:00<?, ?it/s]"
      ]
     },
     "metadata": {},
     "output_type": "display_data"
    },
    {
     "name": "stdout",
     "output_type": "stream",
     "text": [
      "Epoch #35 train loss: 0.304\n",
      "Epoch #35 mAP@0.5: 85.31%\n",
      "Epoch #35 mAP@0.5:0.95: 42.33%\n",
      "Took 0.218 minutes for epoch 34\n",
      "SAVING PLOTS COMPLETE...\n",
      "Adjusting learning rate of group 0 to 1.0000e-05.\n",
      "\n",
      "EPOCH 36 of 100\n",
      "Training\n"
     ]
    },
    {
     "data": {
      "application/vnd.jupyter.widget-view+json": {
       "model_id": "b4110d8bf6644ee29c21213d678ff437",
       "version_major": 2,
       "version_minor": 0
      },
      "text/plain": [
       "  0%|          | 0/12 [00:00<?, ?it/s]"
      ]
     },
     "metadata": {},
     "output_type": "display_data"
    },
    {
     "name": "stdout",
     "output_type": "stream",
     "text": [
      "Validating\n"
     ]
    },
    {
     "data": {
      "application/vnd.jupyter.widget-view+json": {
       "model_id": "55e74d038c484ac6a4d991b98ffe1962",
       "version_major": 2,
       "version_minor": 0
      },
      "text/plain": [
       "  0%|          | 0/3 [00:00<?, ?it/s]"
      ]
     },
     "metadata": {},
     "output_type": "display_data"
    },
    {
     "name": "stdout",
     "output_type": "stream",
     "text": [
      "Epoch #36 train loss: 0.299\n",
      "Epoch #36 mAP@0.5: 84.72%\n",
      "Epoch #36 mAP@0.5:0.95: 42.18%\n",
      "Took 0.213 minutes for epoch 35\n",
      "SAVING PLOTS COMPLETE...\n",
      "Adjusting learning rate of group 0 to 1.0000e-05.\n",
      "\n",
      "EPOCH 37 of 100\n",
      "Training\n"
     ]
    },
    {
     "data": {
      "application/vnd.jupyter.widget-view+json": {
       "model_id": "915d3e27ffe446d68961f83acb8ca9d0",
       "version_major": 2,
       "version_minor": 0
      },
      "text/plain": [
       "  0%|          | 0/12 [00:00<?, ?it/s]"
      ]
     },
     "metadata": {},
     "output_type": "display_data"
    },
    {
     "name": "stdout",
     "output_type": "stream",
     "text": [
      "Validating\n"
     ]
    },
    {
     "data": {
      "application/vnd.jupyter.widget-view+json": {
       "model_id": "27b4149e489a489f82049376d159de70",
       "version_major": 2,
       "version_minor": 0
      },
      "text/plain": [
       "  0%|          | 0/3 [00:00<?, ?it/s]"
      ]
     },
     "metadata": {},
     "output_type": "display_data"
    },
    {
     "name": "stdout",
     "output_type": "stream",
     "text": [
      "Epoch #37 train loss: 0.300\n",
      "Epoch #37 mAP@0.5: 84.31%\n",
      "Epoch #37 mAP@0.5:0.95: 42.07%\n",
      "Took 0.213 minutes for epoch 36\n",
      "SAVING PLOTS COMPLETE...\n",
      "Adjusting learning rate of group 0 to 1.0000e-05.\n",
      "\n",
      "EPOCH 38 of 100\n",
      "Training\n"
     ]
    },
    {
     "data": {
      "application/vnd.jupyter.widget-view+json": {
       "model_id": "b183b4613cd94354b29e67075644b5e1",
       "version_major": 2,
       "version_minor": 0
      },
      "text/plain": [
       "  0%|          | 0/12 [00:00<?, ?it/s]"
      ]
     },
     "metadata": {},
     "output_type": "display_data"
    },
    {
     "name": "stdout",
     "output_type": "stream",
     "text": [
      "Validating\n"
     ]
    },
    {
     "data": {
      "application/vnd.jupyter.widget-view+json": {
       "model_id": "aab8a85638684678af5d7e0b6d3add06",
       "version_major": 2,
       "version_minor": 0
      },
      "text/plain": [
       "  0%|          | 0/3 [00:00<?, ?it/s]"
      ]
     },
     "metadata": {},
     "output_type": "display_data"
    },
    {
     "name": "stdout",
     "output_type": "stream",
     "text": [
      "Epoch #38 train loss: 0.301\n",
      "Epoch #38 mAP@0.5: 85.17%\n",
      "Epoch #38 mAP@0.5:0.95: 42.49%\n",
      "Took 0.211 minutes for epoch 37\n",
      "SAVING PLOTS COMPLETE...\n",
      "Adjusting learning rate of group 0 to 1.0000e-05.\n",
      "\n",
      "EPOCH 39 of 100\n",
      "Training\n"
     ]
    },
    {
     "data": {
      "application/vnd.jupyter.widget-view+json": {
       "model_id": "eb2b3c99d60f46f396f1b069c5ff2c0d",
       "version_major": 2,
       "version_minor": 0
      },
      "text/plain": [
       "  0%|          | 0/12 [00:00<?, ?it/s]"
      ]
     },
     "metadata": {},
     "output_type": "display_data"
    },
    {
     "name": "stdout",
     "output_type": "stream",
     "text": [
      "Validating\n"
     ]
    },
    {
     "data": {
      "application/vnd.jupyter.widget-view+json": {
       "model_id": "a113a3ff5dc84c33adc1d35fbb842678",
       "version_major": 2,
       "version_minor": 0
      },
      "text/plain": [
       "  0%|          | 0/3 [00:00<?, ?it/s]"
      ]
     },
     "metadata": {},
     "output_type": "display_data"
    },
    {
     "name": "stdout",
     "output_type": "stream",
     "text": [
      "Epoch #39 train loss: 0.295\n",
      "Epoch #39 mAP@0.5: 84.04%\n",
      "Epoch #39 mAP@0.5:0.95: 42.26%\n",
      "Took 0.213 minutes for epoch 38\n",
      "SAVING PLOTS COMPLETE...\n",
      "Adjusting learning rate of group 0 to 1.0000e-05.\n",
      "\n",
      "EPOCH 40 of 100\n",
      "Training\n"
     ]
    },
    {
     "data": {
      "application/vnd.jupyter.widget-view+json": {
       "model_id": "b92e35d857d347569dc880b5345ada27",
       "version_major": 2,
       "version_minor": 0
      },
      "text/plain": [
       "  0%|          | 0/12 [00:00<?, ?it/s]"
      ]
     },
     "metadata": {},
     "output_type": "display_data"
    },
    {
     "name": "stdout",
     "output_type": "stream",
     "text": [
      "Validating\n"
     ]
    },
    {
     "data": {
      "application/vnd.jupyter.widget-view+json": {
       "model_id": "3add8a6c3d1a4c1aa8caa7c38d0d6e5d",
       "version_major": 2,
       "version_minor": 0
      },
      "text/plain": [
       "  0%|          | 0/3 [00:00<?, ?it/s]"
      ]
     },
     "metadata": {},
     "output_type": "display_data"
    },
    {
     "name": "stdout",
     "output_type": "stream",
     "text": [
      "Epoch #40 train loss: 0.302\n",
      "Epoch #40 mAP@0.5: 84.32%\n",
      "Epoch #40 mAP@0.5:0.95: 41.88%\n",
      "Took 0.213 minutes for epoch 39\n",
      "SAVING PLOTS COMPLETE...\n",
      "Adjusting learning rate of group 0 to 1.0000e-05.\n",
      "\n",
      "EPOCH 41 of 100\n",
      "Training\n"
     ]
    },
    {
     "data": {
      "application/vnd.jupyter.widget-view+json": {
       "model_id": "f41ef3f8d3174abfb17dc3d8aa351e12",
       "version_major": 2,
       "version_minor": 0
      },
      "text/plain": [
       "  0%|          | 0/12 [00:00<?, ?it/s]"
      ]
     },
     "metadata": {},
     "output_type": "display_data"
    },
    {
     "name": "stdout",
     "output_type": "stream",
     "text": [
      "Validating\n"
     ]
    },
    {
     "data": {
      "application/vnd.jupyter.widget-view+json": {
       "model_id": "8f0a113b5ee0466689e581be7bdec762",
       "version_major": 2,
       "version_minor": 0
      },
      "text/plain": [
       "  0%|          | 0/3 [00:00<?, ?it/s]"
      ]
     },
     "metadata": {},
     "output_type": "display_data"
    },
    {
     "name": "stdout",
     "output_type": "stream",
     "text": [
      "Epoch #41 train loss: 0.294\n",
      "Epoch #41 mAP@0.5: 85.17%\n",
      "Epoch #41 mAP@0.5:0.95: 42.81%\n",
      "Took 0.212 minutes for epoch 40\n",
      "SAVING PLOTS COMPLETE...\n",
      "Adjusting learning rate of group 0 to 1.0000e-05.\n",
      "\n",
      "EPOCH 42 of 100\n",
      "Training\n"
     ]
    },
    {
     "data": {
      "application/vnd.jupyter.widget-view+json": {
       "model_id": "42d00ce97ba84d1f86628115ef0830a3",
       "version_major": 2,
       "version_minor": 0
      },
      "text/plain": [
       "  0%|          | 0/12 [00:00<?, ?it/s]"
      ]
     },
     "metadata": {},
     "output_type": "display_data"
    },
    {
     "name": "stdout",
     "output_type": "stream",
     "text": [
      "Validating\n"
     ]
    },
    {
     "data": {
      "application/vnd.jupyter.widget-view+json": {
       "model_id": "1f6e732d025f423880e35c76e6fd85c3",
       "version_major": 2,
       "version_minor": 0
      },
      "text/plain": [
       "  0%|          | 0/3 [00:00<?, ?it/s]"
      ]
     },
     "metadata": {},
     "output_type": "display_data"
    },
    {
     "name": "stdout",
     "output_type": "stream",
     "text": [
      "Epoch #42 train loss: 0.295\n",
      "Epoch #42 mAP@0.5: 84.61%\n",
      "Epoch #42 mAP@0.5:0.95: 42.25%\n",
      "Took 0.212 minutes for epoch 41\n",
      "SAVING PLOTS COMPLETE...\n",
      "Adjusting learning rate of group 0 to 1.0000e-05.\n",
      "\n",
      "EPOCH 43 of 100\n",
      "Training\n"
     ]
    },
    {
     "data": {
      "application/vnd.jupyter.widget-view+json": {
       "model_id": "a03ffdc189ef4405b9db18b064761de5",
       "version_major": 2,
       "version_minor": 0
      },
      "text/plain": [
       "  0%|          | 0/12 [00:00<?, ?it/s]"
      ]
     },
     "metadata": {},
     "output_type": "display_data"
    },
    {
     "name": "stdout",
     "output_type": "stream",
     "text": [
      "Validating\n"
     ]
    },
    {
     "data": {
      "application/vnd.jupyter.widget-view+json": {
       "model_id": "05d91b7a16c14e55b3b16510f353f9cb",
       "version_major": 2,
       "version_minor": 0
      },
      "text/plain": [
       "  0%|          | 0/3 [00:00<?, ?it/s]"
      ]
     },
     "metadata": {},
     "output_type": "display_data"
    },
    {
     "name": "stdout",
     "output_type": "stream",
     "text": [
      "Epoch #43 train loss: 0.300\n",
      "Epoch #43 mAP@0.5: 85.15%\n",
      "Epoch #43 mAP@0.5:0.95: 42.67%\n",
      "Took 0.212 minutes for epoch 42\n",
      "SAVING PLOTS COMPLETE...\n",
      "Adjusting learning rate of group 0 to 1.0000e-05.\n",
      "\n",
      "EPOCH 44 of 100\n",
      "Training\n"
     ]
    },
    {
     "data": {
      "application/vnd.jupyter.widget-view+json": {
       "model_id": "236ce107fefe4cf8b78a11ec235e6602",
       "version_major": 2,
       "version_minor": 0
      },
      "text/plain": [
       "  0%|          | 0/12 [00:00<?, ?it/s]"
      ]
     },
     "metadata": {},
     "output_type": "display_data"
    },
    {
     "name": "stdout",
     "output_type": "stream",
     "text": [
      "Validating\n"
     ]
    },
    {
     "data": {
      "application/vnd.jupyter.widget-view+json": {
       "model_id": "3330bea5627d43d89a374e07904c63b9",
       "version_major": 2,
       "version_minor": 0
      },
      "text/plain": [
       "  0%|          | 0/3 [00:00<?, ?it/s]"
      ]
     },
     "metadata": {},
     "output_type": "display_data"
    },
    {
     "name": "stdout",
     "output_type": "stream",
     "text": [
      "Epoch #44 train loss: 0.296\n",
      "Epoch #44 mAP@0.5: 85.03%\n",
      "Epoch #44 mAP@0.5:0.95: 42.39%\n",
      "Took 0.213 minutes for epoch 43\n",
      "SAVING PLOTS COMPLETE...\n",
      "Adjusting learning rate of group 0 to 1.0000e-05.\n",
      "\n",
      "EPOCH 45 of 100\n",
      "Training\n"
     ]
    },
    {
     "data": {
      "application/vnd.jupyter.widget-view+json": {
       "model_id": "30450070214c4e72a71486a82a9387ae",
       "version_major": 2,
       "version_minor": 0
      },
      "text/plain": [
       "  0%|          | 0/12 [00:00<?, ?it/s]"
      ]
     },
     "metadata": {},
     "output_type": "display_data"
    },
    {
     "name": "stdout",
     "output_type": "stream",
     "text": [
      "Validating\n"
     ]
    },
    {
     "data": {
      "application/vnd.jupyter.widget-view+json": {
       "model_id": "1512915b9e8446369b2ddcd8edeff5e3",
       "version_major": 2,
       "version_minor": 0
      },
      "text/plain": [
       "  0%|          | 0/3 [00:00<?, ?it/s]"
      ]
     },
     "metadata": {},
     "output_type": "display_data"
    },
    {
     "name": "stdout",
     "output_type": "stream",
     "text": [
      "Epoch #45 train loss: 0.294\n",
      "Epoch #45 mAP@0.5: 84.62%\n",
      "Epoch #45 mAP@0.5:0.95: 42.33%\n",
      "Took 0.213 minutes for epoch 44\n",
      "SAVING PLOTS COMPLETE...\n",
      "Adjusting learning rate of group 0 to 1.0000e-06.\n",
      "\n",
      "EPOCH 46 of 100\n",
      "Training\n"
     ]
    },
    {
     "data": {
      "application/vnd.jupyter.widget-view+json": {
       "model_id": "7c5a9e7b4a684ad9a235a6073907aefe",
       "version_major": 2,
       "version_minor": 0
      },
      "text/plain": [
       "  0%|          | 0/12 [00:00<?, ?it/s]"
      ]
     },
     "metadata": {},
     "output_type": "display_data"
    },
    {
     "name": "stdout",
     "output_type": "stream",
     "text": [
      "Validating\n"
     ]
    },
    {
     "data": {
      "application/vnd.jupyter.widget-view+json": {
       "model_id": "c59267587aaf41f7b6aad0d1855f0571",
       "version_major": 2,
       "version_minor": 0
      },
      "text/plain": [
       "  0%|          | 0/3 [00:00<?, ?it/s]"
      ]
     },
     "metadata": {},
     "output_type": "display_data"
    },
    {
     "name": "stdout",
     "output_type": "stream",
     "text": [
      "Epoch #46 train loss: 0.292\n",
      "Epoch #46 mAP@0.5: 84.90%\n",
      "Epoch #46 mAP@0.5:0.95: 42.39%\n",
      "Took 0.212 minutes for epoch 45\n",
      "SAVING PLOTS COMPLETE...\n",
      "Adjusting learning rate of group 0 to 1.0000e-06.\n",
      "\n",
      "EPOCH 47 of 100\n",
      "Training\n"
     ]
    },
    {
     "data": {
      "application/vnd.jupyter.widget-view+json": {
       "model_id": "72c5f4a9ddac41dca56aa61078abc74a",
       "version_major": 2,
       "version_minor": 0
      },
      "text/plain": [
       "  0%|          | 0/12 [00:00<?, ?it/s]"
      ]
     },
     "metadata": {},
     "output_type": "display_data"
    },
    {
     "name": "stdout",
     "output_type": "stream",
     "text": [
      "Validating\n"
     ]
    },
    {
     "data": {
      "application/vnd.jupyter.widget-view+json": {
       "model_id": "9f6cc85de9f640ff98c7b1e007333ce9",
       "version_major": 2,
       "version_minor": 0
      },
      "text/plain": [
       "  0%|          | 0/3 [00:00<?, ?it/s]"
      ]
     },
     "metadata": {},
     "output_type": "display_data"
    },
    {
     "name": "stdout",
     "output_type": "stream",
     "text": [
      "Epoch #47 train loss: 0.293\n",
      "Epoch #47 mAP@0.5: 85.21%\n",
      "Epoch #47 mAP@0.5:0.95: 42.57%\n",
      "Took 0.211 minutes for epoch 46\n",
      "SAVING PLOTS COMPLETE...\n",
      "Adjusting learning rate of group 0 to 1.0000e-06.\n",
      "\n",
      "EPOCH 48 of 100\n",
      "Training\n"
     ]
    },
    {
     "data": {
      "application/vnd.jupyter.widget-view+json": {
       "model_id": "d0ad18cb2ca04c1f8d536ffaa4a980fe",
       "version_major": 2,
       "version_minor": 0
      },
      "text/plain": [
       "  0%|          | 0/12 [00:00<?, ?it/s]"
      ]
     },
     "metadata": {},
     "output_type": "display_data"
    },
    {
     "name": "stdout",
     "output_type": "stream",
     "text": [
      "Validating\n"
     ]
    },
    {
     "data": {
      "application/vnd.jupyter.widget-view+json": {
       "model_id": "348626baca3b4f69be188a5a80e57b20",
       "version_major": 2,
       "version_minor": 0
      },
      "text/plain": [
       "  0%|          | 0/3 [00:00<?, ?it/s]"
      ]
     },
     "metadata": {},
     "output_type": "display_data"
    },
    {
     "name": "stdout",
     "output_type": "stream",
     "text": [
      "Epoch #48 train loss: 0.297\n",
      "Epoch #48 mAP@0.5: 84.66%\n",
      "Epoch #48 mAP@0.5:0.95: 42.17%\n",
      "Took 0.212 minutes for epoch 47\n",
      "SAVING PLOTS COMPLETE...\n",
      "Adjusting learning rate of group 0 to 1.0000e-06.\n",
      "\n",
      "EPOCH 49 of 100\n",
      "Training\n"
     ]
    },
    {
     "data": {
      "application/vnd.jupyter.widget-view+json": {
       "model_id": "e307077b75934b35b01de77415afc9aa",
       "version_major": 2,
       "version_minor": 0
      },
      "text/plain": [
       "  0%|          | 0/12 [00:00<?, ?it/s]"
      ]
     },
     "metadata": {},
     "output_type": "display_data"
    },
    {
     "name": "stdout",
     "output_type": "stream",
     "text": [
      "Validating\n"
     ]
    },
    {
     "data": {
      "application/vnd.jupyter.widget-view+json": {
       "model_id": "a7a28350190a4e1f88223b48f4a1da8e",
       "version_major": 2,
       "version_minor": 0
      },
      "text/plain": [
       "  0%|          | 0/3 [00:00<?, ?it/s]"
      ]
     },
     "metadata": {},
     "output_type": "display_data"
    },
    {
     "name": "stdout",
     "output_type": "stream",
     "text": [
      "Epoch #49 train loss: 0.296\n",
      "Epoch #49 mAP@0.5: 84.90%\n",
      "Epoch #49 mAP@0.5:0.95: 42.63%\n",
      "Took 0.214 minutes for epoch 48\n",
      "SAVING PLOTS COMPLETE...\n",
      "Adjusting learning rate of group 0 to 1.0000e-06.\n",
      "\n",
      "EPOCH 50 of 100\n",
      "Training\n"
     ]
    },
    {
     "data": {
      "application/vnd.jupyter.widget-view+json": {
       "model_id": "0298003d45a3425daf9f79e53dc7d9bc",
       "version_major": 2,
       "version_minor": 0
      },
      "text/plain": [
       "  0%|          | 0/12 [00:00<?, ?it/s]"
      ]
     },
     "metadata": {},
     "output_type": "display_data"
    },
    {
     "name": "stdout",
     "output_type": "stream",
     "text": [
      "Validating\n"
     ]
    },
    {
     "data": {
      "application/vnd.jupyter.widget-view+json": {
       "model_id": "6f989ecfaa9d4539b8c61fc46b942f70",
       "version_major": 2,
       "version_minor": 0
      },
      "text/plain": [
       "  0%|          | 0/3 [00:00<?, ?it/s]"
      ]
     },
     "metadata": {},
     "output_type": "display_data"
    },
    {
     "name": "stdout",
     "output_type": "stream",
     "text": [
      "Epoch #50 train loss: 0.294\n",
      "Epoch #50 mAP@0.5: 84.92%\n",
      "Epoch #50 mAP@0.5:0.95: 42.45%\n",
      "Took 0.212 minutes for epoch 49\n",
      "SAVING PLOTS COMPLETE...\n",
      "Adjusting learning rate of group 0 to 1.0000e-06.\n",
      "\n",
      "EPOCH 51 of 100\n",
      "Training\n"
     ]
    },
    {
     "data": {
      "application/vnd.jupyter.widget-view+json": {
       "model_id": "03b173e19d1343878f02e45a7afffe42",
       "version_major": 2,
       "version_minor": 0
      },
      "text/plain": [
       "  0%|          | 0/12 [00:00<?, ?it/s]"
      ]
     },
     "metadata": {},
     "output_type": "display_data"
    },
    {
     "name": "stdout",
     "output_type": "stream",
     "text": [
      "Validating\n"
     ]
    },
    {
     "data": {
      "application/vnd.jupyter.widget-view+json": {
       "model_id": "dabf32842db14fc8a0a3f85e6f14b864",
       "version_major": 2,
       "version_minor": 0
      },
      "text/plain": [
       "  0%|          | 0/3 [00:00<?, ?it/s]"
      ]
     },
     "metadata": {},
     "output_type": "display_data"
    },
    {
     "name": "stdout",
     "output_type": "stream",
     "text": [
      "Epoch #51 train loss: 0.293\n",
      "Epoch #51 mAP@0.5: 84.72%\n",
      "Epoch #51 mAP@0.5:0.95: 42.12%\n",
      "Took 0.213 minutes for epoch 50\n",
      "SAVING PLOTS COMPLETE...\n",
      "Adjusting learning rate of group 0 to 1.0000e-06.\n",
      "\n",
      "EPOCH 52 of 100\n",
      "Training\n"
     ]
    },
    {
     "data": {
      "application/vnd.jupyter.widget-view+json": {
       "model_id": "13c86ea821e84786926d30762428cbab",
       "version_major": 2,
       "version_minor": 0
      },
      "text/plain": [
       "  0%|          | 0/12 [00:00<?, ?it/s]"
      ]
     },
     "metadata": {},
     "output_type": "display_data"
    },
    {
     "name": "stdout",
     "output_type": "stream",
     "text": [
      "Validating\n"
     ]
    },
    {
     "data": {
      "application/vnd.jupyter.widget-view+json": {
       "model_id": "ebbc6e3323294ce3a01500cb1f88aa68",
       "version_major": 2,
       "version_minor": 0
      },
      "text/plain": [
       "  0%|          | 0/3 [00:00<?, ?it/s]"
      ]
     },
     "metadata": {},
     "output_type": "display_data"
    },
    {
     "name": "stdout",
     "output_type": "stream",
     "text": [
      "Epoch #52 train loss: 0.294\n",
      "Epoch #52 mAP@0.5: 84.26%\n",
      "Epoch #52 mAP@0.5:0.95: 42.11%\n",
      "Took 0.211 minutes for epoch 51\n",
      "SAVING PLOTS COMPLETE...\n",
      "Adjusting learning rate of group 0 to 1.0000e-06.\n",
      "\n",
      "EPOCH 53 of 100\n",
      "Training\n"
     ]
    },
    {
     "data": {
      "application/vnd.jupyter.widget-view+json": {
       "model_id": "eaa42b6bf09847d19df67c93643a28a2",
       "version_major": 2,
       "version_minor": 0
      },
      "text/plain": [
       "  0%|          | 0/12 [00:00<?, ?it/s]"
      ]
     },
     "metadata": {},
     "output_type": "display_data"
    },
    {
     "name": "stdout",
     "output_type": "stream",
     "text": [
      "Validating\n"
     ]
    },
    {
     "data": {
      "application/vnd.jupyter.widget-view+json": {
       "model_id": "6951c8d2ce6c4d06943d5bd1eab92d98",
       "version_major": 2,
       "version_minor": 0
      },
      "text/plain": [
       "  0%|          | 0/3 [00:00<?, ?it/s]"
      ]
     },
     "metadata": {},
     "output_type": "display_data"
    },
    {
     "name": "stdout",
     "output_type": "stream",
     "text": [
      "Epoch #53 train loss: 0.294\n",
      "Epoch #53 mAP@0.5: 84.79%\n",
      "Epoch #53 mAP@0.5:0.95: 42.63%\n",
      "Took 0.213 minutes for epoch 52\n",
      "SAVING PLOTS COMPLETE...\n",
      "Adjusting learning rate of group 0 to 1.0000e-06.\n",
      "\n",
      "EPOCH 54 of 100\n",
      "Training\n"
     ]
    },
    {
     "data": {
      "application/vnd.jupyter.widget-view+json": {
       "model_id": "00468d8b94084b268548bafb92fb7fa5",
       "version_major": 2,
       "version_minor": 0
      },
      "text/plain": [
       "  0%|          | 0/12 [00:00<?, ?it/s]"
      ]
     },
     "metadata": {},
     "output_type": "display_data"
    },
    {
     "name": "stdout",
     "output_type": "stream",
     "text": [
      "Validating\n"
     ]
    },
    {
     "data": {
      "application/vnd.jupyter.widget-view+json": {
       "model_id": "0e6cfe3a3dd04a18ba7b02fed4d296ca",
       "version_major": 2,
       "version_minor": 0
      },
      "text/plain": [
       "  0%|          | 0/3 [00:00<?, ?it/s]"
      ]
     },
     "metadata": {},
     "output_type": "display_data"
    },
    {
     "name": "stdout",
     "output_type": "stream",
     "text": [
      "Epoch #54 train loss: 0.295\n",
      "Epoch #54 mAP@0.5: 84.56%\n",
      "Epoch #54 mAP@0.5:0.95: 42.27%\n",
      "Took 0.213 minutes for epoch 53\n",
      "SAVING PLOTS COMPLETE...\n",
      "Adjusting learning rate of group 0 to 1.0000e-06.\n",
      "\n",
      "EPOCH 55 of 100\n",
      "Training\n"
     ]
    },
    {
     "data": {
      "application/vnd.jupyter.widget-view+json": {
       "model_id": "1fa03eef5aa7490b9801024adfa17d1b",
       "version_major": 2,
       "version_minor": 0
      },
      "text/plain": [
       "  0%|          | 0/12 [00:00<?, ?it/s]"
      ]
     },
     "metadata": {},
     "output_type": "display_data"
    },
    {
     "name": "stdout",
     "output_type": "stream",
     "text": [
      "Validating\n"
     ]
    },
    {
     "data": {
      "application/vnd.jupyter.widget-view+json": {
       "model_id": "d0c90e376fa44213b14251d37acd13b0",
       "version_major": 2,
       "version_minor": 0
      },
      "text/plain": [
       "  0%|          | 0/3 [00:00<?, ?it/s]"
      ]
     },
     "metadata": {},
     "output_type": "display_data"
    },
    {
     "name": "stdout",
     "output_type": "stream",
     "text": [
      "Epoch #55 train loss: 0.293\n",
      "Epoch #55 mAP@0.5: 84.70%\n",
      "Epoch #55 mAP@0.5:0.95: 42.79%\n",
      "Took 0.214 minutes for epoch 54\n",
      "SAVING PLOTS COMPLETE...\n",
      "Adjusting learning rate of group 0 to 1.0000e-06.\n",
      "\n",
      "EPOCH 56 of 100\n",
      "Training\n"
     ]
    },
    {
     "data": {
      "application/vnd.jupyter.widget-view+json": {
       "model_id": "bf32ae57089048718d87e746ff56cb63",
       "version_major": 2,
       "version_minor": 0
      },
      "text/plain": [
       "  0%|          | 0/12 [00:00<?, ?it/s]"
      ]
     },
     "metadata": {},
     "output_type": "display_data"
    },
    {
     "name": "stdout",
     "output_type": "stream",
     "text": [
      "Validating\n"
     ]
    },
    {
     "data": {
      "application/vnd.jupyter.widget-view+json": {
       "model_id": "def6442ed71d48a3a670d7ca5293a007",
       "version_major": 2,
       "version_minor": 0
      },
      "text/plain": [
       "  0%|          | 0/3 [00:00<?, ?it/s]"
      ]
     },
     "metadata": {},
     "output_type": "display_data"
    },
    {
     "name": "stdout",
     "output_type": "stream",
     "text": [
      "Epoch #56 train loss: 0.299\n",
      "Epoch #56 mAP@0.5: 84.36%\n",
      "Epoch #56 mAP@0.5:0.95: 42.50%\n",
      "Took 0.214 minutes for epoch 55\n",
      "SAVING PLOTS COMPLETE...\n",
      "Adjusting learning rate of group 0 to 1.0000e-06.\n",
      "\n",
      "EPOCH 57 of 100\n",
      "Training\n"
     ]
    },
    {
     "data": {
      "application/vnd.jupyter.widget-view+json": {
       "model_id": "3bd0e45b365d4015a2cb4cc6ca92702a",
       "version_major": 2,
       "version_minor": 0
      },
      "text/plain": [
       "  0%|          | 0/12 [00:00<?, ?it/s]"
      ]
     },
     "metadata": {},
     "output_type": "display_data"
    },
    {
     "name": "stdout",
     "output_type": "stream",
     "text": [
      "Validating\n"
     ]
    },
    {
     "data": {
      "application/vnd.jupyter.widget-view+json": {
       "model_id": "66ca9ee8b4e2480db99ad64abf5f58b2",
       "version_major": 2,
       "version_minor": 0
      },
      "text/plain": [
       "  0%|          | 0/3 [00:00<?, ?it/s]"
      ]
     },
     "metadata": {},
     "output_type": "display_data"
    },
    {
     "name": "stdout",
     "output_type": "stream",
     "text": [
      "Epoch #57 train loss: 0.301\n",
      "Epoch #57 mAP@0.5: 84.86%\n",
      "Epoch #57 mAP@0.5:0.95: 42.77%\n",
      "Took 0.225 minutes for epoch 56\n",
      "SAVING PLOTS COMPLETE...\n",
      "Adjusting learning rate of group 0 to 1.0000e-06.\n",
      "\n",
      "EPOCH 58 of 100\n",
      "Training\n"
     ]
    },
    {
     "data": {
      "application/vnd.jupyter.widget-view+json": {
       "model_id": "9d8a6aed849f4680b8667ee0ae4fc8ab",
       "version_major": 2,
       "version_minor": 0
      },
      "text/plain": [
       "  0%|          | 0/12 [00:00<?, ?it/s]"
      ]
     },
     "metadata": {},
     "output_type": "display_data"
    },
    {
     "name": "stdout",
     "output_type": "stream",
     "text": [
      "Validating\n"
     ]
    },
    {
     "data": {
      "application/vnd.jupyter.widget-view+json": {
       "model_id": "db14c45147974d0fbc90cf316e29ad91",
       "version_major": 2,
       "version_minor": 0
      },
      "text/plain": [
       "  0%|          | 0/3 [00:00<?, ?it/s]"
      ]
     },
     "metadata": {},
     "output_type": "display_data"
    },
    {
     "name": "stdout",
     "output_type": "stream",
     "text": [
      "Epoch #58 train loss: 0.301\n",
      "Epoch #58 mAP@0.5: 84.84%\n",
      "Epoch #58 mAP@0.5:0.95: 42.24%\n",
      "Took 0.213 minutes for epoch 57\n",
      "SAVING PLOTS COMPLETE...\n",
      "Adjusting learning rate of group 0 to 1.0000e-06.\n",
      "\n",
      "EPOCH 59 of 100\n",
      "Training\n"
     ]
    },
    {
     "data": {
      "application/vnd.jupyter.widget-view+json": {
       "model_id": "5361fe2da4724b68a6db9c2007bfa7ba",
       "version_major": 2,
       "version_minor": 0
      },
      "text/plain": [
       "  0%|          | 0/12 [00:00<?, ?it/s]"
      ]
     },
     "metadata": {},
     "output_type": "display_data"
    },
    {
     "name": "stdout",
     "output_type": "stream",
     "text": [
      "Validating\n"
     ]
    },
    {
     "data": {
      "application/vnd.jupyter.widget-view+json": {
       "model_id": "d36deaf5604546b48da527539e57c3cb",
       "version_major": 2,
       "version_minor": 0
      },
      "text/plain": [
       "  0%|          | 0/3 [00:00<?, ?it/s]"
      ]
     },
     "metadata": {},
     "output_type": "display_data"
    },
    {
     "name": "stdout",
     "output_type": "stream",
     "text": [
      "Epoch #59 train loss: 0.292\n",
      "Epoch #59 mAP@0.5: 84.82%\n",
      "Epoch #59 mAP@0.5:0.95: 42.74%\n",
      "Took 0.214 minutes for epoch 58\n",
      "SAVING PLOTS COMPLETE...\n",
      "Adjusting learning rate of group 0 to 1.0000e-06.\n",
      "\n",
      "EPOCH 60 of 100\n",
      "Training\n"
     ]
    },
    {
     "data": {
      "application/vnd.jupyter.widget-view+json": {
       "model_id": "4b87bee38a4246adac3e7251ff99c892",
       "version_major": 2,
       "version_minor": 0
      },
      "text/plain": [
       "  0%|          | 0/12 [00:00<?, ?it/s]"
      ]
     },
     "metadata": {},
     "output_type": "display_data"
    },
    {
     "name": "stdout",
     "output_type": "stream",
     "text": [
      "Validating\n"
     ]
    },
    {
     "data": {
      "application/vnd.jupyter.widget-view+json": {
       "model_id": "d70ffb1be2314b459f035bcd6619dee7",
       "version_major": 2,
       "version_minor": 0
      },
      "text/plain": [
       "  0%|          | 0/3 [00:00<?, ?it/s]"
      ]
     },
     "metadata": {},
     "output_type": "display_data"
    },
    {
     "name": "stdout",
     "output_type": "stream",
     "text": [
      "Epoch #60 train loss: 0.310\n",
      "Epoch #60 mAP@0.5: 84.75%\n",
      "Epoch #60 mAP@0.5:0.95: 42.21%\n",
      "Took 0.214 minutes for epoch 59\n",
      "SAVING PLOTS COMPLETE...\n",
      "Adjusting learning rate of group 0 to 1.0000e-07.\n",
      "\n",
      "EPOCH 61 of 100\n",
      "Training\n"
     ]
    },
    {
     "data": {
      "application/vnd.jupyter.widget-view+json": {
       "model_id": "b3b2084410e94211bf200592ef49cbcb",
       "version_major": 2,
       "version_minor": 0
      },
      "text/plain": [
       "  0%|          | 0/12 [00:00<?, ?it/s]"
      ]
     },
     "metadata": {},
     "output_type": "display_data"
    },
    {
     "name": "stdout",
     "output_type": "stream",
     "text": [
      "Validating\n"
     ]
    },
    {
     "data": {
      "application/vnd.jupyter.widget-view+json": {
       "model_id": "d7fc1a28fd37451ea91b20c9ada26b9d",
       "version_major": 2,
       "version_minor": 0
      },
      "text/plain": [
       "  0%|          | 0/3 [00:00<?, ?it/s]"
      ]
     },
     "metadata": {},
     "output_type": "display_data"
    },
    {
     "name": "stdout",
     "output_type": "stream",
     "text": [
      "Epoch #61 train loss: 0.296\n",
      "Epoch #61 mAP@0.5: 85.14%\n",
      "Epoch #61 mAP@0.5:0.95: 42.99%\n",
      "Took 0.212 minutes for epoch 60\n",
      "\n",
      "BEST VALIDATION mAP: 0.4298935532569885\n",
      "\n",
      "SAVING BEST MODEL FOR EPOCH: 61\n",
      "\n",
      "SAVING PLOTS COMPLETE...\n",
      "Adjusting learning rate of group 0 to 1.0000e-07.\n",
      "\n",
      "EPOCH 62 of 100\n",
      "Training\n"
     ]
    },
    {
     "data": {
      "application/vnd.jupyter.widget-view+json": {
       "model_id": "e0296b4090df4372ae258876c843b081",
       "version_major": 2,
       "version_minor": 0
      },
      "text/plain": [
       "  0%|          | 0/12 [00:00<?, ?it/s]"
      ]
     },
     "metadata": {},
     "output_type": "display_data"
    },
    {
     "name": "stdout",
     "output_type": "stream",
     "text": [
      "Validating\n"
     ]
    },
    {
     "data": {
      "application/vnd.jupyter.widget-view+json": {
       "model_id": "caa291b1904d4802b13a8b61b0c04561",
       "version_major": 2,
       "version_minor": 0
      },
      "text/plain": [
       "  0%|          | 0/3 [00:00<?, ?it/s]"
      ]
     },
     "metadata": {},
     "output_type": "display_data"
    },
    {
     "name": "stdout",
     "output_type": "stream",
     "text": [
      "Epoch #62 train loss: 0.297\n",
      "Epoch #62 mAP@0.5: 84.74%\n",
      "Epoch #62 mAP@0.5:0.95: 42.55%\n",
      "Took 0.211 minutes for epoch 61\n",
      "SAVING PLOTS COMPLETE...\n",
      "Adjusting learning rate of group 0 to 1.0000e-07.\n",
      "\n",
      "EPOCH 63 of 100\n",
      "Training\n"
     ]
    },
    {
     "data": {
      "application/vnd.jupyter.widget-view+json": {
       "model_id": "34f15fa6aed04c9aa05c7a3869bb0132",
       "version_major": 2,
       "version_minor": 0
      },
      "text/plain": [
       "  0%|          | 0/12 [00:00<?, ?it/s]"
      ]
     },
     "metadata": {},
     "output_type": "display_data"
    },
    {
     "name": "stdout",
     "output_type": "stream",
     "text": [
      "Validating\n"
     ]
    },
    {
     "data": {
      "application/vnd.jupyter.widget-view+json": {
       "model_id": "e77c4635e8c34c19a29ec4e9649b98ff",
       "version_major": 2,
       "version_minor": 0
      },
      "text/plain": [
       "  0%|          | 0/3 [00:00<?, ?it/s]"
      ]
     },
     "metadata": {},
     "output_type": "display_data"
    },
    {
     "name": "stdout",
     "output_type": "stream",
     "text": [
      "Epoch #63 train loss: 0.299\n",
      "Epoch #63 mAP@0.5: 84.88%\n",
      "Epoch #63 mAP@0.5:0.95: 42.24%\n",
      "Took 0.215 minutes for epoch 62\n",
      "SAVING PLOTS COMPLETE...\n",
      "Adjusting learning rate of group 0 to 1.0000e-07.\n",
      "\n",
      "EPOCH 64 of 100\n",
      "Training\n"
     ]
    },
    {
     "data": {
      "application/vnd.jupyter.widget-view+json": {
       "model_id": "f9bc95e8d3514eb3a4ae97b422870fdb",
       "version_major": 2,
       "version_minor": 0
      },
      "text/plain": [
       "  0%|          | 0/12 [00:00<?, ?it/s]"
      ]
     },
     "metadata": {},
     "output_type": "display_data"
    },
    {
     "name": "stdout",
     "output_type": "stream",
     "text": [
      "Validating\n"
     ]
    },
    {
     "data": {
      "application/vnd.jupyter.widget-view+json": {
       "model_id": "1d1660177d1242109334d23b74926751",
       "version_major": 2,
       "version_minor": 0
      },
      "text/plain": [
       "  0%|          | 0/3 [00:00<?, ?it/s]"
      ]
     },
     "metadata": {},
     "output_type": "display_data"
    },
    {
     "name": "stdout",
     "output_type": "stream",
     "text": [
      "Epoch #64 train loss: 0.303\n",
      "Epoch #64 mAP@0.5: 84.37%\n",
      "Epoch #64 mAP@0.5:0.95: 42.51%\n",
      "Took 0.212 minutes for epoch 63\n",
      "SAVING PLOTS COMPLETE...\n",
      "Adjusting learning rate of group 0 to 1.0000e-07.\n",
      "\n",
      "EPOCH 65 of 100\n",
      "Training\n"
     ]
    },
    {
     "data": {
      "application/vnd.jupyter.widget-view+json": {
       "model_id": "295e9fc1603c4c4bbbb0695354798bc4",
       "version_major": 2,
       "version_minor": 0
      },
      "text/plain": [
       "  0%|          | 0/12 [00:00<?, ?it/s]"
      ]
     },
     "metadata": {},
     "output_type": "display_data"
    },
    {
     "name": "stdout",
     "output_type": "stream",
     "text": [
      "Validating\n"
     ]
    },
    {
     "data": {
      "application/vnd.jupyter.widget-view+json": {
       "model_id": "c1c4c21ec5ca4e73bb8569687995e295",
       "version_major": 2,
       "version_minor": 0
      },
      "text/plain": [
       "  0%|          | 0/3 [00:00<?, ?it/s]"
      ]
     },
     "metadata": {},
     "output_type": "display_data"
    },
    {
     "name": "stdout",
     "output_type": "stream",
     "text": [
      "Epoch #65 train loss: 0.293\n",
      "Epoch #65 mAP@0.5: 84.89%\n",
      "Epoch #65 mAP@0.5:0.95: 42.18%\n",
      "Took 0.211 minutes for epoch 64\n",
      "SAVING PLOTS COMPLETE...\n",
      "Adjusting learning rate of group 0 to 1.0000e-07.\n",
      "\n",
      "EPOCH 66 of 100\n",
      "Training\n"
     ]
    },
    {
     "data": {
      "application/vnd.jupyter.widget-view+json": {
       "model_id": "9baa0d913e294865b965f992625d9678",
       "version_major": 2,
       "version_minor": 0
      },
      "text/plain": [
       "  0%|          | 0/12 [00:00<?, ?it/s]"
      ]
     },
     "metadata": {},
     "output_type": "display_data"
    },
    {
     "name": "stdout",
     "output_type": "stream",
     "text": [
      "Validating\n"
     ]
    },
    {
     "data": {
      "application/vnd.jupyter.widget-view+json": {
       "model_id": "c9df82ae64b3480e9d331f69c4722d91",
       "version_major": 2,
       "version_minor": 0
      },
      "text/plain": [
       "  0%|          | 0/3 [00:00<?, ?it/s]"
      ]
     },
     "metadata": {},
     "output_type": "display_data"
    },
    {
     "name": "stdout",
     "output_type": "stream",
     "text": [
      "Epoch #66 train loss: 0.292\n",
      "Epoch #66 mAP@0.5: 84.73%\n",
      "Epoch #66 mAP@0.5:0.95: 42.33%\n",
      "Took 0.212 minutes for epoch 65\n",
      "SAVING PLOTS COMPLETE...\n",
      "Adjusting learning rate of group 0 to 1.0000e-07.\n",
      "\n",
      "EPOCH 67 of 100\n",
      "Training\n"
     ]
    },
    {
     "data": {
      "application/vnd.jupyter.widget-view+json": {
       "model_id": "41b6ef6140a14565866483df12608823",
       "version_major": 2,
       "version_minor": 0
      },
      "text/plain": [
       "  0%|          | 0/12 [00:00<?, ?it/s]"
      ]
     },
     "metadata": {},
     "output_type": "display_data"
    },
    {
     "name": "stdout",
     "output_type": "stream",
     "text": [
      "Validating\n"
     ]
    },
    {
     "data": {
      "application/vnd.jupyter.widget-view+json": {
       "model_id": "519ef96fd3924945ae6bbbc8593e2251",
       "version_major": 2,
       "version_minor": 0
      },
      "text/plain": [
       "  0%|          | 0/3 [00:00<?, ?it/s]"
      ]
     },
     "metadata": {},
     "output_type": "display_data"
    },
    {
     "name": "stdout",
     "output_type": "stream",
     "text": [
      "Epoch #67 train loss: 0.293\n",
      "Epoch #67 mAP@0.5: 85.19%\n",
      "Epoch #67 mAP@0.5:0.95: 42.27%\n",
      "Took 0.214 minutes for epoch 66\n",
      "SAVING PLOTS COMPLETE...\n",
      "Adjusting learning rate of group 0 to 1.0000e-07.\n",
      "\n",
      "EPOCH 68 of 100\n",
      "Training\n"
     ]
    },
    {
     "data": {
      "application/vnd.jupyter.widget-view+json": {
       "model_id": "2cf15b8f1f654f86a7c22e0cbd202bce",
       "version_major": 2,
       "version_minor": 0
      },
      "text/plain": [
       "  0%|          | 0/12 [00:00<?, ?it/s]"
      ]
     },
     "metadata": {},
     "output_type": "display_data"
    },
    {
     "name": "stdout",
     "output_type": "stream",
     "text": [
      "Validating\n"
     ]
    },
    {
     "data": {
      "application/vnd.jupyter.widget-view+json": {
       "model_id": "41128d20bca546018a191192448245dc",
       "version_major": 2,
       "version_minor": 0
      },
      "text/plain": [
       "  0%|          | 0/3 [00:00<?, ?it/s]"
      ]
     },
     "metadata": {},
     "output_type": "display_data"
    },
    {
     "name": "stdout",
     "output_type": "stream",
     "text": [
      "Epoch #68 train loss: 0.293\n",
      "Epoch #68 mAP@0.5: 84.89%\n",
      "Epoch #68 mAP@0.5:0.95: 42.44%\n",
      "Took 0.214 minutes for epoch 67\n",
      "SAVING PLOTS COMPLETE...\n",
      "Adjusting learning rate of group 0 to 1.0000e-07.\n",
      "\n",
      "EPOCH 69 of 100\n",
      "Training\n"
     ]
    },
    {
     "data": {
      "application/vnd.jupyter.widget-view+json": {
       "model_id": "adfbcdedd432488a83dfa474beb47265",
       "version_major": 2,
       "version_minor": 0
      },
      "text/plain": [
       "  0%|          | 0/12 [00:00<?, ?it/s]"
      ]
     },
     "metadata": {},
     "output_type": "display_data"
    },
    {
     "name": "stdout",
     "output_type": "stream",
     "text": [
      "Validating\n"
     ]
    },
    {
     "data": {
      "application/vnd.jupyter.widget-view+json": {
       "model_id": "28ae7c370d6847ea9a852f3b5d0405df",
       "version_major": 2,
       "version_minor": 0
      },
      "text/plain": [
       "  0%|          | 0/3 [00:00<?, ?it/s]"
      ]
     },
     "metadata": {},
     "output_type": "display_data"
    },
    {
     "name": "stdout",
     "output_type": "stream",
     "text": [
      "Epoch #69 train loss: 0.292\n",
      "Epoch #69 mAP@0.5: 84.96%\n",
      "Epoch #69 mAP@0.5:0.95: 42.50%\n",
      "Took 0.212 minutes for epoch 68\n",
      "SAVING PLOTS COMPLETE...\n",
      "Adjusting learning rate of group 0 to 1.0000e-07.\n",
      "\n",
      "EPOCH 70 of 100\n",
      "Training\n"
     ]
    },
    {
     "data": {
      "application/vnd.jupyter.widget-view+json": {
       "model_id": "4045ec44f63a4e75bd48a2850c9479ff",
       "version_major": 2,
       "version_minor": 0
      },
      "text/plain": [
       "  0%|          | 0/12 [00:00<?, ?it/s]"
      ]
     },
     "metadata": {},
     "output_type": "display_data"
    },
    {
     "name": "stdout",
     "output_type": "stream",
     "text": [
      "Validating\n"
     ]
    },
    {
     "data": {
      "application/vnd.jupyter.widget-view+json": {
       "model_id": "66791228c2a5442f83a5713029a1592a",
       "version_major": 2,
       "version_minor": 0
      },
      "text/plain": [
       "  0%|          | 0/3 [00:00<?, ?it/s]"
      ]
     },
     "metadata": {},
     "output_type": "display_data"
    },
    {
     "name": "stdout",
     "output_type": "stream",
     "text": [
      "Epoch #70 train loss: 0.291\n",
      "Epoch #70 mAP@0.5: 84.40%\n",
      "Epoch #70 mAP@0.5:0.95: 42.53%\n",
      "Took 0.213 minutes for epoch 69\n",
      "SAVING PLOTS COMPLETE...\n",
      "Adjusting learning rate of group 0 to 1.0000e-07.\n",
      "\n",
      "EPOCH 71 of 100\n",
      "Training\n"
     ]
    },
    {
     "data": {
      "application/vnd.jupyter.widget-view+json": {
       "model_id": "b44dba8e03e74bdd97380c2dfc875177",
       "version_major": 2,
       "version_minor": 0
      },
      "text/plain": [
       "  0%|          | 0/12 [00:00<?, ?it/s]"
      ]
     },
     "metadata": {},
     "output_type": "display_data"
    },
    {
     "name": "stdout",
     "output_type": "stream",
     "text": [
      "Validating\n"
     ]
    },
    {
     "data": {
      "application/vnd.jupyter.widget-view+json": {
       "model_id": "cac08263c87a4ea8bfa42d62bd16916c",
       "version_major": 2,
       "version_minor": 0
      },
      "text/plain": [
       "  0%|          | 0/3 [00:00<?, ?it/s]"
      ]
     },
     "metadata": {},
     "output_type": "display_data"
    },
    {
     "name": "stdout",
     "output_type": "stream",
     "text": [
      "Epoch #71 train loss: 0.292\n",
      "Epoch #71 mAP@0.5: 84.86%\n",
      "Epoch #71 mAP@0.5:0.95: 42.36%\n",
      "Took 0.212 minutes for epoch 70\n",
      "SAVING PLOTS COMPLETE...\n",
      "Adjusting learning rate of group 0 to 1.0000e-07.\n",
      "\n",
      "EPOCH 72 of 100\n",
      "Training\n"
     ]
    },
    {
     "data": {
      "application/vnd.jupyter.widget-view+json": {
       "model_id": "1a4e8a6b02bd402f98994f273ff2157d",
       "version_major": 2,
       "version_minor": 0
      },
      "text/plain": [
       "  0%|          | 0/12 [00:00<?, ?it/s]"
      ]
     },
     "metadata": {},
     "output_type": "display_data"
    },
    {
     "name": "stdout",
     "output_type": "stream",
     "text": [
      "Validating\n"
     ]
    },
    {
     "data": {
      "application/vnd.jupyter.widget-view+json": {
       "model_id": "f4f89e6756324399990f450e0ccacf75",
       "version_major": 2,
       "version_minor": 0
      },
      "text/plain": [
       "  0%|          | 0/3 [00:00<?, ?it/s]"
      ]
     },
     "metadata": {},
     "output_type": "display_data"
    },
    {
     "name": "stdout",
     "output_type": "stream",
     "text": [
      "Epoch #72 train loss: 0.293\n",
      "Epoch #72 mAP@0.5: 84.93%\n",
      "Epoch #72 mAP@0.5:0.95: 42.39%\n",
      "Took 0.214 minutes for epoch 71\n",
      "SAVING PLOTS COMPLETE...\n",
      "Adjusting learning rate of group 0 to 1.0000e-07.\n",
      "\n",
      "EPOCH 73 of 100\n",
      "Training\n"
     ]
    },
    {
     "data": {
      "application/vnd.jupyter.widget-view+json": {
       "model_id": "ace40592ceb341da879e2f480c53ab26",
       "version_major": 2,
       "version_minor": 0
      },
      "text/plain": [
       "  0%|          | 0/12 [00:00<?, ?it/s]"
      ]
     },
     "metadata": {},
     "output_type": "display_data"
    },
    {
     "name": "stdout",
     "output_type": "stream",
     "text": [
      "Validating\n"
     ]
    },
    {
     "data": {
      "application/vnd.jupyter.widget-view+json": {
       "model_id": "4ba39c91089a4efa86c66da314eb9dfb",
       "version_major": 2,
       "version_minor": 0
      },
      "text/plain": [
       "  0%|          | 0/3 [00:00<?, ?it/s]"
      ]
     },
     "metadata": {},
     "output_type": "display_data"
    },
    {
     "name": "stdout",
     "output_type": "stream",
     "text": [
      "Epoch #73 train loss: 0.296\n",
      "Epoch #73 mAP@0.5: 85.13%\n",
      "Epoch #73 mAP@0.5:0.95: 42.66%\n",
      "Took 0.214 minutes for epoch 72\n",
      "SAVING PLOTS COMPLETE...\n",
      "Adjusting learning rate of group 0 to 1.0000e-07.\n",
      "\n",
      "EPOCH 74 of 100\n",
      "Training\n"
     ]
    },
    {
     "data": {
      "application/vnd.jupyter.widget-view+json": {
       "model_id": "0804b9ae99304ba2ae419102b1e012e2",
       "version_major": 2,
       "version_minor": 0
      },
      "text/plain": [
       "  0%|          | 0/12 [00:00<?, ?it/s]"
      ]
     },
     "metadata": {},
     "output_type": "display_data"
    },
    {
     "name": "stdout",
     "output_type": "stream",
     "text": [
      "Validating\n"
     ]
    },
    {
     "data": {
      "application/vnd.jupyter.widget-view+json": {
       "model_id": "71b3d130375641d091be41c6043b713f",
       "version_major": 2,
       "version_minor": 0
      },
      "text/plain": [
       "  0%|          | 0/3 [00:00<?, ?it/s]"
      ]
     },
     "metadata": {},
     "output_type": "display_data"
    },
    {
     "name": "stdout",
     "output_type": "stream",
     "text": [
      "Epoch #74 train loss: 0.297\n",
      "Epoch #74 mAP@0.5: 85.62%\n",
      "Epoch #74 mAP@0.5:0.95: 42.32%\n",
      "Took 0.215 minutes for epoch 73\n",
      "SAVING PLOTS COMPLETE...\n",
      "Adjusting learning rate of group 0 to 1.0000e-07.\n",
      "\n",
      "EPOCH 75 of 100\n",
      "Training\n"
     ]
    },
    {
     "data": {
      "application/vnd.jupyter.widget-view+json": {
       "model_id": "624494968ce64e5296aff5173417c0c0",
       "version_major": 2,
       "version_minor": 0
      },
      "text/plain": [
       "  0%|          | 0/12 [00:00<?, ?it/s]"
      ]
     },
     "metadata": {},
     "output_type": "display_data"
    },
    {
     "name": "stdout",
     "output_type": "stream",
     "text": [
      "Validating\n"
     ]
    },
    {
     "data": {
      "application/vnd.jupyter.widget-view+json": {
       "model_id": "3a8f70a7754e4276b85fdbe0f45b9968",
       "version_major": 2,
       "version_minor": 0
      },
      "text/plain": [
       "  0%|          | 0/3 [00:00<?, ?it/s]"
      ]
     },
     "metadata": {},
     "output_type": "display_data"
    },
    {
     "name": "stdout",
     "output_type": "stream",
     "text": [
      "Epoch #75 train loss: 0.297\n",
      "Epoch #75 mAP@0.5: 85.29%\n",
      "Epoch #75 mAP@0.5:0.95: 42.71%\n",
      "Took 0.214 minutes for epoch 74\n",
      "SAVING PLOTS COMPLETE...\n",
      "Adjusting learning rate of group 0 to 1.0000e-08.\n",
      "\n",
      "EPOCH 76 of 100\n",
      "Training\n"
     ]
    },
    {
     "data": {
      "application/vnd.jupyter.widget-view+json": {
       "model_id": "ab1ae555a652420cacfcd68a6481614c",
       "version_major": 2,
       "version_minor": 0
      },
      "text/plain": [
       "  0%|          | 0/12 [00:00<?, ?it/s]"
      ]
     },
     "metadata": {},
     "output_type": "display_data"
    },
    {
     "name": "stdout",
     "output_type": "stream",
     "text": [
      "Validating\n"
     ]
    },
    {
     "data": {
      "application/vnd.jupyter.widget-view+json": {
       "model_id": "6c484d9ca644418e809e82b724155a28",
       "version_major": 2,
       "version_minor": 0
      },
      "text/plain": [
       "  0%|          | 0/3 [00:00<?, ?it/s]"
      ]
     },
     "metadata": {},
     "output_type": "display_data"
    },
    {
     "name": "stdout",
     "output_type": "stream",
     "text": [
      "Epoch #76 train loss: 0.296\n",
      "Epoch #76 mAP@0.5: 85.00%\n",
      "Epoch #76 mAP@0.5:0.95: 41.89%\n",
      "Took 0.212 minutes for epoch 75\n",
      "SAVING PLOTS COMPLETE...\n",
      "Adjusting learning rate of group 0 to 1.0000e-08.\n",
      "\n",
      "EPOCH 77 of 100\n",
      "Training\n"
     ]
    },
    {
     "data": {
      "application/vnd.jupyter.widget-view+json": {
       "model_id": "060bf65b7b1e48c0a596129aba88793e",
       "version_major": 2,
       "version_minor": 0
      },
      "text/plain": [
       "  0%|          | 0/12 [00:00<?, ?it/s]"
      ]
     },
     "metadata": {},
     "output_type": "display_data"
    },
    {
     "name": "stdout",
     "output_type": "stream",
     "text": [
      "Validating\n"
     ]
    },
    {
     "data": {
      "application/vnd.jupyter.widget-view+json": {
       "model_id": "3b2624ef679848dd8fb71a77bfe41753",
       "version_major": 2,
       "version_minor": 0
      },
      "text/plain": [
       "  0%|          | 0/3 [00:00<?, ?it/s]"
      ]
     },
     "metadata": {},
     "output_type": "display_data"
    },
    {
     "name": "stdout",
     "output_type": "stream",
     "text": [
      "Epoch #77 train loss: 0.304\n",
      "Epoch #77 mAP@0.5: 85.26%\n",
      "Epoch #77 mAP@0.5:0.95: 42.05%\n",
      "Took 0.214 minutes for epoch 76\n",
      "SAVING PLOTS COMPLETE...\n",
      "Adjusting learning rate of group 0 to 1.0000e-08.\n",
      "\n",
      "EPOCH 78 of 100\n",
      "Training\n"
     ]
    },
    {
     "data": {
      "application/vnd.jupyter.widget-view+json": {
       "model_id": "d2e46d8a7a2d4f21aa20b008c592dd64",
       "version_major": 2,
       "version_minor": 0
      },
      "text/plain": [
       "  0%|          | 0/12 [00:00<?, ?it/s]"
      ]
     },
     "metadata": {},
     "output_type": "display_data"
    },
    {
     "name": "stdout",
     "output_type": "stream",
     "text": [
      "Validating\n"
     ]
    },
    {
     "data": {
      "application/vnd.jupyter.widget-view+json": {
       "model_id": "bcf5d39d873f4df9b655005c3fd5fa5c",
       "version_major": 2,
       "version_minor": 0
      },
      "text/plain": [
       "  0%|          | 0/3 [00:00<?, ?it/s]"
      ]
     },
     "metadata": {},
     "output_type": "display_data"
    },
    {
     "name": "stdout",
     "output_type": "stream",
     "text": [
      "Epoch #78 train loss: 0.289\n",
      "Epoch #78 mAP@0.5: 85.42%\n",
      "Epoch #78 mAP@0.5:0.95: 42.61%\n",
      "Took 0.214 minutes for epoch 77\n",
      "SAVING PLOTS COMPLETE...\n",
      "Adjusting learning rate of group 0 to 1.0000e-08.\n",
      "\n",
      "EPOCH 79 of 100\n",
      "Training\n"
     ]
    },
    {
     "data": {
      "application/vnd.jupyter.widget-view+json": {
       "model_id": "a77d04cb81014a53b7fc0ec98ebb25f0",
       "version_major": 2,
       "version_minor": 0
      },
      "text/plain": [
       "  0%|          | 0/12 [00:00<?, ?it/s]"
      ]
     },
     "metadata": {},
     "output_type": "display_data"
    },
    {
     "name": "stdout",
     "output_type": "stream",
     "text": [
      "Validating\n"
     ]
    },
    {
     "data": {
      "application/vnd.jupyter.widget-view+json": {
       "model_id": "2c17b92396d749af81e654fb0574375b",
       "version_major": 2,
       "version_minor": 0
      },
      "text/plain": [
       "  0%|          | 0/3 [00:00<?, ?it/s]"
      ]
     },
     "metadata": {},
     "output_type": "display_data"
    },
    {
     "name": "stdout",
     "output_type": "stream",
     "text": [
      "Epoch #79 train loss: 0.292\n",
      "Epoch #79 mAP@0.5: 84.93%\n",
      "Epoch #79 mAP@0.5:0.95: 42.37%\n",
      "Took 0.211 minutes for epoch 78\n",
      "SAVING PLOTS COMPLETE...\n",
      "Adjusting learning rate of group 0 to 1.0000e-08.\n",
      "\n",
      "EPOCH 80 of 100\n",
      "Training\n"
     ]
    },
    {
     "data": {
      "application/vnd.jupyter.widget-view+json": {
       "model_id": "3c3e8e107ed343b5ab3660ef9ac450af",
       "version_major": 2,
       "version_minor": 0
      },
      "text/plain": [
       "  0%|          | 0/12 [00:00<?, ?it/s]"
      ]
     },
     "metadata": {},
     "output_type": "display_data"
    },
    {
     "name": "stdout",
     "output_type": "stream",
     "text": [
      "Validating\n"
     ]
    },
    {
     "data": {
      "application/vnd.jupyter.widget-view+json": {
       "model_id": "60957915722d4dfbb8180015c70cdcef",
       "version_major": 2,
       "version_minor": 0
      },
      "text/plain": [
       "  0%|          | 0/3 [00:00<?, ?it/s]"
      ]
     },
     "metadata": {},
     "output_type": "display_data"
    },
    {
     "name": "stdout",
     "output_type": "stream",
     "text": [
      "Epoch #80 train loss: 0.290\n",
      "Epoch #80 mAP@0.5: 84.98%\n",
      "Epoch #80 mAP@0.5:0.95: 42.57%\n",
      "Took 0.215 minutes for epoch 79\n",
      "SAVING PLOTS COMPLETE...\n",
      "Adjusting learning rate of group 0 to 1.0000e-08.\n",
      "\n",
      "EPOCH 81 of 100\n",
      "Training\n"
     ]
    },
    {
     "data": {
      "application/vnd.jupyter.widget-view+json": {
       "model_id": "b79f3bf3264a43239d948934f100b15e",
       "version_major": 2,
       "version_minor": 0
      },
      "text/plain": [
       "  0%|          | 0/12 [00:00<?, ?it/s]"
      ]
     },
     "metadata": {},
     "output_type": "display_data"
    },
    {
     "name": "stdout",
     "output_type": "stream",
     "text": [
      "Validating\n"
     ]
    },
    {
     "data": {
      "application/vnd.jupyter.widget-view+json": {
       "model_id": "34d5ade524164098b62ce1368b55f6a6",
       "version_major": 2,
       "version_minor": 0
      },
      "text/plain": [
       "  0%|          | 0/3 [00:00<?, ?it/s]"
      ]
     },
     "metadata": {},
     "output_type": "display_data"
    },
    {
     "name": "stdout",
     "output_type": "stream",
     "text": [
      "Epoch #81 train loss: 0.295\n",
      "Epoch #81 mAP@0.5: 85.25%\n",
      "Epoch #81 mAP@0.5:0.95: 42.50%\n",
      "Took 0.214 minutes for epoch 80\n",
      "SAVING PLOTS COMPLETE...\n",
      "Adjusting learning rate of group 0 to 1.0000e-08.\n",
      "\n",
      "EPOCH 82 of 100\n",
      "Training\n"
     ]
    },
    {
     "data": {
      "application/vnd.jupyter.widget-view+json": {
       "model_id": "2e296c47293042118691ac7f5d525706",
       "version_major": 2,
       "version_minor": 0
      },
      "text/plain": [
       "  0%|          | 0/12 [00:00<?, ?it/s]"
      ]
     },
     "metadata": {},
     "output_type": "display_data"
    },
    {
     "name": "stdout",
     "output_type": "stream",
     "text": [
      "Validating\n"
     ]
    },
    {
     "data": {
      "application/vnd.jupyter.widget-view+json": {
       "model_id": "7dfd9aff4a9040798a06db7ad245e3fc",
       "version_major": 2,
       "version_minor": 0
      },
      "text/plain": [
       "  0%|          | 0/3 [00:00<?, ?it/s]"
      ]
     },
     "metadata": {},
     "output_type": "display_data"
    },
    {
     "name": "stdout",
     "output_type": "stream",
     "text": [
      "Epoch #82 train loss: 0.298\n",
      "Epoch #82 mAP@0.5: 84.48%\n",
      "Epoch #82 mAP@0.5:0.95: 42.08%\n",
      "Took 0.214 minutes for epoch 81\n",
      "SAVING PLOTS COMPLETE...\n",
      "Adjusting learning rate of group 0 to 1.0000e-08.\n",
      "\n",
      "EPOCH 83 of 100\n",
      "Training\n"
     ]
    },
    {
     "data": {
      "application/vnd.jupyter.widget-view+json": {
       "model_id": "e4e93fe0d7e646db8f5bbc204b609998",
       "version_major": 2,
       "version_minor": 0
      },
      "text/plain": [
       "  0%|          | 0/12 [00:00<?, ?it/s]"
      ]
     },
     "metadata": {},
     "output_type": "display_data"
    },
    {
     "name": "stdout",
     "output_type": "stream",
     "text": [
      "Validating\n"
     ]
    },
    {
     "data": {
      "application/vnd.jupyter.widget-view+json": {
       "model_id": "28a6366ea5e84d569c15c6cf31a2815c",
       "version_major": 2,
       "version_minor": 0
      },
      "text/plain": [
       "  0%|          | 0/3 [00:00<?, ?it/s]"
      ]
     },
     "metadata": {},
     "output_type": "display_data"
    },
    {
     "name": "stdout",
     "output_type": "stream",
     "text": [
      "Epoch #83 train loss: 0.289\n",
      "Epoch #83 mAP@0.5: 84.87%\n",
      "Epoch #83 mAP@0.5:0.95: 42.22%\n",
      "Took 0.213 minutes for epoch 82\n",
      "SAVING PLOTS COMPLETE...\n",
      "Adjusting learning rate of group 0 to 1.0000e-08.\n",
      "\n",
      "EPOCH 84 of 100\n",
      "Training\n"
     ]
    },
    {
     "data": {
      "application/vnd.jupyter.widget-view+json": {
       "model_id": "972fc3410bcd44408bf33835ce24eb43",
       "version_major": 2,
       "version_minor": 0
      },
      "text/plain": [
       "  0%|          | 0/12 [00:00<?, ?it/s]"
      ]
     },
     "metadata": {},
     "output_type": "display_data"
    },
    {
     "name": "stdout",
     "output_type": "stream",
     "text": [
      "Validating\n"
     ]
    },
    {
     "data": {
      "application/vnd.jupyter.widget-view+json": {
       "model_id": "4891494c808e4deba64798c6db251a91",
       "version_major": 2,
       "version_minor": 0
      },
      "text/plain": [
       "  0%|          | 0/3 [00:00<?, ?it/s]"
      ]
     },
     "metadata": {},
     "output_type": "display_data"
    },
    {
     "name": "stdout",
     "output_type": "stream",
     "text": [
      "Epoch #84 train loss: 0.292\n",
      "Epoch #84 mAP@0.5: 85.14%\n",
      "Epoch #84 mAP@0.5:0.95: 42.72%\n",
      "Took 0.213 minutes for epoch 83\n",
      "SAVING PLOTS COMPLETE...\n",
      "Adjusting learning rate of group 0 to 1.0000e-08.\n",
      "\n",
      "EPOCH 85 of 100\n",
      "Training\n"
     ]
    },
    {
     "data": {
      "application/vnd.jupyter.widget-view+json": {
       "model_id": "b496e9186dd343d8bcd5a72fdef256ca",
       "version_major": 2,
       "version_minor": 0
      },
      "text/plain": [
       "  0%|          | 0/12 [00:00<?, ?it/s]"
      ]
     },
     "metadata": {},
     "output_type": "display_data"
    },
    {
     "name": "stdout",
     "output_type": "stream",
     "text": [
      "Validating\n"
     ]
    },
    {
     "data": {
      "application/vnd.jupyter.widget-view+json": {
       "model_id": "34d4a9119709473b9fb41774eefa324b",
       "version_major": 2,
       "version_minor": 0
      },
      "text/plain": [
       "  0%|          | 0/3 [00:00<?, ?it/s]"
      ]
     },
     "metadata": {},
     "output_type": "display_data"
    },
    {
     "name": "stdout",
     "output_type": "stream",
     "text": [
      "Epoch #85 train loss: 0.293\n",
      "Epoch #85 mAP@0.5: 84.94%\n",
      "Epoch #85 mAP@0.5:0.95: 42.98%\n",
      "Took 0.214 minutes for epoch 84\n",
      "SAVING PLOTS COMPLETE...\n",
      "Adjusting learning rate of group 0 to 1.0000e-08.\n",
      "\n",
      "EPOCH 86 of 100\n",
      "Training\n"
     ]
    },
    {
     "data": {
      "application/vnd.jupyter.widget-view+json": {
       "model_id": "1f184630e60749c2844043a6799a7e78",
       "version_major": 2,
       "version_minor": 0
      },
      "text/plain": [
       "  0%|          | 0/12 [00:00<?, ?it/s]"
      ]
     },
     "metadata": {},
     "output_type": "display_data"
    },
    {
     "name": "stdout",
     "output_type": "stream",
     "text": [
      "Validating\n"
     ]
    },
    {
     "data": {
      "application/vnd.jupyter.widget-view+json": {
       "model_id": "e7e8820ec47f49b78a0ccd490c0ed508",
       "version_major": 2,
       "version_minor": 0
      },
      "text/plain": [
       "  0%|          | 0/3 [00:00<?, ?it/s]"
      ]
     },
     "metadata": {},
     "output_type": "display_data"
    },
    {
     "name": "stdout",
     "output_type": "stream",
     "text": [
      "Epoch #86 train loss: 0.298\n",
      "Epoch #86 mAP@0.5: 85.14%\n",
      "Epoch #86 mAP@0.5:0.95: 42.89%\n",
      "Took 0.214 minutes for epoch 85\n",
      "SAVING PLOTS COMPLETE...\n",
      "Adjusting learning rate of group 0 to 1.0000e-08.\n",
      "\n",
      "EPOCH 87 of 100\n",
      "Training\n"
     ]
    },
    {
     "data": {
      "application/vnd.jupyter.widget-view+json": {
       "model_id": "537e56f3fb554b87b72f4fc1b4e42e7c",
       "version_major": 2,
       "version_minor": 0
      },
      "text/plain": [
       "  0%|          | 0/12 [00:00<?, ?it/s]"
      ]
     },
     "metadata": {},
     "output_type": "display_data"
    },
    {
     "name": "stdout",
     "output_type": "stream",
     "text": [
      "Validating\n"
     ]
    },
    {
     "data": {
      "application/vnd.jupyter.widget-view+json": {
       "model_id": "0c4aaacd99f74df3a0a85f5b1b67757f",
       "version_major": 2,
       "version_minor": 0
      },
      "text/plain": [
       "  0%|          | 0/3 [00:00<?, ?it/s]"
      ]
     },
     "metadata": {},
     "output_type": "display_data"
    },
    {
     "name": "stdout",
     "output_type": "stream",
     "text": [
      "Epoch #87 train loss: 0.295\n",
      "Epoch #87 mAP@0.5: 84.83%\n",
      "Epoch #87 mAP@0.5:0.95: 42.40%\n",
      "Took 0.212 minutes for epoch 86\n",
      "SAVING PLOTS COMPLETE...\n",
      "Adjusting learning rate of group 0 to 1.0000e-08.\n",
      "\n",
      "EPOCH 88 of 100\n",
      "Training\n"
     ]
    },
    {
     "data": {
      "application/vnd.jupyter.widget-view+json": {
       "model_id": "f7475285462345bfaf3bf3391a1861bb",
       "version_major": 2,
       "version_minor": 0
      },
      "text/plain": [
       "  0%|          | 0/12 [00:00<?, ?it/s]"
      ]
     },
     "metadata": {},
     "output_type": "display_data"
    },
    {
     "name": "stdout",
     "output_type": "stream",
     "text": [
      "Validating\n"
     ]
    },
    {
     "data": {
      "application/vnd.jupyter.widget-view+json": {
       "model_id": "881c34ae06b8431b9acd72c543a88bb6",
       "version_major": 2,
       "version_minor": 0
      },
      "text/plain": [
       "  0%|          | 0/3 [00:00<?, ?it/s]"
      ]
     },
     "metadata": {},
     "output_type": "display_data"
    },
    {
     "name": "stdout",
     "output_type": "stream",
     "text": [
      "Epoch #88 train loss: 0.295\n",
      "Epoch #88 mAP@0.5: 84.64%\n",
      "Epoch #88 mAP@0.5:0.95: 42.07%\n",
      "Took 0.212 minutes for epoch 87\n",
      "SAVING PLOTS COMPLETE...\n",
      "Adjusting learning rate of group 0 to 1.0000e-08.\n",
      "\n",
      "EPOCH 89 of 100\n",
      "Training\n"
     ]
    },
    {
     "data": {
      "application/vnd.jupyter.widget-view+json": {
       "model_id": "c9eeddc8986b411da656a6a255305c23",
       "version_major": 2,
       "version_minor": 0
      },
      "text/plain": [
       "  0%|          | 0/12 [00:00<?, ?it/s]"
      ]
     },
     "metadata": {},
     "output_type": "display_data"
    },
    {
     "name": "stdout",
     "output_type": "stream",
     "text": [
      "Validating\n"
     ]
    },
    {
     "data": {
      "application/vnd.jupyter.widget-view+json": {
       "model_id": "f8c37ba7e7444c588841ac119b24a57e",
       "version_major": 2,
       "version_minor": 0
      },
      "text/plain": [
       "  0%|          | 0/3 [00:00<?, ?it/s]"
      ]
     },
     "metadata": {},
     "output_type": "display_data"
    },
    {
     "name": "stdout",
     "output_type": "stream",
     "text": [
      "Epoch #89 train loss: 0.294\n",
      "Epoch #89 mAP@0.5: 85.33%\n",
      "Epoch #89 mAP@0.5:0.95: 42.81%\n",
      "Took 0.213 minutes for epoch 88\n",
      "SAVING PLOTS COMPLETE...\n",
      "Adjusting learning rate of group 0 to 1.0000e-08.\n",
      "\n",
      "EPOCH 90 of 100\n",
      "Training\n"
     ]
    },
    {
     "data": {
      "application/vnd.jupyter.widget-view+json": {
       "model_id": "5853a800cc1847bfa408e5d22f16acf9",
       "version_major": 2,
       "version_minor": 0
      },
      "text/plain": [
       "  0%|          | 0/12 [00:00<?, ?it/s]"
      ]
     },
     "metadata": {},
     "output_type": "display_data"
    },
    {
     "name": "stdout",
     "output_type": "stream",
     "text": [
      "Validating\n"
     ]
    },
    {
     "data": {
      "application/vnd.jupyter.widget-view+json": {
       "model_id": "da768e0b7e3a4768b2af29da466eb06b",
       "version_major": 2,
       "version_minor": 0
      },
      "text/plain": [
       "  0%|          | 0/3 [00:00<?, ?it/s]"
      ]
     },
     "metadata": {},
     "output_type": "display_data"
    },
    {
     "name": "stdout",
     "output_type": "stream",
     "text": [
      "Epoch #90 train loss: 0.300\n",
      "Epoch #90 mAP@0.5: 84.19%\n",
      "Epoch #90 mAP@0.5:0.95: 41.96%\n",
      "Took 0.214 minutes for epoch 89\n",
      "SAVING PLOTS COMPLETE...\n",
      "Adjusting learning rate of group 0 to 1.0000e-09.\n",
      "\n",
      "EPOCH 91 of 100\n",
      "Training\n"
     ]
    },
    {
     "data": {
      "application/vnd.jupyter.widget-view+json": {
       "model_id": "a8d6255feaa04738bb534da1f096a38e",
       "version_major": 2,
       "version_minor": 0
      },
      "text/plain": [
       "  0%|          | 0/12 [00:00<?, ?it/s]"
      ]
     },
     "metadata": {},
     "output_type": "display_data"
    },
    {
     "name": "stdout",
     "output_type": "stream",
     "text": [
      "Validating\n"
     ]
    },
    {
     "data": {
      "application/vnd.jupyter.widget-view+json": {
       "model_id": "b844bfe29ab24fdc96a7a52149fd6c53",
       "version_major": 2,
       "version_minor": 0
      },
      "text/plain": [
       "  0%|          | 0/3 [00:00<?, ?it/s]"
      ]
     },
     "metadata": {},
     "output_type": "display_data"
    },
    {
     "name": "stdout",
     "output_type": "stream",
     "text": [
      "Epoch #91 train loss: 0.299\n",
      "Epoch #91 mAP@0.5: 84.97%\n",
      "Epoch #91 mAP@0.5:0.95: 42.39%\n",
      "Took 0.212 minutes for epoch 90\n",
      "SAVING PLOTS COMPLETE...\n",
      "Adjusting learning rate of group 0 to 1.0000e-09.\n",
      "\n",
      "EPOCH 92 of 100\n",
      "Training\n"
     ]
    },
    {
     "data": {
      "application/vnd.jupyter.widget-view+json": {
       "model_id": "f3becf06d6df404193631461d07c3d6f",
       "version_major": 2,
       "version_minor": 0
      },
      "text/plain": [
       "  0%|          | 0/12 [00:00<?, ?it/s]"
      ]
     },
     "metadata": {},
     "output_type": "display_data"
    },
    {
     "name": "stdout",
     "output_type": "stream",
     "text": [
      "Validating\n"
     ]
    },
    {
     "data": {
      "application/vnd.jupyter.widget-view+json": {
       "model_id": "9420ca56acfa4e6eb703226c19cfd0ab",
       "version_major": 2,
       "version_minor": 0
      },
      "text/plain": [
       "  0%|          | 0/3 [00:00<?, ?it/s]"
      ]
     },
     "metadata": {},
     "output_type": "display_data"
    },
    {
     "name": "stdout",
     "output_type": "stream",
     "text": [
      "Epoch #92 train loss: 0.302\n",
      "Epoch #92 mAP@0.5: 84.64%\n",
      "Epoch #92 mAP@0.5:0.95: 42.25%\n",
      "Took 0.214 minutes for epoch 91\n",
      "SAVING PLOTS COMPLETE...\n",
      "Adjusting learning rate of group 0 to 1.0000e-09.\n",
      "\n",
      "EPOCH 93 of 100\n",
      "Training\n"
     ]
    },
    {
     "data": {
      "application/vnd.jupyter.widget-view+json": {
       "model_id": "ed12b48934574d2da7591b7ba5e2cb76",
       "version_major": 2,
       "version_minor": 0
      },
      "text/plain": [
       "  0%|          | 0/12 [00:00<?, ?it/s]"
      ]
     },
     "metadata": {},
     "output_type": "display_data"
    },
    {
     "name": "stdout",
     "output_type": "stream",
     "text": [
      "Validating\n"
     ]
    },
    {
     "data": {
      "application/vnd.jupyter.widget-view+json": {
       "model_id": "ffa40aad085846bc8fc0c39c67aa0919",
       "version_major": 2,
       "version_minor": 0
      },
      "text/plain": [
       "  0%|          | 0/3 [00:00<?, ?it/s]"
      ]
     },
     "metadata": {},
     "output_type": "display_data"
    },
    {
     "name": "stdout",
     "output_type": "stream",
     "text": [
      "Epoch #93 train loss: 0.294\n",
      "Epoch #93 mAP@0.5: 83.77%\n",
      "Epoch #93 mAP@0.5:0.95: 42.14%\n",
      "Took 0.213 minutes for epoch 92\n",
      "SAVING PLOTS COMPLETE...\n",
      "Adjusting learning rate of group 0 to 1.0000e-09.\n",
      "\n",
      "EPOCH 94 of 100\n",
      "Training\n"
     ]
    },
    {
     "data": {
      "application/vnd.jupyter.widget-view+json": {
       "model_id": "ad1e9d74b18345ba9efc12ddadc0e99e",
       "version_major": 2,
       "version_minor": 0
      },
      "text/plain": [
       "  0%|          | 0/12 [00:00<?, ?it/s]"
      ]
     },
     "metadata": {},
     "output_type": "display_data"
    },
    {
     "name": "stdout",
     "output_type": "stream",
     "text": [
      "Validating\n"
     ]
    },
    {
     "data": {
      "application/vnd.jupyter.widget-view+json": {
       "model_id": "258b155b7ca14081b54f4f816ccda385",
       "version_major": 2,
       "version_minor": 0
      },
      "text/plain": [
       "  0%|          | 0/3 [00:00<?, ?it/s]"
      ]
     },
     "metadata": {},
     "output_type": "display_data"
    },
    {
     "name": "stdout",
     "output_type": "stream",
     "text": [
      "Epoch #94 train loss: 0.300\n",
      "Epoch #94 mAP@0.5: 84.48%\n",
      "Epoch #94 mAP@0.5:0.95: 41.87%\n",
      "Took 0.214 minutes for epoch 93\n",
      "SAVING PLOTS COMPLETE...\n",
      "Adjusting learning rate of group 0 to 1.0000e-09.\n",
      "\n",
      "EPOCH 95 of 100\n",
      "Training\n"
     ]
    },
    {
     "data": {
      "application/vnd.jupyter.widget-view+json": {
       "model_id": "11e5a8accbe24cf0b5880ea67fc053d0",
       "version_major": 2,
       "version_minor": 0
      },
      "text/plain": [
       "  0%|          | 0/12 [00:00<?, ?it/s]"
      ]
     },
     "metadata": {},
     "output_type": "display_data"
    },
    {
     "name": "stdout",
     "output_type": "stream",
     "text": [
      "Validating\n"
     ]
    },
    {
     "data": {
      "application/vnd.jupyter.widget-view+json": {
       "model_id": "d3e53657f84648d4802773e9b807306f",
       "version_major": 2,
       "version_minor": 0
      },
      "text/plain": [
       "  0%|          | 0/3 [00:00<?, ?it/s]"
      ]
     },
     "metadata": {},
     "output_type": "display_data"
    },
    {
     "name": "stdout",
     "output_type": "stream",
     "text": [
      "Epoch #95 train loss: 0.296\n",
      "Epoch #95 mAP@0.5: 84.78%\n",
      "Epoch #95 mAP@0.5:0.95: 42.09%\n",
      "Took 0.214 minutes for epoch 94\n",
      "SAVING PLOTS COMPLETE...\n",
      "Adjusting learning rate of group 0 to 1.0000e-09.\n",
      "\n",
      "EPOCH 96 of 100\n",
      "Training\n"
     ]
    },
    {
     "data": {
      "application/vnd.jupyter.widget-view+json": {
       "model_id": "c02b935cd647424c88b0e7d18de97912",
       "version_major": 2,
       "version_minor": 0
      },
      "text/plain": [
       "  0%|          | 0/12 [00:00<?, ?it/s]"
      ]
     },
     "metadata": {},
     "output_type": "display_data"
    },
    {
     "name": "stdout",
     "output_type": "stream",
     "text": [
      "Validating\n"
     ]
    },
    {
     "data": {
      "application/vnd.jupyter.widget-view+json": {
       "model_id": "dd9cc896880a4820a0e22317dba33ed8",
       "version_major": 2,
       "version_minor": 0
      },
      "text/plain": [
       "  0%|          | 0/3 [00:00<?, ?it/s]"
      ]
     },
     "metadata": {},
     "output_type": "display_data"
    },
    {
     "name": "stdout",
     "output_type": "stream",
     "text": [
      "Epoch #96 train loss: 0.299\n",
      "Epoch #96 mAP@0.5: 84.33%\n",
      "Epoch #96 mAP@0.5:0.95: 42.54%\n",
      "Took 0.215 minutes for epoch 95\n",
      "SAVING PLOTS COMPLETE...\n",
      "Adjusting learning rate of group 0 to 1.0000e-09.\n",
      "\n",
      "EPOCH 97 of 100\n",
      "Training\n"
     ]
    },
    {
     "data": {
      "application/vnd.jupyter.widget-view+json": {
       "model_id": "7672945a21354e67baaf986a1a2a80d4",
       "version_major": 2,
       "version_minor": 0
      },
      "text/plain": [
       "  0%|          | 0/12 [00:00<?, ?it/s]"
      ]
     },
     "metadata": {},
     "output_type": "display_data"
    },
    {
     "name": "stdout",
     "output_type": "stream",
     "text": [
      "Validating\n"
     ]
    },
    {
     "data": {
      "application/vnd.jupyter.widget-view+json": {
       "model_id": "5ba9d05f55e845528d51e2085af66ccd",
       "version_major": 2,
       "version_minor": 0
      },
      "text/plain": [
       "  0%|          | 0/3 [00:00<?, ?it/s]"
      ]
     },
     "metadata": {},
     "output_type": "display_data"
    },
    {
     "name": "stdout",
     "output_type": "stream",
     "text": [
      "Epoch #97 train loss: 0.292\n",
      "Epoch #97 mAP@0.5: 84.88%\n",
      "Epoch #97 mAP@0.5:0.95: 42.46%\n",
      "Took 0.214 minutes for epoch 96\n",
      "SAVING PLOTS COMPLETE...\n",
      "Adjusting learning rate of group 0 to 1.0000e-09.\n",
      "\n",
      "EPOCH 98 of 100\n",
      "Training\n"
     ]
    },
    {
     "data": {
      "application/vnd.jupyter.widget-view+json": {
       "model_id": "4ec39d1c92fe4772916259d19e170c82",
       "version_major": 2,
       "version_minor": 0
      },
      "text/plain": [
       "  0%|          | 0/12 [00:00<?, ?it/s]"
      ]
     },
     "metadata": {},
     "output_type": "display_data"
    },
    {
     "name": "stdout",
     "output_type": "stream",
     "text": [
      "Validating\n"
     ]
    },
    {
     "data": {
      "application/vnd.jupyter.widget-view+json": {
       "model_id": "d58b970eb674463196c04ef641bb68e2",
       "version_major": 2,
       "version_minor": 0
      },
      "text/plain": [
       "  0%|          | 0/3 [00:00<?, ?it/s]"
      ]
     },
     "metadata": {},
     "output_type": "display_data"
    },
    {
     "name": "stdout",
     "output_type": "stream",
     "text": [
      "Epoch #98 train loss: 0.291\n",
      "Epoch #98 mAP@0.5: 84.70%\n",
      "Epoch #98 mAP@0.5:0.95: 42.37%\n",
      "Took 0.211 minutes for epoch 97\n",
      "SAVING PLOTS COMPLETE...\n",
      "Adjusting learning rate of group 0 to 1.0000e-09.\n",
      "\n",
      "EPOCH 99 of 100\n",
      "Training\n"
     ]
    },
    {
     "data": {
      "application/vnd.jupyter.widget-view+json": {
       "model_id": "50e0c79fa870485ab71e9e51eed244c3",
       "version_major": 2,
       "version_minor": 0
      },
      "text/plain": [
       "  0%|          | 0/12 [00:00<?, ?it/s]"
      ]
     },
     "metadata": {},
     "output_type": "display_data"
    },
    {
     "name": "stdout",
     "output_type": "stream",
     "text": [
      "Validating\n"
     ]
    },
    {
     "data": {
      "application/vnd.jupyter.widget-view+json": {
       "model_id": "32333a1e9bc94c8f96bb145e2a927015",
       "version_major": 2,
       "version_minor": 0
      },
      "text/plain": [
       "  0%|          | 0/3 [00:00<?, ?it/s]"
      ]
     },
     "metadata": {},
     "output_type": "display_data"
    },
    {
     "name": "stdout",
     "output_type": "stream",
     "text": [
      "Epoch #99 train loss: 0.299\n",
      "Epoch #99 mAP@0.5: 84.01%\n",
      "Epoch #99 mAP@0.5:0.95: 42.15%\n",
      "Took 0.212 minutes for epoch 98\n",
      "SAVING PLOTS COMPLETE...\n",
      "Adjusting learning rate of group 0 to 1.0000e-09.\n",
      "\n",
      "EPOCH 100 of 100\n",
      "Training\n"
     ]
    },
    {
     "data": {
      "application/vnd.jupyter.widget-view+json": {
       "model_id": "952a3ea94c844c1da8eb0b27ac505ce5",
       "version_major": 2,
       "version_minor": 0
      },
      "text/plain": [
       "  0%|          | 0/12 [00:00<?, ?it/s]"
      ]
     },
     "metadata": {},
     "output_type": "display_data"
    },
    {
     "name": "stdout",
     "output_type": "stream",
     "text": [
      "Validating\n"
     ]
    },
    {
     "data": {
      "application/vnd.jupyter.widget-view+json": {
       "model_id": "2b147b31f8fe4ddaa226484fbbf30e30",
       "version_major": 2,
       "version_minor": 0
      },
      "text/plain": [
       "  0%|          | 0/3 [00:00<?, ?it/s]"
      ]
     },
     "metadata": {},
     "output_type": "display_data"
    },
    {
     "name": "stdout",
     "output_type": "stream",
     "text": [
      "Epoch #100 train loss: 0.299\n",
      "Epoch #100 mAP@0.5: 84.67%\n",
      "Epoch #100 mAP@0.5:0.95: 42.58%\n",
      "Took 0.213 minutes for epoch 99\n",
      "SAVING PLOTS COMPLETE...\n",
      "Adjusting learning rate of group 0 to 1.0000e-09.\n",
      "Training complete. Metrics saved to outputs/training_metrics.csv\n"
     ]
    },
    {
     "data": {
      "image/png": "[encoded data removed]",
      "text/plain": [
       "<Figure size 1000x700 with 1 Axes>"
      ]
     },
     "metadata": {},
     "output_type": "display_data"
    }
   ],
   "source": [
    "# Initialize a CSV file to store the metrics\n",
    "csv_file = os.path.join(OUT_DIR, 'training_metrics.csv')\n",
    "with open(csv_file, mode='w', newline='') as file:\n",
    "    writer = csv.writer(file)\n",
    "    writer.writerow(['Epoch', 'Train Loss', 'Validation mAP50', 'Validation mAP50-95', 'Learning Rate'])\n",
    "\n",
    "# To monitor training loss\n",
    "train_loss_hist = Averager()\n",
    "# To store training loss and mAP values.\n",
    "train_loss_list = []\n",
    "map_50_list = []\n",
    "map_list = []\n",
    "\n",
    "# Ensure the model is in training mode\n",
    "model.train()\n",
    "\n",
    "save_best_model = SaveBestModel()\n",
    "\n",
    "metric = MeanAveragePrecision()\n",
    "\n",
    "for epoch in range(NUM_EPOCHS):\n",
    "    print(f\"\\nEPOCH {epoch+1} of {NUM_EPOCHS}\")\n",
    "\n",
    "    # Reset the training loss histories for the current epoch.\n",
    "    train_loss_hist.reset()\n",
    "\n",
    "    # Start timer and carry out training and validation.\n",
    "    start = time.time()\n",
    "    train_loss = train(train_loader, model)\n",
    "    metric_summary = validate(valid_loader, model)\n",
    "    \n",
    "    # Display training loss and validation mAP\n",
    "    print(f\"Epoch #{epoch+1} train loss: {train_loss_hist.value:.3f}\")   \n",
    "    print(f\"Epoch #{epoch+1} mAP@0.5: {metric_summary['map_50']*100:.2f}%\")   \n",
    "    print(f\"Epoch #{epoch+1} mAP@0.5:0.95: {metric_summary['map']*100:.2f}%\")\n",
    "    end = time.time()\n",
    "    print(f\"Took {((end - start) / 60):.3f} minutes for epoch {epoch}\")\n",
    "\n",
    "    # Save the loss and mAP values\n",
    "    train_loss_list.append(train_loss)\n",
    "    map_50_list.append(metric_summary['map_50'])\n",
    "    map_list.append(metric_summary['map'])\n",
    "\n",
    "    # Save metrics to CSV\n",
    "    current_lr = scheduler.get_last_lr()[0]  # Get the current learning rate\n",
    "    with open(csv_file, mode='a', newline='') as file:\n",
    "        writer = csv.writer(file)\n",
    "        writer.writerow([epoch+1, train_loss_hist.value, metric_summary['map_50']*100, metric_summary['map']*100, current_lr])\n",
    "\n",
    "    # Save the best model till now.\n",
    "    save_best_model(model, float(metric_summary['map']), epoch, 'outputs')\n",
    "\n",
    "    # Save the current epoch model.\n",
    "    save_model(epoch, model, optimizer)\n",
    "\n",
    "    # Save loss plot.\n",
    "    save_loss_plot(OUT_DIR, train_loss_list)\n",
    "\n",
    "    # Save mAP plot.\n",
    "    save_mAP(OUT_DIR, map_50_list, map_list)\n",
    "\n",
    "    # Step the scheduler\n",
    "    scheduler.step()\n",
    "\n",
    "print(f\"Training complete. Metrics saved to {csv_file}\")"
   ]
  },
  {
   "cell_type": "markdown",
   "id": "66c77d2b-2b20-471e-bf86-ae8c13f9ad0a",
   "metadata": {},
   "source": [
    "## Evaluate on Test Data"
   ]
  },
  {
   "cell_type": "code",
   "execution_count": 15,
   "id": "8233e9a7-84d3-425a-9091-fc585c4f1635",
   "metadata": {
    "tags": []
   },
   "outputs": [
    {
     "name": "stdout",
     "output_type": "stream",
     "text": [
      "Validating\n"
     ]
    },
    {
     "name": "stderr",
     "output_type": "stream",
     "text": [
      "/opt/conda/lib/python3.10/site-packages/albumentations/core/composition.py:156: UserWarning: Got processor for bboxes, but no transform to process it.\n",
      "  self._set_keys()\n"
     ]
    },
    {
     "data": {
      "application/vnd.jupyter.widget-view+json": {
       "model_id": "a2c77d6645024495a85c5c1af8acb5df",
       "version_major": 2,
       "version_minor": 0
      },
      "text/plain": [
       "  0%|          | 0/1 [00:00<?, ?it/s]"
      ]
     },
     "metadata": {},
     "output_type": "display_data"
    },
    {
     "name": "stdout",
     "output_type": "stream",
     "text": [
      "mAP_50: 71.460\n",
      "mAP_50_95: 35.942\n"
     ]
    },
    {
     "name": "stderr",
     "output_type": "stream",
     "text": [
      "/opt/conda/lib/python3.10/site-packages/torchmetrics/utilities/prints.py:43: UserWarning: Encountered more than 100 detections in a single image. This means that certain detections with the lowest scores will be ignored, that may have an undesirable impact on performance. Please consider adjusting the `max_detection_threshold` to suit your use case. To disable this warning, set attribute class `warn_on_many_detections=False`, after initializing the metric.\n",
      "  warnings.warn(*args, **kwargs)  # noqa: B028\n"
     ]
    }
   ],
   "source": [
    "model = create_model(num_classes=NUM_CLASSES, weights_path=None)\n",
    "checkpoint = torch.load(\"/home/jupyter/ee_tree_counting/Models/RetinaNet/outputs/best_model.pth\", map_location=DEVICE)\n",
    "model.load_state_dict(checkpoint['model_state_dict'])\n",
    "model.to(DEVICE).eval()\n",
    "\n",
    "# Evaluate on the test dataset\n",
    "test_dataset = create_valid_dataset(\"/home/jupyter/ee_tree_counting/Data/GEE Dataset/Dataset XML/test\")\n",
    "test_loader = create_valid_loader(test_dataset, num_workers=NUM_WORKERS)\n",
    "\n",
    "metric_summary = validate(test_loader, model)\n",
    "print(f\"mAP_50: {metric_summary['map_50']*100:.3f}\")\n",
    "print(f\"mAP_50_95: {metric_summary['map']*100:.3f}\")"
   ]
  },
  {
   "cell_type": "code",
   "execution_count": null,
   "id": "b24a8caa-8c63-4256-8ef4-f0ac32a601d5",
   "metadata": {},
   "outputs": [],
   "source": []
  }
 ],
 "metadata": {
  "environment": {
   "kernel": "python3",
   "name": "common-cu121.m122",
   "type": "gcloud",
   "uri": "us-docker.pkg.dev/deeplearning-platform-release/gcr.io/base-cu121:m122"
  },
  "kernelspec": {
   "display_name": "Python 3 (Local)",
   "language": "python",
   "name": "python3"
  },
  "language_info": {
   "codemirror_mode": {
    "name": "ipython",
    "version": 3
   },
   "file_extension": ".py",
   "mimetype": "text/x-python",
   "name": "python",
   "nbconvert_exporter": "python",
   "pygments_lexer": "ipython3",
   "version": "3.10.14"
  }
 },
 "nbformat": 4,
 "nbformat_minor": 5
}
