{
 "cells": [
  {
   "cell_type": "code",
   "execution_count": 2,
   "id": "7e84cf16-3be5-4f27-8551-830752cca671",
   "metadata": {
    "tags": []
   },
   "outputs": [],
   "source": [
    "import torchvision\n",
    "import torch\n",
    "from functools import partial\n",
    "from torchvision.models.detection import RetinaNet_ResNet50_FPN_V2_Weights\n",
    "from torchvision.models.detection.retinanet import RetinaNetClassificationHead\n"
   ]
  },
  {
   "cell_type": "code",
   "execution_count": 4,
   "id": "469fce57-c8cd-45ed-ac90-bcf48215349b",
   "metadata": {},
   "outputs": [],
   "source": [
    "def create_model(num_classes=2):\n",
    "    model = torchvision.models.detection.retinanet_resnet50_fpn_v2(\n",
    "        weights=RetinaNet_ResNet50_FPN_V2_Weights.COCO_V1\n",
    "    )\n",
    "    num_anchors = model.head.classification_head.num_anchors\n",
    "    model.head.classification_head = RetinaNetClassificationHead(\n",
    "        in_channels=256,\n",
    "        num_anchors=num_anchors,\n",
    "        num_classes=num_classes,\n",
    "        norm_layer=partial(torch.nn.GroupNorm, 32)\n",
    "    )\n",
    "    return model"
   ]
  },
  {
   "cell_type": "code",
   "execution_count": null,
   "id": "395e3a3c-323f-4894-8ba7-bc30f9e703c3",
   "metadata": {},
   "outputs": [],
   "source": []
  }
 ],
 "metadata": {
  "environment": {
   "kernel": "python3",
   "name": "common-cu121.m122",
   "type": "gcloud",
   "uri": "us-docker.pkg.dev/deeplearning-platform-release/gcr.io/base-cu121:m122"
  },
  "kernelspec": {
   "display_name": "Python 3 (Local)",
   "language": "python",
   "name": "python3"
  },
  "language_info": {
   "codemirror_mode": {
    "name": "ipython",
    "version": 3
   },
   "file_extension": ".py",
   "mimetype": "text/x-python",
   "name": "python",
   "nbconvert_exporter": "python",
   "pygments_lexer": "ipython3",
   "version": "3.10.14"
  }
 },
 "nbformat": 4,
 "nbformat_minor": 5
}
