{
 "cells": [
  {
   "cell_type": "markdown",
   "id": "36f415e9-8ca7-4cf6-8a95-d6b56056620d",
   "metadata": {},
   "source": [
    "# Running Imports"
   ]
  },
  {
   "cell_type": "code",
   "execution_count": 1,
   "id": "8e10c3b6-ec6f-4c39-9b6e-7db61dd5931d",
   "metadata": {
    "tags": []
   },
   "outputs": [],
   "source": [
    "import os\n",
    "os.chdir('/home/jupyter/ee_tree_counting/Models/RetinaNet')"
   ]
  },
  {
   "cell_type": "code",
   "execution_count": 2,
   "id": "395e3a3c-323f-4894-8ba7-bc30f9e703c3",
   "metadata": {
    "tags": []
   },
   "outputs": [],
   "source": [
    "from config import (\n",
    "    DEVICE,\n",
    "    NUM_CLASSES,\n",
    "    NUM_EPOCHS,\n",
    "    OUT_DIR,\n",
    "    VISUALIZE_TRANSFORMED_IMAGES,\n",
    "    NUM_WORKERS,\n",
    "    RESIZE_TO,\n",
    "    VALID_DIR,\n",
    "    TRAIN_DIR,\n",
    "    CLASSES,\n",
    "    WEIGHTS_PATH\n",
    ")\n",
    "from RetinaNet import create_model\n",
    "from custom_utils import (\n",
    "    Averager,\n",
    "    SaveBestModel,\n",
    "    save_model,\n",
    "    save_loss_plot,\n",
    "    save_mAP\n",
    ")\n",
    "from tqdm.auto import tqdm\n",
    "from Datasets import (\n",
    "    CustomDataset,\n",
    "    create_train_dataset,\n",
    "    create_valid_dataset,\n",
    "    create_train_loader,\n",
    "    create_valid_loader\n",
    ")\n",
    "from torchmetrics.detection.mean_ap import MeanAveragePrecision\n",
    "from torch.optim.lr_scheduler import StepLR\n",
    "\n",
    "import torch\n",
    "import matplotlib.pyplot as plt\n",
    "import time\n",
    "import os\n",
    "\n",
    "from torch.cuda.amp import GradScaler, autocast\n",
    "from tqdm.notebook import tqdm\n",
    "\n",
    "plt.style.use('ggplot')\n",
    "\n",
    "seed = 42\n",
    "torch.manual_seed(seed)\n",
    "torch.cuda.manual_seed(seed)\n",
    "torch.cuda.manual_seed_all(seed)"
   ]
  },
  {
   "cell_type": "code",
   "execution_count": 3,
   "id": "3f271ca4-4862-4385-b65f-36536f7f5aba",
   "metadata": {
    "tags": []
   },
   "outputs": [],
   "source": [
    "# Function for running training iterations.\n",
    "def train(train_data_loader, model):\n",
    "    print('Training')\n",
    "    model.train()\n",
    "\n",
    "    # initialize tqdm progress bar\n",
    "    prog_bar = tqdm(train_data_loader, total=len(train_data_loader))\n",
    "\n",
    "    for i, data in enumerate(prog_bar):\n",
    "        optimizer.zero_grad()\n",
    "        images, targets = data\n",
    "\n",
    "        images = list(image.to(DEVICE) for image in images)\n",
    "        targets = [{k: v.to(DEVICE) for k, v in t.items()} for t in targets]\n",
    "        loss_dict = model(images, targets)\n",
    "\n",
    "        losses = sum(loss for loss in loss_dict.values())\n",
    "        loss_value = losses.item()\n",
    "\n",
    "        train_loss_hist.send(loss_value)\n",
    "\n",
    "        losses.backward()\n",
    "        optimizer.step()\n",
    "\n",
    "        # update the loss value beside the progress bar for each iteration\n",
    "        prog_bar.set_description(desc=f\"Loss: {loss_value:.4f}\")\n",
    "    return loss_value\n"
   ]
  },
  {
   "cell_type": "code",
   "execution_count": 4,
   "id": "bc6b39e8-4ac0-4fd6-9684-594d06b84ac6",
   "metadata": {
    "tags": []
   },
   "outputs": [],
   "source": [
    "# Function for running validation iterations.\n",
    "def validate(valid_data_loader, model):\n",
    "    print('Validating')\n",
    "    model.eval()\n",
    "\n",
    "    # Initialize tqdm progress bar.\n",
    "    prog_bar = tqdm(valid_data_loader, total=len(valid_data_loader))\n",
    "    target = []\n",
    "    preds = []\n",
    "    for i, data in enumerate(prog_bar):\n",
    "        images, targets = data\n",
    "\n",
    "        images = list(image.to(DEVICE) for image in images)\n",
    "        targets = [{k: v.to(DEVICE) for k, v in t.items()} for t in targets]\n",
    "\n",
    "        with torch.no_grad():\n",
    "            outputs = model(images, targets)\n",
    "\n",
    "        # For mAP calculation using Torchmetrics.\n",
    "        for i in range(len(images)):\n",
    "            true_dict = dict()\n",
    "            preds_dict = dict()\n",
    "            true_dict['boxes'] = targets[i]['boxes'].detach().cpu()\n",
    "            true_dict['labels'] = targets[i]['labels'].detach().cpu()\n",
    "            preds_dict['boxes'] = outputs[i]['boxes'].detach().cpu()\n",
    "            preds_dict['scores'] = outputs[i]['scores'].detach().cpu()\n",
    "            preds_dict['labels'] = outputs[i]['labels'].detach().cpu()\n",
    "            preds.append(preds_dict)\n",
    "            target.append(true_dict)\n",
    "\n",
    "    metric.reset()\n",
    "    metric.update(preds, target)\n",
    "    metric_summary = metric.compute()\n",
    "    return metric_summary\n",
    "\n"
   ]
  },
  {
   "cell_type": "code",
   "execution_count": 5,
   "id": "d6b615cd-3f7e-4959-ab99-c5ab61edacef",
   "metadata": {
    "tags": []
   },
   "outputs": [
    {
     "name": "stderr",
     "output_type": "stream",
     "text": [
      "/opt/conda/lib/python3.10/site-packages/albumentations/core/composition.py:156: UserWarning: Got processor for bboxes, but no transform to process it.\n",
      "  self._set_keys()\n"
     ]
    },
    {
     "name": "stdout",
     "output_type": "stream",
     "text": [
      "Number of training samples: 379\n",
      "Number of validation samples: 59\n",
      "\n",
      "36,352,630 total parameters.\n",
      "36,352,630 training parameters.\n",
      "Adjusting learning rate of group 0 to 1.0000e-03.\n",
      "\n",
      "EPOCH 1 of 7\n",
      "Training\n"
     ]
    },
    {
     "data": {
      "application/vnd.jupyter.widget-view+json": {
       "model_id": "9cc5e96ed91d4dbc921a83822fe649b6",
       "version_major": 2,
       "version_minor": 0
      },
      "text/plain": [
       "  0%|          | 0/94 [00:00<?, ?it/s]"
      ]
     },
     "metadata": {},
     "output_type": "display_data"
    },
    {
     "name": "stdout",
     "output_type": "stream",
     "text": [
      "Validating\n"
     ]
    },
    {
     "data": {
      "application/vnd.jupyter.widget-view+json": {
       "model_id": "9927cd2d90364ef790a0604304dc70d4",
       "version_major": 2,
       "version_minor": 0
      },
      "text/plain": [
       "  0%|          | 0/14 [00:00<?, ?it/s]"
      ]
     },
     "metadata": {},
     "output_type": "display_data"
    },
    {
     "name": "stderr",
     "output_type": "stream",
     "text": [
      "/opt/conda/lib/python3.10/site-packages/torchmetrics/utilities/prints.py:43: UserWarning: Encountered more than 100 detections in a single image. This means that certain detections with the lowest scores will be ignored, that may have an undesirable impact on performance. Please consider adjusting the `max_detection_threshold` to suit your use case. To disable this warning, set attribute class `warn_on_many_detections=False`, after initializing the metric.\n",
      "  warnings.warn(*args, **kwargs)  # noqa: B028\n"
     ]
    },
    {
     "name": "stdout",
     "output_type": "stream",
     "text": [
      "Epoch #1 train loss: 0.825\n",
      "Epoch #1 mAP: 0.15997831523418427\n",
      "Took 1.585 minutes for epoch 0\n",
      "\n",
      "BEST VALIDATION mAP: 0.15997831523418427\n",
      "\n",
      "SAVING BEST MODEL FOR EPOCH: 1\n",
      "\n",
      "SAVING PLOTS COMPLETE...\n",
      "\n",
      "EPOCH 2 of 7\n",
      "Training\n"
     ]
    },
    {
     "data": {
      "application/vnd.jupyter.widget-view+json": {
       "model_id": "0d89b977e4ce4638983e94a2795a4574",
       "version_major": 2,
       "version_minor": 0
      },
      "text/plain": [
       "  0%|          | 0/94 [00:00<?, ?it/s]"
      ]
     },
     "metadata": {},
     "output_type": "display_data"
    },
    {
     "name": "stdout",
     "output_type": "stream",
     "text": [
      "Validating\n"
     ]
    },
    {
     "data": {
      "application/vnd.jupyter.widget-view+json": {
       "model_id": "5428c234b43e47899d45eb43806a5e0c",
       "version_major": 2,
       "version_minor": 0
      },
      "text/plain": [
       "  0%|          | 0/14 [00:00<?, ?it/s]"
      ]
     },
     "metadata": {},
     "output_type": "display_data"
    },
    {
     "name": "stdout",
     "output_type": "stream",
     "text": [
      "Epoch #2 train loss: 0.632\n",
      "Epoch #2 mAP: 0.19776864349842072\n",
      "Took 1.586 minutes for epoch 1\n",
      "\n",
      "BEST VALIDATION mAP: 0.19776864349842072\n",
      "\n",
      "SAVING BEST MODEL FOR EPOCH: 2\n",
      "\n",
      "SAVING PLOTS COMPLETE...\n",
      "\n",
      "EPOCH 3 of 7\n",
      "Training\n"
     ]
    },
    {
     "data": {
      "application/vnd.jupyter.widget-view+json": {
       "model_id": "3a9994440c1846ee99706c51f2ac504a",
       "version_major": 2,
       "version_minor": 0
      },
      "text/plain": [
       "  0%|          | 0/94 [00:00<?, ?it/s]"
      ]
     },
     "metadata": {},
     "output_type": "display_data"
    },
    {
     "name": "stdout",
     "output_type": "stream",
     "text": [
      "Validating\n"
     ]
    },
    {
     "data": {
      "application/vnd.jupyter.widget-view+json": {
       "model_id": "1b3c95fe3be44754bfe87b1bf7d1977b",
       "version_major": 2,
       "version_minor": 0
      },
      "text/plain": [
       "  0%|          | 0/14 [00:00<?, ?it/s]"
      ]
     },
     "metadata": {},
     "output_type": "display_data"
    },
    {
     "name": "stdout",
     "output_type": "stream",
     "text": [
      "Epoch #3 train loss: 0.571\n",
      "Epoch #3 mAP: 0.21289950609207153\n",
      "Took 1.570 minutes for epoch 2\n",
      "\n",
      "BEST VALIDATION mAP: 0.21289950609207153\n",
      "\n",
      "SAVING BEST MODEL FOR EPOCH: 3\n",
      "\n",
      "SAVING PLOTS COMPLETE...\n",
      "\n",
      "EPOCH 4 of 7\n",
      "Training\n"
     ]
    },
    {
     "data": {
      "application/vnd.jupyter.widget-view+json": {
       "model_id": "3b410e237029424e83045621f1912833",
       "version_major": 2,
       "version_minor": 0
      },
      "text/plain": [
       "  0%|          | 0/94 [00:00<?, ?it/s]"
      ]
     },
     "metadata": {},
     "output_type": "display_data"
    },
    {
     "name": "stdout",
     "output_type": "stream",
     "text": [
      "Validating\n"
     ]
    },
    {
     "data": {
      "application/vnd.jupyter.widget-view+json": {
       "model_id": "2252fa1deb0b40278aec553b60c486c0",
       "version_major": 2,
       "version_minor": 0
      },
      "text/plain": [
       "  0%|          | 0/14 [00:00<?, ?it/s]"
      ]
     },
     "metadata": {},
     "output_type": "display_data"
    },
    {
     "name": "stdout",
     "output_type": "stream",
     "text": [
      "Epoch #4 train loss: 0.536\n",
      "Epoch #4 mAP: 0.23289816081523895\n",
      "Took 1.574 minutes for epoch 3\n",
      "\n",
      "BEST VALIDATION mAP: 0.23289816081523895\n",
      "\n",
      "SAVING BEST MODEL FOR EPOCH: 4\n",
      "\n",
      "SAVING PLOTS COMPLETE...\n",
      "\n",
      "EPOCH 5 of 7\n",
      "Training\n"
     ]
    },
    {
     "data": {
      "application/vnd.jupyter.widget-view+json": {
       "model_id": "55a5149b74ed412db6b1f3108f69588d",
       "version_major": 2,
       "version_minor": 0
      },
      "text/plain": [
       "  0%|          | 0/94 [00:00<?, ?it/s]"
      ]
     },
     "metadata": {},
     "output_type": "display_data"
    },
    {
     "name": "stdout",
     "output_type": "stream",
     "text": [
      "Validating\n"
     ]
    },
    {
     "data": {
      "application/vnd.jupyter.widget-view+json": {
       "model_id": "897674e35b3c44e2baa48fd1b1744be7",
       "version_major": 2,
       "version_minor": 0
      },
      "text/plain": [
       "  0%|          | 0/14 [00:00<?, ?it/s]"
      ]
     },
     "metadata": {},
     "output_type": "display_data"
    },
    {
     "name": "stdout",
     "output_type": "stream",
     "text": [
      "Epoch #5 train loss: 0.516\n",
      "Epoch #5 mAP: 0.25139451026916504\n",
      "Took 1.576 minutes for epoch 4\n",
      "\n",
      "BEST VALIDATION mAP: 0.25139451026916504\n",
      "\n",
      "SAVING BEST MODEL FOR EPOCH: 5\n",
      "\n",
      "SAVING PLOTS COMPLETE...\n",
      "\n",
      "EPOCH 6 of 7\n",
      "Training\n"
     ]
    },
    {
     "data": {
      "application/vnd.jupyter.widget-view+json": {
       "model_id": "30dba1df33474b2fb096d27de8db58c1",
       "version_major": 2,
       "version_minor": 0
      },
      "text/plain": [
       "  0%|          | 0/94 [00:00<?, ?it/s]"
      ]
     },
     "metadata": {},
     "output_type": "display_data"
    },
    {
     "name": "stdout",
     "output_type": "stream",
     "text": [
      "Validating\n"
     ]
    },
    {
     "data": {
      "application/vnd.jupyter.widget-view+json": {
       "model_id": "e12959a9ce0948989f33349ab3eefb08",
       "version_major": 2,
       "version_minor": 0
      },
      "text/plain": [
       "  0%|          | 0/14 [00:00<?, ?it/s]"
      ]
     },
     "metadata": {},
     "output_type": "display_data"
    },
    {
     "name": "stdout",
     "output_type": "stream",
     "text": [
      "Epoch #6 train loss: 0.502\n",
      "Epoch #6 mAP: 0.2579299509525299\n",
      "Took 1.574 minutes for epoch 5\n",
      "\n",
      "BEST VALIDATION mAP: 0.2579299509525299\n",
      "\n",
      "SAVING BEST MODEL FOR EPOCH: 6\n",
      "\n",
      "SAVING PLOTS COMPLETE...\n",
      "\n",
      "EPOCH 7 of 7\n",
      "Training\n"
     ]
    },
    {
     "data": {
      "application/vnd.jupyter.widget-view+json": {
       "model_id": "9afa2f44b7c54a22aa16b7ed5eb6652d",
       "version_major": 2,
       "version_minor": 0
      },
      "text/plain": [
       "  0%|          | 0/94 [00:00<?, ?it/s]"
      ]
     },
     "metadata": {},
     "output_type": "display_data"
    },
    {
     "name": "stdout",
     "output_type": "stream",
     "text": [
      "Validating\n"
     ]
    },
    {
     "data": {
      "application/vnd.jupyter.widget-view+json": {
       "model_id": "d135d4e3e86644809d6219586c70990c",
       "version_major": 2,
       "version_minor": 0
      },
      "text/plain": [
       "  0%|          | 0/14 [00:00<?, ?it/s]"
      ]
     },
     "metadata": {},
     "output_type": "display_data"
    },
    {
     "name": "stdout",
     "output_type": "stream",
     "text": [
      "Epoch #7 train loss: 0.495\n",
      "Epoch #7 mAP: 0.2592044174671173\n",
      "Took 1.589 minutes for epoch 6\n",
      "\n",
      "BEST VALIDATION mAP: 0.2592044174671173\n",
      "\n",
      "SAVING BEST MODEL FOR EPOCH: 7\n",
      "\n",
      "SAVING PLOTS COMPLETE...\n"
     ]
    },
    {
     "data": {
      "image/png": "[encoded data removed]",
      "text/plain": [
       "<Figure size 1000x700 with 1 Axes>"
      ]
     },
     "metadata": {},
     "output_type": "display_data"
    }
   ],
   "source": [
    "os.makedirs('outputs', exist_ok=True)\n",
    "train_dataset = create_train_dataset(TRAIN_DIR)\n",
    "valid_dataset = create_valid_dataset(VALID_DIR)\n",
    "train_loader = create_train_loader(train_dataset, NUM_WORKERS)\n",
    "valid_loader = create_valid_loader(valid_dataset, NUM_WORKERS)\n",
    "print(f\"Number of training samples: {len(train_dataset)}\")\n",
    "print(f\"Number of validation samples: {len(valid_dataset)}\\n\")\n",
    "\n",
    "# Initialize the model and move to the computation device.\n",
    "model = create_model(num_classes=NUM_CLASSES, weights_path=WEIGHTS_PATH)\n",
    "model = model.to(DEVICE)\n",
    "# print(model)\n",
    "\n",
    "# Total parameters and trainable parameters.\n",
    "total_params = sum(p.numel() for p in model.parameters())\n",
    "print(f\"{total_params:,} total parameters.\")\n",
    "total_trainable_params = sum(\n",
    "    p.numel() for p in model.parameters() if p.requires_grad)\n",
    "print(f\"{total_trainable_params:,} training parameters.\")\n",
    "params = [p for p in model.parameters() if p.requires_grad]\n",
    "optimizer = torch.optim.SGD(params, lr=0.001, momentum=0.9, nesterov=True)\n",
    "scheduler = StepLR(\n",
    "    optimizer=optimizer, step_size=15, gamma=0.1, verbose=True\n",
    ")\n",
    "\n",
    "# To monitor training loss\n",
    "train_loss_hist = Averager()\n",
    "# To store training loss and mAP values.\n",
    "train_loss_list = []\n",
    "map_50_list = []\n",
    "map_list = []\n",
    "\n",
    "# Mame to save the trained model with.\n",
    "MODEL_NAME = 'model'\n",
    "\n",
    "# Whether to show transformed images from data loader or not.\n",
    "if VISUALIZE_TRANSFORMED_IMAGES:\n",
    "    from custom_utils import show_tranformed_image\n",
    "    show_tranformed_image(train_loader)\n",
    "\n",
    "# To save best model.\n",
    "save_best_model = SaveBestModel()\n",
    "\n",
    "metric = MeanAveragePrecision()\n",
    "\n",
    "# Training loop.\n",
    "for epoch in range(NUM_EPOCHS):\n",
    "    print(f\"\\nEPOCH {epoch+1} of {NUM_EPOCHS}\")\n",
    "\n",
    "    # Reset the training loss histories for the current epoch.\n",
    "    train_loss_hist.reset()\n",
    "\n",
    "    # Start timer and carry out training and validation.\n",
    "    start = time.time()\n",
    "    train_loss = train(train_loader, model)\n",
    "    metric_summary = validate(valid_loader, model)\n",
    "    print(f\"Epoch #{epoch+1} train loss: {train_loss_hist.value:.3f}\")   \n",
    "    print(f\"Epoch #{epoch+1} mAP: {metric_summary['map']}\")   \n",
    "    end = time.time()\n",
    "    print(f\"Took {((end - start) / 60):.3f} minutes for epoch {epoch}\")\n",
    "\n",
    "    train_loss_list.append(train_loss)\n",
    "    map_50_list.append(metric_summary['map_50'])\n",
    "    map_list.append(metric_summary['map'])\n",
    "\n",
    "    # save the best model till now.\n",
    "    save_best_model(\n",
    "        model, float(metric_summary['map']), epoch, 'outputs'\n",
    "    )\n",
    "    # Save the current epoch model.\n",
    "    save_model(epoch, model, optimizer)\n",
    "\n",
    "    # Save loss plot.\n",
    "    save_loss_plot(OUT_DIR, train_loss_list)\n",
    "\n",
    "    # Save mAP plot.\n",
    "    save_mAP(OUT_DIR, map_50_list, map_list)"
   ]
  },
  {
   "cell_type": "code",
   "execution_count": null,
   "id": "d3c0d9df-2e22-43d5-8058-a70b63fd1b9a",
   "metadata": {},
   "outputs": [],
   "source": []
  }
 ],
 "metadata": {
  "environment": {
   "kernel": "python3",
   "name": "common-cu121.m122",
   "type": "gcloud",
   "uri": "us-docker.pkg.dev/deeplearning-platform-release/gcr.io/base-cu121:m122"
  },
  "kernelspec": {
   "display_name": "Python 3 (Local)",
   "language": "python",
   "name": "python3"
  },
  "language_info": {
   "codemirror_mode": {
    "name": "ipython",
    "version": 3
   },
   "file_extension": ".py",
   "mimetype": "text/x-python",
   "name": "python",
   "nbconvert_exporter": "python",
   "pygments_lexer": "ipython3",
   "version": "3.10.14"
  }
 },
 "nbformat": 4,
 "nbformat_minor": 5
}
