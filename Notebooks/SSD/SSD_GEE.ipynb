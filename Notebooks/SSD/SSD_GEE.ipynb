{
 "cells": [
  {
   "cell_type": "markdown",
   "id": "d77c3329-71da-4541-8a9a-8013d85dbf11",
   "metadata": {},
   "source": [
    "# Training Pre-trained SSD Model on GEE Dataset"
   ]
  },
  {
   "cell_type": "markdown",
   "id": "7ccf4954-9ad8-4737-9071-a394ec911594",
   "metadata": {},
   "source": [
    "## Imports"
   ]
  },
  {
   "cell_type": "code",
   "execution_count": 9,
   "id": "0754f04a-c1f4-46ce-a300-e02d7b787977",
   "metadata": {
    "tags": []
   },
   "outputs": [],
   "source": [
    "import os\n",
    "os.chdir('/home/jupyter/ee_tree_counting/Models/SSD')"
   ]
  },
  {
   "cell_type": "code",
   "execution_count": 10,
   "id": "bb98a900-a10c-4fd3-83a4-2084b71e07ea",
   "metadata": {
    "tags": []
   },
   "outputs": [],
   "source": [
    "from config import (\n",
    "    DEVICE, \n",
    "    NUM_CLASSES, \n",
    "    NUM_EPOCHS, \n",
    "    OUT_DIR,\n",
    "    VISUALIZE_TRANSFORMED_IMAGES, \n",
    "    NUM_WORKERS,\n",
    "    RESIZE_TO\n",
    ")\n",
    "from model import create_model\n",
    "from custom_utils import (\n",
    "    Averager, \n",
    "    SaveBestModel, \n",
    "    save_model, \n",
    "    save_loss_plot,\n",
    "    save_mAP\n",
    ")\n",
    "from tqdm.auto import tqdm\n",
    "from datasets import (\n",
    "    create_train_dataset, \n",
    "    create_valid_dataset, \n",
    "    create_train_loader, \n",
    "    create_valid_loader\n",
    ")\n",
    "from torchmetrics.detection.mean_ap import MeanAveragePrecision\n",
    "from torch.optim.lr_scheduler import StepLR\n",
    "\n",
    "import torch\n",
    "import matplotlib.pyplot as plt\n",
    "import time\n",
    "import os\n",
    "import csv\n",
    "\n",
    "plt.style.use('ggplot')\n",
    "\n",
    "seed = 42\n",
    "torch.manual_seed(seed)\n",
    "torch.cuda.manual_seed(seed)\n",
    "torch.cuda.manual_seed_all(seed)"
   ]
  },
  {
   "cell_type": "markdown",
   "id": "eb8fbabb-4b98-416a-bd48-3cc09523f1d4",
   "metadata": {},
   "source": [
    "## Training and Validation Functions"
   ]
  },
  {
   "cell_type": "code",
   "execution_count": 11,
   "id": "440d5d0e-2ab8-4d07-828b-f63d73646365",
   "metadata": {
    "tags": []
   },
   "outputs": [],
   "source": [
    "# Function for running training iterations.\n",
    "def train(train_data_loader, model):\n",
    "    print('Training')\n",
    "    model.train()\n",
    "    \n",
    "     # initialize tqdm progress bar\n",
    "    prog_bar = tqdm(train_data_loader, total=len(train_data_loader))\n",
    "    \n",
    "    for i, data in enumerate(prog_bar):\n",
    "        optimizer.zero_grad()\n",
    "        images, targets = data\n",
    "        \n",
    "        images = list(image.to(DEVICE) for image in images)\n",
    "        targets = [{k: v.to(DEVICE) for k, v in t.items()} for t in targets]\n",
    "        loss_dict = model(images, targets)\n",
    "\n",
    "        losses = sum(loss for loss in loss_dict.values())\n",
    "        loss_value = losses.item()\n",
    "\n",
    "        train_loss_hist.send(loss_value)\n",
    "\n",
    "        losses.backward()\n",
    "        optimizer.step()\n",
    "    \n",
    "        # update the loss value beside the progress bar for each iteration\n",
    "        prog_bar.set_description(desc=f\"Loss: {loss_value:.4f}\")\n",
    "    return loss_value"
   ]
  },
  {
   "cell_type": "code",
   "execution_count": 12,
   "id": "ace976cf-595e-4f50-922f-1b92fa714b07",
   "metadata": {
    "tags": []
   },
   "outputs": [],
   "source": [
    "def validate(valid_data_loader, model):\n",
    "    print('Validating')\n",
    "    model.eval()\n",
    "    \n",
    "    # Initialize tqdm progress bar.\n",
    "    prog_bar = tqdm(valid_data_loader, total=len(valid_data_loader))\n",
    "    target = []\n",
    "    preds = []\n",
    "    for i, data in enumerate(prog_bar):\n",
    "        images, targets = data\n",
    "        \n",
    "        images = list(image.to(DEVICE) for image in images)\n",
    "        targets = [{k: v.to(DEVICE) for k, v in t.items()} for t in targets]\n",
    "        \n",
    "        with torch.no_grad():\n",
    "            outputs = model(images, targets)\n",
    "\n",
    "        # For mAP calculation using Torchmetrics.\n",
    "        #####################################\n",
    "        for i in range(len(images)):\n",
    "            true_dict = dict()\n",
    "            preds_dict = dict()\n",
    "            true_dict['boxes'] = targets[i]['boxes'].detach().cpu()\n",
    "            true_dict['labels'] = targets[i]['labels'].detach().cpu()\n",
    "            preds_dict['boxes'] = outputs[i]['boxes'].detach().cpu()\n",
    "            preds_dict['scores'] = outputs[i]['scores'].detach().cpu()\n",
    "            preds_dict['labels'] = outputs[i]['labels'].detach().cpu()\n",
    "            preds.append(preds_dict)\n",
    "            target.append(true_dict)\n",
    "        #####################################\n",
    "\n",
    "    metric = MeanAveragePrecision()\n",
    "    metric.update(preds, target)\n",
    "    metric_summary = metric.compute()\n",
    "    return metric_summary"
   ]
  },
  {
   "cell_type": "markdown",
   "id": "1d5f2527-a5e8-46fa-bd6f-b975fb7d8712",
   "metadata": {},
   "source": [
    "## Loading the Pre-trained Model"
   ]
  },
  {
   "cell_type": "code",
   "execution_count": 13,
   "id": "a8f15d04-6678-40c3-b7d8-49df01e8766d",
   "metadata": {
    "tags": []
   },
   "outputs": [],
   "source": [
    "# Update the paths to point to your geospatial dataset\n",
    "TRAIN_DIR = \"/home/jupyter/ee_tree_counting/Data/GEE Dataset/Dataset XML/train\"\n",
    "VALID_DIR = \"/home/jupyter/ee_tree_counting/Data/GEE Dataset/Dataset XML/valid\"\n",
    "\n",
    "# Path to the pre-trained model weights\n",
    "PRETRAINED_WEIGHTS_PATH = \"/home/jupyter/ee_tree_counting/Models/SSD/outputs/Custom Dataset No Aug/best_model.pth\"\n",
    "\n",
    "NUM_EPOCH = 100\n"
   ]
  },
  {
   "cell_type": "code",
   "execution_count": 14,
   "id": "36895c3a-9bb1-46c9-b8d7-bf09abcdf60f",
   "metadata": {
    "tags": []
   },
   "outputs": [
    {
     "data": {
      "text/plain": [
       "SSD(\n",
       "  (backbone): SSDFeatureExtractorVGG(\n",
       "    (features): Sequential(\n",
       "      (0): Conv2d(3, 64, kernel_size=(3, 3), stride=(1, 1), padding=(1, 1))\n",
       "      (1): ReLU(inplace=True)\n",
       "      (2): Conv2d(64, 64, kernel_size=(3, 3), stride=(1, 1), padding=(1, 1))\n",
       "      (3): ReLU(inplace=True)\n",
       "      (4): MaxPool2d(kernel_size=2, stride=2, padding=0, dilation=1, ceil_mode=False)\n",
       "      (5): Conv2d(64, 128, kernel_size=(3, 3), stride=(1, 1), padding=(1, 1))\n",
       "      (6): ReLU(inplace=True)\n",
       "      (7): Conv2d(128, 128, kernel_size=(3, 3), stride=(1, 1), padding=(1, 1))\n",
       "      (8): ReLU(inplace=True)\n",
       "      (9): MaxPool2d(kernel_size=2, stride=2, padding=0, dilation=1, ceil_mode=False)\n",
       "      (10): Conv2d(128, 256, kernel_size=(3, 3), stride=(1, 1), padding=(1, 1))\n",
       "      (11): ReLU(inplace=True)\n",
       "      (12): Conv2d(256, 256, kernel_size=(3, 3), stride=(1, 1), padding=(1, 1))\n",
       "      (13): ReLU(inplace=True)\n",
       "      (14): Conv2d(256, 256, kernel_size=(3, 3), stride=(1, 1), padding=(1, 1))\n",
       "      (15): ReLU(inplace=True)\n",
       "      (16): MaxPool2d(kernel_size=2, stride=2, padding=0, dilation=1, ceil_mode=True)\n",
       "      (17): Conv2d(256, 512, kernel_size=(3, 3), stride=(1, 1), padding=(1, 1))\n",
       "      (18): ReLU(inplace=True)\n",
       "      (19): Conv2d(512, 512, kernel_size=(3, 3), stride=(1, 1), padding=(1, 1))\n",
       "      (20): ReLU(inplace=True)\n",
       "      (21): Conv2d(512, 512, kernel_size=(3, 3), stride=(1, 1), padding=(1, 1))\n",
       "      (22): ReLU(inplace=True)\n",
       "    )\n",
       "    (extra): ModuleList(\n",
       "      (0): Sequential(\n",
       "        (0): MaxPool2d(kernel_size=2, stride=2, padding=0, dilation=1, ceil_mode=False)\n",
       "        (1): Conv2d(512, 512, kernel_size=(3, 3), stride=(1, 1), padding=(1, 1))\n",
       "        (2): ReLU(inplace=True)\n",
       "        (3): Conv2d(512, 512, kernel_size=(3, 3), stride=(1, 1), padding=(1, 1))\n",
       "        (4): ReLU(inplace=True)\n",
       "        (5): Conv2d(512, 512, kernel_size=(3, 3), stride=(1, 1), padding=(1, 1))\n",
       "        (6): ReLU(inplace=True)\n",
       "        (7): Sequential(\n",
       "          (0): MaxPool2d(kernel_size=3, stride=1, padding=1, dilation=1, ceil_mode=False)\n",
       "          (1): Conv2d(512, 1024, kernel_size=(3, 3), stride=(1, 1), padding=(6, 6), dilation=(6, 6))\n",
       "          (2): ReLU(inplace=True)\n",
       "          (3): Conv2d(1024, 1024, kernel_size=(1, 1), stride=(1, 1))\n",
       "          (4): ReLU(inplace=True)\n",
       "        )\n",
       "      )\n",
       "      (1): Sequential(\n",
       "        (0): Conv2d(1024, 256, kernel_size=(1, 1), stride=(1, 1))\n",
       "        (1): ReLU(inplace=True)\n",
       "        (2): Conv2d(256, 512, kernel_size=(3, 3), stride=(2, 2), padding=(1, 1))\n",
       "        (3): ReLU(inplace=True)\n",
       "      )\n",
       "      (2): Sequential(\n",
       "        (0): Conv2d(512, 128, kernel_size=(1, 1), stride=(1, 1))\n",
       "        (1): ReLU(inplace=True)\n",
       "        (2): Conv2d(128, 256, kernel_size=(3, 3), stride=(2, 2), padding=(1, 1))\n",
       "        (3): ReLU(inplace=True)\n",
       "      )\n",
       "      (3): Sequential(\n",
       "        (0): Conv2d(256, 128, kernel_size=(1, 1), stride=(1, 1))\n",
       "        (1): ReLU(inplace=True)\n",
       "        (2): Conv2d(128, 256, kernel_size=(3, 3), stride=(1, 1))\n",
       "        (3): ReLU(inplace=True)\n",
       "      )\n",
       "      (4): Sequential(\n",
       "        (0): Conv2d(256, 128, kernel_size=(1, 1), stride=(1, 1))\n",
       "        (1): ReLU(inplace=True)\n",
       "        (2): Conv2d(128, 256, kernel_size=(3, 3), stride=(1, 1))\n",
       "        (3): ReLU(inplace=True)\n",
       "      )\n",
       "    )\n",
       "  )\n",
       "  (anchor_generator): DefaultBoxGenerator(aspect_ratios=[[2], [2, 3], [2, 3], [2, 3], [2], [2]], clip=True, scales=[0.07, 0.15, 0.33, 0.51, 0.69, 0.87, 1.05], steps=[8, 16, 32, 64, 100, 300])\n",
       "  (head): SSDHead(\n",
       "    (classification_head): SSDClassificationHead(\n",
       "      (module_list): ModuleList(\n",
       "        (0): Conv2d(512, 8, kernel_size=(3, 3), stride=(1, 1), padding=(1, 1))\n",
       "        (1): Conv2d(1024, 12, kernel_size=(3, 3), stride=(1, 1), padding=(1, 1))\n",
       "        (2): Conv2d(512, 12, kernel_size=(3, 3), stride=(1, 1), padding=(1, 1))\n",
       "        (3): Conv2d(256, 12, kernel_size=(3, 3), stride=(1, 1), padding=(1, 1))\n",
       "        (4): Conv2d(256, 8, kernel_size=(3, 3), stride=(1, 1), padding=(1, 1))\n",
       "        (5): Conv2d(256, 8, kernel_size=(3, 3), stride=(1, 1), padding=(1, 1))\n",
       "      )\n",
       "    )\n",
       "    (regression_head): SSDRegressionHead(\n",
       "      (module_list): ModuleList(\n",
       "        (0): Conv2d(512, 16, kernel_size=(3, 3), stride=(1, 1), padding=(1, 1))\n",
       "        (1): Conv2d(1024, 24, kernel_size=(3, 3), stride=(1, 1), padding=(1, 1))\n",
       "        (2): Conv2d(512, 24, kernel_size=(3, 3), stride=(1, 1), padding=(1, 1))\n",
       "        (3): Conv2d(256, 24, kernel_size=(3, 3), stride=(1, 1), padding=(1, 1))\n",
       "        (4): Conv2d(256, 16, kernel_size=(3, 3), stride=(1, 1), padding=(1, 1))\n",
       "        (5): Conv2d(256, 16, kernel_size=(3, 3), stride=(1, 1), padding=(1, 1))\n",
       "      )\n",
       "    )\n",
       "  )\n",
       "  (transform): GeneralizedRCNNTransform(\n",
       "      Normalize(mean=[0.48235, 0.45882, 0.40784], std=[0.00392156862745098, 0.00392156862745098, 0.00392156862745098])\n",
       "      Resize(min_size=(640,), max_size=640, mode='bilinear')\n",
       "  )\n",
       ")"
      ]
     },
     "execution_count": 14,
     "metadata": {},
     "output_type": "execute_result"
    }
   ],
   "source": [
    "model = create_model(num_classes=NUM_CLASSES, size=RESIZE_TO)\n",
    "checkpoint = torch.load(PRETRAINED_WEIGHTS_PATH, map_location=DEVICE)\n",
    "model.load_state_dict(checkpoint['model_state_dict'])\n",
    "# model.to(DEVICE).eval()\n",
    "model.to(DEVICE).train()\n"
   ]
  },
  {
   "cell_type": "markdown",
   "id": "f941b04f-5e5e-4be1-8398-9fe0591a2d66",
   "metadata": {},
   "source": [
    "# Dataloaders and Optimiser"
   ]
  },
  {
   "cell_type": "code",
   "execution_count": 15,
   "id": "9e75c60a-8ca8-4304-bf36-f2e6041e7fc4",
   "metadata": {
    "tags": []
   },
   "outputs": [
    {
     "name": "stdout",
     "output_type": "stream",
     "text": [
      "Number of training samples: 49\n",
      "Number of validation samples: 15\n",
      "\n",
      "23,745,908 total parameters.\n",
      "23,745,908 training parameters.\n",
      "Adjusting learning rate of group 0 to 1.0000e-04.\n"
     ]
    },
    {
     "name": "stderr",
     "output_type": "stream",
     "text": [
      "/opt/conda/lib/python3.10/site-packages/albumentations/core/composition.py:156: UserWarning: Got processor for bboxes, but no transform to process it.\n",
      "  self._set_keys()\n"
     ]
    }
   ],
   "source": [
    "train_dataset = create_train_dataset(TRAIN_DIR)\n",
    "valid_dataset = create_valid_dataset(VALID_DIR)\n",
    "train_loader = create_train_loader(train_dataset, NUM_WORKERS)\n",
    "valid_loader = create_valid_loader(valid_dataset, NUM_WORKERS)\n",
    "print(f\"Number of training samples: {len(train_dataset)}\")\n",
    "print(f\"Number of validation samples: {len(valid_dataset)}\\n\")\n",
    "\n",
    "# Total parameters and trainable parameters.\n",
    "total_params = sum(p.numel() for p in model.parameters())\n",
    "print(f\"{total_params:,} total parameters.\")\n",
    "total_trainable_params = sum(\n",
    "    p.numel() for p in model.parameters() if p.requires_grad)\n",
    "print(f\"{total_trainable_params:,} training parameters.\")\n",
    "params = [p for p in model.parameters() if p.requires_grad]\n",
    "optimizer = torch.optim.SGD(params, lr=0.0001, momentum=0.9, nesterov=True)\n",
    "scheduler = StepLR(\n",
    "    optimizer=optimizer, step_size=15, gamma=0.1, verbose=True\n",
    ")"
   ]
  },
  {
   "cell_type": "markdown",
   "id": "8d06a7bd-9cba-4c3f-ba81-7dd536c0b735",
   "metadata": {},
   "source": [
    "# Training Loop"
   ]
  },
  {
   "cell_type": "code",
   "execution_count": 16,
   "id": "0969ba7c-81c0-42ed-b7ed-eb375d0b17d7",
   "metadata": {},
   "outputs": [
    {
     "name": "stdout",
     "output_type": "stream",
     "text": [
      "\n",
      "EPOCH 1 of 100\n",
      "Training\n"
     ]
    },
    {
     "data": {
      "application/vnd.jupyter.widget-view+json": {
       "model_id": "6f61c2a95846455c9e332c2c78729122",
       "version_major": 2,
       "version_minor": 0
      },
      "text/plain": [
       "  0%|          | 0/12 [00:00<?, ?it/s]"
      ]
     },
     "metadata": {},
     "output_type": "display_data"
    },
    {
     "name": "stdout",
     "output_type": "stream",
     "text": [
      "Validating\n"
     ]
    },
    {
     "data": {
      "application/vnd.jupyter.widget-view+json": {
       "model_id": "b8c3507845294d6992ca2b0211fe5fb9",
       "version_major": 2,
       "version_minor": 0
      },
      "text/plain": [
       "  0%|          | 0/3 [00:00<?, ?it/s]"
      ]
     },
     "metadata": {},
     "output_type": "display_data"
    },
    {
     "name": "stderr",
     "output_type": "stream",
     "text": [
      "/opt/conda/lib/python3.10/site-packages/torchmetrics/utilities/prints.py:43: UserWarning: Encountered more than 100 detections in a single image. This means that certain detections with the lowest scores will be ignored, that may have an undesirable impact on performance. Please consider adjusting the `max_detection_threshold` to suit your use case. To disable this warning, set attribute class `warn_on_many_detections=False`, after initializing the metric.\n",
      "  warnings.warn(*args, **kwargs)  # noqa: B028\n"
     ]
    },
    {
     "name": "stdout",
     "output_type": "stream",
     "text": [
      "Epoch #1 train loss: 3.702\n",
      "Epoch #1 mAP@0.5: 37.69%\n",
      "Epoch #1 mAP@0.5:0.95: 14.49%\n",
      "Took 0.048 minutes for epoch 0\n",
      "\n",
      "BEST VALIDATION mAP: 0.144868865609169\n",
      "\n",
      "SAVING BEST MODEL FOR EPOCH: 1\n",
      "\n",
      "SAVING PLOTS COMPLETE...\n",
      "Adjusting learning rate of group 0 to 1.0000e-04.\n",
      "\n",
      "EPOCH 2 of 100\n",
      "Training\n"
     ]
    },
    {
     "data": {
      "application/vnd.jupyter.widget-view+json": {
       "model_id": "a4b2ddb6dd164c55a9f5a0c39ca2d34c",
       "version_major": 2,
       "version_minor": 0
      },
      "text/plain": [
       "  0%|          | 0/12 [00:00<?, ?it/s]"
      ]
     },
     "metadata": {},
     "output_type": "display_data"
    },
    {
     "name": "stdout",
     "output_type": "stream",
     "text": [
      "Validating\n"
     ]
    },
    {
     "data": {
      "application/vnd.jupyter.widget-view+json": {
       "model_id": "bfbc12a0c52a447e8d1d702e57d8a35f",
       "version_major": 2,
       "version_minor": 0
      },
      "text/plain": [
       "  0%|          | 0/3 [00:00<?, ?it/s]"
      ]
     },
     "metadata": {},
     "output_type": "display_data"
    },
    {
     "name": "stdout",
     "output_type": "stream",
     "text": [
      "Epoch #2 train loss: 3.458\n",
      "Epoch #2 mAP@0.5: 48.21%\n",
      "Epoch #2 mAP@0.5:0.95: 19.82%\n",
      "Took 0.046 minutes for epoch 1\n",
      "\n",
      "BEST VALIDATION mAP: 0.19820041954517365\n",
      "\n",
      "SAVING BEST MODEL FOR EPOCH: 2\n",
      "\n",
      "SAVING PLOTS COMPLETE...\n",
      "Adjusting learning rate of group 0 to 1.0000e-04.\n",
      "\n",
      "EPOCH 3 of 100\n",
      "Training\n"
     ]
    },
    {
     "data": {
      "application/vnd.jupyter.widget-view+json": {
       "model_id": "249cd69f878a4dd9bb15233de469ef00",
       "version_major": 2,
       "version_minor": 0
      },
      "text/plain": [
       "  0%|          | 0/12 [00:00<?, ?it/s]"
      ]
     },
     "metadata": {},
     "output_type": "display_data"
    },
    {
     "name": "stdout",
     "output_type": "stream",
     "text": [
      "Validating\n"
     ]
    },
    {
     "data": {
      "application/vnd.jupyter.widget-view+json": {
       "model_id": "60086df4e3d34b4d9eaac217efbef4f6",
       "version_major": 2,
       "version_minor": 0
      },
      "text/plain": [
       "  0%|          | 0/3 [00:00<?, ?it/s]"
      ]
     },
     "metadata": {},
     "output_type": "display_data"
    },
    {
     "name": "stdout",
     "output_type": "stream",
     "text": [
      "Epoch #3 train loss: 3.312\n",
      "Epoch #3 mAP@0.5: 54.21%\n",
      "Epoch #3 mAP@0.5:0.95: 23.20%\n",
      "Took 0.047 minutes for epoch 2\n",
      "\n",
      "BEST VALIDATION mAP: 0.23195603489875793\n",
      "\n",
      "SAVING BEST MODEL FOR EPOCH: 3\n",
      "\n",
      "SAVING PLOTS COMPLETE...\n",
      "Adjusting learning rate of group 0 to 1.0000e-04.\n",
      "\n",
      "EPOCH 4 of 100\n",
      "Training\n"
     ]
    },
    {
     "data": {
      "application/vnd.jupyter.widget-view+json": {
       "model_id": "69cf8c8755ee4a55b4330fff9729a9bd",
       "version_major": 2,
       "version_minor": 0
      },
      "text/plain": [
       "  0%|          | 0/12 [00:00<?, ?it/s]"
      ]
     },
     "metadata": {},
     "output_type": "display_data"
    },
    {
     "name": "stdout",
     "output_type": "stream",
     "text": [
      "Validating\n"
     ]
    },
    {
     "data": {
      "application/vnd.jupyter.widget-view+json": {
       "model_id": "3c3bf80aec1f43f18aefe21745fd8354",
       "version_major": 2,
       "version_minor": 0
      },
      "text/plain": [
       "  0%|          | 0/3 [00:00<?, ?it/s]"
      ]
     },
     "metadata": {},
     "output_type": "display_data"
    },
    {
     "name": "stdout",
     "output_type": "stream",
     "text": [
      "Epoch #4 train loss: 3.193\n",
      "Epoch #4 mAP@0.5: 57.90%\n",
      "Epoch #4 mAP@0.5:0.95: 24.87%\n",
      "Took 0.047 minutes for epoch 3\n",
      "\n",
      "BEST VALIDATION mAP: 0.2487359195947647\n",
      "\n",
      "SAVING BEST MODEL FOR EPOCH: 4\n",
      "\n",
      "SAVING PLOTS COMPLETE...\n",
      "Adjusting learning rate of group 0 to 1.0000e-04.\n",
      "\n",
      "EPOCH 5 of 100\n",
      "Training\n"
     ]
    },
    {
     "data": {
      "application/vnd.jupyter.widget-view+json": {
       "model_id": "e724947820a84ec1aa2f263d6a624128",
       "version_major": 2,
       "version_minor": 0
      },
      "text/plain": [
       "  0%|          | 0/12 [00:00<?, ?it/s]"
      ]
     },
     "metadata": {},
     "output_type": "display_data"
    },
    {
     "name": "stdout",
     "output_type": "stream",
     "text": [
      "Validating\n"
     ]
    },
    {
     "data": {
      "application/vnd.jupyter.widget-view+json": {
       "model_id": "974bc605f98a4073b743d779550f2b3a",
       "version_major": 2,
       "version_minor": 0
      },
      "text/plain": [
       "  0%|          | 0/3 [00:00<?, ?it/s]"
      ]
     },
     "metadata": {},
     "output_type": "display_data"
    },
    {
     "name": "stdout",
     "output_type": "stream",
     "text": [
      "Epoch #5 train loss: 3.109\n",
      "Epoch #5 mAP@0.5: 59.38%\n",
      "Epoch #5 mAP@0.5:0.95: 25.80%\n",
      "Took 0.049 minutes for epoch 4\n",
      "\n",
      "BEST VALIDATION mAP: 0.2580004036426544\n",
      "\n",
      "SAVING BEST MODEL FOR EPOCH: 5\n",
      "\n",
      "SAVING PLOTS COMPLETE...\n",
      "Adjusting learning rate of group 0 to 1.0000e-04.\n",
      "\n",
      "EPOCH 6 of 100\n",
      "Training\n"
     ]
    },
    {
     "data": {
      "application/vnd.jupyter.widget-view+json": {
       "model_id": "e3dfe5f4533f43438cad7addc24bd5e1",
       "version_major": 2,
       "version_minor": 0
      },
      "text/plain": [
       "  0%|          | 0/12 [00:00<?, ?it/s]"
      ]
     },
     "metadata": {},
     "output_type": "display_data"
    },
    {
     "name": "stdout",
     "output_type": "stream",
     "text": [
      "Validating\n"
     ]
    },
    {
     "data": {
      "application/vnd.jupyter.widget-view+json": {
       "model_id": "8bc3182da92a4451b56aed7719f684c2",
       "version_major": 2,
       "version_minor": 0
      },
      "text/plain": [
       "  0%|          | 0/3 [00:00<?, ?it/s]"
      ]
     },
     "metadata": {},
     "output_type": "display_data"
    },
    {
     "name": "stdout",
     "output_type": "stream",
     "text": [
      "Epoch #6 train loss: 3.033\n",
      "Epoch #6 mAP@0.5: 62.85%\n",
      "Epoch #6 mAP@0.5:0.95: 27.29%\n",
      "Took 0.047 minutes for epoch 5\n",
      "\n",
      "BEST VALIDATION mAP: 0.272943377494812\n",
      "\n",
      "SAVING BEST MODEL FOR EPOCH: 6\n",
      "\n",
      "SAVING PLOTS COMPLETE...\n",
      "Adjusting learning rate of group 0 to 1.0000e-04.\n",
      "\n",
      "EPOCH 7 of 100\n",
      "Training\n"
     ]
    },
    {
     "data": {
      "application/vnd.jupyter.widget-view+json": {
       "model_id": "6b1ad7b17cb0410c835d35312bf0f04e",
       "version_major": 2,
       "version_minor": 0
      },
      "text/plain": [
       "  0%|          | 0/12 [00:00<?, ?it/s]"
      ]
     },
     "metadata": {},
     "output_type": "display_data"
    },
    {
     "name": "stdout",
     "output_type": "stream",
     "text": [
      "Validating\n"
     ]
    },
    {
     "data": {
      "application/vnd.jupyter.widget-view+json": {
       "model_id": "760e2b3b14704e4ca1aeecccabd88126",
       "version_major": 2,
       "version_minor": 0
      },
      "text/plain": [
       "  0%|          | 0/3 [00:00<?, ?it/s]"
      ]
     },
     "metadata": {},
     "output_type": "display_data"
    },
    {
     "name": "stdout",
     "output_type": "stream",
     "text": [
      "Epoch #7 train loss: 3.001\n",
      "Epoch #7 mAP@0.5: 65.38%\n",
      "Epoch #7 mAP@0.5:0.95: 29.03%\n",
      "Took 0.051 minutes for epoch 6\n",
      "\n",
      "BEST VALIDATION mAP: 0.2903016209602356\n",
      "\n",
      "SAVING BEST MODEL FOR EPOCH: 7\n",
      "\n",
      "SAVING PLOTS COMPLETE...\n",
      "Adjusting learning rate of group 0 to 1.0000e-04.\n",
      "\n",
      "EPOCH 8 of 100\n",
      "Training\n"
     ]
    },
    {
     "data": {
      "application/vnd.jupyter.widget-view+json": {
       "model_id": "f01cb9e4a7b245b2a26d00224d28e17c",
       "version_major": 2,
       "version_minor": 0
      },
      "text/plain": [
       "  0%|          | 0/12 [00:00<?, ?it/s]"
      ]
     },
     "metadata": {},
     "output_type": "display_data"
    },
    {
     "name": "stdout",
     "output_type": "stream",
     "text": [
      "Validating\n"
     ]
    },
    {
     "data": {
      "application/vnd.jupyter.widget-view+json": {
       "model_id": "ecc379211ee448209456ffdb5ac86f7a",
       "version_major": 2,
       "version_minor": 0
      },
      "text/plain": [
       "  0%|          | 0/3 [00:00<?, ?it/s]"
      ]
     },
     "metadata": {},
     "output_type": "display_data"
    },
    {
     "name": "stdout",
     "output_type": "stream",
     "text": [
      "Epoch #8 train loss: 2.918\n",
      "Epoch #8 mAP@0.5: 67.04%\n",
      "Epoch #8 mAP@0.5:0.95: 30.42%\n",
      "Took 0.048 minutes for epoch 7\n",
      "\n",
      "BEST VALIDATION mAP: 0.3041648864746094\n",
      "\n",
      "SAVING BEST MODEL FOR EPOCH: 8\n",
      "\n",
      "SAVING PLOTS COMPLETE...\n",
      "Adjusting learning rate of group 0 to 1.0000e-04.\n",
      "\n",
      "EPOCH 9 of 100\n",
      "Training\n"
     ]
    },
    {
     "data": {
      "application/vnd.jupyter.widget-view+json": {
       "model_id": "2238e619f83f4975b1cedf21959859b4",
       "version_major": 2,
       "version_minor": 0
      },
      "text/plain": [
       "  0%|          | 0/12 [00:00<?, ?it/s]"
      ]
     },
     "metadata": {},
     "output_type": "display_data"
    },
    {
     "name": "stdout",
     "output_type": "stream",
     "text": [
      "Validating\n"
     ]
    },
    {
     "data": {
      "application/vnd.jupyter.widget-view+json": {
       "model_id": "948421367964494caf1edc7b045c1d53",
       "version_major": 2,
       "version_minor": 0
      },
      "text/plain": [
       "  0%|          | 0/3 [00:00<?, ?it/s]"
      ]
     },
     "metadata": {},
     "output_type": "display_data"
    },
    {
     "name": "stdout",
     "output_type": "stream",
     "text": [
      "Epoch #9 train loss: 2.902\n",
      "Epoch #9 mAP@0.5: 68.22%\n",
      "Epoch #9 mAP@0.5:0.95: 31.56%\n",
      "Took 0.047 minutes for epoch 8\n",
      "\n",
      "BEST VALIDATION mAP: 0.3155933916568756\n",
      "\n",
      "SAVING BEST MODEL FOR EPOCH: 9\n",
      "\n",
      "SAVING PLOTS COMPLETE...\n",
      "Adjusting learning rate of group 0 to 1.0000e-04.\n",
      "\n",
      "EPOCH 10 of 100\n",
      "Training\n"
     ]
    },
    {
     "data": {
      "application/vnd.jupyter.widget-view+json": {
       "model_id": "2b60fc5d964e447db023cf381777c90e",
       "version_major": 2,
       "version_minor": 0
      },
      "text/plain": [
       "  0%|          | 0/12 [00:00<?, ?it/s]"
      ]
     },
     "metadata": {},
     "output_type": "display_data"
    },
    {
     "name": "stdout",
     "output_type": "stream",
     "text": [
      "Validating\n"
     ]
    },
    {
     "data": {
      "application/vnd.jupyter.widget-view+json": {
       "model_id": "da9f80e019a3404887dc4557f55d7e5e",
       "version_major": 2,
       "version_minor": 0
      },
      "text/plain": [
       "  0%|          | 0/3 [00:00<?, ?it/s]"
      ]
     },
     "metadata": {},
     "output_type": "display_data"
    },
    {
     "name": "stdout",
     "output_type": "stream",
     "text": [
      "Epoch #10 train loss: 2.863\n",
      "Epoch #10 mAP@0.5: 69.00%\n",
      "Epoch #10 mAP@0.5:0.95: 32.08%\n",
      "Took 0.047 minutes for epoch 9\n",
      "\n",
      "BEST VALIDATION mAP: 0.32075807452201843\n",
      "\n",
      "SAVING BEST MODEL FOR EPOCH: 10\n",
      "\n",
      "SAVING PLOTS COMPLETE...\n",
      "Adjusting learning rate of group 0 to 1.0000e-04.\n",
      "\n",
      "EPOCH 11 of 100\n",
      "Training\n"
     ]
    },
    {
     "data": {
      "application/vnd.jupyter.widget-view+json": {
       "model_id": "cc0ad6c24f1240b08845ebe0ff392801",
       "version_major": 2,
       "version_minor": 0
      },
      "text/plain": [
       "  0%|          | 0/12 [00:00<?, ?it/s]"
      ]
     },
     "metadata": {},
     "output_type": "display_data"
    },
    {
     "name": "stdout",
     "output_type": "stream",
     "text": [
      "Validating\n"
     ]
    },
    {
     "data": {
      "application/vnd.jupyter.widget-view+json": {
       "model_id": "dadd935c50234c68ac143559f11dfdaa",
       "version_major": 2,
       "version_minor": 0
      },
      "text/plain": [
       "  0%|          | 0/3 [00:00<?, ?it/s]"
      ]
     },
     "metadata": {},
     "output_type": "display_data"
    },
    {
     "name": "stdout",
     "output_type": "stream",
     "text": [
      "Epoch #11 train loss: 2.813\n",
      "Epoch #11 mAP@0.5: 69.79%\n",
      "Epoch #11 mAP@0.5:0.95: 32.55%\n",
      "Took 0.048 minutes for epoch 10\n",
      "\n",
      "BEST VALIDATION mAP: 0.32546916604042053\n",
      "\n",
      "SAVING BEST MODEL FOR EPOCH: 11\n",
      "\n",
      "SAVING PLOTS COMPLETE...\n",
      "Adjusting learning rate of group 0 to 1.0000e-04.\n",
      "\n",
      "EPOCH 12 of 100\n",
      "Training\n"
     ]
    },
    {
     "data": {
      "application/vnd.jupyter.widget-view+json": {
       "model_id": "294768caa09c4b659dd357a469e194bd",
       "version_major": 2,
       "version_minor": 0
      },
      "text/plain": [
       "  0%|          | 0/12 [00:00<?, ?it/s]"
      ]
     },
     "metadata": {},
     "output_type": "display_data"
    },
    {
     "name": "stdout",
     "output_type": "stream",
     "text": [
      "Validating\n"
     ]
    },
    {
     "data": {
      "application/vnd.jupyter.widget-view+json": {
       "model_id": "abbe16102bf24faea34cdae58aa30a3d",
       "version_major": 2,
       "version_minor": 0
      },
      "text/plain": [
       "  0%|          | 0/3 [00:00<?, ?it/s]"
      ]
     },
     "metadata": {},
     "output_type": "display_data"
    },
    {
     "name": "stdout",
     "output_type": "stream",
     "text": [
      "Epoch #12 train loss: 2.797\n",
      "Epoch #12 mAP@0.5: 70.53%\n",
      "Epoch #12 mAP@0.5:0.95: 32.26%\n",
      "Took 0.047 minutes for epoch 11\n",
      "SAVING PLOTS COMPLETE...\n",
      "Adjusting learning rate of group 0 to 1.0000e-04.\n",
      "\n",
      "EPOCH 13 of 100\n",
      "Training\n"
     ]
    },
    {
     "data": {
      "application/vnd.jupyter.widget-view+json": {
       "model_id": "2e611a355bee4531970545654b42b2bb",
       "version_major": 2,
       "version_minor": 0
      },
      "text/plain": [
       "  0%|          | 0/12 [00:00<?, ?it/s]"
      ]
     },
     "metadata": {},
     "output_type": "display_data"
    },
    {
     "name": "stdout",
     "output_type": "stream",
     "text": [
      "Validating\n"
     ]
    },
    {
     "data": {
      "application/vnd.jupyter.widget-view+json": {
       "model_id": "381a69f99e834ee282a9f6fdfb229bd1",
       "version_major": 2,
       "version_minor": 0
      },
      "text/plain": [
       "  0%|          | 0/3 [00:00<?, ?it/s]"
      ]
     },
     "metadata": {},
     "output_type": "display_data"
    },
    {
     "name": "stdout",
     "output_type": "stream",
     "text": [
      "Epoch #13 train loss: 2.751\n",
      "Epoch #13 mAP@0.5: 71.79%\n",
      "Epoch #13 mAP@0.5:0.95: 33.84%\n",
      "Took 0.047 minutes for epoch 12\n",
      "\n",
      "BEST VALIDATION mAP: 0.3383578658103943\n",
      "\n",
      "SAVING BEST MODEL FOR EPOCH: 13\n",
      "\n",
      "SAVING PLOTS COMPLETE...\n",
      "Adjusting learning rate of group 0 to 1.0000e-04.\n",
      "\n",
      "EPOCH 14 of 100\n",
      "Training\n"
     ]
    },
    {
     "data": {
      "application/vnd.jupyter.widget-view+json": {
       "model_id": "656e2754b500460fae7563ea991946a5",
       "version_major": 2,
       "version_minor": 0
      },
      "text/plain": [
       "  0%|          | 0/12 [00:00<?, ?it/s]"
      ]
     },
     "metadata": {},
     "output_type": "display_data"
    },
    {
     "name": "stdout",
     "output_type": "stream",
     "text": [
      "Validating\n"
     ]
    },
    {
     "data": {
      "application/vnd.jupyter.widget-view+json": {
       "model_id": "e5525a6d04e44d1bb4a870dd749ab865",
       "version_major": 2,
       "version_minor": 0
      },
      "text/plain": [
       "  0%|          | 0/3 [00:00<?, ?it/s]"
      ]
     },
     "metadata": {},
     "output_type": "display_data"
    },
    {
     "name": "stdout",
     "output_type": "stream",
     "text": [
      "Epoch #14 train loss: 2.724\n",
      "Epoch #14 mAP@0.5: 72.57%\n",
      "Epoch #14 mAP@0.5:0.95: 34.17%\n",
      "Took 0.047 minutes for epoch 13\n",
      "\n",
      "BEST VALIDATION mAP: 0.341724693775177\n",
      "\n",
      "SAVING BEST MODEL FOR EPOCH: 14\n",
      "\n",
      "SAVING PLOTS COMPLETE...\n",
      "Adjusting learning rate of group 0 to 1.0000e-04.\n",
      "\n",
      "EPOCH 15 of 100\n",
      "Training\n"
     ]
    },
    {
     "data": {
      "application/vnd.jupyter.widget-view+json": {
       "model_id": "c619b4226e4146a08366ff2b1185243f",
       "version_major": 2,
       "version_minor": 0
      },
      "text/plain": [
       "  0%|          | 0/12 [00:00<?, ?it/s]"
      ]
     },
     "metadata": {},
     "output_type": "display_data"
    },
    {
     "name": "stdout",
     "output_type": "stream",
     "text": [
      "Validating\n"
     ]
    },
    {
     "data": {
      "application/vnd.jupyter.widget-view+json": {
       "model_id": "3bd189148ea14dab8c0c9d6845623b90",
       "version_major": 2,
       "version_minor": 0
      },
      "text/plain": [
       "  0%|          | 0/3 [00:00<?, ?it/s]"
      ]
     },
     "metadata": {},
     "output_type": "display_data"
    },
    {
     "name": "stdout",
     "output_type": "stream",
     "text": [
      "Epoch #15 train loss: 2.672\n",
      "Epoch #15 mAP@0.5: 73.09%\n",
      "Epoch #15 mAP@0.5:0.95: 33.92%\n",
      "Took 0.047 minutes for epoch 14\n",
      "SAVING PLOTS COMPLETE...\n",
      "Adjusting learning rate of group 0 to 1.0000e-05.\n",
      "\n",
      "EPOCH 16 of 100\n",
      "Training\n"
     ]
    },
    {
     "data": {
      "application/vnd.jupyter.widget-view+json": {
       "model_id": "865e8202c7624935a83b505c2cd30034",
       "version_major": 2,
       "version_minor": 0
      },
      "text/plain": [
       "  0%|          | 0/12 [00:00<?, ?it/s]"
      ]
     },
     "metadata": {},
     "output_type": "display_data"
    },
    {
     "name": "stdout",
     "output_type": "stream",
     "text": [
      "Validating\n"
     ]
    },
    {
     "data": {
      "application/vnd.jupyter.widget-view+json": {
       "model_id": "5747778f10a24558944cbdad11c00d6d",
       "version_major": 2,
       "version_minor": 0
      },
      "text/plain": [
       "  0%|          | 0/3 [00:00<?, ?it/s]"
      ]
     },
     "metadata": {},
     "output_type": "display_data"
    },
    {
     "name": "stdout",
     "output_type": "stream",
     "text": [
      "Epoch #16 train loss: 2.672\n",
      "Epoch #16 mAP@0.5: 73.15%\n",
      "Epoch #16 mAP@0.5:0.95: 33.91%\n",
      "Took 0.047 minutes for epoch 15\n",
      "SAVING PLOTS COMPLETE...\n",
      "Adjusting learning rate of group 0 to 1.0000e-05.\n",
      "\n",
      "EPOCH 17 of 100\n",
      "Training\n"
     ]
    },
    {
     "data": {
      "application/vnd.jupyter.widget-view+json": {
       "model_id": "8f569c3627494d91966b6569bff10893",
       "version_major": 2,
       "version_minor": 0
      },
      "text/plain": [
       "  0%|          | 0/12 [00:00<?, ?it/s]"
      ]
     },
     "metadata": {},
     "output_type": "display_data"
    },
    {
     "name": "stdout",
     "output_type": "stream",
     "text": [
      "Validating\n"
     ]
    },
    {
     "data": {
      "application/vnd.jupyter.widget-view+json": {
       "model_id": "8fc65d1d3242426984f21362aa63873e",
       "version_major": 2,
       "version_minor": 0
      },
      "text/plain": [
       "  0%|          | 0/3 [00:00<?, ?it/s]"
      ]
     },
     "metadata": {},
     "output_type": "display_data"
    },
    {
     "name": "stdout",
     "output_type": "stream",
     "text": [
      "Epoch #17 train loss: 2.667\n",
      "Epoch #17 mAP@0.5: 73.26%\n",
      "Epoch #17 mAP@0.5:0.95: 34.31%\n",
      "Took 0.048 minutes for epoch 16\n",
      "\n",
      "BEST VALIDATION mAP: 0.34310272336006165\n",
      "\n",
      "SAVING BEST MODEL FOR EPOCH: 17\n",
      "\n",
      "SAVING PLOTS COMPLETE...\n",
      "Adjusting learning rate of group 0 to 1.0000e-05.\n",
      "\n",
      "EPOCH 18 of 100\n",
      "Training\n"
     ]
    },
    {
     "data": {
      "application/vnd.jupyter.widget-view+json": {
       "model_id": "34f2dcdd70c94a9abd0c0d1b9102d36a",
       "version_major": 2,
       "version_minor": 0
      },
      "text/plain": [
       "  0%|          | 0/12 [00:00<?, ?it/s]"
      ]
     },
     "metadata": {},
     "output_type": "display_data"
    },
    {
     "name": "stdout",
     "output_type": "stream",
     "text": [
      "Validating\n"
     ]
    },
    {
     "data": {
      "application/vnd.jupyter.widget-view+json": {
       "model_id": "886ee0b8b60c476aa582b7943bd70bc3",
       "version_major": 2,
       "version_minor": 0
      },
      "text/plain": [
       "  0%|          | 0/3 [00:00<?, ?it/s]"
      ]
     },
     "metadata": {},
     "output_type": "display_data"
    },
    {
     "name": "stdout",
     "output_type": "stream",
     "text": [
      "Epoch #18 train loss: 2.662\n",
      "Epoch #18 mAP@0.5: 73.27%\n",
      "Epoch #18 mAP@0.5:0.95: 34.12%\n",
      "Took 0.051 minutes for epoch 17\n",
      "SAVING PLOTS COMPLETE...\n",
      "Adjusting learning rate of group 0 to 1.0000e-05.\n",
      "\n",
      "EPOCH 19 of 100\n",
      "Training\n"
     ]
    },
    {
     "data": {
      "application/vnd.jupyter.widget-view+json": {
       "model_id": "0ed4c4a2249a427699814aec87430d8d",
       "version_major": 2,
       "version_minor": 0
      },
      "text/plain": [
       "  0%|          | 0/12 [00:00<?, ?it/s]"
      ]
     },
     "metadata": {},
     "output_type": "display_data"
    },
    {
     "name": "stdout",
     "output_type": "stream",
     "text": [
      "Validating\n"
     ]
    },
    {
     "data": {
      "application/vnd.jupyter.widget-view+json": {
       "model_id": "862efb3ebcbb4a8d8382c9b9d7abcb32",
       "version_major": 2,
       "version_minor": 0
      },
      "text/plain": [
       "  0%|          | 0/3 [00:00<?, ?it/s]"
      ]
     },
     "metadata": {},
     "output_type": "display_data"
    },
    {
     "name": "stdout",
     "output_type": "stream",
     "text": [
      "Epoch #19 train loss: 2.638\n",
      "Epoch #19 mAP@0.5: 73.24%\n",
      "Epoch #19 mAP@0.5:0.95: 34.12%\n",
      "Took 0.047 minutes for epoch 18\n",
      "SAVING PLOTS COMPLETE...\n",
      "Adjusting learning rate of group 0 to 1.0000e-05.\n",
      "\n",
      "EPOCH 20 of 100\n",
      "Training\n"
     ]
    },
    {
     "data": {
      "application/vnd.jupyter.widget-view+json": {
       "model_id": "9abc34e6b7924c178013e9607f011675",
       "version_major": 2,
       "version_minor": 0
      },
      "text/plain": [
       "  0%|          | 0/12 [00:00<?, ?it/s]"
      ]
     },
     "metadata": {},
     "output_type": "display_data"
    },
    {
     "name": "stdout",
     "output_type": "stream",
     "text": [
      "Validating\n"
     ]
    },
    {
     "data": {
      "application/vnd.jupyter.widget-view+json": {
       "model_id": "03e7f20c6cbf48c8b8ddfa10da61ff82",
       "version_major": 2,
       "version_minor": 0
      },
      "text/plain": [
       "  0%|          | 0/3 [00:00<?, ?it/s]"
      ]
     },
     "metadata": {},
     "output_type": "display_data"
    },
    {
     "name": "stdout",
     "output_type": "stream",
     "text": [
      "Epoch #20 train loss: 2.652\n",
      "Epoch #20 mAP@0.5: 73.34%\n",
      "Epoch #20 mAP@0.5:0.95: 34.20%\n",
      "Took 0.048 minutes for epoch 19\n",
      "SAVING PLOTS COMPLETE...\n",
      "Adjusting learning rate of group 0 to 1.0000e-05.\n",
      "\n",
      "EPOCH 21 of 100\n",
      "Training\n"
     ]
    },
    {
     "data": {
      "application/vnd.jupyter.widget-view+json": {
       "model_id": "8d6828d071224de6b498077997f3bca5",
       "version_major": 2,
       "version_minor": 0
      },
      "text/plain": [
       "  0%|          | 0/12 [00:00<?, ?it/s]"
      ]
     },
     "metadata": {},
     "output_type": "display_data"
    },
    {
     "name": "stdout",
     "output_type": "stream",
     "text": [
      "Validating\n"
     ]
    },
    {
     "data": {
      "application/vnd.jupyter.widget-view+json": {
       "model_id": "e92abe9d3f6a42269e32cbbabcebdcc3",
       "version_major": 2,
       "version_minor": 0
      },
      "text/plain": [
       "  0%|          | 0/3 [00:00<?, ?it/s]"
      ]
     },
     "metadata": {},
     "output_type": "display_data"
    },
    {
     "name": "stdout",
     "output_type": "stream",
     "text": [
      "Epoch #21 train loss: 2.636\n",
      "Epoch #21 mAP@0.5: 73.41%\n",
      "Epoch #21 mAP@0.5:0.95: 34.25%\n",
      "Took 0.047 minutes for epoch 20\n",
      "SAVING PLOTS COMPLETE...\n",
      "Adjusting learning rate of group 0 to 1.0000e-05.\n",
      "\n",
      "EPOCH 22 of 100\n",
      "Training\n"
     ]
    },
    {
     "data": {
      "application/vnd.jupyter.widget-view+json": {
       "model_id": "42aae726ac904e82aada03e85ed33b59",
       "version_major": 2,
       "version_minor": 0
      },
      "text/plain": [
       "  0%|          | 0/12 [00:00<?, ?it/s]"
      ]
     },
     "metadata": {},
     "output_type": "display_data"
    },
    {
     "name": "stdout",
     "output_type": "stream",
     "text": [
      "Validating\n"
     ]
    },
    {
     "data": {
      "application/vnd.jupyter.widget-view+json": {
       "model_id": "128ad97df4db426cbebf7211192c9bbe",
       "version_major": 2,
       "version_minor": 0
      },
      "text/plain": [
       "  0%|          | 0/3 [00:00<?, ?it/s]"
      ]
     },
     "metadata": {},
     "output_type": "display_data"
    },
    {
     "name": "stdout",
     "output_type": "stream",
     "text": [
      "Epoch #22 train loss: 2.637\n",
      "Epoch #22 mAP@0.5: 73.60%\n",
      "Epoch #22 mAP@0.5:0.95: 34.31%\n",
      "Took 0.047 minutes for epoch 21\n",
      "SAVING PLOTS COMPLETE...\n",
      "Adjusting learning rate of group 0 to 1.0000e-05.\n",
      "\n",
      "EPOCH 23 of 100\n",
      "Training\n"
     ]
    },
    {
     "data": {
      "application/vnd.jupyter.widget-view+json": {
       "model_id": "7335ad9989294779bf264311bc4d8e9e",
       "version_major": 2,
       "version_minor": 0
      },
      "text/plain": [
       "  0%|          | 0/12 [00:00<?, ?it/s]"
      ]
     },
     "metadata": {},
     "output_type": "display_data"
    },
    {
     "name": "stdout",
     "output_type": "stream",
     "text": [
      "Validating\n"
     ]
    },
    {
     "data": {
      "application/vnd.jupyter.widget-view+json": {
       "model_id": "9d35963aedcf413689e340673ae76d64",
       "version_major": 2,
       "version_minor": 0
      },
      "text/plain": [
       "  0%|          | 0/3 [00:00<?, ?it/s]"
      ]
     },
     "metadata": {},
     "output_type": "display_data"
    },
    {
     "name": "stdout",
     "output_type": "stream",
     "text": [
      "Epoch #23 train loss: 2.627\n",
      "Epoch #23 mAP@0.5: 73.72%\n",
      "Epoch #23 mAP@0.5:0.95: 34.42%\n",
      "Took 0.048 minutes for epoch 22\n",
      "\n",
      "BEST VALIDATION mAP: 0.34424370527267456\n",
      "\n",
      "SAVING BEST MODEL FOR EPOCH: 23\n",
      "\n",
      "SAVING PLOTS COMPLETE...\n",
      "Adjusting learning rate of group 0 to 1.0000e-05.\n",
      "\n",
      "EPOCH 24 of 100\n",
      "Training\n"
     ]
    },
    {
     "data": {
      "application/vnd.jupyter.widget-view+json": {
       "model_id": "020755187b4b45bebca7b8db9390c7b1",
       "version_major": 2,
       "version_minor": 0
      },
      "text/plain": [
       "  0%|          | 0/12 [00:00<?, ?it/s]"
      ]
     },
     "metadata": {},
     "output_type": "display_data"
    },
    {
     "name": "stdout",
     "output_type": "stream",
     "text": [
      "Validating\n"
     ]
    },
    {
     "data": {
      "application/vnd.jupyter.widget-view+json": {
       "model_id": "d0bfd0a7065949ca99b2212564482ed0",
       "version_major": 2,
       "version_minor": 0
      },
      "text/plain": [
       "  0%|          | 0/3 [00:00<?, ?it/s]"
      ]
     },
     "metadata": {},
     "output_type": "display_data"
    },
    {
     "name": "stdout",
     "output_type": "stream",
     "text": [
      "Epoch #24 train loss: 2.618\n",
      "Epoch #24 mAP@0.5: 73.72%\n",
      "Epoch #24 mAP@0.5:0.95: 34.47%\n",
      "Took 0.048 minutes for epoch 23\n",
      "\n",
      "BEST VALIDATION mAP: 0.34470924735069275\n",
      "\n",
      "SAVING BEST MODEL FOR EPOCH: 24\n",
      "\n",
      "SAVING PLOTS COMPLETE...\n",
      "Adjusting learning rate of group 0 to 1.0000e-05.\n",
      "\n",
      "EPOCH 25 of 100\n",
      "Training\n"
     ]
    },
    {
     "data": {
      "application/vnd.jupyter.widget-view+json": {
       "model_id": "d65a835180eb443a9fea89153f862614",
       "version_major": 2,
       "version_minor": 0
      },
      "text/plain": [
       "  0%|          | 0/12 [00:00<?, ?it/s]"
      ]
     },
     "metadata": {},
     "output_type": "display_data"
    },
    {
     "name": "stdout",
     "output_type": "stream",
     "text": [
      "Validating\n"
     ]
    },
    {
     "data": {
      "application/vnd.jupyter.widget-view+json": {
       "model_id": "865cdc153505438ca6ea8022600c6c8d",
       "version_major": 2,
       "version_minor": 0
      },
      "text/plain": [
       "  0%|          | 0/3 [00:00<?, ?it/s]"
      ]
     },
     "metadata": {},
     "output_type": "display_data"
    },
    {
     "name": "stdout",
     "output_type": "stream",
     "text": [
      "Epoch #25 train loss: 2.632\n",
      "Epoch #25 mAP@0.5: 73.75%\n",
      "Epoch #25 mAP@0.5:0.95: 34.55%\n",
      "Took 0.047 minutes for epoch 24\n",
      "\n",
      "BEST VALIDATION mAP: 0.3455168604850769\n",
      "\n",
      "SAVING BEST MODEL FOR EPOCH: 25\n",
      "\n",
      "SAVING PLOTS COMPLETE...\n",
      "Adjusting learning rate of group 0 to 1.0000e-05.\n",
      "\n",
      "EPOCH 26 of 100\n",
      "Training\n"
     ]
    },
    {
     "data": {
      "application/vnd.jupyter.widget-view+json": {
       "model_id": "89e9a459cd964a3da775cd2632e53226",
       "version_major": 2,
       "version_minor": 0
      },
      "text/plain": [
       "  0%|          | 0/12 [00:00<?, ?it/s]"
      ]
     },
     "metadata": {},
     "output_type": "display_data"
    },
    {
     "name": "stdout",
     "output_type": "stream",
     "text": [
      "Validating\n"
     ]
    },
    {
     "data": {
      "application/vnd.jupyter.widget-view+json": {
       "model_id": "11c6005468064e1496703b2aa6b14048",
       "version_major": 2,
       "version_minor": 0
      },
      "text/plain": [
       "  0%|          | 0/3 [00:00<?, ?it/s]"
      ]
     },
     "metadata": {},
     "output_type": "display_data"
    },
    {
     "name": "stdout",
     "output_type": "stream",
     "text": [
      "Epoch #26 train loss: 2.636\n",
      "Epoch #26 mAP@0.5: 73.84%\n",
      "Epoch #26 mAP@0.5:0.95: 34.63%\n",
      "Took 0.047 minutes for epoch 25\n",
      "\n",
      "BEST VALIDATION mAP: 0.34632575511932373\n",
      "\n",
      "SAVING BEST MODEL FOR EPOCH: 26\n",
      "\n",
      "SAVING PLOTS COMPLETE...\n",
      "Adjusting learning rate of group 0 to 1.0000e-05.\n",
      "\n",
      "EPOCH 27 of 100\n",
      "Training\n"
     ]
    },
    {
     "data": {
      "application/vnd.jupyter.widget-view+json": {
       "model_id": "7332adc4dd7543acbfe6822d6e6bcd74",
       "version_major": 2,
       "version_minor": 0
      },
      "text/plain": [
       "  0%|          | 0/12 [00:00<?, ?it/s]"
      ]
     },
     "metadata": {},
     "output_type": "display_data"
    },
    {
     "name": "stdout",
     "output_type": "stream",
     "text": [
      "Validating\n"
     ]
    },
    {
     "data": {
      "application/vnd.jupyter.widget-view+json": {
       "model_id": "af0326a49d7f4aabb3d3a37df45db0fc",
       "version_major": 2,
       "version_minor": 0
      },
      "text/plain": [
       "  0%|          | 0/3 [00:00<?, ?it/s]"
      ]
     },
     "metadata": {},
     "output_type": "display_data"
    },
    {
     "name": "stdout",
     "output_type": "stream",
     "text": [
      "Epoch #27 train loss: 2.631\n",
      "Epoch #27 mAP@0.5: 73.82%\n",
      "Epoch #27 mAP@0.5:0.95: 34.60%\n",
      "Took 0.047 minutes for epoch 26\n",
      "SAVING PLOTS COMPLETE...\n",
      "Adjusting learning rate of group 0 to 1.0000e-05.\n",
      "\n",
      "EPOCH 28 of 100\n",
      "Training\n"
     ]
    },
    {
     "data": {
      "application/vnd.jupyter.widget-view+json": {
       "model_id": "5f659390ca97482eb7702c40e7d8ed4a",
       "version_major": 2,
       "version_minor": 0
      },
      "text/plain": [
       "  0%|          | 0/12 [00:00<?, ?it/s]"
      ]
     },
     "metadata": {},
     "output_type": "display_data"
    },
    {
     "name": "stdout",
     "output_type": "stream",
     "text": [
      "Validating\n"
     ]
    },
    {
     "data": {
      "application/vnd.jupyter.widget-view+json": {
       "model_id": "257f63dc881145558e6e13e74e5f4afd",
       "version_major": 2,
       "version_minor": 0
      },
      "text/plain": [
       "  0%|          | 0/3 [00:00<?, ?it/s]"
      ]
     },
     "metadata": {},
     "output_type": "display_data"
    },
    {
     "name": "stdout",
     "output_type": "stream",
     "text": [
      "Epoch #28 train loss: 2.621\n",
      "Epoch #28 mAP@0.5: 73.88%\n",
      "Epoch #28 mAP@0.5:0.95: 34.75%\n",
      "Took 0.047 minutes for epoch 27\n",
      "\n",
      "BEST VALIDATION mAP: 0.34748637676239014\n",
      "\n",
      "SAVING BEST MODEL FOR EPOCH: 28\n",
      "\n",
      "SAVING PLOTS COMPLETE...\n",
      "Adjusting learning rate of group 0 to 1.0000e-05.\n",
      "\n",
      "EPOCH 29 of 100\n",
      "Training\n"
     ]
    },
    {
     "data": {
      "application/vnd.jupyter.widget-view+json": {
       "model_id": "7b7212c3cd324bc393787dfca8507697",
       "version_major": 2,
       "version_minor": 0
      },
      "text/plain": [
       "  0%|          | 0/12 [00:00<?, ?it/s]"
      ]
     },
     "metadata": {},
     "output_type": "display_data"
    },
    {
     "name": "stdout",
     "output_type": "stream",
     "text": [
      "Validating\n"
     ]
    },
    {
     "data": {
      "application/vnd.jupyter.widget-view+json": {
       "model_id": "63bb611d66034f8da1639b59753b2009",
       "version_major": 2,
       "version_minor": 0
      },
      "text/plain": [
       "  0%|          | 0/3 [00:00<?, ?it/s]"
      ]
     },
     "metadata": {},
     "output_type": "display_data"
    },
    {
     "name": "stdout",
     "output_type": "stream",
     "text": [
      "Epoch #29 train loss: 2.650\n",
      "Epoch #29 mAP@0.5: 73.93%\n",
      "Epoch #29 mAP@0.5:0.95: 34.67%\n",
      "Took 0.048 minutes for epoch 28\n",
      "SAVING PLOTS COMPLETE...\n",
      "Adjusting learning rate of group 0 to 1.0000e-05.\n",
      "\n",
      "EPOCH 30 of 100\n",
      "Training\n"
     ]
    },
    {
     "data": {
      "application/vnd.jupyter.widget-view+json": {
       "model_id": "7e5493dea0694e859699e5714540941a",
       "version_major": 2,
       "version_minor": 0
      },
      "text/plain": [
       "  0%|          | 0/12 [00:00<?, ?it/s]"
      ]
     },
     "metadata": {},
     "output_type": "display_data"
    },
    {
     "name": "stdout",
     "output_type": "stream",
     "text": [
      "Validating\n"
     ]
    },
    {
     "data": {
      "application/vnd.jupyter.widget-view+json": {
       "model_id": "e723516d99a14627aa263ac9f7afee92",
       "version_major": 2,
       "version_minor": 0
      },
      "text/plain": [
       "  0%|          | 0/3 [00:00<?, ?it/s]"
      ]
     },
     "metadata": {},
     "output_type": "display_data"
    },
    {
     "name": "stdout",
     "output_type": "stream",
     "text": [
      "Epoch #30 train loss: 2.621\n",
      "Epoch #30 mAP@0.5: 74.13%\n",
      "Epoch #30 mAP@0.5:0.95: 34.35%\n",
      "Took 0.047 minutes for epoch 29\n",
      "SAVING PLOTS COMPLETE...\n",
      "Adjusting learning rate of group 0 to 1.0000e-06.\n",
      "\n",
      "EPOCH 31 of 100\n",
      "Training\n"
     ]
    },
    {
     "data": {
      "application/vnd.jupyter.widget-view+json": {
       "model_id": "849ebf05ead04ac7b80f79b453fe4a62",
       "version_major": 2,
       "version_minor": 0
      },
      "text/plain": [
       "  0%|          | 0/12 [00:00<?, ?it/s]"
      ]
     },
     "metadata": {},
     "output_type": "display_data"
    },
    {
     "name": "stdout",
     "output_type": "stream",
     "text": [
      "Validating\n"
     ]
    },
    {
     "data": {
      "application/vnd.jupyter.widget-view+json": {
       "model_id": "aa41b4b4252d43588c93592fd670f1b8",
       "version_major": 2,
       "version_minor": 0
      },
      "text/plain": [
       "  0%|          | 0/3 [00:00<?, ?it/s]"
      ]
     },
     "metadata": {},
     "output_type": "display_data"
    },
    {
     "name": "stdout",
     "output_type": "stream",
     "text": [
      "Epoch #31 train loss: 2.625\n",
      "Epoch #31 mAP@0.5: 73.99%\n",
      "Epoch #31 mAP@0.5:0.95: 34.34%\n",
      "Took 0.046 minutes for epoch 30\n",
      "SAVING PLOTS COMPLETE...\n",
      "Adjusting learning rate of group 0 to 1.0000e-06.\n",
      "\n",
      "EPOCH 32 of 100\n",
      "Training\n"
     ]
    },
    {
     "data": {
      "application/vnd.jupyter.widget-view+json": {
       "model_id": "5521f0bb5e1f41b9a795c0ff8be9723b",
       "version_major": 2,
       "version_minor": 0
      },
      "text/plain": [
       "  0%|          | 0/12 [00:00<?, ?it/s]"
      ]
     },
     "metadata": {},
     "output_type": "display_data"
    },
    {
     "name": "stdout",
     "output_type": "stream",
     "text": [
      "Validating\n"
     ]
    },
    {
     "data": {
      "application/vnd.jupyter.widget-view+json": {
       "model_id": "26432c4a9ee2454eb86060821344a915",
       "version_major": 2,
       "version_minor": 0
      },
      "text/plain": [
       "  0%|          | 0/3 [00:00<?, ?it/s]"
      ]
     },
     "metadata": {},
     "output_type": "display_data"
    },
    {
     "name": "stdout",
     "output_type": "stream",
     "text": [
      "Epoch #32 train loss: 2.612\n",
      "Epoch #32 mAP@0.5: 74.14%\n",
      "Epoch #32 mAP@0.5:0.95: 34.36%\n",
      "Took 0.048 minutes for epoch 31\n",
      "SAVING PLOTS COMPLETE...\n",
      "Adjusting learning rate of group 0 to 1.0000e-06.\n",
      "\n",
      "EPOCH 33 of 100\n",
      "Training\n"
     ]
    },
    {
     "data": {
      "application/vnd.jupyter.widget-view+json": {
       "model_id": "c1c9192a6a974ab791622e27199e236e",
       "version_major": 2,
       "version_minor": 0
      },
      "text/plain": [
       "  0%|          | 0/12 [00:00<?, ?it/s]"
      ]
     },
     "metadata": {},
     "output_type": "display_data"
    },
    {
     "name": "stdout",
     "output_type": "stream",
     "text": [
      "Validating\n"
     ]
    },
    {
     "data": {
      "application/vnd.jupyter.widget-view+json": {
       "model_id": "555b9e0ffb9349cf9942dfadcd9d7f8b",
       "version_major": 2,
       "version_minor": 0
      },
      "text/plain": [
       "  0%|          | 0/3 [00:00<?, ?it/s]"
      ]
     },
     "metadata": {},
     "output_type": "display_data"
    },
    {
     "name": "stdout",
     "output_type": "stream",
     "text": [
      "Epoch #33 train loss: 2.629\n",
      "Epoch #33 mAP@0.5: 74.14%\n",
      "Epoch #33 mAP@0.5:0.95: 34.36%\n",
      "Took 0.047 minutes for epoch 32\n",
      "SAVING PLOTS COMPLETE...\n",
      "Adjusting learning rate of group 0 to 1.0000e-06.\n",
      "\n",
      "EPOCH 34 of 100\n",
      "Training\n"
     ]
    },
    {
     "data": {
      "application/vnd.jupyter.widget-view+json": {
       "model_id": "47c26fd0ca294816b691304b7f4d2cc3",
       "version_major": 2,
       "version_minor": 0
      },
      "text/plain": [
       "  0%|          | 0/12 [00:00<?, ?it/s]"
      ]
     },
     "metadata": {},
     "output_type": "display_data"
    },
    {
     "name": "stdout",
     "output_type": "stream",
     "text": [
      "Validating\n"
     ]
    },
    {
     "data": {
      "application/vnd.jupyter.widget-view+json": {
       "model_id": "a4c2ebf07e914681aa6dc0eae8645465",
       "version_major": 2,
       "version_minor": 0
      },
      "text/plain": [
       "  0%|          | 0/3 [00:00<?, ?it/s]"
      ]
     },
     "metadata": {},
     "output_type": "display_data"
    },
    {
     "name": "stdout",
     "output_type": "stream",
     "text": [
      "Epoch #34 train loss: 2.629\n",
      "Epoch #34 mAP@0.5: 74.14%\n",
      "Epoch #34 mAP@0.5:0.95: 34.36%\n",
      "Took 0.047 minutes for epoch 33\n",
      "SAVING PLOTS COMPLETE...\n",
      "Adjusting learning rate of group 0 to 1.0000e-06.\n",
      "\n",
      "EPOCH 35 of 100\n",
      "Training\n"
     ]
    },
    {
     "data": {
      "application/vnd.jupyter.widget-view+json": {
       "model_id": "d71a8503d7fc46c0ba48d43851128e54",
       "version_major": 2,
       "version_minor": 0
      },
      "text/plain": [
       "  0%|          | 0/12 [00:00<?, ?it/s]"
      ]
     },
     "metadata": {},
     "output_type": "display_data"
    },
    {
     "name": "stdout",
     "output_type": "stream",
     "text": [
      "Validating\n"
     ]
    },
    {
     "data": {
      "application/vnd.jupyter.widget-view+json": {
       "model_id": "7d3729b5f6f548dc87a37a1651962c8e",
       "version_major": 2,
       "version_minor": 0
      },
      "text/plain": [
       "  0%|          | 0/3 [00:00<?, ?it/s]"
      ]
     },
     "metadata": {},
     "output_type": "display_data"
    },
    {
     "name": "stdout",
     "output_type": "stream",
     "text": [
      "Epoch #35 train loss: 2.606\n",
      "Epoch #35 mAP@0.5: 73.99%\n",
      "Epoch #35 mAP@0.5:0.95: 34.34%\n",
      "Took 0.047 minutes for epoch 34\n",
      "SAVING PLOTS COMPLETE...\n",
      "Adjusting learning rate of group 0 to 1.0000e-06.\n",
      "\n",
      "EPOCH 36 of 100\n",
      "Training\n"
     ]
    },
    {
     "data": {
      "application/vnd.jupyter.widget-view+json": {
       "model_id": "bdf528fd03d546e6a735b0a20f766160",
       "version_major": 2,
       "version_minor": 0
      },
      "text/plain": [
       "  0%|          | 0/12 [00:00<?, ?it/s]"
      ]
     },
     "metadata": {},
     "output_type": "display_data"
    },
    {
     "name": "stdout",
     "output_type": "stream",
     "text": [
      "Validating\n"
     ]
    },
    {
     "data": {
      "application/vnd.jupyter.widget-view+json": {
       "model_id": "94813f38f84a4c3da70342d668404740",
       "version_major": 2,
       "version_minor": 0
      },
      "text/plain": [
       "  0%|          | 0/3 [00:00<?, ?it/s]"
      ]
     },
     "metadata": {},
     "output_type": "display_data"
    },
    {
     "name": "stdout",
     "output_type": "stream",
     "text": [
      "Epoch #36 train loss: 2.619\n",
      "Epoch #36 mAP@0.5: 73.99%\n",
      "Epoch #36 mAP@0.5:0.95: 34.34%\n",
      "Took 0.048 minutes for epoch 35\n",
      "SAVING PLOTS COMPLETE...\n",
      "Adjusting learning rate of group 0 to 1.0000e-06.\n",
      "\n",
      "EPOCH 37 of 100\n",
      "Training\n"
     ]
    },
    {
     "data": {
      "application/vnd.jupyter.widget-view+json": {
       "model_id": "13e17083a04a431faf8b5dec53bbe573",
       "version_major": 2,
       "version_minor": 0
      },
      "text/plain": [
       "  0%|          | 0/12 [00:00<?, ?it/s]"
      ]
     },
     "metadata": {},
     "output_type": "display_data"
    },
    {
     "name": "stdout",
     "output_type": "stream",
     "text": [
      "Validating\n"
     ]
    },
    {
     "data": {
      "application/vnd.jupyter.widget-view+json": {
       "model_id": "4c271878a77549348aabc58d79fd1172",
       "version_major": 2,
       "version_minor": 0
      },
      "text/plain": [
       "  0%|          | 0/3 [00:00<?, ?it/s]"
      ]
     },
     "metadata": {},
     "output_type": "display_data"
    },
    {
     "name": "stdout",
     "output_type": "stream",
     "text": [
      "Epoch #37 train loss: 2.622\n",
      "Epoch #37 mAP@0.5: 73.99%\n",
      "Epoch #37 mAP@0.5:0.95: 34.45%\n",
      "Took 0.047 minutes for epoch 36\n",
      "SAVING PLOTS COMPLETE...\n",
      "Adjusting learning rate of group 0 to 1.0000e-06.\n",
      "\n",
      "EPOCH 38 of 100\n",
      "Training\n"
     ]
    },
    {
     "data": {
      "application/vnd.jupyter.widget-view+json": {
       "model_id": "150b26c27edd458db9e32cfcf6f003cf",
       "version_major": 2,
       "version_minor": 0
      },
      "text/plain": [
       "  0%|          | 0/12 [00:00<?, ?it/s]"
      ]
     },
     "metadata": {},
     "output_type": "display_data"
    },
    {
     "name": "stdout",
     "output_type": "stream",
     "text": [
      "Validating\n"
     ]
    },
    {
     "data": {
      "application/vnd.jupyter.widget-view+json": {
       "model_id": "3aa63e25dfb94a16ad741263388b6dda",
       "version_major": 2,
       "version_minor": 0
      },
      "text/plain": [
       "  0%|          | 0/3 [00:00<?, ?it/s]"
      ]
     },
     "metadata": {},
     "output_type": "display_data"
    },
    {
     "name": "stdout",
     "output_type": "stream",
     "text": [
      "Epoch #38 train loss: 2.622\n",
      "Epoch #38 mAP@0.5: 73.99%\n",
      "Epoch #38 mAP@0.5:0.95: 34.46%\n",
      "Took 0.048 minutes for epoch 37\n",
      "SAVING PLOTS COMPLETE...\n",
      "Adjusting learning rate of group 0 to 1.0000e-06.\n",
      "\n",
      "EPOCH 39 of 100\n",
      "Training\n"
     ]
    },
    {
     "data": {
      "application/vnd.jupyter.widget-view+json": {
       "model_id": "acec1c8b358c40d5bb5c95f53a48df5b",
       "version_major": 2,
       "version_minor": 0
      },
      "text/plain": [
       "  0%|          | 0/12 [00:00<?, ?it/s]"
      ]
     },
     "metadata": {},
     "output_type": "display_data"
    },
    {
     "name": "stdout",
     "output_type": "stream",
     "text": [
      "Validating\n"
     ]
    },
    {
     "data": {
      "application/vnd.jupyter.widget-view+json": {
       "model_id": "740ba39cf3274c21ad4e14aebee41270",
       "version_major": 2,
       "version_minor": 0
      },
      "text/plain": [
       "  0%|          | 0/3 [00:00<?, ?it/s]"
      ]
     },
     "metadata": {},
     "output_type": "display_data"
    },
    {
     "name": "stdout",
     "output_type": "stream",
     "text": [
      "Epoch #39 train loss: 2.634\n",
      "Epoch #39 mAP@0.5: 74.00%\n",
      "Epoch #39 mAP@0.5:0.95: 34.46%\n",
      "Took 0.047 minutes for epoch 38\n",
      "SAVING PLOTS COMPLETE...\n",
      "Adjusting learning rate of group 0 to 1.0000e-06.\n",
      "\n",
      "EPOCH 40 of 100\n",
      "Training\n"
     ]
    },
    {
     "data": {
      "application/vnd.jupyter.widget-view+json": {
       "model_id": "140dc61e71a94f039470514228184d2f",
       "version_major": 2,
       "version_minor": 0
      },
      "text/plain": [
       "  0%|          | 0/12 [00:00<?, ?it/s]"
      ]
     },
     "metadata": {},
     "output_type": "display_data"
    },
    {
     "name": "stdout",
     "output_type": "stream",
     "text": [
      "Validating\n"
     ]
    },
    {
     "data": {
      "application/vnd.jupyter.widget-view+json": {
       "model_id": "a52784bc7e214484a405f71c96969528",
       "version_major": 2,
       "version_minor": 0
      },
      "text/plain": [
       "  0%|          | 0/3 [00:00<?, ?it/s]"
      ]
     },
     "metadata": {},
     "output_type": "display_data"
    },
    {
     "name": "stdout",
     "output_type": "stream",
     "text": [
      "Epoch #40 train loss: 2.616\n",
      "Epoch #40 mAP@0.5: 73.99%\n",
      "Epoch #40 mAP@0.5:0.95: 34.46%\n",
      "Took 0.047 minutes for epoch 39\n",
      "SAVING PLOTS COMPLETE...\n",
      "Adjusting learning rate of group 0 to 1.0000e-06.\n",
      "\n",
      "EPOCH 41 of 100\n",
      "Training\n"
     ]
    },
    {
     "data": {
      "application/vnd.jupyter.widget-view+json": {
       "model_id": "36530c1c092a4203accab4b33b1092c6",
       "version_major": 2,
       "version_minor": 0
      },
      "text/plain": [
       "  0%|          | 0/12 [00:00<?, ?it/s]"
      ]
     },
     "metadata": {},
     "output_type": "display_data"
    },
    {
     "name": "stdout",
     "output_type": "stream",
     "text": [
      "Validating\n"
     ]
    },
    {
     "data": {
      "application/vnd.jupyter.widget-view+json": {
       "model_id": "91a8ecf307394e76bee9de5ba6a8b847",
       "version_major": 2,
       "version_minor": 0
      },
      "text/plain": [
       "  0%|          | 0/3 [00:00<?, ?it/s]"
      ]
     },
     "metadata": {},
     "output_type": "display_data"
    },
    {
     "name": "stdout",
     "output_type": "stream",
     "text": [
      "Epoch #41 train loss: 2.610\n",
      "Epoch #41 mAP@0.5: 74.00%\n",
      "Epoch #41 mAP@0.5:0.95: 34.47%\n",
      "Took 0.047 minutes for epoch 40\n",
      "SAVING PLOTS COMPLETE...\n",
      "Adjusting learning rate of group 0 to 1.0000e-06.\n",
      "\n",
      "EPOCH 42 of 100\n",
      "Training\n"
     ]
    },
    {
     "data": {
      "application/vnd.jupyter.widget-view+json": {
       "model_id": "f8bd510a81e04c4ca53dde843cd76028",
       "version_major": 2,
       "version_minor": 0
      },
      "text/plain": [
       "  0%|          | 0/12 [00:00<?, ?it/s]"
      ]
     },
     "metadata": {},
     "output_type": "display_data"
    },
    {
     "name": "stdout",
     "output_type": "stream",
     "text": [
      "Validating\n"
     ]
    },
    {
     "data": {
      "application/vnd.jupyter.widget-view+json": {
       "model_id": "0159eb3e6ea74a5197e06ccadc11cef3",
       "version_major": 2,
       "version_minor": 0
      },
      "text/plain": [
       "  0%|          | 0/3 [00:00<?, ?it/s]"
      ]
     },
     "metadata": {},
     "output_type": "display_data"
    },
    {
     "name": "stdout",
     "output_type": "stream",
     "text": [
      "Epoch #42 train loss: 2.615\n",
      "Epoch #42 mAP@0.5: 74.00%\n",
      "Epoch #42 mAP@0.5:0.95: 34.46%\n",
      "Took 0.047 minutes for epoch 41\n",
      "SAVING PLOTS COMPLETE...\n",
      "Adjusting learning rate of group 0 to 1.0000e-06.\n",
      "\n",
      "EPOCH 43 of 100\n",
      "Training\n"
     ]
    },
    {
     "data": {
      "application/vnd.jupyter.widget-view+json": {
       "model_id": "296dc46a78f944b3b32a0839f9f6717f",
       "version_major": 2,
       "version_minor": 0
      },
      "text/plain": [
       "  0%|          | 0/12 [00:00<?, ?it/s]"
      ]
     },
     "metadata": {},
     "output_type": "display_data"
    },
    {
     "name": "stdout",
     "output_type": "stream",
     "text": [
      "Validating\n"
     ]
    },
    {
     "data": {
      "application/vnd.jupyter.widget-view+json": {
       "model_id": "70a0b1fb2e664769a0de1301a3ec55b0",
       "version_major": 2,
       "version_minor": 0
      },
      "text/plain": [
       "  0%|          | 0/3 [00:00<?, ?it/s]"
      ]
     },
     "metadata": {},
     "output_type": "display_data"
    },
    {
     "name": "stdout",
     "output_type": "stream",
     "text": [
      "Epoch #43 train loss: 2.624\n",
      "Epoch #43 mAP@0.5: 74.01%\n",
      "Epoch #43 mAP@0.5:0.95: 34.47%\n",
      "Took 0.047 minutes for epoch 42\n",
      "SAVING PLOTS COMPLETE...\n",
      "Adjusting learning rate of group 0 to 1.0000e-06.\n",
      "\n",
      "EPOCH 44 of 100\n",
      "Training\n"
     ]
    },
    {
     "data": {
      "application/vnd.jupyter.widget-view+json": {
       "model_id": "38a8457c5b734fee80f4e8a58840da6a",
       "version_major": 2,
       "version_minor": 0
      },
      "text/plain": [
       "  0%|          | 0/12 [00:00<?, ?it/s]"
      ]
     },
     "metadata": {},
     "output_type": "display_data"
    },
    {
     "name": "stdout",
     "output_type": "stream",
     "text": [
      "Validating\n"
     ]
    },
    {
     "data": {
      "application/vnd.jupyter.widget-view+json": {
       "model_id": "b1318f8007844306acc784121f992070",
       "version_major": 2,
       "version_minor": 0
      },
      "text/plain": [
       "  0%|          | 0/3 [00:00<?, ?it/s]"
      ]
     },
     "metadata": {},
     "output_type": "display_data"
    },
    {
     "name": "stdout",
     "output_type": "stream",
     "text": [
      "Epoch #44 train loss: 2.608\n",
      "Epoch #44 mAP@0.5: 74.01%\n",
      "Epoch #44 mAP@0.5:0.95: 34.47%\n",
      "Took 0.047 minutes for epoch 43\n",
      "SAVING PLOTS COMPLETE...\n",
      "Adjusting learning rate of group 0 to 1.0000e-06.\n",
      "\n",
      "EPOCH 45 of 100\n",
      "Training\n"
     ]
    },
    {
     "data": {
      "application/vnd.jupyter.widget-view+json": {
       "model_id": "89cf548e39234c93957b7d46b4c21e92",
       "version_major": 2,
       "version_minor": 0
      },
      "text/plain": [
       "  0%|          | 0/12 [00:00<?, ?it/s]"
      ]
     },
     "metadata": {},
     "output_type": "display_data"
    },
    {
     "name": "stdout",
     "output_type": "stream",
     "text": [
      "Validating\n"
     ]
    },
    {
     "data": {
      "application/vnd.jupyter.widget-view+json": {
       "model_id": "e89ac5079a2d475c898d836019fd1b78",
       "version_major": 2,
       "version_minor": 0
      },
      "text/plain": [
       "  0%|          | 0/3 [00:00<?, ?it/s]"
      ]
     },
     "metadata": {},
     "output_type": "display_data"
    },
    {
     "name": "stdout",
     "output_type": "stream",
     "text": [
      "Epoch #45 train loss: 2.628\n",
      "Epoch #45 mAP@0.5: 74.01%\n",
      "Epoch #45 mAP@0.5:0.95: 34.47%\n",
      "Took 0.047 minutes for epoch 44\n",
      "SAVING PLOTS COMPLETE...\n",
      "Adjusting learning rate of group 0 to 1.0000e-07.\n",
      "\n",
      "EPOCH 46 of 100\n",
      "Training\n"
     ]
    },
    {
     "data": {
      "application/vnd.jupyter.widget-view+json": {
       "model_id": "8f36baea9a4d49e29884f11277eb0c22",
       "version_major": 2,
       "version_minor": 0
      },
      "text/plain": [
       "  0%|          | 0/12 [00:00<?, ?it/s]"
      ]
     },
     "metadata": {},
     "output_type": "display_data"
    },
    {
     "name": "stdout",
     "output_type": "stream",
     "text": [
      "Validating\n"
     ]
    },
    {
     "data": {
      "application/vnd.jupyter.widget-view+json": {
       "model_id": "a20e9cea635c41249d4c0317b03966a9",
       "version_major": 2,
       "version_minor": 0
      },
      "text/plain": [
       "  0%|          | 0/3 [00:00<?, ?it/s]"
      ]
     },
     "metadata": {},
     "output_type": "display_data"
    },
    {
     "name": "stdout",
     "output_type": "stream",
     "text": [
      "Epoch #46 train loss: 2.605\n",
      "Epoch #46 mAP@0.5: 74.01%\n",
      "Epoch #46 mAP@0.5:0.95: 34.47%\n",
      "Took 0.048 minutes for epoch 45\n",
      "SAVING PLOTS COMPLETE...\n",
      "Adjusting learning rate of group 0 to 1.0000e-07.\n",
      "\n",
      "EPOCH 47 of 100\n",
      "Training\n"
     ]
    },
    {
     "data": {
      "application/vnd.jupyter.widget-view+json": {
       "model_id": "c3f8ca29e2494f2e9ae4f66535c2a65a",
       "version_major": 2,
       "version_minor": 0
      },
      "text/plain": [
       "  0%|          | 0/12 [00:00<?, ?it/s]"
      ]
     },
     "metadata": {},
     "output_type": "display_data"
    },
    {
     "name": "stdout",
     "output_type": "stream",
     "text": [
      "Validating\n"
     ]
    },
    {
     "data": {
      "application/vnd.jupyter.widget-view+json": {
       "model_id": "6d1839be6d5343c0912a8667f9e10dc6",
       "version_major": 2,
       "version_minor": 0
      },
      "text/plain": [
       "  0%|          | 0/3 [00:00<?, ?it/s]"
      ]
     },
     "metadata": {},
     "output_type": "display_data"
    },
    {
     "name": "stdout",
     "output_type": "stream",
     "text": [
      "Epoch #47 train loss: 2.637\n",
      "Epoch #47 mAP@0.5: 74.01%\n",
      "Epoch #47 mAP@0.5:0.95: 34.47%\n",
      "Took 0.047 minutes for epoch 46\n",
      "SAVING PLOTS COMPLETE...\n",
      "Adjusting learning rate of group 0 to 1.0000e-07.\n",
      "\n",
      "EPOCH 48 of 100\n",
      "Training\n"
     ]
    },
    {
     "data": {
      "application/vnd.jupyter.widget-view+json": {
       "model_id": "24470f22d159474c842dcb94127facb5",
       "version_major": 2,
       "version_minor": 0
      },
      "text/plain": [
       "  0%|          | 0/12 [00:00<?, ?it/s]"
      ]
     },
     "metadata": {},
     "output_type": "display_data"
    },
    {
     "name": "stdout",
     "output_type": "stream",
     "text": [
      "Validating\n"
     ]
    },
    {
     "data": {
      "application/vnd.jupyter.widget-view+json": {
       "model_id": "03b46f9e96e74d31bdbc3769a4b40f93",
       "version_major": 2,
       "version_minor": 0
      },
      "text/plain": [
       "  0%|          | 0/3 [00:00<?, ?it/s]"
      ]
     },
     "metadata": {},
     "output_type": "display_data"
    },
    {
     "name": "stdout",
     "output_type": "stream",
     "text": [
      "Epoch #48 train loss: 2.611\n",
      "Epoch #48 mAP@0.5: 74.01%\n",
      "Epoch #48 mAP@0.5:0.95: 34.47%\n",
      "Took 0.049 minutes for epoch 47\n",
      "SAVING PLOTS COMPLETE...\n",
      "Adjusting learning rate of group 0 to 1.0000e-07.\n",
      "\n",
      "EPOCH 49 of 100\n",
      "Training\n"
     ]
    },
    {
     "data": {
      "application/vnd.jupyter.widget-view+json": {
       "model_id": "a92951b8ffa44367bb55510d2cfe57c9",
       "version_major": 2,
       "version_minor": 0
      },
      "text/plain": [
       "  0%|          | 0/12 [00:00<?, ?it/s]"
      ]
     },
     "metadata": {},
     "output_type": "display_data"
    },
    {
     "name": "stdout",
     "output_type": "stream",
     "text": [
      "Validating\n"
     ]
    },
    {
     "data": {
      "application/vnd.jupyter.widget-view+json": {
       "model_id": "227d9017e9e24815845dd83da0dc0a9c",
       "version_major": 2,
       "version_minor": 0
      },
      "text/plain": [
       "  0%|          | 0/3 [00:00<?, ?it/s]"
      ]
     },
     "metadata": {},
     "output_type": "display_data"
    },
    {
     "name": "stdout",
     "output_type": "stream",
     "text": [
      "Epoch #49 train loss: 2.619\n",
      "Epoch #49 mAP@0.5: 74.02%\n",
      "Epoch #49 mAP@0.5:0.95: 34.47%\n",
      "Took 0.047 minutes for epoch 48\n",
      "SAVING PLOTS COMPLETE...\n",
      "Adjusting learning rate of group 0 to 1.0000e-07.\n",
      "\n",
      "EPOCH 50 of 100\n",
      "Training\n"
     ]
    },
    {
     "data": {
      "application/vnd.jupyter.widget-view+json": {
       "model_id": "c8857e864b684b3c82e03e6722654198",
       "version_major": 2,
       "version_minor": 0
      },
      "text/plain": [
       "  0%|          | 0/12 [00:00<?, ?it/s]"
      ]
     },
     "metadata": {},
     "output_type": "display_data"
    },
    {
     "name": "stdout",
     "output_type": "stream",
     "text": [
      "Validating\n"
     ]
    },
    {
     "data": {
      "application/vnd.jupyter.widget-view+json": {
       "model_id": "82dd237602e5436782ab723dfec1bbe0",
       "version_major": 2,
       "version_minor": 0
      },
      "text/plain": [
       "  0%|          | 0/3 [00:00<?, ?it/s]"
      ]
     },
     "metadata": {},
     "output_type": "display_data"
    },
    {
     "name": "stdout",
     "output_type": "stream",
     "text": [
      "Epoch #50 train loss: 2.618\n",
      "Epoch #50 mAP@0.5: 74.02%\n",
      "Epoch #50 mAP@0.5:0.95: 34.47%\n",
      "Took 0.047 minutes for epoch 49\n",
      "SAVING PLOTS COMPLETE...\n",
      "Adjusting learning rate of group 0 to 1.0000e-07.\n",
      "\n",
      "EPOCH 51 of 100\n",
      "Training\n"
     ]
    },
    {
     "data": {
      "application/vnd.jupyter.widget-view+json": {
       "model_id": "a6656a7d9dae43898716b3c1b20cee98",
       "version_major": 2,
       "version_minor": 0
      },
      "text/plain": [
       "  0%|          | 0/12 [00:00<?, ?it/s]"
      ]
     },
     "metadata": {},
     "output_type": "display_data"
    },
    {
     "name": "stdout",
     "output_type": "stream",
     "text": [
      "Validating\n"
     ]
    },
    {
     "data": {
      "application/vnd.jupyter.widget-view+json": {
       "model_id": "f5141a15b30b4c13b51e939507367413",
       "version_major": 2,
       "version_minor": 0
      },
      "text/plain": [
       "  0%|          | 0/3 [00:00<?, ?it/s]"
      ]
     },
     "metadata": {},
     "output_type": "display_data"
    },
    {
     "name": "stdout",
     "output_type": "stream",
     "text": [
      "Epoch #51 train loss: 2.606\n",
      "Epoch #51 mAP@0.5: 74.02%\n",
      "Epoch #51 mAP@0.5:0.95: 34.47%\n",
      "Took 0.047 minutes for epoch 50\n",
      "SAVING PLOTS COMPLETE...\n",
      "Adjusting learning rate of group 0 to 1.0000e-07.\n",
      "\n",
      "EPOCH 52 of 100\n",
      "Training\n"
     ]
    },
    {
     "data": {
      "application/vnd.jupyter.widget-view+json": {
       "model_id": "42636f036fe04e5cbe1c836704ef66b8",
       "version_major": 2,
       "version_minor": 0
      },
      "text/plain": [
       "  0%|          | 0/12 [00:00<?, ?it/s]"
      ]
     },
     "metadata": {},
     "output_type": "display_data"
    },
    {
     "name": "stdout",
     "output_type": "stream",
     "text": [
      "Validating\n"
     ]
    },
    {
     "data": {
      "application/vnd.jupyter.widget-view+json": {
       "model_id": "d6aefa3d74ae45299aee721525087d41",
       "version_major": 2,
       "version_minor": 0
      },
      "text/plain": [
       "  0%|          | 0/3 [00:00<?, ?it/s]"
      ]
     },
     "metadata": {},
     "output_type": "display_data"
    },
    {
     "name": "stdout",
     "output_type": "stream",
     "text": [
      "Epoch #52 train loss: 2.614\n",
      "Epoch #52 mAP@0.5: 74.03%\n",
      "Epoch #52 mAP@0.5:0.95: 34.48%\n",
      "Took 0.046 minutes for epoch 51\n",
      "SAVING PLOTS COMPLETE...\n",
      "Adjusting learning rate of group 0 to 1.0000e-07.\n",
      "\n",
      "EPOCH 53 of 100\n",
      "Training\n"
     ]
    },
    {
     "data": {
      "application/vnd.jupyter.widget-view+json": {
       "model_id": "067bdfd353804616a0eb7615d0215529",
       "version_major": 2,
       "version_minor": 0
      },
      "text/plain": [
       "  0%|          | 0/12 [00:00<?, ?it/s]"
      ]
     },
     "metadata": {},
     "output_type": "display_data"
    },
    {
     "name": "stdout",
     "output_type": "stream",
     "text": [
      "Validating\n"
     ]
    },
    {
     "data": {
      "application/vnd.jupyter.widget-view+json": {
       "model_id": "90d7e865eb8142f395bc17d423233d30",
       "version_major": 2,
       "version_minor": 0
      },
      "text/plain": [
       "  0%|          | 0/3 [00:00<?, ?it/s]"
      ]
     },
     "metadata": {},
     "output_type": "display_data"
    },
    {
     "name": "stdout",
     "output_type": "stream",
     "text": [
      "Epoch #53 train loss: 2.618\n",
      "Epoch #53 mAP@0.5: 74.03%\n",
      "Epoch #53 mAP@0.5:0.95: 34.47%\n",
      "Took 0.047 minutes for epoch 52\n",
      "SAVING PLOTS COMPLETE...\n",
      "Adjusting learning rate of group 0 to 1.0000e-07.\n",
      "\n",
      "EPOCH 54 of 100\n",
      "Training\n"
     ]
    },
    {
     "data": {
      "application/vnd.jupyter.widget-view+json": {
       "model_id": "943c19b7897d4eb6ae6b3cd78d05e5ef",
       "version_major": 2,
       "version_minor": 0
      },
      "text/plain": [
       "  0%|          | 0/12 [00:00<?, ?it/s]"
      ]
     },
     "metadata": {},
     "output_type": "display_data"
    },
    {
     "name": "stdout",
     "output_type": "stream",
     "text": [
      "Validating\n"
     ]
    },
    {
     "data": {
      "application/vnd.jupyter.widget-view+json": {
       "model_id": "e476a8938a41461e916e053a994f6fac",
       "version_major": 2,
       "version_minor": 0
      },
      "text/plain": [
       "  0%|          | 0/3 [00:00<?, ?it/s]"
      ]
     },
     "metadata": {},
     "output_type": "display_data"
    },
    {
     "name": "stdout",
     "output_type": "stream",
     "text": [
      "Epoch #54 train loss: 2.608\n",
      "Epoch #54 mAP@0.5: 74.03%\n",
      "Epoch #54 mAP@0.5:0.95: 34.48%\n",
      "Took 0.047 minutes for epoch 53\n",
      "SAVING PLOTS COMPLETE...\n",
      "Adjusting learning rate of group 0 to 1.0000e-07.\n",
      "\n",
      "EPOCH 55 of 100\n",
      "Training\n"
     ]
    },
    {
     "data": {
      "application/vnd.jupyter.widget-view+json": {
       "model_id": "328be9ef56a54e388bacd64179ca1ed7",
       "version_major": 2,
       "version_minor": 0
      },
      "text/plain": [
       "  0%|          | 0/12 [00:00<?, ?it/s]"
      ]
     },
     "metadata": {},
     "output_type": "display_data"
    },
    {
     "name": "stdout",
     "output_type": "stream",
     "text": [
      "Validating\n"
     ]
    },
    {
     "data": {
      "application/vnd.jupyter.widget-view+json": {
       "model_id": "81495bcc617749ebb50fb87ea2e9c06a",
       "version_major": 2,
       "version_minor": 0
      },
      "text/plain": [
       "  0%|          | 0/3 [00:00<?, ?it/s]"
      ]
     },
     "metadata": {},
     "output_type": "display_data"
    },
    {
     "name": "stdout",
     "output_type": "stream",
     "text": [
      "Epoch #55 train loss: 2.606\n",
      "Epoch #55 mAP@0.5: 74.03%\n",
      "Epoch #55 mAP@0.5:0.95: 34.47%\n",
      "Took 0.048 minutes for epoch 54\n",
      "SAVING PLOTS COMPLETE...\n",
      "Adjusting learning rate of group 0 to 1.0000e-07.\n",
      "\n",
      "EPOCH 56 of 100\n",
      "Training\n"
     ]
    },
    {
     "data": {
      "application/vnd.jupyter.widget-view+json": {
       "model_id": "a9757888697545889bdd6ccc3b83a646",
       "version_major": 2,
       "version_minor": 0
      },
      "text/plain": [
       "  0%|          | 0/12 [00:00<?, ?it/s]"
      ]
     },
     "metadata": {},
     "output_type": "display_data"
    },
    {
     "name": "stdout",
     "output_type": "stream",
     "text": [
      "Validating\n"
     ]
    },
    {
     "data": {
      "application/vnd.jupyter.widget-view+json": {
       "model_id": "78d6eb5b1b66420ba8d65cefe4e10f23",
       "version_major": 2,
       "version_minor": 0
      },
      "text/plain": [
       "  0%|          | 0/3 [00:00<?, ?it/s]"
      ]
     },
     "metadata": {},
     "output_type": "display_data"
    },
    {
     "name": "stdout",
     "output_type": "stream",
     "text": [
      "Epoch #56 train loss: 2.612\n",
      "Epoch #56 mAP@0.5: 74.03%\n",
      "Epoch #56 mAP@0.5:0.95: 34.48%\n",
      "Took 0.047 minutes for epoch 55\n",
      "SAVING PLOTS COMPLETE...\n",
      "Adjusting learning rate of group 0 to 1.0000e-07.\n",
      "\n",
      "EPOCH 57 of 100\n",
      "Training\n"
     ]
    },
    {
     "data": {
      "application/vnd.jupyter.widget-view+json": {
       "model_id": "634dc9e2f8c745ee8aa1ccda8e84fb26",
       "version_major": 2,
       "version_minor": 0
      },
      "text/plain": [
       "  0%|          | 0/12 [00:00<?, ?it/s]"
      ]
     },
     "metadata": {},
     "output_type": "display_data"
    },
    {
     "name": "stdout",
     "output_type": "stream",
     "text": [
      "Validating\n"
     ]
    },
    {
     "data": {
      "application/vnd.jupyter.widget-view+json": {
       "model_id": "9c96221ab6794918b7ab7e69070fbf0f",
       "version_major": 2,
       "version_minor": 0
      },
      "text/plain": [
       "  0%|          | 0/3 [00:00<?, ?it/s]"
      ]
     },
     "metadata": {},
     "output_type": "display_data"
    },
    {
     "name": "stdout",
     "output_type": "stream",
     "text": [
      "Epoch #57 train loss: 2.601\n",
      "Epoch #57 mAP@0.5: 74.03%\n",
      "Epoch #57 mAP@0.5:0.95: 34.47%\n",
      "Took 0.048 minutes for epoch 56\n",
      "SAVING PLOTS COMPLETE...\n",
      "Adjusting learning rate of group 0 to 1.0000e-07.\n",
      "\n",
      "EPOCH 58 of 100\n",
      "Training\n"
     ]
    },
    {
     "data": {
      "application/vnd.jupyter.widget-view+json": {
       "model_id": "562d1dd005ca4751bc8c7da620f0842f",
       "version_major": 2,
       "version_minor": 0
      },
      "text/plain": [
       "  0%|          | 0/12 [00:00<?, ?it/s]"
      ]
     },
     "metadata": {},
     "output_type": "display_data"
    },
    {
     "name": "stdout",
     "output_type": "stream",
     "text": [
      "Validating\n"
     ]
    },
    {
     "data": {
      "application/vnd.jupyter.widget-view+json": {
       "model_id": "ec33c5c0089643268cae49c0b33aff18",
       "version_major": 2,
       "version_minor": 0
      },
      "text/plain": [
       "  0%|          | 0/3 [00:00<?, ?it/s]"
      ]
     },
     "metadata": {},
     "output_type": "display_data"
    },
    {
     "name": "stdout",
     "output_type": "stream",
     "text": [
      "Epoch #58 train loss: 2.604\n",
      "Epoch #58 mAP@0.5: 74.03%\n",
      "Epoch #58 mAP@0.5:0.95: 34.47%\n",
      "Took 0.047 minutes for epoch 57\n",
      "SAVING PLOTS COMPLETE...\n",
      "Adjusting learning rate of group 0 to 1.0000e-07.\n",
      "\n",
      "EPOCH 59 of 100\n",
      "Training\n"
     ]
    },
    {
     "data": {
      "application/vnd.jupyter.widget-view+json": {
       "model_id": "72339160a5184e23ab7d00e9d63eb8cf",
       "version_major": 2,
       "version_minor": 0
      },
      "text/plain": [
       "  0%|          | 0/12 [00:00<?, ?it/s]"
      ]
     },
     "metadata": {},
     "output_type": "display_data"
    },
    {
     "name": "stdout",
     "output_type": "stream",
     "text": [
      "Validating\n"
     ]
    },
    {
     "data": {
      "application/vnd.jupyter.widget-view+json": {
       "model_id": "f522d5e8eb1742229ca3c8358d8486f2",
       "version_major": 2,
       "version_minor": 0
      },
      "text/plain": [
       "  0%|          | 0/3 [00:00<?, ?it/s]"
      ]
     },
     "metadata": {},
     "output_type": "display_data"
    },
    {
     "name": "stdout",
     "output_type": "stream",
     "text": [
      "Epoch #59 train loss: 2.620\n",
      "Epoch #59 mAP@0.5: 74.03%\n",
      "Epoch #59 mAP@0.5:0.95: 34.47%\n",
      "Took 0.047 minutes for epoch 58\n",
      "SAVING PLOTS COMPLETE...\n",
      "Adjusting learning rate of group 0 to 1.0000e-07.\n",
      "\n",
      "EPOCH 60 of 100\n",
      "Training\n"
     ]
    },
    {
     "data": {
      "application/vnd.jupyter.widget-view+json": {
       "model_id": "f53b360e77b047fdb4637a7aa6664167",
       "version_major": 2,
       "version_minor": 0
      },
      "text/plain": [
       "  0%|          | 0/12 [00:00<?, ?it/s]"
      ]
     },
     "metadata": {},
     "output_type": "display_data"
    },
    {
     "name": "stdout",
     "output_type": "stream",
     "text": [
      "Validating\n"
     ]
    },
    {
     "data": {
      "application/vnd.jupyter.widget-view+json": {
       "model_id": "109a955dcb8a4d7180f4035ae2fce8ee",
       "version_major": 2,
       "version_minor": 0
      },
      "text/plain": [
       "  0%|          | 0/3 [00:00<?, ?it/s]"
      ]
     },
     "metadata": {},
     "output_type": "display_data"
    },
    {
     "name": "stdout",
     "output_type": "stream",
     "text": [
      "Epoch #60 train loss: 2.606\n",
      "Epoch #60 mAP@0.5: 74.03%\n",
      "Epoch #60 mAP@0.5:0.95: 34.47%\n",
      "Took 0.047 minutes for epoch 59\n",
      "SAVING PLOTS COMPLETE...\n",
      "Adjusting learning rate of group 0 to 1.0000e-08.\n",
      "\n",
      "EPOCH 61 of 100\n",
      "Training\n"
     ]
    },
    {
     "data": {
      "application/vnd.jupyter.widget-view+json": {
       "model_id": "50c62f875db442acba570427d9ee29d0",
       "version_major": 2,
       "version_minor": 0
      },
      "text/plain": [
       "  0%|          | 0/12 [00:00<?, ?it/s]"
      ]
     },
     "metadata": {},
     "output_type": "display_data"
    },
    {
     "name": "stdout",
     "output_type": "stream",
     "text": [
      "Validating\n"
     ]
    },
    {
     "data": {
      "application/vnd.jupyter.widget-view+json": {
       "model_id": "b81d403f4abd4842a1e2c6a9bfda19dc",
       "version_major": 2,
       "version_minor": 0
      },
      "text/plain": [
       "  0%|          | 0/3 [00:00<?, ?it/s]"
      ]
     },
     "metadata": {},
     "output_type": "display_data"
    },
    {
     "name": "stdout",
     "output_type": "stream",
     "text": [
      "Epoch #61 train loss: 2.597\n",
      "Epoch #61 mAP@0.5: 74.03%\n",
      "Epoch #61 mAP@0.5:0.95: 34.47%\n",
      "Took 0.048 minutes for epoch 60\n",
      "SAVING PLOTS COMPLETE...\n",
      "Adjusting learning rate of group 0 to 1.0000e-08.\n",
      "\n",
      "EPOCH 62 of 100\n",
      "Training\n"
     ]
    },
    {
     "data": {
      "application/vnd.jupyter.widget-view+json": {
       "model_id": "be217e49ff0144d4b4153e514541bd92",
       "version_major": 2,
       "version_minor": 0
      },
      "text/plain": [
       "  0%|          | 0/12 [00:00<?, ?it/s]"
      ]
     },
     "metadata": {},
     "output_type": "display_data"
    },
    {
     "name": "stdout",
     "output_type": "stream",
     "text": [
      "Validating\n"
     ]
    },
    {
     "data": {
      "application/vnd.jupyter.widget-view+json": {
       "model_id": "be3349fc64674dd2b4f97330f2c6df2b",
       "version_major": 2,
       "version_minor": 0
      },
      "text/plain": [
       "  0%|          | 0/3 [00:00<?, ?it/s]"
      ]
     },
     "metadata": {},
     "output_type": "display_data"
    },
    {
     "name": "stdout",
     "output_type": "stream",
     "text": [
      "Epoch #62 train loss: 2.625\n",
      "Epoch #62 mAP@0.5: 74.03%\n",
      "Epoch #62 mAP@0.5:0.95: 34.47%\n",
      "Took 0.048 minutes for epoch 61\n",
      "SAVING PLOTS COMPLETE...\n",
      "Adjusting learning rate of group 0 to 1.0000e-08.\n",
      "\n",
      "EPOCH 63 of 100\n",
      "Training\n"
     ]
    },
    {
     "data": {
      "application/vnd.jupyter.widget-view+json": {
       "model_id": "3aab5372731b41f0b0fc7e74fdcce16a",
       "version_major": 2,
       "version_minor": 0
      },
      "text/plain": [
       "  0%|          | 0/12 [00:00<?, ?it/s]"
      ]
     },
     "metadata": {},
     "output_type": "display_data"
    },
    {
     "name": "stdout",
     "output_type": "stream",
     "text": [
      "Validating\n"
     ]
    },
    {
     "data": {
      "application/vnd.jupyter.widget-view+json": {
       "model_id": "7a1227e99b8d40a09979e9f6ad9d661e",
       "version_major": 2,
       "version_minor": 0
      },
      "text/plain": [
       "  0%|          | 0/3 [00:00<?, ?it/s]"
      ]
     },
     "metadata": {},
     "output_type": "display_data"
    },
    {
     "name": "stdout",
     "output_type": "stream",
     "text": [
      "Epoch #63 train loss: 2.616\n",
      "Epoch #63 mAP@0.5: 74.03%\n",
      "Epoch #63 mAP@0.5:0.95: 34.47%\n",
      "Took 0.047 minutes for epoch 62\n",
      "SAVING PLOTS COMPLETE...\n",
      "Adjusting learning rate of group 0 to 1.0000e-08.\n",
      "\n",
      "EPOCH 64 of 100\n",
      "Training\n"
     ]
    },
    {
     "data": {
      "application/vnd.jupyter.widget-view+json": {
       "model_id": "90004583748b4c08a8f5973896f9044d",
       "version_major": 2,
       "version_minor": 0
      },
      "text/plain": [
       "  0%|          | 0/12 [00:00<?, ?it/s]"
      ]
     },
     "metadata": {},
     "output_type": "display_data"
    },
    {
     "name": "stdout",
     "output_type": "stream",
     "text": [
      "Validating\n"
     ]
    },
    {
     "data": {
      "application/vnd.jupyter.widget-view+json": {
       "model_id": "ec99342506ec48f3b8ca8fabf81e7010",
       "version_major": 2,
       "version_minor": 0
      },
      "text/plain": [
       "  0%|          | 0/3 [00:00<?, ?it/s]"
      ]
     },
     "metadata": {},
     "output_type": "display_data"
    },
    {
     "name": "stdout",
     "output_type": "stream",
     "text": [
      "Epoch #64 train loss: 2.612\n",
      "Epoch #64 mAP@0.5: 74.03%\n",
      "Epoch #64 mAP@0.5:0.95: 34.47%\n",
      "Took 0.047 minutes for epoch 63\n",
      "SAVING PLOTS COMPLETE...\n",
      "Adjusting learning rate of group 0 to 1.0000e-08.\n",
      "\n",
      "EPOCH 65 of 100\n",
      "Training\n"
     ]
    },
    {
     "data": {
      "application/vnd.jupyter.widget-view+json": {
       "model_id": "4b64ac4cd0224c5491c447c2aa0372cf",
       "version_major": 2,
       "version_minor": 0
      },
      "text/plain": [
       "  0%|          | 0/12 [00:00<?, ?it/s]"
      ]
     },
     "metadata": {},
     "output_type": "display_data"
    },
    {
     "name": "stdout",
     "output_type": "stream",
     "text": [
      "Validating\n"
     ]
    },
    {
     "data": {
      "application/vnd.jupyter.widget-view+json": {
       "model_id": "a88db5e67b2d4156bc30c0d96fd542db",
       "version_major": 2,
       "version_minor": 0
      },
      "text/plain": [
       "  0%|          | 0/3 [00:00<?, ?it/s]"
      ]
     },
     "metadata": {},
     "output_type": "display_data"
    },
    {
     "name": "stdout",
     "output_type": "stream",
     "text": [
      "Epoch #65 train loss: 2.633\n",
      "Epoch #65 mAP@0.5: 74.03%\n",
      "Epoch #65 mAP@0.5:0.95: 34.47%\n",
      "Took 0.047 minutes for epoch 64\n",
      "SAVING PLOTS COMPLETE...\n",
      "Adjusting learning rate of group 0 to 1.0000e-08.\n",
      "\n",
      "EPOCH 66 of 100\n",
      "Training\n"
     ]
    },
    {
     "data": {
      "application/vnd.jupyter.widget-view+json": {
       "model_id": "c1ee0422bdc34e63a18ea13801a59526",
       "version_major": 2,
       "version_minor": 0
      },
      "text/plain": [
       "  0%|          | 0/12 [00:00<?, ?it/s]"
      ]
     },
     "metadata": {},
     "output_type": "display_data"
    },
    {
     "name": "stdout",
     "output_type": "stream",
     "text": [
      "Validating\n"
     ]
    },
    {
     "data": {
      "application/vnd.jupyter.widget-view+json": {
       "model_id": "8df58c74fec94cc1b69e2c111a70d264",
       "version_major": 2,
       "version_minor": 0
      },
      "text/plain": [
       "  0%|          | 0/3 [00:00<?, ?it/s]"
      ]
     },
     "metadata": {},
     "output_type": "display_data"
    },
    {
     "name": "stdout",
     "output_type": "stream",
     "text": [
      "Epoch #66 train loss: 2.610\n",
      "Epoch #66 mAP@0.5: 74.03%\n",
      "Epoch #66 mAP@0.5:0.95: 34.47%\n",
      "Took 0.047 minutes for epoch 65\n",
      "SAVING PLOTS COMPLETE...\n",
      "Adjusting learning rate of group 0 to 1.0000e-08.\n",
      "\n",
      "EPOCH 67 of 100\n",
      "Training\n"
     ]
    },
    {
     "data": {
      "application/vnd.jupyter.widget-view+json": {
       "model_id": "725d19727077444f90f5f78b7512c677",
       "version_major": 2,
       "version_minor": 0
      },
      "text/plain": [
       "  0%|          | 0/12 [00:00<?, ?it/s]"
      ]
     },
     "metadata": {},
     "output_type": "display_data"
    },
    {
     "name": "stdout",
     "output_type": "stream",
     "text": [
      "Validating\n"
     ]
    },
    {
     "data": {
      "application/vnd.jupyter.widget-view+json": {
       "model_id": "1e4f0a9fa9d847d09cca7796ecf341f4",
       "version_major": 2,
       "version_minor": 0
      },
      "text/plain": [
       "  0%|          | 0/3 [00:00<?, ?it/s]"
      ]
     },
     "metadata": {},
     "output_type": "display_data"
    },
    {
     "name": "stdout",
     "output_type": "stream",
     "text": [
      "Epoch #67 train loss: 2.601\n",
      "Epoch #67 mAP@0.5: 74.03%\n",
      "Epoch #67 mAP@0.5:0.95: 34.47%\n",
      "Took 0.047 minutes for epoch 66\n",
      "SAVING PLOTS COMPLETE...\n",
      "Adjusting learning rate of group 0 to 1.0000e-08.\n",
      "\n",
      "EPOCH 68 of 100\n",
      "Training\n"
     ]
    },
    {
     "data": {
      "application/vnd.jupyter.widget-view+json": {
       "model_id": "85b86d75c4c543d18a4725dd961fae7f",
       "version_major": 2,
       "version_minor": 0
      },
      "text/plain": [
       "  0%|          | 0/12 [00:00<?, ?it/s]"
      ]
     },
     "metadata": {},
     "output_type": "display_data"
    },
    {
     "name": "stdout",
     "output_type": "stream",
     "text": [
      "Validating\n"
     ]
    },
    {
     "data": {
      "application/vnd.jupyter.widget-view+json": {
       "model_id": "c0ff416d0b2b4ff88eab4a6316d66b71",
       "version_major": 2,
       "version_minor": 0
      },
      "text/plain": [
       "  0%|          | 0/3 [00:00<?, ?it/s]"
      ]
     },
     "metadata": {},
     "output_type": "display_data"
    },
    {
     "name": "stdout",
     "output_type": "stream",
     "text": [
      "Epoch #68 train loss: 2.616\n",
      "Epoch #68 mAP@0.5: 74.03%\n",
      "Epoch #68 mAP@0.5:0.95: 34.47%\n",
      "Took 0.047 minutes for epoch 67\n",
      "SAVING PLOTS COMPLETE...\n",
      "Adjusting learning rate of group 0 to 1.0000e-08.\n",
      "\n",
      "EPOCH 69 of 100\n",
      "Training\n"
     ]
    },
    {
     "data": {
      "application/vnd.jupyter.widget-view+json": {
       "model_id": "593d948deca24592a2f9886c1df58c53",
       "version_major": 2,
       "version_minor": 0
      },
      "text/plain": [
       "  0%|          | 0/12 [00:00<?, ?it/s]"
      ]
     },
     "metadata": {},
     "output_type": "display_data"
    },
    {
     "name": "stdout",
     "output_type": "stream",
     "text": [
      "Validating\n"
     ]
    },
    {
     "data": {
      "application/vnd.jupyter.widget-view+json": {
       "model_id": "7967d99dd49b449182dc754f737db8d4",
       "version_major": 2,
       "version_minor": 0
      },
      "text/plain": [
       "  0%|          | 0/3 [00:00<?, ?it/s]"
      ]
     },
     "metadata": {},
     "output_type": "display_data"
    },
    {
     "name": "stdout",
     "output_type": "stream",
     "text": [
      "Epoch #69 train loss: 2.611\n",
      "Epoch #69 mAP@0.5: 74.03%\n",
      "Epoch #69 mAP@0.5:0.95: 34.47%\n",
      "Took 0.047 minutes for epoch 68\n",
      "SAVING PLOTS COMPLETE...\n",
      "Adjusting learning rate of group 0 to 1.0000e-08.\n",
      "\n",
      "EPOCH 70 of 100\n",
      "Training\n"
     ]
    },
    {
     "data": {
      "application/vnd.jupyter.widget-view+json": {
       "model_id": "0b42dc9d9bc2475e9ccbc745ff41b866",
       "version_major": 2,
       "version_minor": 0
      },
      "text/plain": [
       "  0%|          | 0/12 [00:00<?, ?it/s]"
      ]
     },
     "metadata": {},
     "output_type": "display_data"
    },
    {
     "name": "stdout",
     "output_type": "stream",
     "text": [
      "Validating\n"
     ]
    },
    {
     "data": {
      "application/vnd.jupyter.widget-view+json": {
       "model_id": "5b8354308c0040b488c902e81799237b",
       "version_major": 2,
       "version_minor": 0
      },
      "text/plain": [
       "  0%|          | 0/3 [00:00<?, ?it/s]"
      ]
     },
     "metadata": {},
     "output_type": "display_data"
    },
    {
     "name": "stdout",
     "output_type": "stream",
     "text": [
      "Epoch #70 train loss: 2.612\n",
      "Epoch #70 mAP@0.5: 74.03%\n",
      "Epoch #70 mAP@0.5:0.95: 34.47%\n",
      "Took 0.048 minutes for epoch 69\n",
      "SAVING PLOTS COMPLETE...\n",
      "Adjusting learning rate of group 0 to 1.0000e-08.\n",
      "\n",
      "EPOCH 71 of 100\n",
      "Training\n"
     ]
    },
    {
     "data": {
      "application/vnd.jupyter.widget-view+json": {
       "model_id": "62c18c2026fb4f3db3224a58e96e7a54",
       "version_major": 2,
       "version_minor": 0
      },
      "text/plain": [
       "  0%|          | 0/12 [00:00<?, ?it/s]"
      ]
     },
     "metadata": {},
     "output_type": "display_data"
    },
    {
     "name": "stdout",
     "output_type": "stream",
     "text": [
      "Validating\n"
     ]
    },
    {
     "data": {
      "application/vnd.jupyter.widget-view+json": {
       "model_id": "5b43873e75d4439b8b870d349d474637",
       "version_major": 2,
       "version_minor": 0
      },
      "text/plain": [
       "  0%|          | 0/3 [00:00<?, ?it/s]"
      ]
     },
     "metadata": {},
     "output_type": "display_data"
    },
    {
     "name": "stdout",
     "output_type": "stream",
     "text": [
      "Epoch #71 train loss: 2.621\n",
      "Epoch #71 mAP@0.5: 74.03%\n",
      "Epoch #71 mAP@0.5:0.95: 34.47%\n",
      "Took 0.047 minutes for epoch 70\n",
      "SAVING PLOTS COMPLETE...\n",
      "Adjusting learning rate of group 0 to 1.0000e-08.\n",
      "\n",
      "EPOCH 72 of 100\n",
      "Training\n"
     ]
    },
    {
     "data": {
      "application/vnd.jupyter.widget-view+json": {
       "model_id": "183fe858db6c4195af4848bedf9cb681",
       "version_major": 2,
       "version_minor": 0
      },
      "text/plain": [
       "  0%|          | 0/12 [00:00<?, ?it/s]"
      ]
     },
     "metadata": {},
     "output_type": "display_data"
    },
    {
     "name": "stdout",
     "output_type": "stream",
     "text": [
      "Validating\n"
     ]
    },
    {
     "data": {
      "application/vnd.jupyter.widget-view+json": {
       "model_id": "b738e6d4462b43b68ffc1033a083be80",
       "version_major": 2,
       "version_minor": 0
      },
      "text/plain": [
       "  0%|          | 0/3 [00:00<?, ?it/s]"
      ]
     },
     "metadata": {},
     "output_type": "display_data"
    },
    {
     "name": "stdout",
     "output_type": "stream",
     "text": [
      "Epoch #72 train loss: 2.611\n",
      "Epoch #72 mAP@0.5: 74.03%\n",
      "Epoch #72 mAP@0.5:0.95: 34.47%\n",
      "Took 0.047 minutes for epoch 71\n",
      "SAVING PLOTS COMPLETE...\n",
      "Adjusting learning rate of group 0 to 1.0000e-08.\n",
      "\n",
      "EPOCH 73 of 100\n",
      "Training\n"
     ]
    },
    {
     "data": {
      "application/vnd.jupyter.widget-view+json": {
       "model_id": "55025af16a924142ac5548c3208d19d2",
       "version_major": 2,
       "version_minor": 0
      },
      "text/plain": [
       "  0%|          | 0/12 [00:00<?, ?it/s]"
      ]
     },
     "metadata": {},
     "output_type": "display_data"
    },
    {
     "name": "stdout",
     "output_type": "stream",
     "text": [
      "Validating\n"
     ]
    },
    {
     "data": {
      "application/vnd.jupyter.widget-view+json": {
       "model_id": "40d22469f648421bb708bc0d30a5b0e2",
       "version_major": 2,
       "version_minor": 0
      },
      "text/plain": [
       "  0%|          | 0/3 [00:00<?, ?it/s]"
      ]
     },
     "metadata": {},
     "output_type": "display_data"
    },
    {
     "name": "stdout",
     "output_type": "stream",
     "text": [
      "Epoch #73 train loss: 2.622\n",
      "Epoch #73 mAP@0.5: 74.03%\n",
      "Epoch #73 mAP@0.5:0.95: 34.47%\n",
      "Took 0.047 minutes for epoch 72\n",
      "SAVING PLOTS COMPLETE...\n",
      "Adjusting learning rate of group 0 to 1.0000e-08.\n",
      "\n",
      "EPOCH 74 of 100\n",
      "Training\n"
     ]
    },
    {
     "data": {
      "application/vnd.jupyter.widget-view+json": {
       "model_id": "088adcb578234f73958e29b41dd96f54",
       "version_major": 2,
       "version_minor": 0
      },
      "text/plain": [
       "  0%|          | 0/12 [00:00<?, ?it/s]"
      ]
     },
     "metadata": {},
     "output_type": "display_data"
    },
    {
     "name": "stdout",
     "output_type": "stream",
     "text": [
      "Validating\n"
     ]
    },
    {
     "data": {
      "application/vnd.jupyter.widget-view+json": {
       "model_id": "e527a45705174f76af0ce3400b8b5150",
       "version_major": 2,
       "version_minor": 0
      },
      "text/plain": [
       "  0%|          | 0/3 [00:00<?, ?it/s]"
      ]
     },
     "metadata": {},
     "output_type": "display_data"
    },
    {
     "name": "stdout",
     "output_type": "stream",
     "text": [
      "Epoch #74 train loss: 2.621\n",
      "Epoch #74 mAP@0.5: 74.03%\n",
      "Epoch #74 mAP@0.5:0.95: 34.47%\n",
      "Took 0.047 minutes for epoch 73\n",
      "SAVING PLOTS COMPLETE...\n",
      "Adjusting learning rate of group 0 to 1.0000e-08.\n",
      "\n",
      "EPOCH 75 of 100\n",
      "Training\n"
     ]
    },
    {
     "data": {
      "application/vnd.jupyter.widget-view+json": {
       "model_id": "1e8d8191696642c394121f0df0cf55be",
       "version_major": 2,
       "version_minor": 0
      },
      "text/plain": [
       "  0%|          | 0/12 [00:00<?, ?it/s]"
      ]
     },
     "metadata": {},
     "output_type": "display_data"
    },
    {
     "name": "stdout",
     "output_type": "stream",
     "text": [
      "Validating\n"
     ]
    },
    {
     "data": {
      "application/vnd.jupyter.widget-view+json": {
       "model_id": "dbe1ac46c4fb448eb52ddc8c300049ff",
       "version_major": 2,
       "version_minor": 0
      },
      "text/plain": [
       "  0%|          | 0/3 [00:00<?, ?it/s]"
      ]
     },
     "metadata": {},
     "output_type": "display_data"
    },
    {
     "name": "stdout",
     "output_type": "stream",
     "text": [
      "Epoch #75 train loss: 2.613\n",
      "Epoch #75 mAP@0.5: 74.03%\n",
      "Epoch #75 mAP@0.5:0.95: 34.47%\n",
      "Took 0.047 minutes for epoch 74\n",
      "SAVING PLOTS COMPLETE...\n",
      "Adjusting learning rate of group 0 to 1.0000e-09.\n",
      "\n",
      "EPOCH 76 of 100\n",
      "Training\n"
     ]
    },
    {
     "data": {
      "application/vnd.jupyter.widget-view+json": {
       "model_id": "9c8eefdceffd47c4a11a6a26ec77a3f3",
       "version_major": 2,
       "version_minor": 0
      },
      "text/plain": [
       "  0%|          | 0/12 [00:00<?, ?it/s]"
      ]
     },
     "metadata": {},
     "output_type": "display_data"
    },
    {
     "name": "stdout",
     "output_type": "stream",
     "text": [
      "Validating\n"
     ]
    },
    {
     "data": {
      "application/vnd.jupyter.widget-view+json": {
       "model_id": "760a86aea4464ac6bd56dd83e0b930ed",
       "version_major": 2,
       "version_minor": 0
      },
      "text/plain": [
       "  0%|          | 0/3 [00:00<?, ?it/s]"
      ]
     },
     "metadata": {},
     "output_type": "display_data"
    },
    {
     "name": "stdout",
     "output_type": "stream",
     "text": [
      "Epoch #76 train loss: 2.609\n",
      "Epoch #76 mAP@0.5: 74.03%\n",
      "Epoch #76 mAP@0.5:0.95: 34.47%\n",
      "Took 0.047 minutes for epoch 75\n",
      "SAVING PLOTS COMPLETE...\n",
      "Adjusting learning rate of group 0 to 1.0000e-09.\n",
      "\n",
      "EPOCH 77 of 100\n",
      "Training\n"
     ]
    },
    {
     "data": {
      "application/vnd.jupyter.widget-view+json": {
       "model_id": "6448482da8534b3cab970664dca76e24",
       "version_major": 2,
       "version_minor": 0
      },
      "text/plain": [
       "  0%|          | 0/12 [00:00<?, ?it/s]"
      ]
     },
     "metadata": {},
     "output_type": "display_data"
    },
    {
     "name": "stdout",
     "output_type": "stream",
     "text": [
      "Validating\n"
     ]
    },
    {
     "data": {
      "application/vnd.jupyter.widget-view+json": {
       "model_id": "07ba8f5129fb4976b8ee8ee74d4c8794",
       "version_major": 2,
       "version_minor": 0
      },
      "text/plain": [
       "  0%|          | 0/3 [00:00<?, ?it/s]"
      ]
     },
     "metadata": {},
     "output_type": "display_data"
    },
    {
     "name": "stdout",
     "output_type": "stream",
     "text": [
      "Epoch #77 train loss: 2.603\n",
      "Epoch #77 mAP@0.5: 74.03%\n",
      "Epoch #77 mAP@0.5:0.95: 34.47%\n",
      "Took 0.048 minutes for epoch 76\n",
      "SAVING PLOTS COMPLETE...\n",
      "Adjusting learning rate of group 0 to 1.0000e-09.\n",
      "\n",
      "EPOCH 78 of 100\n",
      "Training\n"
     ]
    },
    {
     "data": {
      "application/vnd.jupyter.widget-view+json": {
       "model_id": "e64d992fb6424e5dbbfe7b7719178386",
       "version_major": 2,
       "version_minor": 0
      },
      "text/plain": [
       "  0%|          | 0/12 [00:00<?, ?it/s]"
      ]
     },
     "metadata": {},
     "output_type": "display_data"
    },
    {
     "name": "stdout",
     "output_type": "stream",
     "text": [
      "Validating\n"
     ]
    },
    {
     "data": {
      "application/vnd.jupyter.widget-view+json": {
       "model_id": "38e959f0a4b841f4a6e992c4d7eb7e30",
       "version_major": 2,
       "version_minor": 0
      },
      "text/plain": [
       "  0%|          | 0/3 [00:00<?, ?it/s]"
      ]
     },
     "metadata": {},
     "output_type": "display_data"
    },
    {
     "name": "stdout",
     "output_type": "stream",
     "text": [
      "Epoch #78 train loss: 2.631\n",
      "Epoch #78 mAP@0.5: 74.03%\n",
      "Epoch #78 mAP@0.5:0.95: 34.47%\n",
      "Took 0.047 minutes for epoch 77\n",
      "SAVING PLOTS COMPLETE...\n",
      "Adjusting learning rate of group 0 to 1.0000e-09.\n",
      "\n",
      "EPOCH 79 of 100\n",
      "Training\n"
     ]
    },
    {
     "data": {
      "application/vnd.jupyter.widget-view+json": {
       "model_id": "48d0cd9845fe4cbc87563800a90d5774",
       "version_major": 2,
       "version_minor": 0
      },
      "text/plain": [
       "  0%|          | 0/12 [00:00<?, ?it/s]"
      ]
     },
     "metadata": {},
     "output_type": "display_data"
    },
    {
     "name": "stdout",
     "output_type": "stream",
     "text": [
      "Validating\n"
     ]
    },
    {
     "data": {
      "application/vnd.jupyter.widget-view+json": {
       "model_id": "f16c9f41eac54b12be5dce42077ef855",
       "version_major": 2,
       "version_minor": 0
      },
      "text/plain": [
       "  0%|          | 0/3 [00:00<?, ?it/s]"
      ]
     },
     "metadata": {},
     "output_type": "display_data"
    },
    {
     "name": "stdout",
     "output_type": "stream",
     "text": [
      "Epoch #79 train loss: 2.615\n",
      "Epoch #79 mAP@0.5: 74.03%\n",
      "Epoch #79 mAP@0.5:0.95: 34.47%\n",
      "Took 0.047 minutes for epoch 78\n",
      "SAVING PLOTS COMPLETE...\n",
      "Adjusting learning rate of group 0 to 1.0000e-09.\n",
      "\n",
      "EPOCH 80 of 100\n",
      "Training\n"
     ]
    },
    {
     "data": {
      "application/vnd.jupyter.widget-view+json": {
       "model_id": "504f16d32b5f4a1081080323160882b0",
       "version_major": 2,
       "version_minor": 0
      },
      "text/plain": [
       "  0%|          | 0/12 [00:00<?, ?it/s]"
      ]
     },
     "metadata": {},
     "output_type": "display_data"
    },
    {
     "name": "stdout",
     "output_type": "stream",
     "text": [
      "Validating\n"
     ]
    },
    {
     "data": {
      "application/vnd.jupyter.widget-view+json": {
       "model_id": "cda19b7649324111a3c4a64f198ba683",
       "version_major": 2,
       "version_minor": 0
      },
      "text/plain": [
       "  0%|          | 0/3 [00:00<?, ?it/s]"
      ]
     },
     "metadata": {},
     "output_type": "display_data"
    },
    {
     "name": "stdout",
     "output_type": "stream",
     "text": [
      "Epoch #80 train loss: 2.603\n",
      "Epoch #80 mAP@0.5: 74.03%\n",
      "Epoch #80 mAP@0.5:0.95: 34.47%\n",
      "Took 0.047 minutes for epoch 79\n",
      "SAVING PLOTS COMPLETE...\n",
      "Adjusting learning rate of group 0 to 1.0000e-09.\n",
      "\n",
      "EPOCH 81 of 100\n",
      "Training\n"
     ]
    },
    {
     "data": {
      "application/vnd.jupyter.widget-view+json": {
       "model_id": "485b782a069541cb89a14fc22eda7c1c",
       "version_major": 2,
       "version_minor": 0
      },
      "text/plain": [
       "  0%|          | 0/12 [00:00<?, ?it/s]"
      ]
     },
     "metadata": {},
     "output_type": "display_data"
    },
    {
     "name": "stdout",
     "output_type": "stream",
     "text": [
      "Validating\n"
     ]
    },
    {
     "data": {
      "application/vnd.jupyter.widget-view+json": {
       "model_id": "a761dfe39561438db306a77bb3026148",
       "version_major": 2,
       "version_minor": 0
      },
      "text/plain": [
       "  0%|          | 0/3 [00:00<?, ?it/s]"
      ]
     },
     "metadata": {},
     "output_type": "display_data"
    },
    {
     "name": "stdout",
     "output_type": "stream",
     "text": [
      "Epoch #81 train loss: 2.617\n",
      "Epoch #81 mAP@0.5: 74.03%\n",
      "Epoch #81 mAP@0.5:0.95: 34.47%\n",
      "Took 0.047 minutes for epoch 80\n",
      "SAVING PLOTS COMPLETE...\n",
      "Adjusting learning rate of group 0 to 1.0000e-09.\n",
      "\n",
      "EPOCH 82 of 100\n",
      "Training\n"
     ]
    },
    {
     "data": {
      "application/vnd.jupyter.widget-view+json": {
       "model_id": "29db4ef7b7df42dc87741683ecc3e40d",
       "version_major": 2,
       "version_minor": 0
      },
      "text/plain": [
       "  0%|          | 0/12 [00:00<?, ?it/s]"
      ]
     },
     "metadata": {},
     "output_type": "display_data"
    },
    {
     "name": "stdout",
     "output_type": "stream",
     "text": [
      "Validating\n"
     ]
    },
    {
     "data": {
      "application/vnd.jupyter.widget-view+json": {
       "model_id": "b6b1caaaf8e041769144c72be4beef13",
       "version_major": 2,
       "version_minor": 0
      },
      "text/plain": [
       "  0%|          | 0/3 [00:00<?, ?it/s]"
      ]
     },
     "metadata": {},
     "output_type": "display_data"
    },
    {
     "name": "stdout",
     "output_type": "stream",
     "text": [
      "Epoch #82 train loss: 2.607\n",
      "Epoch #82 mAP@0.5: 74.03%\n",
      "Epoch #82 mAP@0.5:0.95: 34.47%\n",
      "Took 0.048 minutes for epoch 81\n",
      "SAVING PLOTS COMPLETE...\n",
      "Adjusting learning rate of group 0 to 1.0000e-09.\n",
      "\n",
      "EPOCH 83 of 100\n",
      "Training\n"
     ]
    },
    {
     "data": {
      "application/vnd.jupyter.widget-view+json": {
       "model_id": "65079c76ef1349d78cd3a93cd1dd6113",
       "version_major": 2,
       "version_minor": 0
      },
      "text/plain": [
       "  0%|          | 0/12 [00:00<?, ?it/s]"
      ]
     },
     "metadata": {},
     "output_type": "display_data"
    },
    {
     "name": "stdout",
     "output_type": "stream",
     "text": [
      "Validating\n"
     ]
    },
    {
     "data": {
      "application/vnd.jupyter.widget-view+json": {
       "model_id": "c5752ea413c7493c9db291885d98baa1",
       "version_major": 2,
       "version_minor": 0
      },
      "text/plain": [
       "  0%|          | 0/3 [00:00<?, ?it/s]"
      ]
     },
     "metadata": {},
     "output_type": "display_data"
    },
    {
     "name": "stdout",
     "output_type": "stream",
     "text": [
      "Epoch #83 train loss: 2.608\n",
      "Epoch #83 mAP@0.5: 74.03%\n",
      "Epoch #83 mAP@0.5:0.95: 34.47%\n",
      "Took 0.050 minutes for epoch 82\n",
      "SAVING PLOTS COMPLETE...\n",
      "Adjusting learning rate of group 0 to 1.0000e-09.\n",
      "\n",
      "EPOCH 84 of 100\n",
      "Training\n"
     ]
    },
    {
     "data": {
      "application/vnd.jupyter.widget-view+json": {
       "model_id": "ed007e3580124a749ce25662e911b49c",
       "version_major": 2,
       "version_minor": 0
      },
      "text/plain": [
       "  0%|          | 0/12 [00:00<?, ?it/s]"
      ]
     },
     "metadata": {},
     "output_type": "display_data"
    },
    {
     "name": "stdout",
     "output_type": "stream",
     "text": [
      "Validating\n"
     ]
    },
    {
     "data": {
      "application/vnd.jupyter.widget-view+json": {
       "model_id": "54e8d4a4ea4d4f66af9e0d2bbded1f3e",
       "version_major": 2,
       "version_minor": 0
      },
      "text/plain": [
       "  0%|          | 0/3 [00:00<?, ?it/s]"
      ]
     },
     "metadata": {},
     "output_type": "display_data"
    },
    {
     "name": "stdout",
     "output_type": "stream",
     "text": [
      "Epoch #84 train loss: 2.609\n",
      "Epoch #84 mAP@0.5: 74.03%\n",
      "Epoch #84 mAP@0.5:0.95: 34.47%\n",
      "Took 0.047 minutes for epoch 83\n",
      "SAVING PLOTS COMPLETE...\n",
      "Adjusting learning rate of group 0 to 1.0000e-09.\n",
      "\n",
      "EPOCH 85 of 100\n",
      "Training\n"
     ]
    },
    {
     "data": {
      "application/vnd.jupyter.widget-view+json": {
       "model_id": "16aab9e41e134abcb0ab02c77734d4f0",
       "version_major": 2,
       "version_minor": 0
      },
      "text/plain": [
       "  0%|          | 0/12 [00:00<?, ?it/s]"
      ]
     },
     "metadata": {},
     "output_type": "display_data"
    },
    {
     "name": "stdout",
     "output_type": "stream",
     "text": [
      "Validating\n"
     ]
    },
    {
     "data": {
      "application/vnd.jupyter.widget-view+json": {
       "model_id": "e783bf4cef9649ed94de6dbac3695c8f",
       "version_major": 2,
       "version_minor": 0
      },
      "text/plain": [
       "  0%|          | 0/3 [00:00<?, ?it/s]"
      ]
     },
     "metadata": {},
     "output_type": "display_data"
    },
    {
     "name": "stdout",
     "output_type": "stream",
     "text": [
      "Epoch #85 train loss: 2.608\n",
      "Epoch #85 mAP@0.5: 74.03%\n",
      "Epoch #85 mAP@0.5:0.95: 34.47%\n",
      "Took 0.046 minutes for epoch 84\n",
      "SAVING PLOTS COMPLETE...\n",
      "Adjusting learning rate of group 0 to 1.0000e-09.\n",
      "\n",
      "EPOCH 86 of 100\n",
      "Training\n"
     ]
    },
    {
     "data": {
      "application/vnd.jupyter.widget-view+json": {
       "model_id": "e487b0151a3b4650b3cbd457efcd977f",
       "version_major": 2,
       "version_minor": 0
      },
      "text/plain": [
       "  0%|          | 0/12 [00:00<?, ?it/s]"
      ]
     },
     "metadata": {},
     "output_type": "display_data"
    },
    {
     "name": "stdout",
     "output_type": "stream",
     "text": [
      "Validating\n"
     ]
    },
    {
     "data": {
      "application/vnd.jupyter.widget-view+json": {
       "model_id": "14e26ecafd0c4c41b81b73b9437c9fdd",
       "version_major": 2,
       "version_minor": 0
      },
      "text/plain": [
       "  0%|          | 0/3 [00:00<?, ?it/s]"
      ]
     },
     "metadata": {},
     "output_type": "display_data"
    },
    {
     "name": "stdout",
     "output_type": "stream",
     "text": [
      "Epoch #86 train loss: 2.616\n",
      "Epoch #86 mAP@0.5: 74.03%\n",
      "Epoch #86 mAP@0.5:0.95: 34.47%\n",
      "Took 0.047 minutes for epoch 85\n",
      "SAVING PLOTS COMPLETE...\n",
      "Adjusting learning rate of group 0 to 1.0000e-09.\n",
      "\n",
      "EPOCH 87 of 100\n",
      "Training\n"
     ]
    },
    {
     "data": {
      "application/vnd.jupyter.widget-view+json": {
       "model_id": "af378e304e31411b8fbdd7d960dbac20",
       "version_major": 2,
       "version_minor": 0
      },
      "text/plain": [
       "  0%|          | 0/12 [00:00<?, ?it/s]"
      ]
     },
     "metadata": {},
     "output_type": "display_data"
    },
    {
     "name": "stdout",
     "output_type": "stream",
     "text": [
      "Validating\n"
     ]
    },
    {
     "data": {
      "application/vnd.jupyter.widget-view+json": {
       "model_id": "54bbd60ff0064b4d9c3188db2dd78eed",
       "version_major": 2,
       "version_minor": 0
      },
      "text/plain": [
       "  0%|          | 0/3 [00:00<?, ?it/s]"
      ]
     },
     "metadata": {},
     "output_type": "display_data"
    },
    {
     "name": "stdout",
     "output_type": "stream",
     "text": [
      "Epoch #87 train loss: 2.616\n",
      "Epoch #87 mAP@0.5: 74.03%\n",
      "Epoch #87 mAP@0.5:0.95: 34.47%\n",
      "Took 0.048 minutes for epoch 86\n",
      "SAVING PLOTS COMPLETE...\n",
      "Adjusting learning rate of group 0 to 1.0000e-09.\n",
      "\n",
      "EPOCH 88 of 100\n",
      "Training\n"
     ]
    },
    {
     "data": {
      "application/vnd.jupyter.widget-view+json": {
       "model_id": "66aa47048d334333af9bbd06dc7bbf11",
       "version_major": 2,
       "version_minor": 0
      },
      "text/plain": [
       "  0%|          | 0/12 [00:00<?, ?it/s]"
      ]
     },
     "metadata": {},
     "output_type": "display_data"
    },
    {
     "name": "stdout",
     "output_type": "stream",
     "text": [
      "Validating\n"
     ]
    },
    {
     "data": {
      "application/vnd.jupyter.widget-view+json": {
       "model_id": "2d43b4b6b6d84a868cc09941827a4adc",
       "version_major": 2,
       "version_minor": 0
      },
      "text/plain": [
       "  0%|          | 0/3 [00:00<?, ?it/s]"
      ]
     },
     "metadata": {},
     "output_type": "display_data"
    },
    {
     "name": "stdout",
     "output_type": "stream",
     "text": [
      "Epoch #88 train loss: 2.621\n",
      "Epoch #88 mAP@0.5: 74.03%\n",
      "Epoch #88 mAP@0.5:0.95: 34.47%\n",
      "Took 0.047 minutes for epoch 87\n",
      "SAVING PLOTS COMPLETE...\n",
      "Adjusting learning rate of group 0 to 1.0000e-09.\n",
      "\n",
      "EPOCH 89 of 100\n",
      "Training\n"
     ]
    },
    {
     "data": {
      "application/vnd.jupyter.widget-view+json": {
       "model_id": "cb8e457f9b614c1d83e747f9bb5e1422",
       "version_major": 2,
       "version_minor": 0
      },
      "text/plain": [
       "  0%|          | 0/12 [00:00<?, ?it/s]"
      ]
     },
     "metadata": {},
     "output_type": "display_data"
    },
    {
     "name": "stdout",
     "output_type": "stream",
     "text": [
      "Validating\n"
     ]
    },
    {
     "data": {
      "application/vnd.jupyter.widget-view+json": {
       "model_id": "df76effd5df04102a1134762ffecde8e",
       "version_major": 2,
       "version_minor": 0
      },
      "text/plain": [
       "  0%|          | 0/3 [00:00<?, ?it/s]"
      ]
     },
     "metadata": {},
     "output_type": "display_data"
    },
    {
     "name": "stdout",
     "output_type": "stream",
     "text": [
      "Epoch #89 train loss: 2.604\n",
      "Epoch #89 mAP@0.5: 74.03%\n",
      "Epoch #89 mAP@0.5:0.95: 34.47%\n",
      "Took 0.046 minutes for epoch 88\n",
      "SAVING PLOTS COMPLETE...\n",
      "Adjusting learning rate of group 0 to 1.0000e-09.\n",
      "\n",
      "EPOCH 90 of 100\n",
      "Training\n"
     ]
    },
    {
     "data": {
      "application/vnd.jupyter.widget-view+json": {
       "model_id": "e56b53c00e5e41a69e24f8a56d8c802e",
       "version_major": 2,
       "version_minor": 0
      },
      "text/plain": [
       "  0%|          | 0/12 [00:00<?, ?it/s]"
      ]
     },
     "metadata": {},
     "output_type": "display_data"
    },
    {
     "name": "stdout",
     "output_type": "stream",
     "text": [
      "Validating\n"
     ]
    },
    {
     "data": {
      "application/vnd.jupyter.widget-view+json": {
       "model_id": "c12fe78cd2f44a86a51ba2f66bf33893",
       "version_major": 2,
       "version_minor": 0
      },
      "text/plain": [
       "  0%|          | 0/3 [00:00<?, ?it/s]"
      ]
     },
     "metadata": {},
     "output_type": "display_data"
    },
    {
     "name": "stdout",
     "output_type": "stream",
     "text": [
      "Epoch #90 train loss: 2.601\n",
      "Epoch #90 mAP@0.5: 74.03%\n",
      "Epoch #90 mAP@0.5:0.95: 34.47%\n",
      "Took 0.048 minutes for epoch 89\n",
      "SAVING PLOTS COMPLETE...\n",
      "Adjusting learning rate of group 0 to 1.0000e-10.\n",
      "\n",
      "EPOCH 91 of 100\n",
      "Training\n"
     ]
    },
    {
     "data": {
      "application/vnd.jupyter.widget-view+json": {
       "model_id": "7677fe62cc26414ab15d061c3a2120d1",
       "version_major": 2,
       "version_minor": 0
      },
      "text/plain": [
       "  0%|          | 0/12 [00:00<?, ?it/s]"
      ]
     },
     "metadata": {},
     "output_type": "display_data"
    },
    {
     "name": "stdout",
     "output_type": "stream",
     "text": [
      "Validating\n"
     ]
    },
    {
     "data": {
      "application/vnd.jupyter.widget-view+json": {
       "model_id": "544b7e4e3ff44626bbfa84aaa9795d13",
       "version_major": 2,
       "version_minor": 0
      },
      "text/plain": [
       "  0%|          | 0/3 [00:00<?, ?it/s]"
      ]
     },
     "metadata": {},
     "output_type": "display_data"
    },
    {
     "name": "stdout",
     "output_type": "stream",
     "text": [
      "Epoch #91 train loss: 2.610\n",
      "Epoch #91 mAP@0.5: 74.03%\n",
      "Epoch #91 mAP@0.5:0.95: 34.47%\n",
      "Took 0.047 minutes for epoch 90\n",
      "SAVING PLOTS COMPLETE...\n",
      "Adjusting learning rate of group 0 to 1.0000e-10.\n",
      "\n",
      "EPOCH 92 of 100\n",
      "Training\n"
     ]
    },
    {
     "data": {
      "application/vnd.jupyter.widget-view+json": {
       "model_id": "a4e5d2bc402f4dcbb94b19f135b0059b",
       "version_major": 2,
       "version_minor": 0
      },
      "text/plain": [
       "  0%|          | 0/12 [00:00<?, ?it/s]"
      ]
     },
     "metadata": {},
     "output_type": "display_data"
    },
    {
     "name": "stdout",
     "output_type": "stream",
     "text": [
      "Validating\n"
     ]
    },
    {
     "data": {
      "application/vnd.jupyter.widget-view+json": {
       "model_id": "94b367085efd4bfe9b006ccaaf4bb76c",
       "version_major": 2,
       "version_minor": 0
      },
      "text/plain": [
       "  0%|          | 0/3 [00:00<?, ?it/s]"
      ]
     },
     "metadata": {},
     "output_type": "display_data"
    },
    {
     "name": "stdout",
     "output_type": "stream",
     "text": [
      "Epoch #92 train loss: 2.578\n",
      "Epoch #92 mAP@0.5: 74.03%\n",
      "Epoch #92 mAP@0.5:0.95: 34.47%\n",
      "Took 0.047 minutes for epoch 91\n",
      "SAVING PLOTS COMPLETE...\n",
      "Adjusting learning rate of group 0 to 1.0000e-10.\n",
      "\n",
      "EPOCH 93 of 100\n",
      "Training\n"
     ]
    },
    {
     "data": {
      "application/vnd.jupyter.widget-view+json": {
       "model_id": "28861cd541ca4b3cabab6d8aebeb9cac",
       "version_major": 2,
       "version_minor": 0
      },
      "text/plain": [
       "  0%|          | 0/12 [00:00<?, ?it/s]"
      ]
     },
     "metadata": {},
     "output_type": "display_data"
    },
    {
     "name": "stdout",
     "output_type": "stream",
     "text": [
      "Validating\n"
     ]
    },
    {
     "data": {
      "application/vnd.jupyter.widget-view+json": {
       "model_id": "eb14adafb5b640eba1a4ec2f333488f1",
       "version_major": 2,
       "version_minor": 0
      },
      "text/plain": [
       "  0%|          | 0/3 [00:00<?, ?it/s]"
      ]
     },
     "metadata": {},
     "output_type": "display_data"
    },
    {
     "name": "stdout",
     "output_type": "stream",
     "text": [
      "Epoch #93 train loss: 2.605\n",
      "Epoch #93 mAP@0.5: 74.03%\n",
      "Epoch #93 mAP@0.5:0.95: 34.47%\n",
      "Took 0.047 minutes for epoch 92\n",
      "SAVING PLOTS COMPLETE...\n",
      "Adjusting learning rate of group 0 to 1.0000e-10.\n",
      "\n",
      "EPOCH 94 of 100\n",
      "Training\n"
     ]
    },
    {
     "data": {
      "application/vnd.jupyter.widget-view+json": {
       "model_id": "0b7bb91138f24cfe82e2abac95dc038d",
       "version_major": 2,
       "version_minor": 0
      },
      "text/plain": [
       "  0%|          | 0/12 [00:00<?, ?it/s]"
      ]
     },
     "metadata": {},
     "output_type": "display_data"
    },
    {
     "name": "stdout",
     "output_type": "stream",
     "text": [
      "Validating\n"
     ]
    },
    {
     "data": {
      "application/vnd.jupyter.widget-view+json": {
       "model_id": "b3367adaf83d4b6b821bf4b84f376a7d",
       "version_major": 2,
       "version_minor": 0
      },
      "text/plain": [
       "  0%|          | 0/3 [00:00<?, ?it/s]"
      ]
     },
     "metadata": {},
     "output_type": "display_data"
    },
    {
     "name": "stdout",
     "output_type": "stream",
     "text": [
      "Epoch #94 train loss: 2.609\n",
      "Epoch #94 mAP@0.5: 74.03%\n",
      "Epoch #94 mAP@0.5:0.95: 34.47%\n",
      "Took 0.048 minutes for epoch 93\n",
      "SAVING PLOTS COMPLETE...\n",
      "Adjusting learning rate of group 0 to 1.0000e-10.\n",
      "\n",
      "EPOCH 95 of 100\n",
      "Training\n"
     ]
    },
    {
     "data": {
      "application/vnd.jupyter.widget-view+json": {
       "model_id": "7e99aa6fcded4c6c8be2b1907cb42bca",
       "version_major": 2,
       "version_minor": 0
      },
      "text/plain": [
       "  0%|          | 0/12 [00:00<?, ?it/s]"
      ]
     },
     "metadata": {},
     "output_type": "display_data"
    },
    {
     "name": "stdout",
     "output_type": "stream",
     "text": [
      "Validating\n"
     ]
    },
    {
     "data": {
      "application/vnd.jupyter.widget-view+json": {
       "model_id": "d3d46c7e2fbe4e7da37b18bd35a2d0dd",
       "version_major": 2,
       "version_minor": 0
      },
      "text/plain": [
       "  0%|          | 0/3 [00:00<?, ?it/s]"
      ]
     },
     "metadata": {},
     "output_type": "display_data"
    },
    {
     "name": "stdout",
     "output_type": "stream",
     "text": [
      "Epoch #95 train loss: 2.623\n",
      "Epoch #95 mAP@0.5: 74.03%\n",
      "Epoch #95 mAP@0.5:0.95: 34.47%\n",
      "Took 0.047 minutes for epoch 94\n",
      "SAVING PLOTS COMPLETE...\n",
      "Adjusting learning rate of group 0 to 1.0000e-10.\n",
      "\n",
      "EPOCH 96 of 100\n",
      "Training\n"
     ]
    },
    {
     "data": {
      "application/vnd.jupyter.widget-view+json": {
       "model_id": "afdaa16ebd264ad9ad0d6f583d691b77",
       "version_major": 2,
       "version_minor": 0
      },
      "text/plain": [
       "  0%|          | 0/12 [00:00<?, ?it/s]"
      ]
     },
     "metadata": {},
     "output_type": "display_data"
    },
    {
     "name": "stdout",
     "output_type": "stream",
     "text": [
      "Validating\n"
     ]
    },
    {
     "data": {
      "application/vnd.jupyter.widget-view+json": {
       "model_id": "49fe962dcda543aabd1dded2099bbd79",
       "version_major": 2,
       "version_minor": 0
      },
      "text/plain": [
       "  0%|          | 0/3 [00:00<?, ?it/s]"
      ]
     },
     "metadata": {},
     "output_type": "display_data"
    },
    {
     "name": "stdout",
     "output_type": "stream",
     "text": [
      "Epoch #96 train loss: 2.598\n",
      "Epoch #96 mAP@0.5: 74.03%\n",
      "Epoch #96 mAP@0.5:0.95: 34.47%\n",
      "Took 0.047 minutes for epoch 95\n",
      "SAVING PLOTS COMPLETE...\n",
      "Adjusting learning rate of group 0 to 1.0000e-10.\n",
      "\n",
      "EPOCH 97 of 100\n",
      "Training\n"
     ]
    },
    {
     "data": {
      "application/vnd.jupyter.widget-view+json": {
       "model_id": "c4cdf01aaeb54b02bb1fd4ccad895199",
       "version_major": 2,
       "version_minor": 0
      },
      "text/plain": [
       "  0%|          | 0/12 [00:00<?, ?it/s]"
      ]
     },
     "metadata": {},
     "output_type": "display_data"
    },
    {
     "name": "stdout",
     "output_type": "stream",
     "text": [
      "Validating\n"
     ]
    },
    {
     "data": {
      "application/vnd.jupyter.widget-view+json": {
       "model_id": "fa999f1b03114a61a254ad29a43fa323",
       "version_major": 2,
       "version_minor": 0
      },
      "text/plain": [
       "  0%|          | 0/3 [00:00<?, ?it/s]"
      ]
     },
     "metadata": {},
     "output_type": "display_data"
    },
    {
     "name": "stdout",
     "output_type": "stream",
     "text": [
      "Epoch #97 train loss: 2.603\n",
      "Epoch #97 mAP@0.5: 74.03%\n",
      "Epoch #97 mAP@0.5:0.95: 34.47%\n",
      "Took 0.047 minutes for epoch 96\n",
      "SAVING PLOTS COMPLETE...\n",
      "Adjusting learning rate of group 0 to 1.0000e-10.\n",
      "\n",
      "EPOCH 98 of 100\n",
      "Training\n"
     ]
    },
    {
     "data": {
      "application/vnd.jupyter.widget-view+json": {
       "model_id": "389ac39bceeb45718830bc28f82e6287",
       "version_major": 2,
       "version_minor": 0
      },
      "text/plain": [
       "  0%|          | 0/12 [00:00<?, ?it/s]"
      ]
     },
     "metadata": {},
     "output_type": "display_data"
    },
    {
     "name": "stdout",
     "output_type": "stream",
     "text": [
      "Validating\n"
     ]
    },
    {
     "data": {
      "application/vnd.jupyter.widget-view+json": {
       "model_id": "d84ff7ec5b954cd5b58ac14373330243",
       "version_major": 2,
       "version_minor": 0
      },
      "text/plain": [
       "  0%|          | 0/3 [00:00<?, ?it/s]"
      ]
     },
     "metadata": {},
     "output_type": "display_data"
    },
    {
     "name": "stdout",
     "output_type": "stream",
     "text": [
      "Epoch #98 train loss: 2.605\n",
      "Epoch #98 mAP@0.5: 74.03%\n",
      "Epoch #98 mAP@0.5:0.95: 34.47%\n",
      "Took 0.047 minutes for epoch 97\n",
      "SAVING PLOTS COMPLETE...\n",
      "Adjusting learning rate of group 0 to 1.0000e-10.\n",
      "\n",
      "EPOCH 99 of 100\n",
      "Training\n"
     ]
    },
    {
     "data": {
      "application/vnd.jupyter.widget-view+json": {
       "model_id": "b21b48fec39d42428a9b206f2f82bf6a",
       "version_major": 2,
       "version_minor": 0
      },
      "text/plain": [
       "  0%|          | 0/12 [00:00<?, ?it/s]"
      ]
     },
     "metadata": {},
     "output_type": "display_data"
    },
    {
     "name": "stdout",
     "output_type": "stream",
     "text": [
      "Validating\n"
     ]
    },
    {
     "data": {
      "application/vnd.jupyter.widget-view+json": {
       "model_id": "99a5a0789e4f4c4b9cc0c42575bbf0f7",
       "version_major": 2,
       "version_minor": 0
      },
      "text/plain": [
       "  0%|          | 0/3 [00:00<?, ?it/s]"
      ]
     },
     "metadata": {},
     "output_type": "display_data"
    },
    {
     "name": "stdout",
     "output_type": "stream",
     "text": [
      "Epoch #99 train loss: 2.595\n",
      "Epoch #99 mAP@0.5: 74.03%\n",
      "Epoch #99 mAP@0.5:0.95: 34.47%\n",
      "Took 0.047 minutes for epoch 98\n",
      "SAVING PLOTS COMPLETE...\n",
      "Adjusting learning rate of group 0 to 1.0000e-10.\n",
      "\n",
      "EPOCH 100 of 100\n",
      "Training\n"
     ]
    },
    {
     "data": {
      "application/vnd.jupyter.widget-view+json": {
       "model_id": "98265f3f597b4d448cebb712ec362f28",
       "version_major": 2,
       "version_minor": 0
      },
      "text/plain": [
       "  0%|          | 0/12 [00:00<?, ?it/s]"
      ]
     },
     "metadata": {},
     "output_type": "display_data"
    },
    {
     "name": "stdout",
     "output_type": "stream",
     "text": [
      "Validating\n"
     ]
    },
    {
     "data": {
      "application/vnd.jupyter.widget-view+json": {
       "model_id": "cf337ed709ce4ac48d1d1b5e03f044c4",
       "version_major": 2,
       "version_minor": 0
      },
      "text/plain": [
       "  0%|          | 0/3 [00:00<?, ?it/s]"
      ]
     },
     "metadata": {},
     "output_type": "display_data"
    },
    {
     "name": "stdout",
     "output_type": "stream",
     "text": [
      "Epoch #100 train loss: 2.611\n",
      "Epoch #100 mAP@0.5: 74.03%\n",
      "Epoch #100 mAP@0.5:0.95: 34.47%\n",
      "Took 0.048 minutes for epoch 99\n",
      "SAVING PLOTS COMPLETE...\n",
      "Adjusting learning rate of group 0 to 1.0000e-10.\n",
      "Training complete. Metrics saved to outputs/training_metrics.csv\n"
     ]
    },
    {
     "data": {
      "image/png": "[encoded data removed]",
      "text/plain": [
       "<Figure size 1000x700 with 1 Axes>"
      ]
     },
     "metadata": {},
     "output_type": "display_data"
    }
   ],
   "source": [
    "# Initialize a CSV file to store the metrics\n",
    "csv_file = os.path.join(OUT_DIR, 'training_metrics.csv')\n",
    "with open(csv_file, mode='w', newline='') as file:\n",
    "    writer = csv.writer(file)\n",
    "    writer.writerow(['Epoch', 'Train Loss', 'Validation mAP50', 'Validation mAP50-95', 'Learning Rate'])\n",
    "\n",
    "# To monitor training loss\n",
    "train_loss_hist = Averager()\n",
    "# To store training loss and mAP values.\n",
    "train_loss_list = []\n",
    "map_50_list = []\n",
    "map_list = []\n",
    "\n",
    "# Ensure the model is in training mode\n",
    "model.train()\n",
    "\n",
    "save_best_model = SaveBestModel()\n",
    "\n",
    "# Continue with the training loop\n",
    "for epoch in range(NUM_EPOCHS):\n",
    "    print(f\"\\nEPOCH {epoch+1} of {NUM_EPOCHS}\")\n",
    "\n",
    "    # Reset the training loss histories for the current epoch.\n",
    "    train_loss_hist.reset()\n",
    "\n",
    "    # Start timer and carry out training and validation.\n",
    "    start = time.time()\n",
    "    train_loss = train(train_loader, model)\n",
    "    metric_summary = validate(valid_loader, model)\n",
    "    \n",
    "    # Display training loss and validation mAP\n",
    "    print(f\"Epoch #{epoch+1} train loss: {train_loss_hist.value:.3f}\")   \n",
    "    print(f\"Epoch #{epoch+1} mAP@0.5: {metric_summary['map_50']*100:.2f}%\")   \n",
    "    print(f\"Epoch #{epoch+1} mAP@0.5:0.95: {metric_summary['map']*100:.2f}%\")\n",
    "    end = time.time()\n",
    "    print(f\"Took {((end - start) / 60):.3f} minutes for epoch {epoch}\")\n",
    "\n",
    "    # Save the loss and mAP values\n",
    "    train_loss_list.append(train_loss)\n",
    "    map_50_list.append(metric_summary['map_50'])\n",
    "    map_list.append(metric_summary['map'])\n",
    "\n",
    "    # Save metrics to CSV\n",
    "    current_lr = scheduler.get_last_lr()[0]  # Get the current learning rate\n",
    "    with open(csv_file, mode='a', newline='') as file:\n",
    "        writer = csv.writer(file)\n",
    "        writer.writerow([epoch+1, train_loss_hist.value, metric_summary['map_50']*100, metric_summary['map']*100, current_lr])\n",
    "\n",
    "    # Save the best model till now.\n",
    "    save_best_model(model, float(metric_summary['map']), epoch, 'outputs')\n",
    "\n",
    "    # Save the current epoch model.\n",
    "    save_model(epoch, model, optimizer)\n",
    "\n",
    "    # Save loss plot.\n",
    "    save_loss_plot(OUT_DIR, train_loss_list)\n",
    "\n",
    "    # Save mAP plot.\n",
    "    save_mAP(OUT_DIR, map_50_list, map_list)\n",
    "\n",
    "    # Step the scheduler\n",
    "    scheduler.step()\n",
    "\n",
    "print(f\"Training complete. Metrics saved to {csv_file}\")"
   ]
  },
  {
   "cell_type": "markdown",
   "id": "4bf6ec45-9d69-4eb1-8e55-47b668537420",
   "metadata": {},
   "source": [
    "## Evaluate the model on test data"
   ]
  },
  {
   "cell_type": "code",
   "execution_count": 18,
   "id": "64bf6f86-e826-45c7-9458-04c3825b46d9",
   "metadata": {},
   "outputs": [
    {
     "name": "stdout",
     "output_type": "stream",
     "text": [
      "Validating\n"
     ]
    },
    {
     "data": {
      "application/vnd.jupyter.widget-view+json": {
       "model_id": "af447da9d50f40b49ed00f996c657d27",
       "version_major": 2,
       "version_minor": 0
      },
      "text/plain": [
       "  0%|          | 0/1 [00:00<?, ?it/s]"
      ]
     },
     "metadata": {},
     "output_type": "display_data"
    },
    {
     "name": "stdout",
     "output_type": "stream",
     "text": [
      "mAP_50: 66.083\n",
      "mAP_50_95: 32.594\n"
     ]
    }
   ],
   "source": [
    "# Load the best model after training on geospatial dataset\n",
    "model = create_model(num_classes=NUM_CLASSES, size=RESIZE_TO, weights_path=None)\n",
    "checkpoint = torch.load(\"/home/jupyter/ee_tree_counting/Models/SSD/outputs/best_model.pth\", map_location=DEVICE)\n",
    "model.load_state_dict(checkpoint['model_state_dict'])\n",
    "model.to(DEVICE).eval()\n",
    "\n",
    "# Evaluate on the test dataset\n",
    "test_dataset = create_valid_dataset(\"/home/jupyter/ee_tree_counting/Data/GEE Dataset/Dataset XML/test\")\n",
    "test_loader = create_valid_loader(test_dataset, num_workers=NUM_WORKERS)\n",
    "\n",
    "metric_summary = validate(test_loader, model)\n",
    "print(f\"mAP_50: {metric_summary['map_50']*100:.3f}\")\n",
    "print(f\"mAP_50_95: {metric_summary['map']*100:.3f}\")\n"
   ]
  },
  {
   "cell_type": "code",
   "execution_count": null,
   "id": "c3fd6585-6407-444b-b969-834f252d0093",
   "metadata": {},
   "outputs": [],
   "source": []
  }
 ],
 "metadata": {
  "environment": {
   "kernel": "python3",
   "name": "common-cu121.m122",
   "type": "gcloud",
   "uri": "us-docker.pkg.dev/deeplearning-platform-release/gcr.io/base-cu121:m122"
  },
  "kernelspec": {
   "display_name": "Python 3 (Local)",
   "language": "python",
   "name": "python3"
  },
  "language_info": {
   "codemirror_mode": {
    "name": "ipython",
    "version": 3
   },
   "file_extension": ".py",
   "mimetype": "text/x-python",
   "name": "python",
   "nbconvert_exporter": "python",
   "pygments_lexer": "ipython3",
   "version": "3.10.14"
  }
 },
 "nbformat": 4,
 "nbformat_minor": 5
}
