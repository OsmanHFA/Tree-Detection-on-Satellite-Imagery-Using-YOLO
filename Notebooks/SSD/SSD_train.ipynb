{
 "cells": [
  {
   "cell_type": "markdown",
   "id": "a7e42e51-2025-42b0-91b6-5ded50586e12",
   "metadata": {},
   "source": [
    "# Imports"
   ]
  },
  {
   "cell_type": "code",
   "execution_count": 1,
   "id": "8f344352-2ba8-4cfd-99ba-d04f89a891a3",
   "metadata": {
    "tags": []
   },
   "outputs": [],
   "source": [
    "import os\n",
    "os.chdir('/home/jupyter/ee_tree_counting/Models/SSD')"
   ]
  },
  {
   "cell_type": "code",
   "execution_count": 9,
   "id": "3b674f43-914b-4602-8922-1f9943816425",
   "metadata": {
    "tags": []
   },
   "outputs": [],
   "source": [
    "from config import (\n",
    "    DEVICE, \n",
    "    NUM_CLASSES, \n",
    "    NUM_EPOCHS, \n",
    "    OUT_DIR,\n",
    "    VISUALIZE_TRANSFORMED_IMAGES, \n",
    "    NUM_WORKERS,\n",
    "    RESIZE_TO,\n",
    "    VALID_DIR,\n",
    "    TRAIN_DIR,\n",
    "    WEIGHTS_PATH\n",
    ")\n",
    "from model import create_model\n",
    "from custom_utils import (\n",
    "    Averager, \n",
    "    SaveBestModel, \n",
    "    save_model, \n",
    "    save_loss_plot,\n",
    "    save_mAP\n",
    ")\n",
    "from tqdm.auto import tqdm\n",
    "from datasets import (\n",
    "    create_train_dataset, \n",
    "    create_valid_dataset, \n",
    "    create_train_loader, \n",
    "    create_valid_loader\n",
    ")\n",
    "from torchmetrics.detection.mean_ap import MeanAveragePrecision\n",
    "from torch.optim.lr_scheduler import StepLR\n",
    "\n",
    "import torch\n",
    "import matplotlib.pyplot as plt\n",
    "import time\n",
    "import os\n",
    "import csv\n",
    "\n",
    "plt.style.use('ggplot')\n",
    "\n",
    "seed = 42\n",
    "torch.manual_seed(seed)\n",
    "torch.cuda.manual_seed(seed)\n",
    "torch.cuda.manual_seed_all(seed)"
   ]
  },
  {
   "cell_type": "code",
   "execution_count": 3,
   "id": "6542232e-5213-4cb5-ba6b-95429b833aa1",
   "metadata": {
    "tags": []
   },
   "outputs": [
    {
     "name": "stdout",
     "output_type": "stream",
     "text": [
      "SSD(\n",
      "  (backbone): SSDFeatureExtractorVGG(\n",
      "    (features): Sequential(\n",
      "      (0): Conv2d(3, 64, kernel_size=(3, 3), stride=(1, 1), padding=(1, 1))\n",
      "      (1): ReLU(inplace=True)\n",
      "      (2): Conv2d(64, 64, kernel_size=(3, 3), stride=(1, 1), padding=(1, 1))\n",
      "      (3): ReLU(inplace=True)\n",
      "      (4): MaxPool2d(kernel_size=2, stride=2, padding=0, dilation=1, ceil_mode=False)\n",
      "      (5): Conv2d(64, 128, kernel_size=(3, 3), stride=(1, 1), padding=(1, 1))\n",
      "      (6): ReLU(inplace=True)\n",
      "      (7): Conv2d(128, 128, kernel_size=(3, 3), stride=(1, 1), padding=(1, 1))\n",
      "      (8): ReLU(inplace=True)\n",
      "      (9): MaxPool2d(kernel_size=2, stride=2, padding=0, dilation=1, ceil_mode=False)\n",
      "      (10): Conv2d(128, 256, kernel_size=(3, 3), stride=(1, 1), padding=(1, 1))\n",
      "      (11): ReLU(inplace=True)\n",
      "      (12): Conv2d(256, 256, kernel_size=(3, 3), stride=(1, 1), padding=(1, 1))\n",
      "      (13): ReLU(inplace=True)\n",
      "      (14): Conv2d(256, 256, kernel_size=(3, 3), stride=(1, 1), padding=(1, 1))\n",
      "      (15): ReLU(inplace=True)\n",
      "      (16): MaxPool2d(kernel_size=2, stride=2, padding=0, dilation=1, ceil_mode=True)\n",
      "      (17): Conv2d(256, 512, kernel_size=(3, 3), stride=(1, 1), padding=(1, 1))\n",
      "      (18): ReLU(inplace=True)\n",
      "      (19): Conv2d(512, 512, kernel_size=(3, 3), stride=(1, 1), padding=(1, 1))\n",
      "      (20): ReLU(inplace=True)\n",
      "      (21): Conv2d(512, 512, kernel_size=(3, 3), stride=(1, 1), padding=(1, 1))\n",
      "      (22): ReLU(inplace=True)\n",
      "    )\n",
      "    (extra): ModuleList(\n",
      "      (0): Sequential(\n",
      "        (0): MaxPool2d(kernel_size=2, stride=2, padding=0, dilation=1, ceil_mode=False)\n",
      "        (1): Conv2d(512, 512, kernel_size=(3, 3), stride=(1, 1), padding=(1, 1))\n",
      "        (2): ReLU(inplace=True)\n",
      "        (3): Conv2d(512, 512, kernel_size=(3, 3), stride=(1, 1), padding=(1, 1))\n",
      "        (4): ReLU(inplace=True)\n",
      "        (5): Conv2d(512, 512, kernel_size=(3, 3), stride=(1, 1), padding=(1, 1))\n",
      "        (6): ReLU(inplace=True)\n",
      "        (7): Sequential(\n",
      "          (0): MaxPool2d(kernel_size=3, stride=1, padding=1, dilation=1, ceil_mode=False)\n",
      "          (1): Conv2d(512, 1024, kernel_size=(3, 3), stride=(1, 1), padding=(6, 6), dilation=(6, 6))\n",
      "          (2): ReLU(inplace=True)\n",
      "          (3): Conv2d(1024, 1024, kernel_size=(1, 1), stride=(1, 1))\n",
      "          (4): ReLU(inplace=True)\n",
      "        )\n",
      "      )\n",
      "      (1): Sequential(\n",
      "        (0): Conv2d(1024, 256, kernel_size=(1, 1), stride=(1, 1))\n",
      "        (1): ReLU(inplace=True)\n",
      "        (2): Conv2d(256, 512, kernel_size=(3, 3), stride=(2, 2), padding=(1, 1))\n",
      "        (3): ReLU(inplace=True)\n",
      "      )\n",
      "      (2): Sequential(\n",
      "        (0): Conv2d(512, 128, kernel_size=(1, 1), stride=(1, 1))\n",
      "        (1): ReLU(inplace=True)\n",
      "        (2): Conv2d(128, 256, kernel_size=(3, 3), stride=(2, 2), padding=(1, 1))\n",
      "        (3): ReLU(inplace=True)\n",
      "      )\n",
      "      (3): Sequential(\n",
      "        (0): Conv2d(256, 128, kernel_size=(1, 1), stride=(1, 1))\n",
      "        (1): ReLU(inplace=True)\n",
      "        (2): Conv2d(128, 256, kernel_size=(3, 3), stride=(1, 1))\n",
      "        (3): ReLU(inplace=True)\n",
      "      )\n",
      "      (4): Sequential(\n",
      "        (0): Conv2d(256, 128, kernel_size=(1, 1), stride=(1, 1))\n",
      "        (1): ReLU(inplace=True)\n",
      "        (2): Conv2d(128, 256, kernel_size=(3, 3), stride=(1, 1))\n",
      "        (3): ReLU(inplace=True)\n",
      "      )\n",
      "    )\n",
      "  )\n",
      "  (anchor_generator): DefaultBoxGenerator(aspect_ratios=[[2], [2, 3], [2, 3], [2, 3], [2], [2]], clip=True, scales=[0.07, 0.15, 0.33, 0.51, 0.69, 0.87, 1.05], steps=[8, 16, 32, 64, 100, 300])\n",
      "  (head): SSDHead(\n",
      "    (classification_head): SSDClassificationHead(\n",
      "      (module_list): ModuleList(\n",
      "        (0): Conv2d(512, 8, kernel_size=(3, 3), stride=(1, 1), padding=(1, 1))\n",
      "        (1): Conv2d(1024, 12, kernel_size=(3, 3), stride=(1, 1), padding=(1, 1))\n",
      "        (2): Conv2d(512, 12, kernel_size=(3, 3), stride=(1, 1), padding=(1, 1))\n",
      "        (3): Conv2d(256, 12, kernel_size=(3, 3), stride=(1, 1), padding=(1, 1))\n",
      "        (4): Conv2d(256, 8, kernel_size=(3, 3), stride=(1, 1), padding=(1, 1))\n",
      "        (5): Conv2d(256, 8, kernel_size=(3, 3), stride=(1, 1), padding=(1, 1))\n",
      "      )\n",
      "    )\n",
      "    (regression_head): SSDRegressionHead(\n",
      "      (module_list): ModuleList(\n",
      "        (0): Conv2d(512, 16, kernel_size=(3, 3), stride=(1, 1), padding=(1, 1))\n",
      "        (1): Conv2d(1024, 24, kernel_size=(3, 3), stride=(1, 1), padding=(1, 1))\n",
      "        (2): Conv2d(512, 24, kernel_size=(3, 3), stride=(1, 1), padding=(1, 1))\n",
      "        (3): Conv2d(256, 24, kernel_size=(3, 3), stride=(1, 1), padding=(1, 1))\n",
      "        (4): Conv2d(256, 16, kernel_size=(3, 3), stride=(1, 1), padding=(1, 1))\n",
      "        (5): Conv2d(256, 16, kernel_size=(3, 3), stride=(1, 1), padding=(1, 1))\n",
      "      )\n",
      "    )\n",
      "  )\n",
      "  (transform): GeneralizedRCNNTransform(\n",
      "      Normalize(mean=[0.48235, 0.45882, 0.40784], std=[0.00392156862745098, 0.00392156862745098, 0.00392156862745098])\n",
      "      Resize(min_size=(640,), max_size=640, mode='bilinear')\n",
      "  )\n",
      ")\n"
     ]
    }
   ],
   "source": [
    "# Initialize the model and move to the computation device.\n",
    "model = create_model(num_classes=NUM_CLASSES, size=RESIZE_TO, weights_path=WEIGHTS_PATH)\n",
    "print(model)"
   ]
  },
  {
   "cell_type": "code",
   "execution_count": 6,
   "id": "0a3344f4-c098-4709-b331-f52b2844dcf6",
   "metadata": {
    "tags": []
   },
   "outputs": [],
   "source": [
    "# Function for running training iterations.\n",
    "def train(train_data_loader, model):\n",
    "    print('Training')\n",
    "    model.train()\n",
    "    \n",
    "     # initialize tqdm progress bar\n",
    "    prog_bar = tqdm(train_data_loader, total=len(train_data_loader))\n",
    "    \n",
    "    for i, data in enumerate(prog_bar):\n",
    "        optimizer.zero_grad()\n",
    "        images, targets = data\n",
    "        \n",
    "        images = list(image.to(DEVICE) for image in images)\n",
    "        targets = [{k: v.to(DEVICE) for k, v in t.items()} for t in targets]\n",
    "        loss_dict = model(images, targets)\n",
    "\n",
    "        losses = sum(loss for loss in loss_dict.values())\n",
    "        loss_value = losses.item()\n",
    "\n",
    "        train_loss_hist.send(loss_value)\n",
    "\n",
    "        losses.backward()\n",
    "        optimizer.step()\n",
    "    \n",
    "        # update the loss value beside the progress bar for each iteration\n",
    "        prog_bar.set_description(desc=f\"Loss: {loss_value:.4f}\")\n",
    "    return loss_value"
   ]
  },
  {
   "cell_type": "code",
   "execution_count": 7,
   "id": "6da0176c-8c5b-4ab8-81a0-f99f002c64c9",
   "metadata": {
    "tags": []
   },
   "outputs": [],
   "source": [
    "def validate(valid_data_loader, model):\n",
    "    print('Validating')\n",
    "    model.eval()\n",
    "    \n",
    "    # Initialize tqdm progress bar.\n",
    "    prog_bar = tqdm(valid_data_loader, total=len(valid_data_loader))\n",
    "    target = []\n",
    "    preds = []\n",
    "    for i, data in enumerate(prog_bar):\n",
    "        images, targets = data\n",
    "        \n",
    "        images = list(image.to(DEVICE) for image in images)\n",
    "        targets = [{k: v.to(DEVICE) for k, v in t.items()} for t in targets]\n",
    "        \n",
    "        with torch.no_grad():\n",
    "            outputs = model(images, targets)\n",
    "\n",
    "        # For mAP calculation using Torchmetrics.\n",
    "        #####################################\n",
    "        for i in range(len(images)):\n",
    "            true_dict = dict()\n",
    "            preds_dict = dict()\n",
    "            true_dict['boxes'] = targets[i]['boxes'].detach().cpu()\n",
    "            true_dict['labels'] = targets[i]['labels'].detach().cpu()\n",
    "            preds_dict['boxes'] = outputs[i]['boxes'].detach().cpu()\n",
    "            preds_dict['scores'] = outputs[i]['scores'].detach().cpu()\n",
    "            preds_dict['labels'] = outputs[i]['labels'].detach().cpu()\n",
    "            preds.append(preds_dict)\n",
    "            target.append(true_dict)\n",
    "        #####################################\n",
    "\n",
    "    metric = MeanAveragePrecision()\n",
    "    metric.update(preds, target)\n",
    "    metric_summary = metric.compute()\n",
    "    return metric_summary"
   ]
  },
  {
   "cell_type": "code",
   "execution_count": 10,
   "id": "6047f6da-abe9-45a2-b7ac-ab17e4f0548f",
   "metadata": {
    "tags": []
   },
   "outputs": [
    {
     "name": "stderr",
     "output_type": "stream",
     "text": [
      "/opt/conda/lib/python3.10/site-packages/albumentations/core/composition.py:156: UserWarning: Got processor for bboxes, but no transform to process it.\n",
      "  self._set_keys()\n"
     ]
    },
    {
     "name": "stdout",
     "output_type": "stream",
     "text": [
      "Number of training samples: 379\n",
      "Number of validation samples: 59\n",
      "\n",
      "23,745,908 total parameters.\n",
      "23,745,908 training parameters.\n",
      "Adjusting learning rate of group 0 to 1.0000e-04.\n",
      "\n",
      "EPOCH 1 of 100\n",
      "Training\n"
     ]
    },
    {
     "data": {
      "application/vnd.jupyter.widget-view+json": {
       "model_id": "8d88de09c6934e47b9a2cbcd44713146",
       "version_major": 2,
       "version_minor": 0
      },
      "text/plain": [
       "  0%|          | 0/94 [00:00<?, ?it/s]"
      ]
     },
     "metadata": {},
     "output_type": "display_data"
    },
    {
     "name": "stdout",
     "output_type": "stream",
     "text": [
      "Validating\n"
     ]
    },
    {
     "data": {
      "application/vnd.jupyter.widget-view+json": {
       "model_id": "78e3277fd0c84e5e95035331270b4d82",
       "version_major": 2,
       "version_minor": 0
      },
      "text/plain": [
       "  0%|          | 0/14 [00:00<?, ?it/s]"
      ]
     },
     "metadata": {},
     "output_type": "display_data"
    },
    {
     "name": "stderr",
     "output_type": "stream",
     "text": [
      "/opt/conda/lib/python3.10/site-packages/torchmetrics/utilities/prints.py:43: UserWarning: Encountered more than 100 detections in a single image. This means that certain detections with the lowest scores will be ignored, that may have an undesirable impact on performance. Please consider adjusting the `max_detection_threshold` to suit your use case. To disable this warning, set attribute class `warn_on_many_detections=False`, after initializing the metric.\n",
      "  warnings.warn(*args, **kwargs)  # noqa: B028\n"
     ]
    },
    {
     "name": "stdout",
     "output_type": "stream",
     "text": [
      "Epoch #1 train loss: 4.924\n",
      "Epoch #1 mAP@0.5: 0.85%\n",
      "Epoch #1 mAP@0.5:0.95: 0.20%\n",
      "Took 0.957 minutes for epoch 0\n",
      "\n",
      "BEST VALIDATION mAP: 0.001996926963329315\n",
      "\n",
      "SAVING BEST MODEL FOR EPOCH: 1\n",
      "\n",
      "SAVING PLOTS COMPLETE...\n",
      "Adjusting learning rate of group 0 to 1.0000e-04.\n",
      "\n",
      "EPOCH 2 of 100\n",
      "Training\n"
     ]
    },
    {
     "data": {
      "application/vnd.jupyter.widget-view+json": {
       "model_id": "9d38eefb64ae4ac7a7d28573f8f867c7",
       "version_major": 2,
       "version_minor": 0
      },
      "text/plain": [
       "  0%|          | 0/94 [00:00<?, ?it/s]"
      ]
     },
     "metadata": {},
     "output_type": "display_data"
    },
    {
     "name": "stdout",
     "output_type": "stream",
     "text": [
      "Validating\n"
     ]
    },
    {
     "data": {
      "application/vnd.jupyter.widget-view+json": {
       "model_id": "f018dca43e934de2b285cb84732436d4",
       "version_major": 2,
       "version_minor": 0
      },
      "text/plain": [
       "  0%|          | 0/14 [00:00<?, ?it/s]"
      ]
     },
     "metadata": {},
     "output_type": "display_data"
    },
    {
     "name": "stdout",
     "output_type": "stream",
     "text": [
      "Epoch #2 train loss: 4.051\n",
      "Epoch #2 mAP@0.5: 8.19%\n",
      "Epoch #2 mAP@0.5:0.95: 2.37%\n",
      "Took 0.848 minutes for epoch 1\n",
      "\n",
      "BEST VALIDATION mAP: 0.023650608956813812\n",
      "\n",
      "SAVING BEST MODEL FOR EPOCH: 2\n",
      "\n",
      "SAVING PLOTS COMPLETE...\n",
      "Adjusting learning rate of group 0 to 1.0000e-04.\n",
      "\n",
      "EPOCH 3 of 100\n",
      "Training\n"
     ]
    },
    {
     "data": {
      "application/vnd.jupyter.widget-view+json": {
       "model_id": "e492ac463cca42c7b053e6c83e96e0f9",
       "version_major": 2,
       "version_minor": 0
      },
      "text/plain": [
       "  0%|          | 0/94 [00:00<?, ?it/s]"
      ]
     },
     "metadata": {},
     "output_type": "display_data"
    },
    {
     "name": "stdout",
     "output_type": "stream",
     "text": [
      "Validating\n"
     ]
    },
    {
     "data": {
      "application/vnd.jupyter.widget-view+json": {
       "model_id": "958c8e8a4b6c4567b06c816bdb7ccd3a",
       "version_major": 2,
       "version_minor": 0
      },
      "text/plain": [
       "  0%|          | 0/14 [00:00<?, ?it/s]"
      ]
     },
     "metadata": {},
     "output_type": "display_data"
    },
    {
     "name": "stdout",
     "output_type": "stream",
     "text": [
      "Epoch #3 train loss: 3.824\n",
      "Epoch #3 mAP@0.5: 24.88%\n",
      "Epoch #3 mAP@0.5:0.95: 7.81%\n",
      "Took 0.831 minutes for epoch 2\n",
      "\n",
      "BEST VALIDATION mAP: 0.0781194269657135\n",
      "\n",
      "SAVING BEST MODEL FOR EPOCH: 3\n",
      "\n",
      "SAVING PLOTS COMPLETE...\n",
      "Adjusting learning rate of group 0 to 1.0000e-04.\n",
      "\n",
      "EPOCH 4 of 100\n",
      "Training\n"
     ]
    },
    {
     "data": {
      "application/vnd.jupyter.widget-view+json": {
       "model_id": "4e64b094636e48caba6e769db89368cb",
       "version_major": 2,
       "version_minor": 0
      },
      "text/plain": [
       "  0%|          | 0/94 [00:00<?, ?it/s]"
      ]
     },
     "metadata": {},
     "output_type": "display_data"
    },
    {
     "name": "stdout",
     "output_type": "stream",
     "text": [
      "Validating\n"
     ]
    },
    {
     "data": {
      "application/vnd.jupyter.widget-view+json": {
       "model_id": "c98a2bec210c4a7f8b1276883af90dc1",
       "version_major": 2,
       "version_minor": 0
      },
      "text/plain": [
       "  0%|          | 0/14 [00:00<?, ?it/s]"
      ]
     },
     "metadata": {},
     "output_type": "display_data"
    },
    {
     "name": "stdout",
     "output_type": "stream",
     "text": [
      "Epoch #4 train loss: 3.699\n",
      "Epoch #4 mAP@0.5: 44.80%\n",
      "Epoch #4 mAP@0.5:0.95: 15.12%\n",
      "Took 0.830 minutes for epoch 3\n",
      "\n",
      "BEST VALIDATION mAP: 0.15120746195316315\n",
      "\n",
      "SAVING BEST MODEL FOR EPOCH: 4\n",
      "\n",
      "SAVING PLOTS COMPLETE...\n",
      "Adjusting learning rate of group 0 to 1.0000e-04.\n",
      "\n",
      "EPOCH 5 of 100\n",
      "Training\n"
     ]
    },
    {
     "data": {
      "application/vnd.jupyter.widget-view+json": {
       "model_id": "ce37e89ff24d4125af1f544b5adfd29d",
       "version_major": 2,
       "version_minor": 0
      },
      "text/plain": [
       "  0%|          | 0/94 [00:00<?, ?it/s]"
      ]
     },
     "metadata": {},
     "output_type": "display_data"
    },
    {
     "name": "stdout",
     "output_type": "stream",
     "text": [
      "Validating\n"
     ]
    },
    {
     "data": {
      "application/vnd.jupyter.widget-view+json": {
       "model_id": "1cfe15ca60a045f48a45aef0d95f1304",
       "version_major": 2,
       "version_minor": 0
      },
      "text/plain": [
       "  0%|          | 0/14 [00:00<?, ?it/s]"
      ]
     },
     "metadata": {},
     "output_type": "display_data"
    },
    {
     "name": "stdout",
     "output_type": "stream",
     "text": [
      "Epoch #5 train loss: 3.605\n",
      "Epoch #5 mAP@0.5: 53.47%\n",
      "Epoch #5 mAP@0.5:0.95: 18.77%\n",
      "Took 0.832 minutes for epoch 4\n",
      "\n",
      "BEST VALIDATION mAP: 0.18773965537548065\n",
      "\n",
      "SAVING BEST MODEL FOR EPOCH: 5\n",
      "\n",
      "SAVING PLOTS COMPLETE...\n",
      "Adjusting learning rate of group 0 to 1.0000e-04.\n",
      "\n",
      "EPOCH 6 of 100\n",
      "Training\n"
     ]
    },
    {
     "data": {
      "application/vnd.jupyter.widget-view+json": {
       "model_id": "5d9f13cac90d4e5cbaab4f0321eed2e1",
       "version_major": 2,
       "version_minor": 0
      },
      "text/plain": [
       "  0%|          | 0/94 [00:00<?, ?it/s]"
      ]
     },
     "metadata": {},
     "output_type": "display_data"
    },
    {
     "name": "stdout",
     "output_type": "stream",
     "text": [
      "Validating\n"
     ]
    },
    {
     "data": {
      "application/vnd.jupyter.widget-view+json": {
       "model_id": "9545f5ff7d85498bac45d237ec8333f3",
       "version_major": 2,
       "version_minor": 0
      },
      "text/plain": [
       "  0%|          | 0/14 [00:00<?, ?it/s]"
      ]
     },
     "metadata": {},
     "output_type": "display_data"
    },
    {
     "name": "stdout",
     "output_type": "stream",
     "text": [
      "Epoch #6 train loss: 3.525\n",
      "Epoch #6 mAP@0.5: 58.86%\n",
      "Epoch #6 mAP@0.5:0.95: 20.51%\n",
      "Took 0.843 minutes for epoch 5\n",
      "\n",
      "BEST VALIDATION mAP: 0.2051302045583725\n",
      "\n",
      "SAVING BEST MODEL FOR EPOCH: 6\n",
      "\n",
      "SAVING PLOTS COMPLETE...\n",
      "Adjusting learning rate of group 0 to 1.0000e-04.\n",
      "\n",
      "EPOCH 7 of 100\n",
      "Training\n"
     ]
    },
    {
     "data": {
      "application/vnd.jupyter.widget-view+json": {
       "model_id": "b7c951881b524a71930b3b4b11e0607d",
       "version_major": 2,
       "version_minor": 0
      },
      "text/plain": [
       "  0%|          | 0/94 [00:00<?, ?it/s]"
      ]
     },
     "metadata": {},
     "output_type": "display_data"
    },
    {
     "name": "stdout",
     "output_type": "stream",
     "text": [
      "Validating\n"
     ]
    },
    {
     "data": {
      "application/vnd.jupyter.widget-view+json": {
       "model_id": "4458979252dd4941b741b885e4388240",
       "version_major": 2,
       "version_minor": 0
      },
      "text/plain": [
       "  0%|          | 0/14 [00:00<?, ?it/s]"
      ]
     },
     "metadata": {},
     "output_type": "display_data"
    },
    {
     "name": "stdout",
     "output_type": "stream",
     "text": [
      "Epoch #7 train loss: 3.469\n",
      "Epoch #7 mAP@0.5: 61.33%\n",
      "Epoch #7 mAP@0.5:0.95: 22.18%\n",
      "Took 0.837 minutes for epoch 6\n",
      "\n",
      "BEST VALIDATION mAP: 0.22180025279521942\n",
      "\n",
      "SAVING BEST MODEL FOR EPOCH: 7\n",
      "\n",
      "SAVING PLOTS COMPLETE...\n",
      "Adjusting learning rate of group 0 to 1.0000e-04.\n",
      "\n",
      "EPOCH 8 of 100\n",
      "Training\n"
     ]
    },
    {
     "data": {
      "application/vnd.jupyter.widget-view+json": {
       "model_id": "032f4b2a258748d7ae9ea8f48513b31b",
       "version_major": 2,
       "version_minor": 0
      },
      "text/plain": [
       "  0%|          | 0/94 [00:00<?, ?it/s]"
      ]
     },
     "metadata": {},
     "output_type": "display_data"
    },
    {
     "name": "stdout",
     "output_type": "stream",
     "text": [
      "Validating\n"
     ]
    },
    {
     "data": {
      "application/vnd.jupyter.widget-view+json": {
       "model_id": "fd96ab73b3b744b1be45cfa58d4328db",
       "version_major": 2,
       "version_minor": 0
      },
      "text/plain": [
       "  0%|          | 0/14 [00:00<?, ?it/s]"
      ]
     },
     "metadata": {},
     "output_type": "display_data"
    },
    {
     "name": "stdout",
     "output_type": "stream",
     "text": [
      "Epoch #8 train loss: 3.410\n",
      "Epoch #8 mAP@0.5: 63.62%\n",
      "Epoch #8 mAP@0.5:0.95: 22.64%\n",
      "Took 0.828 minutes for epoch 7\n",
      "\n",
      "BEST VALIDATION mAP: 0.2263692021369934\n",
      "\n",
      "SAVING BEST MODEL FOR EPOCH: 8\n",
      "\n",
      "SAVING PLOTS COMPLETE...\n",
      "Adjusting learning rate of group 0 to 1.0000e-04.\n",
      "\n",
      "EPOCH 9 of 100\n",
      "Training\n"
     ]
    },
    {
     "data": {
      "application/vnd.jupyter.widget-view+json": {
       "model_id": "afbcb91d9fab46c7a10cad7d291d3dbd",
       "version_major": 2,
       "version_minor": 0
      },
      "text/plain": [
       "  0%|          | 0/94 [00:00<?, ?it/s]"
      ]
     },
     "metadata": {},
     "output_type": "display_data"
    },
    {
     "name": "stdout",
     "output_type": "stream",
     "text": [
      "Validating\n"
     ]
    },
    {
     "data": {
      "application/vnd.jupyter.widget-view+json": {
       "model_id": "9138bb0ce3ea4069a4af08598f1ec3cc",
       "version_major": 2,
       "version_minor": 0
      },
      "text/plain": [
       "  0%|          | 0/14 [00:00<?, ?it/s]"
      ]
     },
     "metadata": {},
     "output_type": "display_data"
    },
    {
     "name": "stdout",
     "output_type": "stream",
     "text": [
      "Epoch #9 train loss: 3.360\n",
      "Epoch #9 mAP@0.5: 62.99%\n",
      "Epoch #9 mAP@0.5:0.95: 23.42%\n",
      "Took 0.825 minutes for epoch 8\n",
      "\n",
      "BEST VALIDATION mAP: 0.23416484892368317\n",
      "\n",
      "SAVING BEST MODEL FOR EPOCH: 9\n",
      "\n",
      "SAVING PLOTS COMPLETE...\n",
      "Adjusting learning rate of group 0 to 1.0000e-04.\n",
      "\n",
      "EPOCH 10 of 100\n",
      "Training\n"
     ]
    },
    {
     "data": {
      "application/vnd.jupyter.widget-view+json": {
       "model_id": "d172fd010cee4404a955a8118c041ab9",
       "version_major": 2,
       "version_minor": 0
      },
      "text/plain": [
       "  0%|          | 0/94 [00:00<?, ?it/s]"
      ]
     },
     "metadata": {},
     "output_type": "display_data"
    },
    {
     "name": "stdout",
     "output_type": "stream",
     "text": [
      "Validating\n"
     ]
    },
    {
     "data": {
      "application/vnd.jupyter.widget-view+json": {
       "model_id": "8dc7431372ff4b91b991f23fc6aaa5e8",
       "version_major": 2,
       "version_minor": 0
      },
      "text/plain": [
       "  0%|          | 0/14 [00:00<?, ?it/s]"
      ]
     },
     "metadata": {},
     "output_type": "display_data"
    },
    {
     "name": "stdout",
     "output_type": "stream",
     "text": [
      "Epoch #10 train loss: 3.296\n",
      "Epoch #10 mAP@0.5: 65.29%\n",
      "Epoch #10 mAP@0.5:0.95: 24.23%\n",
      "Took 0.828 minutes for epoch 9\n",
      "\n",
      "BEST VALIDATION mAP: 0.24229472875595093\n",
      "\n",
      "SAVING BEST MODEL FOR EPOCH: 10\n",
      "\n",
      "SAVING PLOTS COMPLETE...\n",
      "Adjusting learning rate of group 0 to 1.0000e-04.\n",
      "\n",
      "EPOCH 11 of 100\n",
      "Training\n"
     ]
    },
    {
     "data": {
      "application/vnd.jupyter.widget-view+json": {
       "model_id": "a202326f808b4a31b75d4a2fb0ed656f",
       "version_major": 2,
       "version_minor": 0
      },
      "text/plain": [
       "  0%|          | 0/94 [00:00<?, ?it/s]"
      ]
     },
     "metadata": {},
     "output_type": "display_data"
    },
    {
     "name": "stdout",
     "output_type": "stream",
     "text": [
      "Validating\n"
     ]
    },
    {
     "data": {
      "application/vnd.jupyter.widget-view+json": {
       "model_id": "df470ea8b6944c439540790a48a43812",
       "version_major": 2,
       "version_minor": 0
      },
      "text/plain": [
       "  0%|          | 0/14 [00:00<?, ?it/s]"
      ]
     },
     "metadata": {},
     "output_type": "display_data"
    },
    {
     "name": "stdout",
     "output_type": "stream",
     "text": [
      "Epoch #11 train loss: 3.266\n",
      "Epoch #11 mAP@0.5: 66.40%\n",
      "Epoch #11 mAP@0.5:0.95: 24.69%\n",
      "Took 0.823 minutes for epoch 10\n",
      "\n",
      "BEST VALIDATION mAP: 0.2468644082546234\n",
      "\n",
      "SAVING BEST MODEL FOR EPOCH: 11\n",
      "\n",
      "SAVING PLOTS COMPLETE...\n",
      "Adjusting learning rate of group 0 to 1.0000e-04.\n",
      "\n",
      "EPOCH 12 of 100\n",
      "Training\n"
     ]
    },
    {
     "data": {
      "application/vnd.jupyter.widget-view+json": {
       "model_id": "7ea3eb64210940e79c11e197f6524e53",
       "version_major": 2,
       "version_minor": 0
      },
      "text/plain": [
       "  0%|          | 0/94 [00:00<?, ?it/s]"
      ]
     },
     "metadata": {},
     "output_type": "display_data"
    },
    {
     "name": "stdout",
     "output_type": "stream",
     "text": [
      "Validating\n"
     ]
    },
    {
     "data": {
      "application/vnd.jupyter.widget-view+json": {
       "model_id": "c990f46766cc4c1ab1332be75512439f",
       "version_major": 2,
       "version_minor": 0
      },
      "text/plain": [
       "  0%|          | 0/14 [00:00<?, ?it/s]"
      ]
     },
     "metadata": {},
     "output_type": "display_data"
    },
    {
     "name": "stdout",
     "output_type": "stream",
     "text": [
      "Epoch #12 train loss: 3.215\n",
      "Epoch #12 mAP@0.5: 65.43%\n",
      "Epoch #12 mAP@0.5:0.95: 24.92%\n",
      "Took 0.832 minutes for epoch 11\n",
      "\n",
      "BEST VALIDATION mAP: 0.24924519658088684\n",
      "\n",
      "SAVING BEST MODEL FOR EPOCH: 12\n",
      "\n",
      "SAVING PLOTS COMPLETE...\n",
      "Adjusting learning rate of group 0 to 1.0000e-04.\n",
      "\n",
      "EPOCH 13 of 100\n",
      "Training\n"
     ]
    },
    {
     "data": {
      "application/vnd.jupyter.widget-view+json": {
       "model_id": "45b49126f5524bc781a1c62cdfedeb32",
       "version_major": 2,
       "version_minor": 0
      },
      "text/plain": [
       "  0%|          | 0/94 [00:00<?, ?it/s]"
      ]
     },
     "metadata": {},
     "output_type": "display_data"
    },
    {
     "name": "stdout",
     "output_type": "stream",
     "text": [
      "Validating\n"
     ]
    },
    {
     "data": {
      "application/vnd.jupyter.widget-view+json": {
       "model_id": "b81e70e0ef6a439995b86b3a424856b5",
       "version_major": 2,
       "version_minor": 0
      },
      "text/plain": [
       "  0%|          | 0/14 [00:00<?, ?it/s]"
      ]
     },
     "metadata": {},
     "output_type": "display_data"
    },
    {
     "name": "stdout",
     "output_type": "stream",
     "text": [
      "Epoch #13 train loss: 3.190\n",
      "Epoch #13 mAP@0.5: 67.97%\n",
      "Epoch #13 mAP@0.5:0.95: 25.47%\n",
      "Took 0.830 minutes for epoch 12\n",
      "\n",
      "BEST VALIDATION mAP: 0.25473034381866455\n",
      "\n",
      "SAVING BEST MODEL FOR EPOCH: 13\n",
      "\n",
      "SAVING PLOTS COMPLETE...\n",
      "Adjusting learning rate of group 0 to 1.0000e-04.\n",
      "\n",
      "EPOCH 14 of 100\n",
      "Training\n"
     ]
    },
    {
     "data": {
      "application/vnd.jupyter.widget-view+json": {
       "model_id": "4d00c643a0e74a18b1b67be069459658",
       "version_major": 2,
       "version_minor": 0
      },
      "text/plain": [
       "  0%|          | 0/94 [00:00<?, ?it/s]"
      ]
     },
     "metadata": {},
     "output_type": "display_data"
    },
    {
     "name": "stdout",
     "output_type": "stream",
     "text": [
      "Validating\n"
     ]
    },
    {
     "data": {
      "application/vnd.jupyter.widget-view+json": {
       "model_id": "15f62f48309b438aa1f5c489d254f251",
       "version_major": 2,
       "version_minor": 0
      },
      "text/plain": [
       "  0%|          | 0/14 [00:00<?, ?it/s]"
      ]
     },
     "metadata": {},
     "output_type": "display_data"
    },
    {
     "name": "stdout",
     "output_type": "stream",
     "text": [
      "Epoch #14 train loss: 3.144\n",
      "Epoch #14 mAP@0.5: 67.85%\n",
      "Epoch #14 mAP@0.5:0.95: 25.76%\n",
      "Took 0.824 minutes for epoch 13\n",
      "\n",
      "BEST VALIDATION mAP: 0.2575565576553345\n",
      "\n",
      "SAVING BEST MODEL FOR EPOCH: 14\n",
      "\n",
      "SAVING PLOTS COMPLETE...\n",
      "Adjusting learning rate of group 0 to 1.0000e-04.\n",
      "\n",
      "EPOCH 15 of 100\n",
      "Training\n"
     ]
    },
    {
     "data": {
      "application/vnd.jupyter.widget-view+json": {
       "model_id": "4e2c4e6b65134defbbcecc3543189593",
       "version_major": 2,
       "version_minor": 0
      },
      "text/plain": [
       "  0%|          | 0/94 [00:00<?, ?it/s]"
      ]
     },
     "metadata": {},
     "output_type": "display_data"
    },
    {
     "name": "stdout",
     "output_type": "stream",
     "text": [
      "Validating\n"
     ]
    },
    {
     "data": {
      "application/vnd.jupyter.widget-view+json": {
       "model_id": "eebfd9a251b14705af89e30e93a54fc0",
       "version_major": 2,
       "version_minor": 0
      },
      "text/plain": [
       "  0%|          | 0/14 [00:00<?, ?it/s]"
      ]
     },
     "metadata": {},
     "output_type": "display_data"
    },
    {
     "name": "stdout",
     "output_type": "stream",
     "text": [
      "Epoch #15 train loss: 3.099\n",
      "Epoch #15 mAP@0.5: 67.96%\n",
      "Epoch #15 mAP@0.5:0.95: 26.15%\n",
      "Took 0.819 minutes for epoch 14\n",
      "\n",
      "BEST VALIDATION mAP: 0.26152104139328003\n",
      "\n",
      "SAVING BEST MODEL FOR EPOCH: 15\n",
      "\n",
      "SAVING PLOTS COMPLETE...\n",
      "Adjusting learning rate of group 0 to 1.0000e-05.\n",
      "\n",
      "EPOCH 16 of 100\n",
      "Training\n"
     ]
    },
    {
     "data": {
      "application/vnd.jupyter.widget-view+json": {
       "model_id": "b9d5924cb2e54d9c983a34272fa191a9",
       "version_major": 2,
       "version_minor": 0
      },
      "text/plain": [
       "  0%|          | 0/94 [00:00<?, ?it/s]"
      ]
     },
     "metadata": {},
     "output_type": "display_data"
    },
    {
     "name": "stdout",
     "output_type": "stream",
     "text": [
      "Validating\n"
     ]
    },
    {
     "data": {
      "application/vnd.jupyter.widget-view+json": {
       "model_id": "5d714ab40a484ca0b9f16c4c79a9b81d",
       "version_major": 2,
       "version_minor": 0
      },
      "text/plain": [
       "  0%|          | 0/14 [00:00<?, ?it/s]"
      ]
     },
     "metadata": {},
     "output_type": "display_data"
    },
    {
     "name": "stdout",
     "output_type": "stream",
     "text": [
      "Epoch #16 train loss: 3.072\n",
      "Epoch #16 mAP@0.5: 68.47%\n",
      "Epoch #16 mAP@0.5:0.95: 26.24%\n",
      "Took 0.834 minutes for epoch 15\n",
      "\n",
      "BEST VALIDATION mAP: 0.2624269425868988\n",
      "\n",
      "SAVING BEST MODEL FOR EPOCH: 16\n",
      "\n",
      "SAVING PLOTS COMPLETE...\n",
      "Adjusting learning rate of group 0 to 1.0000e-05.\n",
      "\n",
      "EPOCH 17 of 100\n",
      "Training\n"
     ]
    },
    {
     "data": {
      "application/vnd.jupyter.widget-view+json": {
       "model_id": "356321439ca94e2f83b09d40173b3836",
       "version_major": 2,
       "version_minor": 0
      },
      "text/plain": [
       "  0%|          | 0/94 [00:00<?, ?it/s]"
      ]
     },
     "metadata": {},
     "output_type": "display_data"
    },
    {
     "name": "stdout",
     "output_type": "stream",
     "text": [
      "Validating\n"
     ]
    },
    {
     "data": {
      "application/vnd.jupyter.widget-view+json": {
       "model_id": "6b6894a6ebf4494b8b1ecc9f6c21267e",
       "version_major": 2,
       "version_minor": 0
      },
      "text/plain": [
       "  0%|          | 0/14 [00:00<?, ?it/s]"
      ]
     },
     "metadata": {},
     "output_type": "display_data"
    },
    {
     "name": "stdout",
     "output_type": "stream",
     "text": [
      "Epoch #17 train loss: 3.061\n",
      "Epoch #17 mAP@0.5: 69.27%\n",
      "Epoch #17 mAP@0.5:0.95: 26.36%\n",
      "Took 0.823 minutes for epoch 16\n",
      "\n",
      "BEST VALIDATION mAP: 0.2635610103607178\n",
      "\n",
      "SAVING BEST MODEL FOR EPOCH: 17\n",
      "\n",
      "SAVING PLOTS COMPLETE...\n",
      "Adjusting learning rate of group 0 to 1.0000e-05.\n",
      "\n",
      "EPOCH 18 of 100\n",
      "Training\n"
     ]
    },
    {
     "data": {
      "application/vnd.jupyter.widget-view+json": {
       "model_id": "7f53e03982454ed991fa9e26cc9c462a",
       "version_major": 2,
       "version_minor": 0
      },
      "text/plain": [
       "  0%|          | 0/94 [00:00<?, ?it/s]"
      ]
     },
     "metadata": {},
     "output_type": "display_data"
    },
    {
     "name": "stdout",
     "output_type": "stream",
     "text": [
      "Validating\n"
     ]
    },
    {
     "data": {
      "application/vnd.jupyter.widget-view+json": {
       "model_id": "8e3efa911b074753952ddaf3df0d5048",
       "version_major": 2,
       "version_minor": 0
      },
      "text/plain": [
       "  0%|          | 0/14 [00:00<?, ?it/s]"
      ]
     },
     "metadata": {},
     "output_type": "display_data"
    },
    {
     "name": "stdout",
     "output_type": "stream",
     "text": [
      "Epoch #18 train loss: 3.065\n",
      "Epoch #18 mAP@0.5: 69.45%\n",
      "Epoch #18 mAP@0.5:0.95: 26.27%\n",
      "Took 0.834 minutes for epoch 17\n",
      "SAVING PLOTS COMPLETE...\n",
      "Adjusting learning rate of group 0 to 1.0000e-05.\n",
      "\n",
      "EPOCH 19 of 100\n",
      "Training\n"
     ]
    },
    {
     "data": {
      "application/vnd.jupyter.widget-view+json": {
       "model_id": "788d4857436040fb84db4d0fad4bcb0d",
       "version_major": 2,
       "version_minor": 0
      },
      "text/plain": [
       "  0%|          | 0/94 [00:00<?, ?it/s]"
      ]
     },
     "metadata": {},
     "output_type": "display_data"
    },
    {
     "name": "stdout",
     "output_type": "stream",
     "text": [
      "Validating\n"
     ]
    },
    {
     "data": {
      "application/vnd.jupyter.widget-view+json": {
       "model_id": "f11bfdc4e43d4b40ae97f27c2fcda36f",
       "version_major": 2,
       "version_minor": 0
      },
      "text/plain": [
       "  0%|          | 0/14 [00:00<?, ?it/s]"
      ]
     },
     "metadata": {},
     "output_type": "display_data"
    },
    {
     "name": "stdout",
     "output_type": "stream",
     "text": [
      "Epoch #19 train loss: 3.054\n",
      "Epoch #19 mAP@0.5: 68.51%\n",
      "Epoch #19 mAP@0.5:0.95: 26.49%\n",
      "Took 0.841 minutes for epoch 18\n",
      "\n",
      "BEST VALIDATION mAP: 0.2649141848087311\n",
      "\n",
      "SAVING BEST MODEL FOR EPOCH: 19\n",
      "\n",
      "SAVING PLOTS COMPLETE...\n",
      "Adjusting learning rate of group 0 to 1.0000e-05.\n",
      "\n",
      "EPOCH 20 of 100\n",
      "Training\n"
     ]
    },
    {
     "data": {
      "application/vnd.jupyter.widget-view+json": {
       "model_id": "1d9ed1dff5754801867fa414c0e93988",
       "version_major": 2,
       "version_minor": 0
      },
      "text/plain": [
       "  0%|          | 0/94 [00:00<?, ?it/s]"
      ]
     },
     "metadata": {},
     "output_type": "display_data"
    },
    {
     "name": "stdout",
     "output_type": "stream",
     "text": [
      "Validating\n"
     ]
    },
    {
     "data": {
      "application/vnd.jupyter.widget-view+json": {
       "model_id": "ea4c8280f111470f8f3fc7e9ca7e5f13",
       "version_major": 2,
       "version_minor": 0
      },
      "text/plain": [
       "  0%|          | 0/14 [00:00<?, ?it/s]"
      ]
     },
     "metadata": {},
     "output_type": "display_data"
    },
    {
     "name": "stdout",
     "output_type": "stream",
     "text": [
      "Epoch #20 train loss: 3.060\n",
      "Epoch #20 mAP@0.5: 68.68%\n",
      "Epoch #20 mAP@0.5:0.95: 26.46%\n",
      "Took 0.829 minutes for epoch 19\n",
      "SAVING PLOTS COMPLETE...\n",
      "Adjusting learning rate of group 0 to 1.0000e-05.\n",
      "\n",
      "EPOCH 21 of 100\n",
      "Training\n"
     ]
    },
    {
     "data": {
      "application/vnd.jupyter.widget-view+json": {
       "model_id": "f0c910c1cdbd44a19f5086858305379e",
       "version_major": 2,
       "version_minor": 0
      },
      "text/plain": [
       "  0%|          | 0/94 [00:00<?, ?it/s]"
      ]
     },
     "metadata": {},
     "output_type": "display_data"
    },
    {
     "name": "stdout",
     "output_type": "stream",
     "text": [
      "Validating\n"
     ]
    },
    {
     "data": {
      "application/vnd.jupyter.widget-view+json": {
       "model_id": "d00f4af40cf74091bb9873063b5ad58f",
       "version_major": 2,
       "version_minor": 0
      },
      "text/plain": [
       "  0%|          | 0/14 [00:00<?, ?it/s]"
      ]
     },
     "metadata": {},
     "output_type": "display_data"
    },
    {
     "name": "stdout",
     "output_type": "stream",
     "text": [
      "Epoch #21 train loss: 3.051\n",
      "Epoch #21 mAP@0.5: 69.38%\n",
      "Epoch #21 mAP@0.5:0.95: 26.56%\n",
      "Took 0.830 minutes for epoch 20\n",
      "\n",
      "BEST VALIDATION mAP: 0.2655677795410156\n",
      "\n",
      "SAVING BEST MODEL FOR EPOCH: 21\n",
      "\n",
      "SAVING PLOTS COMPLETE...\n",
      "Adjusting learning rate of group 0 to 1.0000e-05.\n",
      "\n",
      "EPOCH 22 of 100\n",
      "Training\n"
     ]
    },
    {
     "data": {
      "application/vnd.jupyter.widget-view+json": {
       "model_id": "2ef4a90d1cd9473d8fd62188856e7e6d",
       "version_major": 2,
       "version_minor": 0
      },
      "text/plain": [
       "  0%|          | 0/94 [00:00<?, ?it/s]"
      ]
     },
     "metadata": {},
     "output_type": "display_data"
    },
    {
     "name": "stdout",
     "output_type": "stream",
     "text": [
      "Validating\n"
     ]
    },
    {
     "data": {
      "application/vnd.jupyter.widget-view+json": {
       "model_id": "22d656a9da4a431a9ff917591f83dd1e",
       "version_major": 2,
       "version_minor": 0
      },
      "text/plain": [
       "  0%|          | 0/14 [00:00<?, ?it/s]"
      ]
     },
     "metadata": {},
     "output_type": "display_data"
    },
    {
     "name": "stdout",
     "output_type": "stream",
     "text": [
      "Epoch #22 train loss: 3.041\n",
      "Epoch #22 mAP@0.5: 69.56%\n",
      "Epoch #22 mAP@0.5:0.95: 26.39%\n",
      "Took 0.819 minutes for epoch 21\n",
      "SAVING PLOTS COMPLETE...\n",
      "Adjusting learning rate of group 0 to 1.0000e-05.\n",
      "\n",
      "EPOCH 23 of 100\n",
      "Training\n"
     ]
    },
    {
     "data": {
      "application/vnd.jupyter.widget-view+json": {
       "model_id": "61b037ff5e50402ea4640cd851fc4241",
       "version_major": 2,
       "version_minor": 0
      },
      "text/plain": [
       "  0%|          | 0/94 [00:00<?, ?it/s]"
      ]
     },
     "metadata": {},
     "output_type": "display_data"
    },
    {
     "name": "stdout",
     "output_type": "stream",
     "text": [
      "Validating\n"
     ]
    },
    {
     "data": {
      "application/vnd.jupyter.widget-view+json": {
       "model_id": "ab878ea4606b4394b5a3eecb2c389f42",
       "version_major": 2,
       "version_minor": 0
      },
      "text/plain": [
       "  0%|          | 0/14 [00:00<?, ?it/s]"
      ]
     },
     "metadata": {},
     "output_type": "display_data"
    },
    {
     "name": "stdout",
     "output_type": "stream",
     "text": [
      "Epoch #23 train loss: 3.052\n",
      "Epoch #23 mAP@0.5: 69.47%\n",
      "Epoch #23 mAP@0.5:0.95: 26.50%\n",
      "Took 0.819 minutes for epoch 22\n",
      "SAVING PLOTS COMPLETE...\n",
      "Adjusting learning rate of group 0 to 1.0000e-05.\n",
      "\n",
      "EPOCH 24 of 100\n",
      "Training\n"
     ]
    },
    {
     "data": {
      "application/vnd.jupyter.widget-view+json": {
       "model_id": "59b063bf61f84cca8f95b17ed4e45f82",
       "version_major": 2,
       "version_minor": 0
      },
      "text/plain": [
       "  0%|          | 0/94 [00:00<?, ?it/s]"
      ]
     },
     "metadata": {},
     "output_type": "display_data"
    },
    {
     "name": "stdout",
     "output_type": "stream",
     "text": [
      "Validating\n"
     ]
    },
    {
     "data": {
      "application/vnd.jupyter.widget-view+json": {
       "model_id": "51b5149aabe24579bb1f2eb75aa1aed6",
       "version_major": 2,
       "version_minor": 0
      },
      "text/plain": [
       "  0%|          | 0/14 [00:00<?, ?it/s]"
      ]
     },
     "metadata": {},
     "output_type": "display_data"
    },
    {
     "name": "stdout",
     "output_type": "stream",
     "text": [
      "Epoch #24 train loss: 3.040\n",
      "Epoch #24 mAP@0.5: 69.29%\n",
      "Epoch #24 mAP@0.5:0.95: 26.65%\n",
      "Took 0.822 minutes for epoch 23\n",
      "\n",
      "BEST VALIDATION mAP: 0.2664841413497925\n",
      "\n",
      "SAVING BEST MODEL FOR EPOCH: 24\n",
      "\n",
      "SAVING PLOTS COMPLETE...\n",
      "Adjusting learning rate of group 0 to 1.0000e-05.\n",
      "\n",
      "EPOCH 25 of 100\n",
      "Training\n"
     ]
    },
    {
     "data": {
      "application/vnd.jupyter.widget-view+json": {
       "model_id": "4a25470e367f43f19adc51b269431381",
       "version_major": 2,
       "version_minor": 0
      },
      "text/plain": [
       "  0%|          | 0/94 [00:00<?, ?it/s]"
      ]
     },
     "metadata": {},
     "output_type": "display_data"
    },
    {
     "name": "stdout",
     "output_type": "stream",
     "text": [
      "Validating\n"
     ]
    },
    {
     "data": {
      "application/vnd.jupyter.widget-view+json": {
       "model_id": "bf936f97f02f4c9b8ed55bde86fe753f",
       "version_major": 2,
       "version_minor": 0
      },
      "text/plain": [
       "  0%|          | 0/14 [00:00<?, ?it/s]"
      ]
     },
     "metadata": {},
     "output_type": "display_data"
    },
    {
     "name": "stdout",
     "output_type": "stream",
     "text": [
      "Epoch #25 train loss: 3.032\n",
      "Epoch #25 mAP@0.5: 69.45%\n",
      "Epoch #25 mAP@0.5:0.95: 26.68%\n",
      "Took 0.831 minutes for epoch 24\n",
      "\n",
      "BEST VALIDATION mAP: 0.26682743430137634\n",
      "\n",
      "SAVING BEST MODEL FOR EPOCH: 25\n",
      "\n",
      "SAVING PLOTS COMPLETE...\n",
      "Adjusting learning rate of group 0 to 1.0000e-05.\n",
      "\n",
      "EPOCH 26 of 100\n",
      "Training\n"
     ]
    },
    {
     "data": {
      "application/vnd.jupyter.widget-view+json": {
       "model_id": "adc944c79e7443f3b9371b762de54aa3",
       "version_major": 2,
       "version_minor": 0
      },
      "text/plain": [
       "  0%|          | 0/94 [00:00<?, ?it/s]"
      ]
     },
     "metadata": {},
     "output_type": "display_data"
    },
    {
     "name": "stdout",
     "output_type": "stream",
     "text": [
      "Validating\n"
     ]
    },
    {
     "data": {
      "application/vnd.jupyter.widget-view+json": {
       "model_id": "39747e66b4354a578a82fef6b53d9804",
       "version_major": 2,
       "version_minor": 0
      },
      "text/plain": [
       "  0%|          | 0/14 [00:00<?, ?it/s]"
      ]
     },
     "metadata": {},
     "output_type": "display_data"
    },
    {
     "name": "stdout",
     "output_type": "stream",
     "text": [
      "Epoch #26 train loss: 3.030\n",
      "Epoch #26 mAP@0.5: 69.55%\n",
      "Epoch #26 mAP@0.5:0.95: 26.49%\n",
      "Took 0.833 minutes for epoch 25\n",
      "SAVING PLOTS COMPLETE...\n",
      "Adjusting learning rate of group 0 to 1.0000e-05.\n",
      "\n",
      "EPOCH 27 of 100\n",
      "Training\n"
     ]
    },
    {
     "data": {
      "application/vnd.jupyter.widget-view+json": {
       "model_id": "aa1aacfaeb634281aae2a1dcffc74667",
       "version_major": 2,
       "version_minor": 0
      },
      "text/plain": [
       "  0%|          | 0/94 [00:00<?, ?it/s]"
      ]
     },
     "metadata": {},
     "output_type": "display_data"
    },
    {
     "name": "stdout",
     "output_type": "stream",
     "text": [
      "Validating\n"
     ]
    },
    {
     "data": {
      "application/vnd.jupyter.widget-view+json": {
       "model_id": "c804248034fb4cfc8a1d38b24c6424fa",
       "version_major": 2,
       "version_minor": 0
      },
      "text/plain": [
       "  0%|          | 0/14 [00:00<?, ?it/s]"
      ]
     },
     "metadata": {},
     "output_type": "display_data"
    },
    {
     "name": "stdout",
     "output_type": "stream",
     "text": [
      "Epoch #27 train loss: 3.037\n",
      "Epoch #27 mAP@0.5: 69.69%\n",
      "Epoch #27 mAP@0.5:0.95: 26.49%\n",
      "Took 0.841 minutes for epoch 26\n",
      "SAVING PLOTS COMPLETE...\n",
      "Adjusting learning rate of group 0 to 1.0000e-05.\n",
      "\n",
      "EPOCH 28 of 100\n",
      "Training\n"
     ]
    },
    {
     "data": {
      "application/vnd.jupyter.widget-view+json": {
       "model_id": "56ca5e9952bb4d4e8ba0732d18dd47a8",
       "version_major": 2,
       "version_minor": 0
      },
      "text/plain": [
       "  0%|          | 0/94 [00:00<?, ?it/s]"
      ]
     },
     "metadata": {},
     "output_type": "display_data"
    },
    {
     "name": "stdout",
     "output_type": "stream",
     "text": [
      "Validating\n"
     ]
    },
    {
     "data": {
      "application/vnd.jupyter.widget-view+json": {
       "model_id": "8c6a86fb8b2e4a60afa7099a685b61d8",
       "version_major": 2,
       "version_minor": 0
      },
      "text/plain": [
       "  0%|          | 0/14 [00:00<?, ?it/s]"
      ]
     },
     "metadata": {},
     "output_type": "display_data"
    },
    {
     "name": "stdout",
     "output_type": "stream",
     "text": [
      "Epoch #28 train loss: 3.024\n",
      "Epoch #28 mAP@0.5: 69.52%\n",
      "Epoch #28 mAP@0.5:0.95: 26.75%\n",
      "Took 0.833 minutes for epoch 27\n",
      "\n",
      "BEST VALIDATION mAP: 0.26745423674583435\n",
      "\n",
      "SAVING BEST MODEL FOR EPOCH: 28\n",
      "\n",
      "SAVING PLOTS COMPLETE...\n",
      "Adjusting learning rate of group 0 to 1.0000e-05.\n",
      "\n",
      "EPOCH 29 of 100\n",
      "Training\n"
     ]
    },
    {
     "data": {
      "application/vnd.jupyter.widget-view+json": {
       "model_id": "b0cbeebba6294791a7cb7766f6d92779",
       "version_major": 2,
       "version_minor": 0
      },
      "text/plain": [
       "  0%|          | 0/94 [00:00<?, ?it/s]"
      ]
     },
     "metadata": {},
     "output_type": "display_data"
    },
    {
     "name": "stdout",
     "output_type": "stream",
     "text": [
      "Validating\n"
     ]
    },
    {
     "data": {
      "application/vnd.jupyter.widget-view+json": {
       "model_id": "cf4144ed6935470b9b090bacd7c37ffd",
       "version_major": 2,
       "version_minor": 0
      },
      "text/plain": [
       "  0%|          | 0/14 [00:00<?, ?it/s]"
      ]
     },
     "metadata": {},
     "output_type": "display_data"
    },
    {
     "name": "stdout",
     "output_type": "stream",
     "text": [
      "Epoch #29 train loss: 3.017\n",
      "Epoch #29 mAP@0.5: 69.62%\n",
      "Epoch #29 mAP@0.5:0.95: 26.81%\n",
      "Took 0.831 minutes for epoch 28\n",
      "\n",
      "BEST VALIDATION mAP: 0.26814189553260803\n",
      "\n",
      "SAVING BEST MODEL FOR EPOCH: 29\n",
      "\n",
      "SAVING PLOTS COMPLETE...\n",
      "Adjusting learning rate of group 0 to 1.0000e-05.\n",
      "\n",
      "EPOCH 30 of 100\n",
      "Training\n"
     ]
    },
    {
     "data": {
      "application/vnd.jupyter.widget-view+json": {
       "model_id": "41b76283dd6944159cd596404f5cce70",
       "version_major": 2,
       "version_minor": 0
      },
      "text/plain": [
       "  0%|          | 0/94 [00:00<?, ?it/s]"
      ]
     },
     "metadata": {},
     "output_type": "display_data"
    },
    {
     "name": "stdout",
     "output_type": "stream",
     "text": [
      "Validating\n"
     ]
    },
    {
     "data": {
      "application/vnd.jupyter.widget-view+json": {
       "model_id": "8e42c606d2144c97add4ca2027805501",
       "version_major": 2,
       "version_minor": 0
      },
      "text/plain": [
       "  0%|          | 0/14 [00:00<?, ?it/s]"
      ]
     },
     "metadata": {},
     "output_type": "display_data"
    },
    {
     "name": "stdout",
     "output_type": "stream",
     "text": [
      "Epoch #30 train loss: 3.022\n",
      "Epoch #30 mAP@0.5: 69.59%\n",
      "Epoch #30 mAP@0.5:0.95: 26.78%\n",
      "Took 0.828 minutes for epoch 29\n",
      "SAVING PLOTS COMPLETE...\n",
      "Adjusting learning rate of group 0 to 1.0000e-06.\n",
      "\n",
      "EPOCH 31 of 100\n",
      "Training\n"
     ]
    },
    {
     "data": {
      "application/vnd.jupyter.widget-view+json": {
       "model_id": "b919320abdb846379849746d779f68ff",
       "version_major": 2,
       "version_minor": 0
      },
      "text/plain": [
       "  0%|          | 0/94 [00:00<?, ?it/s]"
      ]
     },
     "metadata": {},
     "output_type": "display_data"
    },
    {
     "name": "stdout",
     "output_type": "stream",
     "text": [
      "Validating\n"
     ]
    },
    {
     "data": {
      "application/vnd.jupyter.widget-view+json": {
       "model_id": "2d85d2f01cd74a178cb6ae4b655c6097",
       "version_major": 2,
       "version_minor": 0
      },
      "text/plain": [
       "  0%|          | 0/14 [00:00<?, ?it/s]"
      ]
     },
     "metadata": {},
     "output_type": "display_data"
    },
    {
     "name": "stdout",
     "output_type": "stream",
     "text": [
      "Epoch #31 train loss: 3.015\n",
      "Epoch #31 mAP@0.5: 69.59%\n",
      "Epoch #31 mAP@0.5:0.95: 26.82%\n",
      "Took 0.819 minutes for epoch 30\n",
      "\n",
      "BEST VALIDATION mAP: 0.2681690454483032\n",
      "\n",
      "SAVING BEST MODEL FOR EPOCH: 31\n",
      "\n",
      "SAVING PLOTS COMPLETE...\n",
      "Adjusting learning rate of group 0 to 1.0000e-06.\n",
      "\n",
      "EPOCH 32 of 100\n",
      "Training\n"
     ]
    },
    {
     "data": {
      "application/vnd.jupyter.widget-view+json": {
       "model_id": "38c7453b335d43f291cb1946d9064557",
       "version_major": 2,
       "version_minor": 0
      },
      "text/plain": [
       "  0%|          | 0/94 [00:00<?, ?it/s]"
      ]
     },
     "metadata": {},
     "output_type": "display_data"
    },
    {
     "name": "stdout",
     "output_type": "stream",
     "text": [
      "Validating\n"
     ]
    },
    {
     "data": {
      "application/vnd.jupyter.widget-view+json": {
       "model_id": "6b9d83eb74534d54bcf6e27259ce3d1a",
       "version_major": 2,
       "version_minor": 0
      },
      "text/plain": [
       "  0%|          | 0/14 [00:00<?, ?it/s]"
      ]
     },
     "metadata": {},
     "output_type": "display_data"
    },
    {
     "name": "stdout",
     "output_type": "stream",
     "text": [
      "Epoch #32 train loss: 3.021\n",
      "Epoch #32 mAP@0.5: 69.61%\n",
      "Epoch #32 mAP@0.5:0.95: 26.77%\n",
      "Took 0.842 minutes for epoch 31\n",
      "SAVING PLOTS COMPLETE...\n",
      "Adjusting learning rate of group 0 to 1.0000e-06.\n",
      "\n",
      "EPOCH 33 of 100\n",
      "Training\n"
     ]
    },
    {
     "data": {
      "application/vnd.jupyter.widget-view+json": {
       "model_id": "e19bd016786a4796b2dad14673997c0f",
       "version_major": 2,
       "version_minor": 0
      },
      "text/plain": [
       "  0%|          | 0/94 [00:00<?, ?it/s]"
      ]
     },
     "metadata": {},
     "output_type": "display_data"
    },
    {
     "name": "stdout",
     "output_type": "stream",
     "text": [
      "Validating\n"
     ]
    },
    {
     "data": {
      "application/vnd.jupyter.widget-view+json": {
       "model_id": "7f64744f67b94b078d063ab5e351aa23",
       "version_major": 2,
       "version_minor": 0
      },
      "text/plain": [
       "  0%|          | 0/14 [00:00<?, ?it/s]"
      ]
     },
     "metadata": {},
     "output_type": "display_data"
    },
    {
     "name": "stdout",
     "output_type": "stream",
     "text": [
      "Epoch #33 train loss: 3.010\n",
      "Epoch #33 mAP@0.5: 69.67%\n",
      "Epoch #33 mAP@0.5:0.95: 26.78%\n",
      "Took 0.834 minutes for epoch 32\n",
      "SAVING PLOTS COMPLETE...\n",
      "Adjusting learning rate of group 0 to 1.0000e-06.\n",
      "\n",
      "EPOCH 34 of 100\n",
      "Training\n"
     ]
    },
    {
     "data": {
      "application/vnd.jupyter.widget-view+json": {
       "model_id": "4a7f99a4b15c4840a165f31a8ab116b9",
       "version_major": 2,
       "version_minor": 0
      },
      "text/plain": [
       "  0%|          | 0/94 [00:00<?, ?it/s]"
      ]
     },
     "metadata": {},
     "output_type": "display_data"
    },
    {
     "name": "stdout",
     "output_type": "stream",
     "text": [
      "Validating\n"
     ]
    },
    {
     "data": {
      "application/vnd.jupyter.widget-view+json": {
       "model_id": "1cbfd9e5d8f440f8888b22bce5c9de7e",
       "version_major": 2,
       "version_minor": 0
      },
      "text/plain": [
       "  0%|          | 0/14 [00:00<?, ?it/s]"
      ]
     },
     "metadata": {},
     "output_type": "display_data"
    },
    {
     "name": "stdout",
     "output_type": "stream",
     "text": [
      "Epoch #34 train loss: 3.016\n",
      "Epoch #34 mAP@0.5: 69.65%\n",
      "Epoch #34 mAP@0.5:0.95: 26.85%\n",
      "Took 0.829 minutes for epoch 33\n",
      "\n",
      "BEST VALIDATION mAP: 0.26852285861968994\n",
      "\n",
      "SAVING BEST MODEL FOR EPOCH: 34\n",
      "\n",
      "SAVING PLOTS COMPLETE...\n",
      "Adjusting learning rate of group 0 to 1.0000e-06.\n",
      "\n",
      "EPOCH 35 of 100\n",
      "Training\n"
     ]
    },
    {
     "data": {
      "application/vnd.jupyter.widget-view+json": {
       "model_id": "2344bbcf10084bf09df2af8cea2a1711",
       "version_major": 2,
       "version_minor": 0
      },
      "text/plain": [
       "  0%|          | 0/94 [00:00<?, ?it/s]"
      ]
     },
     "metadata": {},
     "output_type": "display_data"
    },
    {
     "name": "stdout",
     "output_type": "stream",
     "text": [
      "Validating\n"
     ]
    },
    {
     "data": {
      "application/vnd.jupyter.widget-view+json": {
       "model_id": "6b3b0c7af5a84cba81074be61ac32f53",
       "version_major": 2,
       "version_minor": 0
      },
      "text/plain": [
       "  0%|          | 0/14 [00:00<?, ?it/s]"
      ]
     },
     "metadata": {},
     "output_type": "display_data"
    },
    {
     "name": "stdout",
     "output_type": "stream",
     "text": [
      "Epoch #35 train loss: 3.021\n",
      "Epoch #35 mAP@0.5: 69.69%\n",
      "Epoch #35 mAP@0.5:0.95: 26.84%\n",
      "Took 0.816 minutes for epoch 34\n",
      "SAVING PLOTS COMPLETE...\n",
      "Adjusting learning rate of group 0 to 1.0000e-06.\n",
      "\n",
      "EPOCH 36 of 100\n",
      "Training\n"
     ]
    },
    {
     "data": {
      "application/vnd.jupyter.widget-view+json": {
       "model_id": "e817133f8d3344e1abafe78533d3b5ba",
       "version_major": 2,
       "version_minor": 0
      },
      "text/plain": [
       "  0%|          | 0/94 [00:00<?, ?it/s]"
      ]
     },
     "metadata": {},
     "output_type": "display_data"
    },
    {
     "name": "stdout",
     "output_type": "stream",
     "text": [
      "Validating\n"
     ]
    },
    {
     "data": {
      "application/vnd.jupyter.widget-view+json": {
       "model_id": "43243f01416f441f8d6f6f144038f070",
       "version_major": 2,
       "version_minor": 0
      },
      "text/plain": [
       "  0%|          | 0/14 [00:00<?, ?it/s]"
      ]
     },
     "metadata": {},
     "output_type": "display_data"
    },
    {
     "name": "stdout",
     "output_type": "stream",
     "text": [
      "Epoch #36 train loss: 3.017\n",
      "Epoch #36 mAP@0.5: 69.65%\n",
      "Epoch #36 mAP@0.5:0.95: 26.87%\n",
      "Took 0.831 minutes for epoch 35\n",
      "\n",
      "BEST VALIDATION mAP: 0.26866137981414795\n",
      "\n",
      "SAVING BEST MODEL FOR EPOCH: 36\n",
      "\n",
      "SAVING PLOTS COMPLETE...\n",
      "Adjusting learning rate of group 0 to 1.0000e-06.\n",
      "\n",
      "EPOCH 37 of 100\n",
      "Training\n"
     ]
    },
    {
     "data": {
      "application/vnd.jupyter.widget-view+json": {
       "model_id": "3ceb6d5226a44bdb8c3c5c47383c9321",
       "version_major": 2,
       "version_minor": 0
      },
      "text/plain": [
       "  0%|          | 0/94 [00:00<?, ?it/s]"
      ]
     },
     "metadata": {},
     "output_type": "display_data"
    },
    {
     "name": "stdout",
     "output_type": "stream",
     "text": [
      "Validating\n"
     ]
    },
    {
     "data": {
      "application/vnd.jupyter.widget-view+json": {
       "model_id": "8129fb2b49984e1fa0dfaa5e6ca518f7",
       "version_major": 2,
       "version_minor": 0
      },
      "text/plain": [
       "  0%|          | 0/14 [00:00<?, ?it/s]"
      ]
     },
     "metadata": {},
     "output_type": "display_data"
    },
    {
     "name": "stdout",
     "output_type": "stream",
     "text": [
      "Epoch #37 train loss: 3.006\n",
      "Epoch #37 mAP@0.5: 69.75%\n",
      "Epoch #37 mAP@0.5:0.95: 26.86%\n",
      "Took 0.817 minutes for epoch 36\n",
      "SAVING PLOTS COMPLETE...\n",
      "Adjusting learning rate of group 0 to 1.0000e-06.\n",
      "\n",
      "EPOCH 38 of 100\n",
      "Training\n"
     ]
    },
    {
     "data": {
      "application/vnd.jupyter.widget-view+json": {
       "model_id": "a97f41d1d35a488fb0683a016c718b15",
       "version_major": 2,
       "version_minor": 0
      },
      "text/plain": [
       "  0%|          | 0/94 [00:00<?, ?it/s]"
      ]
     },
     "metadata": {},
     "output_type": "display_data"
    },
    {
     "name": "stdout",
     "output_type": "stream",
     "text": [
      "Validating\n"
     ]
    },
    {
     "data": {
      "application/vnd.jupyter.widget-view+json": {
       "model_id": "47175c8bca1041e99d6bf3d629668eee",
       "version_major": 2,
       "version_minor": 0
      },
      "text/plain": [
       "  0%|          | 0/14 [00:00<?, ?it/s]"
      ]
     },
     "metadata": {},
     "output_type": "display_data"
    },
    {
     "name": "stdout",
     "output_type": "stream",
     "text": [
      "Epoch #38 train loss: 3.020\n",
      "Epoch #38 mAP@0.5: 69.72%\n",
      "Epoch #38 mAP@0.5:0.95: 26.87%\n",
      "Took 0.828 minutes for epoch 37\n",
      "\n",
      "BEST VALIDATION mAP: 0.26871395111083984\n",
      "\n",
      "SAVING BEST MODEL FOR EPOCH: 38\n",
      "\n",
      "SAVING PLOTS COMPLETE...\n",
      "Adjusting learning rate of group 0 to 1.0000e-06.\n",
      "\n",
      "EPOCH 39 of 100\n",
      "Training\n"
     ]
    },
    {
     "data": {
      "application/vnd.jupyter.widget-view+json": {
       "model_id": "31d1df5ce81648e798c5fb4477bd479f",
       "version_major": 2,
       "version_minor": 0
      },
      "text/plain": [
       "  0%|          | 0/94 [00:00<?, ?it/s]"
      ]
     },
     "metadata": {},
     "output_type": "display_data"
    },
    {
     "name": "stdout",
     "output_type": "stream",
     "text": [
      "Validating\n"
     ]
    },
    {
     "data": {
      "application/vnd.jupyter.widget-view+json": {
       "model_id": "fb9bf1f1336e40d69d46c5ff70fddced",
       "version_major": 2,
       "version_minor": 0
      },
      "text/plain": [
       "  0%|          | 0/14 [00:00<?, ?it/s]"
      ]
     },
     "metadata": {},
     "output_type": "display_data"
    },
    {
     "name": "stdout",
     "output_type": "stream",
     "text": [
      "Epoch #39 train loss: 3.008\n",
      "Epoch #39 mAP@0.5: 69.75%\n",
      "Epoch #39 mAP@0.5:0.95: 26.88%\n",
      "Took 0.823 minutes for epoch 38\n",
      "\n",
      "BEST VALIDATION mAP: 0.2688009738922119\n",
      "\n",
      "SAVING BEST MODEL FOR EPOCH: 39\n",
      "\n",
      "SAVING PLOTS COMPLETE...\n",
      "Adjusting learning rate of group 0 to 1.0000e-06.\n",
      "\n",
      "EPOCH 40 of 100\n",
      "Training\n"
     ]
    },
    {
     "data": {
      "application/vnd.jupyter.widget-view+json": {
       "model_id": "8f33de99ba6f485bbc4cf7137af43d77",
       "version_major": 2,
       "version_minor": 0
      },
      "text/plain": [
       "  0%|          | 0/94 [00:00<?, ?it/s]"
      ]
     },
     "metadata": {},
     "output_type": "display_data"
    },
    {
     "name": "stdout",
     "output_type": "stream",
     "text": [
      "Validating\n"
     ]
    },
    {
     "data": {
      "application/vnd.jupyter.widget-view+json": {
       "model_id": "852c20a660944bcda42f4fe252ad1c83",
       "version_major": 2,
       "version_minor": 0
      },
      "text/plain": [
       "  0%|          | 0/14 [00:00<?, ?it/s]"
      ]
     },
     "metadata": {},
     "output_type": "display_data"
    },
    {
     "name": "stdout",
     "output_type": "stream",
     "text": [
      "Epoch #40 train loss: 3.016\n",
      "Epoch #40 mAP@0.5: 69.73%\n",
      "Epoch #40 mAP@0.5:0.95: 26.84%\n",
      "Took 0.815 minutes for epoch 39\n",
      "SAVING PLOTS COMPLETE...\n",
      "Adjusting learning rate of group 0 to 1.0000e-06.\n",
      "\n",
      "EPOCH 41 of 100\n",
      "Training\n"
     ]
    },
    {
     "data": {
      "application/vnd.jupyter.widget-view+json": {
       "model_id": "b2225d313b4740bb92f66ca05f156855",
       "version_major": 2,
       "version_minor": 0
      },
      "text/plain": [
       "  0%|          | 0/94 [00:00<?, ?it/s]"
      ]
     },
     "metadata": {},
     "output_type": "display_data"
    },
    {
     "name": "stdout",
     "output_type": "stream",
     "text": [
      "Validating\n"
     ]
    },
    {
     "data": {
      "application/vnd.jupyter.widget-view+json": {
       "model_id": "93a39ee940484e16a19d0dfb4882526b",
       "version_major": 2,
       "version_minor": 0
      },
      "text/plain": [
       "  0%|          | 0/14 [00:00<?, ?it/s]"
      ]
     },
     "metadata": {},
     "output_type": "display_data"
    },
    {
     "name": "stdout",
     "output_type": "stream",
     "text": [
      "Epoch #41 train loss: 3.008\n",
      "Epoch #41 mAP@0.5: 69.72%\n",
      "Epoch #41 mAP@0.5:0.95: 26.74%\n",
      "Took 0.811 minutes for epoch 40\n",
      "SAVING PLOTS COMPLETE...\n",
      "Adjusting learning rate of group 0 to 1.0000e-06.\n",
      "\n",
      "EPOCH 42 of 100\n",
      "Training\n"
     ]
    },
    {
     "data": {
      "application/vnd.jupyter.widget-view+json": {
       "model_id": "67bc006d4f9e4b2bb571fbdc34c9d0d7",
       "version_major": 2,
       "version_minor": 0
      },
      "text/plain": [
       "  0%|          | 0/94 [00:00<?, ?it/s]"
      ]
     },
     "metadata": {},
     "output_type": "display_data"
    },
    {
     "name": "stdout",
     "output_type": "stream",
     "text": [
      "Validating\n"
     ]
    },
    {
     "data": {
      "application/vnd.jupyter.widget-view+json": {
       "model_id": "f54b22351ee6470da8049bf0ea1b9c6e",
       "version_major": 2,
       "version_minor": 0
      },
      "text/plain": [
       "  0%|          | 0/14 [00:00<?, ?it/s]"
      ]
     },
     "metadata": {},
     "output_type": "display_data"
    },
    {
     "name": "stdout",
     "output_type": "stream",
     "text": [
      "Epoch #42 train loss: 3.000\n",
      "Epoch #42 mAP@0.5: 69.70%\n",
      "Epoch #42 mAP@0.5:0.95: 26.85%\n",
      "Took 0.825 minutes for epoch 41\n",
      "SAVING PLOTS COMPLETE...\n",
      "Adjusting learning rate of group 0 to 1.0000e-06.\n",
      "\n",
      "EPOCH 43 of 100\n",
      "Training\n"
     ]
    },
    {
     "data": {
      "application/vnd.jupyter.widget-view+json": {
       "model_id": "aa934cdadef64afda451783b806057cb",
       "version_major": 2,
       "version_minor": 0
      },
      "text/plain": [
       "  0%|          | 0/94 [00:00<?, ?it/s]"
      ]
     },
     "metadata": {},
     "output_type": "display_data"
    },
    {
     "name": "stdout",
     "output_type": "stream",
     "text": [
      "Validating\n"
     ]
    },
    {
     "data": {
      "application/vnd.jupyter.widget-view+json": {
       "model_id": "13a4b0d109c24f78b020de86c758a177",
       "version_major": 2,
       "version_minor": 0
      },
      "text/plain": [
       "  0%|          | 0/14 [00:00<?, ?it/s]"
      ]
     },
     "metadata": {},
     "output_type": "display_data"
    },
    {
     "name": "stdout",
     "output_type": "stream",
     "text": [
      "Epoch #43 train loss: 3.010\n",
      "Epoch #43 mAP@0.5: 69.75%\n",
      "Epoch #43 mAP@0.5:0.95: 26.86%\n",
      "Took 0.819 minutes for epoch 42\n",
      "SAVING PLOTS COMPLETE...\n",
      "Adjusting learning rate of group 0 to 1.0000e-06.\n",
      "\n",
      "EPOCH 44 of 100\n",
      "Training\n"
     ]
    },
    {
     "data": {
      "application/vnd.jupyter.widget-view+json": {
       "model_id": "67cb9c8805a746288e261102299e4e93",
       "version_major": 2,
       "version_minor": 0
      },
      "text/plain": [
       "  0%|          | 0/94 [00:00<?, ?it/s]"
      ]
     },
     "metadata": {},
     "output_type": "display_data"
    },
    {
     "name": "stdout",
     "output_type": "stream",
     "text": [
      "Validating\n"
     ]
    },
    {
     "data": {
      "application/vnd.jupyter.widget-view+json": {
       "model_id": "379b51d5f5ee4d7997e264583d474c4e",
       "version_major": 2,
       "version_minor": 0
      },
      "text/plain": [
       "  0%|          | 0/14 [00:00<?, ?it/s]"
      ]
     },
     "metadata": {},
     "output_type": "display_data"
    },
    {
     "name": "stdout",
     "output_type": "stream",
     "text": [
      "Epoch #44 train loss: 3.014\n",
      "Epoch #44 mAP@0.5: 69.78%\n",
      "Epoch #44 mAP@0.5:0.95: 26.89%\n",
      "Took 0.820 minutes for epoch 43\n",
      "\n",
      "BEST VALIDATION mAP: 0.26887083053588867\n",
      "\n",
      "SAVING BEST MODEL FOR EPOCH: 44\n",
      "\n",
      "SAVING PLOTS COMPLETE...\n",
      "Adjusting learning rate of group 0 to 1.0000e-06.\n",
      "\n",
      "EPOCH 45 of 100\n",
      "Training\n"
     ]
    },
    {
     "data": {
      "application/vnd.jupyter.widget-view+json": {
       "model_id": "96bbcc951d93453b9eeb3aca290a0868",
       "version_major": 2,
       "version_minor": 0
      },
      "text/plain": [
       "  0%|          | 0/94 [00:00<?, ?it/s]"
      ]
     },
     "metadata": {},
     "output_type": "display_data"
    },
    {
     "name": "stdout",
     "output_type": "stream",
     "text": [
      "Validating\n"
     ]
    },
    {
     "data": {
      "application/vnd.jupyter.widget-view+json": {
       "model_id": "75cd8f7073ff4db5b2091444e487beea",
       "version_major": 2,
       "version_minor": 0
      },
      "text/plain": [
       "  0%|          | 0/14 [00:00<?, ?it/s]"
      ]
     },
     "metadata": {},
     "output_type": "display_data"
    },
    {
     "name": "stdout",
     "output_type": "stream",
     "text": [
      "Epoch #45 train loss: 3.003\n",
      "Epoch #45 mAP@0.5: 69.72%\n",
      "Epoch #45 mAP@0.5:0.95: 26.85%\n",
      "Took 0.821 minutes for epoch 44\n",
      "SAVING PLOTS COMPLETE...\n",
      "Adjusting learning rate of group 0 to 1.0000e-07.\n",
      "\n",
      "EPOCH 46 of 100\n",
      "Training\n"
     ]
    },
    {
     "data": {
      "application/vnd.jupyter.widget-view+json": {
       "model_id": "f4802f22d58b4824b679f5ab92177362",
       "version_major": 2,
       "version_minor": 0
      },
      "text/plain": [
       "  0%|          | 0/94 [00:00<?, ?it/s]"
      ]
     },
     "metadata": {},
     "output_type": "display_data"
    },
    {
     "name": "stdout",
     "output_type": "stream",
     "text": [
      "Validating\n"
     ]
    },
    {
     "data": {
      "application/vnd.jupyter.widget-view+json": {
       "model_id": "afd39f2f454545d2b5d0d3a3209c84dc",
       "version_major": 2,
       "version_minor": 0
      },
      "text/plain": [
       "  0%|          | 0/14 [00:00<?, ?it/s]"
      ]
     },
     "metadata": {},
     "output_type": "display_data"
    },
    {
     "name": "stdout",
     "output_type": "stream",
     "text": [
      "Epoch #46 train loss: 3.007\n",
      "Epoch #46 mAP@0.5: 69.72%\n",
      "Epoch #46 mAP@0.5:0.95: 26.86%\n",
      "Took 0.817 minutes for epoch 45\n",
      "SAVING PLOTS COMPLETE...\n",
      "Adjusting learning rate of group 0 to 1.0000e-07.\n",
      "\n",
      "EPOCH 47 of 100\n",
      "Training\n"
     ]
    },
    {
     "data": {
      "application/vnd.jupyter.widget-view+json": {
       "model_id": "4472a183c9684a7e8095afb8febdef4b",
       "version_major": 2,
       "version_minor": 0
      },
      "text/plain": [
       "  0%|          | 0/94 [00:00<?, ?it/s]"
      ]
     },
     "metadata": {},
     "output_type": "display_data"
    },
    {
     "name": "stdout",
     "output_type": "stream",
     "text": [
      "Validating\n"
     ]
    },
    {
     "data": {
      "application/vnd.jupyter.widget-view+json": {
       "model_id": "7fa9448c7a164628bb1ca866b2394120",
       "version_major": 2,
       "version_minor": 0
      },
      "text/plain": [
       "  0%|          | 0/14 [00:00<?, ?it/s]"
      ]
     },
     "metadata": {},
     "output_type": "display_data"
    },
    {
     "name": "stdout",
     "output_type": "stream",
     "text": [
      "Epoch #47 train loss: 3.013\n",
      "Epoch #47 mAP@0.5: 69.70%\n",
      "Epoch #47 mAP@0.5:0.95: 26.86%\n",
      "Took 0.813 minutes for epoch 46\n",
      "SAVING PLOTS COMPLETE...\n",
      "Adjusting learning rate of group 0 to 1.0000e-07.\n",
      "\n",
      "EPOCH 48 of 100\n",
      "Training\n"
     ]
    },
    {
     "data": {
      "application/vnd.jupyter.widget-view+json": {
       "model_id": "9e7d2b1225ce4f16b6975a71ec36838b",
       "version_major": 2,
       "version_minor": 0
      },
      "text/plain": [
       "  0%|          | 0/94 [00:00<?, ?it/s]"
      ]
     },
     "metadata": {},
     "output_type": "display_data"
    },
    {
     "name": "stdout",
     "output_type": "stream",
     "text": [
      "Validating\n"
     ]
    },
    {
     "data": {
      "application/vnd.jupyter.widget-view+json": {
       "model_id": "4ab58363192647aab9c30ca9a0a27493",
       "version_major": 2,
       "version_minor": 0
      },
      "text/plain": [
       "  0%|          | 0/14 [00:00<?, ?it/s]"
      ]
     },
     "metadata": {},
     "output_type": "display_data"
    },
    {
     "name": "stdout",
     "output_type": "stream",
     "text": [
      "Epoch #48 train loss: 3.007\n",
      "Epoch #48 mAP@0.5: 69.70%\n",
      "Epoch #48 mAP@0.5:0.95: 26.86%\n",
      "Took 0.825 minutes for epoch 47\n",
      "SAVING PLOTS COMPLETE...\n",
      "Adjusting learning rate of group 0 to 1.0000e-07.\n",
      "\n",
      "EPOCH 49 of 100\n",
      "Training\n"
     ]
    },
    {
     "data": {
      "application/vnd.jupyter.widget-view+json": {
       "model_id": "ef706c75ced44c6d9c1870751f873c33",
       "version_major": 2,
       "version_minor": 0
      },
      "text/plain": [
       "  0%|          | 0/94 [00:00<?, ?it/s]"
      ]
     },
     "metadata": {},
     "output_type": "display_data"
    },
    {
     "name": "stdout",
     "output_type": "stream",
     "text": [
      "Validating\n"
     ]
    },
    {
     "data": {
      "application/vnd.jupyter.widget-view+json": {
       "model_id": "d10eb1bf7cb84ad6af12e5a6e0c198f7",
       "version_major": 2,
       "version_minor": 0
      },
      "text/plain": [
       "  0%|          | 0/14 [00:00<?, ?it/s]"
      ]
     },
     "metadata": {},
     "output_type": "display_data"
    },
    {
     "name": "stdout",
     "output_type": "stream",
     "text": [
      "Epoch #49 train loss: 3.015\n",
      "Epoch #49 mAP@0.5: 69.75%\n",
      "Epoch #49 mAP@0.5:0.95: 26.86%\n",
      "Took 0.821 minutes for epoch 48\n",
      "SAVING PLOTS COMPLETE...\n",
      "Adjusting learning rate of group 0 to 1.0000e-07.\n",
      "\n",
      "EPOCH 50 of 100\n",
      "Training\n"
     ]
    },
    {
     "data": {
      "application/vnd.jupyter.widget-view+json": {
       "model_id": "7a7b6383d1584ff388d0df549034065b",
       "version_major": 2,
       "version_minor": 0
      },
      "text/plain": [
       "  0%|          | 0/94 [00:00<?, ?it/s]"
      ]
     },
     "metadata": {},
     "output_type": "display_data"
    },
    {
     "name": "stdout",
     "output_type": "stream",
     "text": [
      "Validating\n"
     ]
    },
    {
     "data": {
      "application/vnd.jupyter.widget-view+json": {
       "model_id": "7413d3c9747843b9ab5d99d0dd0c2475",
       "version_major": 2,
       "version_minor": 0
      },
      "text/plain": [
       "  0%|          | 0/14 [00:00<?, ?it/s]"
      ]
     },
     "metadata": {},
     "output_type": "display_data"
    },
    {
     "name": "stdout",
     "output_type": "stream",
     "text": [
      "Epoch #50 train loss: 3.012\n",
      "Epoch #50 mAP@0.5: 69.76%\n",
      "Epoch #50 mAP@0.5:0.95: 26.87%\n",
      "Took 0.817 minutes for epoch 49\n",
      "SAVING PLOTS COMPLETE...\n",
      "Adjusting learning rate of group 0 to 1.0000e-07.\n",
      "\n",
      "EPOCH 51 of 100\n",
      "Training\n"
     ]
    },
    {
     "data": {
      "application/vnd.jupyter.widget-view+json": {
       "model_id": "7a56d8cc283d4a779ef61d910c67daa5",
       "version_major": 2,
       "version_minor": 0
      },
      "text/plain": [
       "  0%|          | 0/94 [00:00<?, ?it/s]"
      ]
     },
     "metadata": {},
     "output_type": "display_data"
    },
    {
     "name": "stdout",
     "output_type": "stream",
     "text": [
      "Validating\n"
     ]
    },
    {
     "data": {
      "application/vnd.jupyter.widget-view+json": {
       "model_id": "1691097daaa24491b77b77e17e513fb0",
       "version_major": 2,
       "version_minor": 0
      },
      "text/plain": [
       "  0%|          | 0/14 [00:00<?, ?it/s]"
      ]
     },
     "metadata": {},
     "output_type": "display_data"
    },
    {
     "name": "stdout",
     "output_type": "stream",
     "text": [
      "Epoch #51 train loss: 3.008\n",
      "Epoch #51 mAP@0.5: 69.76%\n",
      "Epoch #51 mAP@0.5:0.95: 26.87%\n",
      "Took 0.818 minutes for epoch 50\n",
      "SAVING PLOTS COMPLETE...\n",
      "Adjusting learning rate of group 0 to 1.0000e-07.\n",
      "\n",
      "EPOCH 52 of 100\n",
      "Training\n"
     ]
    },
    {
     "data": {
      "application/vnd.jupyter.widget-view+json": {
       "model_id": "cf2bd9f3125544cfbd69c870af193e23",
       "version_major": 2,
       "version_minor": 0
      },
      "text/plain": [
       "  0%|          | 0/94 [00:00<?, ?it/s]"
      ]
     },
     "metadata": {},
     "output_type": "display_data"
    },
    {
     "name": "stdout",
     "output_type": "stream",
     "text": [
      "Validating\n"
     ]
    },
    {
     "data": {
      "application/vnd.jupyter.widget-view+json": {
       "model_id": "6ad492348fd04898834f98dab9d79944",
       "version_major": 2,
       "version_minor": 0
      },
      "text/plain": [
       "  0%|          | 0/14 [00:00<?, ?it/s]"
      ]
     },
     "metadata": {},
     "output_type": "display_data"
    },
    {
     "name": "stdout",
     "output_type": "stream",
     "text": [
      "Epoch #52 train loss: 3.002\n",
      "Epoch #52 mAP@0.5: 69.76%\n",
      "Epoch #52 mAP@0.5:0.95: 26.87%\n",
      "Took 0.816 minutes for epoch 51\n",
      "SAVING PLOTS COMPLETE...\n",
      "Adjusting learning rate of group 0 to 1.0000e-07.\n",
      "\n",
      "EPOCH 53 of 100\n",
      "Training\n"
     ]
    },
    {
     "data": {
      "application/vnd.jupyter.widget-view+json": {
       "model_id": "20f4d41706e0453f8f72b8c73e33ae17",
       "version_major": 2,
       "version_minor": 0
      },
      "text/plain": [
       "  0%|          | 0/94 [00:00<?, ?it/s]"
      ]
     },
     "metadata": {},
     "output_type": "display_data"
    },
    {
     "name": "stdout",
     "output_type": "stream",
     "text": [
      "Validating\n"
     ]
    },
    {
     "data": {
      "application/vnd.jupyter.widget-view+json": {
       "model_id": "d020761a9531463f977326f507d38f64",
       "version_major": 2,
       "version_minor": 0
      },
      "text/plain": [
       "  0%|          | 0/14 [00:00<?, ?it/s]"
      ]
     },
     "metadata": {},
     "output_type": "display_data"
    },
    {
     "name": "stdout",
     "output_type": "stream",
     "text": [
      "Epoch #53 train loss: 3.009\n",
      "Epoch #53 mAP@0.5: 69.76%\n",
      "Epoch #53 mAP@0.5:0.95: 26.87%\n",
      "Took 0.816 minutes for epoch 52\n",
      "SAVING PLOTS COMPLETE...\n",
      "Adjusting learning rate of group 0 to 1.0000e-07.\n",
      "\n",
      "EPOCH 54 of 100\n",
      "Training\n"
     ]
    },
    {
     "data": {
      "application/vnd.jupyter.widget-view+json": {
       "model_id": "bc46b4af95b44bee86c28e686607ebf9",
       "version_major": 2,
       "version_minor": 0
      },
      "text/plain": [
       "  0%|          | 0/94 [00:00<?, ?it/s]"
      ]
     },
     "metadata": {},
     "output_type": "display_data"
    },
    {
     "name": "stdout",
     "output_type": "stream",
     "text": [
      "Validating\n"
     ]
    },
    {
     "data": {
      "application/vnd.jupyter.widget-view+json": {
       "model_id": "172454215f514a69b0f80bab39c3bc71",
       "version_major": 2,
       "version_minor": 0
      },
      "text/plain": [
       "  0%|          | 0/14 [00:00<?, ?it/s]"
      ]
     },
     "metadata": {},
     "output_type": "display_data"
    },
    {
     "name": "stdout",
     "output_type": "stream",
     "text": [
      "Epoch #54 train loss: 2.997\n",
      "Epoch #54 mAP@0.5: 69.76%\n",
      "Epoch #54 mAP@0.5:0.95: 26.87%\n",
      "Took 0.814 minutes for epoch 53\n",
      "SAVING PLOTS COMPLETE...\n",
      "Adjusting learning rate of group 0 to 1.0000e-07.\n",
      "\n",
      "EPOCH 55 of 100\n",
      "Training\n"
     ]
    },
    {
     "data": {
      "application/vnd.jupyter.widget-view+json": {
       "model_id": "088b81d140284b6d80651d6408b75930",
       "version_major": 2,
       "version_minor": 0
      },
      "text/plain": [
       "  0%|          | 0/94 [00:00<?, ?it/s]"
      ]
     },
     "metadata": {},
     "output_type": "display_data"
    },
    {
     "name": "stdout",
     "output_type": "stream",
     "text": [
      "Validating\n"
     ]
    },
    {
     "data": {
      "application/vnd.jupyter.widget-view+json": {
       "model_id": "ecb8af5f6a8d4bef846ea07379bc6256",
       "version_major": 2,
       "version_minor": 0
      },
      "text/plain": [
       "  0%|          | 0/14 [00:00<?, ?it/s]"
      ]
     },
     "metadata": {},
     "output_type": "display_data"
    },
    {
     "name": "stdout",
     "output_type": "stream",
     "text": [
      "Epoch #55 train loss: 3.009\n",
      "Epoch #55 mAP@0.5: 69.76%\n",
      "Epoch #55 mAP@0.5:0.95: 26.87%\n",
      "Took 0.815 minutes for epoch 54\n",
      "SAVING PLOTS COMPLETE...\n",
      "Adjusting learning rate of group 0 to 1.0000e-07.\n",
      "\n",
      "EPOCH 56 of 100\n",
      "Training\n"
     ]
    },
    {
     "data": {
      "application/vnd.jupyter.widget-view+json": {
       "model_id": "b75315654fcf4abb9382bbf684f19700",
       "version_major": 2,
       "version_minor": 0
      },
      "text/plain": [
       "  0%|          | 0/94 [00:00<?, ?it/s]"
      ]
     },
     "metadata": {},
     "output_type": "display_data"
    },
    {
     "name": "stdout",
     "output_type": "stream",
     "text": [
      "Validating\n"
     ]
    },
    {
     "data": {
      "application/vnd.jupyter.widget-view+json": {
       "model_id": "2b3f97440735482e97d8947e51e7c4bf",
       "version_major": 2,
       "version_minor": 0
      },
      "text/plain": [
       "  0%|          | 0/14 [00:00<?, ?it/s]"
      ]
     },
     "metadata": {},
     "output_type": "display_data"
    },
    {
     "name": "stdout",
     "output_type": "stream",
     "text": [
      "Epoch #56 train loss: 3.013\n",
      "Epoch #56 mAP@0.5: 69.76%\n",
      "Epoch #56 mAP@0.5:0.95: 26.87%\n",
      "Took 0.818 minutes for epoch 55\n",
      "SAVING PLOTS COMPLETE...\n",
      "Adjusting learning rate of group 0 to 1.0000e-07.\n",
      "\n",
      "EPOCH 57 of 100\n",
      "Training\n"
     ]
    },
    {
     "data": {
      "application/vnd.jupyter.widget-view+json": {
       "model_id": "c319dbac8bc04efebbaa011da7c21edb",
       "version_major": 2,
       "version_minor": 0
      },
      "text/plain": [
       "  0%|          | 0/94 [00:00<?, ?it/s]"
      ]
     },
     "metadata": {},
     "output_type": "display_data"
    },
    {
     "name": "stdout",
     "output_type": "stream",
     "text": [
      "Validating\n"
     ]
    },
    {
     "data": {
      "application/vnd.jupyter.widget-view+json": {
       "model_id": "8a5548e4dddb4c2e943e964dcf1155c5",
       "version_major": 2,
       "version_minor": 0
      },
      "text/plain": [
       "  0%|          | 0/14 [00:00<?, ?it/s]"
      ]
     },
     "metadata": {},
     "output_type": "display_data"
    },
    {
     "name": "stdout",
     "output_type": "stream",
     "text": [
      "Epoch #57 train loss: 3.005\n",
      "Epoch #57 mAP@0.5: 69.76%\n",
      "Epoch #57 mAP@0.5:0.95: 26.87%\n",
      "Took 0.818 minutes for epoch 56\n",
      "SAVING PLOTS COMPLETE...\n",
      "Adjusting learning rate of group 0 to 1.0000e-07.\n",
      "\n",
      "EPOCH 58 of 100\n",
      "Training\n"
     ]
    },
    {
     "data": {
      "application/vnd.jupyter.widget-view+json": {
       "model_id": "28893a6f092c4ddf837307cdf4bbce19",
       "version_major": 2,
       "version_minor": 0
      },
      "text/plain": [
       "  0%|          | 0/94 [00:00<?, ?it/s]"
      ]
     },
     "metadata": {},
     "output_type": "display_data"
    },
    {
     "name": "stdout",
     "output_type": "stream",
     "text": [
      "Validating\n"
     ]
    },
    {
     "data": {
      "application/vnd.jupyter.widget-view+json": {
       "model_id": "74763c12ae3044b49e92242c805610fa",
       "version_major": 2,
       "version_minor": 0
      },
      "text/plain": [
       "  0%|          | 0/14 [00:00<?, ?it/s]"
      ]
     },
     "metadata": {},
     "output_type": "display_data"
    },
    {
     "name": "stdout",
     "output_type": "stream",
     "text": [
      "Epoch #58 train loss: 3.009\n",
      "Epoch #58 mAP@0.5: 69.76%\n",
      "Epoch #58 mAP@0.5:0.95: 26.87%\n",
      "Took 0.817 minutes for epoch 57\n",
      "SAVING PLOTS COMPLETE...\n",
      "Adjusting learning rate of group 0 to 1.0000e-07.\n",
      "\n",
      "EPOCH 59 of 100\n",
      "Training\n"
     ]
    },
    {
     "data": {
      "application/vnd.jupyter.widget-view+json": {
       "model_id": "fecd191c916b4d85a836929b5c087a9e",
       "version_major": 2,
       "version_minor": 0
      },
      "text/plain": [
       "  0%|          | 0/94 [00:00<?, ?it/s]"
      ]
     },
     "metadata": {},
     "output_type": "display_data"
    },
    {
     "name": "stdout",
     "output_type": "stream",
     "text": [
      "Validating\n"
     ]
    },
    {
     "data": {
      "application/vnd.jupyter.widget-view+json": {
       "model_id": "d591495a70a94c319b589cb021164522",
       "version_major": 2,
       "version_minor": 0
      },
      "text/plain": [
       "  0%|          | 0/14 [00:00<?, ?it/s]"
      ]
     },
     "metadata": {},
     "output_type": "display_data"
    },
    {
     "name": "stdout",
     "output_type": "stream",
     "text": [
      "Epoch #59 train loss: 3.008\n",
      "Epoch #59 mAP@0.5: 69.76%\n",
      "Epoch #59 mAP@0.5:0.95: 26.87%\n",
      "Took 0.825 minutes for epoch 58\n",
      "SAVING PLOTS COMPLETE...\n",
      "Adjusting learning rate of group 0 to 1.0000e-07.\n",
      "\n",
      "EPOCH 60 of 100\n",
      "Training\n"
     ]
    },
    {
     "data": {
      "application/vnd.jupyter.widget-view+json": {
       "model_id": "f51b79aa684f44ff938b635c4f33bb05",
       "version_major": 2,
       "version_minor": 0
      },
      "text/plain": [
       "  0%|          | 0/94 [00:00<?, ?it/s]"
      ]
     },
     "metadata": {},
     "output_type": "display_data"
    },
    {
     "name": "stdout",
     "output_type": "stream",
     "text": [
      "Validating\n"
     ]
    },
    {
     "data": {
      "application/vnd.jupyter.widget-view+json": {
       "model_id": "e4865b79228f4c279be30c363b03a602",
       "version_major": 2,
       "version_minor": 0
      },
      "text/plain": [
       "  0%|          | 0/14 [00:00<?, ?it/s]"
      ]
     },
     "metadata": {},
     "output_type": "display_data"
    },
    {
     "name": "stdout",
     "output_type": "stream",
     "text": [
      "Epoch #60 train loss: 3.007\n",
      "Epoch #60 mAP@0.5: 69.79%\n",
      "Epoch #60 mAP@0.5:0.95: 26.88%\n",
      "Took 0.824 minutes for epoch 59\n",
      "SAVING PLOTS COMPLETE...\n",
      "Adjusting learning rate of group 0 to 1.0000e-08.\n",
      "\n",
      "EPOCH 61 of 100\n",
      "Training\n"
     ]
    },
    {
     "data": {
      "application/vnd.jupyter.widget-view+json": {
       "model_id": "0a6cef3d41d04a8f8b1bd2c3fcc6fa57",
       "version_major": 2,
       "version_minor": 0
      },
      "text/plain": [
       "  0%|          | 0/94 [00:00<?, ?it/s]"
      ]
     },
     "metadata": {},
     "output_type": "display_data"
    },
    {
     "name": "stdout",
     "output_type": "stream",
     "text": [
      "Validating\n"
     ]
    },
    {
     "data": {
      "application/vnd.jupyter.widget-view+json": {
       "model_id": "5d01c2f0d0fb426d8b0b0eace936036b",
       "version_major": 2,
       "version_minor": 0
      },
      "text/plain": [
       "  0%|          | 0/14 [00:00<?, ?it/s]"
      ]
     },
     "metadata": {},
     "output_type": "display_data"
    },
    {
     "name": "stdout",
     "output_type": "stream",
     "text": [
      "Epoch #61 train loss: 3.013\n",
      "Epoch #61 mAP@0.5: 69.79%\n",
      "Epoch #61 mAP@0.5:0.95: 26.87%\n",
      "Took 0.816 minutes for epoch 60\n",
      "SAVING PLOTS COMPLETE...\n",
      "Adjusting learning rate of group 0 to 1.0000e-08.\n",
      "\n",
      "EPOCH 62 of 100\n",
      "Training\n"
     ]
    },
    {
     "data": {
      "application/vnd.jupyter.widget-view+json": {
       "model_id": "f88026cf76f041b887ae910305db937e",
       "version_major": 2,
       "version_minor": 0
      },
      "text/plain": [
       "  0%|          | 0/94 [00:00<?, ?it/s]"
      ]
     },
     "metadata": {},
     "output_type": "display_data"
    },
    {
     "name": "stdout",
     "output_type": "stream",
     "text": [
      "Validating\n"
     ]
    },
    {
     "data": {
      "application/vnd.jupyter.widget-view+json": {
       "model_id": "cae06de922e745ed82cd5eed7bf0b35a",
       "version_major": 2,
       "version_minor": 0
      },
      "text/plain": [
       "  0%|          | 0/14 [00:00<?, ?it/s]"
      ]
     },
     "metadata": {},
     "output_type": "display_data"
    },
    {
     "name": "stdout",
     "output_type": "stream",
     "text": [
      "Epoch #62 train loss: 3.011\n",
      "Epoch #62 mAP@0.5: 69.79%\n",
      "Epoch #62 mAP@0.5:0.95: 26.87%\n",
      "Took 0.815 minutes for epoch 61\n",
      "SAVING PLOTS COMPLETE...\n",
      "Adjusting learning rate of group 0 to 1.0000e-08.\n",
      "\n",
      "EPOCH 63 of 100\n",
      "Training\n"
     ]
    },
    {
     "data": {
      "application/vnd.jupyter.widget-view+json": {
       "model_id": "3a6e9bee44ba4facb8a03926b32fc03d",
       "version_major": 2,
       "version_minor": 0
      },
      "text/plain": [
       "  0%|          | 0/94 [00:00<?, ?it/s]"
      ]
     },
     "metadata": {},
     "output_type": "display_data"
    },
    {
     "name": "stdout",
     "output_type": "stream",
     "text": [
      "Validating\n"
     ]
    },
    {
     "data": {
      "application/vnd.jupyter.widget-view+json": {
       "model_id": "8fc17241211f4811b0193790d82a3e91",
       "version_major": 2,
       "version_minor": 0
      },
      "text/plain": [
       "  0%|          | 0/14 [00:00<?, ?it/s]"
      ]
     },
     "metadata": {},
     "output_type": "display_data"
    },
    {
     "name": "stdout",
     "output_type": "stream",
     "text": [
      "Epoch #63 train loss: 2.999\n",
      "Epoch #63 mAP@0.5: 69.79%\n",
      "Epoch #63 mAP@0.5:0.95: 26.87%\n",
      "Took 0.819 minutes for epoch 62\n",
      "SAVING PLOTS COMPLETE...\n",
      "Adjusting learning rate of group 0 to 1.0000e-08.\n",
      "\n",
      "EPOCH 64 of 100\n",
      "Training\n"
     ]
    },
    {
     "data": {
      "application/vnd.jupyter.widget-view+json": {
       "model_id": "8bf809b7ab364072b899912f0ec1fa03",
       "version_major": 2,
       "version_minor": 0
      },
      "text/plain": [
       "  0%|          | 0/94 [00:00<?, ?it/s]"
      ]
     },
     "metadata": {},
     "output_type": "display_data"
    },
    {
     "name": "stdout",
     "output_type": "stream",
     "text": [
      "Validating\n"
     ]
    },
    {
     "data": {
      "application/vnd.jupyter.widget-view+json": {
       "model_id": "f2843c48906f4314a0fce45d0144ae86",
       "version_major": 2,
       "version_minor": 0
      },
      "text/plain": [
       "  0%|          | 0/14 [00:00<?, ?it/s]"
      ]
     },
     "metadata": {},
     "output_type": "display_data"
    },
    {
     "name": "stdout",
     "output_type": "stream",
     "text": [
      "Epoch #64 train loss: 3.013\n",
      "Epoch #64 mAP@0.5: 69.78%\n",
      "Epoch #64 mAP@0.5:0.95: 26.87%\n",
      "Took 0.825 minutes for epoch 63\n",
      "SAVING PLOTS COMPLETE...\n",
      "Adjusting learning rate of group 0 to 1.0000e-08.\n",
      "\n",
      "EPOCH 65 of 100\n",
      "Training\n"
     ]
    },
    {
     "data": {
      "application/vnd.jupyter.widget-view+json": {
       "model_id": "ae1527578a2d4ef2bde8284e107a1aa1",
       "version_major": 2,
       "version_minor": 0
      },
      "text/plain": [
       "  0%|          | 0/94 [00:00<?, ?it/s]"
      ]
     },
     "metadata": {},
     "output_type": "display_data"
    },
    {
     "name": "stdout",
     "output_type": "stream",
     "text": [
      "Validating\n"
     ]
    },
    {
     "data": {
      "application/vnd.jupyter.widget-view+json": {
       "model_id": "b90125b54fb647a58336de75945cb352",
       "version_major": 2,
       "version_minor": 0
      },
      "text/plain": [
       "  0%|          | 0/14 [00:00<?, ?it/s]"
      ]
     },
     "metadata": {},
     "output_type": "display_data"
    },
    {
     "name": "stdout",
     "output_type": "stream",
     "text": [
      "Epoch #65 train loss: 3.010\n",
      "Epoch #65 mAP@0.5: 69.78%\n",
      "Epoch #65 mAP@0.5:0.95: 26.87%\n",
      "Took 0.823 minutes for epoch 64\n",
      "SAVING PLOTS COMPLETE...\n",
      "Adjusting learning rate of group 0 to 1.0000e-08.\n",
      "\n",
      "EPOCH 66 of 100\n",
      "Training\n"
     ]
    },
    {
     "data": {
      "application/vnd.jupyter.widget-view+json": {
       "model_id": "f9eaf63df08843c699a39ca60c339e33",
       "version_major": 2,
       "version_minor": 0
      },
      "text/plain": [
       "  0%|          | 0/94 [00:00<?, ?it/s]"
      ]
     },
     "metadata": {},
     "output_type": "display_data"
    },
    {
     "name": "stdout",
     "output_type": "stream",
     "text": [
      "Validating\n"
     ]
    },
    {
     "data": {
      "application/vnd.jupyter.widget-view+json": {
       "model_id": "aa2c964d187143b68f605dc9aeba8159",
       "version_major": 2,
       "version_minor": 0
      },
      "text/plain": [
       "  0%|          | 0/14 [00:00<?, ?it/s]"
      ]
     },
     "metadata": {},
     "output_type": "display_data"
    },
    {
     "name": "stdout",
     "output_type": "stream",
     "text": [
      "Epoch #66 train loss: 3.009\n",
      "Epoch #66 mAP@0.5: 69.78%\n",
      "Epoch #66 mAP@0.5:0.95: 26.87%\n",
      "Took 0.829 minutes for epoch 65\n",
      "SAVING PLOTS COMPLETE...\n",
      "Adjusting learning rate of group 0 to 1.0000e-08.\n",
      "\n",
      "EPOCH 67 of 100\n",
      "Training\n"
     ]
    },
    {
     "data": {
      "application/vnd.jupyter.widget-view+json": {
       "model_id": "93968c1484d44f769f26edfde0bf182c",
       "version_major": 2,
       "version_minor": 0
      },
      "text/plain": [
       "  0%|          | 0/94 [00:00<?, ?it/s]"
      ]
     },
     "metadata": {},
     "output_type": "display_data"
    },
    {
     "name": "stdout",
     "output_type": "stream",
     "text": [
      "Validating\n"
     ]
    },
    {
     "data": {
      "application/vnd.jupyter.widget-view+json": {
       "model_id": "8a79f90a6ea3457a829ef644704924ad",
       "version_major": 2,
       "version_minor": 0
      },
      "text/plain": [
       "  0%|          | 0/14 [00:00<?, ?it/s]"
      ]
     },
     "metadata": {},
     "output_type": "display_data"
    },
    {
     "name": "stdout",
     "output_type": "stream",
     "text": [
      "Epoch #67 train loss: 3.003\n",
      "Epoch #67 mAP@0.5: 69.78%\n",
      "Epoch #67 mAP@0.5:0.95: 26.87%\n",
      "Took 0.820 minutes for epoch 66\n",
      "SAVING PLOTS COMPLETE...\n",
      "Adjusting learning rate of group 0 to 1.0000e-08.\n",
      "\n",
      "EPOCH 68 of 100\n",
      "Training\n"
     ]
    },
    {
     "data": {
      "application/vnd.jupyter.widget-view+json": {
       "model_id": "33cc65471a174334999915cd5e9be4b1",
       "version_major": 2,
       "version_minor": 0
      },
      "text/plain": [
       "  0%|          | 0/94 [00:00<?, ?it/s]"
      ]
     },
     "metadata": {},
     "output_type": "display_data"
    },
    {
     "name": "stdout",
     "output_type": "stream",
     "text": [
      "Validating\n"
     ]
    },
    {
     "data": {
      "application/vnd.jupyter.widget-view+json": {
       "model_id": "af5741134a334b7b938b101ce1e2f703",
       "version_major": 2,
       "version_minor": 0
      },
      "text/plain": [
       "  0%|          | 0/14 [00:00<?, ?it/s]"
      ]
     },
     "metadata": {},
     "output_type": "display_data"
    },
    {
     "name": "stdout",
     "output_type": "stream",
     "text": [
      "Epoch #68 train loss: 3.009\n",
      "Epoch #68 mAP@0.5: 69.78%\n",
      "Epoch #68 mAP@0.5:0.95: 26.87%\n",
      "Took 0.820 minutes for epoch 67\n",
      "SAVING PLOTS COMPLETE...\n",
      "Adjusting learning rate of group 0 to 1.0000e-08.\n",
      "\n",
      "EPOCH 69 of 100\n",
      "Training\n"
     ]
    },
    {
     "data": {
      "application/vnd.jupyter.widget-view+json": {
       "model_id": "431fa867398542879e9728944455827d",
       "version_major": 2,
       "version_minor": 0
      },
      "text/plain": [
       "  0%|          | 0/94 [00:00<?, ?it/s]"
      ]
     },
     "metadata": {},
     "output_type": "display_data"
    },
    {
     "name": "stdout",
     "output_type": "stream",
     "text": [
      "Validating\n"
     ]
    },
    {
     "data": {
      "application/vnd.jupyter.widget-view+json": {
       "model_id": "f156a071da994eaeb393998531c9aee6",
       "version_major": 2,
       "version_minor": 0
      },
      "text/plain": [
       "  0%|          | 0/14 [00:00<?, ?it/s]"
      ]
     },
     "metadata": {},
     "output_type": "display_data"
    },
    {
     "name": "stdout",
     "output_type": "stream",
     "text": [
      "Epoch #69 train loss: 3.007\n",
      "Epoch #69 mAP@0.5: 69.78%\n",
      "Epoch #69 mAP@0.5:0.95: 26.87%\n",
      "Took 0.838 minutes for epoch 68\n",
      "SAVING PLOTS COMPLETE...\n",
      "Adjusting learning rate of group 0 to 1.0000e-08.\n",
      "\n",
      "EPOCH 70 of 100\n",
      "Training\n"
     ]
    },
    {
     "data": {
      "application/vnd.jupyter.widget-view+json": {
       "model_id": "256fcacb5f4949c9929f01316d42f340",
       "version_major": 2,
       "version_minor": 0
      },
      "text/plain": [
       "  0%|          | 0/94 [00:00<?, ?it/s]"
      ]
     },
     "metadata": {},
     "output_type": "display_data"
    },
    {
     "name": "stdout",
     "output_type": "stream",
     "text": [
      "Validating\n"
     ]
    },
    {
     "data": {
      "application/vnd.jupyter.widget-view+json": {
       "model_id": "b9b81c391c7d4f0fa511ec83fb220ae0",
       "version_major": 2,
       "version_minor": 0
      },
      "text/plain": [
       "  0%|          | 0/14 [00:00<?, ?it/s]"
      ]
     },
     "metadata": {},
     "output_type": "display_data"
    },
    {
     "name": "stdout",
     "output_type": "stream",
     "text": [
      "Epoch #70 train loss: 3.008\n",
      "Epoch #70 mAP@0.5: 69.78%\n",
      "Epoch #70 mAP@0.5:0.95: 26.87%\n",
      "Took 0.834 minutes for epoch 69\n",
      "SAVING PLOTS COMPLETE...\n",
      "Adjusting learning rate of group 0 to 1.0000e-08.\n",
      "\n",
      "EPOCH 71 of 100\n",
      "Training\n"
     ]
    },
    {
     "data": {
      "application/vnd.jupyter.widget-view+json": {
       "model_id": "0a1d9e7a31e44126a86118eb499d397d",
       "version_major": 2,
       "version_minor": 0
      },
      "text/plain": [
       "  0%|          | 0/94 [00:00<?, ?it/s]"
      ]
     },
     "metadata": {},
     "output_type": "display_data"
    },
    {
     "name": "stdout",
     "output_type": "stream",
     "text": [
      "Validating\n"
     ]
    },
    {
     "data": {
      "application/vnd.jupyter.widget-view+json": {
       "model_id": "46c80c4fcfb444c0b2baf2a8054eb2cd",
       "version_major": 2,
       "version_minor": 0
      },
      "text/plain": [
       "  0%|          | 0/14 [00:00<?, ?it/s]"
      ]
     },
     "metadata": {},
     "output_type": "display_data"
    },
    {
     "name": "stdout",
     "output_type": "stream",
     "text": [
      "Epoch #71 train loss: 3.008\n",
      "Epoch #71 mAP@0.5: 69.78%\n",
      "Epoch #71 mAP@0.5:0.95: 26.87%\n",
      "Took 0.829 minutes for epoch 70\n",
      "SAVING PLOTS COMPLETE...\n",
      "Adjusting learning rate of group 0 to 1.0000e-08.\n",
      "\n",
      "EPOCH 72 of 100\n",
      "Training\n"
     ]
    },
    {
     "data": {
      "application/vnd.jupyter.widget-view+json": {
       "model_id": "85da9a442dee4c49b4bf5e085679ef94",
       "version_major": 2,
       "version_minor": 0
      },
      "text/plain": [
       "  0%|          | 0/94 [00:00<?, ?it/s]"
      ]
     },
     "metadata": {},
     "output_type": "display_data"
    },
    {
     "name": "stdout",
     "output_type": "stream",
     "text": [
      "Validating\n"
     ]
    },
    {
     "data": {
      "application/vnd.jupyter.widget-view+json": {
       "model_id": "43c11e45789049d4b3ecf884c104b167",
       "version_major": 2,
       "version_minor": 0
      },
      "text/plain": [
       "  0%|          | 0/14 [00:00<?, ?it/s]"
      ]
     },
     "metadata": {},
     "output_type": "display_data"
    },
    {
     "name": "stdout",
     "output_type": "stream",
     "text": [
      "Epoch #72 train loss: 3.001\n",
      "Epoch #72 mAP@0.5: 69.78%\n",
      "Epoch #72 mAP@0.5:0.95: 26.87%\n",
      "Took 0.830 minutes for epoch 71\n",
      "SAVING PLOTS COMPLETE...\n",
      "Adjusting learning rate of group 0 to 1.0000e-08.\n",
      "\n",
      "EPOCH 73 of 100\n",
      "Training\n"
     ]
    },
    {
     "data": {
      "application/vnd.jupyter.widget-view+json": {
       "model_id": "df451326476344a7b83f55cd0561feff",
       "version_major": 2,
       "version_minor": 0
      },
      "text/plain": [
       "  0%|          | 0/94 [00:00<?, ?it/s]"
      ]
     },
     "metadata": {},
     "output_type": "display_data"
    },
    {
     "name": "stdout",
     "output_type": "stream",
     "text": [
      "Validating\n"
     ]
    },
    {
     "data": {
      "application/vnd.jupyter.widget-view+json": {
       "model_id": "68be2d7003cf4a72b71f2c7653591fcd",
       "version_major": 2,
       "version_minor": 0
      },
      "text/plain": [
       "  0%|          | 0/14 [00:00<?, ?it/s]"
      ]
     },
     "metadata": {},
     "output_type": "display_data"
    },
    {
     "name": "stdout",
     "output_type": "stream",
     "text": [
      "Epoch #73 train loss: 3.003\n",
      "Epoch #73 mAP@0.5: 69.79%\n",
      "Epoch #73 mAP@0.5:0.95: 26.87%\n",
      "Took 0.818 minutes for epoch 72\n",
      "SAVING PLOTS COMPLETE...\n",
      "Adjusting learning rate of group 0 to 1.0000e-08.\n",
      "\n",
      "EPOCH 74 of 100\n",
      "Training\n"
     ]
    },
    {
     "data": {
      "application/vnd.jupyter.widget-view+json": {
       "model_id": "b6d2cceb74c44dbd92ccaa5a100aea6c",
       "version_major": 2,
       "version_minor": 0
      },
      "text/plain": [
       "  0%|          | 0/94 [00:00<?, ?it/s]"
      ]
     },
     "metadata": {},
     "output_type": "display_data"
    },
    {
     "name": "stdout",
     "output_type": "stream",
     "text": [
      "Validating\n"
     ]
    },
    {
     "data": {
      "application/vnd.jupyter.widget-view+json": {
       "model_id": "7d7473f339934676b69b573576550a1f",
       "version_major": 2,
       "version_minor": 0
      },
      "text/plain": [
       "  0%|          | 0/14 [00:00<?, ?it/s]"
      ]
     },
     "metadata": {},
     "output_type": "display_data"
    },
    {
     "name": "stdout",
     "output_type": "stream",
     "text": [
      "Epoch #74 train loss: 3.012\n",
      "Epoch #74 mAP@0.5: 69.78%\n",
      "Epoch #74 mAP@0.5:0.95: 26.87%\n",
      "Took 0.822 minutes for epoch 73\n",
      "SAVING PLOTS COMPLETE...\n",
      "Adjusting learning rate of group 0 to 1.0000e-08.\n",
      "\n",
      "EPOCH 75 of 100\n",
      "Training\n"
     ]
    },
    {
     "data": {
      "application/vnd.jupyter.widget-view+json": {
       "model_id": "b2cc7caf1019446d9b815ed9474768d8",
       "version_major": 2,
       "version_minor": 0
      },
      "text/plain": [
       "  0%|          | 0/94 [00:00<?, ?it/s]"
      ]
     },
     "metadata": {},
     "output_type": "display_data"
    },
    {
     "name": "stdout",
     "output_type": "stream",
     "text": [
      "Validating\n"
     ]
    },
    {
     "data": {
      "application/vnd.jupyter.widget-view+json": {
       "model_id": "4467b1e081044e48b5cf5203d45b4cbe",
       "version_major": 2,
       "version_minor": 0
      },
      "text/plain": [
       "  0%|          | 0/14 [00:00<?, ?it/s]"
      ]
     },
     "metadata": {},
     "output_type": "display_data"
    },
    {
     "name": "stdout",
     "output_type": "stream",
     "text": [
      "Epoch #75 train loss: 3.022\n",
      "Epoch #75 mAP@0.5: 69.78%\n",
      "Epoch #75 mAP@0.5:0.95: 26.87%\n",
      "Took 0.822 minutes for epoch 74\n",
      "SAVING PLOTS COMPLETE...\n",
      "Adjusting learning rate of group 0 to 1.0000e-09.\n",
      "\n",
      "EPOCH 76 of 100\n",
      "Training\n"
     ]
    },
    {
     "data": {
      "application/vnd.jupyter.widget-view+json": {
       "model_id": "5b57aa120d27434eb72e3f893ff98502",
       "version_major": 2,
       "version_minor": 0
      },
      "text/plain": [
       "  0%|          | 0/94 [00:00<?, ?it/s]"
      ]
     },
     "metadata": {},
     "output_type": "display_data"
    },
    {
     "name": "stdout",
     "output_type": "stream",
     "text": [
      "Validating\n"
     ]
    },
    {
     "data": {
      "application/vnd.jupyter.widget-view+json": {
       "model_id": "d6f0ed7f1a434655bbc6f03573e2f8bf",
       "version_major": 2,
       "version_minor": 0
      },
      "text/plain": [
       "  0%|          | 0/14 [00:00<?, ?it/s]"
      ]
     },
     "metadata": {},
     "output_type": "display_data"
    },
    {
     "name": "stdout",
     "output_type": "stream",
     "text": [
      "Epoch #76 train loss: 3.012\n",
      "Epoch #76 mAP@0.5: 69.78%\n",
      "Epoch #76 mAP@0.5:0.95: 26.87%\n",
      "Took 0.821 minutes for epoch 75\n",
      "SAVING PLOTS COMPLETE...\n",
      "Adjusting learning rate of group 0 to 1.0000e-09.\n",
      "\n",
      "EPOCH 77 of 100\n",
      "Training\n"
     ]
    },
    {
     "data": {
      "application/vnd.jupyter.widget-view+json": {
       "model_id": "61e53e1f254a4b50b4d6bd829e48649c",
       "version_major": 2,
       "version_minor": 0
      },
      "text/plain": [
       "  0%|          | 0/94 [00:00<?, ?it/s]"
      ]
     },
     "metadata": {},
     "output_type": "display_data"
    },
    {
     "name": "stdout",
     "output_type": "stream",
     "text": [
      "Validating\n"
     ]
    },
    {
     "data": {
      "application/vnd.jupyter.widget-view+json": {
       "model_id": "1aee0aae023b43639c818147204d0461",
       "version_major": 2,
       "version_minor": 0
      },
      "text/plain": [
       "  0%|          | 0/14 [00:00<?, ?it/s]"
      ]
     },
     "metadata": {},
     "output_type": "display_data"
    },
    {
     "name": "stdout",
     "output_type": "stream",
     "text": [
      "Epoch #77 train loss: 3.006\n",
      "Epoch #77 mAP@0.5: 69.78%\n",
      "Epoch #77 mAP@0.5:0.95: 26.87%\n",
      "Took 0.819 minutes for epoch 76\n",
      "SAVING PLOTS COMPLETE...\n",
      "Adjusting learning rate of group 0 to 1.0000e-09.\n",
      "\n",
      "EPOCH 78 of 100\n",
      "Training\n"
     ]
    },
    {
     "data": {
      "application/vnd.jupyter.widget-view+json": {
       "model_id": "0b66372e36b44bffafcbe9b8e33ff590",
       "version_major": 2,
       "version_minor": 0
      },
      "text/plain": [
       "  0%|          | 0/94 [00:00<?, ?it/s]"
      ]
     },
     "metadata": {},
     "output_type": "display_data"
    },
    {
     "name": "stdout",
     "output_type": "stream",
     "text": [
      "Validating\n"
     ]
    },
    {
     "data": {
      "application/vnd.jupyter.widget-view+json": {
       "model_id": "0cb080a20d9f446781899caa311e25c0",
       "version_major": 2,
       "version_minor": 0
      },
      "text/plain": [
       "  0%|          | 0/14 [00:00<?, ?it/s]"
      ]
     },
     "metadata": {},
     "output_type": "display_data"
    },
    {
     "name": "stdout",
     "output_type": "stream",
     "text": [
      "Epoch #78 train loss: 3.012\n",
      "Epoch #78 mAP@0.5: 69.78%\n",
      "Epoch #78 mAP@0.5:0.95: 26.87%\n",
      "Took 0.830 minutes for epoch 77\n",
      "SAVING PLOTS COMPLETE...\n",
      "Adjusting learning rate of group 0 to 1.0000e-09.\n",
      "\n",
      "EPOCH 79 of 100\n",
      "Training\n"
     ]
    },
    {
     "data": {
      "application/vnd.jupyter.widget-view+json": {
       "model_id": "7e75234d02e741d6acb0acff75884e16",
       "version_major": 2,
       "version_minor": 0
      },
      "text/plain": [
       "  0%|          | 0/94 [00:00<?, ?it/s]"
      ]
     },
     "metadata": {},
     "output_type": "display_data"
    },
    {
     "name": "stdout",
     "output_type": "stream",
     "text": [
      "Validating\n"
     ]
    },
    {
     "data": {
      "application/vnd.jupyter.widget-view+json": {
       "model_id": "9e00abfb9eae40b7904bd58a7a29efcc",
       "version_major": 2,
       "version_minor": 0
      },
      "text/plain": [
       "  0%|          | 0/14 [00:00<?, ?it/s]"
      ]
     },
     "metadata": {},
     "output_type": "display_data"
    },
    {
     "name": "stdout",
     "output_type": "stream",
     "text": [
      "Epoch #79 train loss: 3.001\n",
      "Epoch #79 mAP@0.5: 69.78%\n",
      "Epoch #79 mAP@0.5:0.95: 26.87%\n",
      "Took 0.825 minutes for epoch 78\n",
      "SAVING PLOTS COMPLETE...\n",
      "Adjusting learning rate of group 0 to 1.0000e-09.\n",
      "\n",
      "EPOCH 80 of 100\n",
      "Training\n"
     ]
    },
    {
     "data": {
      "application/vnd.jupyter.widget-view+json": {
       "model_id": "7def6b0f72334366b3f038e5479127a0",
       "version_major": 2,
       "version_minor": 0
      },
      "text/plain": [
       "  0%|          | 0/94 [00:00<?, ?it/s]"
      ]
     },
     "metadata": {},
     "output_type": "display_data"
    },
    {
     "name": "stdout",
     "output_type": "stream",
     "text": [
      "Validating\n"
     ]
    },
    {
     "data": {
      "application/vnd.jupyter.widget-view+json": {
       "model_id": "4e30babb5d27443896e620bb2e12650e",
       "version_major": 2,
       "version_minor": 0
      },
      "text/plain": [
       "  0%|          | 0/14 [00:00<?, ?it/s]"
      ]
     },
     "metadata": {},
     "output_type": "display_data"
    },
    {
     "name": "stdout",
     "output_type": "stream",
     "text": [
      "Epoch #80 train loss: 3.012\n",
      "Epoch #80 mAP@0.5: 69.78%\n",
      "Epoch #80 mAP@0.5:0.95: 26.87%\n",
      "Took 0.816 minutes for epoch 79\n",
      "SAVING PLOTS COMPLETE...\n",
      "Adjusting learning rate of group 0 to 1.0000e-09.\n",
      "\n",
      "EPOCH 81 of 100\n",
      "Training\n"
     ]
    },
    {
     "data": {
      "application/vnd.jupyter.widget-view+json": {
       "model_id": "a8fe158145434390b4c7e99fa9db0ccd",
       "version_major": 2,
       "version_minor": 0
      },
      "text/plain": [
       "  0%|          | 0/94 [00:00<?, ?it/s]"
      ]
     },
     "metadata": {},
     "output_type": "display_data"
    },
    {
     "name": "stdout",
     "output_type": "stream",
     "text": [
      "Validating\n"
     ]
    },
    {
     "data": {
      "application/vnd.jupyter.widget-view+json": {
       "model_id": "d26d6a0c63de4f59b67d4e7964aad4d3",
       "version_major": 2,
       "version_minor": 0
      },
      "text/plain": [
       "  0%|          | 0/14 [00:00<?, ?it/s]"
      ]
     },
     "metadata": {},
     "output_type": "display_data"
    },
    {
     "name": "stdout",
     "output_type": "stream",
     "text": [
      "Epoch #81 train loss: 3.008\n",
      "Epoch #81 mAP@0.5: 69.78%\n",
      "Epoch #81 mAP@0.5:0.95: 26.87%\n",
      "Took 0.820 minutes for epoch 80\n",
      "SAVING PLOTS COMPLETE...\n",
      "Adjusting learning rate of group 0 to 1.0000e-09.\n",
      "\n",
      "EPOCH 82 of 100\n",
      "Training\n"
     ]
    },
    {
     "data": {
      "application/vnd.jupyter.widget-view+json": {
       "model_id": "b5a687e185b848fa87154378f4ffe98e",
       "version_major": 2,
       "version_minor": 0
      },
      "text/plain": [
       "  0%|          | 0/94 [00:00<?, ?it/s]"
      ]
     },
     "metadata": {},
     "output_type": "display_data"
    },
    {
     "name": "stdout",
     "output_type": "stream",
     "text": [
      "Validating\n"
     ]
    },
    {
     "data": {
      "application/vnd.jupyter.widget-view+json": {
       "model_id": "8bd4244418224d4f93013ab71e926be8",
       "version_major": 2,
       "version_minor": 0
      },
      "text/plain": [
       "  0%|          | 0/14 [00:00<?, ?it/s]"
      ]
     },
     "metadata": {},
     "output_type": "display_data"
    },
    {
     "name": "stdout",
     "output_type": "stream",
     "text": [
      "Epoch #82 train loss: 3.009\n",
      "Epoch #82 mAP@0.5: 69.78%\n",
      "Epoch #82 mAP@0.5:0.95: 26.87%\n",
      "Took 0.816 minutes for epoch 81\n",
      "SAVING PLOTS COMPLETE...\n",
      "Adjusting learning rate of group 0 to 1.0000e-09.\n",
      "\n",
      "EPOCH 83 of 100\n",
      "Training\n"
     ]
    },
    {
     "data": {
      "application/vnd.jupyter.widget-view+json": {
       "model_id": "a34c9302edb240e596d7c2a52c52fddf",
       "version_major": 2,
       "version_minor": 0
      },
      "text/plain": [
       "  0%|          | 0/94 [00:00<?, ?it/s]"
      ]
     },
     "metadata": {},
     "output_type": "display_data"
    },
    {
     "name": "stdout",
     "output_type": "stream",
     "text": [
      "Validating\n"
     ]
    },
    {
     "data": {
      "application/vnd.jupyter.widget-view+json": {
       "model_id": "a5b41520ae07495db0dc628c0db0e22a",
       "version_major": 2,
       "version_minor": 0
      },
      "text/plain": [
       "  0%|          | 0/14 [00:00<?, ?it/s]"
      ]
     },
     "metadata": {},
     "output_type": "display_data"
    },
    {
     "name": "stdout",
     "output_type": "stream",
     "text": [
      "Epoch #83 train loss: 3.006\n",
      "Epoch #83 mAP@0.5: 69.78%\n",
      "Epoch #83 mAP@0.5:0.95: 26.87%\n",
      "Took 0.829 minutes for epoch 82\n",
      "SAVING PLOTS COMPLETE...\n",
      "Adjusting learning rate of group 0 to 1.0000e-09.\n",
      "\n",
      "EPOCH 84 of 100\n",
      "Training\n"
     ]
    },
    {
     "data": {
      "application/vnd.jupyter.widget-view+json": {
       "model_id": "cd4f89ccae7641d2ad5034bb71ab1df0",
       "version_major": 2,
       "version_minor": 0
      },
      "text/plain": [
       "  0%|          | 0/94 [00:00<?, ?it/s]"
      ]
     },
     "metadata": {},
     "output_type": "display_data"
    },
    {
     "name": "stdout",
     "output_type": "stream",
     "text": [
      "Validating\n"
     ]
    },
    {
     "data": {
      "application/vnd.jupyter.widget-view+json": {
       "model_id": "1abdaf9166834e08a62b15481610f324",
       "version_major": 2,
       "version_minor": 0
      },
      "text/plain": [
       "  0%|          | 0/14 [00:00<?, ?it/s]"
      ]
     },
     "metadata": {},
     "output_type": "display_data"
    },
    {
     "name": "stdout",
     "output_type": "stream",
     "text": [
      "Epoch #84 train loss: 3.005\n",
      "Epoch #84 mAP@0.5: 69.78%\n",
      "Epoch #84 mAP@0.5:0.95: 26.87%\n",
      "Took 0.824 minutes for epoch 83\n",
      "SAVING PLOTS COMPLETE...\n",
      "Adjusting learning rate of group 0 to 1.0000e-09.\n",
      "\n",
      "EPOCH 85 of 100\n",
      "Training\n"
     ]
    },
    {
     "data": {
      "application/vnd.jupyter.widget-view+json": {
       "model_id": "7201bae78b444c2a8696b4e82cf45e81",
       "version_major": 2,
       "version_minor": 0
      },
      "text/plain": [
       "  0%|          | 0/94 [00:00<?, ?it/s]"
      ]
     },
     "metadata": {},
     "output_type": "display_data"
    },
    {
     "name": "stdout",
     "output_type": "stream",
     "text": [
      "Validating\n"
     ]
    },
    {
     "data": {
      "application/vnd.jupyter.widget-view+json": {
       "model_id": "d9193bb0f381445e957b01c15281c200",
       "version_major": 2,
       "version_minor": 0
      },
      "text/plain": [
       "  0%|          | 0/14 [00:00<?, ?it/s]"
      ]
     },
     "metadata": {},
     "output_type": "display_data"
    },
    {
     "name": "stdout",
     "output_type": "stream",
     "text": [
      "Epoch #85 train loss: 3.012\n",
      "Epoch #85 mAP@0.5: 69.78%\n",
      "Epoch #85 mAP@0.5:0.95: 26.87%\n",
      "Took 0.820 minutes for epoch 84\n",
      "SAVING PLOTS COMPLETE...\n",
      "Adjusting learning rate of group 0 to 1.0000e-09.\n",
      "\n",
      "EPOCH 86 of 100\n",
      "Training\n"
     ]
    },
    {
     "data": {
      "application/vnd.jupyter.widget-view+json": {
       "model_id": "40fa6e8b4aac47c6aad0ae58dcc0ef9b",
       "version_major": 2,
       "version_minor": 0
      },
      "text/plain": [
       "  0%|          | 0/94 [00:00<?, ?it/s]"
      ]
     },
     "metadata": {},
     "output_type": "display_data"
    },
    {
     "name": "stdout",
     "output_type": "stream",
     "text": [
      "Validating\n"
     ]
    },
    {
     "data": {
      "application/vnd.jupyter.widget-view+json": {
       "model_id": "eca13a3654914730a3086b8e6bdcab76",
       "version_major": 2,
       "version_minor": 0
      },
      "text/plain": [
       "  0%|          | 0/14 [00:00<?, ?it/s]"
      ]
     },
     "metadata": {},
     "output_type": "display_data"
    },
    {
     "name": "stdout",
     "output_type": "stream",
     "text": [
      "Epoch #86 train loss: 3.006\n",
      "Epoch #86 mAP@0.5: 69.78%\n",
      "Epoch #86 mAP@0.5:0.95: 26.87%\n",
      "Took 0.820 minutes for epoch 85\n",
      "SAVING PLOTS COMPLETE...\n",
      "Adjusting learning rate of group 0 to 1.0000e-09.\n",
      "\n",
      "EPOCH 87 of 100\n",
      "Training\n"
     ]
    },
    {
     "data": {
      "application/vnd.jupyter.widget-view+json": {
       "model_id": "2af9b269bd6943819c42d8eb9b3c428d",
       "version_major": 2,
       "version_minor": 0
      },
      "text/plain": [
       "  0%|          | 0/94 [00:00<?, ?it/s]"
      ]
     },
     "metadata": {},
     "output_type": "display_data"
    },
    {
     "name": "stdout",
     "output_type": "stream",
     "text": [
      "Validating\n"
     ]
    },
    {
     "data": {
      "application/vnd.jupyter.widget-view+json": {
       "model_id": "79e6bc1150614451b8fe28b504a4e42d",
       "version_major": 2,
       "version_minor": 0
      },
      "text/plain": [
       "  0%|          | 0/14 [00:00<?, ?it/s]"
      ]
     },
     "metadata": {},
     "output_type": "display_data"
    },
    {
     "name": "stdout",
     "output_type": "stream",
     "text": [
      "Epoch #87 train loss: 3.009\n",
      "Epoch #87 mAP@0.5: 69.78%\n",
      "Epoch #87 mAP@0.5:0.95: 26.87%\n",
      "Took 0.822 minutes for epoch 86\n",
      "SAVING PLOTS COMPLETE...\n",
      "Adjusting learning rate of group 0 to 1.0000e-09.\n",
      "\n",
      "EPOCH 88 of 100\n",
      "Training\n"
     ]
    },
    {
     "data": {
      "application/vnd.jupyter.widget-view+json": {
       "model_id": "adb3e5d2d84343bfb3b097615f80f518",
       "version_major": 2,
       "version_minor": 0
      },
      "text/plain": [
       "  0%|          | 0/94 [00:00<?, ?it/s]"
      ]
     },
     "metadata": {},
     "output_type": "display_data"
    },
    {
     "name": "stdout",
     "output_type": "stream",
     "text": [
      "Validating\n"
     ]
    },
    {
     "data": {
      "application/vnd.jupyter.widget-view+json": {
       "model_id": "c17be8257e8e4707b00a79423402b75a",
       "version_major": 2,
       "version_minor": 0
      },
      "text/plain": [
       "  0%|          | 0/14 [00:00<?, ?it/s]"
      ]
     },
     "metadata": {},
     "output_type": "display_data"
    },
    {
     "name": "stdout",
     "output_type": "stream",
     "text": [
      "Epoch #88 train loss: 3.014\n",
      "Epoch #88 mAP@0.5: 69.78%\n",
      "Epoch #88 mAP@0.5:0.95: 26.87%\n",
      "Took 0.816 minutes for epoch 87\n",
      "SAVING PLOTS COMPLETE...\n",
      "Adjusting learning rate of group 0 to 1.0000e-09.\n",
      "\n",
      "EPOCH 89 of 100\n",
      "Training\n"
     ]
    },
    {
     "data": {
      "application/vnd.jupyter.widget-view+json": {
       "model_id": "c2875a52b34a4ef99f808f875f7ed1bc",
       "version_major": 2,
       "version_minor": 0
      },
      "text/plain": [
       "  0%|          | 0/94 [00:00<?, ?it/s]"
      ]
     },
     "metadata": {},
     "output_type": "display_data"
    },
    {
     "name": "stdout",
     "output_type": "stream",
     "text": [
      "Validating\n"
     ]
    },
    {
     "data": {
      "application/vnd.jupyter.widget-view+json": {
       "model_id": "06f7dba88af146138517487174584420",
       "version_major": 2,
       "version_minor": 0
      },
      "text/plain": [
       "  0%|          | 0/14 [00:00<?, ?it/s]"
      ]
     },
     "metadata": {},
     "output_type": "display_data"
    },
    {
     "name": "stdout",
     "output_type": "stream",
     "text": [
      "Epoch #89 train loss: 3.016\n",
      "Epoch #89 mAP@0.5: 69.78%\n",
      "Epoch #89 mAP@0.5:0.95: 26.87%\n",
      "Took 0.830 minutes for epoch 88\n",
      "SAVING PLOTS COMPLETE...\n",
      "Adjusting learning rate of group 0 to 1.0000e-09.\n",
      "\n",
      "EPOCH 90 of 100\n",
      "Training\n"
     ]
    },
    {
     "data": {
      "application/vnd.jupyter.widget-view+json": {
       "model_id": "72dbc486f839480398d3069d41822e8f",
       "version_major": 2,
       "version_minor": 0
      },
      "text/plain": [
       "  0%|          | 0/94 [00:00<?, ?it/s]"
      ]
     },
     "metadata": {},
     "output_type": "display_data"
    },
    {
     "name": "stdout",
     "output_type": "stream",
     "text": [
      "Validating\n"
     ]
    },
    {
     "data": {
      "application/vnd.jupyter.widget-view+json": {
       "model_id": "0cd247685e114ad992a3a709d60c82ef",
       "version_major": 2,
       "version_minor": 0
      },
      "text/plain": [
       "  0%|          | 0/14 [00:00<?, ?it/s]"
      ]
     },
     "metadata": {},
     "output_type": "display_data"
    },
    {
     "name": "stdout",
     "output_type": "stream",
     "text": [
      "Epoch #90 train loss: 3.002\n",
      "Epoch #90 mAP@0.5: 69.78%\n",
      "Epoch #90 mAP@0.5:0.95: 26.87%\n",
      "Took 0.827 minutes for epoch 89\n",
      "SAVING PLOTS COMPLETE...\n",
      "Adjusting learning rate of group 0 to 1.0000e-10.\n",
      "\n",
      "EPOCH 91 of 100\n",
      "Training\n"
     ]
    },
    {
     "data": {
      "application/vnd.jupyter.widget-view+json": {
       "model_id": "cdfa8711c561432b8ddbf8330304067b",
       "version_major": 2,
       "version_minor": 0
      },
      "text/plain": [
       "  0%|          | 0/94 [00:00<?, ?it/s]"
      ]
     },
     "metadata": {},
     "output_type": "display_data"
    },
    {
     "name": "stdout",
     "output_type": "stream",
     "text": [
      "Validating\n"
     ]
    },
    {
     "data": {
      "application/vnd.jupyter.widget-view+json": {
       "model_id": "aaf8f058fb8543429fd77d7788524c5e",
       "version_major": 2,
       "version_minor": 0
      },
      "text/plain": [
       "  0%|          | 0/14 [00:00<?, ?it/s]"
      ]
     },
     "metadata": {},
     "output_type": "display_data"
    },
    {
     "name": "stdout",
     "output_type": "stream",
     "text": [
      "Epoch #91 train loss: 3.005\n",
      "Epoch #91 mAP@0.5: 69.78%\n",
      "Epoch #91 mAP@0.5:0.95: 26.87%\n",
      "Took 0.824 minutes for epoch 90\n",
      "SAVING PLOTS COMPLETE...\n",
      "Adjusting learning rate of group 0 to 1.0000e-10.\n",
      "\n",
      "EPOCH 92 of 100\n",
      "Training\n"
     ]
    },
    {
     "data": {
      "application/vnd.jupyter.widget-view+json": {
       "model_id": "410563d5efed4db4a7404d0a432b31c0",
       "version_major": 2,
       "version_minor": 0
      },
      "text/plain": [
       "  0%|          | 0/94 [00:00<?, ?it/s]"
      ]
     },
     "metadata": {},
     "output_type": "display_data"
    },
    {
     "name": "stdout",
     "output_type": "stream",
     "text": [
      "Validating\n"
     ]
    },
    {
     "data": {
      "application/vnd.jupyter.widget-view+json": {
       "model_id": "66144405da574ad3888eeaac52ce1996",
       "version_major": 2,
       "version_minor": 0
      },
      "text/plain": [
       "  0%|          | 0/14 [00:00<?, ?it/s]"
      ]
     },
     "metadata": {},
     "output_type": "display_data"
    },
    {
     "name": "stdout",
     "output_type": "stream",
     "text": [
      "Epoch #92 train loss: 3.006\n",
      "Epoch #92 mAP@0.5: 69.78%\n",
      "Epoch #92 mAP@0.5:0.95: 26.87%\n",
      "Took 0.815 minutes for epoch 91\n",
      "SAVING PLOTS COMPLETE...\n",
      "Adjusting learning rate of group 0 to 1.0000e-10.\n",
      "\n",
      "EPOCH 93 of 100\n",
      "Training\n"
     ]
    },
    {
     "data": {
      "application/vnd.jupyter.widget-view+json": {
       "model_id": "41b69d499bbc4d5ca2c2bf19998cf59d",
       "version_major": 2,
       "version_minor": 0
      },
      "text/plain": [
       "  0%|          | 0/94 [00:00<?, ?it/s]"
      ]
     },
     "metadata": {},
     "output_type": "display_data"
    },
    {
     "name": "stdout",
     "output_type": "stream",
     "text": [
      "Validating\n"
     ]
    },
    {
     "data": {
      "application/vnd.jupyter.widget-view+json": {
       "model_id": "e8661b6e50b845ddade061fd625a483c",
       "version_major": 2,
       "version_minor": 0
      },
      "text/plain": [
       "  0%|          | 0/14 [00:00<?, ?it/s]"
      ]
     },
     "metadata": {},
     "output_type": "display_data"
    },
    {
     "name": "stdout",
     "output_type": "stream",
     "text": [
      "Epoch #93 train loss: 2.999\n",
      "Epoch #93 mAP@0.5: 69.78%\n",
      "Epoch #93 mAP@0.5:0.95: 26.87%\n",
      "Took 0.828 minutes for epoch 92\n",
      "SAVING PLOTS COMPLETE...\n",
      "Adjusting learning rate of group 0 to 1.0000e-10.\n",
      "\n",
      "EPOCH 94 of 100\n",
      "Training\n"
     ]
    },
    {
     "data": {
      "application/vnd.jupyter.widget-view+json": {
       "model_id": "5d7dd1b4271d43ae962192c7f749a182",
       "version_major": 2,
       "version_minor": 0
      },
      "text/plain": [
       "  0%|          | 0/94 [00:00<?, ?it/s]"
      ]
     },
     "metadata": {},
     "output_type": "display_data"
    },
    {
     "name": "stdout",
     "output_type": "stream",
     "text": [
      "Validating\n"
     ]
    },
    {
     "data": {
      "application/vnd.jupyter.widget-view+json": {
       "model_id": "ea2c01cc4a3945f09e994393c49809e2",
       "version_major": 2,
       "version_minor": 0
      },
      "text/plain": [
       "  0%|          | 0/14 [00:00<?, ?it/s]"
      ]
     },
     "metadata": {},
     "output_type": "display_data"
    },
    {
     "name": "stdout",
     "output_type": "stream",
     "text": [
      "Epoch #94 train loss: 3.003\n",
      "Epoch #94 mAP@0.5: 69.78%\n",
      "Epoch #94 mAP@0.5:0.95: 26.87%\n",
      "Took 0.823 minutes for epoch 93\n",
      "SAVING PLOTS COMPLETE...\n",
      "Adjusting learning rate of group 0 to 1.0000e-10.\n",
      "\n",
      "EPOCH 95 of 100\n",
      "Training\n"
     ]
    },
    {
     "data": {
      "application/vnd.jupyter.widget-view+json": {
       "model_id": "7e3485b478a34aa597d9b7b5a12e7be5",
       "version_major": 2,
       "version_minor": 0
      },
      "text/plain": [
       "  0%|          | 0/94 [00:00<?, ?it/s]"
      ]
     },
     "metadata": {},
     "output_type": "display_data"
    },
    {
     "name": "stdout",
     "output_type": "stream",
     "text": [
      "Validating\n"
     ]
    },
    {
     "data": {
      "application/vnd.jupyter.widget-view+json": {
       "model_id": "06bd135013bc4ee38c27ae813c502b39",
       "version_major": 2,
       "version_minor": 0
      },
      "text/plain": [
       "  0%|          | 0/14 [00:00<?, ?it/s]"
      ]
     },
     "metadata": {},
     "output_type": "display_data"
    },
    {
     "name": "stdout",
     "output_type": "stream",
     "text": [
      "Epoch #95 train loss: 3.016\n",
      "Epoch #95 mAP@0.5: 69.78%\n",
      "Epoch #95 mAP@0.5:0.95: 26.87%\n",
      "Took 0.836 minutes for epoch 94\n",
      "SAVING PLOTS COMPLETE...\n",
      "Adjusting learning rate of group 0 to 1.0000e-10.\n",
      "\n",
      "EPOCH 96 of 100\n",
      "Training\n"
     ]
    },
    {
     "data": {
      "application/vnd.jupyter.widget-view+json": {
       "model_id": "baf52de9927345a1aeaf0129c88d8cf4",
       "version_major": 2,
       "version_minor": 0
      },
      "text/plain": [
       "  0%|          | 0/94 [00:00<?, ?it/s]"
      ]
     },
     "metadata": {},
     "output_type": "display_data"
    },
    {
     "name": "stdout",
     "output_type": "stream",
     "text": [
      "Validating\n"
     ]
    },
    {
     "data": {
      "application/vnd.jupyter.widget-view+json": {
       "model_id": "8023e9a334624af4b123f0811122d8e1",
       "version_major": 2,
       "version_minor": 0
      },
      "text/plain": [
       "  0%|          | 0/14 [00:00<?, ?it/s]"
      ]
     },
     "metadata": {},
     "output_type": "display_data"
    },
    {
     "name": "stdout",
     "output_type": "stream",
     "text": [
      "Epoch #96 train loss: 3.009\n",
      "Epoch #96 mAP@0.5: 69.78%\n",
      "Epoch #96 mAP@0.5:0.95: 26.87%\n",
      "Took 0.837 minutes for epoch 95\n",
      "SAVING PLOTS COMPLETE...\n",
      "Adjusting learning rate of group 0 to 1.0000e-10.\n",
      "\n",
      "EPOCH 97 of 100\n",
      "Training\n"
     ]
    },
    {
     "data": {
      "application/vnd.jupyter.widget-view+json": {
       "model_id": "5f1a55b180e14df08e1bfafa729864ca",
       "version_major": 2,
       "version_minor": 0
      },
      "text/plain": [
       "  0%|          | 0/94 [00:00<?, ?it/s]"
      ]
     },
     "metadata": {},
     "output_type": "display_data"
    },
    {
     "name": "stdout",
     "output_type": "stream",
     "text": [
      "Validating\n"
     ]
    },
    {
     "data": {
      "application/vnd.jupyter.widget-view+json": {
       "model_id": "91d6d021fa394388bc2d7af800793ca9",
       "version_major": 2,
       "version_minor": 0
      },
      "text/plain": [
       "  0%|          | 0/14 [00:00<?, ?it/s]"
      ]
     },
     "metadata": {},
     "output_type": "display_data"
    },
    {
     "name": "stdout",
     "output_type": "stream",
     "text": [
      "Epoch #97 train loss: 3.008\n",
      "Epoch #97 mAP@0.5: 69.78%\n",
      "Epoch #97 mAP@0.5:0.95: 26.87%\n",
      "Took 0.839 minutes for epoch 96\n",
      "SAVING PLOTS COMPLETE...\n",
      "Adjusting learning rate of group 0 to 1.0000e-10.\n",
      "\n",
      "EPOCH 98 of 100\n",
      "Training\n"
     ]
    },
    {
     "data": {
      "application/vnd.jupyter.widget-view+json": {
       "model_id": "4df53f27bdec4048ae51df871f38b5a6",
       "version_major": 2,
       "version_minor": 0
      },
      "text/plain": [
       "  0%|          | 0/94 [00:00<?, ?it/s]"
      ]
     },
     "metadata": {},
     "output_type": "display_data"
    },
    {
     "name": "stdout",
     "output_type": "stream",
     "text": [
      "Validating\n"
     ]
    },
    {
     "data": {
      "application/vnd.jupyter.widget-view+json": {
       "model_id": "a4cae0b3870e4107ba8ebde74f1aab03",
       "version_major": 2,
       "version_minor": 0
      },
      "text/plain": [
       "  0%|          | 0/14 [00:00<?, ?it/s]"
      ]
     },
     "metadata": {},
     "output_type": "display_data"
    },
    {
     "name": "stdout",
     "output_type": "stream",
     "text": [
      "Epoch #98 train loss: 3.014\n",
      "Epoch #98 mAP@0.5: 69.78%\n",
      "Epoch #98 mAP@0.5:0.95: 26.87%\n",
      "Took 0.841 minutes for epoch 97\n",
      "SAVING PLOTS COMPLETE...\n",
      "Adjusting learning rate of group 0 to 1.0000e-10.\n",
      "\n",
      "EPOCH 99 of 100\n",
      "Training\n"
     ]
    },
    {
     "data": {
      "application/vnd.jupyter.widget-view+json": {
       "model_id": "f354dafa350b4e19a85642056185d1f3",
       "version_major": 2,
       "version_minor": 0
      },
      "text/plain": [
       "  0%|          | 0/94 [00:00<?, ?it/s]"
      ]
     },
     "metadata": {},
     "output_type": "display_data"
    },
    {
     "name": "stdout",
     "output_type": "stream",
     "text": [
      "Validating\n"
     ]
    },
    {
     "data": {
      "application/vnd.jupyter.widget-view+json": {
       "model_id": "de26ce523ae14fd49b60ac36d1ebfeed",
       "version_major": 2,
       "version_minor": 0
      },
      "text/plain": [
       "  0%|          | 0/14 [00:00<?, ?it/s]"
      ]
     },
     "metadata": {},
     "output_type": "display_data"
    },
    {
     "name": "stdout",
     "output_type": "stream",
     "text": [
      "Epoch #99 train loss: 3.004\n",
      "Epoch #99 mAP@0.5: 69.78%\n",
      "Epoch #99 mAP@0.5:0.95: 26.87%\n",
      "Took 0.831 minutes for epoch 98\n",
      "SAVING PLOTS COMPLETE...\n",
      "Adjusting learning rate of group 0 to 1.0000e-10.\n",
      "\n",
      "EPOCH 100 of 100\n",
      "Training\n"
     ]
    },
    {
     "data": {
      "application/vnd.jupyter.widget-view+json": {
       "model_id": "e5dda141d24842e88b79a9126a720ddb",
       "version_major": 2,
       "version_minor": 0
      },
      "text/plain": [
       "  0%|          | 0/94 [00:00<?, ?it/s]"
      ]
     },
     "metadata": {},
     "output_type": "display_data"
    },
    {
     "name": "stdout",
     "output_type": "stream",
     "text": [
      "Validating\n"
     ]
    },
    {
     "data": {
      "application/vnd.jupyter.widget-view+json": {
       "model_id": "4fa3159630be43289c0d553804301ac3",
       "version_major": 2,
       "version_minor": 0
      },
      "text/plain": [
       "  0%|          | 0/14 [00:00<?, ?it/s]"
      ]
     },
     "metadata": {},
     "output_type": "display_data"
    },
    {
     "name": "stdout",
     "output_type": "stream",
     "text": [
      "Epoch #100 train loss: 3.012\n",
      "Epoch #100 mAP@0.5: 69.78%\n",
      "Epoch #100 mAP@0.5:0.95: 26.87%\n",
      "Took 0.824 minutes for epoch 99\n",
      "SAVING PLOTS COMPLETE...\n",
      "Adjusting learning rate of group 0 to 1.0000e-10.\n",
      "Training complete. Metrics saved to outputs/training_metrics.csv\n"
     ]
    },
    {
     "data": {
      "image/png": "[encoded data removed]",
      "text/plain": [
       "<Figure size 1000x700 with 1 Axes>"
      ]
     },
     "metadata": {},
     "output_type": "display_data"
    }
   ],
   "source": [
    "os.makedirs('outputs', exist_ok=True)\n",
    "train_dataset = create_train_dataset(TRAIN_DIR)\n",
    "valid_dataset = create_valid_dataset(VALID_DIR)\n",
    "train_loader = create_train_loader(train_dataset, NUM_WORKERS)\n",
    "valid_loader = create_valid_loader(valid_dataset, NUM_WORKERS)\n",
    "print(f\"Number of training samples: {len(train_dataset)}\")\n",
    "print(f\"Number of validation samples: {len(valid_dataset)}\\n\")\n",
    "\n",
    "# Initialize the model and move to the computation device.\n",
    "model = create_model(num_classes=NUM_CLASSES, size=RESIZE_TO, weights_path=WEIGHTS_PATH)\n",
    "model = model.to(DEVICE)\n",
    "# print(model)\n",
    "\n",
    "# Total parameters and trainable parameters.\n",
    "total_params = sum(p.numel() for p in model.parameters())\n",
    "print(f\"{total_params:,} total parameters.\")\n",
    "total_trainable_params = sum(\n",
    "    p.numel() for p in model.parameters() if p.requires_grad)\n",
    "print(f\"{total_trainable_params:,} training parameters.\")\n",
    "params = [p for p in model.parameters() if p.requires_grad]\n",
    "optimizer = torch.optim.SGD(params, lr=0.0001, momentum=0.9, nesterov=True)\n",
    "scheduler = StepLR(\n",
    "    optimizer=optimizer, step_size=15, gamma=0.1, verbose=True\n",
    ")\n",
    "\n",
    "# Initialize a CSV file to store the metrics\n",
    "csv_file = os.path.join(OUT_DIR, 'training_metrics.csv')\n",
    "with open(csv_file, mode='w', newline='') as file:\n",
    "    writer = csv.writer(file)\n",
    "    writer.writerow(['Epoch', 'Train Loss', 'Validation mAP50', 'Validation mAP50-95', 'Learning Rate'])\n",
    "\n",
    "# To monitor training loss\n",
    "train_loss_hist = Averager()\n",
    "# To store training loss and mAP values.\n",
    "train_loss_list = []\n",
    "map_50_list = []\n",
    "map_list = []\n",
    "\n",
    "# Ensure the model is in training mode\n",
    "model.train()\n",
    "\n",
    "save_best_model = SaveBestModel()\n",
    "\n",
    "# Continue with the training loop\n",
    "for epoch in range(NUM_EPOCHS):\n",
    "    print(f\"\\nEPOCH {epoch+1} of {NUM_EPOCHS}\")\n",
    "\n",
    "    # Reset the training loss histories for the current epoch.\n",
    "    train_loss_hist.reset()\n",
    "\n",
    "    # Start timer and carry out training and validation.\n",
    "    start = time.time()\n",
    "    train_loss = train(train_loader, model)\n",
    "    metric_summary = validate(valid_loader, model)\n",
    "    \n",
    "    # Display training loss and validation mAP\n",
    "    print(f\"Epoch #{epoch+1} train loss: {train_loss_hist.value:.3f}\")   \n",
    "    print(f\"Epoch #{epoch+1} mAP@0.5: {metric_summary['map_50']*100:.2f}%\")   \n",
    "    print(f\"Epoch #{epoch+1} mAP@0.5:0.95: {metric_summary['map']*100:.2f}%\")\n",
    "    end = time.time()\n",
    "    print(f\"Took {((end - start) / 60):.3f} minutes for epoch {epoch}\")\n",
    "\n",
    "    # Save the loss and mAP values\n",
    "    train_loss_list.append(train_loss)\n",
    "    map_50_list.append(metric_summary['map_50'])\n",
    "    map_list.append(metric_summary['map'])\n",
    "\n",
    "    # Save metrics to CSV\n",
    "    current_lr = scheduler.get_last_lr()[0]  # Get the current learning rate\n",
    "    with open(csv_file, mode='a', newline='') as file:\n",
    "        writer = csv.writer(file)\n",
    "        writer.writerow([epoch+1, train_loss_hist.value, metric_summary['map_50']*100, metric_summary['map']*100, current_lr])\n",
    "\n",
    "    # Save the best model till now.\n",
    "    save_best_model(model, float(metric_summary['map']), epoch, 'outputs')\n",
    "\n",
    "    # Save the current epoch model.\n",
    "    save_model(epoch, model, optimizer)\n",
    "\n",
    "    # Save loss plot.\n",
    "    save_loss_plot(OUT_DIR, train_loss_list)\n",
    "\n",
    "    # Save mAP plot.\n",
    "    save_mAP(OUT_DIR, map_50_list, map_list)\n",
    "\n",
    "    # Step the scheduler\n",
    "    scheduler.step()\n",
    "\n",
    "print(f\"Training complete. Metrics saved to {csv_file}\")"
   ]
  },
  {
   "cell_type": "markdown",
   "id": "77a113e0-807d-4656-ba0b-55665cc0eceb",
   "metadata": {},
   "source": [
    "# Model Evaluation"
   ]
  },
  {
   "cell_type": "code",
   "execution_count": 6,
   "id": "2df00948-3466-4184-bc28-3b31e48a8e6c",
   "metadata": {
    "tags": []
   },
   "outputs": [
    {
     "name": "stdout",
     "output_type": "stream",
     "text": [
      "Validating\n"
     ]
    },
    {
     "data": {
      "application/vnd.jupyter.widget-view+json": {
       "model_id": "e00bf4fdb9f94be08dc05f8d53aa3801",
       "version_major": 2,
       "version_minor": 0
      },
      "text/plain": [
       "  0%|          | 0/12 [00:00<?, ?it/s]"
      ]
     },
     "metadata": {},
     "output_type": "display_data"
    },
    {
     "name": "stdout",
     "output_type": "stream",
     "text": [
      "mAP_50: 65.223\n",
      "mAP_50_95: 25.701\n"
     ]
    }
   ],
   "source": [
    "model = create_model(num_classes=NUM_CLASSES, size=640, weights_path=WEIGHTS_PATH)\n",
    "checkpoint = torch.load('outputs/best_model.pth', map_location=DEVICE)\n",
    "model.load_state_dict(checkpoint['model_state_dict'])\n",
    "model.to(DEVICE).eval()\n",
    "\n",
    "test_dataset = create_valid_dataset(\n",
    "    '/home/jupyter/ee_tree_counting/Data/Combined Dataset XML No Aug/test'\n",
    ")\n",
    "test_loader = create_valid_loader(test_dataset, num_workers=NUM_WORKERS)\n",
    "\n",
    "metric_summary = validate(test_loader, model)\n",
    "print(f\"mAP_50: {metric_summary['map_50']*100:.3f}\")\n",
    "print(f\"mAP_50_95: {metric_summary['map']*100:.3f}\")"
   ]
  },
  {
   "cell_type": "markdown",
   "id": "108cdd9c-caa3-4389-b969-12dd13eb9ce9",
   "metadata": {},
   "source": [
    "# Exporting to CSV file format"
   ]
  },
  {
   "cell_type": "code",
   "execution_count": 21,
   "id": "16bd7ac6-7cc4-4fd8-b436-5e9d94512e71",
   "metadata": {
    "tags": []
   },
   "outputs": [
    {
     "data": {
      "text/plain": [
       "'outputs'"
      ]
     },
     "execution_count": 21,
     "metadata": {},
     "output_type": "execute_result"
    }
   ],
   "source": [
    "import pandas as pd\n",
    "\n",
    "# Create a dictionary with the data\n",
    "data = {\n",
    "    \"Epoch\": list(range(1, 101)),\n",
    "    \"Train Loss\": [\n",
    "        4.938, 4.075, 3.83, 3.696, 3.61, 3.531, 3.463, 3.412, 3.359, 3.322, 3.264, 3.22, 3.179, 3.136, 3.104, 3.063,\n",
    "        3.073, 3.057, 3.058, 3.058, 3.049, 3.041, 3.036, 3.03, 3.04, 3.034, 3.017, 3.03, 3.026, 3.014, 3.018, 3.014,\n",
    "        3.012, 3.017, 3.005, 3.008, 3.015, 3.009, 3.008, 3.003, 3.009, 2.999, 3.02, 3.014, 3.011, 3.007, 3.009, 3.006,\n",
    "        3.005, 3.008, 3.013, 3.011, 3.004, 3.007, 3.013, 3.012, 3.007, 3.007, 3.003, 3.002, 3.014, 3.014, 3.012, 3.01,\n",
    "        3.007, 3.009, 3.006, 3.004, 3.011, 3.001, 3.012, 3.01, 3.007, 3.015, 3.009, 3.004, 3.013, 3.007, 3.004, 3.01,\n",
    "        3.012, 3.007, 3.009, 3.009, 3.007, 3.017, 3.01, 3.004, 3.013, 3.007, 3.014, 3.009, 3.006, 3.007, 3.008, 3.01,\n",
    "        3.008, 3.007, 3.006, 3.008\n",
    "    ],\n",
    "    \"mAP\": [\n",
    "        0.0020383174996823072, 0.022861845791339874, 0.08308479189872742, 0.14638210833072662, 0.18756431341171265,\n",
    "        0.20833797752857208, 0.2192489504814148, 0.22915536165237427, 0.23228442668914795, 0.24335764348506927,\n",
    "        0.24488072097301483, 0.24967779219150543, 0.25477665662765503, 0.2594020962715149, 0.2659323215484619,\n",
    "        0.262830913066864, 0.26334813237190247, 0.26300138235092163, 0.2632383406162262, 0.2628127336502075,\n",
    "        0.2647073566913605, 0.2639809250831604, 0.2655472755432129, 0.2646346390247345, 0.2666299641132355,\n",
    "        0.2656112015247345, 0.2669174373149872, 0.26502883434295654, 0.2670244872570038, 0.26789408922195435,\n",
    "        0.2672414183616638, 0.26779478788375854, 0.2676714062690735, 0.26808544993400574, 0.2677479684352875,\n",
    "        0.2680380940437317, 0.26814815402030945, 0.2681480348110199, 0.2679618000984192, 0.2680222690105438,\n",
    "        0.2683304250240326, 0.2683519721031189, 0.2682887315750122, 0.2683258354663849, 0.2684342861175537,\n",
    "        0.2684059739112854, 0.2683124840259552, 0.2683514654636383, 0.26834672689437866, 0.2683456838130951,\n",
    "        0.26834726333618164, 0.2683553993701935, 0.26837506890296936, 0.26835018396377563, 0.26836878061294556,\n",
    "        0.2683883309364319, 0.268428236246109, 0.2684257924556732, 0.2681969106197357, 0.2683669328689575,\n",
    "        0.2683667540550232, 0.2683667540550232, 0.2683671712875366, 0.2683606445789337, 0.26836055517196655,\n",
    "        0.2683664560317993, 0.26836705207824707, 0.2683640420436859, 0.26836854219436646, 0.2683689296245575,\n",
    "        0.2683689296245575, 0.2683689296245575, 0.26836901903152466, 0.2683681845664978, 0.2683696448802948,\n",
    "        0.2683696448802948, 0.2683696448802948, 0.2683698832988739, 0.2683696448802948, 0.2683698832988739,\n",
    "        0.2683698832988739, 0.2683698832988739, 0.2683698832988739, 0.2683698832988739, 0.2683698832988739,\n",
    "        0.2683698832988739, 0.2683698832988739, 0.2683698832988739, 0.2683698832988739, 0.2683698832988739,\n",
    "        0.2683698832988739, 0.2683698832988739, 0.2683698832988739, 0.2683698832988739, 0.2683698832988739,\n",
    "        0.26836860179901123, 0.2683698832988739, 0.2683698832988739, 0.2683698832988739, 0.2683698832988739\n",
    "    ]\n",
    "}\n",
    "\n",
    "# Convert dictionary to DataFrame\n",
    "df = pd.DataFrame(data)\n",
    "\n",
    "# Save DataFrame to CSV\n",
    "\n",
    "df.to_csv('training_log_100eNoAug.csv', index=False)\n",
    "\n",
    "csv_file_path\n"
   ]
  },
  {
   "cell_type": "markdown",
   "id": "8dcf2fdb-bbca-40ba-af68-5bac670af1ac",
   "metadata": {},
   "source": [
    "## Inference on Satellite Imagery"
   ]
  },
  {
   "cell_type": "code",
   "execution_count": 6,
   "id": "ae38ec19-3958-474c-9a6c-f7dc137e155a",
   "metadata": {
    "tags": []
   },
   "outputs": [
    {
     "name": "stdout",
     "output_type": "stream",
     "text": [
      "Inference complete. Output saved at visualisations/SSD_Satellite_Inference/Region_7_Spain_png.rf.45c8864edc44300a9e07e25bd60f7206_inference.jpg\n",
      "Inference Time: 0.03 seconds\n"
     ]
    }
   ],
   "source": [
    "import os\n",
    "import numpy as np\n",
    "import cv2\n",
    "import torch\n",
    "import time\n",
    "import pandas as pd\n",
    "\n",
    "from model import create_model\n",
    "from config import NUM_CLASSES, DEVICE, CLASSES\n",
    "\n",
    "np.random.seed(42)\n",
    "\n",
    "# Define the path to your satellite image\n",
    "satellite_image_path = '/home/jupyter/ee_tree_counting/Sample Images/GEE Sample Images/Region_7_Spain_png.rf.45c8864edc44300a9e07e25bd60f7206.jpg' \n",
    "image_size = None  # Set this to the desired image size, e.g., 640, or leave it as None to use original size\n",
    "detection_threshold = 0.35  # Set the detection threshold\n",
    "\n",
    "output_dir = 'visualisations/SSD_Satellite_Inference'\n",
    "os.makedirs(output_dir, exist_ok=True)\n",
    "\n",
    "# Set the color for bounding boxes to blue.\n",
    "BLUE_COLOR = (255, 0, 0)  # BGR format, blue color\n",
    "\n",
    "# Load the best model and trained weights.\n",
    "model = create_model(num_classes=NUM_CLASSES)\n",
    "checkpoint = torch.load('/home/jupyter/ee_tree_counting/Models/SSD/outputs/SSD Tree Result/best_model.pth', map_location=DEVICE)\n",
    "model.load_state_dict(checkpoint['model_state_dict'])\n",
    "model.to(DEVICE).eval()\n",
    "\n",
    "# Load and preprocess the satellite image\n",
    "image_name = os.path.splitext(os.path.basename(satellite_image_path))[0]\n",
    "image = cv2.imread(satellite_image_path)\n",
    "orig_image = image.copy()\n",
    "\n",
    "if image_size is not None:\n",
    "    image = cv2.resize(image, (image_size, image_size))\n",
    "\n",
    "image = cv2.cvtColor(image, cv2.COLOR_BGR2RGB).astype(np.float32)\n",
    "image /= 255.0\n",
    "image_input = np.transpose(image, (2, 0, 1)).astype(np.float32)\n",
    "image_input = torch.tensor(image_input, dtype=torch.float).unsqueeze(0).to(DEVICE)\n",
    "\n",
    "# Perform inference\n",
    "start_time = time.time()\n",
    "with torch.no_grad():\n",
    "    outputs = model(image_input)\n",
    "end_time = time.time()\n",
    "\n",
    "outputs = [{k: v.to('cpu') for k, v in t.items()} for t in outputs]\n",
    "\n",
    "# Filter results by detection threshold\n",
    "detected_boxes = len(outputs[0]['boxes'])\n",
    "\n",
    "if detected_boxes > 0:\n",
    "    boxes = outputs[0]['boxes'].data.numpy()\n",
    "    scores = outputs[0]['scores'].data.numpy()\n",
    "    boxes = boxes[scores >= detection_threshold].astype(np.int32)\n",
    "    scores = scores[scores >= detection_threshold]\n",
    "\n",
    "    for box, score in zip(boxes, scores):\n",
    "        xmin, ymin, xmax, ymax = box\n",
    "        cv2.rectangle(orig_image, (xmin, ymin), (xmax, ymax), BLUE_COLOR, 3)\n",
    "        cv2.putText(orig_image, f\"tree: {score:.2f}\", (xmin, ymin - 5), \n",
    "                    cv2.FONT_HERSHEY_SIMPLEX, 0.8, BLUE_COLOR, 2, lineType=cv2.LINE_AA)\n",
    "\n",
    "    # Save the output image with bounding boxes and scores\n",
    "    output_image_path = os.path.join(output_dir, f\"{image_name}_inference.jpg\")\n",
    "    cv2.imwrite(output_image_path, orig_image)\n",
    "    print(f\"Inference complete. Output saved at {output_image_path}\")\n",
    "else:\n",
    "    print(\"No objects detected.\")\n",
    "\n",
    "# Print inference time\n",
    "print(f\"Inference Time: {end_time - start_time:.2f} seconds\")\n"
   ]
  },
  {
   "cell_type": "code",
   "execution_count": null,
   "id": "8da81bbb-e0cc-490a-9e38-397a72b1e687",
   "metadata": {},
   "outputs": [],
   "source": []
  }
 ],
 "metadata": {
  "environment": {
   "kernel": "python3",
   "name": "common-cu121.m122",
   "type": "gcloud",
   "uri": "us-docker.pkg.dev/deeplearning-platform-release/gcr.io/base-cu121:m122"
  },
  "kernelspec": {
   "display_name": "Python 3 (Local)",
   "language": "python",
   "name": "python3"
  },
  "language_info": {
   "codemirror_mode": {
    "name": "ipython",
    "version": 3
   },
   "file_extension": ".py",
   "mimetype": "text/x-python",
   "name": "python",
   "nbconvert_exporter": "python",
   "pygments_lexer": "ipython3",
   "version": "3.10.14"
  }
 },
 "nbformat": 4,
 "nbformat_minor": 5
}
