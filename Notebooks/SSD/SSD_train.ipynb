{
 "cells": [
  {
   "cell_type": "markdown",
   "id": "a7e42e51-2025-42b0-91b6-5ded50586e12",
   "metadata": {},
   "source": [
    "# Imports"
   ]
  },
  {
   "cell_type": "code",
   "execution_count": 10,
   "id": "8f344352-2ba8-4cfd-99ba-d04f89a891a3",
   "metadata": {
    "tags": []
   },
   "outputs": [],
   "source": [
    "import os\n",
    "os.chdir('/home/jupyter/ee_tree_counting/Models/SSD')"
   ]
  },
  {
   "cell_type": "code",
   "execution_count": 2,
   "id": "3b674f43-914b-4602-8922-1f9943816425",
   "metadata": {
    "tags": []
   },
   "outputs": [],
   "source": [
    "from config import (\n",
    "    DEVICE, \n",
    "    NUM_CLASSES, \n",
    "    NUM_EPOCHS, \n",
    "    OUT_DIR,\n",
    "    VISUALIZE_TRANSFORMED_IMAGES, \n",
    "    NUM_WORKERS,\n",
    "    RESIZE_TO,\n",
    "    VALID_DIR,\n",
    "    TRAIN_DIR,\n",
    "    WEIGHTS_PATH\n",
    ")\n",
    "from model import create_model\n",
    "from custom_utils import (\n",
    "    Averager, \n",
    "    SaveBestModel, \n",
    "    save_model, \n",
    "    save_loss_plot,\n",
    "    save_mAP\n",
    ")\n",
    "from tqdm.auto import tqdm\n",
    "from datasets import (\n",
    "    create_train_dataset, \n",
    "    create_valid_dataset, \n",
    "    create_train_loader, \n",
    "    create_valid_loader\n",
    ")\n",
    "from torchmetrics.detection.mean_ap import MeanAveragePrecision\n",
    "from torch.optim.lr_scheduler import StepLR\n",
    "\n",
    "import torch\n",
    "import matplotlib.pyplot as plt\n",
    "import time\n",
    "import os\n",
    "\n",
    "plt.style.use('ggplot')\n",
    "\n",
    "seed = 42\n",
    "torch.manual_seed(seed)\n",
    "torch.cuda.manual_seed(seed)\n",
    "torch.cuda.manual_seed_all(seed)"
   ]
  },
  {
   "cell_type": "code",
   "execution_count": 3,
   "id": "0a3344f4-c098-4709-b331-f52b2844dcf6",
   "metadata": {
    "tags": []
   },
   "outputs": [],
   "source": [
    "# Function for running training iterations.\n",
    "def train(train_data_loader, model):\n",
    "    print('Training')\n",
    "    model.train()\n",
    "    \n",
    "     # initialize tqdm progress bar\n",
    "    prog_bar = tqdm(train_data_loader, total=len(train_data_loader))\n",
    "    \n",
    "    for i, data in enumerate(prog_bar):\n",
    "        optimizer.zero_grad()\n",
    "        images, targets = data\n",
    "        \n",
    "        images = list(image.to(DEVICE) for image in images)\n",
    "        targets = [{k: v.to(DEVICE) for k, v in t.items()} for t in targets]\n",
    "        loss_dict = model(images, targets)\n",
    "\n",
    "        losses = sum(loss for loss in loss_dict.values())\n",
    "        loss_value = losses.item()\n",
    "\n",
    "        train_loss_hist.send(loss_value)\n",
    "\n",
    "        losses.backward()\n",
    "        optimizer.step()\n",
    "    \n",
    "        # update the loss value beside the progress bar for each iteration\n",
    "        prog_bar.set_description(desc=f\"Loss: {loss_value:.4f}\")\n",
    "    return loss_value"
   ]
  },
  {
   "cell_type": "code",
   "execution_count": 4,
   "id": "6da0176c-8c5b-4ab8-81a0-f99f002c64c9",
   "metadata": {
    "tags": []
   },
   "outputs": [],
   "source": [
    "def validate(valid_data_loader, model):\n",
    "    print('Validating')\n",
    "    model.eval()\n",
    "    \n",
    "    # Initialize tqdm progress bar.\n",
    "    prog_bar = tqdm(valid_data_loader, total=len(valid_data_loader))\n",
    "    target = []\n",
    "    preds = []\n",
    "    for i, data in enumerate(prog_bar):\n",
    "        images, targets = data\n",
    "        \n",
    "        images = list(image.to(DEVICE) for image in images)\n",
    "        targets = [{k: v.to(DEVICE) for k, v in t.items()} for t in targets]\n",
    "        \n",
    "        with torch.no_grad():\n",
    "            outputs = model(images, targets)\n",
    "\n",
    "        # For mAP calculation using Torchmetrics.\n",
    "        #####################################\n",
    "        for i in range(len(images)):\n",
    "            true_dict = dict()\n",
    "            preds_dict = dict()\n",
    "            true_dict['boxes'] = targets[i]['boxes'].detach().cpu()\n",
    "            true_dict['labels'] = targets[i]['labels'].detach().cpu()\n",
    "            preds_dict['boxes'] = outputs[i]['boxes'].detach().cpu()\n",
    "            preds_dict['scores'] = outputs[i]['scores'].detach().cpu()\n",
    "            preds_dict['labels'] = outputs[i]['labels'].detach().cpu()\n",
    "            preds.append(preds_dict)\n",
    "            target.append(true_dict)\n",
    "        #####################################\n",
    "\n",
    "    metric = MeanAveragePrecision()\n",
    "    metric.update(preds, target)\n",
    "    metric_summary = metric.compute()\n",
    "    return metric_summary"
   ]
  },
  {
   "cell_type": "code",
   "execution_count": 5,
   "id": "6047f6da-abe9-45a2-b7ac-ab17e4f0548f",
   "metadata": {
    "tags": []
   },
   "outputs": [
    {
     "name": "stderr",
     "output_type": "stream",
     "text": [
      "/opt/conda/lib/python3.10/site-packages/albumentations/core/composition.py:156: UserWarning: Got processor for bboxes, but no transform to process it.\n",
      "  self._set_keys()\n"
     ]
    },
    {
     "name": "stdout",
     "output_type": "stream",
     "text": [
      "Number of training samples: 379\n",
      "Number of validation samples: 59\n",
      "\n",
      "23,745,908 total parameters.\n",
      "23,745,908 training parameters.\n",
      "Adjusting learning rate of group 0 to 1.0000e-04.\n",
      "\n",
      "EPOCH 1 of 100\n",
      "Training\n"
     ]
    },
    {
     "data": {
      "application/vnd.jupyter.widget-view+json": {
       "model_id": "9f6653f9292b44a3914bb1ecc1f0f107",
       "version_major": 2,
       "version_minor": 0
      },
      "text/plain": [
       "  0%|          | 0/94 [00:00<?, ?it/s]"
      ]
     },
     "metadata": {},
     "output_type": "display_data"
    },
    {
     "name": "stdout",
     "output_type": "stream",
     "text": [
      "Validating\n"
     ]
    },
    {
     "data": {
      "application/vnd.jupyter.widget-view+json": {
       "model_id": "f59f0093b26544f79ec96d65d533cbcd",
       "version_major": 2,
       "version_minor": 0
      },
      "text/plain": [
       "  0%|          | 0/14 [00:00<?, ?it/s]"
      ]
     },
     "metadata": {},
     "output_type": "display_data"
    },
    {
     "name": "stderr",
     "output_type": "stream",
     "text": [
      "/opt/conda/lib/python3.10/site-packages/torchmetrics/utilities/prints.py:43: UserWarning: Encountered more than 100 detections in a single image. This means that certain detections with the lowest scores will be ignored, that may have an undesirable impact on performance. Please consider adjusting the `max_detection_threshold` to suit your use case. To disable this warning, set attribute class `warn_on_many_detections=False`, after initializing the metric.\n",
      "  warnings.warn(*args, **kwargs)  # noqa: B028\n"
     ]
    },
    {
     "name": "stdout",
     "output_type": "stream",
     "text": [
      "Epoch #1 train loss: 4.938\n",
      "Epoch #1 mAP: 0.0020383174996823072\n",
      "Took 0.845 minutes for epoch 0\n",
      "\n",
      "BEST VALIDATION mAP: 0.0020383174996823072\n",
      "\n",
      "SAVING BEST MODEL FOR EPOCH: 1\n",
      "\n",
      "SAVING PLOTS COMPLETE...\n",
      "Adjusting learning rate of group 0 to 1.0000e-04.\n",
      "\n",
      "EPOCH 2 of 100\n",
      "Training\n"
     ]
    },
    {
     "data": {
      "application/vnd.jupyter.widget-view+json": {
       "model_id": "159dc734baf24a74a00358dbbcc994f6",
       "version_major": 2,
       "version_minor": 0
      },
      "text/plain": [
       "  0%|          | 0/94 [00:00<?, ?it/s]"
      ]
     },
     "metadata": {},
     "output_type": "display_data"
    },
    {
     "name": "stdout",
     "output_type": "stream",
     "text": [
      "Validating\n"
     ]
    },
    {
     "data": {
      "application/vnd.jupyter.widget-view+json": {
       "model_id": "9e8439ca19af4220ac1cbf53446d151c",
       "version_major": 2,
       "version_minor": 0
      },
      "text/plain": [
       "  0%|          | 0/14 [00:00<?, ?it/s]"
      ]
     },
     "metadata": {},
     "output_type": "display_data"
    },
    {
     "name": "stdout",
     "output_type": "stream",
     "text": [
      "Epoch #2 train loss: 4.075\n",
      "Epoch #2 mAP: 0.022861845791339874\n",
      "Took 0.815 minutes for epoch 1\n",
      "\n",
      "BEST VALIDATION mAP: 0.022861845791339874\n",
      "\n",
      "SAVING BEST MODEL FOR EPOCH: 2\n",
      "\n",
      "SAVING PLOTS COMPLETE...\n",
      "Adjusting learning rate of group 0 to 1.0000e-04.\n",
      "\n",
      "EPOCH 3 of 100\n",
      "Training\n"
     ]
    },
    {
     "data": {
      "application/vnd.jupyter.widget-view+json": {
       "model_id": "1d3bb3ffbc414f00817740c66e5ab85b",
       "version_major": 2,
       "version_minor": 0
      },
      "text/plain": [
       "  0%|          | 0/94 [00:00<?, ?it/s]"
      ]
     },
     "metadata": {},
     "output_type": "display_data"
    },
    {
     "name": "stdout",
     "output_type": "stream",
     "text": [
      "Validating\n"
     ]
    },
    {
     "data": {
      "application/vnd.jupyter.widget-view+json": {
       "model_id": "0405cd7f6ed54352b3790914784df225",
       "version_major": 2,
       "version_minor": 0
      },
      "text/plain": [
       "  0%|          | 0/14 [00:00<?, ?it/s]"
      ]
     },
     "metadata": {},
     "output_type": "display_data"
    },
    {
     "name": "stdout",
     "output_type": "stream",
     "text": [
      "Epoch #3 train loss: 3.830\n",
      "Epoch #3 mAP: 0.08308479189872742\n",
      "Took 0.804 minutes for epoch 2\n",
      "\n",
      "BEST VALIDATION mAP: 0.08308479189872742\n",
      "\n",
      "SAVING BEST MODEL FOR EPOCH: 3\n",
      "\n",
      "SAVING PLOTS COMPLETE...\n",
      "Adjusting learning rate of group 0 to 1.0000e-04.\n",
      "\n",
      "EPOCH 4 of 100\n",
      "Training\n"
     ]
    },
    {
     "data": {
      "application/vnd.jupyter.widget-view+json": {
       "model_id": "3914f99731f246a4a01a6e57f77581a4",
       "version_major": 2,
       "version_minor": 0
      },
      "text/plain": [
       "  0%|          | 0/94 [00:00<?, ?it/s]"
      ]
     },
     "metadata": {},
     "output_type": "display_data"
    },
    {
     "name": "stdout",
     "output_type": "stream",
     "text": [
      "Validating\n"
     ]
    },
    {
     "data": {
      "application/vnd.jupyter.widget-view+json": {
       "model_id": "faa58622763c4939b26bcc6c9beea2f3",
       "version_major": 2,
       "version_minor": 0
      },
      "text/plain": [
       "  0%|          | 0/14 [00:00<?, ?it/s]"
      ]
     },
     "metadata": {},
     "output_type": "display_data"
    },
    {
     "name": "stdout",
     "output_type": "stream",
     "text": [
      "Epoch #4 train loss: 3.696\n",
      "Epoch #4 mAP: 0.14638210833072662\n",
      "Took 0.815 minutes for epoch 3\n",
      "\n",
      "BEST VALIDATION mAP: 0.14638210833072662\n",
      "\n",
      "SAVING BEST MODEL FOR EPOCH: 4\n",
      "\n",
      "SAVING PLOTS COMPLETE...\n",
      "Adjusting learning rate of group 0 to 1.0000e-04.\n",
      "\n",
      "EPOCH 5 of 100\n",
      "Training\n"
     ]
    },
    {
     "data": {
      "application/vnd.jupyter.widget-view+json": {
       "model_id": "1d8fdcb1d27243399caa16292c8e00da",
       "version_major": 2,
       "version_minor": 0
      },
      "text/plain": [
       "  0%|          | 0/94 [00:00<?, ?it/s]"
      ]
     },
     "metadata": {},
     "output_type": "display_data"
    },
    {
     "name": "stdout",
     "output_type": "stream",
     "text": [
      "Validating\n"
     ]
    },
    {
     "data": {
      "application/vnd.jupyter.widget-view+json": {
       "model_id": "49be34a01abf4e249223b2ec6333ad70",
       "version_major": 2,
       "version_minor": 0
      },
      "text/plain": [
       "  0%|          | 0/14 [00:00<?, ?it/s]"
      ]
     },
     "metadata": {},
     "output_type": "display_data"
    },
    {
     "name": "stdout",
     "output_type": "stream",
     "text": [
      "Epoch #5 train loss: 3.610\n",
      "Epoch #5 mAP: 0.18756431341171265\n",
      "Took 0.824 minutes for epoch 4\n",
      "\n",
      "BEST VALIDATION mAP: 0.18756431341171265\n",
      "\n",
      "SAVING BEST MODEL FOR EPOCH: 5\n",
      "\n",
      "SAVING PLOTS COMPLETE...\n",
      "Adjusting learning rate of group 0 to 1.0000e-04.\n",
      "\n",
      "EPOCH 6 of 100\n",
      "Training\n"
     ]
    },
    {
     "data": {
      "application/vnd.jupyter.widget-view+json": {
       "model_id": "4a72028b0d234002978b2fbdd276da60",
       "version_major": 2,
       "version_minor": 0
      },
      "text/plain": [
       "  0%|          | 0/94 [00:00<?, ?it/s]"
      ]
     },
     "metadata": {},
     "output_type": "display_data"
    },
    {
     "name": "stdout",
     "output_type": "stream",
     "text": [
      "Validating\n"
     ]
    },
    {
     "data": {
      "application/vnd.jupyter.widget-view+json": {
       "model_id": "2bd953cacdc14c218b7b5fa7105d301d",
       "version_major": 2,
       "version_minor": 0
      },
      "text/plain": [
       "  0%|          | 0/14 [00:00<?, ?it/s]"
      ]
     },
     "metadata": {},
     "output_type": "display_data"
    },
    {
     "name": "stdout",
     "output_type": "stream",
     "text": [
      "Epoch #6 train loss: 3.531\n",
      "Epoch #6 mAP: 0.20833797752857208\n",
      "Took 0.811 minutes for epoch 5\n",
      "\n",
      "BEST VALIDATION mAP: 0.20833797752857208\n",
      "\n",
      "SAVING BEST MODEL FOR EPOCH: 6\n",
      "\n",
      "SAVING PLOTS COMPLETE...\n",
      "Adjusting learning rate of group 0 to 1.0000e-04.\n",
      "\n",
      "EPOCH 7 of 100\n",
      "Training\n"
     ]
    },
    {
     "data": {
      "application/vnd.jupyter.widget-view+json": {
       "model_id": "e20872d3161946bba0e129fc4dc0a04d",
       "version_major": 2,
       "version_minor": 0
      },
      "text/plain": [
       "  0%|          | 0/94 [00:00<?, ?it/s]"
      ]
     },
     "metadata": {},
     "output_type": "display_data"
    },
    {
     "name": "stdout",
     "output_type": "stream",
     "text": [
      "Validating\n"
     ]
    },
    {
     "data": {
      "application/vnd.jupyter.widget-view+json": {
       "model_id": "5c85e3d32afa489a89fbc13ef8349f7a",
       "version_major": 2,
       "version_minor": 0
      },
      "text/plain": [
       "  0%|          | 0/14 [00:00<?, ?it/s]"
      ]
     },
     "metadata": {},
     "output_type": "display_data"
    },
    {
     "name": "stdout",
     "output_type": "stream",
     "text": [
      "Epoch #7 train loss: 3.463\n",
      "Epoch #7 mAP: 0.2192489504814148\n",
      "Took 0.806 minutes for epoch 6\n",
      "\n",
      "BEST VALIDATION mAP: 0.2192489504814148\n",
      "\n",
      "SAVING BEST MODEL FOR EPOCH: 7\n",
      "\n",
      "SAVING PLOTS COMPLETE...\n",
      "Adjusting learning rate of group 0 to 1.0000e-04.\n",
      "\n",
      "EPOCH 8 of 100\n",
      "Training\n"
     ]
    },
    {
     "data": {
      "application/vnd.jupyter.widget-view+json": {
       "model_id": "20542f90c0c7496e8e058cbb1223903a",
       "version_major": 2,
       "version_minor": 0
      },
      "text/plain": [
       "  0%|          | 0/94 [00:00<?, ?it/s]"
      ]
     },
     "metadata": {},
     "output_type": "display_data"
    },
    {
     "name": "stdout",
     "output_type": "stream",
     "text": [
      "Validating\n"
     ]
    },
    {
     "data": {
      "application/vnd.jupyter.widget-view+json": {
       "model_id": "3d4b6c47268246838208e4e6321d3449",
       "version_major": 2,
       "version_minor": 0
      },
      "text/plain": [
       "  0%|          | 0/14 [00:00<?, ?it/s]"
      ]
     },
     "metadata": {},
     "output_type": "display_data"
    },
    {
     "name": "stdout",
     "output_type": "stream",
     "text": [
      "Epoch #8 train loss: 3.412\n",
      "Epoch #8 mAP: 0.22915536165237427\n",
      "Took 0.834 minutes for epoch 7\n",
      "\n",
      "BEST VALIDATION mAP: 0.22915536165237427\n",
      "\n",
      "SAVING BEST MODEL FOR EPOCH: 8\n",
      "\n",
      "SAVING PLOTS COMPLETE...\n",
      "Adjusting learning rate of group 0 to 1.0000e-04.\n",
      "\n",
      "EPOCH 9 of 100\n",
      "Training\n"
     ]
    },
    {
     "data": {
      "application/vnd.jupyter.widget-view+json": {
       "model_id": "9dc38905e2184c5b8b0a9d43844505ef",
       "version_major": 2,
       "version_minor": 0
      },
      "text/plain": [
       "  0%|          | 0/94 [00:00<?, ?it/s]"
      ]
     },
     "metadata": {},
     "output_type": "display_data"
    },
    {
     "name": "stdout",
     "output_type": "stream",
     "text": [
      "Validating\n"
     ]
    },
    {
     "data": {
      "application/vnd.jupyter.widget-view+json": {
       "model_id": "62ccae4a1fc1433f9ed4b855d04ed201",
       "version_major": 2,
       "version_minor": 0
      },
      "text/plain": [
       "  0%|          | 0/14 [00:00<?, ?it/s]"
      ]
     },
     "metadata": {},
     "output_type": "display_data"
    },
    {
     "name": "stdout",
     "output_type": "stream",
     "text": [
      "Epoch #9 train loss: 3.359\n",
      "Epoch #9 mAP: 0.23228442668914795\n",
      "Took 0.783 minutes for epoch 8\n",
      "\n",
      "BEST VALIDATION mAP: 0.23228442668914795\n",
      "\n",
      "SAVING BEST MODEL FOR EPOCH: 9\n",
      "\n",
      "SAVING PLOTS COMPLETE...\n",
      "Adjusting learning rate of group 0 to 1.0000e-04.\n",
      "\n",
      "EPOCH 10 of 100\n",
      "Training\n"
     ]
    },
    {
     "data": {
      "application/vnd.jupyter.widget-view+json": {
       "model_id": "522422b427464fa3a2d6bf10fa82b7e2",
       "version_major": 2,
       "version_minor": 0
      },
      "text/plain": [
       "  0%|          | 0/94 [00:00<?, ?it/s]"
      ]
     },
     "metadata": {},
     "output_type": "display_data"
    },
    {
     "name": "stdout",
     "output_type": "stream",
     "text": [
      "Validating\n"
     ]
    },
    {
     "data": {
      "application/vnd.jupyter.widget-view+json": {
       "model_id": "c3fc13d3154e48e3a407a945c0b108d7",
       "version_major": 2,
       "version_minor": 0
      },
      "text/plain": [
       "  0%|          | 0/14 [00:00<?, ?it/s]"
      ]
     },
     "metadata": {},
     "output_type": "display_data"
    },
    {
     "name": "stdout",
     "output_type": "stream",
     "text": [
      "Epoch #10 train loss: 3.322\n",
      "Epoch #10 mAP: 0.24335764348506927\n",
      "Took 0.807 minutes for epoch 9\n",
      "\n",
      "BEST VALIDATION mAP: 0.24335764348506927\n",
      "\n",
      "SAVING BEST MODEL FOR EPOCH: 10\n",
      "\n",
      "SAVING PLOTS COMPLETE...\n",
      "Adjusting learning rate of group 0 to 1.0000e-04.\n",
      "\n",
      "EPOCH 11 of 100\n",
      "Training\n"
     ]
    },
    {
     "data": {
      "application/vnd.jupyter.widget-view+json": {
       "model_id": "5efff0580c0046148522edfeeaf48619",
       "version_major": 2,
       "version_minor": 0
      },
      "text/plain": [
       "  0%|          | 0/94 [00:00<?, ?it/s]"
      ]
     },
     "metadata": {},
     "output_type": "display_data"
    },
    {
     "name": "stdout",
     "output_type": "stream",
     "text": [
      "Validating\n"
     ]
    },
    {
     "data": {
      "application/vnd.jupyter.widget-view+json": {
       "model_id": "2471f2e7b9794123a8b7f009c97f7a1e",
       "version_major": 2,
       "version_minor": 0
      },
      "text/plain": [
       "  0%|          | 0/14 [00:00<?, ?it/s]"
      ]
     },
     "metadata": {},
     "output_type": "display_data"
    },
    {
     "name": "stdout",
     "output_type": "stream",
     "text": [
      "Epoch #11 train loss: 3.264\n",
      "Epoch #11 mAP: 0.24488072097301483\n",
      "Took 0.810 minutes for epoch 10\n",
      "\n",
      "BEST VALIDATION mAP: 0.24488072097301483\n",
      "\n",
      "SAVING BEST MODEL FOR EPOCH: 11\n",
      "\n",
      "SAVING PLOTS COMPLETE...\n",
      "Adjusting learning rate of group 0 to 1.0000e-04.\n",
      "\n",
      "EPOCH 12 of 100\n",
      "Training\n"
     ]
    },
    {
     "data": {
      "application/vnd.jupyter.widget-view+json": {
       "model_id": "54846017d28244dd935abf3f4699d9d9",
       "version_major": 2,
       "version_minor": 0
      },
      "text/plain": [
       "  0%|          | 0/94 [00:00<?, ?it/s]"
      ]
     },
     "metadata": {},
     "output_type": "display_data"
    },
    {
     "name": "stdout",
     "output_type": "stream",
     "text": [
      "Validating\n"
     ]
    },
    {
     "data": {
      "application/vnd.jupyter.widget-view+json": {
       "model_id": "602c1699ad124f4e8faef6f67827bcad",
       "version_major": 2,
       "version_minor": 0
      },
      "text/plain": [
       "  0%|          | 0/14 [00:00<?, ?it/s]"
      ]
     },
     "metadata": {},
     "output_type": "display_data"
    },
    {
     "name": "stdout",
     "output_type": "stream",
     "text": [
      "Epoch #12 train loss: 3.220\n",
      "Epoch #12 mAP: 0.24967779219150543\n",
      "Took 0.821 minutes for epoch 11\n",
      "\n",
      "BEST VALIDATION mAP: 0.24967779219150543\n",
      "\n",
      "SAVING BEST MODEL FOR EPOCH: 12\n",
      "\n",
      "SAVING PLOTS COMPLETE...\n",
      "Adjusting learning rate of group 0 to 1.0000e-04.\n",
      "\n",
      "EPOCH 13 of 100\n",
      "Training\n"
     ]
    },
    {
     "data": {
      "application/vnd.jupyter.widget-view+json": {
       "model_id": "d3a2543105b948bdb6e8c94d41c54fae",
       "version_major": 2,
       "version_minor": 0
      },
      "text/plain": [
       "  0%|          | 0/94 [00:00<?, ?it/s]"
      ]
     },
     "metadata": {},
     "output_type": "display_data"
    },
    {
     "name": "stdout",
     "output_type": "stream",
     "text": [
      "Validating\n"
     ]
    },
    {
     "data": {
      "application/vnd.jupyter.widget-view+json": {
       "model_id": "7648fa26baaa4ebf899d51735ed023ce",
       "version_major": 2,
       "version_minor": 0
      },
      "text/plain": [
       "  0%|          | 0/14 [00:00<?, ?it/s]"
      ]
     },
     "metadata": {},
     "output_type": "display_data"
    },
    {
     "name": "stdout",
     "output_type": "stream",
     "text": [
      "Epoch #13 train loss: 3.179\n",
      "Epoch #13 mAP: 0.25477665662765503\n",
      "Took 0.808 minutes for epoch 12\n",
      "\n",
      "BEST VALIDATION mAP: 0.25477665662765503\n",
      "\n",
      "SAVING BEST MODEL FOR EPOCH: 13\n",
      "\n",
      "SAVING PLOTS COMPLETE...\n",
      "Adjusting learning rate of group 0 to 1.0000e-04.\n",
      "\n",
      "EPOCH 14 of 100\n",
      "Training\n"
     ]
    },
    {
     "data": {
      "application/vnd.jupyter.widget-view+json": {
       "model_id": "f9699b3de61c458e967e77c1a26a2e84",
       "version_major": 2,
       "version_minor": 0
      },
      "text/plain": [
       "  0%|          | 0/94 [00:00<?, ?it/s]"
      ]
     },
     "metadata": {},
     "output_type": "display_data"
    },
    {
     "name": "stdout",
     "output_type": "stream",
     "text": [
      "Validating\n"
     ]
    },
    {
     "data": {
      "application/vnd.jupyter.widget-view+json": {
       "model_id": "287959f9100a47e8b22e48ea3eb5f279",
       "version_major": 2,
       "version_minor": 0
      },
      "text/plain": [
       "  0%|          | 0/14 [00:00<?, ?it/s]"
      ]
     },
     "metadata": {},
     "output_type": "display_data"
    },
    {
     "name": "stdout",
     "output_type": "stream",
     "text": [
      "Epoch #14 train loss: 3.136\n",
      "Epoch #14 mAP: 0.2594020962715149\n",
      "Took 0.818 minutes for epoch 13\n",
      "\n",
      "BEST VALIDATION mAP: 0.2594020962715149\n",
      "\n",
      "SAVING BEST MODEL FOR EPOCH: 14\n",
      "\n",
      "SAVING PLOTS COMPLETE...\n",
      "Adjusting learning rate of group 0 to 1.0000e-04.\n",
      "\n",
      "EPOCH 15 of 100\n",
      "Training\n"
     ]
    },
    {
     "data": {
      "application/vnd.jupyter.widget-view+json": {
       "model_id": "29928f8942b64e0584b8ad22b7ab5c59",
       "version_major": 2,
       "version_minor": 0
      },
      "text/plain": [
       "  0%|          | 0/94 [00:00<?, ?it/s]"
      ]
     },
     "metadata": {},
     "output_type": "display_data"
    },
    {
     "name": "stdout",
     "output_type": "stream",
     "text": [
      "Validating\n"
     ]
    },
    {
     "data": {
      "application/vnd.jupyter.widget-view+json": {
       "model_id": "916ab791b1344082a620f819b39ac255",
       "version_major": 2,
       "version_minor": 0
      },
      "text/plain": [
       "  0%|          | 0/14 [00:00<?, ?it/s]"
      ]
     },
     "metadata": {},
     "output_type": "display_data"
    },
    {
     "name": "stdout",
     "output_type": "stream",
     "text": [
      "Epoch #15 train loss: 3.104\n",
      "Epoch #15 mAP: 0.2659323215484619\n",
      "Took 0.797 minutes for epoch 14\n",
      "\n",
      "BEST VALIDATION mAP: 0.2659323215484619\n",
      "\n",
      "SAVING BEST MODEL FOR EPOCH: 15\n",
      "\n",
      "SAVING PLOTS COMPLETE...\n",
      "Adjusting learning rate of group 0 to 1.0000e-05.\n",
      "\n",
      "EPOCH 16 of 100\n",
      "Training\n"
     ]
    },
    {
     "data": {
      "application/vnd.jupyter.widget-view+json": {
       "model_id": "f01e61728ec34c108004e3fe84d392a6",
       "version_major": 2,
       "version_minor": 0
      },
      "text/plain": [
       "  0%|          | 0/94 [00:00<?, ?it/s]"
      ]
     },
     "metadata": {},
     "output_type": "display_data"
    },
    {
     "name": "stdout",
     "output_type": "stream",
     "text": [
      "Validating\n"
     ]
    },
    {
     "data": {
      "application/vnd.jupyter.widget-view+json": {
       "model_id": "93a8cf5cc9c84746857c121f03ce8ab2",
       "version_major": 2,
       "version_minor": 0
      },
      "text/plain": [
       "  0%|          | 0/14 [00:00<?, ?it/s]"
      ]
     },
     "metadata": {},
     "output_type": "display_data"
    },
    {
     "name": "stdout",
     "output_type": "stream",
     "text": [
      "Epoch #16 train loss: 3.063\n",
      "Epoch #16 mAP: 0.262830913066864\n",
      "Took 0.789 minutes for epoch 15\n",
      "SAVING PLOTS COMPLETE...\n",
      "Adjusting learning rate of group 0 to 1.0000e-05.\n",
      "\n",
      "EPOCH 17 of 100\n",
      "Training\n"
     ]
    },
    {
     "data": {
      "application/vnd.jupyter.widget-view+json": {
       "model_id": "b5230813ad7f4101b7932b1d77b1b14e",
       "version_major": 2,
       "version_minor": 0
      },
      "text/plain": [
       "  0%|          | 0/94 [00:00<?, ?it/s]"
      ]
     },
     "metadata": {},
     "output_type": "display_data"
    },
    {
     "name": "stdout",
     "output_type": "stream",
     "text": [
      "Validating\n"
     ]
    },
    {
     "data": {
      "application/vnd.jupyter.widget-view+json": {
       "model_id": "d05a5d93efac4ee7a36fe418d5acc8d5",
       "version_major": 2,
       "version_minor": 0
      },
      "text/plain": [
       "  0%|          | 0/14 [00:00<?, ?it/s]"
      ]
     },
     "metadata": {},
     "output_type": "display_data"
    },
    {
     "name": "stdout",
     "output_type": "stream",
     "text": [
      "Epoch #17 train loss: 3.073\n",
      "Epoch #17 mAP: 0.26334813237190247\n",
      "Took 0.803 minutes for epoch 16\n",
      "SAVING PLOTS COMPLETE...\n",
      "Adjusting learning rate of group 0 to 1.0000e-05.\n",
      "\n",
      "EPOCH 18 of 100\n",
      "Training\n"
     ]
    },
    {
     "data": {
      "application/vnd.jupyter.widget-view+json": {
       "model_id": "2244a84946834b2dbb856da1b0c5f8aa",
       "version_major": 2,
       "version_minor": 0
      },
      "text/plain": [
       "  0%|          | 0/94 [00:00<?, ?it/s]"
      ]
     },
     "metadata": {},
     "output_type": "display_data"
    },
    {
     "name": "stdout",
     "output_type": "stream",
     "text": [
      "Validating\n"
     ]
    },
    {
     "data": {
      "application/vnd.jupyter.widget-view+json": {
       "model_id": "f8744a0f2c98434eab3585d54f0ad7a3",
       "version_major": 2,
       "version_minor": 0
      },
      "text/plain": [
       "  0%|          | 0/14 [00:00<?, ?it/s]"
      ]
     },
     "metadata": {},
     "output_type": "display_data"
    },
    {
     "name": "stdout",
     "output_type": "stream",
     "text": [
      "Epoch #18 train loss: 3.057\n",
      "Epoch #18 mAP: 0.26300138235092163\n",
      "Took 0.798 minutes for epoch 17\n",
      "SAVING PLOTS COMPLETE...\n",
      "Adjusting learning rate of group 0 to 1.0000e-05.\n",
      "\n",
      "EPOCH 19 of 100\n",
      "Training\n"
     ]
    },
    {
     "data": {
      "application/vnd.jupyter.widget-view+json": {
       "model_id": "c384b6383170417f991a813facf95d1f",
       "version_major": 2,
       "version_minor": 0
      },
      "text/plain": [
       "  0%|          | 0/94 [00:00<?, ?it/s]"
      ]
     },
     "metadata": {},
     "output_type": "display_data"
    },
    {
     "name": "stdout",
     "output_type": "stream",
     "text": [
      "Validating\n"
     ]
    },
    {
     "data": {
      "application/vnd.jupyter.widget-view+json": {
       "model_id": "d16fd7ff9bf24fae94c76b77cbb4e4be",
       "version_major": 2,
       "version_minor": 0
      },
      "text/plain": [
       "  0%|          | 0/14 [00:00<?, ?it/s]"
      ]
     },
     "metadata": {},
     "output_type": "display_data"
    },
    {
     "name": "stdout",
     "output_type": "stream",
     "text": [
      "Epoch #19 train loss: 3.058\n",
      "Epoch #19 mAP: 0.2632383406162262\n",
      "Took 0.801 minutes for epoch 18\n",
      "SAVING PLOTS COMPLETE...\n",
      "Adjusting learning rate of group 0 to 1.0000e-05.\n",
      "\n",
      "EPOCH 20 of 100\n",
      "Training\n"
     ]
    },
    {
     "data": {
      "application/vnd.jupyter.widget-view+json": {
       "model_id": "0f5845d4aef440baaf4384f3b1d741ae",
       "version_major": 2,
       "version_minor": 0
      },
      "text/plain": [
       "  0%|          | 0/94 [00:00<?, ?it/s]"
      ]
     },
     "metadata": {},
     "output_type": "display_data"
    },
    {
     "name": "stdout",
     "output_type": "stream",
     "text": [
      "Validating\n"
     ]
    },
    {
     "data": {
      "application/vnd.jupyter.widget-view+json": {
       "model_id": "36fb70c517eb484db80c63f89711ebec",
       "version_major": 2,
       "version_minor": 0
      },
      "text/plain": [
       "  0%|          | 0/14 [00:00<?, ?it/s]"
      ]
     },
     "metadata": {},
     "output_type": "display_data"
    },
    {
     "name": "stdout",
     "output_type": "stream",
     "text": [
      "Epoch #20 train loss: 3.058\n",
      "Epoch #20 mAP: 0.2628127336502075\n",
      "Took 0.824 minutes for epoch 19\n",
      "SAVING PLOTS COMPLETE...\n",
      "Adjusting learning rate of group 0 to 1.0000e-05.\n",
      "\n",
      "EPOCH 21 of 100\n",
      "Training\n"
     ]
    },
    {
     "data": {
      "application/vnd.jupyter.widget-view+json": {
       "model_id": "9b7a80e225e5443f86a45825a046e88b",
       "version_major": 2,
       "version_minor": 0
      },
      "text/plain": [
       "  0%|          | 0/94 [00:00<?, ?it/s]"
      ]
     },
     "metadata": {},
     "output_type": "display_data"
    },
    {
     "name": "stdout",
     "output_type": "stream",
     "text": [
      "Validating\n"
     ]
    },
    {
     "data": {
      "application/vnd.jupyter.widget-view+json": {
       "model_id": "fa027613af394c259088b2a7655503a7",
       "version_major": 2,
       "version_minor": 0
      },
      "text/plain": [
       "  0%|          | 0/14 [00:00<?, ?it/s]"
      ]
     },
     "metadata": {},
     "output_type": "display_data"
    },
    {
     "name": "stdout",
     "output_type": "stream",
     "text": [
      "Epoch #21 train loss: 3.049\n",
      "Epoch #21 mAP: 0.2647073566913605\n",
      "Took 0.795 minutes for epoch 20\n",
      "SAVING PLOTS COMPLETE...\n",
      "Adjusting learning rate of group 0 to 1.0000e-05.\n",
      "\n",
      "EPOCH 22 of 100\n",
      "Training\n"
     ]
    },
    {
     "data": {
      "application/vnd.jupyter.widget-view+json": {
       "model_id": "16c5baf574794baba07406d7608845a8",
       "version_major": 2,
       "version_minor": 0
      },
      "text/plain": [
       "  0%|          | 0/94 [00:00<?, ?it/s]"
      ]
     },
     "metadata": {},
     "output_type": "display_data"
    },
    {
     "name": "stdout",
     "output_type": "stream",
     "text": [
      "Validating\n"
     ]
    },
    {
     "data": {
      "application/vnd.jupyter.widget-view+json": {
       "model_id": "96a0e5375bf14bec808f2ddcd9f796e3",
       "version_major": 2,
       "version_minor": 0
      },
      "text/plain": [
       "  0%|          | 0/14 [00:00<?, ?it/s]"
      ]
     },
     "metadata": {},
     "output_type": "display_data"
    },
    {
     "name": "stdout",
     "output_type": "stream",
     "text": [
      "Epoch #22 train loss: 3.041\n",
      "Epoch #22 mAP: 0.2639809250831604\n",
      "Took 0.806 minutes for epoch 21\n",
      "SAVING PLOTS COMPLETE...\n",
      "Adjusting learning rate of group 0 to 1.0000e-05.\n",
      "\n",
      "EPOCH 23 of 100\n",
      "Training\n"
     ]
    },
    {
     "data": {
      "application/vnd.jupyter.widget-view+json": {
       "model_id": "3344512e6b9b455c915be735b525e7b6",
       "version_major": 2,
       "version_minor": 0
      },
      "text/plain": [
       "  0%|          | 0/94 [00:00<?, ?it/s]"
      ]
     },
     "metadata": {},
     "output_type": "display_data"
    },
    {
     "name": "stdout",
     "output_type": "stream",
     "text": [
      "Validating\n"
     ]
    },
    {
     "data": {
      "application/vnd.jupyter.widget-view+json": {
       "model_id": "9d468f659efe4608bcd5cee926ad4b90",
       "version_major": 2,
       "version_minor": 0
      },
      "text/plain": [
       "  0%|          | 0/14 [00:00<?, ?it/s]"
      ]
     },
     "metadata": {},
     "output_type": "display_data"
    },
    {
     "name": "stdout",
     "output_type": "stream",
     "text": [
      "Epoch #23 train loss: 3.036\n",
      "Epoch #23 mAP: 0.2655472755432129\n",
      "Took 0.805 minutes for epoch 22\n",
      "SAVING PLOTS COMPLETE...\n",
      "Adjusting learning rate of group 0 to 1.0000e-05.\n",
      "\n",
      "EPOCH 24 of 100\n",
      "Training\n"
     ]
    },
    {
     "data": {
      "application/vnd.jupyter.widget-view+json": {
       "model_id": "6cd277a1f32c4ac1b518f2951bf55102",
       "version_major": 2,
       "version_minor": 0
      },
      "text/plain": [
       "  0%|          | 0/94 [00:00<?, ?it/s]"
      ]
     },
     "metadata": {},
     "output_type": "display_data"
    },
    {
     "name": "stdout",
     "output_type": "stream",
     "text": [
      "Validating\n"
     ]
    },
    {
     "data": {
      "application/vnd.jupyter.widget-view+json": {
       "model_id": "0f6774a52ef0451f91adefd17574f4be",
       "version_major": 2,
       "version_minor": 0
      },
      "text/plain": [
       "  0%|          | 0/14 [00:00<?, ?it/s]"
      ]
     },
     "metadata": {},
     "output_type": "display_data"
    },
    {
     "name": "stdout",
     "output_type": "stream",
     "text": [
      "Epoch #24 train loss: 3.030\n",
      "Epoch #24 mAP: 0.2646346390247345\n",
      "Took 0.815 minutes for epoch 23\n",
      "SAVING PLOTS COMPLETE...\n",
      "Adjusting learning rate of group 0 to 1.0000e-05.\n",
      "\n",
      "EPOCH 25 of 100\n",
      "Training\n"
     ]
    },
    {
     "data": {
      "application/vnd.jupyter.widget-view+json": {
       "model_id": "121eb83f64474049a7d48327c542d40e",
       "version_major": 2,
       "version_minor": 0
      },
      "text/plain": [
       "  0%|          | 0/94 [00:00<?, ?it/s]"
      ]
     },
     "metadata": {},
     "output_type": "display_data"
    },
    {
     "name": "stdout",
     "output_type": "stream",
     "text": [
      "Validating\n"
     ]
    },
    {
     "data": {
      "application/vnd.jupyter.widget-view+json": {
       "model_id": "bfbb1417daa54ff4a821796c384e0e44",
       "version_major": 2,
       "version_minor": 0
      },
      "text/plain": [
       "  0%|          | 0/14 [00:00<?, ?it/s]"
      ]
     },
     "metadata": {},
     "output_type": "display_data"
    },
    {
     "name": "stdout",
     "output_type": "stream",
     "text": [
      "Epoch #25 train loss: 3.040\n",
      "Epoch #25 mAP: 0.2666299641132355\n",
      "Took 0.810 minutes for epoch 24\n",
      "\n",
      "BEST VALIDATION mAP: 0.2666299641132355\n",
      "\n",
      "SAVING BEST MODEL FOR EPOCH: 25\n",
      "\n",
      "SAVING PLOTS COMPLETE...\n",
      "Adjusting learning rate of group 0 to 1.0000e-05.\n",
      "\n",
      "EPOCH 26 of 100\n",
      "Training\n"
     ]
    },
    {
     "data": {
      "application/vnd.jupyter.widget-view+json": {
       "model_id": "7ae592215dec4ffa9e6ce9bab0f430ee",
       "version_major": 2,
       "version_minor": 0
      },
      "text/plain": [
       "  0%|          | 0/94 [00:00<?, ?it/s]"
      ]
     },
     "metadata": {},
     "output_type": "display_data"
    },
    {
     "name": "stdout",
     "output_type": "stream",
     "text": [
      "Validating\n"
     ]
    },
    {
     "data": {
      "application/vnd.jupyter.widget-view+json": {
       "model_id": "fb63a43abe37449d919cbe93043950d1",
       "version_major": 2,
       "version_minor": 0
      },
      "text/plain": [
       "  0%|          | 0/14 [00:00<?, ?it/s]"
      ]
     },
     "metadata": {},
     "output_type": "display_data"
    },
    {
     "name": "stdout",
     "output_type": "stream",
     "text": [
      "Epoch #26 train loss: 3.034\n",
      "Epoch #26 mAP: 0.2656112015247345\n",
      "Took 0.836 minutes for epoch 25\n",
      "SAVING PLOTS COMPLETE...\n",
      "Adjusting learning rate of group 0 to 1.0000e-05.\n",
      "\n",
      "EPOCH 27 of 100\n",
      "Training\n"
     ]
    },
    {
     "data": {
      "application/vnd.jupyter.widget-view+json": {
       "model_id": "e47638f82adf4c418a4340300ddf9461",
       "version_major": 2,
       "version_minor": 0
      },
      "text/plain": [
       "  0%|          | 0/94 [00:00<?, ?it/s]"
      ]
     },
     "metadata": {},
     "output_type": "display_data"
    },
    {
     "name": "stdout",
     "output_type": "stream",
     "text": [
      "Validating\n"
     ]
    },
    {
     "data": {
      "application/vnd.jupyter.widget-view+json": {
       "model_id": "57fcae80deee42989da21edfa47851db",
       "version_major": 2,
       "version_minor": 0
      },
      "text/plain": [
       "  0%|          | 0/14 [00:00<?, ?it/s]"
      ]
     },
     "metadata": {},
     "output_type": "display_data"
    },
    {
     "name": "stdout",
     "output_type": "stream",
     "text": [
      "Epoch #27 train loss: 3.017\n",
      "Epoch #27 mAP: 0.2669174373149872\n",
      "Took 0.815 minutes for epoch 26\n",
      "\n",
      "BEST VALIDATION mAP: 0.2669174373149872\n",
      "\n",
      "SAVING BEST MODEL FOR EPOCH: 27\n",
      "\n",
      "SAVING PLOTS COMPLETE...\n",
      "Adjusting learning rate of group 0 to 1.0000e-05.\n",
      "\n",
      "EPOCH 28 of 100\n",
      "Training\n"
     ]
    },
    {
     "data": {
      "application/vnd.jupyter.widget-view+json": {
       "model_id": "a67506103cef4af6a13e0419427bb10f",
       "version_major": 2,
       "version_minor": 0
      },
      "text/plain": [
       "  0%|          | 0/94 [00:00<?, ?it/s]"
      ]
     },
     "metadata": {},
     "output_type": "display_data"
    },
    {
     "name": "stdout",
     "output_type": "stream",
     "text": [
      "Validating\n"
     ]
    },
    {
     "data": {
      "application/vnd.jupyter.widget-view+json": {
       "model_id": "d93f2e5203cd492dacdebbee4bdfbb8c",
       "version_major": 2,
       "version_minor": 0
      },
      "text/plain": [
       "  0%|          | 0/14 [00:00<?, ?it/s]"
      ]
     },
     "metadata": {},
     "output_type": "display_data"
    },
    {
     "name": "stdout",
     "output_type": "stream",
     "text": [
      "Epoch #28 train loss: 3.030\n",
      "Epoch #28 mAP: 0.26502883434295654\n",
      "Took 0.814 minutes for epoch 27\n",
      "SAVING PLOTS COMPLETE...\n",
      "Adjusting learning rate of group 0 to 1.0000e-05.\n",
      "\n",
      "EPOCH 29 of 100\n",
      "Training\n"
     ]
    },
    {
     "data": {
      "application/vnd.jupyter.widget-view+json": {
       "model_id": "f7249d01f984438aae512e3a905d8ddc",
       "version_major": 2,
       "version_minor": 0
      },
      "text/plain": [
       "  0%|          | 0/94 [00:00<?, ?it/s]"
      ]
     },
     "metadata": {},
     "output_type": "display_data"
    },
    {
     "name": "stdout",
     "output_type": "stream",
     "text": [
      "Validating\n"
     ]
    },
    {
     "data": {
      "application/vnd.jupyter.widget-view+json": {
       "model_id": "655a750734d54e73956a1878c4abc1d3",
       "version_major": 2,
       "version_minor": 0
      },
      "text/plain": [
       "  0%|          | 0/14 [00:00<?, ?it/s]"
      ]
     },
     "metadata": {},
     "output_type": "display_data"
    },
    {
     "name": "stdout",
     "output_type": "stream",
     "text": [
      "Epoch #29 train loss: 3.026\n",
      "Epoch #29 mAP: 0.2670244872570038\n",
      "Took 0.856 minutes for epoch 28\n",
      "\n",
      "BEST VALIDATION mAP: 0.2670244872570038\n",
      "\n",
      "SAVING BEST MODEL FOR EPOCH: 29\n",
      "\n",
      "SAVING PLOTS COMPLETE...\n",
      "Adjusting learning rate of group 0 to 1.0000e-05.\n",
      "\n",
      "EPOCH 30 of 100\n",
      "Training\n"
     ]
    },
    {
     "data": {
      "application/vnd.jupyter.widget-view+json": {
       "model_id": "d29238515a9149e1b2fe85cfda2d837a",
       "version_major": 2,
       "version_minor": 0
      },
      "text/plain": [
       "  0%|          | 0/94 [00:00<?, ?it/s]"
      ]
     },
     "metadata": {},
     "output_type": "display_data"
    },
    {
     "name": "stdout",
     "output_type": "stream",
     "text": [
      "Validating\n"
     ]
    },
    {
     "data": {
      "application/vnd.jupyter.widget-view+json": {
       "model_id": "bc87b805a03a45c588220bc83d93b4b3",
       "version_major": 2,
       "version_minor": 0
      },
      "text/plain": [
       "  0%|          | 0/14 [00:00<?, ?it/s]"
      ]
     },
     "metadata": {},
     "output_type": "display_data"
    },
    {
     "name": "stdout",
     "output_type": "stream",
     "text": [
      "Epoch #30 train loss: 3.014\n",
      "Epoch #30 mAP: 0.26789408922195435\n",
      "Took 0.813 minutes for epoch 29\n",
      "\n",
      "BEST VALIDATION mAP: 0.26789408922195435\n",
      "\n",
      "SAVING BEST MODEL FOR EPOCH: 30\n",
      "\n",
      "SAVING PLOTS COMPLETE...\n",
      "Adjusting learning rate of group 0 to 1.0000e-06.\n",
      "\n",
      "EPOCH 31 of 100\n",
      "Training\n"
     ]
    },
    {
     "data": {
      "application/vnd.jupyter.widget-view+json": {
       "model_id": "0b7f12019805476cad595e881c01f59b",
       "version_major": 2,
       "version_minor": 0
      },
      "text/plain": [
       "  0%|          | 0/94 [00:00<?, ?it/s]"
      ]
     },
     "metadata": {},
     "output_type": "display_data"
    },
    {
     "name": "stdout",
     "output_type": "stream",
     "text": [
      "Validating\n"
     ]
    },
    {
     "data": {
      "application/vnd.jupyter.widget-view+json": {
       "model_id": "3f39dda7363e4fd8aabad473b447432b",
       "version_major": 2,
       "version_minor": 0
      },
      "text/plain": [
       "  0%|          | 0/14 [00:00<?, ?it/s]"
      ]
     },
     "metadata": {},
     "output_type": "display_data"
    },
    {
     "name": "stdout",
     "output_type": "stream",
     "text": [
      "Epoch #31 train loss: 3.018\n",
      "Epoch #31 mAP: 0.2672414183616638\n",
      "Took 0.824 minutes for epoch 30\n",
      "SAVING PLOTS COMPLETE...\n",
      "Adjusting learning rate of group 0 to 1.0000e-06.\n",
      "\n",
      "EPOCH 32 of 100\n",
      "Training\n"
     ]
    },
    {
     "data": {
      "application/vnd.jupyter.widget-view+json": {
       "model_id": "d7bc96159e554cf19d4fb480280333a9",
       "version_major": 2,
       "version_minor": 0
      },
      "text/plain": [
       "  0%|          | 0/94 [00:00<?, ?it/s]"
      ]
     },
     "metadata": {},
     "output_type": "display_data"
    },
    {
     "name": "stdout",
     "output_type": "stream",
     "text": [
      "Validating\n"
     ]
    },
    {
     "data": {
      "application/vnd.jupyter.widget-view+json": {
       "model_id": "536d72d10d6e4ffa8a28818efa9eace1",
       "version_major": 2,
       "version_minor": 0
      },
      "text/plain": [
       "  0%|          | 0/14 [00:00<?, ?it/s]"
      ]
     },
     "metadata": {},
     "output_type": "display_data"
    },
    {
     "name": "stdout",
     "output_type": "stream",
     "text": [
      "Epoch #32 train loss: 3.014\n",
      "Epoch #32 mAP: 0.26779478788375854\n",
      "Took 0.843 minutes for epoch 31\n",
      "SAVING PLOTS COMPLETE...\n",
      "Adjusting learning rate of group 0 to 1.0000e-06.\n",
      "\n",
      "EPOCH 33 of 100\n",
      "Training\n"
     ]
    },
    {
     "data": {
      "application/vnd.jupyter.widget-view+json": {
       "model_id": "36ecca17682845519dbabed00c9e8669",
       "version_major": 2,
       "version_minor": 0
      },
      "text/plain": [
       "  0%|          | 0/94 [00:00<?, ?it/s]"
      ]
     },
     "metadata": {},
     "output_type": "display_data"
    },
    {
     "name": "stdout",
     "output_type": "stream",
     "text": [
      "Validating\n"
     ]
    },
    {
     "data": {
      "application/vnd.jupyter.widget-view+json": {
       "model_id": "d7690060f9544b13b8175a317f263cc8",
       "version_major": 2,
       "version_minor": 0
      },
      "text/plain": [
       "  0%|          | 0/14 [00:00<?, ?it/s]"
      ]
     },
     "metadata": {},
     "output_type": "display_data"
    },
    {
     "name": "stdout",
     "output_type": "stream",
     "text": [
      "Epoch #33 train loss: 3.012\n",
      "Epoch #33 mAP: 0.2676714062690735\n",
      "Took 0.909 minutes for epoch 32\n",
      "SAVING PLOTS COMPLETE...\n",
      "Adjusting learning rate of group 0 to 1.0000e-06.\n",
      "\n",
      "EPOCH 34 of 100\n",
      "Training\n"
     ]
    },
    {
     "data": {
      "application/vnd.jupyter.widget-view+json": {
       "model_id": "081ab9a1200e4adb86ef81993df5acfe",
       "version_major": 2,
       "version_minor": 0
      },
      "text/plain": [
       "  0%|          | 0/94 [00:00<?, ?it/s]"
      ]
     },
     "metadata": {},
     "output_type": "display_data"
    },
    {
     "name": "stdout",
     "output_type": "stream",
     "text": [
      "Validating\n"
     ]
    },
    {
     "data": {
      "application/vnd.jupyter.widget-view+json": {
       "model_id": "83663acc341b48a8986bce2e64de567b",
       "version_major": 2,
       "version_minor": 0
      },
      "text/plain": [
       "  0%|          | 0/14 [00:00<?, ?it/s]"
      ]
     },
     "metadata": {},
     "output_type": "display_data"
    },
    {
     "name": "stdout",
     "output_type": "stream",
     "text": [
      "Epoch #34 train loss: 3.017\n",
      "Epoch #34 mAP: 0.26808544993400574\n",
      "Took 0.909 minutes for epoch 33\n",
      "\n",
      "BEST VALIDATION mAP: 0.26808544993400574\n",
      "\n",
      "SAVING BEST MODEL FOR EPOCH: 34\n",
      "\n",
      "SAVING PLOTS COMPLETE...\n",
      "Adjusting learning rate of group 0 to 1.0000e-06.\n",
      "\n",
      "EPOCH 35 of 100\n",
      "Training\n"
     ]
    },
    {
     "data": {
      "application/vnd.jupyter.widget-view+json": {
       "model_id": "6a3786ba77724b83b585120f73cc6392",
       "version_major": 2,
       "version_minor": 0
      },
      "text/plain": [
       "  0%|          | 0/94 [00:00<?, ?it/s]"
      ]
     },
     "metadata": {},
     "output_type": "display_data"
    },
    {
     "name": "stdout",
     "output_type": "stream",
     "text": [
      "Validating\n"
     ]
    },
    {
     "data": {
      "application/vnd.jupyter.widget-view+json": {
       "model_id": "d615525744f94412a66b746cc39a15d8",
       "version_major": 2,
       "version_minor": 0
      },
      "text/plain": [
       "  0%|          | 0/14 [00:00<?, ?it/s]"
      ]
     },
     "metadata": {},
     "output_type": "display_data"
    },
    {
     "name": "stdout",
     "output_type": "stream",
     "text": [
      "Epoch #35 train loss: 3.005\n",
      "Epoch #35 mAP: 0.2677479684352875\n",
      "Took 0.897 minutes for epoch 34\n",
      "SAVING PLOTS COMPLETE...\n",
      "Adjusting learning rate of group 0 to 1.0000e-06.\n",
      "\n",
      "EPOCH 36 of 100\n",
      "Training\n"
     ]
    },
    {
     "data": {
      "application/vnd.jupyter.widget-view+json": {
       "model_id": "9e2aa4c8b1934d24b8ff56d446e92b56",
       "version_major": 2,
       "version_minor": 0
      },
      "text/plain": [
       "  0%|          | 0/94 [00:00<?, ?it/s]"
      ]
     },
     "metadata": {},
     "output_type": "display_data"
    },
    {
     "name": "stdout",
     "output_type": "stream",
     "text": [
      "Validating\n"
     ]
    },
    {
     "data": {
      "application/vnd.jupyter.widget-view+json": {
       "model_id": "40dffb778a4044eaa7aa39f68423f490",
       "version_major": 2,
       "version_minor": 0
      },
      "text/plain": [
       "  0%|          | 0/14 [00:00<?, ?it/s]"
      ]
     },
     "metadata": {},
     "output_type": "display_data"
    },
    {
     "name": "stdout",
     "output_type": "stream",
     "text": [
      "Epoch #36 train loss: 3.008\n",
      "Epoch #36 mAP: 0.2680380940437317\n",
      "Took 0.897 minutes for epoch 35\n",
      "SAVING PLOTS COMPLETE...\n",
      "Adjusting learning rate of group 0 to 1.0000e-06.\n",
      "\n",
      "EPOCH 37 of 100\n",
      "Training\n"
     ]
    },
    {
     "data": {
      "application/vnd.jupyter.widget-view+json": {
       "model_id": "850afd09fb5941a1808a9d5850138560",
       "version_major": 2,
       "version_minor": 0
      },
      "text/plain": [
       "  0%|          | 0/94 [00:00<?, ?it/s]"
      ]
     },
     "metadata": {},
     "output_type": "display_data"
    },
    {
     "name": "stdout",
     "output_type": "stream",
     "text": [
      "Validating\n"
     ]
    },
    {
     "data": {
      "application/vnd.jupyter.widget-view+json": {
       "model_id": "aff517fc330a4540b2a35ad1c1537de1",
       "version_major": 2,
       "version_minor": 0
      },
      "text/plain": [
       "  0%|          | 0/14 [00:00<?, ?it/s]"
      ]
     },
     "metadata": {},
     "output_type": "display_data"
    },
    {
     "name": "stdout",
     "output_type": "stream",
     "text": [
      "Epoch #37 train loss: 3.015\n",
      "Epoch #37 mAP: 0.26814815402030945\n",
      "Took 0.885 minutes for epoch 36\n",
      "\n",
      "BEST VALIDATION mAP: 0.26814815402030945\n",
      "\n",
      "SAVING BEST MODEL FOR EPOCH: 37\n",
      "\n",
      "SAVING PLOTS COMPLETE...\n",
      "Adjusting learning rate of group 0 to 1.0000e-06.\n",
      "\n",
      "EPOCH 38 of 100\n",
      "Training\n"
     ]
    },
    {
     "data": {
      "application/vnd.jupyter.widget-view+json": {
       "model_id": "47d40930c1d2407080eff0360bc18c22",
       "version_major": 2,
       "version_minor": 0
      },
      "text/plain": [
       "  0%|          | 0/94 [00:00<?, ?it/s]"
      ]
     },
     "metadata": {},
     "output_type": "display_data"
    },
    {
     "name": "stdout",
     "output_type": "stream",
     "text": [
      "Validating\n"
     ]
    },
    {
     "data": {
      "application/vnd.jupyter.widget-view+json": {
       "model_id": "c6168f64248340098d71ff153aca20fd",
       "version_major": 2,
       "version_minor": 0
      },
      "text/plain": [
       "  0%|          | 0/14 [00:00<?, ?it/s]"
      ]
     },
     "metadata": {},
     "output_type": "display_data"
    },
    {
     "name": "stdout",
     "output_type": "stream",
     "text": [
      "Epoch #38 train loss: 3.009\n",
      "Epoch #38 mAP: 0.2681480348110199\n",
      "Took 0.895 minutes for epoch 37\n",
      "SAVING PLOTS COMPLETE...\n",
      "Adjusting learning rate of group 0 to 1.0000e-06.\n",
      "\n",
      "EPOCH 39 of 100\n",
      "Training\n"
     ]
    },
    {
     "data": {
      "application/vnd.jupyter.widget-view+json": {
       "model_id": "95077e77b0d847178b279c7b91eaba90",
       "version_major": 2,
       "version_minor": 0
      },
      "text/plain": [
       "  0%|          | 0/94 [00:00<?, ?it/s]"
      ]
     },
     "metadata": {},
     "output_type": "display_data"
    },
    {
     "name": "stdout",
     "output_type": "stream",
     "text": [
      "Validating\n"
     ]
    },
    {
     "data": {
      "application/vnd.jupyter.widget-view+json": {
       "model_id": "2136fb449d1e4f98a826a0210ac827c1",
       "version_major": 2,
       "version_minor": 0
      },
      "text/plain": [
       "  0%|          | 0/14 [00:00<?, ?it/s]"
      ]
     },
     "metadata": {},
     "output_type": "display_data"
    },
    {
     "name": "stdout",
     "output_type": "stream",
     "text": [
      "Epoch #39 train loss: 3.008\n",
      "Epoch #39 mAP: 0.2679618000984192\n",
      "Took 0.899 minutes for epoch 38\n",
      "SAVING PLOTS COMPLETE...\n",
      "Adjusting learning rate of group 0 to 1.0000e-06.\n",
      "\n",
      "EPOCH 40 of 100\n",
      "Training\n"
     ]
    },
    {
     "data": {
      "application/vnd.jupyter.widget-view+json": {
       "model_id": "9f80dc4144664a48b0c161c13174ad0c",
       "version_major": 2,
       "version_minor": 0
      },
      "text/plain": [
       "  0%|          | 0/94 [00:00<?, ?it/s]"
      ]
     },
     "metadata": {},
     "output_type": "display_data"
    },
    {
     "name": "stdout",
     "output_type": "stream",
     "text": [
      "Validating\n"
     ]
    },
    {
     "data": {
      "application/vnd.jupyter.widget-view+json": {
       "model_id": "fd42b8e7acd0462ab5b4f86d6612b8dc",
       "version_major": 2,
       "version_minor": 0
      },
      "text/plain": [
       "  0%|          | 0/14 [00:00<?, ?it/s]"
      ]
     },
     "metadata": {},
     "output_type": "display_data"
    },
    {
     "name": "stdout",
     "output_type": "stream",
     "text": [
      "Epoch #40 train loss: 3.003\n",
      "Epoch #40 mAP: 0.2680222690105438\n",
      "Took 0.897 minutes for epoch 39\n",
      "SAVING PLOTS COMPLETE...\n",
      "Adjusting learning rate of group 0 to 1.0000e-06.\n",
      "\n",
      "EPOCH 41 of 100\n",
      "Training\n"
     ]
    },
    {
     "data": {
      "application/vnd.jupyter.widget-view+json": {
       "model_id": "0a20bcfb0e7747b5b61f9b2e3b76f469",
       "version_major": 2,
       "version_minor": 0
      },
      "text/plain": [
       "  0%|          | 0/94 [00:00<?, ?it/s]"
      ]
     },
     "metadata": {},
     "output_type": "display_data"
    },
    {
     "name": "stdout",
     "output_type": "stream",
     "text": [
      "Validating\n"
     ]
    },
    {
     "data": {
      "application/vnd.jupyter.widget-view+json": {
       "model_id": "cdd8d674760d41639d294f8296c3589c",
       "version_major": 2,
       "version_minor": 0
      },
      "text/plain": [
       "  0%|          | 0/14 [00:00<?, ?it/s]"
      ]
     },
     "metadata": {},
     "output_type": "display_data"
    },
    {
     "name": "stdout",
     "output_type": "stream",
     "text": [
      "Epoch #41 train loss: 3.009\n",
      "Epoch #41 mAP: 0.2683304250240326\n",
      "Took 0.893 minutes for epoch 40\n",
      "\n",
      "BEST VALIDATION mAP: 0.2683304250240326\n",
      "\n",
      "SAVING BEST MODEL FOR EPOCH: 41\n",
      "\n",
      "SAVING PLOTS COMPLETE...\n",
      "Adjusting learning rate of group 0 to 1.0000e-06.\n",
      "\n",
      "EPOCH 42 of 100\n",
      "Training\n"
     ]
    },
    {
     "data": {
      "application/vnd.jupyter.widget-view+json": {
       "model_id": "7d1dc0edb9c24d04879927968e3ef5f3",
       "version_major": 2,
       "version_minor": 0
      },
      "text/plain": [
       "  0%|          | 0/94 [00:00<?, ?it/s]"
      ]
     },
     "metadata": {},
     "output_type": "display_data"
    },
    {
     "name": "stdout",
     "output_type": "stream",
     "text": [
      "Validating\n"
     ]
    },
    {
     "data": {
      "application/vnd.jupyter.widget-view+json": {
       "model_id": "674873c8db3249d3ab455955a01203e1",
       "version_major": 2,
       "version_minor": 0
      },
      "text/plain": [
       "  0%|          | 0/14 [00:00<?, ?it/s]"
      ]
     },
     "metadata": {},
     "output_type": "display_data"
    },
    {
     "name": "stdout",
     "output_type": "stream",
     "text": [
      "Epoch #42 train loss: 2.999\n",
      "Epoch #42 mAP: 0.2683519721031189\n",
      "Took 0.931 minutes for epoch 41\n",
      "\n",
      "BEST VALIDATION mAP: 0.2683519721031189\n",
      "\n",
      "SAVING BEST MODEL FOR EPOCH: 42\n",
      "\n",
      "SAVING PLOTS COMPLETE...\n",
      "Adjusting learning rate of group 0 to 1.0000e-06.\n",
      "\n",
      "EPOCH 43 of 100\n",
      "Training\n"
     ]
    },
    {
     "data": {
      "application/vnd.jupyter.widget-view+json": {
       "model_id": "4ec4039f515741e591788d1d04b421c5",
       "version_major": 2,
       "version_minor": 0
      },
      "text/plain": [
       "  0%|          | 0/94 [00:00<?, ?it/s]"
      ]
     },
     "metadata": {},
     "output_type": "display_data"
    },
    {
     "name": "stdout",
     "output_type": "stream",
     "text": [
      "Validating\n"
     ]
    },
    {
     "data": {
      "application/vnd.jupyter.widget-view+json": {
       "model_id": "360882df1bce4aa3bb36dbed20e0e73e",
       "version_major": 2,
       "version_minor": 0
      },
      "text/plain": [
       "  0%|          | 0/14 [00:00<?, ?it/s]"
      ]
     },
     "metadata": {},
     "output_type": "display_data"
    },
    {
     "name": "stdout",
     "output_type": "stream",
     "text": [
      "Epoch #43 train loss: 3.020\n",
      "Epoch #43 mAP: 0.2682887315750122\n",
      "Took 0.895 minutes for epoch 42\n",
      "SAVING PLOTS COMPLETE...\n",
      "Adjusting learning rate of group 0 to 1.0000e-06.\n",
      "\n",
      "EPOCH 44 of 100\n",
      "Training\n"
     ]
    },
    {
     "data": {
      "application/vnd.jupyter.widget-view+json": {
       "model_id": "0588c606709b42f292ae34381edb7704",
       "version_major": 2,
       "version_minor": 0
      },
      "text/plain": [
       "  0%|          | 0/94 [00:00<?, ?it/s]"
      ]
     },
     "metadata": {},
     "output_type": "display_data"
    },
    {
     "name": "stdout",
     "output_type": "stream",
     "text": [
      "Validating\n"
     ]
    },
    {
     "data": {
      "application/vnd.jupyter.widget-view+json": {
       "model_id": "4669cf097d64410cacc79850e7da7e57",
       "version_major": 2,
       "version_minor": 0
      },
      "text/plain": [
       "  0%|          | 0/14 [00:00<?, ?it/s]"
      ]
     },
     "metadata": {},
     "output_type": "display_data"
    },
    {
     "name": "stdout",
     "output_type": "stream",
     "text": [
      "Epoch #44 train loss: 3.014\n",
      "Epoch #44 mAP: 0.2683258354663849\n",
      "Took 0.909 minutes for epoch 43\n",
      "SAVING PLOTS COMPLETE...\n",
      "Adjusting learning rate of group 0 to 1.0000e-06.\n",
      "\n",
      "EPOCH 45 of 100\n",
      "Training\n"
     ]
    },
    {
     "data": {
      "application/vnd.jupyter.widget-view+json": {
       "model_id": "2debc6e38aa647cb92fa5fda18edd41f",
       "version_major": 2,
       "version_minor": 0
      },
      "text/plain": [
       "  0%|          | 0/94 [00:00<?, ?it/s]"
      ]
     },
     "metadata": {},
     "output_type": "display_data"
    },
    {
     "name": "stdout",
     "output_type": "stream",
     "text": [
      "Validating\n"
     ]
    },
    {
     "data": {
      "application/vnd.jupyter.widget-view+json": {
       "model_id": "f2cd6d74145a4f4bb3e90a90f1f53dc4",
       "version_major": 2,
       "version_minor": 0
      },
      "text/plain": [
       "  0%|          | 0/14 [00:00<?, ?it/s]"
      ]
     },
     "metadata": {},
     "output_type": "display_data"
    },
    {
     "name": "stdout",
     "output_type": "stream",
     "text": [
      "Epoch #45 train loss: 3.011\n",
      "Epoch #45 mAP: 0.2684342861175537\n",
      "Took 0.891 minutes for epoch 44\n",
      "\n",
      "BEST VALIDATION mAP: 0.2684342861175537\n",
      "\n",
      "SAVING BEST MODEL FOR EPOCH: 45\n",
      "\n",
      "SAVING PLOTS COMPLETE...\n",
      "Adjusting learning rate of group 0 to 1.0000e-07.\n",
      "\n",
      "EPOCH 46 of 100\n",
      "Training\n"
     ]
    },
    {
     "data": {
      "application/vnd.jupyter.widget-view+json": {
       "model_id": "de8103ab9cf7415e94f548fa0588c2ec",
       "version_major": 2,
       "version_minor": 0
      },
      "text/plain": [
       "  0%|          | 0/94 [00:00<?, ?it/s]"
      ]
     },
     "metadata": {},
     "output_type": "display_data"
    },
    {
     "name": "stdout",
     "output_type": "stream",
     "text": [
      "Validating\n"
     ]
    },
    {
     "data": {
      "application/vnd.jupyter.widget-view+json": {
       "model_id": "b68fe269f635495c9b0c2eed7d0b8921",
       "version_major": 2,
       "version_minor": 0
      },
      "text/plain": [
       "  0%|          | 0/14 [00:00<?, ?it/s]"
      ]
     },
     "metadata": {},
     "output_type": "display_data"
    },
    {
     "name": "stdout",
     "output_type": "stream",
     "text": [
      "Epoch #46 train loss: 3.011\n",
      "Epoch #46 mAP: 0.2684059739112854\n",
      "Took 0.895 minutes for epoch 45\n",
      "SAVING PLOTS COMPLETE...\n",
      "Adjusting learning rate of group 0 to 1.0000e-07.\n",
      "\n",
      "EPOCH 47 of 100\n",
      "Training\n"
     ]
    },
    {
     "data": {
      "application/vnd.jupyter.widget-view+json": {
       "model_id": "351bc90145a341a58992ad1441398cdf",
       "version_major": 2,
       "version_minor": 0
      },
      "text/plain": [
       "  0%|          | 0/94 [00:00<?, ?it/s]"
      ]
     },
     "metadata": {},
     "output_type": "display_data"
    },
    {
     "name": "stdout",
     "output_type": "stream",
     "text": [
      "Validating\n"
     ]
    },
    {
     "data": {
      "application/vnd.jupyter.widget-view+json": {
       "model_id": "7527219a54384c6697ab78d8d1371c20",
       "version_major": 2,
       "version_minor": 0
      },
      "text/plain": [
       "  0%|          | 0/14 [00:00<?, ?it/s]"
      ]
     },
     "metadata": {},
     "output_type": "display_data"
    },
    {
     "name": "stdout",
     "output_type": "stream",
     "text": [
      "Epoch #47 train loss: 3.009\n",
      "Epoch #47 mAP: 0.2683124840259552\n",
      "Took 0.889 minutes for epoch 46\n",
      "SAVING PLOTS COMPLETE...\n",
      "Adjusting learning rate of group 0 to 1.0000e-07.\n",
      "\n",
      "EPOCH 48 of 100\n",
      "Training\n"
     ]
    },
    {
     "data": {
      "application/vnd.jupyter.widget-view+json": {
       "model_id": "7548de3e51b8404e930fca7370bd9e13",
       "version_major": 2,
       "version_minor": 0
      },
      "text/plain": [
       "  0%|          | 0/94 [00:00<?, ?it/s]"
      ]
     },
     "metadata": {},
     "output_type": "display_data"
    },
    {
     "name": "stdout",
     "output_type": "stream",
     "text": [
      "Validating\n"
     ]
    },
    {
     "data": {
      "application/vnd.jupyter.widget-view+json": {
       "model_id": "07e37d9f272946c88dc3f30fedb57e5f",
       "version_major": 2,
       "version_minor": 0
      },
      "text/plain": [
       "  0%|          | 0/14 [00:00<?, ?it/s]"
      ]
     },
     "metadata": {},
     "output_type": "display_data"
    },
    {
     "name": "stdout",
     "output_type": "stream",
     "text": [
      "Epoch #48 train loss: 3.002\n",
      "Epoch #48 mAP: 0.2683514654636383\n",
      "Took 0.902 minutes for epoch 47\n",
      "SAVING PLOTS COMPLETE...\n",
      "Adjusting learning rate of group 0 to 1.0000e-07.\n",
      "\n",
      "EPOCH 49 of 100\n",
      "Training\n"
     ]
    },
    {
     "data": {
      "application/vnd.jupyter.widget-view+json": {
       "model_id": "85c2d38ecaf04d26b1bf9b4afc975bcf",
       "version_major": 2,
       "version_minor": 0
      },
      "text/plain": [
       "  0%|          | 0/94 [00:00<?, ?it/s]"
      ]
     },
     "metadata": {},
     "output_type": "display_data"
    },
    {
     "name": "stdout",
     "output_type": "stream",
     "text": [
      "Validating\n"
     ]
    },
    {
     "data": {
      "application/vnd.jupyter.widget-view+json": {
       "model_id": "825a7e16acc04563b2e78d54bf776726",
       "version_major": 2,
       "version_minor": 0
      },
      "text/plain": [
       "  0%|          | 0/14 [00:00<?, ?it/s]"
      ]
     },
     "metadata": {},
     "output_type": "display_data"
    },
    {
     "name": "stdout",
     "output_type": "stream",
     "text": [
      "Epoch #49 train loss: 3.006\n",
      "Epoch #49 mAP: 0.26834672689437866\n",
      "Took 0.899 minutes for epoch 48\n",
      "SAVING PLOTS COMPLETE...\n",
      "Adjusting learning rate of group 0 to 1.0000e-07.\n",
      "\n",
      "EPOCH 50 of 100\n",
      "Training\n"
     ]
    },
    {
     "data": {
      "application/vnd.jupyter.widget-view+json": {
       "model_id": "bd8c112a4d044fa7895ab6351750ebfb",
       "version_major": 2,
       "version_minor": 0
      },
      "text/plain": [
       "  0%|          | 0/94 [00:00<?, ?it/s]"
      ]
     },
     "metadata": {},
     "output_type": "display_data"
    },
    {
     "name": "stdout",
     "output_type": "stream",
     "text": [
      "Validating\n"
     ]
    },
    {
     "data": {
      "application/vnd.jupyter.widget-view+json": {
       "model_id": "e7ee996c40324056b8413595b93041fd",
       "version_major": 2,
       "version_minor": 0
      },
      "text/plain": [
       "  0%|          | 0/14 [00:00<?, ?it/s]"
      ]
     },
     "metadata": {},
     "output_type": "display_data"
    },
    {
     "name": "stdout",
     "output_type": "stream",
     "text": [
      "Epoch #50 train loss: 3.005\n",
      "Epoch #50 mAP: 0.2683456838130951\n",
      "Took 0.884 minutes for epoch 49\n",
      "SAVING PLOTS COMPLETE...\n",
      "Adjusting learning rate of group 0 to 1.0000e-07.\n",
      "\n",
      "EPOCH 51 of 100\n",
      "Training\n"
     ]
    },
    {
     "data": {
      "application/vnd.jupyter.widget-view+json": {
       "model_id": "46bc7b8a510549e7a04030cdb9d3ca7b",
       "version_major": 2,
       "version_minor": 0
      },
      "text/plain": [
       "  0%|          | 0/94 [00:00<?, ?it/s]"
      ]
     },
     "metadata": {},
     "output_type": "display_data"
    },
    {
     "name": "stdout",
     "output_type": "stream",
     "text": [
      "Validating\n"
     ]
    },
    {
     "data": {
      "application/vnd.jupyter.widget-view+json": {
       "model_id": "65cdcd68ed38418485e092818ff9fd11",
       "version_major": 2,
       "version_minor": 0
      },
      "text/plain": [
       "  0%|          | 0/14 [00:00<?, ?it/s]"
      ]
     },
     "metadata": {},
     "output_type": "display_data"
    },
    {
     "name": "stdout",
     "output_type": "stream",
     "text": [
      "Epoch #51 train loss: 3.008\n",
      "Epoch #51 mAP: 0.26834726333618164\n",
      "Took 0.881 minutes for epoch 50\n",
      "SAVING PLOTS COMPLETE...\n",
      "Adjusting learning rate of group 0 to 1.0000e-07.\n",
      "\n",
      "EPOCH 52 of 100\n",
      "Training\n"
     ]
    },
    {
     "data": {
      "application/vnd.jupyter.widget-view+json": {
       "model_id": "955c430a4c3d457aa74750eec2b494bf",
       "version_major": 2,
       "version_minor": 0
      },
      "text/plain": [
       "  0%|          | 0/94 [00:00<?, ?it/s]"
      ]
     },
     "metadata": {},
     "output_type": "display_data"
    },
    {
     "name": "stdout",
     "output_type": "stream",
     "text": [
      "Validating\n"
     ]
    },
    {
     "data": {
      "application/vnd.jupyter.widget-view+json": {
       "model_id": "ad12e8f7f2644ed18042bf35441301e3",
       "version_major": 2,
       "version_minor": 0
      },
      "text/plain": [
       "  0%|          | 0/14 [00:00<?, ?it/s]"
      ]
     },
     "metadata": {},
     "output_type": "display_data"
    },
    {
     "name": "stdout",
     "output_type": "stream",
     "text": [
      "Epoch #52 train loss: 3.013\n",
      "Epoch #52 mAP: 0.2683553993701935\n",
      "Took 0.883 minutes for epoch 51\n",
      "SAVING PLOTS COMPLETE...\n",
      "Adjusting learning rate of group 0 to 1.0000e-07.\n",
      "\n",
      "EPOCH 53 of 100\n",
      "Training\n"
     ]
    },
    {
     "data": {
      "application/vnd.jupyter.widget-view+json": {
       "model_id": "d956697de927402c8f979e6280cf9451",
       "version_major": 2,
       "version_minor": 0
      },
      "text/plain": [
       "  0%|          | 0/94 [00:00<?, ?it/s]"
      ]
     },
     "metadata": {},
     "output_type": "display_data"
    },
    {
     "name": "stdout",
     "output_type": "stream",
     "text": [
      "Validating\n"
     ]
    },
    {
     "data": {
      "application/vnd.jupyter.widget-view+json": {
       "model_id": "75125afd0e004fa4afff1ea0deeca75c",
       "version_major": 2,
       "version_minor": 0
      },
      "text/plain": [
       "  0%|          | 0/14 [00:00<?, ?it/s]"
      ]
     },
     "metadata": {},
     "output_type": "display_data"
    },
    {
     "name": "stdout",
     "output_type": "stream",
     "text": [
      "Epoch #53 train loss: 3.011\n",
      "Epoch #53 mAP: 0.26837506890296936\n",
      "Took 0.911 minutes for epoch 52\n",
      "SAVING PLOTS COMPLETE...\n",
      "Adjusting learning rate of group 0 to 1.0000e-07.\n",
      "\n",
      "EPOCH 54 of 100\n",
      "Training\n"
     ]
    },
    {
     "data": {
      "application/vnd.jupyter.widget-view+json": {
       "model_id": "ec9651859e4549c0acbe244752ff1fa8",
       "version_major": 2,
       "version_minor": 0
      },
      "text/plain": [
       "  0%|          | 0/94 [00:00<?, ?it/s]"
      ]
     },
     "metadata": {},
     "output_type": "display_data"
    },
    {
     "name": "stdout",
     "output_type": "stream",
     "text": [
      "Validating\n"
     ]
    },
    {
     "data": {
      "application/vnd.jupyter.widget-view+json": {
       "model_id": "3e496ba437a743e8a08b958b541565dd",
       "version_major": 2,
       "version_minor": 0
      },
      "text/plain": [
       "  0%|          | 0/14 [00:00<?, ?it/s]"
      ]
     },
     "metadata": {},
     "output_type": "display_data"
    },
    {
     "name": "stdout",
     "output_type": "stream",
     "text": [
      "Epoch #54 train loss: 3.004\n",
      "Epoch #54 mAP: 0.26835018396377563\n",
      "Took 0.884 minutes for epoch 53\n",
      "SAVING PLOTS COMPLETE...\n",
      "Adjusting learning rate of group 0 to 1.0000e-07.\n",
      "\n",
      "EPOCH 55 of 100\n",
      "Training\n"
     ]
    },
    {
     "data": {
      "application/vnd.jupyter.widget-view+json": {
       "model_id": "f30f7ed087594949aafb31327ac8f2a1",
       "version_major": 2,
       "version_minor": 0
      },
      "text/plain": [
       "  0%|          | 0/94 [00:00<?, ?it/s]"
      ]
     },
     "metadata": {},
     "output_type": "display_data"
    },
    {
     "name": "stdout",
     "output_type": "stream",
     "text": [
      "Validating\n"
     ]
    },
    {
     "data": {
      "application/vnd.jupyter.widget-view+json": {
       "model_id": "2e31d9d4ba5e425dbe89894ad689796d",
       "version_major": 2,
       "version_minor": 0
      },
      "text/plain": [
       "  0%|          | 0/14 [00:00<?, ?it/s]"
      ]
     },
     "metadata": {},
     "output_type": "display_data"
    },
    {
     "name": "stdout",
     "output_type": "stream",
     "text": [
      "Epoch #55 train loss: 3.007\n",
      "Epoch #55 mAP: 0.26836878061294556\n",
      "Took 0.879 minutes for epoch 54\n",
      "SAVING PLOTS COMPLETE...\n",
      "Adjusting learning rate of group 0 to 1.0000e-07.\n",
      "\n",
      "EPOCH 56 of 100\n",
      "Training\n"
     ]
    },
    {
     "data": {
      "application/vnd.jupyter.widget-view+json": {
       "model_id": "48c24dbb6ec74fae8b0ea7e9bed8a347",
       "version_major": 2,
       "version_minor": 0
      },
      "text/plain": [
       "  0%|          | 0/94 [00:00<?, ?it/s]"
      ]
     },
     "metadata": {},
     "output_type": "display_data"
    },
    {
     "name": "stdout",
     "output_type": "stream",
     "text": [
      "Validating\n"
     ]
    },
    {
     "data": {
      "application/vnd.jupyter.widget-view+json": {
       "model_id": "4f21ea9593eb49a3b35cab6747ff5e2d",
       "version_major": 2,
       "version_minor": 0
      },
      "text/plain": [
       "  0%|          | 0/14 [00:00<?, ?it/s]"
      ]
     },
     "metadata": {},
     "output_type": "display_data"
    },
    {
     "name": "stdout",
     "output_type": "stream",
     "text": [
      "Epoch #56 train loss: 2.997\n",
      "Epoch #56 mAP: 0.2683883309364319\n",
      "Took 0.877 minutes for epoch 55\n",
      "SAVING PLOTS COMPLETE...\n",
      "Adjusting learning rate of group 0 to 1.0000e-07.\n",
      "\n",
      "EPOCH 57 of 100\n",
      "Training\n"
     ]
    },
    {
     "data": {
      "application/vnd.jupyter.widget-view+json": {
       "model_id": "adcf5dbb6113460481e4eea3d11c28c7",
       "version_major": 2,
       "version_minor": 0
      },
      "text/plain": [
       "  0%|          | 0/94 [00:00<?, ?it/s]"
      ]
     },
     "metadata": {},
     "output_type": "display_data"
    },
    {
     "name": "stdout",
     "output_type": "stream",
     "text": [
      "Validating\n"
     ]
    },
    {
     "data": {
      "application/vnd.jupyter.widget-view+json": {
       "model_id": "86dbae31b1d644ceb5ff83c6d6f3aaaf",
       "version_major": 2,
       "version_minor": 0
      },
      "text/plain": [
       "  0%|          | 0/14 [00:00<?, ?it/s]"
      ]
     },
     "metadata": {},
     "output_type": "display_data"
    },
    {
     "name": "stdout",
     "output_type": "stream",
     "text": [
      "Epoch #57 train loss: 3.001\n",
      "Epoch #57 mAP: 0.268428236246109\n",
      "Took 0.885 minutes for epoch 56\n",
      "SAVING PLOTS COMPLETE...\n",
      "Adjusting learning rate of group 0 to 1.0000e-07.\n",
      "\n",
      "EPOCH 58 of 100\n",
      "Training\n"
     ]
    },
    {
     "data": {
      "application/vnd.jupyter.widget-view+json": {
       "model_id": "daa35fdd07204b34ad7dfde50d92b8bc",
       "version_major": 2,
       "version_minor": 0
      },
      "text/plain": [
       "  0%|          | 0/94 [00:00<?, ?it/s]"
      ]
     },
     "metadata": {},
     "output_type": "display_data"
    },
    {
     "name": "stdout",
     "output_type": "stream",
     "text": [
      "Validating\n"
     ]
    },
    {
     "data": {
      "application/vnd.jupyter.widget-view+json": {
       "model_id": "d8296288a21449ee9da05f481666fa03",
       "version_major": 2,
       "version_minor": 0
      },
      "text/plain": [
       "  0%|          | 0/14 [00:00<?, ?it/s]"
      ]
     },
     "metadata": {},
     "output_type": "display_data"
    },
    {
     "name": "stdout",
     "output_type": "stream",
     "text": [
      "Epoch #58 train loss: 3.007\n",
      "Epoch #58 mAP: 0.2684257924556732\n",
      "Took 0.880 minutes for epoch 57\n",
      "SAVING PLOTS COMPLETE...\n",
      "Adjusting learning rate of group 0 to 1.0000e-07.\n",
      "\n",
      "EPOCH 59 of 100\n",
      "Training\n"
     ]
    },
    {
     "data": {
      "application/vnd.jupyter.widget-view+json": {
       "model_id": "53e042f3f4d34959baa7e07b66d6767c",
       "version_major": 2,
       "version_minor": 0
      },
      "text/plain": [
       "  0%|          | 0/94 [00:00<?, ?it/s]"
      ]
     },
     "metadata": {},
     "output_type": "display_data"
    },
    {
     "name": "stdout",
     "output_type": "stream",
     "text": [
      "Validating\n"
     ]
    },
    {
     "data": {
      "application/vnd.jupyter.widget-view+json": {
       "model_id": "54660f4fd6eb445aa8d71f6bb2988f17",
       "version_major": 2,
       "version_minor": 0
      },
      "text/plain": [
       "  0%|          | 0/14 [00:00<?, ?it/s]"
      ]
     },
     "metadata": {},
     "output_type": "display_data"
    },
    {
     "name": "stdout",
     "output_type": "stream",
     "text": [
      "Epoch #59 train loss: 3.003\n",
      "Epoch #59 mAP: 0.2681969106197357\n",
      "Took 0.893 minutes for epoch 58\n",
      "SAVING PLOTS COMPLETE...\n",
      "Adjusting learning rate of group 0 to 1.0000e-07.\n",
      "\n",
      "EPOCH 60 of 100\n",
      "Training\n"
     ]
    },
    {
     "data": {
      "application/vnd.jupyter.widget-view+json": {
       "model_id": "aefc4a270e22463c9f868c6af2b39570",
       "version_major": 2,
       "version_minor": 0
      },
      "text/plain": [
       "  0%|          | 0/94 [00:00<?, ?it/s]"
      ]
     },
     "metadata": {},
     "output_type": "display_data"
    },
    {
     "name": "stdout",
     "output_type": "stream",
     "text": [
      "Validating\n"
     ]
    },
    {
     "data": {
      "application/vnd.jupyter.widget-view+json": {
       "model_id": "e04d5bb0ea4e447f9856c178f80d8687",
       "version_major": 2,
       "version_minor": 0
      },
      "text/plain": [
       "  0%|          | 0/14 [00:00<?, ?it/s]"
      ]
     },
     "metadata": {},
     "output_type": "display_data"
    },
    {
     "name": "stdout",
     "output_type": "stream",
     "text": [
      "Epoch #60 train loss: 3.002\n",
      "Epoch #60 mAP: 0.2683669328689575\n",
      "Took 0.886 minutes for epoch 59\n",
      "SAVING PLOTS COMPLETE...\n",
      "Adjusting learning rate of group 0 to 1.0000e-08.\n",
      "\n",
      "EPOCH 61 of 100\n",
      "Training\n"
     ]
    },
    {
     "data": {
      "application/vnd.jupyter.widget-view+json": {
       "model_id": "94ea1cd289764973841e6ed303662cb0",
       "version_major": 2,
       "version_minor": 0
      },
      "text/plain": [
       "  0%|          | 0/94 [00:00<?, ?it/s]"
      ]
     },
     "metadata": {},
     "output_type": "display_data"
    },
    {
     "name": "stdout",
     "output_type": "stream",
     "text": [
      "Validating\n"
     ]
    },
    {
     "data": {
      "application/vnd.jupyter.widget-view+json": {
       "model_id": "12d9f59f8e634bac8ea2a2fb241ae658",
       "version_major": 2,
       "version_minor": 0
      },
      "text/plain": [
       "  0%|          | 0/14 [00:00<?, ?it/s]"
      ]
     },
     "metadata": {},
     "output_type": "display_data"
    },
    {
     "name": "stdout",
     "output_type": "stream",
     "text": [
      "Epoch #61 train loss: 3.011\n",
      "Epoch #61 mAP: 0.2683667540550232\n",
      "Took 0.888 minutes for epoch 60\n",
      "SAVING PLOTS COMPLETE...\n",
      "Adjusting learning rate of group 0 to 1.0000e-08.\n",
      "\n",
      "EPOCH 62 of 100\n",
      "Training\n"
     ]
    },
    {
     "data": {
      "application/vnd.jupyter.widget-view+json": {
       "model_id": "22c7b922bb1f4fca99abe28550ab4ecd",
       "version_major": 2,
       "version_minor": 0
      },
      "text/plain": [
       "  0%|          | 0/94 [00:00<?, ?it/s]"
      ]
     },
     "metadata": {},
     "output_type": "display_data"
    },
    {
     "name": "stdout",
     "output_type": "stream",
     "text": [
      "Validating\n"
     ]
    },
    {
     "data": {
      "application/vnd.jupyter.widget-view+json": {
       "model_id": "26ac10d9fb3b41a3acd713c7f1c14114",
       "version_major": 2,
       "version_minor": 0
      },
      "text/plain": [
       "  0%|          | 0/14 [00:00<?, ?it/s]"
      ]
     },
     "metadata": {},
     "output_type": "display_data"
    },
    {
     "name": "stdout",
     "output_type": "stream",
     "text": [
      "Epoch #62 train loss: 3.001\n",
      "Epoch #62 mAP: 0.2683667540550232\n",
      "Took 0.886 minutes for epoch 61\n",
      "SAVING PLOTS COMPLETE...\n",
      "Adjusting learning rate of group 0 to 1.0000e-08.\n",
      "\n",
      "EPOCH 63 of 100\n",
      "Training\n"
     ]
    },
    {
     "data": {
      "application/vnd.jupyter.widget-view+json": {
       "model_id": "2ce76984ffc14d8d9d20b595bbb9b2fe",
       "version_major": 2,
       "version_minor": 0
      },
      "text/plain": [
       "  0%|          | 0/94 [00:00<?, ?it/s]"
      ]
     },
     "metadata": {},
     "output_type": "display_data"
    },
    {
     "name": "stdout",
     "output_type": "stream",
     "text": [
      "Validating\n"
     ]
    },
    {
     "data": {
      "application/vnd.jupyter.widget-view+json": {
       "model_id": "c0418a8be5a84ae081e3e0c8766776f0",
       "version_major": 2,
       "version_minor": 0
      },
      "text/plain": [
       "  0%|          | 0/14 [00:00<?, ?it/s]"
      ]
     },
     "metadata": {},
     "output_type": "display_data"
    },
    {
     "name": "stdout",
     "output_type": "stream",
     "text": [
      "Epoch #63 train loss: 3.012\n",
      "Epoch #63 mAP: 0.2683671712875366\n",
      "Took 0.885 minutes for epoch 62\n",
      "SAVING PLOTS COMPLETE...\n",
      "Adjusting learning rate of group 0 to 1.0000e-08.\n",
      "\n",
      "EPOCH 64 of 100\n",
      "Training\n"
     ]
    },
    {
     "data": {
      "application/vnd.jupyter.widget-view+json": {
       "model_id": "47cd6695d90a44b1ab1cb04fc7e8ba00",
       "version_major": 2,
       "version_minor": 0
      },
      "text/plain": [
       "  0%|          | 0/94 [00:00<?, ?it/s]"
      ]
     },
     "metadata": {},
     "output_type": "display_data"
    },
    {
     "name": "stdout",
     "output_type": "stream",
     "text": [
      "Validating\n"
     ]
    },
    {
     "data": {
      "application/vnd.jupyter.widget-view+json": {
       "model_id": "e41aa7de5f104777a26b6833aa4be9c9",
       "version_major": 2,
       "version_minor": 0
      },
      "text/plain": [
       "  0%|          | 0/14 [00:00<?, ?it/s]"
      ]
     },
     "metadata": {},
     "output_type": "display_data"
    },
    {
     "name": "stdout",
     "output_type": "stream",
     "text": [
      "Epoch #64 train loss: 3.010\n",
      "Epoch #64 mAP: 0.2683606445789337\n",
      "Took 0.926 minutes for epoch 63\n",
      "SAVING PLOTS COMPLETE...\n",
      "Adjusting learning rate of group 0 to 1.0000e-08.\n",
      "\n",
      "EPOCH 65 of 100\n",
      "Training\n"
     ]
    },
    {
     "data": {
      "application/vnd.jupyter.widget-view+json": {
       "model_id": "54cb6fb9cfc04426b1476f3fbbcd0d20",
       "version_major": 2,
       "version_minor": 0
      },
      "text/plain": [
       "  0%|          | 0/94 [00:00<?, ?it/s]"
      ]
     },
     "metadata": {},
     "output_type": "display_data"
    },
    {
     "name": "stdout",
     "output_type": "stream",
     "text": [
      "Validating\n"
     ]
    },
    {
     "data": {
      "application/vnd.jupyter.widget-view+json": {
       "model_id": "a3d75edf2b314b04a554415b6be7a0a6",
       "version_major": 2,
       "version_minor": 0
      },
      "text/plain": [
       "  0%|          | 0/14 [00:00<?, ?it/s]"
      ]
     },
     "metadata": {},
     "output_type": "display_data"
    },
    {
     "name": "stdout",
     "output_type": "stream",
     "text": [
      "Epoch #65 train loss: 3.007\n",
      "Epoch #65 mAP: 0.26836055517196655\n",
      "Took 0.885 minutes for epoch 64\n",
      "SAVING PLOTS COMPLETE...\n",
      "Adjusting learning rate of group 0 to 1.0000e-08.\n",
      "\n",
      "EPOCH 66 of 100\n",
      "Training\n"
     ]
    },
    {
     "data": {
      "application/vnd.jupyter.widget-view+json": {
       "model_id": "cea89c192d9b4a6b93272ce1adfbac79",
       "version_major": 2,
       "version_minor": 0
      },
      "text/plain": [
       "  0%|          | 0/94 [00:00<?, ?it/s]"
      ]
     },
     "metadata": {},
     "output_type": "display_data"
    },
    {
     "name": "stdout",
     "output_type": "stream",
     "text": [
      "Validating\n"
     ]
    },
    {
     "data": {
      "application/vnd.jupyter.widget-view+json": {
       "model_id": "b09ba5168698416c867af537d1a7cb9c",
       "version_major": 2,
       "version_minor": 0
      },
      "text/plain": [
       "  0%|          | 0/14 [00:00<?, ?it/s]"
      ]
     },
     "metadata": {},
     "output_type": "display_data"
    },
    {
     "name": "stdout",
     "output_type": "stream",
     "text": [
      "Epoch #66 train loss: 3.006\n",
      "Epoch #66 mAP: 0.2683664560317993\n",
      "Took 0.885 minutes for epoch 65\n",
      "SAVING PLOTS COMPLETE...\n",
      "Adjusting learning rate of group 0 to 1.0000e-08.\n",
      "\n",
      "EPOCH 67 of 100\n",
      "Training\n"
     ]
    },
    {
     "data": {
      "application/vnd.jupyter.widget-view+json": {
       "model_id": "7493bf6b09934871ba0e89cc7cae1431",
       "version_major": 2,
       "version_minor": 0
      },
      "text/plain": [
       "  0%|          | 0/94 [00:00<?, ?it/s]"
      ]
     },
     "metadata": {},
     "output_type": "display_data"
    },
    {
     "name": "stdout",
     "output_type": "stream",
     "text": [
      "Validating\n"
     ]
    },
    {
     "data": {
      "application/vnd.jupyter.widget-view+json": {
       "model_id": "16a33d9fdc5040ccb81c651e842f59ab",
       "version_major": 2,
       "version_minor": 0
      },
      "text/plain": [
       "  0%|          | 0/14 [00:00<?, ?it/s]"
      ]
     },
     "metadata": {},
     "output_type": "display_data"
    },
    {
     "name": "stdout",
     "output_type": "stream",
     "text": [
      "Epoch #67 train loss: 3.011\n",
      "Epoch #67 mAP: 0.26836705207824707\n",
      "Took 0.866 minutes for epoch 66\n",
      "SAVING PLOTS COMPLETE...\n",
      "Adjusting learning rate of group 0 to 1.0000e-08.\n",
      "\n",
      "EPOCH 68 of 100\n",
      "Training\n"
     ]
    },
    {
     "data": {
      "application/vnd.jupyter.widget-view+json": {
       "model_id": "434703a5725e4cb09bd76de380fa2148",
       "version_major": 2,
       "version_minor": 0
      },
      "text/plain": [
       "  0%|          | 0/94 [00:00<?, ?it/s]"
      ]
     },
     "metadata": {},
     "output_type": "display_data"
    },
    {
     "name": "stdout",
     "output_type": "stream",
     "text": [
      "Validating\n"
     ]
    },
    {
     "data": {
      "application/vnd.jupyter.widget-view+json": {
       "model_id": "8509ea0be7714226bbbbde2fdf5dda43",
       "version_major": 2,
       "version_minor": 0
      },
      "text/plain": [
       "  0%|          | 0/14 [00:00<?, ?it/s]"
      ]
     },
     "metadata": {},
     "output_type": "display_data"
    },
    {
     "name": "stdout",
     "output_type": "stream",
     "text": [
      "Epoch #68 train loss: 3.010\n",
      "Epoch #68 mAP: 0.2683640420436859\n",
      "Took 0.853 minutes for epoch 67\n",
      "SAVING PLOTS COMPLETE...\n",
      "Adjusting learning rate of group 0 to 1.0000e-08.\n",
      "\n",
      "EPOCH 69 of 100\n",
      "Training\n"
     ]
    },
    {
     "data": {
      "application/vnd.jupyter.widget-view+json": {
       "model_id": "34f4215842df498588fff8a8ef08eb10",
       "version_major": 2,
       "version_minor": 0
      },
      "text/plain": [
       "  0%|          | 0/94 [00:00<?, ?it/s]"
      ]
     },
     "metadata": {},
     "output_type": "display_data"
    },
    {
     "name": "stdout",
     "output_type": "stream",
     "text": [
      "Validating\n"
     ]
    },
    {
     "data": {
      "application/vnd.jupyter.widget-view+json": {
       "model_id": "f0a7618acd3d4e8ba4c8fa5b8bbe3515",
       "version_major": 2,
       "version_minor": 0
      },
      "text/plain": [
       "  0%|          | 0/14 [00:00<?, ?it/s]"
      ]
     },
     "metadata": {},
     "output_type": "display_data"
    },
    {
     "name": "stdout",
     "output_type": "stream",
     "text": [
      "Epoch #69 train loss: 3.005\n",
      "Epoch #69 mAP: 0.26836854219436646\n",
      "Took 0.882 minutes for epoch 68\n",
      "SAVING PLOTS COMPLETE...\n",
      "Adjusting learning rate of group 0 to 1.0000e-08.\n",
      "\n",
      "EPOCH 70 of 100\n",
      "Training\n"
     ]
    },
    {
     "data": {
      "application/vnd.jupyter.widget-view+json": {
       "model_id": "a80b0f3fb2084e65acb2f6b06df47bf8",
       "version_major": 2,
       "version_minor": 0
      },
      "text/plain": [
       "  0%|          | 0/94 [00:00<?, ?it/s]"
      ]
     },
     "metadata": {},
     "output_type": "display_data"
    },
    {
     "name": "stdout",
     "output_type": "stream",
     "text": [
      "Validating\n"
     ]
    },
    {
     "data": {
      "application/vnd.jupyter.widget-view+json": {
       "model_id": "de8fcd8d1f7e47ebbbccf78e2f3c6eb1",
       "version_major": 2,
       "version_minor": 0
      },
      "text/plain": [
       "  0%|          | 0/14 [00:00<?, ?it/s]"
      ]
     },
     "metadata": {},
     "output_type": "display_data"
    },
    {
     "name": "stdout",
     "output_type": "stream",
     "text": [
      "Epoch #70 train loss: 3.002\n",
      "Epoch #70 mAP: 0.2683689296245575\n",
      "Took 0.889 minutes for epoch 69\n",
      "SAVING PLOTS COMPLETE...\n",
      "Adjusting learning rate of group 0 to 1.0000e-08.\n",
      "\n",
      "EPOCH 71 of 100\n",
      "Training\n"
     ]
    },
    {
     "data": {
      "application/vnd.jupyter.widget-view+json": {
       "model_id": "7b2a77ba228b4524b95a662d9d98d7c4",
       "version_major": 2,
       "version_minor": 0
      },
      "text/plain": [
       "  0%|          | 0/94 [00:00<?, ?it/s]"
      ]
     },
     "metadata": {},
     "output_type": "display_data"
    },
    {
     "name": "stdout",
     "output_type": "stream",
     "text": [
      "Validating\n"
     ]
    },
    {
     "data": {
      "application/vnd.jupyter.widget-view+json": {
       "model_id": "5aaa2618df0f4cdabfcd0c6f917c095a",
       "version_major": 2,
       "version_minor": 0
      },
      "text/plain": [
       "  0%|          | 0/14 [00:00<?, ?it/s]"
      ]
     },
     "metadata": {},
     "output_type": "display_data"
    },
    {
     "name": "stdout",
     "output_type": "stream",
     "text": [
      "Epoch #71 train loss: 3.007\n",
      "Epoch #71 mAP: 0.2683689296245575\n",
      "Took 0.867 minutes for epoch 70\n",
      "SAVING PLOTS COMPLETE...\n",
      "Adjusting learning rate of group 0 to 1.0000e-08.\n",
      "\n",
      "EPOCH 72 of 100\n",
      "Training\n"
     ]
    },
    {
     "data": {
      "application/vnd.jupyter.widget-view+json": {
       "model_id": "ad228fa75dc5478f80870a38ef9c26bb",
       "version_major": 2,
       "version_minor": 0
      },
      "text/plain": [
       "  0%|          | 0/94 [00:00<?, ?it/s]"
      ]
     },
     "metadata": {},
     "output_type": "display_data"
    },
    {
     "name": "stdout",
     "output_type": "stream",
     "text": [
      "Validating\n"
     ]
    },
    {
     "data": {
      "application/vnd.jupyter.widget-view+json": {
       "model_id": "b974f8b051ec4158a81b61985f9efa44",
       "version_major": 2,
       "version_minor": 0
      },
      "text/plain": [
       "  0%|          | 0/14 [00:00<?, ?it/s]"
      ]
     },
     "metadata": {},
     "output_type": "display_data"
    },
    {
     "name": "stdout",
     "output_type": "stream",
     "text": [
      "Epoch #72 train loss: 3.009\n",
      "Epoch #72 mAP: 0.2683689296245575\n",
      "Took 0.865 minutes for epoch 71\n",
      "SAVING PLOTS COMPLETE...\n",
      "Adjusting learning rate of group 0 to 1.0000e-08.\n",
      "\n",
      "EPOCH 73 of 100\n",
      "Training\n"
     ]
    },
    {
     "data": {
      "application/vnd.jupyter.widget-view+json": {
       "model_id": "8f58ec0be74b45238f4aae83ae69684d",
       "version_major": 2,
       "version_minor": 0
      },
      "text/plain": [
       "  0%|          | 0/94 [00:00<?, ?it/s]"
      ]
     },
     "metadata": {},
     "output_type": "display_data"
    },
    {
     "name": "stdout",
     "output_type": "stream",
     "text": [
      "Validating\n"
     ]
    },
    {
     "data": {
      "application/vnd.jupyter.widget-view+json": {
       "model_id": "c6cfa4f772004b78828ace2461a595eb",
       "version_major": 2,
       "version_minor": 0
      },
      "text/plain": [
       "  0%|          | 0/14 [00:00<?, ?it/s]"
      ]
     },
     "metadata": {},
     "output_type": "display_data"
    },
    {
     "name": "stdout",
     "output_type": "stream",
     "text": [
      "Epoch #73 train loss: 3.009\n",
      "Epoch #73 mAP: 0.26836901903152466\n",
      "Took 0.885 minutes for epoch 72\n",
      "SAVING PLOTS COMPLETE...\n",
      "Adjusting learning rate of group 0 to 1.0000e-08.\n",
      "\n",
      "EPOCH 74 of 100\n",
      "Training\n"
     ]
    },
    {
     "data": {
      "application/vnd.jupyter.widget-view+json": {
       "model_id": "285ad150be554beea1c98575dc096e45",
       "version_major": 2,
       "version_minor": 0
      },
      "text/plain": [
       "  0%|          | 0/94 [00:00<?, ?it/s]"
      ]
     },
     "metadata": {},
     "output_type": "display_data"
    },
    {
     "name": "stdout",
     "output_type": "stream",
     "text": [
      "Validating\n"
     ]
    },
    {
     "data": {
      "application/vnd.jupyter.widget-view+json": {
       "model_id": "f732029e3f994b8b95f60335a52afe40",
       "version_major": 2,
       "version_minor": 0
      },
      "text/plain": [
       "  0%|          | 0/14 [00:00<?, ?it/s]"
      ]
     },
     "metadata": {},
     "output_type": "display_data"
    },
    {
     "name": "stdout",
     "output_type": "stream",
     "text": [
      "Epoch #74 train loss: 2.999\n",
      "Epoch #74 mAP: 0.2683681845664978\n",
      "Took 0.882 minutes for epoch 73\n",
      "SAVING PLOTS COMPLETE...\n",
      "Adjusting learning rate of group 0 to 1.0000e-08.\n",
      "\n",
      "EPOCH 75 of 100\n",
      "Training\n"
     ]
    },
    {
     "data": {
      "application/vnd.jupyter.widget-view+json": {
       "model_id": "ef22ff4ddbb24a72822d0635e4a1de28",
       "version_major": 2,
       "version_minor": 0
      },
      "text/plain": [
       "  0%|          | 0/94 [00:00<?, ?it/s]"
      ]
     },
     "metadata": {},
     "output_type": "display_data"
    },
    {
     "name": "stdout",
     "output_type": "stream",
     "text": [
      "Validating\n"
     ]
    },
    {
     "data": {
      "application/vnd.jupyter.widget-view+json": {
       "model_id": "18156af7364e4d12a263653de6ee5b95",
       "version_major": 2,
       "version_minor": 0
      },
      "text/plain": [
       "  0%|          | 0/14 [00:00<?, ?it/s]"
      ]
     },
     "metadata": {},
     "output_type": "display_data"
    },
    {
     "name": "stdout",
     "output_type": "stream",
     "text": [
      "Epoch #75 train loss: 3.015\n",
      "Epoch #75 mAP: 0.2683696448802948\n",
      "Took 0.907 minutes for epoch 74\n",
      "SAVING PLOTS COMPLETE...\n",
      "Adjusting learning rate of group 0 to 1.0000e-09.\n",
      "\n",
      "EPOCH 76 of 100\n",
      "Training\n"
     ]
    },
    {
     "data": {
      "application/vnd.jupyter.widget-view+json": {
       "model_id": "c6b5d5fa2c7e4672875bc383a523fbd4",
       "version_major": 2,
       "version_minor": 0
      },
      "text/plain": [
       "  0%|          | 0/94 [00:00<?, ?it/s]"
      ]
     },
     "metadata": {},
     "output_type": "display_data"
    },
    {
     "name": "stdout",
     "output_type": "stream",
     "text": [
      "Validating\n"
     ]
    },
    {
     "data": {
      "application/vnd.jupyter.widget-view+json": {
       "model_id": "64594c9e4aed4efbb764be3facbc451e",
       "version_major": 2,
       "version_minor": 0
      },
      "text/plain": [
       "  0%|          | 0/14 [00:00<?, ?it/s]"
      ]
     },
     "metadata": {},
     "output_type": "display_data"
    },
    {
     "name": "stdout",
     "output_type": "stream",
     "text": [
      "Epoch #76 train loss: 3.009\n",
      "Epoch #76 mAP: 0.2683696448802948\n",
      "Took 0.879 minutes for epoch 75\n",
      "SAVING PLOTS COMPLETE...\n",
      "Adjusting learning rate of group 0 to 1.0000e-09.\n",
      "\n",
      "EPOCH 77 of 100\n",
      "Training\n"
     ]
    },
    {
     "data": {
      "application/vnd.jupyter.widget-view+json": {
       "model_id": "3f91de3c97aa4c7e94ba3f6a496504f1",
       "version_major": 2,
       "version_minor": 0
      },
      "text/plain": [
       "  0%|          | 0/94 [00:00<?, ?it/s]"
      ]
     },
     "metadata": {},
     "output_type": "display_data"
    },
    {
     "name": "stdout",
     "output_type": "stream",
     "text": [
      "Validating\n"
     ]
    },
    {
     "data": {
      "application/vnd.jupyter.widget-view+json": {
       "model_id": "b90be5a150194bc1a170f31de5f0854b",
       "version_major": 2,
       "version_minor": 0
      },
      "text/plain": [
       "  0%|          | 0/14 [00:00<?, ?it/s]"
      ]
     },
     "metadata": {},
     "output_type": "display_data"
    },
    {
     "name": "stdout",
     "output_type": "stream",
     "text": [
      "Epoch #77 train loss: 3.007\n",
      "Epoch #77 mAP: 0.2683696448802948\n",
      "Took 0.875 minutes for epoch 76\n",
      "SAVING PLOTS COMPLETE...\n",
      "Adjusting learning rate of group 0 to 1.0000e-09.\n",
      "\n",
      "EPOCH 78 of 100\n",
      "Training\n"
     ]
    },
    {
     "data": {
      "application/vnd.jupyter.widget-view+json": {
       "model_id": "66fb02dcceb446d5a3866b30d031527d",
       "version_major": 2,
       "version_minor": 0
      },
      "text/plain": [
       "  0%|          | 0/94 [00:00<?, ?it/s]"
      ]
     },
     "metadata": {},
     "output_type": "display_data"
    },
    {
     "name": "stdout",
     "output_type": "stream",
     "text": [
      "Validating\n"
     ]
    },
    {
     "data": {
      "application/vnd.jupyter.widget-view+json": {
       "model_id": "05cf72bd66f74a109b01e7a501d6ab67",
       "version_major": 2,
       "version_minor": 0
      },
      "text/plain": [
       "  0%|          | 0/14 [00:00<?, ?it/s]"
      ]
     },
     "metadata": {},
     "output_type": "display_data"
    },
    {
     "name": "stdout",
     "output_type": "stream",
     "text": [
      "Epoch #78 train loss: 3.010\n",
      "Epoch #78 mAP: 0.2683698832988739\n",
      "Took 0.870 minutes for epoch 77\n",
      "SAVING PLOTS COMPLETE...\n",
      "Adjusting learning rate of group 0 to 1.0000e-09.\n",
      "\n",
      "EPOCH 79 of 100\n",
      "Training\n"
     ]
    },
    {
     "data": {
      "application/vnd.jupyter.widget-view+json": {
       "model_id": "16752ac5a1f64a188191f3c90f33cf4f",
       "version_major": 2,
       "version_minor": 0
      },
      "text/plain": [
       "  0%|          | 0/94 [00:00<?, ?it/s]"
      ]
     },
     "metadata": {},
     "output_type": "display_data"
    },
    {
     "name": "stdout",
     "output_type": "stream",
     "text": [
      "Validating\n"
     ]
    },
    {
     "data": {
      "application/vnd.jupyter.widget-view+json": {
       "model_id": "c8d7ce70903a487b8a31c594b7b491d0",
       "version_major": 2,
       "version_minor": 0
      },
      "text/plain": [
       "  0%|          | 0/14 [00:00<?, ?it/s]"
      ]
     },
     "metadata": {},
     "output_type": "display_data"
    },
    {
     "name": "stdout",
     "output_type": "stream",
     "text": [
      "Epoch #79 train loss: 3.004\n",
      "Epoch #79 mAP: 0.2683696448802948\n",
      "Took 0.877 minutes for epoch 78\n",
      "SAVING PLOTS COMPLETE...\n",
      "Adjusting learning rate of group 0 to 1.0000e-09.\n",
      "\n",
      "EPOCH 80 of 100\n",
      "Training\n"
     ]
    },
    {
     "data": {
      "application/vnd.jupyter.widget-view+json": {
       "model_id": "da403266470949e183b023f0e1620468",
       "version_major": 2,
       "version_minor": 0
      },
      "text/plain": [
       "  0%|          | 0/94 [00:00<?, ?it/s]"
      ]
     },
     "metadata": {},
     "output_type": "display_data"
    },
    {
     "name": "stdout",
     "output_type": "stream",
     "text": [
      "Validating\n"
     ]
    },
    {
     "data": {
      "application/vnd.jupyter.widget-view+json": {
       "model_id": "536732c41d7c4d0d9e33970788c6363c",
       "version_major": 2,
       "version_minor": 0
      },
      "text/plain": [
       "  0%|          | 0/14 [00:00<?, ?it/s]"
      ]
     },
     "metadata": {},
     "output_type": "display_data"
    },
    {
     "name": "stdout",
     "output_type": "stream",
     "text": [
      "Epoch #80 train loss: 3.009\n",
      "Epoch #80 mAP: 0.2683696448802948\n",
      "Took 0.872 minutes for epoch 79\n",
      "SAVING PLOTS COMPLETE...\n",
      "Adjusting learning rate of group 0 to 1.0000e-09.\n",
      "\n",
      "EPOCH 81 of 100\n",
      "Training\n"
     ]
    },
    {
     "data": {
      "application/vnd.jupyter.widget-view+json": {
       "model_id": "699311f270544088ae142a7b0dc40f8b",
       "version_major": 2,
       "version_minor": 0
      },
      "text/plain": [
       "  0%|          | 0/94 [00:00<?, ?it/s]"
      ]
     },
     "metadata": {},
     "output_type": "display_data"
    },
    {
     "name": "stdout",
     "output_type": "stream",
     "text": [
      "Validating\n"
     ]
    },
    {
     "data": {
      "application/vnd.jupyter.widget-view+json": {
       "model_id": "0724c254a81847928d5a2a59e2557d74",
       "version_major": 2,
       "version_minor": 0
      },
      "text/plain": [
       "  0%|          | 0/14 [00:00<?, ?it/s]"
      ]
     },
     "metadata": {},
     "output_type": "display_data"
    },
    {
     "name": "stdout",
     "output_type": "stream",
     "text": [
      "Epoch #81 train loss: 3.017\n",
      "Epoch #81 mAP: 0.2683698832988739\n",
      "Took 0.885 minutes for epoch 80\n",
      "SAVING PLOTS COMPLETE...\n",
      "Adjusting learning rate of group 0 to 1.0000e-09.\n",
      "\n",
      "EPOCH 82 of 100\n",
      "Training\n"
     ]
    },
    {
     "data": {
      "application/vnd.jupyter.widget-view+json": {
       "model_id": "d15f9ba5443247b5bac1a2fdf4bd30f7",
       "version_major": 2,
       "version_minor": 0
      },
      "text/plain": [
       "  0%|          | 0/94 [00:00<?, ?it/s]"
      ]
     },
     "metadata": {},
     "output_type": "display_data"
    },
    {
     "name": "stdout",
     "output_type": "stream",
     "text": [
      "Validating\n"
     ]
    },
    {
     "data": {
      "application/vnd.jupyter.widget-view+json": {
       "model_id": "7132477cc7354164bae93883312bd8f9",
       "version_major": 2,
       "version_minor": 0
      },
      "text/plain": [
       "  0%|          | 0/14 [00:00<?, ?it/s]"
      ]
     },
     "metadata": {},
     "output_type": "display_data"
    },
    {
     "name": "stdout",
     "output_type": "stream",
     "text": [
      "Epoch #82 train loss: 3.010\n",
      "Epoch #82 mAP: 0.2683698832988739\n",
      "Took 0.877 minutes for epoch 81\n",
      "SAVING PLOTS COMPLETE...\n",
      "Adjusting learning rate of group 0 to 1.0000e-09.\n",
      "\n",
      "EPOCH 83 of 100\n",
      "Training\n"
     ]
    },
    {
     "data": {
      "application/vnd.jupyter.widget-view+json": {
       "model_id": "f27ea952df484668af2a42a5b85bdb34",
       "version_major": 2,
       "version_minor": 0
      },
      "text/plain": [
       "  0%|          | 0/94 [00:00<?, ?it/s]"
      ]
     },
     "metadata": {},
     "output_type": "display_data"
    },
    {
     "name": "stdout",
     "output_type": "stream",
     "text": [
      "Validating\n"
     ]
    },
    {
     "data": {
      "application/vnd.jupyter.widget-view+json": {
       "model_id": "ad21a93032784cefb00ceba1d7058deb",
       "version_major": 2,
       "version_minor": 0
      },
      "text/plain": [
       "  0%|          | 0/14 [00:00<?, ?it/s]"
      ]
     },
     "metadata": {},
     "output_type": "display_data"
    },
    {
     "name": "stdout",
     "output_type": "stream",
     "text": [
      "Epoch #83 train loss: 3.004\n",
      "Epoch #83 mAP: 0.2683698832988739\n",
      "Took 0.878 minutes for epoch 82\n",
      "SAVING PLOTS COMPLETE...\n",
      "Adjusting learning rate of group 0 to 1.0000e-09.\n",
      "\n",
      "EPOCH 84 of 100\n",
      "Training\n"
     ]
    },
    {
     "data": {
      "application/vnd.jupyter.widget-view+json": {
       "model_id": "2a28a14efe764236bef45b556a24440e",
       "version_major": 2,
       "version_minor": 0
      },
      "text/plain": [
       "  0%|          | 0/94 [00:00<?, ?it/s]"
      ]
     },
     "metadata": {},
     "output_type": "display_data"
    },
    {
     "name": "stdout",
     "output_type": "stream",
     "text": [
      "Validating\n"
     ]
    },
    {
     "data": {
      "application/vnd.jupyter.widget-view+json": {
       "model_id": "3e3d053f11c0404ca12a6ca26425da1e",
       "version_major": 2,
       "version_minor": 0
      },
      "text/plain": [
       "  0%|          | 0/14 [00:00<?, ?it/s]"
      ]
     },
     "metadata": {},
     "output_type": "display_data"
    },
    {
     "name": "stdout",
     "output_type": "stream",
     "text": [
      "Epoch #84 train loss: 3.013\n",
      "Epoch #84 mAP: 0.2683698832988739\n",
      "Took 0.877 minutes for epoch 83\n",
      "SAVING PLOTS COMPLETE...\n",
      "Adjusting learning rate of group 0 to 1.0000e-09.\n",
      "\n",
      "EPOCH 85 of 100\n",
      "Training\n"
     ]
    },
    {
     "data": {
      "application/vnd.jupyter.widget-view+json": {
       "model_id": "7d11c3b530e2467f928bbdbcbf0fbf47",
       "version_major": 2,
       "version_minor": 0
      },
      "text/plain": [
       "  0%|          | 0/94 [00:00<?, ?it/s]"
      ]
     },
     "metadata": {},
     "output_type": "display_data"
    },
    {
     "name": "stdout",
     "output_type": "stream",
     "text": [
      "Validating\n"
     ]
    },
    {
     "data": {
      "application/vnd.jupyter.widget-view+json": {
       "model_id": "e61502d305014ff1aa2bfbc18cdd133e",
       "version_major": 2,
       "version_minor": 0
      },
      "text/plain": [
       "  0%|          | 0/14 [00:00<?, ?it/s]"
      ]
     },
     "metadata": {},
     "output_type": "display_data"
    },
    {
     "name": "stdout",
     "output_type": "stream",
     "text": [
      "Epoch #85 train loss: 3.010\n",
      "Epoch #85 mAP: 0.2683698832988739\n",
      "Took 0.883 minutes for epoch 84\n",
      "SAVING PLOTS COMPLETE...\n",
      "Adjusting learning rate of group 0 to 1.0000e-09.\n",
      "\n",
      "EPOCH 86 of 100\n",
      "Training\n"
     ]
    },
    {
     "data": {
      "application/vnd.jupyter.widget-view+json": {
       "model_id": "5cfe106e153c4837a38216ac038b6e0f",
       "version_major": 2,
       "version_minor": 0
      },
      "text/plain": [
       "  0%|          | 0/94 [00:00<?, ?it/s]"
      ]
     },
     "metadata": {},
     "output_type": "display_data"
    },
    {
     "name": "stdout",
     "output_type": "stream",
     "text": [
      "Validating\n"
     ]
    },
    {
     "data": {
      "application/vnd.jupyter.widget-view+json": {
       "model_id": "4bae3bf504004d51a0446b2813b15a4b",
       "version_major": 2,
       "version_minor": 0
      },
      "text/plain": [
       "  0%|          | 0/14 [00:00<?, ?it/s]"
      ]
     },
     "metadata": {},
     "output_type": "display_data"
    },
    {
     "name": "stdout",
     "output_type": "stream",
     "text": [
      "Epoch #86 train loss: 3.012\n",
      "Epoch #86 mAP: 0.2683698832988739\n",
      "Took 0.903 minutes for epoch 85\n",
      "SAVING PLOTS COMPLETE...\n",
      "Adjusting learning rate of group 0 to 1.0000e-09.\n",
      "\n",
      "EPOCH 87 of 100\n",
      "Training\n"
     ]
    },
    {
     "data": {
      "application/vnd.jupyter.widget-view+json": {
       "model_id": "91e5867468eb445e99662ee59c73d6e9",
       "version_major": 2,
       "version_minor": 0
      },
      "text/plain": [
       "  0%|          | 0/94 [00:00<?, ?it/s]"
      ]
     },
     "metadata": {},
     "output_type": "display_data"
    },
    {
     "name": "stdout",
     "output_type": "stream",
     "text": [
      "Validating\n"
     ]
    },
    {
     "data": {
      "application/vnd.jupyter.widget-view+json": {
       "model_id": "aa0cca48825248a7bca6ff57293423a6",
       "version_major": 2,
       "version_minor": 0
      },
      "text/plain": [
       "  0%|          | 0/14 [00:00<?, ?it/s]"
      ]
     },
     "metadata": {},
     "output_type": "display_data"
    },
    {
     "name": "stdout",
     "output_type": "stream",
     "text": [
      "Epoch #87 train loss: 3.012\n",
      "Epoch #87 mAP: 0.2683698832988739\n",
      "Took 0.823 minutes for epoch 86\n",
      "SAVING PLOTS COMPLETE...\n",
      "Adjusting learning rate of group 0 to 1.0000e-09.\n",
      "\n",
      "EPOCH 88 of 100\n",
      "Training\n"
     ]
    },
    {
     "data": {
      "application/vnd.jupyter.widget-view+json": {
       "model_id": "4cb6e8d0c317433d894541fb366ecaca",
       "version_major": 2,
       "version_minor": 0
      },
      "text/plain": [
       "  0%|          | 0/94 [00:00<?, ?it/s]"
      ]
     },
     "metadata": {},
     "output_type": "display_data"
    },
    {
     "name": "stdout",
     "output_type": "stream",
     "text": [
      "Validating\n"
     ]
    },
    {
     "data": {
      "application/vnd.jupyter.widget-view+json": {
       "model_id": "3fe5a69fede1437194c55539423b97d6",
       "version_major": 2,
       "version_minor": 0
      },
      "text/plain": [
       "  0%|          | 0/14 [00:00<?, ?it/s]"
      ]
     },
     "metadata": {},
     "output_type": "display_data"
    },
    {
     "name": "stdout",
     "output_type": "stream",
     "text": [
      "Epoch #88 train loss: 3.007\n",
      "Epoch #88 mAP: 0.2683698832988739\n",
      "Took 0.789 minutes for epoch 87\n",
      "SAVING PLOTS COMPLETE...\n",
      "Adjusting learning rate of group 0 to 1.0000e-09.\n",
      "\n",
      "EPOCH 89 of 100\n",
      "Training\n"
     ]
    },
    {
     "data": {
      "application/vnd.jupyter.widget-view+json": {
       "model_id": "2728957c27084006b2ca11b085a0fe78",
       "version_major": 2,
       "version_minor": 0
      },
      "text/plain": [
       "  0%|          | 0/94 [00:00<?, ?it/s]"
      ]
     },
     "metadata": {},
     "output_type": "display_data"
    },
    {
     "name": "stdout",
     "output_type": "stream",
     "text": [
      "Validating\n"
     ]
    },
    {
     "data": {
      "application/vnd.jupyter.widget-view+json": {
       "model_id": "7275d6bf78384ee2b56d6552eeeb0c55",
       "version_major": 2,
       "version_minor": 0
      },
      "text/plain": [
       "  0%|          | 0/14 [00:00<?, ?it/s]"
      ]
     },
     "metadata": {},
     "output_type": "display_data"
    },
    {
     "name": "stdout",
     "output_type": "stream",
     "text": [
      "Epoch #89 train loss: 3.009\n",
      "Epoch #89 mAP: 0.2683698832988739\n",
      "Took 0.782 minutes for epoch 88\n",
      "SAVING PLOTS COMPLETE...\n",
      "Adjusting learning rate of group 0 to 1.0000e-09.\n",
      "\n",
      "EPOCH 90 of 100\n",
      "Training\n"
     ]
    },
    {
     "data": {
      "application/vnd.jupyter.widget-view+json": {
       "model_id": "8395947620e545689740a7d9391039a8",
       "version_major": 2,
       "version_minor": 0
      },
      "text/plain": [
       "  0%|          | 0/94 [00:00<?, ?it/s]"
      ]
     },
     "metadata": {},
     "output_type": "display_data"
    },
    {
     "name": "stdout",
     "output_type": "stream",
     "text": [
      "Validating\n"
     ]
    },
    {
     "data": {
      "application/vnd.jupyter.widget-view+json": {
       "model_id": "b78d0f64bcda4e84bc57b7f9ead8be0f",
       "version_major": 2,
       "version_minor": 0
      },
      "text/plain": [
       "  0%|          | 0/14 [00:00<?, ?it/s]"
      ]
     },
     "metadata": {},
     "output_type": "display_data"
    },
    {
     "name": "stdout",
     "output_type": "stream",
     "text": [
      "Epoch #90 train loss: 3.007\n",
      "Epoch #90 mAP: 0.2683698832988739\n",
      "Took 0.786 minutes for epoch 89\n",
      "SAVING PLOTS COMPLETE...\n",
      "Adjusting learning rate of group 0 to 1.0000e-10.\n",
      "\n",
      "EPOCH 91 of 100\n",
      "Training\n"
     ]
    },
    {
     "data": {
      "application/vnd.jupyter.widget-view+json": {
       "model_id": "22b51e0225cc411cb9cbfab395d1a0b4",
       "version_major": 2,
       "version_minor": 0
      },
      "text/plain": [
       "  0%|          | 0/94 [00:00<?, ?it/s]"
      ]
     },
     "metadata": {},
     "output_type": "display_data"
    },
    {
     "name": "stdout",
     "output_type": "stream",
     "text": [
      "Validating\n"
     ]
    },
    {
     "data": {
      "application/vnd.jupyter.widget-view+json": {
       "model_id": "4ef416996d3b49efb9abc19d60396ad2",
       "version_major": 2,
       "version_minor": 0
      },
      "text/plain": [
       "  0%|          | 0/14 [00:00<?, ?it/s]"
      ]
     },
     "metadata": {},
     "output_type": "display_data"
    },
    {
     "name": "stdout",
     "output_type": "stream",
     "text": [
      "Epoch #91 train loss: 3.014\n",
      "Epoch #91 mAP: 0.2683698832988739\n",
      "Took 0.794 minutes for epoch 90\n",
      "SAVING PLOTS COMPLETE...\n",
      "Adjusting learning rate of group 0 to 1.0000e-10.\n",
      "\n",
      "EPOCH 92 of 100\n",
      "Training\n"
     ]
    },
    {
     "data": {
      "application/vnd.jupyter.widget-view+json": {
       "model_id": "7446c5e2c1bb45c9ab25d515585164d3",
       "version_major": 2,
       "version_minor": 0
      },
      "text/plain": [
       "  0%|          | 0/94 [00:00<?, ?it/s]"
      ]
     },
     "metadata": {},
     "output_type": "display_data"
    },
    {
     "name": "stdout",
     "output_type": "stream",
     "text": [
      "Validating\n"
     ]
    },
    {
     "data": {
      "application/vnd.jupyter.widget-view+json": {
       "model_id": "e13bd18574c848419ff67418feb9c770",
       "version_major": 2,
       "version_minor": 0
      },
      "text/plain": [
       "  0%|          | 0/14 [00:00<?, ?it/s]"
      ]
     },
     "metadata": {},
     "output_type": "display_data"
    },
    {
     "name": "stdout",
     "output_type": "stream",
     "text": [
      "Epoch #92 train loss: 3.014\n",
      "Epoch #92 mAP: 0.26836860179901123\n",
      "Took 0.787 minutes for epoch 91\n",
      "SAVING PLOTS COMPLETE...\n",
      "Adjusting learning rate of group 0 to 1.0000e-10.\n",
      "\n",
      "EPOCH 93 of 100\n",
      "Training\n"
     ]
    },
    {
     "data": {
      "application/vnd.jupyter.widget-view+json": {
       "model_id": "b01dacdc8fce4d9384d699fb2694e3f0",
       "version_major": 2,
       "version_minor": 0
      },
      "text/plain": [
       "  0%|          | 0/94 [00:00<?, ?it/s]"
      ]
     },
     "metadata": {},
     "output_type": "display_data"
    },
    {
     "name": "stdout",
     "output_type": "stream",
     "text": [
      "Validating\n"
     ]
    },
    {
     "data": {
      "application/vnd.jupyter.widget-view+json": {
       "model_id": "b9a8f1ca939346d980cfd7affd291579",
       "version_major": 2,
       "version_minor": 0
      },
      "text/plain": [
       "  0%|          | 0/14 [00:00<?, ?it/s]"
      ]
     },
     "metadata": {},
     "output_type": "display_data"
    },
    {
     "name": "stdout",
     "output_type": "stream",
     "text": [
      "Epoch #93 train loss: 3.000\n",
      "Epoch #93 mAP: 0.2683698832988739\n",
      "Took 0.789 minutes for epoch 92\n",
      "SAVING PLOTS COMPLETE...\n",
      "Adjusting learning rate of group 0 to 1.0000e-10.\n",
      "\n",
      "EPOCH 94 of 100\n",
      "Training\n"
     ]
    },
    {
     "data": {
      "application/vnd.jupyter.widget-view+json": {
       "model_id": "38b93786fb4d44ac92d4608314b0e0af",
       "version_major": 2,
       "version_minor": 0
      },
      "text/plain": [
       "  0%|          | 0/94 [00:00<?, ?it/s]"
      ]
     },
     "metadata": {},
     "output_type": "display_data"
    },
    {
     "name": "stdout",
     "output_type": "stream",
     "text": [
      "Validating\n"
     ]
    },
    {
     "data": {
      "application/vnd.jupyter.widget-view+json": {
       "model_id": "aea804d05fdb4d72ad6ade5038ab19d8",
       "version_major": 2,
       "version_minor": 0
      },
      "text/plain": [
       "  0%|          | 0/14 [00:00<?, ?it/s]"
      ]
     },
     "metadata": {},
     "output_type": "display_data"
    },
    {
     "name": "stdout",
     "output_type": "stream",
     "text": [
      "Epoch #94 train loss: 3.008\n",
      "Epoch #94 mAP: 0.2683698832988739\n",
      "Took 0.770 minutes for epoch 93\n",
      "SAVING PLOTS COMPLETE...\n",
      "Adjusting learning rate of group 0 to 1.0000e-10.\n",
      "\n",
      "EPOCH 95 of 100\n",
      "Training\n"
     ]
    },
    {
     "data": {
      "application/vnd.jupyter.widget-view+json": {
       "model_id": "9b14db90cf024d248bd46e0dd9e96208",
       "version_major": 2,
       "version_minor": 0
      },
      "text/plain": [
       "  0%|          | 0/94 [00:00<?, ?it/s]"
      ]
     },
     "metadata": {},
     "output_type": "display_data"
    },
    {
     "name": "stdout",
     "output_type": "stream",
     "text": [
      "Validating\n"
     ]
    },
    {
     "data": {
      "application/vnd.jupyter.widget-view+json": {
       "model_id": "eca1ce78e4664a09a98b97209c29623c",
       "version_major": 2,
       "version_minor": 0
      },
      "text/plain": [
       "  0%|          | 0/14 [00:00<?, ?it/s]"
      ]
     },
     "metadata": {},
     "output_type": "display_data"
    },
    {
     "name": "stdout",
     "output_type": "stream",
     "text": [
      "Epoch #95 train loss: 3.007\n",
      "Epoch #95 mAP: 0.2683698832988739\n",
      "Took 0.787 minutes for epoch 94\n",
      "SAVING PLOTS COMPLETE...\n",
      "Adjusting learning rate of group 0 to 1.0000e-10.\n",
      "\n",
      "EPOCH 96 of 100\n",
      "Training\n"
     ]
    },
    {
     "data": {
      "application/vnd.jupyter.widget-view+json": {
       "model_id": "7443bb459a4d48859f1a551c3ff8f90d",
       "version_major": 2,
       "version_minor": 0
      },
      "text/plain": [
       "  0%|          | 0/94 [00:00<?, ?it/s]"
      ]
     },
     "metadata": {},
     "output_type": "display_data"
    },
    {
     "name": "stdout",
     "output_type": "stream",
     "text": [
      "Validating\n"
     ]
    },
    {
     "data": {
      "application/vnd.jupyter.widget-view+json": {
       "model_id": "4a6cbde18c1147a19f5d55d7c7e4116a",
       "version_major": 2,
       "version_minor": 0
      },
      "text/plain": [
       "  0%|          | 0/14 [00:00<?, ?it/s]"
      ]
     },
     "metadata": {},
     "output_type": "display_data"
    },
    {
     "name": "stdout",
     "output_type": "stream",
     "text": [
      "Epoch #96 train loss: 3.004\n",
      "Epoch #96 mAP: 0.2683698832988739\n",
      "Took 0.787 minutes for epoch 95\n",
      "SAVING PLOTS COMPLETE...\n",
      "Adjusting learning rate of group 0 to 1.0000e-10.\n",
      "\n",
      "EPOCH 97 of 100\n",
      "Training\n"
     ]
    },
    {
     "data": {
      "application/vnd.jupyter.widget-view+json": {
       "model_id": "060e77eedda64cdb92185bd4f6562737",
       "version_major": 2,
       "version_minor": 0
      },
      "text/plain": [
       "  0%|          | 0/94 [00:00<?, ?it/s]"
      ]
     },
     "metadata": {},
     "output_type": "display_data"
    },
    {
     "name": "stdout",
     "output_type": "stream",
     "text": [
      "Validating\n"
     ]
    },
    {
     "data": {
      "application/vnd.jupyter.widget-view+json": {
       "model_id": "e6300e6f9c0c4e128a499c654779398a",
       "version_major": 2,
       "version_minor": 0
      },
      "text/plain": [
       "  0%|          | 0/14 [00:00<?, ?it/s]"
      ]
     },
     "metadata": {},
     "output_type": "display_data"
    },
    {
     "name": "stdout",
     "output_type": "stream",
     "text": [
      "Epoch #97 train loss: 3.010\n",
      "Epoch #97 mAP: 0.2683698832988739\n",
      "Took 0.782 minutes for epoch 96\n",
      "SAVING PLOTS COMPLETE...\n",
      "Adjusting learning rate of group 0 to 1.0000e-10.\n",
      "\n",
      "EPOCH 98 of 100\n",
      "Training\n"
     ]
    },
    {
     "data": {
      "application/vnd.jupyter.widget-view+json": {
       "model_id": "10da4423a4134b32ac8b4426cd2a51d1",
       "version_major": 2,
       "version_minor": 0
      },
      "text/plain": [
       "  0%|          | 0/94 [00:00<?, ?it/s]"
      ]
     },
     "metadata": {},
     "output_type": "display_data"
    },
    {
     "name": "stdout",
     "output_type": "stream",
     "text": [
      "Validating\n"
     ]
    },
    {
     "data": {
      "application/vnd.jupyter.widget-view+json": {
       "model_id": "35f195464ac34b2b93a7612710207ede",
       "version_major": 2,
       "version_minor": 0
      },
      "text/plain": [
       "  0%|          | 0/14 [00:00<?, ?it/s]"
      ]
     },
     "metadata": {},
     "output_type": "display_data"
    },
    {
     "name": "stdout",
     "output_type": "stream",
     "text": [
      "Epoch #98 train loss: 3.006\n",
      "Epoch #98 mAP: 0.2683698832988739\n",
      "Took 0.832 minutes for epoch 97\n",
      "SAVING PLOTS COMPLETE...\n",
      "Adjusting learning rate of group 0 to 1.0000e-10.\n",
      "\n",
      "EPOCH 99 of 100\n",
      "Training\n"
     ]
    },
    {
     "data": {
      "application/vnd.jupyter.widget-view+json": {
       "model_id": "b698b347195a4f77a2b623e063ce80a5",
       "version_major": 2,
       "version_minor": 0
      },
      "text/plain": [
       "  0%|          | 0/94 [00:00<?, ?it/s]"
      ]
     },
     "metadata": {},
     "output_type": "display_data"
    },
    {
     "name": "stdout",
     "output_type": "stream",
     "text": [
      "Validating\n"
     ]
    },
    {
     "data": {
      "application/vnd.jupyter.widget-view+json": {
       "model_id": "afe7bd6274904b6bb979ef9c8ebef1ff",
       "version_major": 2,
       "version_minor": 0
      },
      "text/plain": [
       "  0%|          | 0/14 [00:00<?, ?it/s]"
      ]
     },
     "metadata": {},
     "output_type": "display_data"
    },
    {
     "name": "stdout",
     "output_type": "stream",
     "text": [
      "Epoch #99 train loss: 3.007\n",
      "Epoch #99 mAP: 0.26836860179901123\n",
      "Took 0.778 minutes for epoch 98\n",
      "SAVING PLOTS COMPLETE...\n",
      "Adjusting learning rate of group 0 to 1.0000e-10.\n",
      "\n",
      "EPOCH 100 of 100\n",
      "Training\n"
     ]
    },
    {
     "data": {
      "application/vnd.jupyter.widget-view+json": {
       "model_id": "79f5c45a5d3046519975809bba35c758",
       "version_major": 2,
       "version_minor": 0
      },
      "text/plain": [
       "  0%|          | 0/94 [00:00<?, ?it/s]"
      ]
     },
     "metadata": {},
     "output_type": "display_data"
    },
    {
     "name": "stdout",
     "output_type": "stream",
     "text": [
      "Validating\n"
     ]
    },
    {
     "data": {
      "application/vnd.jupyter.widget-view+json": {
       "model_id": "ef37ecbc4b8d4fb3ad009b52d64981d2",
       "version_major": 2,
       "version_minor": 0
      },
      "text/plain": [
       "  0%|          | 0/14 [00:00<?, ?it/s]"
      ]
     },
     "metadata": {},
     "output_type": "display_data"
    },
    {
     "name": "stdout",
     "output_type": "stream",
     "text": [
      "Epoch #100 train loss: 3.008\n",
      "Epoch #100 mAP: 0.26836860179901123\n",
      "Took 0.781 minutes for epoch 99\n",
      "SAVING PLOTS COMPLETE...\n",
      "Adjusting learning rate of group 0 to 1.0000e-10.\n"
     ]
    },
    {
     "data": {
      "image/png": "[encoded data removed]",
      "text/plain": [
       "<Figure size 1000x700 with 1 Axes>"
      ]
     },
     "metadata": {},
     "output_type": "display_data"
    }
   ],
   "source": [
    "os.makedirs('outputs', exist_ok=True)\n",
    "train_dataset = create_train_dataset(TRAIN_DIR)\n",
    "valid_dataset = create_valid_dataset(VALID_DIR)\n",
    "train_loader = create_train_loader(train_dataset, NUM_WORKERS)\n",
    "valid_loader = create_valid_loader(valid_dataset, NUM_WORKERS)\n",
    "print(f\"Number of training samples: {len(train_dataset)}\")\n",
    "print(f\"Number of validation samples: {len(valid_dataset)}\\n\")\n",
    "\n",
    "# Initialize the model and move to the computation device.\n",
    "model = create_model(num_classes=NUM_CLASSES, size=RESIZE_TO, weights_path=WEIGHTS_PATH)\n",
    "model = model.to(DEVICE)\n",
    "# print(model)\n",
    "\n",
    "# Total parameters and trainable parameters.\n",
    "total_params = sum(p.numel() for p in model.parameters())\n",
    "print(f\"{total_params:,} total parameters.\")\n",
    "total_trainable_params = sum(\n",
    "    p.numel() for p in model.parameters() if p.requires_grad)\n",
    "print(f\"{total_trainable_params:,} training parameters.\")\n",
    "params = [p for p in model.parameters() if p.requires_grad]\n",
    "optimizer = torch.optim.SGD(params, lr=0.0001, momentum=0.9, nesterov=True)\n",
    "scheduler = StepLR(\n",
    "    optimizer=optimizer, step_size=15, gamma=0.1, verbose=True\n",
    ")\n",
    "\n",
    "# To monitor training loss\n",
    "train_loss_hist = Averager()\n",
    "# To store training loss and mAP values.\n",
    "train_loss_list = []\n",
    "map_50_list = []\n",
    "map_list = []\n",
    "\n",
    "# Mame to save the trained model with.\n",
    "MODEL_NAME = 'model'\n",
    "\n",
    "# Whether to show transformed images from data loader or not.\n",
    "if VISUALIZE_TRANSFORMED_IMAGES:\n",
    "    from custom_utils import show_tranformed_image\n",
    "    show_tranformed_image(train_loader)\n",
    "\n",
    "# To save best model.\n",
    "save_best_model = SaveBestModel()\n",
    "\n",
    "# Training loop.\n",
    "for epoch in range(NUM_EPOCHS):\n",
    "    print(f\"\\nEPOCH {epoch+1} of {NUM_EPOCHS}\")\n",
    "\n",
    "    # Reset the training loss histories for the current epoch.\n",
    "    train_loss_hist.reset()\n",
    "\n",
    "    # Start timer and carry out training and validation.\n",
    "    start = time.time()\n",
    "    train_loss = train(train_loader, model)\n",
    "    metric_summary = validate(valid_loader, model)\n",
    "    print(f\"Epoch #{epoch+1} train loss: {train_loss_hist.value:.3f}\")   \n",
    "    print(f\"Epoch #{epoch+1} mAP: {metric_summary['map']}\")   \n",
    "    end = time.time()\n",
    "    print(f\"Took {((end - start) / 60):.3f} minutes for epoch {epoch}\")\n",
    "\n",
    "    train_loss_list.append(train_loss)\n",
    "    map_50_list.append(metric_summary['map_50'])\n",
    "    map_list.append(metric_summary['map'])\n",
    "\n",
    "    # save the best model till now.\n",
    "    save_best_model(\n",
    "        model, float(metric_summary['map']), epoch, 'outputs'\n",
    "    )\n",
    "    # Save the current epoch model.\n",
    "    save_model(epoch, model, optimizer)\n",
    "\n",
    "    # Save loss plot.\n",
    "    save_loss_plot(OUT_DIR, train_loss_list)\n",
    "\n",
    "    # Save mAP plot.\n",
    "    save_mAP(OUT_DIR, map_50_list, map_list)\n",
    "    scheduler.step()"
   ]
  },
  {
   "cell_type": "markdown",
   "id": "77a113e0-807d-4656-ba0b-55665cc0eceb",
   "metadata": {},
   "source": [
    "# Model Evaluation"
   ]
  },
  {
   "cell_type": "code",
   "execution_count": 6,
   "id": "2df00948-3466-4184-bc28-3b31e48a8e6c",
   "metadata": {
    "tags": []
   },
   "outputs": [
    {
     "name": "stdout",
     "output_type": "stream",
     "text": [
      "Validating\n"
     ]
    },
    {
     "data": {
      "application/vnd.jupyter.widget-view+json": {
       "model_id": "e00bf4fdb9f94be08dc05f8d53aa3801",
       "version_major": 2,
       "version_minor": 0
      },
      "text/plain": [
       "  0%|          | 0/12 [00:00<?, ?it/s]"
      ]
     },
     "metadata": {},
     "output_type": "display_data"
    },
    {
     "name": "stdout",
     "output_type": "stream",
     "text": [
      "mAP_50: 65.223\n",
      "mAP_50_95: 25.701\n"
     ]
    }
   ],
   "source": [
    "model = create_model(num_classes=NUM_CLASSES, size=640, weights_path=WEIGHTS_PATH)\n",
    "checkpoint = torch.load('outputs/best_model.pth', map_location=DEVICE)\n",
    "model.load_state_dict(checkpoint['model_state_dict'])\n",
    "model.to(DEVICE).eval()\n",
    "\n",
    "test_dataset = create_valid_dataset(\n",
    "    '/home/jupyter/ee_tree_counting/Data/Combined Dataset XML No Aug/test'\n",
    ")\n",
    "test_loader = create_valid_loader(test_dataset, num_workers=NUM_WORKERS)\n",
    "\n",
    "metric_summary = validate(test_loader, model)\n",
    "print(f\"mAP_50: {metric_summary['map_50']*100:.3f}\")\n",
    "print(f\"mAP_50_95: {metric_summary['map']*100:.3f}\")"
   ]
  },
  {
   "cell_type": "markdown",
   "id": "108cdd9c-caa3-4389-b969-12dd13eb9ce9",
   "metadata": {},
   "source": [
    "# Exporting to CSV file format"
   ]
  },
  {
   "cell_type": "code",
   "execution_count": 21,
   "id": "16bd7ac6-7cc4-4fd8-b436-5e9d94512e71",
   "metadata": {
    "tags": []
   },
   "outputs": [
    {
     "data": {
      "text/plain": [
       "'outputs'"
      ]
     },
     "execution_count": 21,
     "metadata": {},
     "output_type": "execute_result"
    }
   ],
   "source": [
    "import pandas as pd\n",
    "\n",
    "# Create a dictionary with the data\n",
    "data = {\n",
    "    \"Epoch\": list(range(1, 101)),\n",
    "    \"Train Loss\": [\n",
    "        4.938, 4.075, 3.83, 3.696, 3.61, 3.531, 3.463, 3.412, 3.359, 3.322, 3.264, 3.22, 3.179, 3.136, 3.104, 3.063,\n",
    "        3.073, 3.057, 3.058, 3.058, 3.049, 3.041, 3.036, 3.03, 3.04, 3.034, 3.017, 3.03, 3.026, 3.014, 3.018, 3.014,\n",
    "        3.012, 3.017, 3.005, 3.008, 3.015, 3.009, 3.008, 3.003, 3.009, 2.999, 3.02, 3.014, 3.011, 3.007, 3.009, 3.006,\n",
    "        3.005, 3.008, 3.013, 3.011, 3.004, 3.007, 3.013, 3.012, 3.007, 3.007, 3.003, 3.002, 3.014, 3.014, 3.012, 3.01,\n",
    "        3.007, 3.009, 3.006, 3.004, 3.011, 3.001, 3.012, 3.01, 3.007, 3.015, 3.009, 3.004, 3.013, 3.007, 3.004, 3.01,\n",
    "        3.012, 3.007, 3.009, 3.009, 3.007, 3.017, 3.01, 3.004, 3.013, 3.007, 3.014, 3.009, 3.006, 3.007, 3.008, 3.01,\n",
    "        3.008, 3.007, 3.006, 3.008\n",
    "    ],\n",
    "    \"mAP\": [\n",
    "        0.0020383174996823072, 0.022861845791339874, 0.08308479189872742, 0.14638210833072662, 0.18756431341171265,\n",
    "        0.20833797752857208, 0.2192489504814148, 0.22915536165237427, 0.23228442668914795, 0.24335764348506927,\n",
    "        0.24488072097301483, 0.24967779219150543, 0.25477665662765503, 0.2594020962715149, 0.2659323215484619,\n",
    "        0.262830913066864, 0.26334813237190247, 0.26300138235092163, 0.2632383406162262, 0.2628127336502075,\n",
    "        0.2647073566913605, 0.2639809250831604, 0.2655472755432129, 0.2646346390247345, 0.2666299641132355,\n",
    "        0.2656112015247345, 0.2669174373149872, 0.26502883434295654, 0.2670244872570038, 0.26789408922195435,\n",
    "        0.2672414183616638, 0.26779478788375854, 0.2676714062690735, 0.26808544993400574, 0.2677479684352875,\n",
    "        0.2680380940437317, 0.26814815402030945, 0.2681480348110199, 0.2679618000984192, 0.2680222690105438,\n",
    "        0.2683304250240326, 0.2683519721031189, 0.2682887315750122, 0.2683258354663849, 0.2684342861175537,\n",
    "        0.2684059739112854, 0.2683124840259552, 0.2683514654636383, 0.26834672689437866, 0.2683456838130951,\n",
    "        0.26834726333618164, 0.2683553993701935, 0.26837506890296936, 0.26835018396377563, 0.26836878061294556,\n",
    "        0.2683883309364319, 0.268428236246109, 0.2684257924556732, 0.2681969106197357, 0.2683669328689575,\n",
    "        0.2683667540550232, 0.2683667540550232, 0.2683671712875366, 0.2683606445789337, 0.26836055517196655,\n",
    "        0.2683664560317993, 0.26836705207824707, 0.2683640420436859, 0.26836854219436646, 0.2683689296245575,\n",
    "        0.2683689296245575, 0.2683689296245575, 0.26836901903152466, 0.2683681845664978, 0.2683696448802948,\n",
    "        0.2683696448802948, 0.2683696448802948, 0.2683698832988739, 0.2683696448802948, 0.2683698832988739,\n",
    "        0.2683698832988739, 0.2683698832988739, 0.2683698832988739, 0.2683698832988739, 0.2683698832988739,\n",
    "        0.2683698832988739, 0.2683698832988739, 0.2683698832988739, 0.2683698832988739, 0.2683698832988739,\n",
    "        0.2683698832988739, 0.2683698832988739, 0.2683698832988739, 0.2683698832988739, 0.2683698832988739,\n",
    "        0.26836860179901123, 0.2683698832988739, 0.2683698832988739, 0.2683698832988739, 0.2683698832988739\n",
    "    ]\n",
    "}\n",
    "\n",
    "# Convert dictionary to DataFrame\n",
    "df = pd.DataFrame(data)\n",
    "\n",
    "# Save DataFrame to CSV\n",
    "\n",
    "df.to_csv('training_log_100eNoAug.csv', index=False)\n",
    "\n",
    "csv_file_path\n"
   ]
  },
  {
   "cell_type": "code",
   "execution_count": null,
   "id": "601e6672-c711-4a54-aa2f-3c11e1128726",
   "metadata": {},
   "outputs": [],
   "source": []
  }
 ],
 "metadata": {
  "environment": {
   "kernel": "python3",
   "name": "common-cu121.m122",
   "type": "gcloud",
   "uri": "us-docker.pkg.dev/deeplearning-platform-release/gcr.io/base-cu121:m122"
  },
  "kernelspec": {
   "display_name": "Python 3 (Local)",
   "language": "python",
   "name": "python3"
  },
  "language_info": {
   "codemirror_mode": {
    "name": "ipython",
    "version": 3
   },
   "file_extension": ".py",
   "mimetype": "text/x-python",
   "name": "python",
   "nbconvert_exporter": "python",
   "pygments_lexer": "ipython3",
   "version": "3.10.14"
  }
 },
 "nbformat": 4,
 "nbformat_minor": 5
}
