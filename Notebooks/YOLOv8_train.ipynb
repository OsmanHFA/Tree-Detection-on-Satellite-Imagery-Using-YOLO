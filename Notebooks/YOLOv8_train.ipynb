{
 "cells": [
  {
   "cell_type": "markdown",
   "id": "b21dbd1f-35bd-480d-b4f3-1a9c4328b960",
   "metadata": {},
   "source": [
    "# YOLOv8"
   ]
  },
  {
   "cell_type": "code",
   "execution_count": 2,
   "id": "777f5d45-b0df-4cdd-8f5d-a126cd54844a",
   "metadata": {
    "tags": []
   },
   "outputs": [],
   "source": [
    "import os\n",
    "import argparse\n",
    "import logging\n",
    "import matplotlib.pyplot as plt\n",
    "from ultralytics import YOLO\n",
    "from IPython.display import display, Image"
   ]
  },
  {
   "cell_type": "markdown",
   "id": "8ef66b86-fc17-48d8-a548-7c6a18554c31",
   "metadata": {},
   "source": [
    "## Download Images from Bucket"
   ]
  },
  {
   "cell_type": "code",
   "execution_count": null,
   "id": "2bd9ffaf-5f33-4c7b-8fa3-3fc63c822df0",
   "metadata": {
    "tags": []
   },
   "outputs": [],
   "source": [
    "import sys\n",
    "sys.path.append('../src')\n",
    "from data_utils import download_images_and_labels\n",
    "\n",
    "\n",
    "# Bucket and directory\n",
    "bucket_name = 'tree-counting-project'\n",
    "prefix = 'Dataset 348-17-15/' # using Roboflow dataset with 348 train, 17 val and 15 test images\n",
    "local_dir = '../Data/Dataset 348-17-15'\n",
    "\n",
    "# Download images\n",
    "download_images_and_labels(bucket_name, prefix, local_dir)"
   ]
  },
  {
   "cell_type": "markdown",
   "id": "8b34a76e-de9d-449f-91ae-33c0995896e8",
   "metadata": {},
   "source": [
    "## Installing YOLO"
   ]
  },
  {
   "cell_type": "code",
   "execution_count": 1,
   "id": "6e6d3651-3243-4f26-89f2-287010ca5e6d",
   "metadata": {
    "tags": []
   },
   "outputs": [
    {
     "name": "stderr",
     "output_type": "stream",
     "text": [
      "Ultralytics YOLOv8.0.196 🚀 Python-3.10.14 torch-2.3.1+cu121 CUDA:0 (Tesla T4, 14918MiB)\n",
      "Setup complete ✅ (1 CPUs, 3.6 GB RAM, 41.2/98.2 GB disk)\n"
     ]
    }
   ],
   "source": [
    "!pip install ultralytics==8.0.196\n",
    "\n",
    "from IPython import display\n",
    "display.clear_output()\n",
    "\n",
    "import ultralytics\n",
    "ultralytics.checks()"
   ]
  },
  {
   "cell_type": "markdown",
   "id": "57b0eba3-977d-45e0-96f0-ea04b626ac33",
   "metadata": {},
   "source": [
    "## Training"
   ]
  },
  {
   "cell_type": "code",
   "execution_count": 8,
   "id": "1070d651-d6dc-4a6d-9304-9dae36eaf5e3",
   "metadata": {
    "tags": []
   },
   "outputs": [],
   "source": [
    "# Function for logging\n",
    "def setup_logging(log_dir):\n",
    "    if not os.path.exists(log_dir):\n",
    "        os.makedirs(log_dir)\n",
    "    logging.basicConfig(filename=os.path.join(log_dir, 'log.txt'),\n",
    "                        filemode='a',\n",
    "                        format='%(message)s',\n",
    "                        level=logging.DEBUG)\n",
    "    logger = logging.getLogger()\n",
    "    return logger\n"
   ]
  },
  {
   "cell_type": "code",
   "execution_count": 13,
   "id": "7df208c9-86b7-4109-a76d-bace36f83192",
   "metadata": {
    "tags": []
   },
   "outputs": [],
   "source": [
    "# function to plot training and val loss curves\n",
    "def plot_metrics(log_dir, metrics):\n",
    "    epochs = range(len(metrics['train_loss']))\n",
    "    \n",
    "    plt.figure()\n",
    "    plt.plot(epochs, metrics['train_loss'], label='Train Loss')\n",
    "    plt.plot(epochs, metrics['val_loss'], label='Val Loss')\n",
    "    plt.title('Loss Curves')\n",
    "    plt.xlabel('Epochs')\n",
    "    plt.ylabel('Loss')\n",
    "    plt.legend()\n",
    "    plt.savefig(os.path.join(log_dir, 'loss_curve.png'))\n",
    "    plt.close()\n",
    "    \n",
    "    plt.figure()\n",
    "    plt.plot(epochs, metrics['train_map50'], label='Train mAP50')\n",
    "    plt.plot(epochs, metrics['val_map50'], label='Val mAP50')\n",
    "    plt.title('mAP50 Curves')\n",
    "    plt.xlabel('Epochs')\n",
    "    plt.ylabel('mAP50')\n",
    "    plt.legend()\n",
    "    plt.savefig(os.path.join(log_dir, 'map50_curve.png'))\n",
    "    plt.close()\n"
   ]
  },
  {
   "cell_type": "code",
   "execution_count": 9,
   "id": "88017ddf-7eeb-4de5-9dd9-852494f3d55b",
   "metadata": {
    "tags": []
   },
   "outputs": [],
   "source": [
    "def train_yolo(model_name, data_path, total_epochs, img_size, log_dir):\n",
    "    # Load model\n",
    "    model = YOLO(model_name)\n",
    "\n",
    "    # Initialize metrics dictionary\n",
    "    metrics = {'train_loss': [], 'val_loss': [], 'train_map50': [], 'val_map50': []}\n",
    "    \n",
    "    # Setup logging\n",
    "    logger = setup_logging(log_dir)\n",
    "\n",
    "    for epoch in range(total_epochs):\n",
    "        # Train model for one epoch\n",
    "        results = model.train(\n",
    "            data=os.path.join(data_path, 'data.yaml'),\n",
    "            epochs=1,\n",
    "            imgsz=img_size,\n",
    "            plots=False,\n",
    "            save=True\n",
    "        )\n",
    "        \n",
    "        # Extract metrics\n",
    "        train_loss = results.metrics['train']['loss'][0]  # assuming loss is stored in the first index\n",
    "        val_loss = results.metrics['val']['loss'][0]  # assuming loss is stored in the first index\n",
    "        train_map50 = results.metrics['train']['map50'][0]  # mAP at IoU=0.50 for training\n",
    "        val_map50 = results.metrics['val']['map50'][0]  # mAP at IoU=0.50 for validation\n",
    "        \n",
    "        # Store metrics\n",
    "        metrics['train_loss'].append(train_loss)\n",
    "        metrics['val_loss'].append(val_loss)\n",
    "        metrics['train_map50'].append(train_map50)\n",
    "        metrics['val_map50'].append(val_map50)\n",
    "\n",
    "        # Log metrics\n",
    "        log_entry = {\n",
    "            'epoch': epoch,\n",
    "            'train_loss': train_loss,\n",
    "            'val_loss': val_loss,\n",
    "            'train_map50': train_map50,\n",
    "            'val_map50': val_map50,\n",
    "            'n_parameters': model.model.n_params()\n",
    "        }\n",
    "        logger.info(json.dumps(log_entry))\n",
    "        \n",
    "        # Save checkpoint\n",
    "        model.save(f'{log_dir}/checkpoint_epoch_{epoch}.pt')\n",
    "\n",
    "    # Plot metrics\n",
    "    plot_metrics(log_dir, metrics)"
   ]
  },
  {
   "cell_type": "code",
   "execution_count": 15,
   "id": "09a82c4f-4a5b-43bd-be26-84c389c18c8f",
   "metadata": {
    "tags": []
   },
   "outputs": [],
   "source": [
    "# argument parsing\n",
    "def parse_args():\n",
    "    parser = argparse.ArgumentParser(description=\"Train YOLOv8 model.\")\n",
    "    parser.add_argument('--model', type=str, default='yolov8s.pt', help='Pre-trained model path')\n",
    "    parser.add_argument('--data', type=str, required=True, help='Path to dataset')\n",
    "    parser.add_argument('--epochs', type=int, default=25, help='Number of epochs to train')\n",
    "    parser.add_argument('--img_size', type=int, default=800, help='Image size for training')\n",
    "    parser.add_argument('--log_dir', type=str, default='./logs', help='Directory to save logs and plots')\n",
    "    return parser.parse_args()\n",
    "\n",
    "def parse_args_notebook():\n",
    "    args = argparse.Namespace(\n",
    "        model='yolov8s.pt',\n",
    "        data='/path/to/your/dataset',\n",
    "        epochs=25,\n",
    "        img_size=800,\n",
    "        log_dir='./logs'\n",
    "    )\n",
    "    return args\n"
   ]
  },
  {
   "cell_type": "code",
   "execution_count": 16,
   "id": "026efad4-1752-401c-900e-043d39801e6e",
   "metadata": {
    "tags": []
   },
   "outputs": [],
   "source": [
    "args = parse_args_notebook()\n",
    "\n",
    "# Put in arguments for training\n",
    "args.data = '/path/to/your/dataset'\n",
    "args.epochs = 30\n",
    "args.img_size = 640\n",
    "args.log_dir = './training_logs'\n"
   ]
  },
  {
   "cell_type": "code",
   "execution_count": null,
   "id": "728ee4fb-39c0-4a29-946a-b3565d9023be",
   "metadata": {},
   "outputs": [],
   "source": []
  }
 ],
 "metadata": {
  "environment": {
   "kernel": "python3",
   "name": "common-cu121.m122",
   "type": "gcloud",
   "uri": "us-docker.pkg.dev/deeplearning-platform-release/gcr.io/base-cu121:m122"
  },
  "kernelspec": {
   "display_name": "Python 3 (Local)",
   "language": "python",
   "name": "python3"
  },
  "language_info": {
   "codemirror_mode": {
    "name": "ipython",
    "version": 3
   },
   "file_extension": ".py",
   "mimetype": "text/x-python",
   "name": "python",
   "nbconvert_exporter": "python",
   "pygments_lexer": "ipython3",
   "version": "3.10.14"
  }
 },
 "nbformat": 4,
 "nbformat_minor": 5
}
