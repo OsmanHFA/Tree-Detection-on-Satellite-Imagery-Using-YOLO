{
 "cells": [
  {
   "cell_type": "markdown",
   "id": "40f5c3cc-1fce-43be-9901-0854df2186f3",
   "metadata": {},
   "source": [
    "# Train YOLOv8 with Data Augmentation"
   ]
  },
  {
   "cell_type": "code",
   "execution_count": 1,
   "id": "683231fa-c1b1-48e7-bbf3-188d09e976e0",
   "metadata": {
    "tags": []
   },
   "outputs": [],
   "source": [
    "import os\n",
    "import argparse\n",
    "import logging\n",
    "import matplotlib.pyplot as plt\n",
    "from ultralytics import YOLO\n",
    "from IPython.display import display, Image\n",
    "from PIL import Image\n",
    "import pandas as pd"
   ]
  },
  {
   "cell_type": "code",
   "execution_count": 2,
   "id": "baf6c4f8-d1d2-4b3e-80ac-4993babcdd88",
   "metadata": {
    "tags": []
   },
   "outputs": [],
   "source": [
    "\n",
    "def train_yolo(model_name, data_path, total_epochs, img_size, log_dir):\n",
    "    # Load model\n",
    "    model = YOLO(model_name)\n",
    "\n",
    "    # Initialize metrics dictionary\n",
    "    metrics = {'train_loss': [], 'val_loss': [], 'train_map50': [], 'val_map50': []}\n",
    "    \n",
    "    # Setup logging\n",
    "    logger = setup_logging(log_dir)\n",
    "\n",
    "    # Train model for all epochs\n",
    "    results = model.train(\n",
    "        data=data_path,\n",
    "        epochs=total_epochs,\n",
    "        imgsz=img_size,\n",
    "        save=True,\n",
    "        plots=True\n",
    "    )"
   ]
  },
  {
   "cell_type": "code",
   "execution_count": 4,
   "id": "247a52c0-6b81-4a91-9fb9-db8926bb23db",
   "metadata": {
    "tags": []
   },
   "outputs": [],
   "source": [
    "def parse_args():\n",
    "    parser = argparse.ArgumentParser(description=\"Train YOLOv8 model.\")\n",
    "    parser.add_argument('--model', type=str, default='yolov8s.pt', help='Pre-trained model path')\n",
    "    parser.add_argument('--data', type=str, required=True, help='Path to dataset')\n",
    "    parser.add_argument('--epochs', type=int, default=25, help='Number of epochs to train')\n",
    "    parser.add_argument('--img_size', type=int, default=800, help='Image size for training')\n",
    "    parser.add_argument('--log_dir', type=str, default='./logs', help='Directory to save logs and plots')\n",
    "    return parser.parse_args()\n",
    "\n",
    "def parse_args_notebook():\n",
    "    args = argparse.Namespace(\n",
    "        model='yolov8s.pt',\n",
    "        data='/home/jupyter/ee_tree_counting/Data/Dataset 348-17-15/data.yaml',\n",
    "        epochs=100,\n",
    "        img_size=640,\n",
    "        batch=16,\n",
    "        log_dir='./logs',\n",
    "        plots=True\n",
    "    )\n",
    "    return args"
   ]
  },
  {
   "cell_type": "markdown",
   "id": "476a2c63-f012-4094-a106-6ba2447f91ff",
   "metadata": {},
   "source": [
    "# Data Augmentation: Geometric Augmentation Mainly"
   ]
  },
  {
   "cell_type": "markdown",
   "id": "4388d3a6-4379-400a-a77d-7fbc94b640bb",
   "metadata": {},
   "source": [
    "### Plan: See if geometric augmentations improve anything, then build big dataset. Do augmentations and add that as further training. Then integrate annotated satellite images with seasonal augmentation, enhanced contrast etc."
   ]
  },
  {
   "cell_type": "code",
   "execution_count": null,
   "id": "98642371-7433-40f0-80d6-2a43db454159",
   "metadata": {},
   "outputs": [],
   "source": []
  },
  {
   "cell_type": "code",
   "execution_count": null,
   "id": "96997563-96a2-4e0d-b4c5-a38a0eaa76c2",
   "metadata": {},
   "outputs": [],
   "source": [
    "args = parse_args_notebook()\n",
    "train_yolo(args.model, args.data, args.epochs, args.img_size, args.log_dir)"
   ]
  }
 ],
 "metadata": {
  "environment": {
   "kernel": "python3",
   "name": "common-cu121.m122",
   "type": "gcloud",
   "uri": "us-docker.pkg.dev/deeplearning-platform-release/gcr.io/base-cu121:m122"
  },
  "kernelspec": {
   "display_name": "Python 3 (Local)",
   "language": "python",
   "name": "python3"
  },
  "language_info": {
   "codemirror_mode": {
    "name": "ipython",
    "version": 3
   },
   "file_extension": ".py",
   "mimetype": "text/x-python",
   "name": "python",
   "nbconvert_exporter": "python",
   "pygments_lexer": "ipython3",
   "version": "3.10.14"
  }
 },
 "nbformat": 4,
 "nbformat_minor": 5
}
